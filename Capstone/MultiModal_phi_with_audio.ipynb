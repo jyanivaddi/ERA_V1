{
  "nbformat": 4,
  "nbformat_minor": 0,
  "metadata": {
    "colab": {
      "provenance": [],
      "gpuType": "T4",
      "authorship_tag": "ABX9TyNM5ZKCTXH3kXFrNuvcXH++",
      "include_colab_link": true
    },
    "kernelspec": {
      "name": "python3",
      "display_name": "Python 3"
    },
    "language_info": {
      "name": "python"
    },
    "widgets": {
      "application/vnd.jupyter.widget-state+json": {
        "756f8342045c4ed6bc213d77bca86317": {
          "model_module": "@jupyter-widgets/controls",
          "model_name": "HBoxModel",
          "model_module_version": "1.5.0",
          "state": {
            "_dom_classes": [],
            "_model_module": "@jupyter-widgets/controls",
            "_model_module_version": "1.5.0",
            "_model_name": "HBoxModel",
            "_view_count": null,
            "_view_module": "@jupyter-widgets/controls",
            "_view_module_version": "1.5.0",
            "_view_name": "HBoxView",
            "box_style": "",
            "children": [
              "IPY_MODEL_b19d7e12c28247b89c3ad3aa955b5f9a",
              "IPY_MODEL_96a313075a9c4a26aeec95d815f2cd3d",
              "IPY_MODEL_c886f7719ab74e53897e0532bd7c3c9c"
            ],
            "layout": "IPY_MODEL_53aae7ff0e2f4fdaa6c069a527c26ffc"
          }
        },
        "b19d7e12c28247b89c3ad3aa955b5f9a": {
          "model_module": "@jupyter-widgets/controls",
          "model_name": "HTMLModel",
          "model_module_version": "1.5.0",
          "state": {
            "_dom_classes": [],
            "_model_module": "@jupyter-widgets/controls",
            "_model_module_version": "1.5.0",
            "_model_name": "HTMLModel",
            "_view_count": null,
            "_view_module": "@jupyter-widgets/controls",
            "_view_module_version": "1.5.0",
            "_view_name": "HTMLView",
            "description": "",
            "description_tooltip": null,
            "layout": "IPY_MODEL_991b6012bd7f48aa80d03e78321a0f07",
            "placeholder": "​",
            "style": "IPY_MODEL_cec3801d967741ba83ebfb0accfcea39",
            "value": "Loading checkpoint shards: 100%"
          }
        },
        "96a313075a9c4a26aeec95d815f2cd3d": {
          "model_module": "@jupyter-widgets/controls",
          "model_name": "FloatProgressModel",
          "model_module_version": "1.5.0",
          "state": {
            "_dom_classes": [],
            "_model_module": "@jupyter-widgets/controls",
            "_model_module_version": "1.5.0",
            "_model_name": "FloatProgressModel",
            "_view_count": null,
            "_view_module": "@jupyter-widgets/controls",
            "_view_module_version": "1.5.0",
            "_view_name": "ProgressView",
            "bar_style": "success",
            "description": "",
            "description_tooltip": null,
            "layout": "IPY_MODEL_66f6d73a7f3143549a0ac017946944ad",
            "max": 2,
            "min": 0,
            "orientation": "horizontal",
            "style": "IPY_MODEL_0b025c55dceb4b6497ea4f5208ed3284",
            "value": 2
          }
        },
        "c886f7719ab74e53897e0532bd7c3c9c": {
          "model_module": "@jupyter-widgets/controls",
          "model_name": "HTMLModel",
          "model_module_version": "1.5.0",
          "state": {
            "_dom_classes": [],
            "_model_module": "@jupyter-widgets/controls",
            "_model_module_version": "1.5.0",
            "_model_name": "HTMLModel",
            "_view_count": null,
            "_view_module": "@jupyter-widgets/controls",
            "_view_module_version": "1.5.0",
            "_view_name": "HTMLView",
            "description": "",
            "description_tooltip": null,
            "layout": "IPY_MODEL_5ae2846ce0ea4c3ab6da3dabde1769bd",
            "placeholder": "​",
            "style": "IPY_MODEL_b09d6189689b412b8d4bd8e7edfa73df",
            "value": " 2/2 [00:16&lt;00:00,  7.40s/it]"
          }
        },
        "53aae7ff0e2f4fdaa6c069a527c26ffc": {
          "model_module": "@jupyter-widgets/base",
          "model_name": "LayoutModel",
          "model_module_version": "1.2.0",
          "state": {
            "_model_module": "@jupyter-widgets/base",
            "_model_module_version": "1.2.0",
            "_model_name": "LayoutModel",
            "_view_count": null,
            "_view_module": "@jupyter-widgets/base",
            "_view_module_version": "1.2.0",
            "_view_name": "LayoutView",
            "align_content": null,
            "align_items": null,
            "align_self": null,
            "border": null,
            "bottom": null,
            "display": null,
            "flex": null,
            "flex_flow": null,
            "grid_area": null,
            "grid_auto_columns": null,
            "grid_auto_flow": null,
            "grid_auto_rows": null,
            "grid_column": null,
            "grid_gap": null,
            "grid_row": null,
            "grid_template_areas": null,
            "grid_template_columns": null,
            "grid_template_rows": null,
            "height": null,
            "justify_content": null,
            "justify_items": null,
            "left": null,
            "margin": null,
            "max_height": null,
            "max_width": null,
            "min_height": null,
            "min_width": null,
            "object_fit": null,
            "object_position": null,
            "order": null,
            "overflow": null,
            "overflow_x": null,
            "overflow_y": null,
            "padding": null,
            "right": null,
            "top": null,
            "visibility": null,
            "width": null
          }
        },
        "991b6012bd7f48aa80d03e78321a0f07": {
          "model_module": "@jupyter-widgets/base",
          "model_name": "LayoutModel",
          "model_module_version": "1.2.0",
          "state": {
            "_model_module": "@jupyter-widgets/base",
            "_model_module_version": "1.2.0",
            "_model_name": "LayoutModel",
            "_view_count": null,
            "_view_module": "@jupyter-widgets/base",
            "_view_module_version": "1.2.0",
            "_view_name": "LayoutView",
            "align_content": null,
            "align_items": null,
            "align_self": null,
            "border": null,
            "bottom": null,
            "display": null,
            "flex": null,
            "flex_flow": null,
            "grid_area": null,
            "grid_auto_columns": null,
            "grid_auto_flow": null,
            "grid_auto_rows": null,
            "grid_column": null,
            "grid_gap": null,
            "grid_row": null,
            "grid_template_areas": null,
            "grid_template_columns": null,
            "grid_template_rows": null,
            "height": null,
            "justify_content": null,
            "justify_items": null,
            "left": null,
            "margin": null,
            "max_height": null,
            "max_width": null,
            "min_height": null,
            "min_width": null,
            "object_fit": null,
            "object_position": null,
            "order": null,
            "overflow": null,
            "overflow_x": null,
            "overflow_y": null,
            "padding": null,
            "right": null,
            "top": null,
            "visibility": null,
            "width": null
          }
        },
        "cec3801d967741ba83ebfb0accfcea39": {
          "model_module": "@jupyter-widgets/controls",
          "model_name": "DescriptionStyleModel",
          "model_module_version": "1.5.0",
          "state": {
            "_model_module": "@jupyter-widgets/controls",
            "_model_module_version": "1.5.0",
            "_model_name": "DescriptionStyleModel",
            "_view_count": null,
            "_view_module": "@jupyter-widgets/base",
            "_view_module_version": "1.2.0",
            "_view_name": "StyleView",
            "description_width": ""
          }
        },
        "66f6d73a7f3143549a0ac017946944ad": {
          "model_module": "@jupyter-widgets/base",
          "model_name": "LayoutModel",
          "model_module_version": "1.2.0",
          "state": {
            "_model_module": "@jupyter-widgets/base",
            "_model_module_version": "1.2.0",
            "_model_name": "LayoutModel",
            "_view_count": null,
            "_view_module": "@jupyter-widgets/base",
            "_view_module_version": "1.2.0",
            "_view_name": "LayoutView",
            "align_content": null,
            "align_items": null,
            "align_self": null,
            "border": null,
            "bottom": null,
            "display": null,
            "flex": null,
            "flex_flow": null,
            "grid_area": null,
            "grid_auto_columns": null,
            "grid_auto_flow": null,
            "grid_auto_rows": null,
            "grid_column": null,
            "grid_gap": null,
            "grid_row": null,
            "grid_template_areas": null,
            "grid_template_columns": null,
            "grid_template_rows": null,
            "height": null,
            "justify_content": null,
            "justify_items": null,
            "left": null,
            "margin": null,
            "max_height": null,
            "max_width": null,
            "min_height": null,
            "min_width": null,
            "object_fit": null,
            "object_position": null,
            "order": null,
            "overflow": null,
            "overflow_x": null,
            "overflow_y": null,
            "padding": null,
            "right": null,
            "top": null,
            "visibility": null,
            "width": null
          }
        },
        "0b025c55dceb4b6497ea4f5208ed3284": {
          "model_module": "@jupyter-widgets/controls",
          "model_name": "ProgressStyleModel",
          "model_module_version": "1.5.0",
          "state": {
            "_model_module": "@jupyter-widgets/controls",
            "_model_module_version": "1.5.0",
            "_model_name": "ProgressStyleModel",
            "_view_count": null,
            "_view_module": "@jupyter-widgets/base",
            "_view_module_version": "1.2.0",
            "_view_name": "StyleView",
            "bar_color": null,
            "description_width": ""
          }
        },
        "5ae2846ce0ea4c3ab6da3dabde1769bd": {
          "model_module": "@jupyter-widgets/base",
          "model_name": "LayoutModel",
          "model_module_version": "1.2.0",
          "state": {
            "_model_module": "@jupyter-widgets/base",
            "_model_module_version": "1.2.0",
            "_model_name": "LayoutModel",
            "_view_count": null,
            "_view_module": "@jupyter-widgets/base",
            "_view_module_version": "1.2.0",
            "_view_name": "LayoutView",
            "align_content": null,
            "align_items": null,
            "align_self": null,
            "border": null,
            "bottom": null,
            "display": null,
            "flex": null,
            "flex_flow": null,
            "grid_area": null,
            "grid_auto_columns": null,
            "grid_auto_flow": null,
            "grid_auto_rows": null,
            "grid_column": null,
            "grid_gap": null,
            "grid_row": null,
            "grid_template_areas": null,
            "grid_template_columns": null,
            "grid_template_rows": null,
            "height": null,
            "justify_content": null,
            "justify_items": null,
            "left": null,
            "margin": null,
            "max_height": null,
            "max_width": null,
            "min_height": null,
            "min_width": null,
            "object_fit": null,
            "object_position": null,
            "order": null,
            "overflow": null,
            "overflow_x": null,
            "overflow_y": null,
            "padding": null,
            "right": null,
            "top": null,
            "visibility": null,
            "width": null
          }
        },
        "b09d6189689b412b8d4bd8e7edfa73df": {
          "model_module": "@jupyter-widgets/controls",
          "model_name": "DescriptionStyleModel",
          "model_module_version": "1.5.0",
          "state": {
            "_model_module": "@jupyter-widgets/controls",
            "_model_module_version": "1.5.0",
            "_model_name": "DescriptionStyleModel",
            "_view_count": null,
            "_view_module": "@jupyter-widgets/base",
            "_view_module_version": "1.2.0",
            "_view_name": "StyleView",
            "description_width": ""
          }
        }
      }
    },
    "accelerator": "GPU"
  },
  "cells": [
    {
      "cell_type": "markdown",
      "metadata": {
        "id": "view-in-github",
        "colab_type": "text"
      },
      "source": [
        "<a href=\"https://colab.research.google.com/github/jyanivaddi/ERA_V1/blob/master/Capstone/MultiModal_phi_with_audio.ipynb\" target=\"_parent\"><img src=\"https://colab.research.google.com/assets/colab-badge.svg\" alt=\"Open In Colab\"/></a>"
      ]
    },
    {
      "cell_type": "markdown",
      "source": [
        "**Mount Google Drive**"
      ],
      "metadata": {
        "id": "S7jZ3kj6uMkh"
      }
    },
    {
      "cell_type": "code",
      "execution_count": 1,
      "metadata": {
        "colab": {
          "base_uri": "https://localhost:8080/"
        },
        "id": "YUsU0-tcswRq",
        "outputId": "347ee08e-55c1-496e-f4ad-2b1e5adafa3e"
      },
      "outputs": [
        {
          "output_type": "stream",
          "name": "stdout",
          "text": [
            "Mounted at /content/gdrive/\n"
          ]
        }
      ],
      "source": [
        "from google.colab import drive\n",
        "drive.mount('/content/gdrive/', force_remount=True)"
      ]
    },
    {
      "cell_type": "markdown",
      "source": [
        "**Install dependencies**"
      ],
      "metadata": {
        "id": "y-d6m1QkvbAi"
      }
    },
    {
      "cell_type": "code",
      "source": [
        "!pip install -U --quiet numpy transformers datasets tqdm matplotlib wandb torchmetrics torchinfo pytorch-lightning peft bitsandbytes einops pillow"
      ],
      "metadata": {
        "id": "TdnGSzY7vBkj"
      },
      "execution_count": 2,
      "outputs": []
    },
    {
      "cell_type": "markdown",
      "source": [
        "**Imports**"
      ],
      "metadata": {
        "id": "sCviR4Ervedz"
      }
    },
    {
      "cell_type": "code",
      "source": [
        "!git clone \"https://github.com/jyanivaddi/ERA_V1.git\"\n",
        "!git -C ERA_V1 pull\n",
        "!git pull"
      ],
      "metadata": {
        "colab": {
          "base_uri": "https://localhost:8080/"
        },
        "id": "GUv9VAimveEN",
        "outputId": "e70fe677-d8f9-4da0-ab12-a24107716a5d"
      },
      "execution_count": 4,
      "outputs": [
        {
          "output_type": "stream",
          "name": "stdout",
          "text": [
            "fatal: destination path 'ERA_V1' already exists and is not an empty directory.\n",
            "Already up to date.\n",
            "fatal: not a git repository (or any of the parent directories): .git\n"
          ]
        }
      ]
    },
    {
      "cell_type": "code",
      "source": [
        "import torchmetrics\n",
        "import wandb\n",
        "import io\n",
        "import requests\n",
        "import os\n",
        "import sys\n",
        "import gc\n",
        "import torch\n",
        "import pickle\n",
        "import json\n",
        "import torchinfo\n",
        "import torch.nn as nn\n",
        "import numpy as np\n",
        "import pytorch_lightning as pl\n",
        "import torch.multiprocessing as mp\n",
        "from PIL import Image\n",
        "from transformers import AutoModelForCausalLM, AutoTokenizer\n",
        "from transformers import BitsAndBytesConfig\n",
        "from torch.utils.data import Dataset, DataLoader\n",
        "from tqdm import tqdm\n",
        "from pathlib import Path\n",
        "from typing import Union, List\n",
        "from torch.cuda.amp import autocast\n",
        "from matplotlib import pyplot as plt\n",
        "from pytorch_lightning import LightningModule, Trainer\n",
        "from pytorch_lightning.callbacks import LearningRateMonitor, ModelCheckpoint\n",
        "from pytorch_lightning.loggers import WandbLogger\n",
        "from pytorch_lightning.callbacks.progress import TQDMProgressBar\n",
        "from transformers import AutoProcessor, CLIPVisionModel\n",
        "from pytorch_lightning.callbacks import Callback\n",
        "from peft import LoraConfig\n"
      ],
      "metadata": {
        "id": "ifuHOpN1v0Uw"
      },
      "execution_count": 5,
      "outputs": []
    },
    {
      "cell_type": "code",
      "source": [
        "sys.path.append(\"ERA_V1/Capstone\")\n",
        "from llava_instruct_dataset import LlavaFinetuneDataset, LlavaCollator, split_data_to_train_and_val, get_image_embeddings\n",
        "from model_finetune import LitMultiModalPhiFineTune, SimpleLinearBlock, model_summary"
      ],
      "metadata": {
        "id": "9tYjWVxGzGaG"
      },
      "execution_count": 6,
      "outputs": []
    },
    {
      "cell_type": "markdown",
      "source": [
        "**set parameters**"
      ],
      "metadata": {
        "id": "PUPo6tERzSqk"
      }
    },
    {
      "cell_type": "code",
      "source": [
        "#json_path = './data/llava_instruct_150k.json'\n",
        "#batch_size = 20\n",
        "device = 'cuda' if torch.cuda.is_available() else 'cpu'\n",
        "projection_layer_in_channels = 768\n",
        "projection_layer_out_channels = 2560\n",
        "#seq_len = 72\n",
        "#num_image_tokens = 49\n",
        "#max_ques_length = seq_len - (1+num_image_tokens+1) # 1 for image start, 1 for comment\n",
        "stage1_projection_checkpoints = 'phi2_projection_checkpoints/ckpt_60001.pt'\n",
        "projection_layer_finetuning_checkpoint_path = '/content/gdrive/MyDrive/ERA_Capstone/phi2_finetune_checkpoints_run2_low_lr/projection_layer_finetuning/projection_layer_ckpt_finetuning_global_step_4001.pt'\n",
        "finetuned_phi_checkpoint_path = '/content/gdrive/MyDrive/ERA_Capstone/phi2_finetune_checkpoints_run2_low_lr/phi_model_finetuning/adapter_layer_ckpt_finetuning_global_step_4001'\n",
        "\n",
        "# Define configurations for QLORA finetuning\n",
        "quantization_config = BitsAndBytesConfig(\n",
        "    load_in_4bit=True, # Load the model in 4 bits\n",
        "    bnb_4bit_quant_type=\"nf4\", # 4 bit quant type\n",
        "    bnb_4bit_use_double_quant=True, # double quant saves more bits\n",
        "    bnb_4bit_compute_dtype=torch.float16, # use bfloat16\n",
        "    )\n",
        "\n",
        "# Define the models and tokenizers\n",
        "clip_model = CLIPVisionModel.from_pretrained(\"openai/clip-vit-base-patch32\")\n",
        "clip_preprocessor = AutoProcessor.from_pretrained(\"openai/clip-vit-base-patch32\")\n",
        "phi_tokenizer = AutoTokenizer.from_pretrained(\"microsoft/phi-2\")"
      ],
      "metadata": {
        "colab": {
          "base_uri": "https://localhost:8080/"
        },
        "id": "aMar93z5zhmq",
        "outputId": "03f8723a-0bef-40a9-9a25-d00ad751e5ab"
      },
      "execution_count": 7,
      "outputs": [
        {
          "output_type": "stream",
          "name": "stderr",
          "text": [
            "/usr/local/lib/python3.10/dist-packages/huggingface_hub/utils/_token.py:88: UserWarning: \n",
            "The secret `HF_TOKEN` does not exist in your Colab secrets.\n",
            "To authenticate with the Hugging Face Hub, create a token in your settings tab (https://huggingface.co/settings/tokens), set it as secret in your Google Colab and restart your session.\n",
            "You will be able to reuse this secret in all of your notebooks.\n",
            "Please note that authentication is recommended but still optional to access public models or datasets.\n",
            "  warnings.warn(\n",
            "/usr/local/lib/python3.10/dist-packages/torch/_utils.py:831: UserWarning: TypedStorage is deprecated. It will be removed in the future and UntypedStorage will be the only storage class. This should only matter to you if you are using storages directly.  To access UntypedStorage directly, use tensor.untyped_storage() instead of tensor.storage()\n",
            "  return self.fget.__get__(instance, owner)()\n",
            "Special tokens have been added in the vocabulary, make sure the associated word embeddings are fine-tuned or trained.\n"
          ]
        }
      ]
    },
    {
      "cell_type": "code",
      "source": [
        "# Define multimodal model\n",
        "multimodal_phi_model = LitMultiModalPhiFineTune(projection_layer_in_channels,\n",
        "                                                projection_layer_out_channels,\n",
        "                                                quantization_config)\n",
        "\n",
        "\n",
        "multimodal_phi_model.projection_layer.load_state_dict(torch.load(projection_layer_finetuning_checkpoint_path))\n",
        "multimodal_phi_model.llm_model.from_pretrained(multimodal_phi_model.llm_model, finetuned_phi_checkpoint_path)\n"
      ],
      "metadata": {
        "id": "py3JO2hW1Xgh",
        "outputId": "3768915f-7d8b-4b64-f15f-510061d81ecb",
        "colab": {
          "base_uri": "https://localhost:8080/",
          "height": 1000,
          "referenced_widgets": [
            "756f8342045c4ed6bc213d77bca86317",
            "b19d7e12c28247b89c3ad3aa955b5f9a",
            "96a313075a9c4a26aeec95d815f2cd3d",
            "c886f7719ab74e53897e0532bd7c3c9c",
            "53aae7ff0e2f4fdaa6c069a527c26ffc",
            "991b6012bd7f48aa80d03e78321a0f07",
            "cec3801d967741ba83ebfb0accfcea39",
            "66f6d73a7f3143549a0ac017946944ad",
            "0b025c55dceb4b6497ea4f5208ed3284",
            "5ae2846ce0ea4c3ab6da3dabde1769bd",
            "b09d6189689b412b8d4bd8e7edfa73df"
          ]
        }
      },
      "execution_count": 8,
      "outputs": [
        {
          "output_type": "display_data",
          "data": {
            "text/plain": [
              "Loading checkpoint shards:   0%|          | 0/2 [00:00<?, ?it/s]"
            ],
            "application/vnd.jupyter.widget-view+json": {
              "version_major": 2,
              "version_minor": 0,
              "model_id": "756f8342045c4ed6bc213d77bca86317"
            }
          },
          "metadata": {}
        },
        {
          "output_type": "stream",
          "name": "stderr",
          "text": [
            "Special tokens have been added in the vocabulary, make sure the associated word embeddings are fine-tuned or trained.\n"
          ]
        },
        {
          "output_type": "stream",
          "name": "stdout",
          "text": [
            "trainable params: 11,796,480 || all params: 2,791,480,320 || trainable%: 0.4225886858482312\n",
            "Number of Training Parameters\n",
            "********************************\n",
            "Projection Layer:1970176\n",
            "Phi Model:11796480\n",
            "********************************\n"
          ]
        },
        {
          "output_type": "execute_result",
          "data": {
            "text/plain": [
              "PeftModelForCausalLM(\n",
              "  (base_model): LoraModel(\n",
              "    (model): PeftModelForCausalLM(\n",
              "      (base_model): LoraModel(\n",
              "        (model): PhiForCausalLM(\n",
              "          (model): PhiModel(\n",
              "            (embed_tokens): Embedding(51200, 2560)\n",
              "            (embed_dropout): Dropout(p=0.0, inplace=False)\n",
              "            (layers): ModuleList(\n",
              "              (0-31): 32 x PhiDecoderLayer(\n",
              "                (self_attn): PhiAttention(\n",
              "                  (q_proj): lora.Linear4bit(\n",
              "                    (base_layer): Linear4bit(in_features=2560, out_features=2560, bias=True)\n",
              "                    (lora_dropout): ModuleDict(\n",
              "                      (default): Dropout(p=0.05, inplace=False)\n",
              "                    )\n",
              "                    (lora_A): ModuleDict(\n",
              "                      (default): Linear(in_features=2560, out_features=8, bias=False)\n",
              "                    )\n",
              "                    (lora_B): ModuleDict(\n",
              "                      (default): Linear(in_features=8, out_features=2560, bias=False)\n",
              "                    )\n",
              "                    (lora_embedding_A): ParameterDict()\n",
              "                    (lora_embedding_B): ParameterDict()\n",
              "                  )\n",
              "                  (k_proj): lora.Linear4bit(\n",
              "                    (base_layer): Linear4bit(in_features=2560, out_features=2560, bias=True)\n",
              "                    (lora_dropout): ModuleDict(\n",
              "                      (default): Dropout(p=0.05, inplace=False)\n",
              "                    )\n",
              "                    (lora_A): ModuleDict(\n",
              "                      (default): Linear(in_features=2560, out_features=8, bias=False)\n",
              "                    )\n",
              "                    (lora_B): ModuleDict(\n",
              "                      (default): Linear(in_features=8, out_features=2560, bias=False)\n",
              "                    )\n",
              "                    (lora_embedding_A): ParameterDict()\n",
              "                    (lora_embedding_B): ParameterDict()\n",
              "                  )\n",
              "                  (v_proj): lora.Linear4bit(\n",
              "                    (base_layer): Linear4bit(in_features=2560, out_features=2560, bias=True)\n",
              "                    (lora_dropout): ModuleDict(\n",
              "                      (default): Dropout(p=0.05, inplace=False)\n",
              "                    )\n",
              "                    (lora_A): ModuleDict(\n",
              "                      (default): Linear(in_features=2560, out_features=8, bias=False)\n",
              "                    )\n",
              "                    (lora_B): ModuleDict(\n",
              "                      (default): Linear(in_features=8, out_features=2560, bias=False)\n",
              "                    )\n",
              "                    (lora_embedding_A): ParameterDict()\n",
              "                    (lora_embedding_B): ParameterDict()\n",
              "                  )\n",
              "                  (dense): lora.Linear4bit(\n",
              "                    (base_layer): Linear4bit(in_features=2560, out_features=2560, bias=True)\n",
              "                    (lora_dropout): ModuleDict(\n",
              "                      (default): Dropout(p=0.05, inplace=False)\n",
              "                    )\n",
              "                    (lora_A): ModuleDict(\n",
              "                      (default): Linear(in_features=2560, out_features=8, bias=False)\n",
              "                    )\n",
              "                    (lora_B): ModuleDict(\n",
              "                      (default): Linear(in_features=8, out_features=2560, bias=False)\n",
              "                    )\n",
              "                    (lora_embedding_A): ParameterDict()\n",
              "                    (lora_embedding_B): ParameterDict()\n",
              "                  )\n",
              "                  (rotary_emb): PhiRotaryEmbedding()\n",
              "                )\n",
              "                (mlp): PhiMLP(\n",
              "                  (activation_fn): NewGELUActivation()\n",
              "                  (fc1): lora.Linear4bit(\n",
              "                    (base_layer): Linear4bit(in_features=2560, out_features=10240, bias=True)\n",
              "                    (lora_dropout): ModuleDict(\n",
              "                      (default): Dropout(p=0.05, inplace=False)\n",
              "                    )\n",
              "                    (lora_A): ModuleDict(\n",
              "                      (default): Linear(in_features=2560, out_features=8, bias=False)\n",
              "                    )\n",
              "                    (lora_B): ModuleDict(\n",
              "                      (default): Linear(in_features=8, out_features=10240, bias=False)\n",
              "                    )\n",
              "                    (lora_embedding_A): ParameterDict()\n",
              "                    (lora_embedding_B): ParameterDict()\n",
              "                  )\n",
              "                  (fc2): lora.Linear4bit(\n",
              "                    (base_layer): Linear4bit(in_features=10240, out_features=2560, bias=True)\n",
              "                    (lora_dropout): ModuleDict(\n",
              "                      (default): Dropout(p=0.05, inplace=False)\n",
              "                    )\n",
              "                    (lora_A): ModuleDict(\n",
              "                      (default): Linear(in_features=10240, out_features=8, bias=False)\n",
              "                    )\n",
              "                    (lora_B): ModuleDict(\n",
              "                      (default): Linear(in_features=8, out_features=2560, bias=False)\n",
              "                    )\n",
              "                    (lora_embedding_A): ParameterDict()\n",
              "                    (lora_embedding_B): ParameterDict()\n",
              "                  )\n",
              "                )\n",
              "                (input_layernorm): LayerNorm((2560,), eps=1e-05, elementwise_affine=True)\n",
              "                (resid_dropout): Dropout(p=0.1, inplace=False)\n",
              "              )\n",
              "            )\n",
              "            (final_layernorm): LayerNorm((2560,), eps=1e-05, elementwise_affine=True)\n",
              "          )\n",
              "          (lm_head): Linear(in_features=2560, out_features=51200, bias=True)\n",
              "        )\n",
              "      )\n",
              "    )\n",
              "  )\n",
              ")"
            ]
          },
          "metadata": {},
          "execution_count": 8
        }
      ]
    },
    {
      "cell_type": "markdown",
      "source": [
        "**Define all the helper methods**"
      ],
      "metadata": {
        "id": "I0zzwyia-LmX"
      }
    },
    {
      "cell_type": "code",
      "source": [
        "def generate_phi_responses(multimodal_phi_model, batch, batch_size=1):\n",
        "    image_embeddings = batch['image_embeddings']\n",
        "    proj_outs = multimodal_phi_model.projection_layer(image_embeddings).to(device)\n",
        "    print(f\"proj_outs: {proj_outs.shape}, device: {proj_outs.device}\")\n",
        "    #device = proj_outs.device\n",
        "    print(\"device\")\n",
        "\n",
        "    # define comment and im start tokens\n",
        "    comment_token = torch.tensor(multimodal_phi_model.COMMENT_TOKEN_ID).repeat(batch_size, 1).to(device)\n",
        "    comment = multimodal_phi_model.llm_model.model.model.embed_tokens(comment_token).to(device) #\n",
        "    print(f\"comment: {comment.shape}, device: {comment.device}\")\n",
        "\n",
        "\n",
        "    im_start_token = torch.tensor(multimodal_phi_model.IMAGE_TOKEN_ID).repeat(batch_size, 1).to(device)\n",
        "    im_start = multimodal_phi_model.llm_model.model.model.embed_tokens(im_start_token).to(device) #\n",
        "    print(f\"im_start: {im_start.shape}, device: {im_start.device}\")\n",
        "\n",
        "\n",
        "    question_tokens = batch['ques_tokenized']\n",
        "    question_embeddings = multimodal_phi_model.llm_model.model.model.embed_tokens(question_tokens).to(device)\n",
        "    print(f\"ques_embed: {question_embeddings.shape}, device: {question_embeddings.device}\")\n",
        "\n",
        "\n",
        "    # prepare input embeddings\n",
        "    inputs_embeds = torch.cat([im_start, # <IM> [B x 1 x 2560]\n",
        "                                proj_outs, # [B x 49 x 2560]\n",
        "                                comment, # [B x 1 x 2560]\n",
        "                                question_embeddings, # [B x 1 x 2560]\n",
        "                                ], dim=1) # total dim: (B, 64, 2560)\n",
        "    with torch.no_grad():\n",
        "        with autocast(True):\n",
        "            pred_logits = multimodal_phi_model.llm_model.generate(inputs_embeds = inputs_embeds, max_new_tokens=64)\n",
        "            generated_text = multimodal_phi_model.tokenizer.batch_decode(pred_logits, skip_special_tokens=True, clean_up_tokenization_spaces=True, verbose=False)[0]\n",
        "    return generated_text\n",
        ""
      ],
      "metadata": {
        "id": "vtGcSCdb9S_q"
      },
      "execution_count": 37,
      "outputs": []
    },
    {
      "cell_type": "code",
      "source": [
        "def get_image_embeddings(image, model, preprocessor, device=None):\n",
        "    \"\"\"\n",
        "    This method computes the clip embeddings for a given image, after preprocessing it according to the model\n",
        "    \"\"\"\n",
        "    processed_image = preprocessor(images=image, return_tensors=\"pt\")\n",
        "    with torch.no_grad():\n",
        "        outputs = model(**processed_image)\n",
        "    return outputs.last_hidden_state.squeeze()[1:,:].unsqueeze(0)\n",
        "\n",
        "def tokenize_sentence(sentence, tokenizer):\n",
        "    tokenizer_output = tokenizer(sentence, return_tensors=\"pt\", return_attention_mask=False)\n",
        "    tokenized_sentence = tokenizer_output['input_ids']\n",
        "    return tokenized_sentence\n",
        "\n",
        "def generate_embeddings_from_inputs(image, text, clip_model, clip_preprocessor, tokenizer):\n",
        "    image_embeddings = get_image_embeddings(image, clip_model, clip_preprocessor)\n",
        "    tokenized_sentence = tokenize_sentence(text, tokenizer)\n",
        "    return {'image_embeddings': image_embeddings, 'ques_tokenized': tokenized_sentence}\n"
      ],
      "metadata": {
        "id": "pw5Cvor67d_z"
      },
      "execution_count": 29,
      "outputs": []
    },
    {
      "cell_type": "markdown",
      "source": [
        "**Let's try out the code!**"
      ],
      "metadata": {
        "id": "SKM1itet-OiY"
      }
    },
    {
      "cell_type": "code",
      "source": [
        "image_url = r'/content/gdrive/MyDrive/temp.jpg'\n",
        "image = Image.open(image_url)\n",
        "\n",
        "#image_url = r'http://images.cocodataset.org/train2017/000000010005.jpg'\n",
        "#image = Image.open(requests.get(image_url, stream=True).raw)\n",
        "question = \"Describe this image\"\n",
        "batch = generate_embeddings_from_inputs(image, question, clip_model, clip_preprocessor, phi_tokenizer)\n",
        "print(batch['image_embeddings'].shape)\n",
        "print(batch['ques_tokenized'].shape)\n"
      ],
      "metadata": {
        "id": "6lkT4jmi-Knb",
        "outputId": "33f41353-9d9b-42a8-aa7b-b2f2f1ac49fe",
        "colab": {
          "base_uri": "https://localhost:8080/"
        }
      },
      "execution_count": 43,
      "outputs": [
        {
          "output_type": "stream",
          "name": "stdout",
          "text": [
            "torch.Size([1, 49, 768])\n",
            "torch.Size([1, 4])\n"
          ]
        }
      ]
    },
    {
      "cell_type": "code",
      "source": [
        "generate_phi_responses(multimodal_phi_model, batch, batch_size=1)"
      ],
      "metadata": {
        "id": "x0GgUcdxEIOt",
        "outputId": "ed246c21-b980-4f10-9a62-65d4c5c3be0d",
        "colab": {
          "base_uri": "https://localhost:8080/",
          "height": 177
        }
      },
      "execution_count": 44,
      "outputs": [
        {
          "output_type": "stream",
          "name": "stderr",
          "text": [
            "The attention mask and the pad token id were not set. As a consequence, you may observe unexpected behavior. Please pass your input's `attention_mask` to obtain reliable results.\n",
            "Setting `pad_token_id` to `eos_token_id`:50256 for open-end generation.\n"
          ]
        },
        {
          "output_type": "stream",
          "name": "stdout",
          "text": [
            "proj_outs: torch.Size([1, 49, 2560]), device: cuda:0\n",
            "device\n",
            "comment: torch.Size([1, 1, 2560]), device: cuda:0\n",
            "im_start: torch.Size([1, 1, 2560]), device: cuda:0\n",
            "ques_embed: torch.Size([1, 4, 2560]), device: cuda:0\n"
          ]
        },
        {
          "output_type": "execute_result",
          "data": {
            "text/plain": [
              "' two cats on on on a on a bed bed. on a bed. on a bed. on a bed. on a bed. on a bed. on a bed. on a bed. on a bed. on a bed. on a bed. on a bed. on a bed. on a bed. on'"
            ],
            "application/vnd.google.colaboratory.intrinsic+json": {
              "type": "string"
            }
          },
          "metadata": {},
          "execution_count": 44
        }
      ]
    },
    {
      "cell_type": "code",
      "source": [
        "multimodal_phi_model"
      ],
      "metadata": {
        "id": "S-AxBwZhFrp5"
      },
      "execution_count": null,
      "outputs": []
    }
  ]
}