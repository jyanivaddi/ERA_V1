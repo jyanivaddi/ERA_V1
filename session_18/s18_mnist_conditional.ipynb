{
  "cells": [
    {
      "cell_type": "markdown",
      "metadata": {
        "id": "view-in-github",
        "colab_type": "text"
      },
      "source": [
        "<a href=\"https://colab.research.google.com/github/jyanivaddi/ERA_V1/blob/master/session_18/s18_mnist_conditional.ipynb\" target=\"_parent\"><img src=\"https://colab.research.google.com/assets/colab-badge.svg\" alt=\"Open In Colab\"/></a>"
      ]
    },
    {
      "cell_type": "code",
      "execution_count": 1,
      "metadata": {
        "id": "gfLZh0k_ov5u",
        "outputId": "77cba8ec-0edc-4d7a-b1e7-fbc1cfbc897e",
        "colab": {
          "base_uri": "https://localhost:8080/"
        }
      },
      "outputs": [
        {
          "output_type": "stream",
          "name": "stdout",
          "text": [
            "Collecting pytorch-lightning\n",
            "  Downloading pytorch_lightning-2.0.9.post0-py3-none-any.whl (727 kB)\n",
            "\u001b[2K     \u001b[90m━━━━━━━━━━━━━━━━━━━━━━━━━━━━━━━━━━━━━━\u001b[0m \u001b[32m727.7/727.7 kB\u001b[0m \u001b[31m10.6 MB/s\u001b[0m eta \u001b[36m0:00:00\u001b[0m\n",
            "\u001b[?25hRequirement already satisfied: numpy>=1.17.2 in /usr/local/lib/python3.10/dist-packages (from pytorch-lightning) (1.23.5)\n",
            "Requirement already satisfied: torch>=1.11.0 in /usr/local/lib/python3.10/dist-packages (from pytorch-lightning) (2.0.1+cu118)\n",
            "Requirement already satisfied: tqdm>=4.57.0 in /usr/local/lib/python3.10/dist-packages (from pytorch-lightning) (4.66.1)\n",
            "Requirement already satisfied: PyYAML>=5.4 in /usr/local/lib/python3.10/dist-packages (from pytorch-lightning) (6.0.1)\n",
            "Requirement already satisfied: fsspec[http]>2021.06.0 in /usr/local/lib/python3.10/dist-packages (from pytorch-lightning) (2023.6.0)\n",
            "Collecting torchmetrics>=0.7.0 (from pytorch-lightning)\n",
            "  Downloading torchmetrics-1.2.0-py3-none-any.whl (805 kB)\n",
            "\u001b[2K     \u001b[90m━━━━━━━━━━━━━━━━━━━━━━━━━━━━━━━━━━━━━━\u001b[0m \u001b[32m805.2/805.2 kB\u001b[0m \u001b[31m46.0 MB/s\u001b[0m eta \u001b[36m0:00:00\u001b[0m\n",
            "\u001b[?25hRequirement already satisfied: packaging>=17.1 in /usr/local/lib/python3.10/dist-packages (from pytorch-lightning) (23.2)\n",
            "Requirement already satisfied: typing-extensions>=4.0.0 in /usr/local/lib/python3.10/dist-packages (from pytorch-lightning) (4.5.0)\n",
            "Collecting lightning-utilities>=0.7.0 (from pytorch-lightning)\n",
            "  Downloading lightning_utilities-0.9.0-py3-none-any.whl (23 kB)\n",
            "Requirement already satisfied: requests in /usr/local/lib/python3.10/dist-packages (from fsspec[http]>2021.06.0->pytorch-lightning) (2.31.0)\n",
            "Requirement already satisfied: aiohttp!=4.0.0a0,!=4.0.0a1 in /usr/local/lib/python3.10/dist-packages (from fsspec[http]>2021.06.0->pytorch-lightning) (3.8.5)\n",
            "Requirement already satisfied: filelock in /usr/local/lib/python3.10/dist-packages (from torch>=1.11.0->pytorch-lightning) (3.12.4)\n",
            "Requirement already satisfied: sympy in /usr/local/lib/python3.10/dist-packages (from torch>=1.11.0->pytorch-lightning) (1.12)\n",
            "Requirement already satisfied: networkx in /usr/local/lib/python3.10/dist-packages (from torch>=1.11.0->pytorch-lightning) (3.1)\n",
            "Requirement already satisfied: jinja2 in /usr/local/lib/python3.10/dist-packages (from torch>=1.11.0->pytorch-lightning) (3.1.2)\n",
            "Requirement already satisfied: triton==2.0.0 in /usr/local/lib/python3.10/dist-packages (from torch>=1.11.0->pytorch-lightning) (2.0.0)\n",
            "Requirement already satisfied: cmake in /usr/local/lib/python3.10/dist-packages (from triton==2.0.0->torch>=1.11.0->pytorch-lightning) (3.27.6)\n",
            "Requirement already satisfied: lit in /usr/local/lib/python3.10/dist-packages (from triton==2.0.0->torch>=1.11.0->pytorch-lightning) (17.0.2)\n",
            "Requirement already satisfied: attrs>=17.3.0 in /usr/local/lib/python3.10/dist-packages (from aiohttp!=4.0.0a0,!=4.0.0a1->fsspec[http]>2021.06.0->pytorch-lightning) (23.1.0)\n",
            "Requirement already satisfied: charset-normalizer<4.0,>=2.0 in /usr/local/lib/python3.10/dist-packages (from aiohttp!=4.0.0a0,!=4.0.0a1->fsspec[http]>2021.06.0->pytorch-lightning) (3.3.0)\n",
            "Requirement already satisfied: multidict<7.0,>=4.5 in /usr/local/lib/python3.10/dist-packages (from aiohttp!=4.0.0a0,!=4.0.0a1->fsspec[http]>2021.06.0->pytorch-lightning) (6.0.4)\n",
            "Requirement already satisfied: async-timeout<5.0,>=4.0.0a3 in /usr/local/lib/python3.10/dist-packages (from aiohttp!=4.0.0a0,!=4.0.0a1->fsspec[http]>2021.06.0->pytorch-lightning) (4.0.3)\n",
            "Requirement already satisfied: yarl<2.0,>=1.0 in /usr/local/lib/python3.10/dist-packages (from aiohttp!=4.0.0a0,!=4.0.0a1->fsspec[http]>2021.06.0->pytorch-lightning) (1.9.2)\n",
            "Requirement already satisfied: frozenlist>=1.1.1 in /usr/local/lib/python3.10/dist-packages (from aiohttp!=4.0.0a0,!=4.0.0a1->fsspec[http]>2021.06.0->pytorch-lightning) (1.4.0)\n",
            "Requirement already satisfied: aiosignal>=1.1.2 in /usr/local/lib/python3.10/dist-packages (from aiohttp!=4.0.0a0,!=4.0.0a1->fsspec[http]>2021.06.0->pytorch-lightning) (1.3.1)\n",
            "Requirement already satisfied: MarkupSafe>=2.0 in /usr/local/lib/python3.10/dist-packages (from jinja2->torch>=1.11.0->pytorch-lightning) (2.1.3)\n",
            "Requirement already satisfied: idna<4,>=2.5 in /usr/local/lib/python3.10/dist-packages (from requests->fsspec[http]>2021.06.0->pytorch-lightning) (3.4)\n",
            "Requirement already satisfied: urllib3<3,>=1.21.1 in /usr/local/lib/python3.10/dist-packages (from requests->fsspec[http]>2021.06.0->pytorch-lightning) (2.0.6)\n",
            "Requirement already satisfied: certifi>=2017.4.17 in /usr/local/lib/python3.10/dist-packages (from requests->fsspec[http]>2021.06.0->pytorch-lightning) (2023.7.22)\n",
            "Requirement already satisfied: mpmath>=0.19 in /usr/local/lib/python3.10/dist-packages (from sympy->torch>=1.11.0->pytorch-lightning) (1.3.0)\n",
            "Installing collected packages: lightning-utilities, torchmetrics, pytorch-lightning\n",
            "Successfully installed lightning-utilities-0.9.0 pytorch-lightning-2.0.9.post0 torchmetrics-1.2.0\n",
            "\u001b[31mERROR: Could not find a version that satisfies the requirement pytorch-lightning-bolts==0.2.5rc1 (from versions: 0.1.0, 0.1.1, 0.2.0, 0.2.1, 0.2.2, 0.2.3, 0.2.4, 0.2.5, 0.3.0, 0.3.1, 0.3.2, 0.3.2.post0, 0.3.2.post1)\u001b[0m\u001b[31m\n",
            "\u001b[0m\u001b[31mERROR: No matching distribution found for pytorch-lightning-bolts==0.2.5rc1\u001b[0m\u001b[31m\n",
            "\u001b[2K     \u001b[90m━━━━━━━━━━━━━━━━━━━━━━━━━━━━━━━━━━━━━━━\u001b[0m \u001b[32m300.8/300.8 kB\u001b[0m \u001b[31m7.9 MB/s\u001b[0m eta \u001b[36m0:00:00\u001b[0m\n",
            "\u001b[2K     \u001b[90m━━━━━━━━━━━━━━━━━━━━━━━━━━━━━━━━━━━━━━\u001b[0m \u001b[32m829.5/829.5 kB\u001b[0m \u001b[31m38.2 MB/s\u001b[0m eta \u001b[36m0:00:00\u001b[0m\n",
            "\u001b[?25h"
          ]
        }
      ],
      "source": [
        "! pip install pytorch-lightning\n",
        "! pip install pytorch-lightning-bolts==0.2.5rc1\n",
        "! pip install --quiet \"torchinfo\" \"lightning-bolts\""
      ]
    },
    {
      "cell_type": "code",
      "execution_count": 22,
      "metadata": {
        "id": "KXliwSCnov5v"
      },
      "outputs": [],
      "source": [
        "# prerequisites\n",
        "import random\n",
        "\n",
        "import matplotlib.pyplot as pl\n",
        "import numpy as np\n",
        "import torch\n",
        "import torch.nn as nn\n",
        "import torch.nn.functional as F\n",
        "import torch.optim as optim\n",
        "from torchvision import datasets, transforms\n",
        "from torchvision.utils import save_image\n",
        "from torchvision.utils import make_grid\n",
        "import torchvision.transforms.functional as ttf"
      ]
    },
    {
      "cell_type": "markdown",
      "metadata": {
        "id": "cBtVRKZ-ov5w"
      },
      "source": [
        "**Define VAE class**"
      ]
    },
    {
      "cell_type": "code",
      "execution_count": 3,
      "metadata": {
        "id": "IF8deywWov5x"
      },
      "outputs": [],
      "source": [
        "class VAE(nn.Module):\n",
        "    def __init__(self, x_dim, h_dim1, h_dim2, z_dim, num_labels=10, label_enc_dim=28):\n",
        "        super(VAE, self).__init__()\n",
        "\n",
        "        # label embedding\n",
        "        self.label_enc_dim = label_enc_dim\n",
        "        self.num_labels = num_labels\n",
        "        self.class_embeddings = nn.Embedding(self.num_labels, self.label_enc_dim)\n",
        "\n",
        "        # encoder part\n",
        "        self.enc_inp_dim = x_dim+(self.num_labels*self.label_enc_dim)\n",
        "        self.fc1 = nn.Linear(self.enc_inp_dim, h_dim1)\n",
        "        self.fc2 = nn.Linear(h_dim1, h_dim2)\n",
        "        self.fc31 = nn.Linear(h_dim2, z_dim)\n",
        "        self.fc32 = nn.Linear(h_dim2, z_dim)\n",
        "        # decoder part\n",
        "        self.dec_inp_dim = z_dim + (self.num_labels*self.label_enc_dim)\n",
        "        self.fc4 = nn.Linear(self.dec_inp_dim, h_dim2)\n",
        "        self.fc5 = nn.Linear(h_dim2, h_dim1)\n",
        "        self.fc6 = nn.Linear(h_dim1, x_dim)\n",
        "\n",
        "\n",
        "    def encoder(self, x):\n",
        "        h = F.relu(self.fc1(x))\n",
        "        h = F.relu(self.fc2(h))\n",
        "        return self.fc31(h), self.fc32(h)  # mu, log_var\n",
        "\n",
        "    def sampling(self, mu, log_var):\n",
        "        std = torch.exp(0.5 * log_var)\n",
        "        eps = torch.randn_like(std)\n",
        "        return eps.mul(std).add_(mu)  # return z sample\n",
        "\n",
        "    def decoder(self, z, label):\n",
        "        label_enc = self.get_label_embedding(label)\n",
        "        z = torch.cat([z, label_enc], dim=1)\n",
        "        h = F.relu(self.fc4(z))\n",
        "        h = F.relu(self.fc5(h))\n",
        "        return F.sigmoid(self.fc6(h))\n",
        "\n",
        "    def get_label_embedding(self, label):\n",
        "        label_one_hot = torch.nn.functional.one_hot(label, num_classes=10)\n",
        "        label_enc = self.class_embeddings(label_one_hot)\n",
        "        label_enc = torch.flatten(label_enc, start_dim=1)\n",
        "        return label_enc\n",
        "\n",
        "    def forward(self, x, label):\n",
        "        x = x.view(-1, 784)\n",
        "        label_enc = self.get_label_embedding(label)\n",
        "        x = torch.cat([x, label_enc], dim=1)\n",
        "        mu, log_var = self.encoder(x)\n",
        "        z = self.sampling(mu, log_var)\n",
        "        return self.decoder(z, label), mu, log_var"
      ]
    },
    {
      "cell_type": "markdown",
      "metadata": {
        "id": "i3iintFMov5y"
      },
      "source": [
        "**Define the Loss Function (Reconstruction Loss + KL Divergence Loss)**"
      ]
    },
    {
      "cell_type": "code",
      "execution_count": 4,
      "metadata": {
        "id": "4_akCVeYov5z"
      },
      "outputs": [],
      "source": [
        "# return reconstruction error + KL divergence losses\n",
        "def loss_function(recon_x, x, mu, log_var):\n",
        "    BCE = F.binary_cross_entropy(recon_x, x.view(-1, 784), reduction='sum')\n",
        "    KLD = -0.5 * torch.sum(1 + log_var - mu.pow(2) - log_var.exp())\n",
        "    return BCE + KLD"
      ]
    },
    {
      "cell_type": "markdown",
      "metadata": {
        "id": "8appfv-Iov50"
      },
      "source": [
        "**Define Train and Test methods**"
      ]
    },
    {
      "cell_type": "code",
      "execution_count": 5,
      "metadata": {
        "id": "aXkm0aZWov51"
      },
      "outputs": [],
      "source": [
        "def train(epoch):\n",
        "    vae.train()\n",
        "    train_loss = 0\n",
        "    for batch_idx, (data, labels) in enumerate(train_loader):\n",
        "        data = data.cuda()\n",
        "        labels = labels.cuda()\n",
        "        optimizer.zero_grad()\n",
        "\n",
        "        recon_batch, mu, log_var = vae(data, labels)\n",
        "        loss = loss_function(recon_batch, data, mu, log_var)\n",
        "\n",
        "        loss.backward()\n",
        "        train_loss += loss.item()\n",
        "        optimizer.step()\n",
        "\n",
        "        if batch_idx % 100 == 0:\n",
        "            print('Train Epoch: {} [{}/{} ({:.0f}%)]\\tLoss: {:.6f}'.format(\n",
        "                epoch, batch_idx * len(data), len(train_loader.dataset),\n",
        "                       100. * batch_idx / len(train_loader), loss.item() / len(data)))\n",
        "    print('====> Epoch: {} Average loss: {:.4f}'.format(epoch, train_loss / len(train_loader.dataset)))\n",
        "\n",
        "\n",
        "def test(epoch):\n",
        "    vae.eval()\n",
        "    test_loss = 0\n",
        "    with torch.no_grad():\n",
        "        for data, labels in test_loader:\n",
        "            data = data.cuda()\n",
        "            labels = labels.cuda()\n",
        "            recon, mu, log_var = vae(data, labels)\n",
        "\n",
        "            # sum up batch loss\n",
        "            test_loss += loss_function(recon, data, mu, log_var).item()\n",
        "            if epoch % 10 == 0:\n",
        "                z = torch.randn(64, 2).cuda()\n",
        "                this_label = 5 * torch.ones(64, dtype=torch.int64).cuda()\n",
        "                sample = vae.decoder(z, this_label).cuda()\n",
        "                save_image(sample.view(64, 1, 28, 28), f\"./samples/sample_{epoch}.png\")\n",
        "\n",
        "    test_loss /= len(test_loader.dataset)\n",
        "    print('====> Test set loss: {:.4f}'.format(test_loss))"
      ]
    },
    {
      "cell_type": "markdown",
      "metadata": {
        "id": "xqT4-yNHov54"
      },
      "source": [
        "**Show Image**"
      ]
    },
    {
      "cell_type": "code",
      "execution_count": 23,
      "metadata": {
        "id": "NGm1cWWqov56"
      },
      "outputs": [],
      "source": [
        "def show_image(img_tensor):\n",
        "    #np_op_img = np.asarray(img_tensor.cpu()).squeeze()\n",
        "    pl.figure()\n",
        "    pl.imshow(img_tensor, cmap='gray')\n",
        "    pl.colorbar()\n",
        "    pl.show()\n",
        "\n",
        "def show(imgs):\n",
        "    if not isinstance(imgs, list):\n",
        "        imgs = [imgs]\n",
        "    fig, axs = pl.subplots(ncols=len(imgs), squeeze=False)\n",
        "    for i, img in enumerate(imgs):\n",
        "        img = img.detach()\n",
        "        img = ttf.to_pil_image(img)\n",
        "        axs[0, i].imshow(np.asarray(img))\n",
        "        axs[0, i].set(xticklabels=[], yticklabels=[], xticks=[], yticks=[])\n",
        "    pl.show()"
      ]
    },
    {
      "cell_type": "markdown",
      "metadata": {
        "id": "kzakV1_oov57"
      },
      "source": [
        "**Add the logic to generate conditional images. Here, we generate two images, one based on the input image and label and the other based on Input label. Finally, interpolate between the two samples.**"
      ]
    },
    {
      "cell_type": "code",
      "execution_count": 20,
      "metadata": {
        "id": "RqWgwzLpov58"
      },
      "outputs": [],
      "source": [
        "def conditional_generation(vae, test_loader, num_images=32, interp_weight=0.1):\n",
        "    data, label = next(iter(test_loader))\n",
        "    data = data.cuda()\n",
        "    label = label.cuda()\n",
        "    gen_images = []\n",
        "    for cnt in range(num_images):\n",
        "        x = data[cnt].view(-1, 784)\n",
        "        l = label[cnt].unsqueeze(0)\n",
        "        l_e = vae.get_label_embedding(l)\n",
        "        x_l = torch.cat([x, l_e], dim=1)\n",
        "\n",
        "        with torch.no_grad():\n",
        "            # get mean and std of given image and label\n",
        "            mu0, log_var0 = vae.encoder(x_l)\n",
        "            z0 = vae.sampling(mu0, log_var0)\n",
        "\n",
        "            # draw a random value of mean and std from standard gaussian\n",
        "            shuffled_label_val = np.random.choice(np.arange(10, dtype=int))\n",
        "            shuffled_label = torch.tensor(shuffled_label_val, dtype=torch.int64).unsqueeze(0).cuda()\n",
        "            z1 = torch.randn(1, 2).cuda()\n",
        "\n",
        "            z_interp = torch.lerp(z0, z1, weight=interp_weight)\n",
        "            img_tensor = vae.decoder(z_interp, shuffled_label).view(1, 28, 28)\n",
        "            gen_images.append(img_tensor)\n",
        "    final_output = torch.vstack(gen_images)#.unsqueeze(1)\n",
        "    grid = make_grid(gen_images)\n",
        "    show(grid)\n",
        "    print(final_output.shape)\n",
        "    #show_image(final_output.cpu().permute(1,2,0))\n",
        "    #save_image(final_output, f'./samples/final_output_{weight*100}p.png')\n",
        "    return final_output\n"
      ]
    },
    {
      "cell_type": "markdown",
      "metadata": {
        "id": "W291JjmSov59"
      },
      "source": [
        "**Run the training**"
      ]
    },
    {
      "cell_type": "code",
      "execution_count": 8,
      "metadata": {
        "id": "UjESNjL0ov59",
        "outputId": "3d37c160-db65-4a2c-bff2-da9621070cc2",
        "colab": {
          "base_uri": "https://localhost:8080/"
        }
      },
      "outputs": [
        {
          "output_type": "stream",
          "name": "stdout",
          "text": [
            "Downloading http://yann.lecun.com/exdb/mnist/train-images-idx3-ubyte.gz\n",
            "Downloading http://yann.lecun.com/exdb/mnist/train-images-idx3-ubyte.gz to ./mnist_data/MNIST/raw/train-images-idx3-ubyte.gz\n"
          ]
        },
        {
          "output_type": "stream",
          "name": "stderr",
          "text": [
            "100%|██████████| 9912422/9912422 [00:00<00:00, 108777141.48it/s]\n"
          ]
        },
        {
          "output_type": "stream",
          "name": "stdout",
          "text": [
            "Extracting ./mnist_data/MNIST/raw/train-images-idx3-ubyte.gz to ./mnist_data/MNIST/raw\n",
            "\n",
            "Downloading http://yann.lecun.com/exdb/mnist/train-labels-idx1-ubyte.gz\n",
            "Downloading http://yann.lecun.com/exdb/mnist/train-labels-idx1-ubyte.gz to ./mnist_data/MNIST/raw/train-labels-idx1-ubyte.gz\n"
          ]
        },
        {
          "output_type": "stream",
          "name": "stderr",
          "text": [
            "100%|██████████| 28881/28881 [00:00<00:00, 22275780.40it/s]\n"
          ]
        },
        {
          "output_type": "stream",
          "name": "stdout",
          "text": [
            "Extracting ./mnist_data/MNIST/raw/train-labels-idx1-ubyte.gz to ./mnist_data/MNIST/raw\n",
            "\n",
            "Downloading http://yann.lecun.com/exdb/mnist/t10k-images-idx3-ubyte.gz\n",
            "Downloading http://yann.lecun.com/exdb/mnist/t10k-images-idx3-ubyte.gz to ./mnist_data/MNIST/raw/t10k-images-idx3-ubyte.gz\n"
          ]
        },
        {
          "output_type": "stream",
          "name": "stderr",
          "text": [
            "100%|██████████| 1648877/1648877 [00:00<00:00, 30358421.99it/s]\n"
          ]
        },
        {
          "output_type": "stream",
          "name": "stdout",
          "text": [
            "Extracting ./mnist_data/MNIST/raw/t10k-images-idx3-ubyte.gz to ./mnist_data/MNIST/raw\n",
            "\n",
            "Downloading http://yann.lecun.com/exdb/mnist/t10k-labels-idx1-ubyte.gz\n",
            "Downloading http://yann.lecun.com/exdb/mnist/t10k-labels-idx1-ubyte.gz to ./mnist_data/MNIST/raw/t10k-labels-idx1-ubyte.gz\n"
          ]
        },
        {
          "output_type": "stream",
          "name": "stderr",
          "text": [
            "100%|██████████| 4542/4542 [00:00<00:00, 18212742.61it/s]\n"
          ]
        },
        {
          "output_type": "stream",
          "name": "stdout",
          "text": [
            "Extracting ./mnist_data/MNIST/raw/t10k-labels-idx1-ubyte.gz to ./mnist_data/MNIST/raw\n",
            "\n",
            "Train Epoch: 0 [0/60000 (0%)]\tLoss: 545.392578\n",
            "Train Epoch: 0 [6400/60000 (11%)]\tLoss: 176.661011\n",
            "Train Epoch: 0 [12800/60000 (21%)]\tLoss: 160.923019\n",
            "Train Epoch: 0 [19200/60000 (32%)]\tLoss: 164.673477\n",
            "Train Epoch: 0 [25600/60000 (43%)]\tLoss: 166.780380\n",
            "Train Epoch: 0 [32000/60000 (53%)]\tLoss: 160.452286\n",
            "Train Epoch: 0 [38400/60000 (64%)]\tLoss: 147.801544\n",
            "Train Epoch: 0 [44800/60000 (75%)]\tLoss: 158.489197\n",
            "Train Epoch: 0 [51200/60000 (85%)]\tLoss: 146.766541\n",
            "Train Epoch: 0 [57600/60000 (96%)]\tLoss: 136.655731\n",
            "====> Epoch: 0 Average loss: 162.3158\n",
            "Train Epoch: 1 [0/60000 (0%)]\tLoss: 144.891342\n",
            "Train Epoch: 1 [6400/60000 (11%)]\tLoss: 144.712341\n",
            "Train Epoch: 1 [12800/60000 (21%)]\tLoss: 138.793030\n",
            "Train Epoch: 1 [19200/60000 (32%)]\tLoss: 140.682144\n",
            "Train Epoch: 1 [25600/60000 (43%)]\tLoss: 138.294083\n",
            "Train Epoch: 1 [32000/60000 (53%)]\tLoss: 136.155380\n",
            "Train Epoch: 1 [38400/60000 (64%)]\tLoss: 144.853165\n",
            "Train Epoch: 1 [44800/60000 (75%)]\tLoss: 140.962799\n",
            "Train Epoch: 1 [51200/60000 (85%)]\tLoss: 148.269043\n",
            "Train Epoch: 1 [57600/60000 (96%)]\tLoss: 135.937164\n",
            "====> Epoch: 1 Average loss: 139.9646\n",
            "Train Epoch: 2 [0/60000 (0%)]\tLoss: 134.033691\n",
            "Train Epoch: 2 [6400/60000 (11%)]\tLoss: 139.405258\n",
            "Train Epoch: 2 [12800/60000 (21%)]\tLoss: 147.444000\n",
            "Train Epoch: 2 [19200/60000 (32%)]\tLoss: 137.440048\n",
            "Train Epoch: 2 [25600/60000 (43%)]\tLoss: 134.198654\n",
            "Train Epoch: 2 [32000/60000 (53%)]\tLoss: 132.895386\n",
            "Train Epoch: 2 [38400/60000 (64%)]\tLoss: 129.077591\n",
            "Train Epoch: 2 [44800/60000 (75%)]\tLoss: 139.222855\n",
            "Train Epoch: 2 [51200/60000 (85%)]\tLoss: 131.059845\n",
            "Train Epoch: 2 [57600/60000 (96%)]\tLoss: 143.963577\n",
            "====> Epoch: 2 Average loss: 136.3154\n",
            "Train Epoch: 3 [0/60000 (0%)]\tLoss: 138.176544\n",
            "Train Epoch: 3 [6400/60000 (11%)]\tLoss: 147.411453\n",
            "Train Epoch: 3 [12800/60000 (21%)]\tLoss: 141.780899\n",
            "Train Epoch: 3 [19200/60000 (32%)]\tLoss: 136.241486\n",
            "Train Epoch: 3 [25600/60000 (43%)]\tLoss: 132.069351\n",
            "Train Epoch: 3 [32000/60000 (53%)]\tLoss: 133.026657\n",
            "Train Epoch: 3 [38400/60000 (64%)]\tLoss: 132.820984\n",
            "Train Epoch: 3 [44800/60000 (75%)]\tLoss: 125.224190\n",
            "Train Epoch: 3 [51200/60000 (85%)]\tLoss: 136.376358\n",
            "Train Epoch: 3 [57600/60000 (96%)]\tLoss: 133.609360\n",
            "====> Epoch: 3 Average loss: 134.5395\n",
            "Train Epoch: 4 [0/60000 (0%)]\tLoss: 131.104248\n",
            "Train Epoch: 4 [6400/60000 (11%)]\tLoss: 124.751068\n",
            "Train Epoch: 4 [12800/60000 (21%)]\tLoss: 138.477493\n",
            "Train Epoch: 4 [19200/60000 (32%)]\tLoss: 136.981094\n",
            "Train Epoch: 4 [25600/60000 (43%)]\tLoss: 134.244995\n",
            "Train Epoch: 4 [32000/60000 (53%)]\tLoss: 142.092331\n",
            "Train Epoch: 4 [38400/60000 (64%)]\tLoss: 123.678253\n",
            "Train Epoch: 4 [44800/60000 (75%)]\tLoss: 129.478027\n",
            "Train Epoch: 4 [51200/60000 (85%)]\tLoss: 148.587494\n",
            "Train Epoch: 4 [57600/60000 (96%)]\tLoss: 129.266876\n",
            "====> Epoch: 4 Average loss: 133.5516\n",
            "Train Epoch: 5 [0/60000 (0%)]\tLoss: 140.846970\n",
            "Train Epoch: 5 [6400/60000 (11%)]\tLoss: 133.580765\n",
            "Train Epoch: 5 [12800/60000 (21%)]\tLoss: 140.630493\n",
            "Train Epoch: 5 [19200/60000 (32%)]\tLoss: 138.663803\n",
            "Train Epoch: 5 [25600/60000 (43%)]\tLoss: 132.636871\n",
            "Train Epoch: 5 [32000/60000 (53%)]\tLoss: 120.832115\n",
            "Train Epoch: 5 [38400/60000 (64%)]\tLoss: 129.965332\n",
            "Train Epoch: 5 [44800/60000 (75%)]\tLoss: 142.219345\n",
            "Train Epoch: 5 [51200/60000 (85%)]\tLoss: 133.406570\n",
            "Train Epoch: 5 [57600/60000 (96%)]\tLoss: 131.260071\n",
            "====> Epoch: 5 Average loss: 132.8268\n",
            "Train Epoch: 6 [0/60000 (0%)]\tLoss: 146.156982\n",
            "Train Epoch: 6 [6400/60000 (11%)]\tLoss: 136.472015\n",
            "Train Epoch: 6 [12800/60000 (21%)]\tLoss: 138.733780\n",
            "Train Epoch: 6 [19200/60000 (32%)]\tLoss: 133.810913\n",
            "Train Epoch: 6 [25600/60000 (43%)]\tLoss: 139.501221\n",
            "Train Epoch: 6 [32000/60000 (53%)]\tLoss: 129.602005\n",
            "Train Epoch: 6 [38400/60000 (64%)]\tLoss: 143.639221\n",
            "Train Epoch: 6 [44800/60000 (75%)]\tLoss: 124.808228\n",
            "Train Epoch: 6 [51200/60000 (85%)]\tLoss: 143.119019\n",
            "Train Epoch: 6 [57600/60000 (96%)]\tLoss: 130.900482\n",
            "====> Epoch: 6 Average loss: 132.3374\n",
            "Train Epoch: 7 [0/60000 (0%)]\tLoss: 123.929169\n",
            "Train Epoch: 7 [6400/60000 (11%)]\tLoss: 139.302231\n",
            "Train Epoch: 7 [12800/60000 (21%)]\tLoss: 126.735962\n",
            "Train Epoch: 7 [19200/60000 (32%)]\tLoss: 132.649719\n",
            "Train Epoch: 7 [25600/60000 (43%)]\tLoss: 129.032745\n",
            "Train Epoch: 7 [32000/60000 (53%)]\tLoss: 143.164413\n",
            "Train Epoch: 7 [38400/60000 (64%)]\tLoss: 118.834641\n",
            "Train Epoch: 7 [44800/60000 (75%)]\tLoss: 131.093964\n",
            "Train Epoch: 7 [51200/60000 (85%)]\tLoss: 138.784683\n",
            "Train Epoch: 7 [57600/60000 (96%)]\tLoss: 136.603607\n",
            "====> Epoch: 7 Average loss: 131.8813\n",
            "Train Epoch: 8 [0/60000 (0%)]\tLoss: 129.823624\n",
            "Train Epoch: 8 [6400/60000 (11%)]\tLoss: 141.272491\n",
            "Train Epoch: 8 [12800/60000 (21%)]\tLoss: 125.615822\n",
            "Train Epoch: 8 [19200/60000 (32%)]\tLoss: 134.704620\n",
            "Train Epoch: 8 [25600/60000 (43%)]\tLoss: 129.827591\n",
            "Train Epoch: 8 [32000/60000 (53%)]\tLoss: 136.321487\n",
            "Train Epoch: 8 [38400/60000 (64%)]\tLoss: 137.633789\n",
            "Train Epoch: 8 [44800/60000 (75%)]\tLoss: 135.082779\n",
            "Train Epoch: 8 [51200/60000 (85%)]\tLoss: 126.357689\n",
            "Train Epoch: 8 [57600/60000 (96%)]\tLoss: 119.962166\n",
            "====> Epoch: 8 Average loss: 131.4813\n",
            "Train Epoch: 9 [0/60000 (0%)]\tLoss: 128.901978\n",
            "Train Epoch: 9 [6400/60000 (11%)]\tLoss: 131.921890\n",
            "Train Epoch: 9 [12800/60000 (21%)]\tLoss: 126.664917\n",
            "Train Epoch: 9 [19200/60000 (32%)]\tLoss: 130.668808\n",
            "Train Epoch: 9 [25600/60000 (43%)]\tLoss: 119.270500\n",
            "Train Epoch: 9 [32000/60000 (53%)]\tLoss: 130.941742\n",
            "Train Epoch: 9 [38400/60000 (64%)]\tLoss: 142.362488\n",
            "Train Epoch: 9 [44800/60000 (75%)]\tLoss: 130.611282\n",
            "Train Epoch: 9 [51200/60000 (85%)]\tLoss: 130.773529\n",
            "Train Epoch: 9 [57600/60000 (96%)]\tLoss: 134.122910\n",
            "====> Epoch: 9 Average loss: 131.2151\n",
            "Train Epoch: 10 [0/60000 (0%)]\tLoss: 124.116867\n",
            "Train Epoch: 10 [6400/60000 (11%)]\tLoss: 132.273407\n",
            "Train Epoch: 10 [12800/60000 (21%)]\tLoss: 130.815231\n",
            "Train Epoch: 10 [19200/60000 (32%)]\tLoss: 136.140594\n",
            "Train Epoch: 10 [25600/60000 (43%)]\tLoss: 133.127701\n",
            "Train Epoch: 10 [32000/60000 (53%)]\tLoss: 123.622803\n",
            "Train Epoch: 10 [38400/60000 (64%)]\tLoss: 123.715164\n",
            "Train Epoch: 10 [44800/60000 (75%)]\tLoss: 129.029938\n",
            "Train Epoch: 10 [51200/60000 (85%)]\tLoss: 123.003586\n",
            "Train Epoch: 10 [57600/60000 (96%)]\tLoss: 139.030243\n",
            "====> Epoch: 10 Average loss: 130.9608\n",
            "Train Epoch: 11 [0/60000 (0%)]\tLoss: 129.815369\n",
            "Train Epoch: 11 [6400/60000 (11%)]\tLoss: 124.593788\n",
            "Train Epoch: 11 [12800/60000 (21%)]\tLoss: 140.280624\n",
            "Train Epoch: 11 [19200/60000 (32%)]\tLoss: 130.748199\n",
            "Train Epoch: 11 [25600/60000 (43%)]\tLoss: 115.678673\n",
            "Train Epoch: 11 [32000/60000 (53%)]\tLoss: 142.307068\n",
            "Train Epoch: 11 [38400/60000 (64%)]\tLoss: 131.225586\n",
            "Train Epoch: 11 [44800/60000 (75%)]\tLoss: 129.493301\n",
            "Train Epoch: 11 [51200/60000 (85%)]\tLoss: 126.196045\n",
            "Train Epoch: 11 [57600/60000 (96%)]\tLoss: 134.395157\n",
            "====> Epoch: 11 Average loss: 130.6733\n",
            "Train Epoch: 12 [0/60000 (0%)]\tLoss: 133.859436\n",
            "Train Epoch: 12 [6400/60000 (11%)]\tLoss: 130.196045\n",
            "Train Epoch: 12 [12800/60000 (21%)]\tLoss: 121.249733\n",
            "Train Epoch: 12 [19200/60000 (32%)]\tLoss: 137.279083\n",
            "Train Epoch: 12 [25600/60000 (43%)]\tLoss: 122.636375\n",
            "Train Epoch: 12 [32000/60000 (53%)]\tLoss: 125.343651\n",
            "Train Epoch: 12 [38400/60000 (64%)]\tLoss: 141.049332\n",
            "Train Epoch: 12 [44800/60000 (75%)]\tLoss: 126.352440\n",
            "Train Epoch: 12 [51200/60000 (85%)]\tLoss: 129.419098\n",
            "Train Epoch: 12 [57600/60000 (96%)]\tLoss: 131.013672\n",
            "====> Epoch: 12 Average loss: 130.4665\n",
            "Train Epoch: 13 [0/60000 (0%)]\tLoss: 128.273132\n",
            "Train Epoch: 13 [6400/60000 (11%)]\tLoss: 138.791580\n",
            "Train Epoch: 13 [12800/60000 (21%)]\tLoss: 134.443985\n",
            "Train Epoch: 13 [19200/60000 (32%)]\tLoss: 131.963547\n",
            "Train Epoch: 13 [25600/60000 (43%)]\tLoss: 136.946213\n",
            "Train Epoch: 13 [32000/60000 (53%)]\tLoss: 131.405457\n",
            "Train Epoch: 13 [38400/60000 (64%)]\tLoss: 132.626755\n",
            "Train Epoch: 13 [44800/60000 (75%)]\tLoss: 136.119507\n",
            "Train Epoch: 13 [51200/60000 (85%)]\tLoss: 128.881226\n",
            "Train Epoch: 13 [57600/60000 (96%)]\tLoss: 121.529083\n",
            "====> Epoch: 13 Average loss: 130.2359\n",
            "Train Epoch: 14 [0/60000 (0%)]\tLoss: 138.054138\n",
            "Train Epoch: 14 [6400/60000 (11%)]\tLoss: 128.748062\n",
            "Train Epoch: 14 [12800/60000 (21%)]\tLoss: 132.377899\n",
            "Train Epoch: 14 [19200/60000 (32%)]\tLoss: 134.312210\n",
            "Train Epoch: 14 [25600/60000 (43%)]\tLoss: 127.900024\n",
            "Train Epoch: 14 [32000/60000 (53%)]\tLoss: 129.221527\n",
            "Train Epoch: 14 [38400/60000 (64%)]\tLoss: 132.926483\n",
            "Train Epoch: 14 [44800/60000 (75%)]\tLoss: 127.307007\n",
            "Train Epoch: 14 [51200/60000 (85%)]\tLoss: 127.456451\n",
            "Train Epoch: 14 [57600/60000 (96%)]\tLoss: 121.829033\n",
            "====> Epoch: 14 Average loss: 130.0440\n",
            "Train Epoch: 15 [0/60000 (0%)]\tLoss: 130.365356\n",
            "Train Epoch: 15 [6400/60000 (11%)]\tLoss: 129.251953\n",
            "Train Epoch: 15 [12800/60000 (21%)]\tLoss: 133.648102\n",
            "Train Epoch: 15 [19200/60000 (32%)]\tLoss: 127.953384\n",
            "Train Epoch: 15 [25600/60000 (43%)]\tLoss: 127.666000\n",
            "Train Epoch: 15 [32000/60000 (53%)]\tLoss: 123.761887\n",
            "Train Epoch: 15 [38400/60000 (64%)]\tLoss: 136.775589\n",
            "Train Epoch: 15 [44800/60000 (75%)]\tLoss: 127.125450\n",
            "Train Epoch: 15 [51200/60000 (85%)]\tLoss: 125.704636\n",
            "Train Epoch: 15 [57600/60000 (96%)]\tLoss: 133.263641\n",
            "====> Epoch: 15 Average loss: 129.8563\n",
            "Train Epoch: 16 [0/60000 (0%)]\tLoss: 128.638275\n",
            "Train Epoch: 16 [6400/60000 (11%)]\tLoss: 123.800346\n",
            "Train Epoch: 16 [12800/60000 (21%)]\tLoss: 134.577240\n",
            "Train Epoch: 16 [19200/60000 (32%)]\tLoss: 123.950371\n",
            "Train Epoch: 16 [25600/60000 (43%)]\tLoss: 130.283539\n",
            "Train Epoch: 16 [32000/60000 (53%)]\tLoss: 124.724960\n",
            "Train Epoch: 16 [38400/60000 (64%)]\tLoss: 132.591873\n",
            "Train Epoch: 16 [44800/60000 (75%)]\tLoss: 128.962082\n",
            "Train Epoch: 16 [51200/60000 (85%)]\tLoss: 118.158348\n",
            "Train Epoch: 16 [57600/60000 (96%)]\tLoss: 132.986420\n",
            "====> Epoch: 16 Average loss: 129.6669\n",
            "Train Epoch: 17 [0/60000 (0%)]\tLoss: 123.792198\n",
            "Train Epoch: 17 [6400/60000 (11%)]\tLoss: 130.708603\n",
            "Train Epoch: 17 [12800/60000 (21%)]\tLoss: 129.262817\n",
            "Train Epoch: 17 [19200/60000 (32%)]\tLoss: 132.095551\n",
            "Train Epoch: 17 [25600/60000 (43%)]\tLoss: 120.775261\n",
            "Train Epoch: 17 [32000/60000 (53%)]\tLoss: 126.569176\n",
            "Train Epoch: 17 [38400/60000 (64%)]\tLoss: 140.772552\n",
            "Train Epoch: 17 [44800/60000 (75%)]\tLoss: 134.670380\n",
            "Train Epoch: 17 [51200/60000 (85%)]\tLoss: 146.560425\n",
            "Train Epoch: 17 [57600/60000 (96%)]\tLoss: 131.192703\n",
            "====> Epoch: 17 Average loss: 129.5373\n",
            "Train Epoch: 18 [0/60000 (0%)]\tLoss: 130.686691\n",
            "Train Epoch: 18 [6400/60000 (11%)]\tLoss: 128.875656\n",
            "Train Epoch: 18 [12800/60000 (21%)]\tLoss: 130.237442\n",
            "Train Epoch: 18 [19200/60000 (32%)]\tLoss: 129.750458\n",
            "Train Epoch: 18 [25600/60000 (43%)]\tLoss: 126.225487\n",
            "Train Epoch: 18 [32000/60000 (53%)]\tLoss: 131.098007\n",
            "Train Epoch: 18 [38400/60000 (64%)]\tLoss: 126.234863\n",
            "Train Epoch: 18 [44800/60000 (75%)]\tLoss: 133.198105\n",
            "Train Epoch: 18 [51200/60000 (85%)]\tLoss: 133.238647\n",
            "Train Epoch: 18 [57600/60000 (96%)]\tLoss: 124.402435\n",
            "====> Epoch: 18 Average loss: 129.3914\n",
            "Train Epoch: 19 [0/60000 (0%)]\tLoss: 126.991425\n",
            "Train Epoch: 19 [6400/60000 (11%)]\tLoss: 129.828979\n",
            "Train Epoch: 19 [12800/60000 (21%)]\tLoss: 132.975021\n",
            "Train Epoch: 19 [19200/60000 (32%)]\tLoss: 123.799561\n",
            "Train Epoch: 19 [25600/60000 (43%)]\tLoss: 135.425690\n",
            "Train Epoch: 19 [32000/60000 (53%)]\tLoss: 130.449173\n",
            "Train Epoch: 19 [38400/60000 (64%)]\tLoss: 125.805771\n",
            "Train Epoch: 19 [44800/60000 (75%)]\tLoss: 125.638786\n",
            "Train Epoch: 19 [51200/60000 (85%)]\tLoss: 120.657181\n",
            "Train Epoch: 19 [57600/60000 (96%)]\tLoss: 126.008537\n",
            "====> Epoch: 19 Average loss: 129.2324\n",
            "Train Epoch: 20 [0/60000 (0%)]\tLoss: 134.792847\n",
            "Train Epoch: 20 [6400/60000 (11%)]\tLoss: 125.541992\n",
            "Train Epoch: 20 [12800/60000 (21%)]\tLoss: 127.967522\n",
            "Train Epoch: 20 [19200/60000 (32%)]\tLoss: 120.392899\n",
            "Train Epoch: 20 [25600/60000 (43%)]\tLoss: 127.751808\n",
            "Train Epoch: 20 [32000/60000 (53%)]\tLoss: 134.376907\n",
            "Train Epoch: 20 [38400/60000 (64%)]\tLoss: 124.512398\n",
            "Train Epoch: 20 [44800/60000 (75%)]\tLoss: 131.538284\n",
            "Train Epoch: 20 [51200/60000 (85%)]\tLoss: 123.582199\n",
            "Train Epoch: 20 [57600/60000 (96%)]\tLoss: 133.114441\n",
            "====> Epoch: 20 Average loss: 129.1202\n",
            "Train Epoch: 21 [0/60000 (0%)]\tLoss: 128.805557\n",
            "Train Epoch: 21 [6400/60000 (11%)]\tLoss: 131.740067\n",
            "Train Epoch: 21 [12800/60000 (21%)]\tLoss: 125.583466\n",
            "Train Epoch: 21 [19200/60000 (32%)]\tLoss: 133.574768\n",
            "Train Epoch: 21 [25600/60000 (43%)]\tLoss: 128.742661\n",
            "Train Epoch: 21 [32000/60000 (53%)]\tLoss: 124.249542\n",
            "Train Epoch: 21 [38400/60000 (64%)]\tLoss: 129.205032\n",
            "Train Epoch: 21 [44800/60000 (75%)]\tLoss: 126.105537\n",
            "Train Epoch: 21 [51200/60000 (85%)]\tLoss: 126.987991\n",
            "Train Epoch: 21 [57600/60000 (96%)]\tLoss: 124.201042\n",
            "====> Epoch: 21 Average loss: 128.9824\n",
            "Train Epoch: 22 [0/60000 (0%)]\tLoss: 135.370209\n",
            "Train Epoch: 22 [6400/60000 (11%)]\tLoss: 128.735229\n",
            "Train Epoch: 22 [12800/60000 (21%)]\tLoss: 128.628372\n",
            "Train Epoch: 22 [19200/60000 (32%)]\tLoss: 135.202591\n",
            "Train Epoch: 22 [25600/60000 (43%)]\tLoss: 124.812904\n",
            "Train Epoch: 22 [32000/60000 (53%)]\tLoss: 130.936615\n",
            "Train Epoch: 22 [38400/60000 (64%)]\tLoss: 138.792694\n",
            "Train Epoch: 22 [44800/60000 (75%)]\tLoss: 124.724731\n",
            "Train Epoch: 22 [51200/60000 (85%)]\tLoss: 130.560120\n",
            "Train Epoch: 22 [57600/60000 (96%)]\tLoss: 127.883080\n",
            "====> Epoch: 22 Average loss: 128.8623\n",
            "Train Epoch: 23 [0/60000 (0%)]\tLoss: 129.761459\n",
            "Train Epoch: 23 [6400/60000 (11%)]\tLoss: 124.629646\n",
            "Train Epoch: 23 [12800/60000 (21%)]\tLoss: 130.556915\n",
            "Train Epoch: 23 [19200/60000 (32%)]\tLoss: 123.387482\n",
            "Train Epoch: 23 [25600/60000 (43%)]\tLoss: 132.875839\n",
            "Train Epoch: 23 [32000/60000 (53%)]\tLoss: 123.094376\n",
            "Train Epoch: 23 [38400/60000 (64%)]\tLoss: 138.544098\n",
            "Train Epoch: 23 [44800/60000 (75%)]\tLoss: 124.746590\n",
            "Train Epoch: 23 [51200/60000 (85%)]\tLoss: 134.982956\n",
            "Train Epoch: 23 [57600/60000 (96%)]\tLoss: 129.137939\n",
            "====> Epoch: 23 Average loss: 128.7686\n",
            "Train Epoch: 24 [0/60000 (0%)]\tLoss: 137.410461\n",
            "Train Epoch: 24 [6400/60000 (11%)]\tLoss: 132.382690\n",
            "Train Epoch: 24 [12800/60000 (21%)]\tLoss: 135.860336\n",
            "Train Epoch: 24 [19200/60000 (32%)]\tLoss: 126.619095\n",
            "Train Epoch: 24 [25600/60000 (43%)]\tLoss: 127.966736\n",
            "Train Epoch: 24 [32000/60000 (53%)]\tLoss: 117.695679\n",
            "Train Epoch: 24 [38400/60000 (64%)]\tLoss: 133.257401\n",
            "Train Epoch: 24 [44800/60000 (75%)]\tLoss: 126.546135\n",
            "Train Epoch: 24 [51200/60000 (85%)]\tLoss: 132.857346\n",
            "Train Epoch: 24 [57600/60000 (96%)]\tLoss: 133.758072\n",
            "====> Epoch: 24 Average loss: 128.6502\n",
            "Train Epoch: 25 [0/60000 (0%)]\tLoss: 125.679718\n",
            "Train Epoch: 25 [6400/60000 (11%)]\tLoss: 127.645676\n",
            "Train Epoch: 25 [12800/60000 (21%)]\tLoss: 134.661743\n",
            "Train Epoch: 25 [19200/60000 (32%)]\tLoss: 134.856567\n",
            "Train Epoch: 25 [25600/60000 (43%)]\tLoss: 125.941032\n",
            "Train Epoch: 25 [32000/60000 (53%)]\tLoss: 126.964081\n",
            "Train Epoch: 25 [38400/60000 (64%)]\tLoss: 138.590408\n",
            "Train Epoch: 25 [44800/60000 (75%)]\tLoss: 123.417999\n",
            "Train Epoch: 25 [51200/60000 (85%)]\tLoss: 135.498917\n",
            "Train Epoch: 25 [57600/60000 (96%)]\tLoss: 123.722641\n",
            "====> Epoch: 25 Average loss: 128.5755\n",
            "Train Epoch: 26 [0/60000 (0%)]\tLoss: 126.112206\n",
            "Train Epoch: 26 [6400/60000 (11%)]\tLoss: 124.050522\n",
            "Train Epoch: 26 [12800/60000 (21%)]\tLoss: 134.971283\n",
            "Train Epoch: 26 [19200/60000 (32%)]\tLoss: 130.928619\n",
            "Train Epoch: 26 [25600/60000 (43%)]\tLoss: 128.410568\n",
            "Train Epoch: 26 [32000/60000 (53%)]\tLoss: 124.667267\n",
            "Train Epoch: 26 [38400/60000 (64%)]\tLoss: 130.600937\n",
            "Train Epoch: 26 [44800/60000 (75%)]\tLoss: 127.240425\n",
            "Train Epoch: 26 [51200/60000 (85%)]\tLoss: 125.728424\n",
            "Train Epoch: 26 [57600/60000 (96%)]\tLoss: 131.207840\n",
            "====> Epoch: 26 Average loss: 128.4828\n",
            "Train Epoch: 27 [0/60000 (0%)]\tLoss: 137.629044\n",
            "Train Epoch: 27 [6400/60000 (11%)]\tLoss: 133.352356\n",
            "Train Epoch: 27 [12800/60000 (21%)]\tLoss: 130.465729\n",
            "Train Epoch: 27 [19200/60000 (32%)]\tLoss: 124.517036\n",
            "Train Epoch: 27 [25600/60000 (43%)]\tLoss: 121.245903\n",
            "Train Epoch: 27 [32000/60000 (53%)]\tLoss: 134.873001\n",
            "Train Epoch: 27 [38400/60000 (64%)]\tLoss: 127.997971\n",
            "Train Epoch: 27 [44800/60000 (75%)]\tLoss: 132.508270\n",
            "Train Epoch: 27 [51200/60000 (85%)]\tLoss: 120.178078\n",
            "Train Epoch: 27 [57600/60000 (96%)]\tLoss: 125.587807\n",
            "====> Epoch: 27 Average loss: 128.3535\n",
            "Train Epoch: 28 [0/60000 (0%)]\tLoss: 127.910683\n",
            "Train Epoch: 28 [6400/60000 (11%)]\tLoss: 128.377991\n",
            "Train Epoch: 28 [12800/60000 (21%)]\tLoss: 118.677887\n",
            "Train Epoch: 28 [19200/60000 (32%)]\tLoss: 138.596497\n",
            "Train Epoch: 28 [25600/60000 (43%)]\tLoss: 122.508286\n",
            "Train Epoch: 28 [32000/60000 (53%)]\tLoss: 138.641129\n",
            "Train Epoch: 28 [38400/60000 (64%)]\tLoss: 118.693993\n",
            "Train Epoch: 28 [44800/60000 (75%)]\tLoss: 126.254959\n",
            "Train Epoch: 28 [51200/60000 (85%)]\tLoss: 125.569359\n",
            "Train Epoch: 28 [57600/60000 (96%)]\tLoss: 133.189041\n",
            "====> Epoch: 28 Average loss: 128.2507\n",
            "Train Epoch: 29 [0/60000 (0%)]\tLoss: 126.082451\n",
            "Train Epoch: 29 [6400/60000 (11%)]\tLoss: 136.977280\n",
            "Train Epoch: 29 [12800/60000 (21%)]\tLoss: 124.573135\n",
            "Train Epoch: 29 [19200/60000 (32%)]\tLoss: 133.298492\n",
            "Train Epoch: 29 [25600/60000 (43%)]\tLoss: 124.356094\n",
            "Train Epoch: 29 [32000/60000 (53%)]\tLoss: 136.180038\n",
            "Train Epoch: 29 [38400/60000 (64%)]\tLoss: 128.555725\n",
            "Train Epoch: 29 [44800/60000 (75%)]\tLoss: 125.975029\n",
            "Train Epoch: 29 [51200/60000 (85%)]\tLoss: 123.918320\n",
            "Train Epoch: 29 [57600/60000 (96%)]\tLoss: 134.123505\n",
            "====> Epoch: 29 Average loss: 128.1597\n"
          ]
        }
      ],
      "source": [
        "bs = 64\n",
        "num_epochs=30\n",
        "# MNIST Dataset\n",
        "train_dataset = datasets.MNIST(root='./mnist_data/', train=True, transform=transforms.ToTensor(), download=True)\n",
        "test_dataset = datasets.MNIST(root='./mnist_data/', train=False, transform=transforms.ToTensor(), download=False)\n",
        "\n",
        "# Data Loader (Input Pipeline)\n",
        "train_loader = torch.utils.data.DataLoader(dataset=train_dataset, batch_size=bs, shuffle=True)\n",
        "test_loader = torch.utils.data.DataLoader(dataset=test_dataset, batch_size=bs, shuffle=True)\n",
        "\n",
        "# build model\n",
        "vae = VAE(x_dim=784, h_dim1=512, h_dim2=256, z_dim=2)\n",
        "if torch.cuda.is_available():\n",
        "    vae.cuda()\n",
        "\n",
        "# Define optimizer\n",
        "optimizer = optim.Adam(vae.parameters())\n",
        "\n",
        "for epoch in range(num_epochs):\n",
        "    train(epoch)\n",
        "    #test(epoch)"
      ]
    },
    {
      "cell_type": "markdown",
      "metadata": {
        "id": "5GgDhIZTov59"
      },
      "source": [
        "**Generate Images**"
      ]
    },
    {
      "cell_type": "code",
      "execution_count": 24,
      "metadata": {
        "id": "wzQcBNAnov59",
        "outputId": "81f6debd-7367-47a9-9910-4edaa6c5513b",
        "colab": {
          "base_uri": "https://localhost:8080/",
          "height": 304
        }
      },
      "outputs": [
        {
          "output_type": "display_data",
          "data": {
            "text/plain": [
              "<Figure size 640x480 with 1 Axes>"
            ],
            "image/png": "[encoded data removed]"
          },
          "metadata": {}
        },
        {
          "output_type": "stream",
          "name": "stdout",
          "text": [
            "torch.Size([32, 28, 28])\n"
          ]
        }
      ],
      "source": [
        "op = conditional_generation(vae, test_loader, num_images=32, interp_weight=0.5)\n",
        "pl.show()"
      ]
    }
  ],
  "metadata": {
    "language_info": {
      "name": "python"
    },
    "colab": {
      "provenance": [],
      "gpuType": "T4",
      "include_colab_link": true
    },
    "kernelspec": {
      "name": "python3",
      "display_name": "Python 3"
    },
    "accelerator": "GPU"
  },
  "nbformat": 4,
  "nbformat_minor": 0
}