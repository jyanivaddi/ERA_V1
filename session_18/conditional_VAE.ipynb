{
  "nbformat": 4,
  "nbformat_minor": 0,
  "metadata": {
    "colab": {
      "provenance": [],
      "toc_visible": true
    },
    "kernelspec": {
      "name": "python3",
      "display_name": "Python 3"
    },
    "accelerator": "GPU",
    "widgets": {
      "application/vnd.jupyter.widget-state+json": {
        "f439eb4b51b84ee785cb6e9b222a4f46": {
          "model_module": "@jupyter-widgets/controls",
          "model_name": "HBoxModel",
          "state": {
            "_view_name": "HBoxView",
            "_dom_classes": [],
            "_model_name": "HBoxModel",
            "_view_module": "@jupyter-widgets/controls",
            "_model_module_version": "1.5.0",
            "_view_count": null,
            "_view_module_version": "1.5.0",
            "box_style": "",
            "layout": "IPY_MODEL_77e450b233cc41c3a0d7905f9747cec4",
            "_model_module": "@jupyter-widgets/controls",
            "children": [
              "IPY_MODEL_cd22258e7f82495b84af60105b6ec1e7",
              "IPY_MODEL_bfb3c11cfb8a4bff9b7fab7e2fc7a8e6"
            ]
          },
          "model_module_version": "1.5.0"
        },
        "77e450b233cc41c3a0d7905f9747cec4": {
          "model_module": "@jupyter-widgets/base",
          "model_name": "LayoutModel",
          "state": {
            "_view_name": "LayoutView",
            "grid_template_rows": null,
            "right": null,
            "justify_content": null,
            "_view_module": "@jupyter-widgets/base",
            "overflow": null,
            "_model_module_version": "1.2.0",
            "_view_count": null,
            "flex_flow": null,
            "width": null,
            "min_width": null,
            "border": null,
            "align_items": null,
            "bottom": null,
            "_model_module": "@jupyter-widgets/base",
            "top": null,
            "grid_column": null,
            "overflow_y": null,
            "overflow_x": null,
            "grid_auto_flow": null,
            "grid_area": null,
            "grid_template_columns": null,
            "flex": null,
            "_model_name": "LayoutModel",
            "justify_items": null,
            "grid_row": null,
            "max_height": null,
            "align_content": null,
            "visibility": null,
            "align_self": null,
            "height": null,
            "min_height": null,
            "padding": null,
            "grid_auto_rows": null,
            "grid_gap": null,
            "max_width": null,
            "order": null,
            "_view_module_version": "1.2.0",
            "grid_template_areas": null,
            "object_position": null,
            "object_fit": null,
            "grid_auto_columns": null,
            "margin": null,
            "display": null,
            "left": null
          },
          "model_module_version": "1.2.0"
        },
        "cd22258e7f82495b84af60105b6ec1e7": {
          "model_module": "@jupyter-widgets/controls",
          "model_name": "FloatProgressModel",
          "state": {
            "_view_name": "ProgressView",
            "style": "IPY_MODEL_a33883de0701451dbb5df3eb050b4829",
            "_dom_classes": [],
            "description": "",
            "_model_name": "FloatProgressModel",
            "bar_style": "info",
            "max": 1,
            "_view_module": "@jupyter-widgets/controls",
            "_model_module_version": "1.5.0",
            "value": 1,
            "_view_count": null,
            "_view_module_version": "1.5.0",
            "orientation": "horizontal",
            "min": 0,
            "description_tooltip": null,
            "_model_module": "@jupyter-widgets/controls",
            "layout": "IPY_MODEL_a9afd1eef79143ec966809ff046c7d8d"
          },
          "model_module_version": "1.5.0"
        },
        "bfb3c11cfb8a4bff9b7fab7e2fc7a8e6": {
          "model_module": "@jupyter-widgets/controls",
          "model_name": "HTMLModel",
          "state": {
            "_view_name": "HTMLView",
            "style": "IPY_MODEL_b02acbf1719c4c94b0026935becb292f",
            "_dom_classes": [],
            "description": "",
            "_model_name": "HTMLModel",
            "placeholder": "​",
            "_view_module": "@jupyter-widgets/controls",
            "_model_module_version": "1.5.0",
            "value": " 170500096/? [00:20&lt;00:00, 50443788.15it/s]",
            "_view_count": null,
            "_view_module_version": "1.5.0",
            "description_tooltip": null,
            "_model_module": "@jupyter-widgets/controls",
            "layout": "IPY_MODEL_ef417701511b496fa52a9b3595872402"
          },
          "model_module_version": "1.5.0"
        },
        "a33883de0701451dbb5df3eb050b4829": {
          "model_module": "@jupyter-widgets/controls",
          "model_name": "ProgressStyleModel",
          "state": {
            "_view_name": "StyleView",
            "_model_name": "ProgressStyleModel",
            "description_width": "initial",
            "_view_module": "@jupyter-widgets/base",
            "_model_module_version": "1.5.0",
            "_view_count": null,
            "_view_module_version": "1.2.0",
            "bar_color": null,
            "_model_module": "@jupyter-widgets/controls"
          },
          "model_module_version": "1.5.0"
        },
        "a9afd1eef79143ec966809ff046c7d8d": {
          "model_module": "@jupyter-widgets/base",
          "model_name": "LayoutModel",
          "state": {
            "_view_name": "LayoutView",
            "grid_template_rows": null,
            "right": null,
            "justify_content": null,
            "_view_module": "@jupyter-widgets/base",
            "overflow": null,
            "_model_module_version": "1.2.0",
            "_view_count": null,
            "flex_flow": null,
            "width": null,
            "min_width": null,
            "border": null,
            "align_items": null,
            "bottom": null,
            "_model_module": "@jupyter-widgets/base",
            "top": null,
            "grid_column": null,
            "overflow_y": null,
            "overflow_x": null,
            "grid_auto_flow": null,
            "grid_area": null,
            "grid_template_columns": null,
            "flex": null,
            "_model_name": "LayoutModel",
            "justify_items": null,
            "grid_row": null,
            "max_height": null,
            "align_content": null,
            "visibility": null,
            "align_self": null,
            "height": null,
            "min_height": null,
            "padding": null,
            "grid_auto_rows": null,
            "grid_gap": null,
            "max_width": null,
            "order": null,
            "_view_module_version": "1.2.0",
            "grid_template_areas": null,
            "object_position": null,
            "object_fit": null,
            "grid_auto_columns": null,
            "margin": null,
            "display": null,
            "left": null
          },
          "model_module_version": "1.2.0"
        },
        "b02acbf1719c4c94b0026935becb292f": {
          "model_module": "@jupyter-widgets/controls",
          "model_name": "DescriptionStyleModel",
          "state": {
            "_view_name": "StyleView",
            "_model_name": "DescriptionStyleModel",
            "description_width": "",
            "_view_module": "@jupyter-widgets/base",
            "_model_module_version": "1.5.0",
            "_view_count": null,
            "_view_module_version": "1.2.0",
            "_model_module": "@jupyter-widgets/controls"
          },
          "model_module_version": "1.5.0"
        },
        "ef417701511b496fa52a9b3595872402": {
          "model_module": "@jupyter-widgets/base",
          "model_name": "LayoutModel",
          "state": {
            "_view_name": "LayoutView",
            "grid_template_rows": null,
            "right": null,
            "justify_content": null,
            "_view_module": "@jupyter-widgets/base",
            "overflow": null,
            "_model_module_version": "1.2.0",
            "_view_count": null,
            "flex_flow": null,
            "width": null,
            "min_width": null,
            "border": null,
            "align_items": null,
            "bottom": null,
            "_model_module": "@jupyter-widgets/base",
            "top": null,
            "grid_column": null,
            "overflow_y": null,
            "overflow_x": null,
            "grid_auto_flow": null,
            "grid_area": null,
            "grid_template_columns": null,
            "flex": null,
            "_model_name": "LayoutModel",
            "justify_items": null,
            "grid_row": null,
            "max_height": null,
            "align_content": null,
            "visibility": null,
            "align_self": null,
            "height": null,
            "min_height": null,
            "padding": null,
            "grid_auto_rows": null,
            "grid_gap": null,
            "max_width": null,
            "order": null,
            "_view_module_version": "1.2.0",
            "grid_template_areas": null,
            "object_position": null,
            "object_fit": null,
            "grid_auto_columns": null,
            "margin": null,
            "display": null,
            "left": null
          },
          "model_module_version": "1.2.0"
        },
        "2564ba9c186a4a0c97afed82e6a6de9e": {
          "model_module": "@jupyter-widgets/controls",
          "model_name": "HBoxModel",
          "state": {
            "_view_name": "HBoxView",
            "_dom_classes": [],
            "_model_name": "HBoxModel",
            "_view_module": "@jupyter-widgets/controls",
            "_model_module_version": "1.5.0",
            "_view_count": null,
            "_view_module_version": "1.5.0",
            "box_style": "",
            "layout": "IPY_MODEL_392d704a4ff24ccf995b8ee943f048c0",
            "_model_module": "@jupyter-widgets/controls",
            "children": [
              "IPY_MODEL_cb2944a63e914b86a35bc47f1ff9f4d5",
              "IPY_MODEL_689d35abe0a74782b04a442738ea4754"
            ]
          },
          "model_module_version": "1.5.0"
        },
        "392d704a4ff24ccf995b8ee943f048c0": {
          "model_module": "@jupyter-widgets/base",
          "model_name": "LayoutModel",
          "state": {
            "_view_name": "LayoutView",
            "grid_template_rows": null,
            "right": null,
            "justify_content": null,
            "_view_module": "@jupyter-widgets/base",
            "overflow": null,
            "_model_module_version": "1.2.0",
            "_view_count": null,
            "flex_flow": "row wrap",
            "width": "100%",
            "min_width": null,
            "border": null,
            "align_items": null,
            "bottom": null,
            "_model_module": "@jupyter-widgets/base",
            "top": null,
            "grid_column": null,
            "overflow_y": null,
            "overflow_x": null,
            "grid_auto_flow": null,
            "grid_area": null,
            "grid_template_columns": null,
            "flex": null,
            "_model_name": "LayoutModel",
            "justify_items": null,
            "grid_row": null,
            "max_height": null,
            "align_content": null,
            "visibility": null,
            "align_self": null,
            "height": null,
            "min_height": null,
            "padding": null,
            "grid_auto_rows": null,
            "grid_gap": null,
            "max_width": null,
            "order": null,
            "_view_module_version": "1.2.0",
            "grid_template_areas": null,
            "object_position": null,
            "object_fit": null,
            "grid_auto_columns": null,
            "margin": null,
            "display": "inline-flex",
            "left": null
          },
          "model_module_version": "1.2.0"
        },
        "cb2944a63e914b86a35bc47f1ff9f4d5": {
          "model_module": "@jupyter-widgets/controls",
          "model_name": "FloatProgressModel",
          "state": {
            "_view_name": "ProgressView",
            "style": "IPY_MODEL_b7d87e62572b4302b42d05fbfd039c76",
            "_dom_classes": [],
            "description": "Epoch 18:  38%",
            "_model_name": "FloatProgressModel",
            "bar_style": "info",
            "max": 1406,
            "_view_module": "@jupyter-widgets/controls",
            "_model_module_version": "1.5.0",
            "value": 540,
            "_view_count": null,
            "_view_module_version": "1.5.0",
            "orientation": "horizontal",
            "min": 0,
            "description_tooltip": null,
            "_model_module": "@jupyter-widgets/controls",
            "layout": "IPY_MODEL_d99a8cd7c5694a95aba1880b00d5f111"
          },
          "model_module_version": "1.5.0"
        },
        "689d35abe0a74782b04a442738ea4754": {
          "model_module": "@jupyter-widgets/controls",
          "model_name": "HTMLModel",
          "state": {
            "_view_name": "HTMLView",
            "style": "IPY_MODEL_4b14e76b2113485a879481e113063bfd",
            "_dom_classes": [],
            "description": "",
            "_model_name": "HTMLModel",
            "placeholder": "​",
            "_view_module": "@jupyter-widgets/controls",
            "_model_module_version": "1.5.0",
            "value": " 540/1406 [00:58&lt;01:33,  9.22it/s, loss=1044.294, v_num=0]",
            "_view_count": null,
            "_view_module_version": "1.5.0",
            "description_tooltip": null,
            "_model_module": "@jupyter-widgets/controls",
            "layout": "IPY_MODEL_d73acc5f688e403599cc59deef6641fa"
          },
          "model_module_version": "1.5.0"
        },
        "b7d87e62572b4302b42d05fbfd039c76": {
          "model_module": "@jupyter-widgets/controls",
          "model_name": "ProgressStyleModel",
          "state": {
            "_view_name": "StyleView",
            "_model_name": "ProgressStyleModel",
            "description_width": "initial",
            "_view_module": "@jupyter-widgets/base",
            "_model_module_version": "1.5.0",
            "_view_count": null,
            "_view_module_version": "1.2.0",
            "bar_color": null,
            "_model_module": "@jupyter-widgets/controls"
          },
          "model_module_version": "1.5.0"
        },
        "d99a8cd7c5694a95aba1880b00d5f111": {
          "model_module": "@jupyter-widgets/base",
          "model_name": "LayoutModel",
          "state": {
            "_view_name": "LayoutView",
            "grid_template_rows": null,
            "right": null,
            "justify_content": null,
            "_view_module": "@jupyter-widgets/base",
            "overflow": null,
            "_model_module_version": "1.2.0",
            "_view_count": null,
            "flex_flow": null,
            "width": null,
            "min_width": null,
            "border": null,
            "align_items": null,
            "bottom": null,
            "_model_module": "@jupyter-widgets/base",
            "top": null,
            "grid_column": null,
            "overflow_y": null,
            "overflow_x": null,
            "grid_auto_flow": null,
            "grid_area": null,
            "grid_template_columns": null,
            "flex": "2",
            "_model_name": "LayoutModel",
            "justify_items": null,
            "grid_row": null,
            "max_height": null,
            "align_content": null,
            "visibility": null,
            "align_self": null,
            "height": null,
            "min_height": null,
            "padding": null,
            "grid_auto_rows": null,
            "grid_gap": null,
            "max_width": null,
            "order": null,
            "_view_module_version": "1.2.0",
            "grid_template_areas": null,
            "object_position": null,
            "object_fit": null,
            "grid_auto_columns": null,
            "margin": null,
            "display": null,
            "left": null
          },
          "model_module_version": "1.2.0"
        },
        "4b14e76b2113485a879481e113063bfd": {
          "model_module": "@jupyter-widgets/controls",
          "model_name": "DescriptionStyleModel",
          "state": {
            "_view_name": "StyleView",
            "_model_name": "DescriptionStyleModel",
            "description_width": "",
            "_view_module": "@jupyter-widgets/base",
            "_model_module_version": "1.5.0",
            "_view_count": null,
            "_view_module_version": "1.2.0",
            "_model_module": "@jupyter-widgets/controls"
          },
          "model_module_version": "1.5.0"
        },
        "d73acc5f688e403599cc59deef6641fa": {
          "model_module": "@jupyter-widgets/base",
          "model_name": "LayoutModel",
          "state": {
            "_view_name": "LayoutView",
            "grid_template_rows": null,
            "right": null,
            "justify_content": null,
            "_view_module": "@jupyter-widgets/base",
            "overflow": null,
            "_model_module_version": "1.2.0",
            "_view_count": null,
            "flex_flow": null,
            "width": null,
            "min_width": null,
            "border": null,
            "align_items": null,
            "bottom": null,
            "_model_module": "@jupyter-widgets/base",
            "top": null,
            "grid_column": null,
            "overflow_y": null,
            "overflow_x": null,
            "grid_auto_flow": null,
            "grid_area": null,
            "grid_template_columns": null,
            "flex": null,
            "_model_name": "LayoutModel",
            "justify_items": null,
            "grid_row": null,
            "max_height": null,
            "align_content": null,
            "visibility": null,
            "align_self": null,
            "height": null,
            "min_height": null,
            "padding": null,
            "grid_auto_rows": null,
            "grid_gap": null,
            "max_width": null,
            "order": null,
            "_view_module_version": "1.2.0",
            "grid_template_areas": null,
            "object_position": null,
            "object_fit": null,
            "grid_auto_columns": null,
            "margin": null,
            "display": null,
            "left": null
          },
          "model_module_version": "1.2.0"
        }
      }
    }
  },
  "cells": [
    {
      "cell_type": "markdown",
      "metadata": {
        "id": "rR4_BAUYs3Mb"
      },
      "source": [
        "![image.png](data:image/png;base64,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)"
      ]
    },
    {
      "cell_type": "markdown",
      "metadata": {
        "id": "i7XbLCXGkll9"
      },
      "source": [
        "# VAE tutorial\n",
        "Here we implement a VAE using Lightning.\n",
        "\n",
        "⚡️ [The video tutorial is here](...)\n",
        "\n",
        "⚡️ [Remember! we're always available for support on Slack](https://join.slack.com/t/pytorch-lightning/shared_invite/zt-f6bl2l0l-JYMK3tbAgAmGRrlNr00f1A)"
      ]
    },
    {
      "cell_type": "markdown",
      "metadata": {
        "id": "EYDKIsTtk3hJ"
      },
      "source": [
        "---\n",
        "# VAE Loss\n",
        "\n",
        "The loss we'll be implementing for the VAE is called the ELBO.\n",
        "\n",
        "$$\n",
        "\\color{red}{\\min \\mathbb{E}_{q}[ \\log q(z|x) - \\log p(z)]} - \\color{blue}{\\mathbb{E}_{q} \\log p(x|z)}\n",
        "$$\n",
        "\n",
        "The first term is the KL-divergence and the second term the reconstruction.\n",
        "\n",
        "For a full derivation and explanation see the next section"
      ]
    },
    {
      "cell_type": "markdown",
      "metadata": {
        "id": "XNmWnAHqmyeg"
      },
      "source": [
        "---\n",
        "# Math\n",
        "\n",
        "If you don't care about the derivation, please skip this part.\n",
        "\n",
        "There are 2 ways to derive the VAE loss.\n",
        "1. Using Jensen's inequality\n",
        "2. Using KL divergence.\n",
        "\n",
        "In this tutorial we'll use KL divergence."
      ]
    },
    {
      "cell_type": "markdown",
      "metadata": {
        "id": "xOVursP7lpR-"
      },
      "source": [
        "\n",
        "## ELBO derivation\n",
        "\n",
        "### What is the ELBO?\n",
        "The result of this derivation is a loss called ELBO (evidence lower bound). The ELBO has two terms\n",
        "\n",
        "Term 1: Reconstruction\n",
        "$$\n",
        "- \\mathbb{E}_q \\log p(x|z)\n",
        "$$\n",
        "\n",
        "Term 2: KL divergence\n",
        "$$\n",
        "\\mathbb{E}_{q}  \\log \\frac{q(z|x)}{p(z)}\n",
        "$$\n",
        "\n",
        "Together, these two terms define the ELBO:\n",
        "\n",
        "$$\n",
        "- \\mathbb{E}_{q}  \\log p(x|z) + \\mathbb{E}_{q}  \\log \\frac{q(z|x)}{p(z)}\n",
        "$$"
      ]
    },
    {
      "cell_type": "markdown",
      "metadata": {
        "id": "X-rDXrQYoA8R"
      },
      "source": [
        "### ELBO as a bound\n",
        "Minimizing KL divergence is equivalent to maximizing ELBO (with some slack).\n",
        "\n",
        "This means that ELBO is a lowerbound on KL divergence.\n",
        "Here's a rendering of what we mean by this in abstract terms\n",
        "\n",
        "![image.png](data:image/png;base64,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)"
      ]
    },
    {
      "cell_type": "markdown",
      "metadata": {
        "id": "JsNG8hlsonO1"
      },
      "source": [
        "---\n",
        "### How we get ELBO\n",
        "\n",
        "Here's how we end up finding the ELBO.\n",
        "\n",
        "First, remember we want to model a distribution over inputs, $ p(x) $. These can be images, etc...\n",
        "\n",
        "We assume that there are factors that influence x but that we can't observe. We call these *latent* variables. We use $z$ to refer to these.\n",
        "\n",
        "So, by using marginalization, we can rewrite this as\n",
        "\n",
        "$$\n",
        "p(x) = \\int_z p(x|z)dz\n",
        "$$\n",
        "\n",
        "Marginalization is just fancy for summing over a variable.\n",
        "Here's an example using a discrete probability distribution.\n",
        "\n",
        "\n",
        "![image.png](data:image/png;base64,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)\n",
        "\n",
        "\n"
      ]
    },
    {
      "cell_type": "markdown",
      "metadata": {
        "id": "XoNL4B-kp3NL"
      },
      "source": [
        "So, the joint model that uses $z$ variables to explain $x$ is defined by:\n",
        "\n",
        "$$\n",
        "p(x,z) = p(z|x)p(x)\\\\\n",
        "\\frac{p(x,z)}{p(x)} = p(z|x)\n",
        "$$\n",
        "\n",
        "But again, we find the $p(x)$ term at the bottom\n",
        "\n",
        "To solve this we define $q(z|x)$ to approximate $p(z|x)$. $q$ is called the approximate posterior and $p$ the true posterior"
      ]
    },
    {
      "cell_type": "markdown",
      "metadata": {
        "id": "Ig78GwMIq-64"
      },
      "source": [
        "Now this is starting to look like something we can do with machine learning. We have a source ($p$) and a target ($q$). We can treat this as an optimization problem where we parametrize $q$ (ie: a neural network) to try to get close to $p$ via gradient descent.\n",
        "\n",
        "This is called variational inference (in general).\n",
        "\n",
        "![image.png](data:image/png;base64,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)"
      ]
    },
    {
      "cell_type": "markdown",
      "metadata": {
        "id": "sDllD59yrXhc"
      },
      "source": [
        "### KL divergence definition\n",
        "\n",
        "The distance to minimize is called the KL divergence.\n",
        "When we minimize the KL divergence, our $q$ will be an estimator of $p$.\n",
        "\n",
        "This is the definition for the KL divergence between two distributions P, Q:\n",
        "\n",
        "$$\n",
        "D_{KL}(Q||P) = \\sum Q \\log \\frac{Q}{P}\n",
        "$$\n",
        "\n",
        "We'll replace Q, P with our distributions $P = p(z|x)$ and $Q = q(z|x)$\n",
        "$$\n",
        "D_{KL}(q(z|x)||p(z|x)) = \\sum q(z|x) \\log \\frac{q(z|x)}{p(z|x)}\n",
        "$$"
      ]
    },
    {
      "cell_type": "markdown",
      "metadata": {
        "id": "HIsB53qks8SU"
      },
      "source": [
        "#### Sidenote about probability notation\n",
        "I know using notation like $p(x)$ is confusing for those new to probability theory, but it is just a placeholder that stands for any distribution we want.\n",
        "For example, $p(x)$ can be a Normal distribution, or a poisson, or any of the dozens of distributions available. It makes the math easier to manipulate simple letters with a few properties from probability theory"
      ]
    },
    {
      "cell_type": "markdown",
      "metadata": {
        "id": "LaFuJNUqtByy"
      },
      "source": [
        "### ELBO derivation from KL(Q||P)\n",
        "So, let's just play around with KL to see what comes out of the other end\n",
        "\n",
        "\\begin{align}\n",
        "D_{KL}(q(z|x)||p(z|x)) &= \\sum q(z|x) \\log \\frac{q(z|x)}{p(z|x)}\\\\\n",
        "&= -\\sum q(z|x) \\log \\frac{p(z|x)}{q(z|x)}\\\\\n",
        "&= -\\sum q(z|x)  \\left[\\log p(z|x) - \\log q(z|x) \\right]\\\\\n",
        "&= -\\sum q(z|x) \\left[\\log \\frac{p(x|z)p(z)}{p(x)} - \\log q(z|x) \\right]\\\\\n",
        "&= -\\sum q(z|x) \\left[\\log p(x|z) + \\log p(z) - \\log p(x) - \\log q(z|x) \\right]\\\\\n",
        "&= \\sum q(z|x) \\left[-\\log p(x|z) - \\log p(z) + \\log p(x) + \\log q(z|x) \\right]\\\\\n",
        "D_{KL}(q(z|x)||p(z|x)) - \\sum q(z|x) \\left[-\\log p(x|z) - \\log p(z) + \\log q(z|x) \\right] &= \\log p(x)\\\\\n",
        "-\\sum q(z|x) \\left[-\\log p(x|z) + \\log \\frac{q(z|x)}{p(z)} \\right] &= \\\\\n",
        "-\\mathbb{E}_{z \\sim q(z|x)} \\left[-\\log p(x|z) + \\log \\frac{q(z|x)}{p(z)} \\right] &=\\\\\n",
        "-\\mathbb{E}_{q} \\left[-\\log p(x|z) + \\log \\frac{q(z|x)}{p(z)} \\right] &=\\\\\n",
        "\\mathbb{E}_{q} \\left[\\log p(x|z) - \\log \\frac{q(z|x)}{p(z)} \\right] &=\\\\\n",
        "D_{KL}(q(z|x)||p(z|x)) + \\left[ \\mathbb{E}_{q} \\log p(x|z)  - \\mathbb{E}_{q}  \\log \\frac{q(z|x)}{p(z)} \\right] &= \\log p(x)\\\\\n",
        "\\end{align}"
      ]
    },
    {
      "cell_type": "markdown",
      "metadata": {
        "id": "pxtxNb7ul4-W"
      },
      "source": [
        "### Neural network loss\n",
        "To maximize the ELBO, we can minimize the negative of the ELBO.\n",
        "\n",
        "$$\n",
        "\\max \\mathbb{E}_{q} \\log p(x|z)  - \\mathbb{E}_{q}  \\log \\frac{q(z|x)}{p(z)} =\n",
        "\\min  - [\\mathbb{E}_{q} \\log p(x|z)  - \\mathbb{E}_{q}  \\log \\frac{q(z|x)}{p(z)}]\n",
        "$$"
      ]
    },
    {
      "cell_type": "markdown",
      "metadata": {
        "id": "7QarJNZil66U"
      },
      "source": [
        "### Monte carlo loss\n",
        "\\begin{align}\n",
        "-\\mathbb{E}_{q} \\log p(x|z)  + \\mathbb{E}_{q}[ \\log q(z|x) - \\log p(z)]&= \\\\\n",
        "\\mathbb{E}_{q}[ \\log q(z|x) - \\log p(z)] - \\mathbb{E}_{q} \\log p(x|z)&=\n",
        "\\end{align}"
      ]
    },
    {
      "cell_type": "markdown",
      "metadata": {
        "id": "YV7LJpNFPdwg"
      },
      "source": [
        "\n",
        "The end result is:\n",
        "\n",
        "\\begin{align}\n",
        "D_{KL}(q(z|x)||p(z|x)) + \\left[ \\mathbb{E}_{q} \\log p(x|z)  - \\mathbb{E}_{q}  \\log \\frac{q(z|x)}{p(z)} \\right] &= \\log p(x)\n",
        "\\end{align}\n",
        "\n",
        "\n",
        "The first term is the original $D_{KL}$ we want to minimize, ($D_{KL}(q(z|x)||p(z|x))$). The second term is called the variational lower bound (ELBO).\n",
        "\n",
        "$$\n",
        "\\max \\mathcal{L} = \\mathbb{E}_{q} \\log p(x|z)  - \\mathbb{E}_{q}  \\log \\frac{q(z|x)}{p(z)}\n",
        "$$\n",
        "\n",
        "Since $\\log p(x)$ is a constant, and we want to minimize the $D_{KL}$ term, we can achieve the same by maximizing the ELBO.\n"
      ]
    },
    {
      "cell_type": "markdown",
      "metadata": {
        "id": "5kHvXUqWt8ea"
      },
      "source": [
        "So, the end goal is to minimize this function:\n",
        "\n",
        "$$\n",
        "\\color{red}{\\min \\mathbb{E}_{q}[ \\log q(z|x) - \\log p(z)]} - \\color{blue}{\\mathbb{E}_{q} \\log p(x|z)}\n",
        "$$"
      ]
    },
    {
      "cell_type": "markdown",
      "metadata": {
        "id": "QYSgJM7VzbxW"
      },
      "source": []
    },
    {
      "cell_type": "markdown",
      "metadata": {
        "id": "eYWgxTTouTod"
      },
      "source": [
        "### Other implementations\n",
        "Here's where a disconnect might happen. For most tutorials, the tutorials assume that $p(z)$ (the prior) is gaussian and also assumes that $p(z|x)$ is also gaussian.\n",
        "\n",
        "So, most tutorials end up with a KL divergence that looks like:\n",
        "\n",
        "$$\n",
        "-0.5 \\sum{1 \\log{(\\sigma)} - \\mu^2 - e^{\\log{(\\sigma)}}}\n",
        "$$\n"
      ]
    },
    {
      "cell_type": "markdown",
      "metadata": {
        "id": "mCj8eWKGwIBo"
      },
      "source": [
        "But in our case, we won't do that because we want to retain the flexibility to modify distributions as needed.\n",
        "\n",
        "And since we don't know the KL between all possible pairs of distributions, we'll actually just use monte-carlo sampling for this.\n",
        "\n",
        "Recall that:\n",
        "$$\n",
        "\\mathbb{E}_p = \\frac{1}{N}\\sum_{}p(x)\n",
        "$$\n",
        "\n",
        "So, anywhere we see $\\mathbb{E}_q$ we will draw a sample from q and use it in the formula."
      ]
    },
    {
      "cell_type": "code",
      "metadata": {
        "colab": {
          "base_uri": "https://localhost:8080/"
        },
        "id": "LBp3UA3ooAWg",
        "outputId": "becf758d-227d-4c0c-98e5-99ca7a62c2ce"
      },
      "source": [
        "import torch\n",
        "\n",
        "q = torch.distributions.Normal(2, 4)\n",
        "\n",
        "z = q.rsample()\n",
        "print(z)"
      ],
      "execution_count": null,
      "outputs": [
        {
          "output_type": "stream",
          "text": [
            "tensor(6.0110)\n"
          ],
          "name": "stdout"
        }
      ]
    },
    {
      "cell_type": "markdown",
      "metadata": {
        "id": "PUJszG6X-IjC"
      },
      "source": [
        "## KL divergence intuition\n",
        "Here we show the intuition of minimizing the KL"
      ]
    },
    {
      "cell_type": "code",
      "metadata": {
        "colab": {
          "base_uri": "https://localhost:8080/"
        },
        "id": "lIPuWEQI5CvH",
        "outputId": "4ad00eac-88de-4111-ec77-6331db3fac41"
      },
      "source": [
        "p = torch.distributions.Normal(0, 1)\n",
        "q = torch.distributions.Normal(2, 4)\n",
        "\n",
        "log_pz = p.log_prob(z)\n",
        "log_qzx = q.log_prob(z)\n",
        "\n",
        "print('log prob pz: ', log_pz, 'prob:', torch.exp(log_pz))\n",
        "print('log prob qzx: ', log_qzx, 'prob:', torch.exp(log_qzx))"
      ],
      "execution_count": null,
      "outputs": [
        {
          "output_type": "stream",
          "text": [
            "log prob pz:  tensor(-18.9850) prob: tensor(5.6877e-09)\n",
            "log prob qzx:  tensor(-2.8080) prob: tensor(0.0603)\n"
          ],
          "name": "stdout"
        }
      ]
    },
    {
      "cell_type": "code",
      "metadata": {
        "colab": {
          "base_uri": "https://localhost:8080/"
        },
        "id": "8OEM2xJ39PUZ",
        "outputId": "b0011525-77d2-4c20-b708-17086bac1913"
      },
      "source": [
        "kl_divergence = log_qzx - log_pz\n",
        "kl_divergence"
      ],
      "execution_count": null,
      "outputs": [
        {
          "output_type": "execute_result",
          "data": {
            "text/plain": [
              "tensor(16.1770)"
            ]
          },
          "metadata": {
            "tags": []
          },
          "execution_count": 8
        }
      ]
    },
    {
      "cell_type": "markdown",
      "metadata": {
        "id": "q_N9da8V-Qom"
      },
      "source": [
        "now, if we manually move q closer to p, we see that this distrance has shrunk."
      ]
    },
    {
      "cell_type": "code",
      "metadata": {
        "colab": {
          "base_uri": "https://localhost:8080/"
        },
        "id": "q59dzIZq-eSG",
        "outputId": "da836119-546a-443e-93b3-7ea65e74138f"
      },
      "source": [
        "# old q = torch.distributions.Normal(2, 4)\n",
        "q = torch.distributions.Normal(1, 2)\n",
        "\n",
        "log_qzx = q.log_prob(z)\n",
        "print('log prob qzx: ', log_qzx, 'prob:', torch.exp(log_qzx))"
      ],
      "execution_count": null,
      "outputs": [
        {
          "output_type": "stream",
          "text": [
            "log prob qzx:  tensor(-4.7508) prob: tensor(0.0086)\n"
          ],
          "name": "stdout"
        }
      ]
    },
    {
      "cell_type": "markdown",
      "metadata": {
        "id": "7kJdo6PT-mWE"
      },
      "source": [
        "new kl"
      ]
    },
    {
      "cell_type": "code",
      "metadata": {
        "colab": {
          "base_uri": "https://localhost:8080/"
        },
        "id": "G2Sw9t_F-ovn",
        "outputId": "22a43e50-a3ce-4264-d217-95b305a2fb3b"
      },
      "source": [
        "new_kl_divergence = log_qzx - log_pz\n",
        "new_kl_divergence"
      ],
      "execution_count": null,
      "outputs": [
        {
          "output_type": "execute_result",
          "data": {
            "text/plain": [
              "tensor(14.2341)"
            ]
          },
          "metadata": {
            "tags": []
          },
          "execution_count": 16
        }
      ]
    },
    {
      "cell_type": "markdown",
      "metadata": {
        "id": "6kCuRWlIx39v"
      },
      "source": [
        "---\n",
        "## Implementation walk-through\n",
        "So, with our formula defined, let's start our implementation.\n",
        "\n",
        "\n",
        "If you skipped the math and elbo derivation, remember we are implementing this loss (the ELBO)\n",
        "\n",
        "$$\n",
        "\\color{red}{\\min \\mathbb{E}_{q}[ \\log q(z|x) - \\log p(z)]} - \\color{blue}{\\mathbb{E}_{q} \\log p(x|z)}\n",
        "$$"
      ]
    },
    {
      "cell_type": "code",
      "metadata": {
        "id": "Ue4hW0MtyAIm"
      },
      "source": [
        "%%capture\n",
        "! pip install pytorch-lightning\n",
        "! pip install pytorch-lightning-bolts==0.2.5rc1"
      ],
      "execution_count": null,
      "outputs": []
    },
    {
      "cell_type": "markdown",
      "metadata": {
        "id": "qCH1jxMCyVgP"
      },
      "source": [
        "#### First 4 elements\n",
        "The main 4 elements of a VAE are:\n",
        "- encoder\n",
        "- decoder\n",
        "- mu\n",
        "- sigma\n",
        "\n",
        "mu, sigma are the parameters for the distributions in our formula.\n",
        "\n",
        "Note: in our notation we say $q(z|x)$ where we assume $q$ to be a neural network. However, q is a neural network that DOES NOT GENERATE z. Instead it generates parameters FOR a distribution OVER z."
      ]
    },
    {
      "cell_type": "code",
      "metadata": {
        "id": "BOYE51Hnytie"
      },
      "source": [
        "import pytorch_lightning as pl\n",
        "from torch import nn\n",
        "from torch.nn import functional as F\n",
        "from pl_bolts.models.autoencoders.components import (\n",
        "    resnet18_decoder,\n",
        "    resnet18_encoder,\n",
        ")\n",
        "\n",
        "class VAE(pl.LightningModule):\n",
        "    def __init__(self, enc_out_dim=512, latent_dim=256, input_height=32):\n",
        "        super().__init__()\n",
        "\n",
        "        self.save_hyperparameters()\n",
        "\n",
        "        # encoder, decoder\n",
        "        self.encoder = resnet18_encoder(False, False)\n",
        "        self.decoder = resnet18_decoder(\n",
        "            latent_dim=latent_dim,\n",
        "            input_height=input_height,\n",
        "            first_conv=False,\n",
        "            maxpool1=False\n",
        "        )\n",
        "\n",
        "        # distribution parameters\n",
        "        self.fc_mu = nn.Linear(enc_out_dim, latent_dim)\n",
        "        self.fc_var = nn.Linear(enc_out_dim, latent_dim)"
      ],
      "execution_count": null,
      "outputs": []
    },
    {
      "cell_type": "markdown",
      "metadata": {
        "id": "ZOnfCpUL0oJp"
      },
      "source": [
        "#### Sample z\n",
        "\n",
        "In Lightning we define the model interactions and the core algorithm in the training_step.\n",
        "\n",
        "For EDUCATIONAL purposes only, we are adding the training_step to the lightning module here instead of in the original class definition\n",
        "\n",
        "The VAE algorithm goes like this:\n",
        "\n",
        "1. Sample z"
      ]
    },
    {
      "cell_type": "code",
      "metadata": {
        "id": "k2Y1o0JvJ4KR"
      },
      "source": [
        "vae = VAE()"
      ],
      "execution_count": null,
      "outputs": []
    },
    {
      "cell_type": "code",
      "metadata": {
        "colab": {
          "base_uri": "https://localhost:8080/"
        },
        "id": "M2DA3vyA1J63",
        "outputId": "a5b7285b-9587-4184-a539-057ab2343e9e"
      },
      "source": [
        "# DATA\n",
        "# we're pretending to have an image from cifar-10 (3 channels, 32x32 pixels)\n",
        "x = torch.rand(1, 3, 32, 32)\n",
        "\n",
        "print('image shape:', x.shape)\n",
        "\n",
        "# GET Q(z|x) PARAMETERS\n",
        "# encode x to get the mu and variance parameters\n",
        "x_encoded = vae.encoder(x)\n",
        "mu, log_var = vae.fc_mu(x_encoded), vae.fc_var(x_encoded)\n",
        "\n",
        "print('mu:', mu.shape)\n",
        "print('log_var:', log_var.shape)\n",
        "\n",
        "# SAMPLE Z from Q(Z|x)\n",
        "std = torch.exp(log_var / 2)\n",
        "q = torch.distributions.Normal(mu, std)\n",
        "z = q.rsample()\n",
        "\n",
        "print('z shape:', z.shape)"
      ],
      "execution_count": null,
      "outputs": [
        {
          "output_type": "stream",
          "text": [
            "image shape: torch.Size([1, 3, 32, 32])\n",
            "mu: torch.Size([1, 256])\n",
            "log_var: torch.Size([1, 256])\n",
            "z shape: torch.Size([1, 256])\n"
          ],
          "name": "stdout"
        }
      ]
    },
    {
      "cell_type": "code",
      "metadata": {
        "id": "zXdEHb2BKoFi"
      },
      "source": [
        "zero = torch.zeros_like(mu)\n",
        "one = torch.ones_like(std)\n",
        "p = torch.distributions.Normal(zero, one)"
      ],
      "execution_count": null,
      "outputs": []
    },
    {
      "cell_type": "markdown",
      "metadata": {
        "id": "279hJbHi4G5W"
      },
      "source": [
        "#### decoding\n",
        "\n",
        "The second part is reconstruction.\n",
        "\n",
        "The decoder is going to take as input $z$ and it will generate PARAMETERS for a distribution from which to sample a reconstruction.\n",
        "\n",
        "Note: Most tutorials use MNIST so the decoder generates BERNOULLI variables which can be used in a bernoulli distribution to sample a value for each pixel.\n",
        "\n",
        "That's right, the decoder generates distribution parameters FOR EACH pixel. And since most tutorials use MNIST the outputs of the decoder will LOOK like a digit because those parameters are in the range 0-1 (which happens to be the same for black and white images).\n"
      ]
    },
    {
      "cell_type": "markdown",
      "metadata": {
        "id": "5amgCaDC5PHu"
      },
      "source": [
        "But in our case, we'll actually use CIFAR-10 which are color images... so we need to do something more realistic:\n"
      ]
    },
    {
      "cell_type": "code",
      "metadata": {
        "colab": {
          "base_uri": "https://localhost:8080/"
        },
        "id": "4MObpA0R5VPm",
        "outputId": "15cb1231-b562-4d8f-e2a2-2138fa0bffd5"
      },
      "source": [
        "x_hat = vae.decoder(z)\n",
        "print(x_hat.shape)"
      ],
      "execution_count": null,
      "outputs": [
        {
          "output_type": "stream",
          "text": [
            "torch.Size([1, 3, 32, 32])\n"
          ],
          "name": "stdout"
        }
      ]
    },
    {
      "cell_type": "markdown",
      "metadata": {
        "id": "riXmLJvg5vDa"
      },
      "source": [
        "#### reconstruction loss\n",
        "\n",
        "You'll likely see the reconstruction loss using MSE like this in most tutorials about autoencoders.\n",
        "\n",
        "However, MSE DOES not apply to Variational autoencoders"
      ]
    },
    {
      "cell_type": "code",
      "metadata": {
        "colab": {
          "base_uri": "https://localhost:8080/"
        },
        "id": "vgigEWDs7Y-4",
        "outputId": "a1a0619b-beee-49f8-dffd-324c789081d4"
      },
      "source": [
        "recon_loss = F.mse_loss(x_hat, x, reduction='none')\n",
        "recon_loss = recon_loss.sum(-1).sum(-1).sum(-1)\n",
        "print('wrong reconstruction loss', recon_loss)"
      ],
      "execution_count": null,
      "outputs": [
        {
          "output_type": "stream",
          "text": [
            "wrong reconstruction loss tensor([2402.9331], grad_fn=<SumBackward1>)\n"
          ],
          "name": "stdout"
        }
      ]
    },
    {
      "cell_type": "markdown",
      "metadata": {
        "id": "Tzk-TjFbVWsn"
      },
      "source": [
        "Instead, the output of the decoder represents parameters for a distribution.\n",
        "\n",
        "When the images are MNIST, the parameters (decoder output) can be considered bernoullis and thus you can use the pixel values of MNIST (because they are ones and zeros) to calculate the cross entropy (which is the \"reconstruction loss\").\n",
        "\n",
        "But when dealing with color images, it is prefered to model each parameter out of the decoder as a gaussian."
      ]
    },
    {
      "cell_type": "code",
      "metadata": {
        "colab": {
          "base_uri": "https://localhost:8080/"
        },
        "id": "I-k-xjjWV9s9",
        "outputId": "6b6ad199-c572-4626-fedc-9265c690bd7f"
      },
      "source": [
        "# get the PARAMETERS for P(x|z)\n",
        "x_hat = vae.decoder(z)\n",
        "print('we have these many parameters for a distribution:', x_hat.shape)\n",
        "\n",
        "# compute the probability of x under this n-dimensional distribution\n",
        "log_scale = nn.Parameter(torch.Tensor([0.0]))\n",
        "scale = torch.exp(log_scale)\n",
        "dist = torch.distributions.Normal(x_hat, scale)\n",
        "log_pxz = dist.log_prob(x)\n",
        "\n",
        "print(log_pxz.shape)\n",
        "\n",
        "# sum across channels, and all pixels (width, height)\n",
        "# this gives the log probability of THIS particular IMAGE\n",
        "log_pxz = log_pxz.sum(dim=(1, 2, 3))\n",
        "print(log_pxz.shape)\n",
        "print('reconstruction loss:', log_pxz.item())\n",
        "\n",
        "recon_loss = log_pxz"
      ],
      "execution_count": null,
      "outputs": [
        {
          "output_type": "stream",
          "text": [
            "we have these many parameters for a distribution: torch.Size([1, 3, 32, 32])\n",
            "torch.Size([1, 3, 32, 32])\n",
            "torch.Size([1])\n",
            "reconstruction loss: -8363.24609375\n"
          ],
          "name": "stdout"
        }
      ]
    },
    {
      "cell_type": "markdown",
      "metadata": {
        "id": "Euc6MmJY_soH"
      },
      "source": [
        "#### kl divergence\n",
        "\n",
        "Next we'll define the second term of the loss which is the KL divergence.\n",
        "\n",
        "Now, we don't want to compute the KL divergence analytically, so we'll instead use the monte carlo estimate.\n",
        "\n",
        "$$\n",
        "= \\mathbb{E}_{q}  \\log \\frac{q(z|x)}{p(z)}\\\\\n",
        "= \\mathbb{E}_{q} [\\log q(z|x) - \\log{p(z)}]\n",
        "$$\n",
        "\n",
        "To code this, we'll need to be able to get the probability of z under each of $p(z)$ and $q(z|x)$.\n",
        "\n",
        "This means we don't need to know what the distribution is, but only sample from it.\n"
      ]
    },
    {
      "cell_type": "code",
      "metadata": {
        "colab": {
          "base_uri": "https://localhost:8080/"
        },
        "id": "rg3jfRGcA0xQ",
        "outputId": "dce87df5-c8b0-4eab-f3d6-2895613d20f2"
      },
      "source": [
        "# 1. define the first two probabilities (in this case Normal for both)\n",
        "p = torch.distributions.Normal(torch.zeros_like(mu), torch.ones_like(std))\n",
        "q = torch.distributions.Normal(mu, std)\n",
        "\n",
        "# 2. get the probabilities from the equation\n",
        "log_qzx = q.log_prob(z)\n",
        "log_pz = p.log_prob(z)\n",
        "\n",
        "print(log_qzx.shape, log_pz.shape)\n",
        "\n",
        "# 3. calculate the KL\n",
        "kl = (log_qzx - log_pz)\n",
        "\n",
        "# 4. this bit is a bit tricky. Since these are log probabilities\n",
        "# we can sum all the individual dimensions to give us the multi-dimensional\n",
        "# probability\n",
        "kl = kl.sum(-1)\n",
        "print(kl)"
      ],
      "execution_count": null,
      "outputs": [
        {
          "output_type": "stream",
          "text": [
            "torch.Size([1, 256]) torch.Size([1, 256])\n",
            "tensor([44.8220], grad_fn=<SumBackward1>)\n"
          ],
          "name": "stdout"
        }
      ]
    },
    {
      "cell_type": "markdown",
      "metadata": {
        "id": "W2IRTuZ-CECD"
      },
      "source": [
        "#### ELBO\n",
        "\n",
        "So, the full elbo is:"
      ]
    },
    {
      "cell_type": "code",
      "metadata": {
        "colab": {
          "base_uri": "https://localhost:8080/"
        },
        "id": "IywdHb8HCGmW",
        "outputId": "d6495fb7-cb04-4d64-b26e-620a30f21c9b"
      },
      "source": [
        "elbo = (kl - recon_loss)\n",
        "print('kl:', kl.mean())\n",
        "print('log likelihood (reconstruction loss):', recon_loss.mean())\n",
        "print('elbo: ', elbo.mean())"
      ],
      "execution_count": null,
      "outputs": [
        {
          "output_type": "stream",
          "text": [
            "kl: tensor(44.8220, grad_fn=<MeanBackward0>)\n",
            "log likelihood (reconstruction loss): tensor(-4024.4458, grad_fn=<MeanBackward0>)\n",
            "elbo:  tensor(4069.2678, grad_fn=<MeanBackward0>)\n"
          ],
          "name": "stdout"
        }
      ]
    },
    {
      "cell_type": "markdown",
      "metadata": {
        "id": "ZJfbA6qmFyDo"
      },
      "source": [
        "# Full Implementation\n",
        "So, the full implementation is as follows."
      ]
    },
    {
      "cell_type": "code",
      "metadata": {
        "id": "a3_ABiO0F3jM"
      },
      "source": [
        "import pytorch_lightning as pl\n",
        "from torch import nn\n",
        "from torch.nn import functional as F\n",
        "from pl_bolts.models.autoencoders.components import (\n",
        "    resnet18_decoder,\n",
        "    resnet18_encoder,\n",
        ")\n",
        "\n",
        "class VAE(pl.LightningModule):\n",
        "    def __init__(self, enc_out_dim=512, latent_dim=256, input_height=32):\n",
        "        super().__init__()\n",
        "\n",
        "        self.save_hyperparameters()\n",
        "\n",
        "        # encoder, decoder\n",
        "        self.encoder = resnet18_encoder(False, False)\n",
        "        self.decoder = resnet18_decoder(\n",
        "            latent_dim=latent_dim,\n",
        "            input_height=input_height,\n",
        "            first_conv=False,\n",
        "            maxpool1=False\n",
        "        )\n",
        "\n",
        "        # distribution parameters\n",
        "        self.fc_mu = nn.Linear(enc_out_dim, latent_dim)\n",
        "        self.fc_var = nn.Linear(enc_out_dim, latent_dim)\n",
        "\n",
        "        # for the gaussian likelihood\n",
        "        self.log_scale = nn.Parameter(torch.Tensor([0.0]))\n",
        "\n",
        "    def configure_optimizers(self):\n",
        "        return torch.optim.Adam(self.parameters(), lr=1e-4)\n",
        "\n",
        "    def gaussian_likelihood(self, mean, logscale, sample):\n",
        "        scale = torch.exp(logscale)\n",
        "        dist = torch.distributions.Normal(mean, scale)\n",
        "        log_pxz = dist.log_prob(sample)\n",
        "        return log_pxz.sum(dim=(1, 2, 3))\n",
        "\n",
        "    def kl_divergence(self, z, mu, std):\n",
        "        # --------------------------\n",
        "        # Monte carlo KL divergence\n",
        "        # --------------------------\n",
        "        # 1. define the first two probabilities (in this case Normal for both)\n",
        "        p = torch.distributions.Normal(torch.zeros_like(mu), torch.ones_like(std))\n",
        "        q = torch.distributions.Normal(mu, std)\n",
        "\n",
        "        # 2. get the probabilities from the equation\n",
        "        log_qzx = q.log_prob(z)\n",
        "        log_pz = p.log_prob(z)\n",
        "\n",
        "        # kl\n",
        "        kl = (log_qzx - log_pz)\n",
        "        kl = kl.sum(-1)\n",
        "        return kl\n",
        "\n",
        "    def training_step(self, batch, batch_idx):\n",
        "        x, _ = batch\n",
        "\n",
        "        # encode x to get the mu and variance parameters\n",
        "        x_encoded = self.encoder(x)\n",
        "        mu, log_var = self.fc_mu(x_encoded), self.fc_var(x_encoded)\n",
        "\n",
        "        # sample z from q\n",
        "        std = torch.exp(log_var / 2)\n",
        "        q = torch.distributions.Normal(mu, std)\n",
        "        z = q.rsample()\n",
        "\n",
        "        # decoded\n",
        "        x_hat = vae.decoder(z)\n",
        "\n",
        "        # reconstruction loss\n",
        "        recon_loss = self.gaussian_likelihood(x_hat, self.log_scale, x)\n",
        "\n",
        "        # kl\n",
        "        kl = self.kl_divergence(z, mu, std)\n",
        "\n",
        "        # elbo\n",
        "        elbo = (kl - recon_loss)\n",
        "        elbo = elbo.mean()\n",
        "\n",
        "        self.log_dict({\n",
        "            'elbo': elbo,\n",
        "            'kl': kl.mean(),\n",
        "            'recon_loss': recon_loss.mean(),\n",
        "            'reconstruction': recon_loss.mean(),\n",
        "            'kl': kl.mean(),\n",
        "        })\n",
        "\n",
        "        return elbo"
      ],
      "execution_count": null,
      "outputs": []
    },
    {
      "cell_type": "markdown",
      "metadata": {
        "id": "dfNn23pPG6XU"
      },
      "source": [
        "Let's use CIFAR-10 already split up and transformed.\n",
        "\n",
        "The Lightning Datamodule has 3 dataloaders, train, val, test"
      ]
    },
    {
      "cell_type": "code",
      "metadata": {
        "id": "Eg5bOMsDHGUj"
      },
      "source": [
        "from pl_bolts.datamodules import CIFAR10DataModule\n",
        "\n",
        "datamodule = CIFAR10DataModule('.')"
      ],
      "execution_count": null,
      "outputs": []
    },
    {
      "cell_type": "markdown",
      "metadata": {
        "id": "6wTKaSheHNYS"
      },
      "source": [
        "Now we train!"
      ]
    },
    {
      "cell_type": "code",
      "metadata": {
        "colab": {
          "base_uri": "https://localhost:8080/",
          "height": 833,
          "referenced_widgets": [
            "f439eb4b51b84ee785cb6e9b222a4f46",
            "77e450b233cc41c3a0d7905f9747cec4",
            "cd22258e7f82495b84af60105b6ec1e7",
            "bfb3c11cfb8a4bff9b7fab7e2fc7a8e6",
            "a33883de0701451dbb5df3eb050b4829",
            "a9afd1eef79143ec966809ff046c7d8d",
            "b02acbf1719c4c94b0026935becb292f",
            "ef417701511b496fa52a9b3595872402",
            "2564ba9c186a4a0c97afed82e6a6de9e",
            "392d704a4ff24ccf995b8ee943f048c0",
            "cb2944a63e914b86a35bc47f1ff9f4d5",
            "689d35abe0a74782b04a442738ea4754",
            "b7d87e62572b4302b42d05fbfd039c76",
            "d99a8cd7c5694a95aba1880b00d5f111",
            "4b14e76b2113485a879481e113063bfd",
            "d73acc5f688e403599cc59deef6641fa"
          ]
        },
        "id": "MvBo844ZHQhF",
        "outputId": "cfd3fc80-f9b7-454e-cd0e-7c28ddabc2f7"
      },
      "source": [
        "pl.seed_everything(1234)\n",
        "\n",
        "vae = VAE()\n",
        "trainer = pl.Trainer(gpus=1, max_epochs=30, progress_bar_refresh_rate=10)\n",
        "trainer.fit(vae, cifar10)"
      ],
      "execution_count": null,
      "outputs": [
        {
          "output_type": "stream",
          "text": [
            "/usr/local/lib/python3.6/dist-packages/pytorch_lightning/utilities/distributed.py:45: UserWarning: You have set progress_bar_refresh_rate < 20 on Google Colab. This may crash. Consider using progress_bar_refresh_rate >= 20 in Trainer.\n",
            "  warnings.warn(*args, **kwargs)\n",
            "GPU available: True, used: True\n",
            "TPU available: False, using: 0 TPU cores\n",
            "LOCAL_RANK: 0 - CUDA_VISIBLE_DEVICES: [0]\n"
          ],
          "name": "stderr"
        },
        {
          "output_type": "stream",
          "text": [
            "Downloading https://www.cs.toronto.edu/~kriz/cifar-10-python.tar.gz to ./cifar-10-python.tar.gz\n"
          ],
          "name": "stdout"
        },
        {
          "output_type": "stream",
          "text": [
            "/usr/local/lib/python3.6/dist-packages/pytorch_lightning/utilities/distributed.py:45: UserWarning: you passed in a val_dataloader but have no validation_step. Skipping validation loop\n",
            "  warnings.warn(*args, **kwargs)\n"
          ],
          "name": "stderr"
        },
        {
          "output_type": "display_data",
          "data": {
            "application/vnd.jupyter.widget-view+json": {
              "model_id": "f439eb4b51b84ee785cb6e9b222a4f46",
              "version_minor": 0,
              "version_major": 2
            },
            "text/plain": [
              "HBox(children=(FloatProgress(value=1.0, bar_style='info', max=1.0), HTML(value='')))"
            ]
          },
          "metadata": {
            "tags": []
          }
        },
        {
          "output_type": "stream",
          "text": [
            "Extracting ./cifar-10-python.tar.gz to .\n",
            "Files already downloaded and verified\n"
          ],
          "name": "stdout"
        },
        {
          "output_type": "stream",
          "text": [
            "\n",
            "  | Name    | Type          | Params\n",
            "------------------------------------------\n",
            "0 | encoder | ResNetEncoder | 11.2 M\n",
            "1 | decoder | ResNetDecoder | 8.6 M \n",
            "2 | fc_mu   | Linear        | 131 K \n",
            "3 | fc_var  | Linear        | 131 K \n"
          ],
          "name": "stderr"
        },
        {
          "output_type": "display_data",
          "data": {
            "application/vnd.jupyter.widget-view+json": {
              "model_id": "2564ba9c186a4a0c97afed82e6a6de9e",
              "version_minor": 0,
              "version_major": 2
            },
            "text/plain": [
              "HBox(children=(FloatProgress(value=1.0, bar_style='info', description='Training', layout=Layout(flex='2'), max…"
            ]
          },
          "metadata": {
            "tags": []
          }
        },
        {
          "output_type": "stream",
          "text": [
            "/usr/local/lib/python3.6/dist-packages/pytorch_lightning/utilities/distributed.py:45: UserWarning: Detected KeyboardInterrupt, attempting graceful shutdown...\n",
            "  warnings.warn(*args, **kwargs)\n"
          ],
          "name": "stderr"
        },
        {
          "output_type": "error",
          "ename": "KeyboardInterrupt",
          "evalue": "ignored",
          "traceback": [
            "\u001b[0;31m---------------------------------------------------------------------------\u001b[0m",
            "\u001b[0;31mKeyboardInterrupt\u001b[0m                         Traceback (most recent call last)",
            "\u001b[0;32m/usr/local/lib/python3.6/dist-packages/pytorch_lightning/trainer/trainer.py\u001b[0m in \u001b[0;36mtrain\u001b[0;34m(self)\u001b[0m\n\u001b[1;32m    493\u001b[0m                 \u001b[0;31m# run train epoch\u001b[0m\u001b[0;34m\u001b[0m\u001b[0;34m\u001b[0m\u001b[0;34m\u001b[0m\u001b[0m\n\u001b[0;32m--> 494\u001b[0;31m                 \u001b[0mself\u001b[0m\u001b[0;34m.\u001b[0m\u001b[0mtrain_loop\u001b[0m\u001b[0;34m.\u001b[0m\u001b[0mrun_training_epoch\u001b[0m\u001b[0;34m(\u001b[0m\u001b[0;34m)\u001b[0m\u001b[0;34m\u001b[0m\u001b[0;34m\u001b[0m\u001b[0m\n\u001b[0m\u001b[1;32m    495\u001b[0m \u001b[0;34m\u001b[0m\u001b[0m\n",
            "\u001b[0;32m/usr/local/lib/python3.6/dist-packages/pytorch_lightning/trainer/training_loop.py\u001b[0m in \u001b[0;36mrun_training_epoch\u001b[0;34m(self)\u001b[0m\n\u001b[1;32m    596\u001b[0m             \u001b[0;31m# update LR schedulers\u001b[0m\u001b[0;34m\u001b[0m\u001b[0;34m\u001b[0m\u001b[0;34m\u001b[0m\u001b[0m\n\u001b[0;32m--> 597\u001b[0;31m             \u001b[0mmonitor_metrics\u001b[0m \u001b[0;34m=\u001b[0m \u001b[0mdeepcopy\u001b[0m\u001b[0;34m(\u001b[0m\u001b[0mself\u001b[0m\u001b[0;34m.\u001b[0m\u001b[0mtrainer\u001b[0m\u001b[0;34m.\u001b[0m\u001b[0mlogger_connector\u001b[0m\u001b[0;34m.\u001b[0m\u001b[0mcallback_metrics\u001b[0m\u001b[0;34m)\u001b[0m\u001b[0;34m\u001b[0m\u001b[0;34m\u001b[0m\u001b[0m\n\u001b[0m\u001b[1;32m    598\u001b[0m             \u001b[0mmonitor_metrics\u001b[0m\u001b[0;34m.\u001b[0m\u001b[0mupdate\u001b[0m\u001b[0;34m(\u001b[0m\u001b[0mbatch_output\u001b[0m\u001b[0;34m.\u001b[0m\u001b[0mbatch_log_metrics\u001b[0m\u001b[0;34m)\u001b[0m\u001b[0;34m\u001b[0m\u001b[0;34m\u001b[0m\u001b[0m\n",
            "\u001b[0;32m/usr/lib/python3.6/copy.py\u001b[0m in \u001b[0;36mdeepcopy\u001b[0;34m(x, memo, _nil)\u001b[0m\n\u001b[1;32m    149\u001b[0m     \u001b[0;32mif\u001b[0m \u001b[0mcopier\u001b[0m\u001b[0;34m:\u001b[0m\u001b[0;34m\u001b[0m\u001b[0;34m\u001b[0m\u001b[0m\n\u001b[0;32m--> 150\u001b[0;31m         \u001b[0my\u001b[0m \u001b[0;34m=\u001b[0m \u001b[0mcopier\u001b[0m\u001b[0;34m(\u001b[0m\u001b[0mx\u001b[0m\u001b[0;34m,\u001b[0m \u001b[0mmemo\u001b[0m\u001b[0;34m)\u001b[0m\u001b[0;34m\u001b[0m\u001b[0;34m\u001b[0m\u001b[0m\n\u001b[0m\u001b[1;32m    151\u001b[0m     \u001b[0;32melse\u001b[0m\u001b[0;34m:\u001b[0m\u001b[0;34m\u001b[0m\u001b[0;34m\u001b[0m\u001b[0m\n",
            "\u001b[0;32m/usr/lib/python3.6/copy.py\u001b[0m in \u001b[0;36m_deepcopy_dict\u001b[0;34m(x, memo, deepcopy)\u001b[0m\n\u001b[1;32m    239\u001b[0m     \u001b[0;32mfor\u001b[0m \u001b[0mkey\u001b[0m\u001b[0;34m,\u001b[0m \u001b[0mvalue\u001b[0m \u001b[0;32min\u001b[0m \u001b[0mx\u001b[0m\u001b[0;34m.\u001b[0m\u001b[0mitems\u001b[0m\u001b[0;34m(\u001b[0m\u001b[0;34m)\u001b[0m\u001b[0;34m:\u001b[0m\u001b[0;34m\u001b[0m\u001b[0;34m\u001b[0m\u001b[0m\n\u001b[0;32m--> 240\u001b[0;31m         \u001b[0my\u001b[0m\u001b[0;34m[\u001b[0m\u001b[0mdeepcopy\u001b[0m\u001b[0;34m(\u001b[0m\u001b[0mkey\u001b[0m\u001b[0;34m,\u001b[0m \u001b[0mmemo\u001b[0m\u001b[0;34m)\u001b[0m\u001b[0;34m]\u001b[0m \u001b[0;34m=\u001b[0m \u001b[0mdeepcopy\u001b[0m\u001b[0;34m(\u001b[0m\u001b[0mvalue\u001b[0m\u001b[0;34m,\u001b[0m \u001b[0mmemo\u001b[0m\u001b[0;34m)\u001b[0m\u001b[0;34m\u001b[0m\u001b[0;34m\u001b[0m\u001b[0m\n\u001b[0m\u001b[1;32m    241\u001b[0m     \u001b[0;32mreturn\u001b[0m \u001b[0my\u001b[0m\u001b[0;34m\u001b[0m\u001b[0;34m\u001b[0m\u001b[0m\n",
            "\u001b[0;32m/usr/lib/python3.6/copy.py\u001b[0m in \u001b[0;36mdeepcopy\u001b[0;34m(x, memo, _nil)\u001b[0m\n\u001b[1;32m    160\u001b[0m             \u001b[0;32mif\u001b[0m \u001b[0mcopier\u001b[0m\u001b[0;34m:\u001b[0m\u001b[0;34m\u001b[0m\u001b[0;34m\u001b[0m\u001b[0m\n\u001b[0;32m--> 161\u001b[0;31m                 \u001b[0my\u001b[0m \u001b[0;34m=\u001b[0m \u001b[0mcopier\u001b[0m\u001b[0;34m(\u001b[0m\u001b[0mmemo\u001b[0m\u001b[0;34m)\u001b[0m\u001b[0;34m\u001b[0m\u001b[0;34m\u001b[0m\u001b[0m\n\u001b[0m\u001b[1;32m    162\u001b[0m             \u001b[0;32melse\u001b[0m\u001b[0;34m:\u001b[0m\u001b[0;34m\u001b[0m\u001b[0;34m\u001b[0m\u001b[0m\n",
            "\u001b[0;32m/usr/local/lib/python3.6/dist-packages/torch/tensor.py\u001b[0m in \u001b[0;36m__deepcopy__\u001b[0;34m(self, memo)\u001b[0m\n\u001b[1;32m     54\u001b[0m             \u001b[0;32melse\u001b[0m\u001b[0;34m:\u001b[0m\u001b[0;34m\u001b[0m\u001b[0;34m\u001b[0m\u001b[0m\n\u001b[0;32m---> 55\u001b[0;31m                 \u001b[0mnew_storage\u001b[0m \u001b[0;34m=\u001b[0m \u001b[0mself\u001b[0m\u001b[0;34m.\u001b[0m\u001b[0mstorage\u001b[0m\u001b[0;34m(\u001b[0m\u001b[0;34m)\u001b[0m\u001b[0;34m.\u001b[0m\u001b[0m__deepcopy__\u001b[0m\u001b[0;34m(\u001b[0m\u001b[0mmemo\u001b[0m\u001b[0;34m)\u001b[0m\u001b[0;34m\u001b[0m\u001b[0;34m\u001b[0m\u001b[0m\n\u001b[0m\u001b[1;32m     56\u001b[0m                 \u001b[0;32mif\u001b[0m \u001b[0mself\u001b[0m\u001b[0;34m.\u001b[0m\u001b[0mis_quantized\u001b[0m\u001b[0;34m:\u001b[0m\u001b[0;34m\u001b[0m\u001b[0;34m\u001b[0m\u001b[0m\n",
            "\u001b[0;32m/usr/local/lib/python3.6/dist-packages/torch/storage.py\u001b[0m in \u001b[0;36m__deepcopy__\u001b[0;34m(self, memo)\u001b[0m\n\u001b[1;32m     27\u001b[0m             \u001b[0;32mreturn\u001b[0m \u001b[0mmemo\u001b[0m\u001b[0;34m[\u001b[0m\u001b[0mself\u001b[0m\u001b[0;34m.\u001b[0m\u001b[0m_cdata\u001b[0m\u001b[0;34m]\u001b[0m\u001b[0;34m\u001b[0m\u001b[0;34m\u001b[0m\u001b[0m\n\u001b[0;32m---> 28\u001b[0;31m         \u001b[0mnew_storage\u001b[0m \u001b[0;34m=\u001b[0m \u001b[0mself\u001b[0m\u001b[0;34m.\u001b[0m\u001b[0mclone\u001b[0m\u001b[0;34m(\u001b[0m\u001b[0;34m)\u001b[0m\u001b[0;34m\u001b[0m\u001b[0;34m\u001b[0m\u001b[0m\n\u001b[0m\u001b[1;32m     29\u001b[0m         \u001b[0mmemo\u001b[0m\u001b[0;34m[\u001b[0m\u001b[0mself\u001b[0m\u001b[0;34m.\u001b[0m\u001b[0m_cdata\u001b[0m\u001b[0;34m]\u001b[0m \u001b[0;34m=\u001b[0m \u001b[0mnew_storage\u001b[0m\u001b[0;34m\u001b[0m\u001b[0;34m\u001b[0m\u001b[0m\n",
            "\u001b[0;32m/usr/local/lib/python3.6/dist-packages/torch/storage.py\u001b[0m in \u001b[0;36mclone\u001b[0;34m(self)\u001b[0m\n\u001b[1;32m     43\u001b[0m         \u001b[0;32mwith\u001b[0m \u001b[0mtorch\u001b[0m\u001b[0;34m.\u001b[0m\u001b[0mcuda\u001b[0m\u001b[0;34m.\u001b[0m\u001b[0mdevice\u001b[0m\u001b[0;34m(\u001b[0m\u001b[0mdevice\u001b[0m\u001b[0;34m)\u001b[0m\u001b[0;34m:\u001b[0m\u001b[0;34m\u001b[0m\u001b[0;34m\u001b[0m\u001b[0m\n\u001b[0;32m---> 44\u001b[0;31m             \u001b[0;32mreturn\u001b[0m \u001b[0mtype\u001b[0m\u001b[0;34m(\u001b[0m\u001b[0mself\u001b[0m\u001b[0;34m)\u001b[0m\u001b[0;34m(\u001b[0m\u001b[0mself\u001b[0m\u001b[0;34m.\u001b[0m\u001b[0msize\u001b[0m\u001b[0;34m(\u001b[0m\u001b[0;34m)\u001b[0m\u001b[0;34m)\u001b[0m\u001b[0;34m.\u001b[0m\u001b[0mcopy_\u001b[0m\u001b[0;34m(\u001b[0m\u001b[0mself\u001b[0m\u001b[0;34m)\u001b[0m\u001b[0;34m\u001b[0m\u001b[0;34m\u001b[0m\u001b[0m\n\u001b[0m\u001b[1;32m     45\u001b[0m \u001b[0;34m\u001b[0m\u001b[0m\n",
            "\u001b[0;31mKeyboardInterrupt\u001b[0m: ",
            "\nDuring handling of the above exception, another exception occurred:\n",
            "\u001b[0;31mKeyboardInterrupt\u001b[0m                         Traceback (most recent call last)",
            "\u001b[0;32m<ipython-input-16-0ae34e6d032d>\u001b[0m in \u001b[0;36m<module>\u001b[0;34m()\u001b[0m\n\u001b[1;32m      3\u001b[0m \u001b[0mvae\u001b[0m \u001b[0;34m=\u001b[0m \u001b[0mVAE\u001b[0m\u001b[0;34m(\u001b[0m\u001b[0;34m)\u001b[0m\u001b[0;34m\u001b[0m\u001b[0;34m\u001b[0m\u001b[0m\n\u001b[1;32m      4\u001b[0m \u001b[0mtrainer\u001b[0m \u001b[0;34m=\u001b[0m \u001b[0mpl\u001b[0m\u001b[0;34m.\u001b[0m\u001b[0mTrainer\u001b[0m\u001b[0;34m(\u001b[0m\u001b[0mgpus\u001b[0m\u001b[0;34m=\u001b[0m\u001b[0;36m1\u001b[0m\u001b[0;34m,\u001b[0m \u001b[0mmax_epochs\u001b[0m\u001b[0;34m=\u001b[0m\u001b[0;36m30\u001b[0m\u001b[0;34m,\u001b[0m \u001b[0mprogress_bar_refresh_rate\u001b[0m\u001b[0;34m=\u001b[0m\u001b[0;36m10\u001b[0m\u001b[0;34m)\u001b[0m\u001b[0;34m\u001b[0m\u001b[0;34m\u001b[0m\u001b[0m\n\u001b[0;32m----> 5\u001b[0;31m \u001b[0mtrainer\u001b[0m\u001b[0;34m.\u001b[0m\u001b[0mfit\u001b[0m\u001b[0;34m(\u001b[0m\u001b[0mvae\u001b[0m\u001b[0;34m,\u001b[0m \u001b[0mdatamodule\u001b[0m\u001b[0;34m)\u001b[0m\u001b[0;34m\u001b[0m\u001b[0;34m\u001b[0m\u001b[0m\n\u001b[0m",
            "\u001b[0;32m/usr/local/lib/python3.6/dist-packages/pytorch_lightning/trainer/trainer.py\u001b[0m in \u001b[0;36mfit\u001b[0;34m(self, model, train_dataloader, val_dataloaders, datamodule)\u001b[0m\n\u001b[1;32m    443\u001b[0m         \u001b[0mself\u001b[0m\u001b[0;34m.\u001b[0m\u001b[0mcall_hook\u001b[0m\u001b[0;34m(\u001b[0m\u001b[0;34m'on_fit_start'\u001b[0m\u001b[0;34m)\u001b[0m\u001b[0;34m\u001b[0m\u001b[0;34m\u001b[0m\u001b[0m\n\u001b[1;32m    444\u001b[0m \u001b[0;34m\u001b[0m\u001b[0m\n\u001b[0;32m--> 445\u001b[0;31m         \u001b[0mresults\u001b[0m \u001b[0;34m=\u001b[0m \u001b[0mself\u001b[0m\u001b[0;34m.\u001b[0m\u001b[0maccelerator_backend\u001b[0m\u001b[0;34m.\u001b[0m\u001b[0mtrain\u001b[0m\u001b[0;34m(\u001b[0m\u001b[0;34m)\u001b[0m\u001b[0;34m\u001b[0m\u001b[0;34m\u001b[0m\u001b[0m\n\u001b[0m\u001b[1;32m    446\u001b[0m         \u001b[0mself\u001b[0m\u001b[0;34m.\u001b[0m\u001b[0maccelerator_backend\u001b[0m\u001b[0;34m.\u001b[0m\u001b[0mteardown\u001b[0m\u001b[0;34m(\u001b[0m\u001b[0;34m)\u001b[0m\u001b[0;34m\u001b[0m\u001b[0;34m\u001b[0m\u001b[0m\n\u001b[1;32m    447\u001b[0m \u001b[0;34m\u001b[0m\u001b[0m\n",
            "\u001b[0;32m/usr/local/lib/python3.6/dist-packages/pytorch_lightning/accelerators/gpu_accelerator.py\u001b[0m in \u001b[0;36mtrain\u001b[0;34m(self)\u001b[0m\n\u001b[1;32m     62\u001b[0m \u001b[0;34m\u001b[0m\u001b[0m\n\u001b[1;32m     63\u001b[0m         \u001b[0;31m# train or test\u001b[0m\u001b[0;34m\u001b[0m\u001b[0;34m\u001b[0m\u001b[0;34m\u001b[0m\u001b[0m\n\u001b[0;32m---> 64\u001b[0;31m         \u001b[0mresults\u001b[0m \u001b[0;34m=\u001b[0m \u001b[0mself\u001b[0m\u001b[0;34m.\u001b[0m\u001b[0mtrain_or_test\u001b[0m\u001b[0;34m(\u001b[0m\u001b[0;34m)\u001b[0m\u001b[0;34m\u001b[0m\u001b[0;34m\u001b[0m\u001b[0m\n\u001b[0m\u001b[1;32m     65\u001b[0m         \u001b[0;32mreturn\u001b[0m \u001b[0mresults\u001b[0m\u001b[0;34m\u001b[0m\u001b[0;34m\u001b[0m\u001b[0m\n\u001b[1;32m     66\u001b[0m \u001b[0;34m\u001b[0m\u001b[0m\n",
            "\u001b[0;32m/usr/local/lib/python3.6/dist-packages/pytorch_lightning/accelerators/accelerator.py\u001b[0m in \u001b[0;36mtrain_or_test\u001b[0;34m(self)\u001b[0m\n\u001b[1;32m     64\u001b[0m             \u001b[0mresults\u001b[0m \u001b[0;34m=\u001b[0m \u001b[0mself\u001b[0m\u001b[0;34m.\u001b[0m\u001b[0mtrainer\u001b[0m\u001b[0;34m.\u001b[0m\u001b[0mrun_test\u001b[0m\u001b[0;34m(\u001b[0m\u001b[0;34m)\u001b[0m\u001b[0;34m\u001b[0m\u001b[0;34m\u001b[0m\u001b[0m\n\u001b[1;32m     65\u001b[0m         \u001b[0;32melse\u001b[0m\u001b[0;34m:\u001b[0m\u001b[0;34m\u001b[0m\u001b[0;34m\u001b[0m\u001b[0m\n\u001b[0;32m---> 66\u001b[0;31m             \u001b[0mresults\u001b[0m \u001b[0;34m=\u001b[0m \u001b[0mself\u001b[0m\u001b[0;34m.\u001b[0m\u001b[0mtrainer\u001b[0m\u001b[0;34m.\u001b[0m\u001b[0mtrain\u001b[0m\u001b[0;34m(\u001b[0m\u001b[0;34m)\u001b[0m\u001b[0;34m\u001b[0m\u001b[0;34m\u001b[0m\u001b[0m\n\u001b[0m\u001b[1;32m     67\u001b[0m         \u001b[0;32mreturn\u001b[0m \u001b[0mresults\u001b[0m\u001b[0;34m\u001b[0m\u001b[0;34m\u001b[0m\u001b[0m\n\u001b[1;32m     68\u001b[0m \u001b[0;34m\u001b[0m\u001b[0m\n",
            "\u001b[0;32m/usr/local/lib/python3.6/dist-packages/pytorch_lightning/trainer/trainer.py\u001b[0m in \u001b[0;36mtrain\u001b[0;34m(self)\u001b[0m\n\u001b[1;32m    531\u001b[0m \u001b[0;34m\u001b[0m\u001b[0m\n\u001b[1;32m    532\u001b[0m                 \u001b[0;31m# hook\u001b[0m\u001b[0;34m\u001b[0m\u001b[0;34m\u001b[0m\u001b[0;34m\u001b[0m\u001b[0m\n\u001b[0;32m--> 533\u001b[0;31m                 \u001b[0mself\u001b[0m\u001b[0;34m.\u001b[0m\u001b[0mtrain_loop\u001b[0m\u001b[0;34m.\u001b[0m\u001b[0mon_train_end\u001b[0m\u001b[0;34m(\u001b[0m\u001b[0;34m)\u001b[0m\u001b[0;34m\u001b[0m\u001b[0;34m\u001b[0m\u001b[0m\n\u001b[0m\u001b[1;32m    534\u001b[0m \u001b[0;34m\u001b[0m\u001b[0m\n\u001b[1;32m    535\u001b[0m     \u001b[0;32mdef\u001b[0m \u001b[0mrun_evaluation\u001b[0m\u001b[0;34m(\u001b[0m\u001b[0mself\u001b[0m\u001b[0;34m,\u001b[0m \u001b[0mtest_mode\u001b[0m\u001b[0;34m:\u001b[0m \u001b[0mbool\u001b[0m \u001b[0;34m=\u001b[0m \u001b[0;32mFalse\u001b[0m\u001b[0;34m,\u001b[0m \u001b[0mmax_batches\u001b[0m\u001b[0;34m=\u001b[0m\u001b[0;32mNone\u001b[0m\u001b[0;34m)\u001b[0m\u001b[0;34m:\u001b[0m\u001b[0;34m\u001b[0m\u001b[0;34m\u001b[0m\u001b[0m\n",
            "\u001b[0;32m/usr/local/lib/python3.6/dist-packages/pytorch_lightning/trainer/training_loop.py\u001b[0m in \u001b[0;36mon_train_end\u001b[0;34m(self)\u001b[0m\n\u001b[1;32m    188\u001b[0m         \u001b[0;31m# when a checkpoint was saved at the last step\u001b[0m\u001b[0;34m\u001b[0m\u001b[0;34m\u001b[0m\u001b[0;34m\u001b[0m\u001b[0m\n\u001b[1;32m    189\u001b[0m         \u001b[0mself\u001b[0m\u001b[0;34m.\u001b[0m\u001b[0mtrainer\u001b[0m\u001b[0;34m.\u001b[0m\u001b[0mglobal_step\u001b[0m \u001b[0;34m-=\u001b[0m \u001b[0;36m1\u001b[0m\u001b[0;34m\u001b[0m\u001b[0;34m\u001b[0m\u001b[0m\n\u001b[0;32m--> 190\u001b[0;31m         \u001b[0mself\u001b[0m\u001b[0;34m.\u001b[0m\u001b[0mcheck_checkpoint_callback\u001b[0m\u001b[0;34m(\u001b[0m\u001b[0mshould_save\u001b[0m\u001b[0;34m=\u001b[0m\u001b[0;32mTrue\u001b[0m\u001b[0;34m,\u001b[0m \u001b[0mis_last\u001b[0m\u001b[0;34m=\u001b[0m\u001b[0;32mTrue\u001b[0m\u001b[0;34m)\u001b[0m\u001b[0;34m\u001b[0m\u001b[0;34m\u001b[0m\u001b[0m\n\u001b[0m\u001b[1;32m    191\u001b[0m         \u001b[0mself\u001b[0m\u001b[0;34m.\u001b[0m\u001b[0mtrainer\u001b[0m\u001b[0;34m.\u001b[0m\u001b[0mglobal_step\u001b[0m \u001b[0;34m+=\u001b[0m \u001b[0;36m1\u001b[0m\u001b[0;34m\u001b[0m\u001b[0;34m\u001b[0m\u001b[0m\n\u001b[1;32m    192\u001b[0m \u001b[0;34m\u001b[0m\u001b[0m\n",
            "\u001b[0;32m/usr/local/lib/python3.6/dist-packages/pytorch_lightning/trainer/training_loop.py\u001b[0m in \u001b[0;36mcheck_checkpoint_callback\u001b[0;34m(self, should_save, is_last)\u001b[0m\n\u001b[1;32m    218\u001b[0m                 \u001b[0mrank_zero_info\u001b[0m\u001b[0;34m(\u001b[0m\u001b[0;34m\"Saving latest checkpoint...\"\u001b[0m\u001b[0;34m)\u001b[0m\u001b[0;34m\u001b[0m\u001b[0;34m\u001b[0m\u001b[0m\n\u001b[1;32m    219\u001b[0m             \u001b[0mmodel\u001b[0m \u001b[0;34m=\u001b[0m \u001b[0mself\u001b[0m\u001b[0;34m.\u001b[0m\u001b[0mtrainer\u001b[0m\u001b[0;34m.\u001b[0m\u001b[0mget_model\u001b[0m\u001b[0;34m(\u001b[0m\u001b[0;34m)\u001b[0m\u001b[0;34m\u001b[0m\u001b[0;34m\u001b[0m\u001b[0m\n\u001b[0;32m--> 220\u001b[0;31m             \u001b[0;34m[\u001b[0m\u001b[0mc\u001b[0m\u001b[0;34m.\u001b[0m\u001b[0mon_validation_end\u001b[0m\u001b[0;34m(\u001b[0m\u001b[0mself\u001b[0m\u001b[0;34m.\u001b[0m\u001b[0mtrainer\u001b[0m\u001b[0;34m,\u001b[0m \u001b[0mmodel\u001b[0m\u001b[0;34m)\u001b[0m \u001b[0;32mfor\u001b[0m \u001b[0mc\u001b[0m \u001b[0;32min\u001b[0m \u001b[0mcheckpoint_callbacks\u001b[0m\u001b[0;34m]\u001b[0m\u001b[0;34m\u001b[0m\u001b[0;34m\u001b[0m\u001b[0m\n\u001b[0m\u001b[1;32m    221\u001b[0m \u001b[0;34m\u001b[0m\u001b[0m\n\u001b[1;32m    222\u001b[0m     \u001b[0;32mdef\u001b[0m \u001b[0mon_train_epoch_start\u001b[0m\u001b[0;34m(\u001b[0m\u001b[0mself\u001b[0m\u001b[0;34m,\u001b[0m \u001b[0mepoch\u001b[0m\u001b[0;34m)\u001b[0m\u001b[0;34m:\u001b[0m\u001b[0;34m\u001b[0m\u001b[0;34m\u001b[0m\u001b[0m\n",
            "\u001b[0;32m/usr/local/lib/python3.6/dist-packages/pytorch_lightning/trainer/training_loop.py\u001b[0m in \u001b[0;36m<listcomp>\u001b[0;34m(.0)\u001b[0m\n\u001b[1;32m    218\u001b[0m                 \u001b[0mrank_zero_info\u001b[0m\u001b[0;34m(\u001b[0m\u001b[0;34m\"Saving latest checkpoint...\"\u001b[0m\u001b[0;34m)\u001b[0m\u001b[0;34m\u001b[0m\u001b[0;34m\u001b[0m\u001b[0m\n\u001b[1;32m    219\u001b[0m             \u001b[0mmodel\u001b[0m \u001b[0;34m=\u001b[0m \u001b[0mself\u001b[0m\u001b[0;34m.\u001b[0m\u001b[0mtrainer\u001b[0m\u001b[0;34m.\u001b[0m\u001b[0mget_model\u001b[0m\u001b[0;34m(\u001b[0m\u001b[0;34m)\u001b[0m\u001b[0;34m\u001b[0m\u001b[0;34m\u001b[0m\u001b[0m\n\u001b[0;32m--> 220\u001b[0;31m             \u001b[0;34m[\u001b[0m\u001b[0mc\u001b[0m\u001b[0;34m.\u001b[0m\u001b[0mon_validation_end\u001b[0m\u001b[0;34m(\u001b[0m\u001b[0mself\u001b[0m\u001b[0;34m.\u001b[0m\u001b[0mtrainer\u001b[0m\u001b[0;34m,\u001b[0m \u001b[0mmodel\u001b[0m\u001b[0;34m)\u001b[0m \u001b[0;32mfor\u001b[0m \u001b[0mc\u001b[0m \u001b[0;32min\u001b[0m \u001b[0mcheckpoint_callbacks\u001b[0m\u001b[0;34m]\u001b[0m\u001b[0;34m\u001b[0m\u001b[0;34m\u001b[0m\u001b[0m\n\u001b[0m\u001b[1;32m    221\u001b[0m \u001b[0;34m\u001b[0m\u001b[0m\n\u001b[1;32m    222\u001b[0m     \u001b[0;32mdef\u001b[0m \u001b[0mon_train_epoch_start\u001b[0m\u001b[0;34m(\u001b[0m\u001b[0mself\u001b[0m\u001b[0;34m,\u001b[0m \u001b[0mepoch\u001b[0m\u001b[0;34m)\u001b[0m\u001b[0;34m:\u001b[0m\u001b[0;34m\u001b[0m\u001b[0;34m\u001b[0m\u001b[0m\n",
            "\u001b[0;32m/usr/local/lib/python3.6/dist-packages/pytorch_lightning/callbacks/model_checkpoint.py\u001b[0m in \u001b[0;36mon_validation_end\u001b[0;34m(self, trainer, pl_module)\u001b[0m\n\u001b[1;32m    184\u001b[0m         \u001b[0mcheckpoints\u001b[0m \u001b[0mcan\u001b[0m \u001b[0mbe\u001b[0m \u001b[0msaved\u001b[0m \u001b[0mat\u001b[0m \u001b[0mthe\u001b[0m \u001b[0mend\u001b[0m \u001b[0mof\u001b[0m \u001b[0mthe\u001b[0m \u001b[0mval\u001b[0m \u001b[0mloop\u001b[0m\u001b[0;34m\u001b[0m\u001b[0;34m\u001b[0m\u001b[0m\n\u001b[1;32m    185\u001b[0m         \"\"\"\n\u001b[0;32m--> 186\u001b[0;31m         \u001b[0mself\u001b[0m\u001b[0;34m.\u001b[0m\u001b[0msave_checkpoint\u001b[0m\u001b[0;34m(\u001b[0m\u001b[0mtrainer\u001b[0m\u001b[0;34m,\u001b[0m \u001b[0mpl_module\u001b[0m\u001b[0;34m)\u001b[0m\u001b[0;34m\u001b[0m\u001b[0;34m\u001b[0m\u001b[0m\n\u001b[0m\u001b[1;32m    187\u001b[0m \u001b[0;34m\u001b[0m\u001b[0m\n\u001b[1;32m    188\u001b[0m     \u001b[0;32mdef\u001b[0m \u001b[0mon_save_checkpoint\u001b[0m\u001b[0;34m(\u001b[0m\u001b[0mself\u001b[0m\u001b[0;34m,\u001b[0m \u001b[0mtrainer\u001b[0m\u001b[0;34m,\u001b[0m \u001b[0mpl_module\u001b[0m\u001b[0;34m)\u001b[0m \u001b[0;34m->\u001b[0m \u001b[0mDict\u001b[0m\u001b[0;34m[\u001b[0m\u001b[0mstr\u001b[0m\u001b[0;34m,\u001b[0m \u001b[0mAny\u001b[0m\u001b[0;34m]\u001b[0m\u001b[0;34m:\u001b[0m\u001b[0;34m\u001b[0m\u001b[0;34m\u001b[0m\u001b[0m\n",
            "\u001b[0;32m/usr/local/lib/python3.6/dist-packages/pytorch_lightning/callbacks/model_checkpoint.py\u001b[0m in \u001b[0;36msave_checkpoint\u001b[0;34m(self, trainer, pl_module)\u001b[0m\n\u001b[1;32m    233\u001b[0m \u001b[0;34m\u001b[0m\u001b[0m\n\u001b[1;32m    234\u001b[0m         \u001b[0;31m# Mode 2: save the last checkpoint\u001b[0m\u001b[0;34m\u001b[0m\u001b[0;34m\u001b[0m\u001b[0;34m\u001b[0m\u001b[0m\n\u001b[0;32m--> 235\u001b[0;31m         \u001b[0mself\u001b[0m\u001b[0;34m.\u001b[0m\u001b[0m_save_last_checkpoint\u001b[0m\u001b[0;34m(\u001b[0m\u001b[0mtrainer\u001b[0m\u001b[0;34m,\u001b[0m \u001b[0mpl_module\u001b[0m\u001b[0;34m,\u001b[0m \u001b[0mepoch\u001b[0m\u001b[0;34m,\u001b[0m \u001b[0mmonitor_candidates\u001b[0m\u001b[0;34m,\u001b[0m \u001b[0mfilepath\u001b[0m\u001b[0;34m)\u001b[0m\u001b[0;34m\u001b[0m\u001b[0;34m\u001b[0m\u001b[0m\n\u001b[0m\u001b[1;32m    236\u001b[0m \u001b[0;34m\u001b[0m\u001b[0m\n\u001b[1;32m    237\u001b[0m     \u001b[0;32mdef\u001b[0m \u001b[0m__validate_init_configuration\u001b[0m\u001b[0;34m(\u001b[0m\u001b[0mself\u001b[0m\u001b[0;34m)\u001b[0m\u001b[0;34m:\u001b[0m\u001b[0;34m\u001b[0m\u001b[0;34m\u001b[0m\u001b[0m\n",
            "\u001b[0;32m/usr/local/lib/python3.6/dist-packages/pytorch_lightning/callbacks/model_checkpoint.py\u001b[0m in \u001b[0;36m_save_last_checkpoint\u001b[0;34m(self, trainer, pl_module, epoch, ckpt_name_metrics, filepath)\u001b[0m\n\u001b[1;32m    512\u001b[0m             \u001b[0mlast_filepath\u001b[0m \u001b[0;34m=\u001b[0m \u001b[0mos\u001b[0m\u001b[0;34m.\u001b[0m\u001b[0mpath\u001b[0m\u001b[0;34m.\u001b[0m\u001b[0mjoin\u001b[0m\u001b[0;34m(\u001b[0m\u001b[0mself\u001b[0m\u001b[0;34m.\u001b[0m\u001b[0mdirpath\u001b[0m\u001b[0;34m,\u001b[0m \u001b[0;34mf\"{last_filepath}.ckpt\"\u001b[0m\u001b[0;34m)\u001b[0m\u001b[0;34m\u001b[0m\u001b[0;34m\u001b[0m\u001b[0m\n\u001b[1;32m    513\u001b[0m \u001b[0;34m\u001b[0m\u001b[0m\n\u001b[0;32m--> 514\u001b[0;31m         \u001b[0mself\u001b[0m\u001b[0;34m.\u001b[0m\u001b[0m_save_model\u001b[0m\u001b[0;34m(\u001b[0m\u001b[0mlast_filepath\u001b[0m\u001b[0;34m,\u001b[0m \u001b[0mtrainer\u001b[0m\u001b[0;34m,\u001b[0m \u001b[0mpl_module\u001b[0m\u001b[0;34m)\u001b[0m\u001b[0;34m\u001b[0m\u001b[0;34m\u001b[0m\u001b[0m\n\u001b[0m\u001b[1;32m    515\u001b[0m         if (\n\u001b[1;32m    516\u001b[0m                 \u001b[0mself\u001b[0m\u001b[0;34m.\u001b[0m\u001b[0mlast_model_path\u001b[0m\u001b[0;34m\u001b[0m\u001b[0;34m\u001b[0m\u001b[0m\n",
            "\u001b[0;32m/usr/local/lib/python3.6/dist-packages/pytorch_lightning/callbacks/model_checkpoint.py\u001b[0m in \u001b[0;36m_save_model\u001b[0;34m(self, filepath, trainer, pl_module)\u001b[0m\n\u001b[1;32m    331\u001b[0m         \u001b[0;31m# delegate the saving to the trainer\u001b[0m\u001b[0;34m\u001b[0m\u001b[0;34m\u001b[0m\u001b[0;34m\u001b[0m\u001b[0m\n\u001b[1;32m    332\u001b[0m         \u001b[0;32mif\u001b[0m \u001b[0mself\u001b[0m\u001b[0;34m.\u001b[0m\u001b[0msave_function\u001b[0m \u001b[0;32mis\u001b[0m \u001b[0;32mnot\u001b[0m \u001b[0;32mNone\u001b[0m\u001b[0;34m:\u001b[0m\u001b[0;34m\u001b[0m\u001b[0;34m\u001b[0m\u001b[0m\n\u001b[0;32m--> 333\u001b[0;31m             \u001b[0mself\u001b[0m\u001b[0;34m.\u001b[0m\u001b[0msave_function\u001b[0m\u001b[0;34m(\u001b[0m\u001b[0mfilepath\u001b[0m\u001b[0;34m,\u001b[0m \u001b[0mself\u001b[0m\u001b[0;34m.\u001b[0m\u001b[0msave_weights_only\u001b[0m\u001b[0;34m)\u001b[0m\u001b[0;34m\u001b[0m\u001b[0;34m\u001b[0m\u001b[0m\n\u001b[0m\u001b[1;32m    334\u001b[0m         \u001b[0;32melse\u001b[0m\u001b[0;34m:\u001b[0m\u001b[0;34m\u001b[0m\u001b[0;34m\u001b[0m\u001b[0m\n\u001b[1;32m    335\u001b[0m             \u001b[0;32mraise\u001b[0m \u001b[0mValueError\u001b[0m\u001b[0;34m(\u001b[0m\u001b[0;34m\".save_function() not set\"\u001b[0m\u001b[0;34m)\u001b[0m\u001b[0;34m\u001b[0m\u001b[0;34m\u001b[0m\u001b[0m\n",
            "\u001b[0;32m/usr/local/lib/python3.6/dist-packages/pytorch_lightning/trainer/properties.py\u001b[0m in \u001b[0;36msave_checkpoint\u001b[0;34m(self, filepath, weights_only)\u001b[0m\n\u001b[1;32m    205\u001b[0m \u001b[0;34m\u001b[0m\u001b[0m\n\u001b[1;32m    206\u001b[0m     \u001b[0;32mdef\u001b[0m \u001b[0msave_checkpoint\u001b[0m\u001b[0;34m(\u001b[0m\u001b[0mself\u001b[0m\u001b[0;34m,\u001b[0m \u001b[0mfilepath\u001b[0m\u001b[0;34m,\u001b[0m \u001b[0mweights_only\u001b[0m\u001b[0;34m:\u001b[0m \u001b[0mbool\u001b[0m \u001b[0;34m=\u001b[0m \u001b[0;32mFalse\u001b[0m\u001b[0;34m)\u001b[0m\u001b[0;34m:\u001b[0m\u001b[0;34m\u001b[0m\u001b[0;34m\u001b[0m\u001b[0m\n\u001b[0;32m--> 207\u001b[0;31m         \u001b[0mself\u001b[0m\u001b[0;34m.\u001b[0m\u001b[0mcheckpoint_connector\u001b[0m\u001b[0;34m.\u001b[0m\u001b[0msave_checkpoint\u001b[0m\u001b[0;34m(\u001b[0m\u001b[0mfilepath\u001b[0m\u001b[0;34m,\u001b[0m \u001b[0mweights_only\u001b[0m\u001b[0;34m)\u001b[0m\u001b[0;34m\u001b[0m\u001b[0;34m\u001b[0m\u001b[0m\n\u001b[0m\u001b[1;32m    208\u001b[0m \u001b[0;34m\u001b[0m\u001b[0m\n\u001b[1;32m    209\u001b[0m     \u001b[0;32mdef\u001b[0m \u001b[0mget_model\u001b[0m\u001b[0;34m(\u001b[0m\u001b[0mself\u001b[0m\u001b[0;34m)\u001b[0m\u001b[0;34m:\u001b[0m\u001b[0;34m\u001b[0m\u001b[0;34m\u001b[0m\u001b[0m\n",
            "\u001b[0;32m/usr/local/lib/python3.6/dist-packages/pytorch_lightning/trainer/connectors/checkpoint_connector.py\u001b[0m in \u001b[0;36msave_checkpoint\u001b[0;34m(self, filepath, weights_only)\u001b[0m\n\u001b[1;32m    391\u001b[0m             \u001b[0;31m# write the checkpoint dictionary on the file\u001b[0m\u001b[0;34m\u001b[0m\u001b[0;34m\u001b[0m\u001b[0;34m\u001b[0m\u001b[0m\n\u001b[1;32m    392\u001b[0m             \u001b[0;32mtry\u001b[0m\u001b[0;34m:\u001b[0m\u001b[0;34m\u001b[0m\u001b[0;34m\u001b[0m\u001b[0m\n\u001b[0;32m--> 393\u001b[0;31m                 \u001b[0matomic_save\u001b[0m\u001b[0;34m(\u001b[0m\u001b[0mcheckpoint\u001b[0m\u001b[0;34m,\u001b[0m \u001b[0mfilepath\u001b[0m\u001b[0;34m)\u001b[0m\u001b[0;34m\u001b[0m\u001b[0;34m\u001b[0m\u001b[0m\n\u001b[0m\u001b[1;32m    394\u001b[0m             \u001b[0;32mexcept\u001b[0m \u001b[0mAttributeError\u001b[0m \u001b[0;32mas\u001b[0m \u001b[0merr\u001b[0m\u001b[0;34m:\u001b[0m\u001b[0;34m\u001b[0m\u001b[0;34m\u001b[0m\u001b[0m\n\u001b[1;32m    395\u001b[0m                 \u001b[0;32mif\u001b[0m \u001b[0mLightningModule\u001b[0m\u001b[0;34m.\u001b[0m\u001b[0mCHECKPOINT_HYPER_PARAMS_KEY\u001b[0m \u001b[0;32min\u001b[0m \u001b[0mcheckpoint\u001b[0m\u001b[0;34m:\u001b[0m\u001b[0;34m\u001b[0m\u001b[0;34m\u001b[0m\u001b[0m\n",
            "\u001b[0;32m/usr/local/lib/python3.6/dist-packages/pytorch_lightning/utilities/cloud_io.py\u001b[0m in \u001b[0;36matomic_save\u001b[0;34m(checkpoint, filepath)\u001b[0m\n\u001b[1;32m     60\u001b[0m         \u001b[0mtorch\u001b[0m\u001b[0;34m.\u001b[0m\u001b[0msave\u001b[0m\u001b[0;34m(\u001b[0m\u001b[0mcheckpoint\u001b[0m\u001b[0;34m,\u001b[0m \u001b[0mbytesbuffer\u001b[0m\u001b[0;34m,\u001b[0m \u001b[0m_use_new_zipfile_serialization\u001b[0m\u001b[0;34m=\u001b[0m\u001b[0;32mFalse\u001b[0m\u001b[0;34m)\u001b[0m\u001b[0;34m\u001b[0m\u001b[0;34m\u001b[0m\u001b[0m\n\u001b[1;32m     61\u001b[0m     \u001b[0;32melse\u001b[0m\u001b[0;34m:\u001b[0m\u001b[0;34m\u001b[0m\u001b[0;34m\u001b[0m\u001b[0m\n\u001b[0;32m---> 62\u001b[0;31m         \u001b[0mtorch\u001b[0m\u001b[0;34m.\u001b[0m\u001b[0msave\u001b[0m\u001b[0;34m(\u001b[0m\u001b[0mcheckpoint\u001b[0m\u001b[0;34m,\u001b[0m \u001b[0mbytesbuffer\u001b[0m\u001b[0;34m)\u001b[0m\u001b[0;34m\u001b[0m\u001b[0;34m\u001b[0m\u001b[0m\n\u001b[0m\u001b[1;32m     63\u001b[0m     \u001b[0;32mwith\u001b[0m \u001b[0mfsspec\u001b[0m\u001b[0;34m.\u001b[0m\u001b[0mopen\u001b[0m\u001b[0;34m(\u001b[0m\u001b[0mfilepath\u001b[0m\u001b[0;34m,\u001b[0m \u001b[0;34m\"wb\"\u001b[0m\u001b[0;34m)\u001b[0m \u001b[0;32mas\u001b[0m \u001b[0mf\u001b[0m\u001b[0;34m:\u001b[0m\u001b[0;34m\u001b[0m\u001b[0;34m\u001b[0m\u001b[0m\n\u001b[1;32m     64\u001b[0m         \u001b[0mf\u001b[0m\u001b[0;34m.\u001b[0m\u001b[0mwrite\u001b[0m\u001b[0;34m(\u001b[0m\u001b[0mbytesbuffer\u001b[0m\u001b[0;34m.\u001b[0m\u001b[0mgetvalue\u001b[0m\u001b[0;34m(\u001b[0m\u001b[0;34m)\u001b[0m\u001b[0;34m)\u001b[0m\u001b[0;34m\u001b[0m\u001b[0;34m\u001b[0m\u001b[0m\n",
            "\u001b[0;32m/usr/local/lib/python3.6/dist-packages/torch/serialization.py\u001b[0m in \u001b[0;36msave\u001b[0;34m(obj, f, pickle_module, pickle_protocol, _use_new_zipfile_serialization)\u001b[0m\n\u001b[1;32m    370\u001b[0m         \u001b[0;32mif\u001b[0m \u001b[0m_use_new_zipfile_serialization\u001b[0m\u001b[0;34m:\u001b[0m\u001b[0;34m\u001b[0m\u001b[0;34m\u001b[0m\u001b[0m\n\u001b[1;32m    371\u001b[0m             \u001b[0;32mwith\u001b[0m \u001b[0m_open_zipfile_writer\u001b[0m\u001b[0;34m(\u001b[0m\u001b[0mopened_file\u001b[0m\u001b[0;34m)\u001b[0m \u001b[0;32mas\u001b[0m \u001b[0mopened_zipfile\u001b[0m\u001b[0;34m:\u001b[0m\u001b[0;34m\u001b[0m\u001b[0;34m\u001b[0m\u001b[0m\n\u001b[0;32m--> 372\u001b[0;31m                 \u001b[0m_save\u001b[0m\u001b[0;34m(\u001b[0m\u001b[0mobj\u001b[0m\u001b[0;34m,\u001b[0m \u001b[0mopened_zipfile\u001b[0m\u001b[0;34m,\u001b[0m \u001b[0mpickle_module\u001b[0m\u001b[0;34m,\u001b[0m \u001b[0mpickle_protocol\u001b[0m\u001b[0;34m)\u001b[0m\u001b[0;34m\u001b[0m\u001b[0;34m\u001b[0m\u001b[0m\n\u001b[0m\u001b[1;32m    373\u001b[0m                 \u001b[0;32mreturn\u001b[0m\u001b[0;34m\u001b[0m\u001b[0;34m\u001b[0m\u001b[0m\n\u001b[1;32m    374\u001b[0m         \u001b[0m_legacy_save\u001b[0m\u001b[0;34m(\u001b[0m\u001b[0mobj\u001b[0m\u001b[0;34m,\u001b[0m \u001b[0mopened_file\u001b[0m\u001b[0;34m,\u001b[0m \u001b[0mpickle_module\u001b[0m\u001b[0;34m,\u001b[0m \u001b[0mpickle_protocol\u001b[0m\u001b[0;34m)\u001b[0m\u001b[0;34m\u001b[0m\u001b[0;34m\u001b[0m\u001b[0m\n",
            "\u001b[0;32m/usr/local/lib/python3.6/dist-packages/torch/serialization.py\u001b[0m in \u001b[0;36m_save\u001b[0;34m(obj, zip_file, pickle_module, pickle_protocol)\u001b[0m\n\u001b[1;32m    474\u001b[0m     \u001b[0mpickler\u001b[0m \u001b[0;34m=\u001b[0m \u001b[0mpickle_module\u001b[0m\u001b[0;34m.\u001b[0m\u001b[0mPickler\u001b[0m\u001b[0;34m(\u001b[0m\u001b[0mdata_buf\u001b[0m\u001b[0;34m,\u001b[0m \u001b[0mprotocol\u001b[0m\u001b[0;34m=\u001b[0m\u001b[0mpickle_protocol\u001b[0m\u001b[0;34m)\u001b[0m\u001b[0;34m\u001b[0m\u001b[0;34m\u001b[0m\u001b[0m\n\u001b[1;32m    475\u001b[0m     \u001b[0mpickler\u001b[0m\u001b[0;34m.\u001b[0m\u001b[0mpersistent_id\u001b[0m \u001b[0;34m=\u001b[0m \u001b[0mpersistent_id\u001b[0m\u001b[0;34m\u001b[0m\u001b[0;34m\u001b[0m\u001b[0m\n\u001b[0;32m--> 476\u001b[0;31m     \u001b[0mpickler\u001b[0m\u001b[0;34m.\u001b[0m\u001b[0mdump\u001b[0m\u001b[0;34m(\u001b[0m\u001b[0mobj\u001b[0m\u001b[0;34m)\u001b[0m\u001b[0;34m\u001b[0m\u001b[0;34m\u001b[0m\u001b[0m\n\u001b[0m\u001b[1;32m    477\u001b[0m     \u001b[0mdata_value\u001b[0m \u001b[0;34m=\u001b[0m \u001b[0mdata_buf\u001b[0m\u001b[0;34m.\u001b[0m\u001b[0mgetvalue\u001b[0m\u001b[0;34m(\u001b[0m\u001b[0;34m)\u001b[0m\u001b[0;34m\u001b[0m\u001b[0;34m\u001b[0m\u001b[0m\n\u001b[1;32m    478\u001b[0m     \u001b[0mzip_file\u001b[0m\u001b[0;34m.\u001b[0m\u001b[0mwrite_record\u001b[0m\u001b[0;34m(\u001b[0m\u001b[0;34m'data.pkl'\u001b[0m\u001b[0;34m,\u001b[0m \u001b[0mdata_value\u001b[0m\u001b[0;34m,\u001b[0m \u001b[0mlen\u001b[0m\u001b[0;34m(\u001b[0m\u001b[0mdata_value\u001b[0m\u001b[0;34m)\u001b[0m\u001b[0;34m)\u001b[0m\u001b[0;34m\u001b[0m\u001b[0;34m\u001b[0m\u001b[0m\n",
            "\u001b[0;32m/usr/local/lib/python3.6/dist-packages/torch/tensor.py\u001b[0m in \u001b[0;36m__reduce_ex__\u001b[0;34m(self, proto)\u001b[0m\n\u001b[1;32m    100\u001b[0m         \u001b[0;31m#    `tolist()` converts every single element in the tensor into python objects\u001b[0m\u001b[0;34m\u001b[0m\u001b[0;34m\u001b[0m\u001b[0;34m\u001b[0m\u001b[0m\n\u001b[1;32m    101\u001b[0m         \u001b[0;31m#    and serialize them one by one.\u001b[0m\u001b[0;34m\u001b[0m\u001b[0;34m\u001b[0m\u001b[0;34m\u001b[0m\u001b[0m\n\u001b[0;32m--> 102\u001b[0;31m         \u001b[0;32mif\u001b[0m \u001b[0mself\u001b[0m\u001b[0;34m.\u001b[0m\u001b[0mdevice\u001b[0m\u001b[0;34m.\u001b[0m\u001b[0mtype\u001b[0m \u001b[0;34m==\u001b[0m \u001b[0;34m'xla'\u001b[0m\u001b[0;34m:\u001b[0m\u001b[0;34m\u001b[0m\u001b[0;34m\u001b[0m\u001b[0m\n\u001b[0m\u001b[1;32m    103\u001b[0m             arg_xla = (self.cpu().numpy(),\n\u001b[1;32m    104\u001b[0m                        \u001b[0mself\u001b[0m\u001b[0;34m.\u001b[0m\u001b[0mdtype\u001b[0m\u001b[0;34m,\u001b[0m\u001b[0;34m\u001b[0m\u001b[0;34m\u001b[0m\u001b[0m\n",
            "\u001b[0;31mKeyboardInterrupt\u001b[0m: "
          ]
        }
      ]
    },
    {
      "cell_type": "markdown",
      "metadata": {
        "id": "spIp7mogliDI"
      },
      "source": [
        "## Plot an image"
      ]
    },
    {
      "cell_type": "code",
      "metadata": {
        "colab": {
          "base_uri": "https://localhost:8080/",
          "height": 331
        },
        "id": "pj91rMEcXxco",
        "outputId": "a842e981-1077-4187-a599-b8c3b5f93f87"
      },
      "source": [
        "from matplotlib.pyplot import imshow, figure\n",
        "import numpy as np\n",
        "from torchvision.utils import make_grid\n",
        "from pl_bolts.transforms.dataset_normalizations import cifar10_normalization\n",
        "figure(figsize=(8, 3), dpi=300)\n",
        "\n",
        "# Z COMES FROM NORMAL(0, 1)\n",
        "num_preds = 16\n",
        "p = torch.distributions.Normal(torch.zeros_like(mu), torch.ones_like(std))\n",
        "z = p.rsample((num_preds,))\n",
        "\n",
        "# SAMPLE IMAGES\n",
        "with torch.no_grad():\n",
        "    pred = vae.decoder(z.to(vae.device)).cpu()\n",
        "\n",
        "# UNDO DATA NORMALIZATION\n",
        "normalize = cifar10_normalization()\n",
        "mean, std = np.array(normalize.mean), np.array(normalize.std)\n",
        "img = make_grid(pred).permute(1, 2, 0).numpy() * std + mean\n",
        "\n",
        "# PLOT IMAGES\n",
        "imshow(img);"
      ],
      "execution_count": null,
      "outputs": [
        {
          "output_type": "display_data",
          "data": {
            "image/png": "[encoded data removed]",
            "text/plain": [
              "<Figure size 2400x900 with 1 Axes>"
            ]
          },
          "metadata": {
            "tags": [],
            "needs_background": "light"
          }
        }
      ]
    }
  ]
}