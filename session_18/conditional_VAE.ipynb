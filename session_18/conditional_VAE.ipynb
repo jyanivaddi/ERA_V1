{
  "nbformat": 4,
  "nbformat_minor": 0,
  "metadata": {
    "colab": {
      "provenance": [],
      "toc_visible": true
    },
    "kernelspec": {
      "name": "python3",
      "display_name": "Python 3"
    },
    "accelerator": "GPU",
    "widgets": {
      "application/vnd.jupyter.widget-state+json": {
        "43d166c1f85044f4858f0ff2417bae75": {
          "model_module": "@jupyter-widgets/controls",
          "model_name": "HBoxModel",
          "model_module_version": "1.5.0",
          "state": {
            "_dom_classes": [],
            "_model_module": "@jupyter-widgets/controls",
            "_model_module_version": "1.5.0",
            "_model_name": "HBoxModel",
            "_view_count": null,
            "_view_module": "@jupyter-widgets/controls",
            "_view_module_version": "1.5.0",
            "_view_name": "HBoxView",
            "box_style": "",
            "children": [
              "IPY_MODEL_a17578c2ee2b493d86be5bce90bd8862",
              "IPY_MODEL_3f1f72119c4d43748721f5e1dc24805f",
              "IPY_MODEL_92fdd43396924c91b58f7ad1096f1679"
            ],
            "layout": "IPY_MODEL_db79283e16194dc59860980d3a104d5b"
          }
        },
        "a17578c2ee2b493d86be5bce90bd8862": {
          "model_module": "@jupyter-widgets/controls",
          "model_name": "HTMLModel",
          "model_module_version": "1.5.0",
          "state": {
            "_dom_classes": [],
            "_model_module": "@jupyter-widgets/controls",
            "_model_module_version": "1.5.0",
            "_model_name": "HTMLModel",
            "_view_count": null,
            "_view_module": "@jupyter-widgets/controls",
            "_view_module_version": "1.5.0",
            "_view_name": "HTMLView",
            "description": "",
            "description_tooltip": null,
            "layout": "IPY_MODEL_e24e4c6200724649922934cd0a553ca7",
            "placeholder": "​",
            "style": "IPY_MODEL_33afb8bc9b7f4a74bb296dfd7ca15c16",
            "value": "Epoch 11:   2%"
          }
        },
        "3f1f72119c4d43748721f5e1dc24805f": {
          "model_module": "@jupyter-widgets/controls",
          "model_name": "FloatProgressModel",
          "model_module_version": "1.5.0",
          "state": {
            "_dom_classes": [],
            "_model_module": "@jupyter-widgets/controls",
            "_model_module_version": "1.5.0",
            "_model_name": "FloatProgressModel",
            "_view_count": null,
            "_view_module": "@jupyter-widgets/controls",
            "_view_module_version": "1.5.0",
            "_view_name": "ProgressView",
            "bar_style": "",
            "description": "",
            "description_tooltip": null,
            "layout": "IPY_MODEL_f1863925e3744cd1a114e2b293b2a852",
            "max": 1250,
            "min": 0,
            "orientation": "horizontal",
            "style": "IPY_MODEL_9c9e2b3e7adb4ff386684ee082712442",
            "value": 20
          }
        },
        "92fdd43396924c91b58f7ad1096f1679": {
          "model_module": "@jupyter-widgets/controls",
          "model_name": "HTMLModel",
          "model_module_version": "1.5.0",
          "state": {
            "_dom_classes": [],
            "_model_module": "@jupyter-widgets/controls",
            "_model_module_version": "1.5.0",
            "_model_name": "HTMLModel",
            "_view_count": null,
            "_view_module": "@jupyter-widgets/controls",
            "_view_module_version": "1.5.0",
            "_view_name": "HTMLView",
            "description": "",
            "description_tooltip": null,
            "layout": "IPY_MODEL_f095fff0b75a4dc0bf2bb0ca25d5102d",
            "placeholder": "​",
            "style": "IPY_MODEL_a3aa3e7d576645b69d1aad68e64bb74a",
            "value": " 20/1250 [00:01&lt;01:29, 13.78it/s, loss=-974, v_num=0]"
          }
        },
        "db79283e16194dc59860980d3a104d5b": {
          "model_module": "@jupyter-widgets/base",
          "model_name": "LayoutModel",
          "model_module_version": "1.2.0",
          "state": {
            "_model_module": "@jupyter-widgets/base",
            "_model_module_version": "1.2.0",
            "_model_name": "LayoutModel",
            "_view_count": null,
            "_view_module": "@jupyter-widgets/base",
            "_view_module_version": "1.2.0",
            "_view_name": "LayoutView",
            "align_content": null,
            "align_items": null,
            "align_self": null,
            "border": null,
            "bottom": null,
            "display": "inline-flex",
            "flex": null,
            "flex_flow": "row wrap",
            "grid_area": null,
            "grid_auto_columns": null,
            "grid_auto_flow": null,
            "grid_auto_rows": null,
            "grid_column": null,
            "grid_gap": null,
            "grid_row": null,
            "grid_template_areas": null,
            "grid_template_columns": null,
            "grid_template_rows": null,
            "height": null,
            "justify_content": null,
            "justify_items": null,
            "left": null,
            "margin": null,
            "max_height": null,
            "max_width": null,
            "min_height": null,
            "min_width": null,
            "object_fit": null,
            "object_position": null,
            "order": null,
            "overflow": null,
            "overflow_x": null,
            "overflow_y": null,
            "padding": null,
            "right": null,
            "top": null,
            "visibility": null,
            "width": "100%"
          }
        },
        "e24e4c6200724649922934cd0a553ca7": {
          "model_module": "@jupyter-widgets/base",
          "model_name": "LayoutModel",
          "model_module_version": "1.2.0",
          "state": {
            "_model_module": "@jupyter-widgets/base",
            "_model_module_version": "1.2.0",
            "_model_name": "LayoutModel",
            "_view_count": null,
            "_view_module": "@jupyter-widgets/base",
            "_view_module_version": "1.2.0",
            "_view_name": "LayoutView",
            "align_content": null,
            "align_items": null,
            "align_self": null,
            "border": null,
            "bottom": null,
            "display": null,
            "flex": null,
            "flex_flow": null,
            "grid_area": null,
            "grid_auto_columns": null,
            "grid_auto_flow": null,
            "grid_auto_rows": null,
            "grid_column": null,
            "grid_gap": null,
            "grid_row": null,
            "grid_template_areas": null,
            "grid_template_columns": null,
            "grid_template_rows": null,
            "height": null,
            "justify_content": null,
            "justify_items": null,
            "left": null,
            "margin": null,
            "max_height": null,
            "max_width": null,
            "min_height": null,
            "min_width": null,
            "object_fit": null,
            "object_position": null,
            "order": null,
            "overflow": null,
            "overflow_x": null,
            "overflow_y": null,
            "padding": null,
            "right": null,
            "top": null,
            "visibility": null,
            "width": null
          }
        },
        "33afb8bc9b7f4a74bb296dfd7ca15c16": {
          "model_module": "@jupyter-widgets/controls",
          "model_name": "DescriptionStyleModel",
          "model_module_version": "1.5.0",
          "state": {
            "_model_module": "@jupyter-widgets/controls",
            "_model_module_version": "1.5.0",
            "_model_name": "DescriptionStyleModel",
            "_view_count": null,
            "_view_module": "@jupyter-widgets/base",
            "_view_module_version": "1.2.0",
            "_view_name": "StyleView",
            "description_width": ""
          }
        },
        "f1863925e3744cd1a114e2b293b2a852": {
          "model_module": "@jupyter-widgets/base",
          "model_name": "LayoutModel",
          "model_module_version": "1.2.0",
          "state": {
            "_model_module": "@jupyter-widgets/base",
            "_model_module_version": "1.2.0",
            "_model_name": "LayoutModel",
            "_view_count": null,
            "_view_module": "@jupyter-widgets/base",
            "_view_module_version": "1.2.0",
            "_view_name": "LayoutView",
            "align_content": null,
            "align_items": null,
            "align_self": null,
            "border": null,
            "bottom": null,
            "display": null,
            "flex": "2",
            "flex_flow": null,
            "grid_area": null,
            "grid_auto_columns": null,
            "grid_auto_flow": null,
            "grid_auto_rows": null,
            "grid_column": null,
            "grid_gap": null,
            "grid_row": null,
            "grid_template_areas": null,
            "grid_template_columns": null,
            "grid_template_rows": null,
            "height": null,
            "justify_content": null,
            "justify_items": null,
            "left": null,
            "margin": null,
            "max_height": null,
            "max_width": null,
            "min_height": null,
            "min_width": null,
            "object_fit": null,
            "object_position": null,
            "order": null,
            "overflow": null,
            "overflow_x": null,
            "overflow_y": null,
            "padding": null,
            "right": null,
            "top": null,
            "visibility": null,
            "width": null
          }
        },
        "9c9e2b3e7adb4ff386684ee082712442": {
          "model_module": "@jupyter-widgets/controls",
          "model_name": "ProgressStyleModel",
          "model_module_version": "1.5.0",
          "state": {
            "_model_module": "@jupyter-widgets/controls",
            "_model_module_version": "1.5.0",
            "_model_name": "ProgressStyleModel",
            "_view_count": null,
            "_view_module": "@jupyter-widgets/base",
            "_view_module_version": "1.2.0",
            "_view_name": "StyleView",
            "bar_color": null,
            "description_width": ""
          }
        },
        "f095fff0b75a4dc0bf2bb0ca25d5102d": {
          "model_module": "@jupyter-widgets/base",
          "model_name": "LayoutModel",
          "model_module_version": "1.2.0",
          "state": {
            "_model_module": "@jupyter-widgets/base",
            "_model_module_version": "1.2.0",
            "_model_name": "LayoutModel",
            "_view_count": null,
            "_view_module": "@jupyter-widgets/base",
            "_view_module_version": "1.2.0",
            "_view_name": "LayoutView",
            "align_content": null,
            "align_items": null,
            "align_self": null,
            "border": null,
            "bottom": null,
            "display": null,
            "flex": null,
            "flex_flow": null,
            "grid_area": null,
            "grid_auto_columns": null,
            "grid_auto_flow": null,
            "grid_auto_rows": null,
            "grid_column": null,
            "grid_gap": null,
            "grid_row": null,
            "grid_template_areas": null,
            "grid_template_columns": null,
            "grid_template_rows": null,
            "height": null,
            "justify_content": null,
            "justify_items": null,
            "left": null,
            "margin": null,
            "max_height": null,
            "max_width": null,
            "min_height": null,
            "min_width": null,
            "object_fit": null,
            "object_position": null,
            "order": null,
            "overflow": null,
            "overflow_x": null,
            "overflow_y": null,
            "padding": null,
            "right": null,
            "top": null,
            "visibility": null,
            "width": null
          }
        },
        "a3aa3e7d576645b69d1aad68e64bb74a": {
          "model_module": "@jupyter-widgets/controls",
          "model_name": "DescriptionStyleModel",
          "model_module_version": "1.5.0",
          "state": {
            "_model_module": "@jupyter-widgets/controls",
            "_model_module_version": "1.5.0",
            "_model_name": "DescriptionStyleModel",
            "_view_count": null,
            "_view_module": "@jupyter-widgets/base",
            "_view_module_version": "1.2.0",
            "_view_name": "StyleView",
            "description_width": ""
          }
        }
      }
    }
  },
  "cells": [
    {
      "cell_type": "markdown",
      "metadata": {
        "id": "6kCuRWlIx39v"
      },
      "source": [
        "---\n",
        "## Implementation walk-through\n",
        "So, with our formula defined, let's start our implementation.\n",
        "\n",
        "\n",
        "If you skipped the math and elbo derivation, remember we are implementing this loss (the ELBO)\n",
        "\n",
        "$$\n",
        "\\color{red}{\\min \\mathbb{E}_{q}[ \\log q(z|x) - \\log p(z)]} - \\color{blue}{\\mathbb{E}_{q} \\log p(x|z)}\n",
        "$$"
      ]
    },
    {
      "cell_type": "code",
      "metadata": {
        "id": "Ue4hW0MtyAIm"
      },
      "source": [
        "%%capture\n",
        "! pip install pytorch-lightning\n",
        "#! pip install pytorch-lightning-bolts==0.2.5rc1\n",
        "!pip install --quiet \"torchinfo\" \"lightning-bolts\""
      ],
      "execution_count": 1,
      "outputs": []
    },
    {
      "cell_type": "markdown",
      "metadata": {
        "id": "qCH1jxMCyVgP"
      },
      "source": [
        "#### First 4 elements\n",
        "The main 4 elements of a VAE are:\n",
        "- encoder\n",
        "- decoder\n",
        "- mu\n",
        "- sigma\n",
        "\n",
        "mu, sigma are the parameters for the distributions in our formula.\n",
        "\n",
        "Note: in our notation we say $q(z|x)$ where we assume $q$ to be a neural network. However, q is a neural network that DOES NOT GENERATE z. Instead it generates parameters FOR a distribution OVER z."
      ]
    },
    {
      "cell_type": "code",
      "metadata": {
        "id": "BOYE51Hnytie",
        "outputId": "84f1ec9a-2f24-4603-934d-303b99e1897d",
        "colab": {
          "base_uri": "https://localhost:8080/"
        }
      },
      "source": [
        "import torch\n",
        "import pytorch_lightning as pl\n",
        "from torch import nn\n",
        "from torch.nn import functional as F\n",
        "from pl_bolts.models.autoencoders.components import (\n",
        "    resnet18_decoder,\n",
        "    resnet18_encoder,\n",
        ")\n",
        "\n",
        "class VAE(pl.LightningModule):\n",
        "    def __init__(self, enc_out_dim=512, latent_dim=256, input_height=32):\n",
        "        super().__init__()\n",
        "\n",
        "        self.save_hyperparameters()\n",
        "\n",
        "        # encoder, decoder\n",
        "        self.encoder = resnet18_encoder(False, False)\n",
        "        self.decoder = resnet18_decoder(\n",
        "            latent_dim=latent_dim,\n",
        "            input_height=input_height,\n",
        "            first_conv=False,\n",
        "            maxpool1=False\n",
        "        )\n",
        "\n",
        "        # distribution parameters\n",
        "        self.fc_mu = nn.Linear(enc_out_dim, latent_dim)\n",
        "        self.fc_var = nn.Linear(enc_out_dim, latent_dim)"
      ],
      "execution_count": 2,
      "outputs": [
        {
          "output_type": "stream",
          "name": "stderr",
          "text": [
            "/usr/local/lib/python3.10/dist-packages/pl_bolts/models/self_supervised/amdim/amdim_module.py:34: UnderReviewWarning: The feature generate_power_seq is currently marked under review. The compatibility with other Lightning projects is not guaranteed and API may change at any time. The API and functionality may change without warning in future releases. More details: https://lightning-bolts.readthedocs.io/en/latest/stability.html\n",
            "  \"lr_options\": generate_power_seq(LEARNING_RATE_CIFAR, 11),\n",
            "/usr/local/lib/python3.10/dist-packages/pl_bolts/models/self_supervised/amdim/amdim_module.py:92: UnderReviewWarning: The feature FeatureMapContrastiveTask is currently marked under review. The compatibility with other Lightning projects is not guaranteed and API may change at any time. The API and functionality may change without warning in future releases. More details: https://lightning-bolts.readthedocs.io/en/latest/stability.html\n",
            "  contrastive_task: Union[FeatureMapContrastiveTask] = FeatureMapContrastiveTask(\"01, 02, 11\"),\n",
            "/usr/local/lib/python3.10/dist-packages/pl_bolts/losses/self_supervised_learning.py:228: UnderReviewWarning: The feature AmdimNCELoss is currently marked under review. The compatibility with other Lightning projects is not guaranteed and API may change at any time. The API and functionality may change without warning in future releases. More details: https://lightning-bolts.readthedocs.io/en/latest/stability.html\n",
            "  self.nce_loss = AmdimNCELoss(tclip)\n"
          ]
        }
      ]
    },
    {
      "cell_type": "markdown",
      "metadata": {
        "id": "ZOnfCpUL0oJp"
      },
      "source": [
        "#### Sample z\n",
        "\n",
        "In Lightning we define the model interactions and the core algorithm in the training_step.\n",
        "\n",
        "For EDUCATIONAL purposes only, we are adding the training_step to the lightning module here instead of in the original class definition\n",
        "\n",
        "The VAE algorithm goes like this:\n",
        "\n",
        "1. Sample z"
      ]
    },
    {
      "cell_type": "code",
      "metadata": {
        "id": "k2Y1o0JvJ4KR",
        "outputId": "1dc1b07e-05ff-4332-ea41-2471f84983d0",
        "colab": {
          "base_uri": "https://localhost:8080/"
        }
      },
      "source": [
        "vae = VAE()"
      ],
      "execution_count": 3,
      "outputs": [
        {
          "output_type": "stream",
          "name": "stderr",
          "text": [
            "<ipython-input-2-e935c9cfad31>:17: UnderReviewWarning: The feature resnet18_encoder is currently marked under review. The compatibility with other Lightning projects is not guaranteed and API may change at any time. The API and functionality may change without warning in future releases. More details: https://lightning-bolts.readthedocs.io/en/latest/stability.html\n",
            "  self.encoder = resnet18_encoder(False, False)\n",
            "/usr/local/lib/python3.10/dist-packages/pl_bolts/models/autoencoders/components.py:334: UnderReviewWarning: The feature ResNetEncoder is currently marked under review. The compatibility with other Lightning projects is not guaranteed and API may change at any time. The API and functionality may change without warning in future releases. More details: https://lightning-bolts.readthedocs.io/en/latest/stability.html\n",
            "  return ResNetEncoder(EncoderBlock, [2, 2, 2, 2], first_conv, maxpool1)\n",
            "/usr/local/lib/python3.10/dist-packages/pl_bolts/models/autoencoders/components.py:236: UnderReviewWarning: The feature EncoderBlock is currently marked under review. The compatibility with other Lightning projects is not guaranteed and API may change at any time. The API and functionality may change without warning in future releases. More details: https://lightning-bolts.readthedocs.io/en/latest/stability.html\n",
            "  layers.append(block(self.inplanes, planes, stride, downsample))\n",
            "/usr/local/lib/python3.10/dist-packages/pl_bolts/models/autoencoders/components.py:56: UnderReviewWarning: The feature conv3x3 is currently marked under review. The compatibility with other Lightning projects is not guaranteed and API may change at any time. The API and functionality may change without warning in future releases. More details: https://lightning-bolts.readthedocs.io/en/latest/stability.html\n",
            "  self.conv1 = conv3x3(inplanes, planes, stride)\n",
            "/usr/local/lib/python3.10/dist-packages/pl_bolts/models/autoencoders/components.py:231: UnderReviewWarning: The feature conv1x1 is currently marked under review. The compatibility with other Lightning projects is not guaranteed and API may change at any time. The API and functionality may change without warning in future releases. More details: https://lightning-bolts.readthedocs.io/en/latest/stability.html\n",
            "  conv1x1(self.inplanes, planes * block.expansion, stride),\n",
            "<ipython-input-2-e935c9cfad31>:18: UnderReviewWarning: The feature resnet18_decoder is currently marked under review. The compatibility with other Lightning projects is not guaranteed and API may change at any time. The API and functionality may change without warning in future releases. More details: https://lightning-bolts.readthedocs.io/en/latest/stability.html\n",
            "  self.decoder = resnet18_decoder(\n",
            "/usr/local/lib/python3.10/dist-packages/pl_bolts/models/autoencoders/components.py:339: UnderReviewWarning: The feature ResNetDecoder is currently marked under review. The compatibility with other Lightning projects is not guaranteed and API may change at any time. The API and functionality may change without warning in future releases. More details: https://lightning-bolts.readthedocs.io/en/latest/stability.html\n",
            "  return ResNetDecoder(DecoderBlock, [2, 2, 2, 2], latent_dim, input_height, first_conv, maxpool1)\n",
            "/usr/local/lib/python3.10/dist-packages/pl_bolts/models/autoencoders/components.py:301: UnderReviewWarning: The feature resize_conv1x1 is currently marked under review. The compatibility with other Lightning projects is not guaranteed and API may change at any time. The API and functionality may change without warning in future releases. More details: https://lightning-bolts.readthedocs.io/en/latest/stability.html\n",
            "  resize_conv1x1(self.inplanes, planes * block.expansion, scale),\n",
            "/usr/local/lib/python3.10/dist-packages/pl_bolts/models/autoencoders/components.py:45: UnderReviewWarning: The feature Interpolate is currently marked under review. The compatibility with other Lightning projects is not guaranteed and API may change at any time. The API and functionality may change without warning in future releases. More details: https://lightning-bolts.readthedocs.io/en/latest/stability.html\n",
            "  return nn.Sequential(Interpolate(scale_factor=scale), conv1x1(in_planes, out_planes))\n",
            "/usr/local/lib/python3.10/dist-packages/pl_bolts/models/autoencoders/components.py:306: UnderReviewWarning: The feature DecoderBlock is currently marked under review. The compatibility with other Lightning projects is not guaranteed and API may change at any time. The API and functionality may change without warning in future releases. More details: https://lightning-bolts.readthedocs.io/en/latest/stability.html\n",
            "  layers.append(block(self.inplanes, planes, scale, upsample))\n",
            "/usr/local/lib/python3.10/dist-packages/pl_bolts/models/autoencoders/components.py:132: UnderReviewWarning: The feature resize_conv3x3 is currently marked under review. The compatibility with other Lightning projects is not guaranteed and API may change at any time. The API and functionality may change without warning in future releases. More details: https://lightning-bolts.readthedocs.io/en/latest/stability.html\n",
            "  self.conv1 = resize_conv3x3(inplanes, inplanes)\n"
          ]
        }
      ]
    },
    {
      "cell_type": "code",
      "metadata": {
        "colab": {
          "base_uri": "https://localhost:8080/"
        },
        "id": "M2DA3vyA1J63",
        "outputId": "e36131ae-3e24-43c9-a80a-0ff89e950e97"
      },
      "source": [
        "# DATA\n",
        "# we're pretending to have an image from cifar-10 (3 channels, 32x32 pixels)\n",
        "x = torch.rand(1, 3, 32, 32)\n",
        "\n",
        "print('image shape:', x.shape)\n",
        "\n",
        "# GET Q(z|x) PARAMETERS\n",
        "# encode x to get the mu and variance parameters\n",
        "x_encoded = vae.encoder(x)\n",
        "mu, log_var = vae.fc_mu(x_encoded), vae.fc_var(x_encoded)\n",
        "\n",
        "print('mu:', mu.shape)\n",
        "print('log_var:', log_var.shape)\n",
        "\n",
        "# SAMPLE Z from Q(Z|x)\n",
        "std = torch.exp(log_var / 2)\n",
        "q = torch.distributions.Normal(mu, std)\n",
        "z = q.rsample()\n",
        "\n",
        "print('z shape:', z.shape)"
      ],
      "execution_count": 4,
      "outputs": [
        {
          "output_type": "stream",
          "name": "stdout",
          "text": [
            "image shape: torch.Size([1, 3, 32, 32])\n",
            "mu: torch.Size([1, 256])\n",
            "log_var: torch.Size([1, 256])\n",
            "z shape: torch.Size([1, 256])\n"
          ]
        }
      ]
    },
    {
      "cell_type": "code",
      "metadata": {
        "id": "zXdEHb2BKoFi"
      },
      "source": [
        "zero = torch.zeros_like(mu)\n",
        "one = torch.ones_like(std)\n",
        "p = torch.distributions.Normal(zero, one)"
      ],
      "execution_count": 5,
      "outputs": []
    },
    {
      "cell_type": "markdown",
      "metadata": {
        "id": "279hJbHi4G5W"
      },
      "source": [
        "#### decoding\n",
        "\n",
        "The second part is reconstruction.\n",
        "\n",
        "The decoder is going to take as input $z$ and it will generate PARAMETERS for a distribution from which to sample a reconstruction.\n",
        "\n",
        "Note: Most tutorials use MNIST so the decoder generates BERNOULLI variables which can be used in a bernoulli distribution to sample a value for each pixel.\n",
        "\n",
        "That's right, the decoder generates distribution parameters FOR EACH pixel. And since most tutorials use MNIST the outputs of the decoder will LOOK like a digit because those parameters are in the range 0-1 (which happens to be the same for black and white images).\n"
      ]
    },
    {
      "cell_type": "markdown",
      "metadata": {
        "id": "5amgCaDC5PHu"
      },
      "source": [
        "But in our case, we'll actually use CIFAR-10 which are color images... so we need to do something more realistic:\n"
      ]
    },
    {
      "cell_type": "code",
      "metadata": {
        "colab": {
          "base_uri": "https://localhost:8080/"
        },
        "id": "4MObpA0R5VPm",
        "outputId": "938a257b-ec60-4036-875e-107b88900356"
      },
      "source": [
        "x_hat = vae.decoder(z)\n",
        "print(x_hat.shape)"
      ],
      "execution_count": 6,
      "outputs": [
        {
          "output_type": "stream",
          "name": "stdout",
          "text": [
            "torch.Size([1, 3, 32, 32])\n"
          ]
        }
      ]
    },
    {
      "cell_type": "markdown",
      "metadata": {
        "id": "riXmLJvg5vDa"
      },
      "source": [
        "#### reconstruction loss\n",
        "\n",
        "You'll likely see the reconstruction loss using MSE like this in most tutorials about autoencoders.\n",
        "\n",
        "However, MSE DOES not apply to Variational autoencoders"
      ]
    },
    {
      "cell_type": "code",
      "metadata": {
        "colab": {
          "base_uri": "https://localhost:8080/"
        },
        "id": "vgigEWDs7Y-4",
        "outputId": "a1a0619b-beee-49f8-dffd-324c789081d4"
      },
      "source": [
        "recon_loss = F.mse_loss(x_hat, x, reduction='none')\n",
        "recon_loss = recon_loss.sum(-1).sum(-1).sum(-1)\n",
        "print('wrong reconstruction loss', recon_loss)"
      ],
      "execution_count": null,
      "outputs": [
        {
          "output_type": "stream",
          "text": [
            "wrong reconstruction loss tensor([2402.9331], grad_fn=<SumBackward1>)\n"
          ],
          "name": "stdout"
        }
      ]
    },
    {
      "cell_type": "markdown",
      "metadata": {
        "id": "Tzk-TjFbVWsn"
      },
      "source": [
        "Instead, the output of the decoder represents parameters for a distribution.\n",
        "\n",
        "When the images are MNIST, the parameters (decoder output) can be considered bernoullis and thus you can use the pixel values of MNIST (because they are ones and zeros) to calculate the cross entropy (which is the \"reconstruction loss\").\n",
        "\n",
        "But when dealing with color images, it is prefered to model each parameter out of the decoder as a gaussian."
      ]
    },
    {
      "cell_type": "code",
      "metadata": {
        "colab": {
          "base_uri": "https://localhost:8080/"
        },
        "id": "I-k-xjjWV9s9",
        "outputId": "d4ae164b-21cf-4e97-b3f1-875e366d88e2"
      },
      "source": [
        "# get the PARAMETERS for P(x|z)\n",
        "x_hat = vae.decoder(z)\n",
        "print('we have these many parameters for a distribution:', x_hat.shape)\n",
        "\n",
        "# compute the probability of x under this n-dimensional distribution\n",
        "log_scale = nn.Parameter(torch.Tensor([0.0]))\n",
        "scale = torch.exp(log_scale)\n",
        "dist = torch.distributions.Normal(x_hat, scale)\n",
        "log_pxz = dist.log_prob(x)\n",
        "\n",
        "print(log_pxz.shape)\n",
        "\n",
        "# sum across channels, and all pixels (width, height)\n",
        "# this gives the log probability of THIS particular IMAGE\n",
        "log_pxz = log_pxz.sum(dim=(1, 2, 3))\n",
        "print(log_pxz.shape)\n",
        "print('reconstruction loss:', log_pxz.item())\n",
        "\n",
        "recon_loss = log_pxz"
      ],
      "execution_count": 7,
      "outputs": [
        {
          "output_type": "stream",
          "name": "stdout",
          "text": [
            "we have these many parameters for a distribution: torch.Size([1, 3, 32, 32])\n",
            "torch.Size([1, 3, 32, 32])\n",
            "torch.Size([1])\n",
            "reconstruction loss: -5621.9814453125\n"
          ]
        }
      ]
    },
    {
      "cell_type": "markdown",
      "metadata": {
        "id": "Euc6MmJY_soH"
      },
      "source": [
        "#### kl divergence\n",
        "\n",
        "Next we'll define the second term of the loss which is the KL divergence.\n",
        "\n",
        "Now, we don't want to compute the KL divergence analytically, so we'll instead use the monte carlo estimate.\n",
        "\n",
        "$$\n",
        "= \\mathbb{E}_{q}  \\log \\frac{q(z|x)}{p(z)}\\\\\n",
        "= \\mathbb{E}_{q} [\\log q(z|x) - \\log{p(z)}]\n",
        "$$\n",
        "\n",
        "To code this, we'll need to be able to get the probability of z under each of $p(z)$ and $q(z|x)$.\n",
        "\n",
        "This means we don't need to know what the distribution is, but only sample from it.\n"
      ]
    },
    {
      "cell_type": "code",
      "metadata": {
        "colab": {
          "base_uri": "https://localhost:8080/"
        },
        "id": "rg3jfRGcA0xQ",
        "outputId": "038fc299-6b30-4d13-8fbe-3aae025b1c6a"
      },
      "source": [
        "# 1. define the first two probabilities (in this case Normal for both)\n",
        "p = torch.distributions.Normal(torch.zeros_like(mu), torch.ones_like(std))\n",
        "q = torch.distributions.Normal(mu, std)\n",
        "\n",
        "# 2. get the probabilities from the equation\n",
        "log_qzx = q.log_prob(z)\n",
        "log_pz = p.log_prob(z)\n",
        "\n",
        "print(log_qzx.shape, log_pz.shape)\n",
        "\n",
        "# 3. calculate the KL\n",
        "kl = (log_qzx - log_pz)\n",
        "\n",
        "# 4. this bit is a bit tricky. Since these are log probabilities\n",
        "# we can sum all the individual dimensions to give us the multi-dimensional\n",
        "# probability\n",
        "kl = kl.sum(-1)\n",
        "print(kl)"
      ],
      "execution_count": 8,
      "outputs": [
        {
          "output_type": "stream",
          "name": "stdout",
          "text": [
            "torch.Size([1, 256]) torch.Size([1, 256])\n",
            "tensor([70.6586], grad_fn=<SumBackward1>)\n"
          ]
        }
      ]
    },
    {
      "cell_type": "markdown",
      "metadata": {
        "id": "W2IRTuZ-CECD"
      },
      "source": [
        "#### ELBO\n",
        "\n",
        "So, the full elbo is:"
      ]
    },
    {
      "cell_type": "code",
      "metadata": {
        "colab": {
          "base_uri": "https://localhost:8080/"
        },
        "id": "IywdHb8HCGmW",
        "outputId": "794d30ec-3c7c-492c-9f27-ba6db63ba744"
      },
      "source": [
        "elbo = (kl - recon_loss)\n",
        "print('kl:', kl.mean())\n",
        "print('log likelihood (reconstruction loss):', recon_loss.mean())\n",
        "print('elbo: ', elbo.mean())"
      ],
      "execution_count": 9,
      "outputs": [
        {
          "output_type": "stream",
          "name": "stdout",
          "text": [
            "kl: tensor(70.6586, grad_fn=<MeanBackward0>)\n",
            "log likelihood (reconstruction loss): tensor(-5621.9814, grad_fn=<MeanBackward0>)\n",
            "elbo:  tensor(5692.6401, grad_fn=<MeanBackward0>)\n"
          ]
        }
      ]
    },
    {
      "cell_type": "markdown",
      "metadata": {
        "id": "ZJfbA6qmFyDo"
      },
      "source": [
        "# Full Implementation\n",
        "So, the full implementation is as follows."
      ]
    },
    {
      "cell_type": "code",
      "metadata": {
        "id": "a3_ABiO0F3jM"
      },
      "source": [
        "import pytorch_lightning as pl\n",
        "from torch import nn\n",
        "from torch.nn import functional as F\n",
        "from pl_bolts.models.autoencoders.components import (\n",
        "    resnet18_decoder,\n",
        "    resnet18_encoder,\n",
        ")\n",
        "\n",
        "class VAE(pl.LightningModule):\n",
        "    def __init__(self, enc_out_dim=512, latent_dim=256, input_height=32):\n",
        "        super().__init__()\n",
        "\n",
        "        self.save_hyperparameters()\n",
        "\n",
        "        # encoder, decoder\n",
        "        self.encoder = resnet18_encoder(False, False)\n",
        "        self.decoder = resnet18_decoder(\n",
        "            latent_dim=latent_dim,\n",
        "            input_height=input_height,\n",
        "            first_conv=False,\n",
        "            maxpool1=False\n",
        "        )\n",
        "\n",
        "        # distribution parameters\n",
        "        self.fc_mu = nn.Linear(enc_out_dim, latent_dim)\n",
        "        self.fc_var = nn.Linear(enc_out_dim, latent_dim)\n",
        "\n",
        "        # for the gaussian likelihood\n",
        "        self.log_scale = nn.Parameter(torch.Tensor([0.0]))\n",
        "\n",
        "    def configure_optimizers(self):\n",
        "        return torch.optim.Adam(self.parameters(), lr=1e-4)\n",
        "\n",
        "    def gaussian_likelihood(self, mean, logscale, sample):\n",
        "        scale = torch.exp(logscale)\n",
        "        dist = torch.distributions.Normal(mean, scale)\n",
        "        log_pxz = dist.log_prob(sample)\n",
        "        return log_pxz.sum(dim=(1, 2, 3))\n",
        "\n",
        "    def kl_divergence(self, z, mu, std):\n",
        "        # --------------------------\n",
        "        # Monte carlo KL divergence\n",
        "        # --------------------------\n",
        "        # 1. define the first two probabilities (in this case Normal for both)\n",
        "        p = torch.distributions.Normal(torch.zeros_like(mu), torch.ones_like(std))\n",
        "        q = torch.distributions.Normal(mu, std)\n",
        "\n",
        "        # 2. get the probabilities from the equation\n",
        "        log_qzx = q.log_prob(z)\n",
        "        log_pz = p.log_prob(z)\n",
        "\n",
        "        # kl\n",
        "        kl = (log_qzx - log_pz)\n",
        "        kl = kl.sum(-1)\n",
        "        return kl\n",
        "\n",
        "    def training_step(self, batch, batch_idx):\n",
        "        x, _ = batch\n",
        "\n",
        "        # encode x to get the mu and variance parameters\n",
        "        x_encoded = self.encoder(x)\n",
        "        mu, log_var = self.fc_mu(x_encoded), self.fc_var(x_encoded)\n",
        "\n",
        "        # sample z from q\n",
        "        std = torch.exp(log_var / 2)\n",
        "        q = torch.distributions.Normal(mu, std)\n",
        "        z = q.rsample()\n",
        "\n",
        "        # decoded\n",
        "        x_hat = vae.decoder(z)\n",
        "\n",
        "        # reconstruction loss\n",
        "        recon_loss = self.gaussian_likelihood(x_hat, self.log_scale, x)\n",
        "\n",
        "        # kl\n",
        "        kl = self.kl_divergence(z, mu, std)\n",
        "\n",
        "        # elbo\n",
        "        elbo = (kl - recon_loss)\n",
        "        elbo = elbo.mean()\n",
        "\n",
        "        self.log_dict({\n",
        "            'elbo': elbo,\n",
        "            'kl': kl.mean(),\n",
        "            'recon_loss': recon_loss.mean(),\n",
        "            'reconstruction': recon_loss.mean(),\n",
        "            'kl': kl.mean(),\n",
        "        })\n",
        "\n",
        "        return elbo"
      ],
      "execution_count": 10,
      "outputs": []
    },
    {
      "cell_type": "markdown",
      "metadata": {
        "id": "dfNn23pPG6XU"
      },
      "source": [
        "Let's use CIFAR-10 already split up and transformed.\n",
        "\n",
        "The Lightning Datamodule has 3 dataloaders, train, val, test"
      ]
    },
    {
      "cell_type": "code",
      "metadata": {
        "id": "Eg5bOMsDHGUj"
      },
      "source": [
        "from pl_bolts.datamodules import CIFAR10DataModule\n",
        "\n",
        "datamodule = CIFAR10DataModule('.')"
      ],
      "execution_count": 11,
      "outputs": []
    },
    {
      "cell_type": "markdown",
      "metadata": {
        "id": "6wTKaSheHNYS"
      },
      "source": [
        "Now we train!"
      ]
    },
    {
      "cell_type": "code",
      "metadata": {
        "colab": {
          "base_uri": "https://localhost:8080/",
          "height": 1000,
          "referenced_widgets": [
            "43d166c1f85044f4858f0ff2417bae75",
            "a17578c2ee2b493d86be5bce90bd8862",
            "3f1f72119c4d43748721f5e1dc24805f",
            "92fdd43396924c91b58f7ad1096f1679",
            "db79283e16194dc59860980d3a104d5b",
            "e24e4c6200724649922934cd0a553ca7",
            "33afb8bc9b7f4a74bb296dfd7ca15c16",
            "f1863925e3744cd1a114e2b293b2a852",
            "9c9e2b3e7adb4ff386684ee082712442",
            "f095fff0b75a4dc0bf2bb0ca25d5102d",
            "a3aa3e7d576645b69d1aad68e64bb74a"
          ]
        },
        "id": "MvBo844ZHQhF",
        "outputId": "81419fcb-19c8-4652-dcbd-44e2e33c120e"
      },
      "source": [
        "pl.seed_everything(1234)\n",
        "\n",
        "vae = VAE()\n",
        "trainer = pl.Trainer(gpus=1, max_epochs=30)\n",
        "trainer.fit(vae, datamodule)"
      ],
      "execution_count": 14,
      "outputs": [
        {
          "output_type": "stream",
          "name": "stderr",
          "text": [
            "/usr/local/lib/python3.10/dist-packages/ipykernel/ipkernel.py:283: DeprecationWarning: `should_run_async` will not call `transform_cell` automatically in the future. Please pass the result to `transformed_cell` argument and any exception that happen during thetransform in `preprocessing_exc_tuple` in IPython 7.17 and above.\n",
            "  and should_run_async(code)\n",
            "INFO:lightning_fabric.utilities.seed:Global seed set to 1234\n",
            "<ipython-input-10-e4dffdaf2de5>:16: UnderReviewWarning: The feature resnet18_encoder is currently marked under review. The compatibility with other Lightning projects is not guaranteed and API may change at any time. The API and functionality may change without warning in future releases. More details: https://lightning-bolts.readthedocs.io/en/latest/stability.html\n",
            "  self.encoder = resnet18_encoder(False, False)\n",
            "/usr/local/lib/python3.10/dist-packages/pl_bolts/models/autoencoders/components.py:334: UnderReviewWarning: The feature ResNetEncoder is currently marked under review. The compatibility with other Lightning projects is not guaranteed and API may change at any time. The API and functionality may change without warning in future releases. More details: https://lightning-bolts.readthedocs.io/en/latest/stability.html\n",
            "  return ResNetEncoder(EncoderBlock, [2, 2, 2, 2], first_conv, maxpool1)\n",
            "/usr/local/lib/python3.10/dist-packages/pl_bolts/models/autoencoders/components.py:236: UnderReviewWarning: The feature EncoderBlock is currently marked under review. The compatibility with other Lightning projects is not guaranteed and API may change at any time. The API and functionality may change without warning in future releases. More details: https://lightning-bolts.readthedocs.io/en/latest/stability.html\n",
            "  layers.append(block(self.inplanes, planes, stride, downsample))\n",
            "/usr/local/lib/python3.10/dist-packages/pl_bolts/models/autoencoders/components.py:56: UnderReviewWarning: The feature conv3x3 is currently marked under review. The compatibility with other Lightning projects is not guaranteed and API may change at any time. The API and functionality may change without warning in future releases. More details: https://lightning-bolts.readthedocs.io/en/latest/stability.html\n",
            "  self.conv1 = conv3x3(inplanes, planes, stride)\n",
            "/usr/local/lib/python3.10/dist-packages/pl_bolts/models/autoencoders/components.py:231: UnderReviewWarning: The feature conv1x1 is currently marked under review. The compatibility with other Lightning projects is not guaranteed and API may change at any time. The API and functionality may change without warning in future releases. More details: https://lightning-bolts.readthedocs.io/en/latest/stability.html\n",
            "  conv1x1(self.inplanes, planes * block.expansion, stride),\n",
            "<ipython-input-10-e4dffdaf2de5>:17: UnderReviewWarning: The feature resnet18_decoder is currently marked under review. The compatibility with other Lightning projects is not guaranteed and API may change at any time. The API and functionality may change without warning in future releases. More details: https://lightning-bolts.readthedocs.io/en/latest/stability.html\n",
            "  self.decoder = resnet18_decoder(\n",
            "/usr/local/lib/python3.10/dist-packages/pl_bolts/models/autoencoders/components.py:339: UnderReviewWarning: The feature ResNetDecoder is currently marked under review. The compatibility with other Lightning projects is not guaranteed and API may change at any time. The API and functionality may change without warning in future releases. More details: https://lightning-bolts.readthedocs.io/en/latest/stability.html\n",
            "  return ResNetDecoder(DecoderBlock, [2, 2, 2, 2], latent_dim, input_height, first_conv, maxpool1)\n",
            "/usr/local/lib/python3.10/dist-packages/pl_bolts/models/autoencoders/components.py:301: UnderReviewWarning: The feature resize_conv1x1 is currently marked under review. The compatibility with other Lightning projects is not guaranteed and API may change at any time. The API and functionality may change without warning in future releases. More details: https://lightning-bolts.readthedocs.io/en/latest/stability.html\n",
            "  resize_conv1x1(self.inplanes, planes * block.expansion, scale),\n",
            "/usr/local/lib/python3.10/dist-packages/pl_bolts/models/autoencoders/components.py:45: UnderReviewWarning: The feature Interpolate is currently marked under review. The compatibility with other Lightning projects is not guaranteed and API may change at any time. The API and functionality may change without warning in future releases. More details: https://lightning-bolts.readthedocs.io/en/latest/stability.html\n",
            "  return nn.Sequential(Interpolate(scale_factor=scale), conv1x1(in_planes, out_planes))\n",
            "/usr/local/lib/python3.10/dist-packages/pl_bolts/models/autoencoders/components.py:306: UnderReviewWarning: The feature DecoderBlock is currently marked under review. The compatibility with other Lightning projects is not guaranteed and API may change at any time. The API and functionality may change without warning in future releases. More details: https://lightning-bolts.readthedocs.io/en/latest/stability.html\n",
            "  layers.append(block(self.inplanes, planes, scale, upsample))\n",
            "/usr/local/lib/python3.10/dist-packages/pl_bolts/models/autoencoders/components.py:132: UnderReviewWarning: The feature resize_conv3x3 is currently marked under review. The compatibility with other Lightning projects is not guaranteed and API may change at any time. The API and functionality may change without warning in future releases. More details: https://lightning-bolts.readthedocs.io/en/latest/stability.html\n",
            "  self.conv1 = resize_conv3x3(inplanes, inplanes)\n",
            "/usr/local/lib/python3.10/dist-packages/pytorch_lightning/trainer/connectors/accelerator_connector.py:478: LightningDeprecationWarning: Setting `Trainer(gpus=1)` is deprecated in v1.7 and will be removed in v2.0. Please use `Trainer(accelerator='gpu', devices=1)` instead.\n",
            "  rank_zero_deprecation(\n",
            "INFO:pytorch_lightning.utilities.rank_zero:GPU available: True (cuda), used: True\n",
            "INFO:pytorch_lightning.utilities.rank_zero:TPU available: False, using: 0 TPU cores\n",
            "INFO:pytorch_lightning.utilities.rank_zero:IPU available: False, using: 0 IPUs\n",
            "INFO:pytorch_lightning.utilities.rank_zero:HPU available: False, using: 0 HPUs\n",
            "/usr/local/lib/python3.10/dist-packages/pytorch_lightning/trainer/configuration_validator.py:106: UserWarning: You passed in a `val_dataloader` but have no `validation_step`. Skipping val loop.\n",
            "  rank_zero_warn(\"You passed in a `val_dataloader` but have no `validation_step`. Skipping val loop.\")\n"
          ]
        },
        {
          "output_type": "stream",
          "name": "stdout",
          "text": [
            "Downloading https://www.cs.toronto.edu/~kriz/cifar-10-python.tar.gz to ./cifar-10-python.tar.gz\n"
          ]
        },
        {
          "output_type": "stream",
          "name": "stderr",
          "text": [
            "100%|██████████| 170498071/170498071 [00:02<00:00, 77307207.97it/s]\n"
          ]
        },
        {
          "output_type": "stream",
          "name": "stdout",
          "text": [
            "Extracting ./cifar-10-python.tar.gz to .\n",
            "Files already downloaded and verified\n"
          ]
        },
        {
          "output_type": "stream",
          "name": "stderr",
          "text": [
            "WARNING:pytorch_lightning.loggers.tensorboard:Missing logger folder: /content/lightning_logs\n",
            "INFO:pytorch_lightning.accelerators.cuda:LOCAL_RANK: 0 - CUDA_VISIBLE_DEVICES: [0]\n",
            "INFO:pytorch_lightning.callbacks.model_summary:\n",
            "  | Name    | Type          | Params\n",
            "------------------------------------------\n",
            "0 | encoder | ResNetEncoder | 11.2 M\n",
            "1 | decoder | ResNetDecoder | 8.6 M \n",
            "2 | fc_mu   | Linear        | 131 K \n",
            "3 | fc_var  | Linear        | 131 K \n",
            "------------------------------------------\n",
            "20.1 M    Trainable params\n",
            "0         Non-trainable params\n",
            "20.1 M    Total params\n",
            "80.228    Total estimated model params size (MB)\n",
            "/usr/local/lib/python3.10/dist-packages/torch/utils/tensorboard/__init__.py:4: DeprecationWarning: distutils Version classes are deprecated. Use packaging.version instead.\n",
            "  if not hasattr(tensorboard, \"__version__\") or LooseVersion(\n"
          ]
        },
        {
          "output_type": "display_data",
          "data": {
            "text/plain": [
              "Training: 0it [00:00, ?it/s]"
            ],
            "application/vnd.jupyter.widget-view+json": {
              "version_major": 2,
              "version_minor": 0,
              "model_id": "43d166c1f85044f4858f0ff2417bae75"
            }
          },
          "metadata": {}
        },
        {
          "output_type": "stream",
          "name": "stderr",
          "text": [
            "/usr/local/lib/python3.10/dist-packages/pytorch_lightning/trainer/call.py:48: UserWarning: Detected KeyboardInterrupt, attempting graceful shutdown...\n",
            "  rank_zero_warn(\"Detected KeyboardInterrupt, attempting graceful shutdown...\")\n"
          ]
        }
      ]
    },
    {
      "cell_type": "markdown",
      "metadata": {
        "id": "spIp7mogliDI"
      },
      "source": [
        "## Plot an image"
      ]
    },
    {
      "cell_type": "code",
      "metadata": {
        "colab": {
          "base_uri": "https://localhost:8080/",
          "height": 546
        },
        "id": "pj91rMEcXxco",
        "outputId": "421a5d85-5614-4fc7-9543-7ef89a8f84f8"
      },
      "source": [
        "from matplotlib.pyplot import imshow, figure\n",
        "import numpy as np\n",
        "from torchvision.utils import make_grid\n",
        "from pl_bolts.transforms.dataset_normalizations import cifar10_normalization\n",
        "figure(figsize=(8, 3), dpi=300)\n",
        "\n",
        "# Z COMES FROM NORMAL(0, 1)\n",
        "num_preds = 16\n",
        "p = torch.distributions.Normal(torch.zeros_like(mu), torch.ones_like(std))\n",
        "z = p.rsample((num_preds,))\n",
        "\n",
        "# SAMPLE IMAGES\n",
        "with torch.no_grad():\n",
        "    pred = vae.decoder(z.to(vae.device)).cpu()\n",
        "\n",
        "# UNDO DATA NORMALIZATION\n",
        "normalize = cifar10_normalization()\n",
        "mean, std = np.array(normalize.mean), np.array(normalize.std)\n",
        "img = make_grid(pred).permute(1, 2, 0).numpy() * std + mean\n",
        "\n",
        "# PLOT IMAGES\n",
        "imshow(img);"
      ],
      "execution_count": 15,
      "outputs": [
        {
          "output_type": "display_data",
          "data": {
            "text/plain": [
              "<Figure size 2400x900 with 1 Axes>"
            ],
            "image/png": "[encoded data removed]"
          },
          "metadata": {}
        }
      ]
    }
  ]
}