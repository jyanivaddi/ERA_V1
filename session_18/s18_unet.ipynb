{
  "cells": [
    {
      "cell_type": "markdown",
      "metadata": {
        "id": "view-in-github",
        "colab_type": "text"
      },
      "source": [
        "<a href=\"https://colab.research.google.com/github/jyanivaddi/ERA_V1/blob/master/session_18/s18_unet.ipynb\" target=\"_parent\"><img src=\"https://colab.research.google.com/assets/colab-badge.svg\" alt=\"Open In Colab\"/></a>"
      ]
    },
    {
      "cell_type": "markdown",
      "metadata": {
        "id": "xMv-YR2zikee"
      },
      "source": [
        "Download our code repository and install python dependencies"
      ]
    },
    {
      "cell_type": "code",
      "execution_count": 1,
      "metadata": {
        "colab": {
          "base_uri": "https://localhost:8080/"
        },
        "id": "a8J1MOmbqmgC",
        "outputId": "dc7031dd-0673-45da-f883-96b82436baaf"
      },
      "outputs": [
        {
          "output_type": "stream",
          "name": "stdout",
          "text": [
            "Cloning into 'ERA_V1'...\n",
            "remote: Enumerating objects: 1517, done.\u001b[K\n",
            "remote: Counting objects: 100% (110/110), done.\u001b[K\n",
            "remote: Compressing objects: 100% (105/105), done.\u001b[K\n",
            "remote: Total 1517 (delta 44), reused 32 (delta 5), pack-reused 1407\u001b[K\n",
            "Receiving objects: 100% (1517/1517), 202.01 MiB | 34.83 MiB/s, done.\n",
            "Resolving deltas: 100% (736/736), done.\n",
            "Updating files: 100% (170/170), done.\n",
            "fatal: not a git repository (or any of the parent directories): .git\n",
            "Collecting torchinfo\n",
            "  Downloading torchinfo-1.8.0-py3-none-any.whl (23 kB)\n",
            "Installing collected packages: torchinfo\n",
            "Successfully installed torchinfo-1.8.0\n"
          ]
        }
      ],
      "source": [
        "!git clone \"https://github.com/jyanivaddi/ERA_V1.git\"\n",
        "!git pull\n",
        "!pip install torchinfo\n"
      ]
    },
    {
      "cell_type": "code",
      "source": [
        "import sys\n",
        "sys.path.append(\"ERA_V1/session_18\")\n"
      ],
      "metadata": {
        "id": "jBbACfNkwYD9"
      },
      "execution_count": 2,
      "outputs": []
    },
    {
      "cell_type": "markdown",
      "metadata": {
        "id": "lW3WHIzUqmgF"
      },
      "source": [
        "Add all the imports:"
      ]
    },
    {
      "cell_type": "code",
      "execution_count": 3,
      "metadata": {
        "id": "zQ5ZSVQJqmgI"
      },
      "outputs": [],
      "source": [
        "from __future__ import print_function\n",
        "import sys\n",
        "import torch\n",
        "import torch.nn as nn\n",
        "import torch.nn.functional as F\n",
        "import torch.optim as optim\n",
        "from torchsummary import summary\n",
        "from torchvision import transforms\n",
        "import albumentations as A\n",
        "import albumentations.augmentations as AA\n",
        "from albumentations.pytorch import ToTensorV2\n",
        "from unet_model import UNet\n",
        "from data_loader import load_oxford_pet_data"
      ]
    },
    {
      "cell_type": "markdown",
      "metadata": {
        "id": "n4AHY0CsqmgL"
      },
      "source": [
        "Allocate GPU and print model summary"
      ]
    },
    {
      "cell_type": "code",
      "source": [
        "import torch\n",
        "import torch.nn as nn\n",
        "\n",
        "\n",
        "class ContractingBlock(nn.Module):\n",
        "    def __init__(self, in_channels, out_channels):\n",
        "        super(ContractingBlock, self).__init__()\n",
        "\n",
        "        self.conv1 = nn.Conv2d(in_channels, out_channels, kernel_size=3, padding=1)\n",
        "        self.bn1 = nn.BatchNorm2d(out_channels)\n",
        "        self.relu1 = nn.ReLU(inplace=True)\n",
        "\n",
        "        self.conv2 = nn.Conv2d(out_channels, out_channels, kernel_size=3, padding=1)\n",
        "        self.bn2 = nn.BatchNorm2d(out_channels)\n",
        "        self.relu2 = nn.ReLU(inplace=True)\n",
        "\n",
        "        self.maxpool = nn.MaxPool2d(kernel_size=2, stride=2)\n",
        "\n",
        "    def forward(self, x):\n",
        "        x = self.conv1(x)\n",
        "        x = self.bn1(x)\n",
        "        x = self.relu1(x)\n",
        "\n",
        "        x = self.conv2(x)\n",
        "        x = self.bn2(x)\n",
        "        x = self.relu2(x)\n",
        "\n",
        "        skip = x  # store the output for the skip connection\n",
        "        x = self.maxpool(x)\n",
        "        return x, skip\n",
        "\n",
        "\n",
        "class ExpandingBlock(nn.Module):\n",
        "    def __init__(self, in_channels, out_channels):\n",
        "        super(ExpandingBlock, self).__init__()\n",
        "\n",
        "        self.conv1 = nn.Conv2d(in_channels, out_channels, kernel_size=3, padding=1)\n",
        "        self.bn1 = nn.BatchNorm2d(out_channels)\n",
        "        self.relu1 = nn.ReLU(inplace=True)\n",
        "\n",
        "        self.conv2 = nn.Conv2d(out_channels, out_channels, kernel_size=3, padding=1)\n",
        "        self.bn2 = nn.BatchNorm2d(out_channels)\n",
        "        self.relu2 = nn.ReLU(inplace=True)\n",
        "\n",
        "        self.upsample = nn.ConvTranspose2d(out_channels, out_channels // 2, kernel_size=2, stride=2)\n",
        "\n",
        "    def forward(self, x, skip):\n",
        "        #print(\"x: \", x.shape)\n",
        "        #print(\"skip: \", skip.shape)\n",
        "        x = self.conv1(x)\n",
        "        x = self.bn1(x)\n",
        "        x = self.relu1(x)\n",
        "\n",
        "        x = self.conv2(x)\n",
        "        x = self.bn2(x)\n",
        "        x = self.relu2(x)\n",
        "\n",
        "        x = self.upsample(x)\n",
        "\n",
        "        # concatenate the skip connection\n",
        "        x = torch.cat((x, skip), dim=1)\n",
        "\n",
        "        return x\n",
        "\n",
        "\n",
        "class UNet(nn.Module):\n",
        "    def __init__(self, in_channels, out_channels):\n",
        "        super(UNet, self).__init__()\n",
        "\n",
        "        self.contract1 = ContractingBlock(in_channels, 64)\n",
        "        self.contract2 = ContractingBlock(64, 128)\n",
        "        self.contract3 = ContractingBlock(128, 256)\n",
        "        self.contract4 = ContractingBlock(256, 512)\n",
        "        self.bottle_neck = nn.Conv2d(512, 1024, kernel_size=3, padding=1)\n",
        "\n",
        "        self.upsample = nn.ConvTranspose2d(1024, 512, kernel_size=2, stride=2)\n",
        "        self.expand1 = ExpandingBlock(1024, 512)\n",
        "        self.expand2 = ExpandingBlock(512, 256)\n",
        "        self.expand3 = ExpandingBlock(256, 128)\n",
        "\n",
        "        self.final_dim_reduction = nn.Sequential(*[nn.Conv2d(128, 64, kernel_size=3, padding=1),\n",
        "                                          nn.ReLU(inplace=True),\n",
        "                                          nn.Conv2d(64, 64, kernel_size=3, padding=1),\n",
        "                                          nn.ReLU(inplace=True)])\n",
        "                                          #nn.Conv2d(64,2, kernel_size=3, padding=1),\n",
        "                                          #nn.ReLU(inplace=True)])\n",
        "        self.final_block = nn.Conv2d(64, out_channels, kernel_size=1)\n",
        "\n",
        "\n",
        "\n",
        "    def forward(self, x):\n",
        "        # Contracting path\n",
        "        x, skip1 = self.contract1(x)\n",
        "        #print(\"first contract block:\", x.shape, skip1.shape)\n",
        "        x, skip2 = self.contract2(x)\n",
        "        #print(\"second contract block:\", x.shape, skip2.shape)\n",
        "        x, skip3 = self.contract3(x)\n",
        "        #print(\"third contract block:\", x.shape, skip3.shape)\n",
        "        x, skip4 = self.contract4(x)\n",
        "        #print(\"fourth contract block:\", x.shape, skip4.shape)\n",
        "        x = self.bottle_neck(x)\n",
        "        #print(\"bottle neck:\", x.shape)\n",
        "        x = self.upsample(x)\n",
        "        #print(\"upsample:\", x.shape)\n",
        "        x = torch.cat((x, skip4), dim=1)\n",
        "        #print(\"cat:\", x.shape)\n",
        "\n",
        "        # Expanding path\n",
        "        #print(\"-------------\")\n",
        "        #print(\"starting expand block:\", x.shape)\n",
        "        x3 = self.expand1(x, skip3)\n",
        "        #print(\"after first expand block:\", x3.shape)\n",
        "        x2 = self.expand2(x3, skip2)\n",
        "        #print(\"after second expand block:\", x2.shape)\n",
        "        x1 = self.expand3(x2, skip1)\n",
        "        #print(\"after third expand block:\", x1.shape)\n",
        "        #x1 = self.expand4(x2, skip1)\n",
        "\n",
        "        x  = self.final_dim_reduction(x1)\n",
        "        #print(\"after final dim reduction:\", x.shape)\n",
        "        x_out = self.final_block(x)\n",
        "        #print(\"after 1 x 1:\", x_out.shape)\n",
        "        return x_out\n"
      ],
      "metadata": {
        "id": "Da-JzFXz9gz5"
      },
      "execution_count": 9,
      "outputs": []
    },
    {
      "cell_type": "code",
      "source": [
        "def model_summary(model, input_size):\n",
        "    summary(model, input_size = input_size)"
      ],
      "metadata": {
        "id": "hzhSfiUE6D4V"
      },
      "execution_count": 10,
      "outputs": []
    },
    {
      "cell_type": "code",
      "execution_count": 11,
      "metadata": {
        "id": "3xmgYQudqmgM",
        "outputId": "a782a9ac-64af-465f-e15e-384855227741",
        "colab": {
          "base_uri": "https://localhost:8080/"
        }
      },
      "outputs": [
        {
          "output_type": "stream",
          "name": "stdout",
          "text": [
            "----------------------------------------------------------------\n",
            "        Layer (type)               Output Shape         Param #\n",
            "================================================================\n",
            "            Conv2d-1           [-1, 64, 48, 48]           1,792\n",
            "       BatchNorm2d-2           [-1, 64, 48, 48]             128\n",
            "              ReLU-3           [-1, 64, 48, 48]               0\n",
            "            Conv2d-4           [-1, 64, 48, 48]          36,928\n",
            "       BatchNorm2d-5           [-1, 64, 48, 48]             128\n",
            "              ReLU-6           [-1, 64, 48, 48]               0\n",
            "         MaxPool2d-7           [-1, 64, 24, 24]               0\n",
            "  ContractingBlock-8  [[-1, 64, 24, 24], [-1, 64, 48, 48]]               0\n",
            "            Conv2d-9          [-1, 128, 24, 24]          73,856\n",
            "      BatchNorm2d-10          [-1, 128, 24, 24]             256\n",
            "             ReLU-11          [-1, 128, 24, 24]               0\n",
            "           Conv2d-12          [-1, 128, 24, 24]         147,584\n",
            "      BatchNorm2d-13          [-1, 128, 24, 24]             256\n",
            "             ReLU-14          [-1, 128, 24, 24]               0\n",
            "        MaxPool2d-15          [-1, 128, 12, 12]               0\n",
            " ContractingBlock-16  [[-1, 128, 12, 12], [-1, 128, 24, 24]]               0\n",
            "           Conv2d-17          [-1, 256, 12, 12]         295,168\n",
            "      BatchNorm2d-18          [-1, 256, 12, 12]             512\n",
            "             ReLU-19          [-1, 256, 12, 12]               0\n",
            "           Conv2d-20          [-1, 256, 12, 12]         590,080\n",
            "      BatchNorm2d-21          [-1, 256, 12, 12]             512\n",
            "             ReLU-22          [-1, 256, 12, 12]               0\n",
            "        MaxPool2d-23            [-1, 256, 6, 6]               0\n",
            " ContractingBlock-24  [[-1, 256, 6, 6], [-1, 256, 12, 12]]               0\n",
            "           Conv2d-25            [-1, 512, 6, 6]       1,180,160\n",
            "      BatchNorm2d-26            [-1, 512, 6, 6]           1,024\n",
            "             ReLU-27            [-1, 512, 6, 6]               0\n",
            "           Conv2d-28            [-1, 512, 6, 6]       2,359,808\n",
            "      BatchNorm2d-29            [-1, 512, 6, 6]           1,024\n",
            "             ReLU-30            [-1, 512, 6, 6]               0\n",
            "        MaxPool2d-31            [-1, 512, 3, 3]               0\n",
            " ContractingBlock-32  [[-1, 512, 3, 3], [-1, 512, 6, 6]]               0\n",
            "           Conv2d-33           [-1, 1024, 3, 3]       4,719,616\n",
            "  ConvTranspose2d-34            [-1, 512, 6, 6]       2,097,664\n",
            "           Conv2d-35            [-1, 512, 6, 6]       4,719,104\n",
            "      BatchNorm2d-36            [-1, 512, 6, 6]           1,024\n",
            "             ReLU-37            [-1, 512, 6, 6]               0\n",
            "           Conv2d-38            [-1, 512, 6, 6]       2,359,808\n",
            "      BatchNorm2d-39            [-1, 512, 6, 6]           1,024\n",
            "             ReLU-40            [-1, 512, 6, 6]               0\n",
            "  ConvTranspose2d-41          [-1, 256, 12, 12]         524,544\n",
            "   ExpandingBlock-42          [-1, 512, 12, 12]               0\n",
            "           Conv2d-43          [-1, 256, 12, 12]       1,179,904\n",
            "      BatchNorm2d-44          [-1, 256, 12, 12]             512\n",
            "             ReLU-45          [-1, 256, 12, 12]               0\n",
            "           Conv2d-46          [-1, 256, 12, 12]         590,080\n",
            "      BatchNorm2d-47          [-1, 256, 12, 12]             512\n",
            "             ReLU-48          [-1, 256, 12, 12]               0\n",
            "  ConvTranspose2d-49          [-1, 128, 24, 24]         131,200\n",
            "   ExpandingBlock-50          [-1, 256, 24, 24]               0\n",
            "           Conv2d-51          [-1, 128, 24, 24]         295,040\n",
            "      BatchNorm2d-52          [-1, 128, 24, 24]             256\n",
            "             ReLU-53          [-1, 128, 24, 24]               0\n",
            "           Conv2d-54          [-1, 128, 24, 24]         147,584\n",
            "      BatchNorm2d-55          [-1, 128, 24, 24]             256\n",
            "             ReLU-56          [-1, 128, 24, 24]               0\n",
            "  ConvTranspose2d-57           [-1, 64, 48, 48]          32,832\n",
            "   ExpandingBlock-58          [-1, 128, 48, 48]               0\n",
            "           Conv2d-59           [-1, 64, 48, 48]          73,792\n",
            "             ReLU-60           [-1, 64, 48, 48]               0\n",
            "           Conv2d-61           [-1, 64, 48, 48]          36,928\n",
            "             ReLU-62           [-1, 64, 48, 48]               0\n",
            "           Conv2d-63            [-1, 3, 48, 48]             195\n",
            "================================================================\n",
            "Total params: 21,601,091\n",
            "Trainable params: 21,601,091\n",
            "Non-trainable params: 0\n",
            "----------------------------------------------------------------\n",
            "Input size (MB): 0.03\n",
            "Forward/backward pass size (MB): 55050.24\n",
            "Params size (MB): 82.40\n",
            "Estimated Total Size (MB): 55132.67\n",
            "----------------------------------------------------------------\n"
          ]
        }
      ],
      "source": [
        "use_cuda = torch.cuda.is_available()\n",
        "device = torch.device(\"cuda\" if use_cuda else \"cpu\")\n",
        "#print(device)\n",
        "unet_model = UNet(in_channels=3,out_channels=3).to(device)\n",
        "model_summary(unet_model, input_size=(3,48,48))\n",
        "\n"
      ]
    },
    {
      "cell_type": "code",
      "execution_count": 12,
      "metadata": {
        "id": "pI6EVt-jmGp6"
      },
      "outputs": [],
      "source": [
        "import numpy as np\n",
        "from typing import Any\n",
        "from torchvision import datasets, transforms\n",
        "import albumentations as A\n",
        "import albumentations.augmentations as AA\n",
        "from albumentations.pytorch import ToTensorV2\n",
        "from torch.utils.data import Dataset, DataLoader\n",
        "\n",
        "def oxford_transforms(image, mask):\n",
        "    # Resize\n",
        "    resize = transforms.Resize(size=(48, 48))\n",
        "    image = resize(image)\n",
        "    mask = resize(mask)\n",
        "\n",
        "    # Transform to tensor\n",
        "    to_tensor = transforms.ToTensor()\n",
        "    image = to_tensor(image)\n",
        "    mask_channels = []\n",
        "    mask = np.asarray(mask)\n",
        "    for class_id in range(1,4):\n",
        "        mask_channels.append(mask == class_id)\n",
        "    mask_tensor = torch.tensor(mask_channels, dtype=float)\n",
        "    return image, mask_tensor\n",
        "\n",
        "class OxfordPetDataset(Dataset):\n",
        "\n",
        "    def __init__(self, dataset, transforms=None):\n",
        "        self.transforms = transforms\n",
        "        self.dataset = dataset\n",
        "\n",
        "\n",
        "    def __len__(self) -> int:\n",
        "        return len(self.dataset)\n",
        "\n",
        "\n",
        "    def __getitem__(self, index) -> Any:\n",
        "        image, label = self.dataset[index]\n",
        "        image = np.array(image)\n",
        "        if self.transforms is not None:\n",
        "            image = self.transforms(image)\n",
        "        return (image, label)\n",
        "\n",
        "\n",
        "def load_oxford_pet_data(train_transforms, test_transforms, batch_size, **kwargs):\n",
        "    train_data = datasets.OxfordIIITPet('../data', split='trainval', transforms = train_transforms, target_transform = None, target_types='segmentation', download=True)\n",
        "    test_data = datasets.OxfordIIITPet('../data', split='test', transforms = test_transforms, target_transform = None, target_types='segmentation', download=True)\n",
        "\n",
        "    train_loader = DataLoader(train_data,\n",
        "                              batch_size=batch_size,\n",
        "                              shuffle=True,\n",
        "                              **kwargs)\n",
        "    test_loader = DataLoader(test_data,\n",
        "                             batch_size=batch_size,\n",
        "                             shuffle=True,\n",
        "                             **kwargs)\n",
        "    return train_loader, test_loader\n",
        "\n",
        "\n"
      ]
    },
    {
      "cell_type": "markdown",
      "metadata": {
        "id": "D6f-Ko64qmgU"
      },
      "source": [
        "Define batch size, train and test loaders"
      ]
    },
    {
      "cell_type": "code",
      "execution_count": 13,
      "metadata": {
        "id": "Z8mQv0iUqmgV",
        "outputId": "e5baad7b-b205-4081-bbec-9d800c5c4304",
        "colab": {
          "base_uri": "https://localhost:8080/"
        }
      },
      "outputs": [
        {
          "output_type": "stream",
          "name": "stdout",
          "text": [
            "Downloading https://thor.robots.ox.ac.uk/datasets/pets/images.tar.gz to ../data/oxford-iiit-pet/images.tar.gz\n"
          ]
        },
        {
          "output_type": "stream",
          "name": "stderr",
          "text": [
            "100%|██████████| 791918971/791918971 [00:22<00:00, 35136470.17it/s]\n"
          ]
        },
        {
          "output_type": "stream",
          "name": "stdout",
          "text": [
            "Extracting ../data/oxford-iiit-pet/images.tar.gz to ../data/oxford-iiit-pet\n",
            "Downloading https://thor.robots.ox.ac.uk/datasets/pets/annotations.tar.gz to ../data/oxford-iiit-pet/annotations.tar.gz\n"
          ]
        },
        {
          "output_type": "stream",
          "name": "stderr",
          "text": [
            "100%|██████████| 19173078/19173078 [00:01<00:00, 16158720.38it/s]\n"
          ]
        },
        {
          "output_type": "stream",
          "name": "stdout",
          "text": [
            "Extracting ../data/oxford-iiit-pet/annotations.tar.gz to ../data/oxford-iiit-pet\n"
          ]
        }
      ],
      "source": [
        "torch.manual_seed(1)\n",
        "batch_size = 32\n",
        "kwargs = {'num_workers': 2, 'pin_memory': True} if use_cuda else {}\n",
        "train_loader, test_loader = load_oxford_pet_data(train_transforms=oxford_transforms, test_transforms=oxford_transforms, batch_size=batch_size, **kwargs)"
      ]
    },
    {
      "cell_type": "code",
      "source": [
        "a,b = next(iter(train_loader))\n",
        "print(a.shape)\n",
        "print(b.shape)"
      ],
      "metadata": {
        "id": "XVlZ9lf1yL8w",
        "outputId": "324a5373-a716-4a32-cd69-8349dfa10bc1",
        "colab": {
          "base_uri": "https://localhost:8080/"
        }
      },
      "execution_count": 14,
      "outputs": [
        {
          "output_type": "stream",
          "name": "stderr",
          "text": [
            "<ipython-input-12-3bec9b1e432f>:22: UserWarning: Creating a tensor from a list of numpy.ndarrays is extremely slow. Please consider converting the list to a single numpy.ndarray with numpy.array() before converting to a tensor. (Triggered internally at ../torch/csrc/utils/tensor_new.cpp:245.)\n",
            "  mask_tensor = torch.tensor(mask_channels, dtype=float)\n",
            "<ipython-input-12-3bec9b1e432f>:22: UserWarning: Creating a tensor from a list of numpy.ndarrays is extremely slow. Please consider converting the list to a single numpy.ndarray with numpy.array() before converting to a tensor. (Triggered internally at ../torch/csrc/utils/tensor_new.cpp:245.)\n",
            "  mask_tensor = torch.tensor(mask_channels, dtype=float)\n"
          ]
        },
        {
          "output_type": "stream",
          "name": "stdout",
          "text": [
            "torch.Size([32, 3, 48, 48])\n",
            "torch.Size([32, 3, 48, 48])\n"
          ]
        }
      ]
    },
    {
      "cell_type": "code",
      "source": [
        "idx=9\n",
        "c = np.asarray(b[idx]).transpose()\n",
        "a1 = np.asarray(a[idx]).squeeze().transpose()\n",
        "import matplotlib.pyplot as plt\n",
        "plt.imshow(c[:,:,2].squeeze())\n",
        "plt.colorbar()\n",
        "plt.show()\n",
        "plt.figure()\n",
        "\n",
        "print(a1.shape)\n",
        "plt.imshow(a1)\n",
        "plt.show()"
      ],
      "metadata": {
        "id": "Gd6m-KrW4i2I",
        "outputId": "749d36ae-8220-4f9f-8523-cf74583cbc8b",
        "colab": {
          "base_uri": "https://localhost:8080/",
          "height": 867
        }
      },
      "execution_count": 15,
      "outputs": [
        {
          "output_type": "display_data",
          "data": {
            "text/plain": [
              "<Figure size 640x480 with 2 Axes>"
            ],
            "image/png": "[encoded data removed]"
          },
          "metadata": {}
        },
        {
          "output_type": "stream",
          "name": "stdout",
          "text": [
            "(48, 48, 3)\n"
          ]
        },
        {
          "output_type": "display_data",
          "data": {
            "text/plain": [
              "<Figure size 640x480 with 1 Axes>"
            ],
            "image/png": "[encoded data removed]"
          },
          "metadata": {}
        }
      ]
    },
    {
      "cell_type": "markdown",
      "metadata": {
        "id": "FCSVRbYZmmOG"
      },
      "source": [
        "Train model using Batch Normalization"
      ]
    },
    {
      "cell_type": "code",
      "source": [
        "from tqdm import tqdm\n",
        "\n",
        "def model_train(model, device, train_loader, optimizer, criterion, train_acc, train_losses):\n",
        "    model.train()\n",
        "    pbar = tqdm(train_loader)\n",
        "    train_loss = 0\n",
        "    correct = 0\n",
        "    processed = 0\n",
        "    for batch_idx, (data, target) in enumerate(pbar):\n",
        "        data, target = data.to(device), target.to(device)\n",
        "        optimizer.zero_grad()\n",
        "        output = model(data)\n",
        "        loss = criterion(output, target)\n",
        "        print(loss)\n",
        "        train_loss+=loss.item()\n",
        "        loss.backward()\n",
        "        optimizer.step()\n",
        "        correct+= output.eq(target).sum().item()\n",
        "        processed+= len(data)\n",
        "        pbar.set_description(desc= f'loss={loss.item()} batch_id={batch_idx}')\n",
        "\n",
        "    train_acc.append(100*correct/processed)\n",
        "    train_losses.append(train_loss/len(train_loader))\n",
        "    return  loss.item()\n"
      ],
      "metadata": {
        "id": "cB49PmvsdebC"
      },
      "execution_count": 16,
      "outputs": []
    },
    {
      "cell_type": "markdown",
      "source": [
        "DICE Loss"
      ],
      "metadata": {
        "id": "2ABLc5XZgZST"
      }
    },
    {
      "cell_type": "code",
      "source": [
        "def dice_loss(pred, target):\n",
        "    smooth = 1e-5\n",
        "\n",
        "    # flatten predictions and targets\n",
        "    pred = pred.view(-1)\n",
        "    target = target.view(-1)\n",
        "\n",
        "    intersection = (pred * target).sum()\n",
        "    union = pred.sum() + target.sum()\n",
        "\n",
        "    dice = (2. * intersection + smooth) / (union + smooth)\n",
        "\n",
        "    return 1 - dice"
      ],
      "metadata": {
        "id": "tjz5JOv4gXJh"
      },
      "execution_count": null,
      "outputs": []
    },
    {
      "cell_type": "code",
      "execution_count": 17,
      "metadata": {
        "id": "ysHqVyhGZJ27"
      },
      "outputs": [],
      "source": [
        "num_epochs=24\n",
        "unet_model = UNet(in_channels=3,out_channels=1).to(device)\n",
        "#criterion = nn.CrossEntropyLoss()#dice_loss #nn.BCELoss()\n",
        "criterion = nn.CrossEntropyLoss()\n",
        "optimizer = torch.optim.Adam(unet_model.parameters())\n"
      ]
    },
    {
      "cell_type": "code",
      "execution_count": null,
      "metadata": {
        "id": "I8RlOADSBX4y",
        "colab": {
          "base_uri": "https://localhost:8080/",
          "height": 501
        },
        "outputId": "33bb7952-83d8-41dc-b47c-bf398c16831c"
      },
      "outputs": [
        {
          "output_type": "stream",
          "name": "stdout",
          "text": [
            "epoch: 1\n"
          ]
        },
        {
          "output_type": "stream",
          "name": "stderr",
          "text": [
            "\r  0%|          | 0/115 [00:00<?, ?it/s]"
          ]
        },
        {
          "output_type": "stream",
          "name": "stdout",
          "text": [
            "tensor(0.6789, grad_fn=<BinaryCrossEntropyBackward0>)\n"
          ]
        },
        {
          "output_type": "stream",
          "name": "stderr",
          "text": [
            "loss=0.678919792175293 batch_id=0:   1%|          | 1/115 [00:10<20:25, 10.75s/it]"
          ]
        },
        {
          "output_type": "stream",
          "name": "stdout",
          "text": [
            "tensor(0.6437, grad_fn=<BinaryCrossEntropyBackward0>)\n"
          ]
        },
        {
          "output_type": "stream",
          "name": "stderr",
          "text": [
            "loss=0.6436704397201538 batch_id=1:   2%|▏         | 2/115 [00:16<14:13,  7.55s/it]"
          ]
        },
        {
          "output_type": "stream",
          "name": "stdout",
          "text": [
            "tensor(0.4801, grad_fn=<BinaryCrossEntropyBackward0>)\n"
          ]
        },
        {
          "output_type": "stream",
          "name": "stderr",
          "text": [
            "loss=0.4801211953163147 batch_id=2:   3%|▎         | 3/115 [00:24<15:10,  8.13s/it]\n"
          ]
        },
        {
          "output_type": "error",
          "ename": "RuntimeError",
          "evalue": "ignored",
          "traceback": [
            "\u001b[0;31m---------------------------------------------------------------------------\u001b[0m",
            "\u001b[0;31mRuntimeError\u001b[0m                              Traceback (most recent call last)",
            "\u001b[0;32m<ipython-input-15-712fc622cb78>\u001b[0m in \u001b[0;36m<cell line: 7>\u001b[0;34m()\u001b[0m\n\u001b[1;32m      7\u001b[0m \u001b[0;32mfor\u001b[0m \u001b[0mepoch\u001b[0m \u001b[0;32min\u001b[0m \u001b[0mrange\u001b[0m\u001b[0;34m(\u001b[0m\u001b[0;36m1\u001b[0m\u001b[0;34m,\u001b[0m\u001b[0mnum_epochs\u001b[0m\u001b[0;34m+\u001b[0m\u001b[0;36m1\u001b[0m\u001b[0;34m)\u001b[0m\u001b[0;34m:\u001b[0m\u001b[0;34m\u001b[0m\u001b[0;34m\u001b[0m\u001b[0m\n\u001b[1;32m      8\u001b[0m     \u001b[0mprint\u001b[0m\u001b[0;34m(\u001b[0m\u001b[0;34mf\"epoch: {epoch}\"\u001b[0m\u001b[0;34m)\u001b[0m\u001b[0;34m\u001b[0m\u001b[0;34m\u001b[0m\u001b[0m\n\u001b[0;32m----> 9\u001b[0;31m     \u001b[0mthis_train_loss\u001b[0m \u001b[0;34m=\u001b[0m \u001b[0mmodel_train\u001b[0m\u001b[0;34m(\u001b[0m\u001b[0munet_model\u001b[0m\u001b[0;34m,\u001b[0m \u001b[0mdevice\u001b[0m\u001b[0;34m,\u001b[0m \u001b[0mtrain_loader\u001b[0m\u001b[0;34m,\u001b[0m \u001b[0moptimizer\u001b[0m\u001b[0;34m,\u001b[0m \u001b[0mcriterion\u001b[0m\u001b[0;34m,\u001b[0m \u001b[0mtrain_acc\u001b[0m\u001b[0;34m,\u001b[0m \u001b[0mtrain_losses\u001b[0m\u001b[0;34m)\u001b[0m\u001b[0;34m\u001b[0m\u001b[0;34m\u001b[0m\u001b[0m\n\u001b[0m\u001b[1;32m     10\u001b[0m     \u001b[0;31m#this_loss = model_test(resnet_model, device, test_loader, criterion, test_acc, test_losses)\u001b[0m\u001b[0;34m\u001b[0m\u001b[0;34m\u001b[0m\u001b[0m\n\u001b[1;32m     11\u001b[0m     \u001b[0;31m#optim_obj.scheduler.step()\u001b[0m\u001b[0;34m\u001b[0m\u001b[0;34m\u001b[0m\u001b[0m\n",
            "\u001b[0;32m<ipython-input-13-559ce451fffd>\u001b[0m in \u001b[0;36mmodel_train\u001b[0;34m(model, device, train_loader, optimizer, criterion, train_acc, train_losses)\u001b[0m\n\u001b[1;32m     11\u001b[0m         \u001b[0moptimizer\u001b[0m\u001b[0;34m.\u001b[0m\u001b[0mzero_grad\u001b[0m\u001b[0;34m(\u001b[0m\u001b[0;34m)\u001b[0m\u001b[0;34m\u001b[0m\u001b[0;34m\u001b[0m\u001b[0m\n\u001b[1;32m     12\u001b[0m         \u001b[0moutput\u001b[0m \u001b[0;34m=\u001b[0m \u001b[0mmodel\u001b[0m\u001b[0;34m(\u001b[0m\u001b[0mdata\u001b[0m\u001b[0;34m)\u001b[0m\u001b[0;34m\u001b[0m\u001b[0;34m\u001b[0m\u001b[0m\n\u001b[0;32m---> 13\u001b[0;31m         \u001b[0mloss\u001b[0m \u001b[0;34m=\u001b[0m \u001b[0mcriterion\u001b[0m\u001b[0;34m(\u001b[0m\u001b[0moutput\u001b[0m\u001b[0;34m,\u001b[0m \u001b[0mtarget\u001b[0m\u001b[0;34m)\u001b[0m\u001b[0;34m\u001b[0m\u001b[0;34m\u001b[0m\u001b[0m\n\u001b[0m\u001b[1;32m     14\u001b[0m         \u001b[0mprint\u001b[0m\u001b[0;34m(\u001b[0m\u001b[0mloss\u001b[0m\u001b[0;34m)\u001b[0m\u001b[0;34m\u001b[0m\u001b[0;34m\u001b[0m\u001b[0m\n\u001b[1;32m     15\u001b[0m         \u001b[0mtrain_loss\u001b[0m\u001b[0;34m+=\u001b[0m\u001b[0mloss\u001b[0m\u001b[0;34m.\u001b[0m\u001b[0mitem\u001b[0m\u001b[0;34m(\u001b[0m\u001b[0;34m)\u001b[0m\u001b[0;34m\u001b[0m\u001b[0;34m\u001b[0m\u001b[0m\n",
            "\u001b[0;32m/usr/local/lib/python3.10/dist-packages/torch/nn/modules/module.py\u001b[0m in \u001b[0;36m_call_impl\u001b[0;34m(self, *args, **kwargs)\u001b[0m\n\u001b[1;32m   1499\u001b[0m                 \u001b[0;32mor\u001b[0m \u001b[0m_global_backward_pre_hooks\u001b[0m \u001b[0;32mor\u001b[0m \u001b[0m_global_backward_hooks\u001b[0m\u001b[0;34m\u001b[0m\u001b[0;34m\u001b[0m\u001b[0m\n\u001b[1;32m   1500\u001b[0m                 or _global_forward_hooks or _global_forward_pre_hooks):\n\u001b[0;32m-> 1501\u001b[0;31m             \u001b[0;32mreturn\u001b[0m \u001b[0mforward_call\u001b[0m\u001b[0;34m(\u001b[0m\u001b[0;34m*\u001b[0m\u001b[0margs\u001b[0m\u001b[0;34m,\u001b[0m \u001b[0;34m**\u001b[0m\u001b[0mkwargs\u001b[0m\u001b[0;34m)\u001b[0m\u001b[0;34m\u001b[0m\u001b[0;34m\u001b[0m\u001b[0m\n\u001b[0m\u001b[1;32m   1502\u001b[0m         \u001b[0;31m# Do not call functions when jit is used\u001b[0m\u001b[0;34m\u001b[0m\u001b[0;34m\u001b[0m\u001b[0m\n\u001b[1;32m   1503\u001b[0m         \u001b[0mfull_backward_hooks\u001b[0m\u001b[0;34m,\u001b[0m \u001b[0mnon_full_backward_hooks\u001b[0m \u001b[0;34m=\u001b[0m \u001b[0;34m[\u001b[0m\u001b[0;34m]\u001b[0m\u001b[0;34m,\u001b[0m \u001b[0;34m[\u001b[0m\u001b[0;34m]\u001b[0m\u001b[0;34m\u001b[0m\u001b[0;34m\u001b[0m\u001b[0m\n",
            "\u001b[0;32m/usr/local/lib/python3.10/dist-packages/torch/nn/modules/loss.py\u001b[0m in \u001b[0;36mforward\u001b[0;34m(self, input, target)\u001b[0m\n\u001b[1;32m    617\u001b[0m \u001b[0;34m\u001b[0m\u001b[0m\n\u001b[1;32m    618\u001b[0m     \u001b[0;32mdef\u001b[0m \u001b[0mforward\u001b[0m\u001b[0;34m(\u001b[0m\u001b[0mself\u001b[0m\u001b[0;34m,\u001b[0m \u001b[0minput\u001b[0m\u001b[0;34m:\u001b[0m \u001b[0mTensor\u001b[0m\u001b[0;34m,\u001b[0m \u001b[0mtarget\u001b[0m\u001b[0;34m:\u001b[0m \u001b[0mTensor\u001b[0m\u001b[0;34m)\u001b[0m \u001b[0;34m->\u001b[0m \u001b[0mTensor\u001b[0m\u001b[0;34m:\u001b[0m\u001b[0;34m\u001b[0m\u001b[0;34m\u001b[0m\u001b[0m\n\u001b[0;32m--> 619\u001b[0;31m         \u001b[0;32mreturn\u001b[0m \u001b[0mF\u001b[0m\u001b[0;34m.\u001b[0m\u001b[0mbinary_cross_entropy\u001b[0m\u001b[0;34m(\u001b[0m\u001b[0minput\u001b[0m\u001b[0;34m,\u001b[0m \u001b[0mtarget\u001b[0m\u001b[0;34m,\u001b[0m \u001b[0mweight\u001b[0m\u001b[0;34m=\u001b[0m\u001b[0mself\u001b[0m\u001b[0;34m.\u001b[0m\u001b[0mweight\u001b[0m\u001b[0;34m,\u001b[0m \u001b[0mreduction\u001b[0m\u001b[0;34m=\u001b[0m\u001b[0mself\u001b[0m\u001b[0;34m.\u001b[0m\u001b[0mreduction\u001b[0m\u001b[0;34m)\u001b[0m\u001b[0;34m\u001b[0m\u001b[0;34m\u001b[0m\u001b[0m\n\u001b[0m\u001b[1;32m    620\u001b[0m \u001b[0;34m\u001b[0m\u001b[0m\n\u001b[1;32m    621\u001b[0m \u001b[0;34m\u001b[0m\u001b[0m\n",
            "\u001b[0;32m/usr/local/lib/python3.10/dist-packages/torch/nn/functional.py\u001b[0m in \u001b[0;36mbinary_cross_entropy\u001b[0;34m(input, target, weight, size_average, reduce, reduction)\u001b[0m\n\u001b[1;32m   3096\u001b[0m         \u001b[0mweight\u001b[0m \u001b[0;34m=\u001b[0m \u001b[0mweight\u001b[0m\u001b[0;34m.\u001b[0m\u001b[0mexpand\u001b[0m\u001b[0;34m(\u001b[0m\u001b[0mnew_size\u001b[0m\u001b[0;34m)\u001b[0m\u001b[0;34m\u001b[0m\u001b[0;34m\u001b[0m\u001b[0m\n\u001b[1;32m   3097\u001b[0m \u001b[0;34m\u001b[0m\u001b[0m\n\u001b[0;32m-> 3098\u001b[0;31m     \u001b[0;32mreturn\u001b[0m \u001b[0mtorch\u001b[0m\u001b[0;34m.\u001b[0m\u001b[0m_C\u001b[0m\u001b[0;34m.\u001b[0m\u001b[0m_nn\u001b[0m\u001b[0;34m.\u001b[0m\u001b[0mbinary_cross_entropy\u001b[0m\u001b[0;34m(\u001b[0m\u001b[0minput\u001b[0m\u001b[0;34m,\u001b[0m \u001b[0mtarget\u001b[0m\u001b[0;34m,\u001b[0m \u001b[0mweight\u001b[0m\u001b[0;34m,\u001b[0m \u001b[0mreduction_enum\u001b[0m\u001b[0;34m)\u001b[0m\u001b[0;34m\u001b[0m\u001b[0;34m\u001b[0m\u001b[0m\n\u001b[0m\u001b[1;32m   3099\u001b[0m \u001b[0;34m\u001b[0m\u001b[0m\n\u001b[1;32m   3100\u001b[0m \u001b[0;34m\u001b[0m\u001b[0m\n",
            "\u001b[0;31mRuntimeError\u001b[0m: all elements of input should be between 0 and 1"
          ]
        }
      ],
      "source": [
        "train_losses = []\n",
        "test_losses = []\n",
        "train_acc = []\n",
        "test_acc = []\n",
        "lr_values = []\n",
        "\n",
        "for epoch in range(1,num_epochs+1):\n",
        "    print(f\"epoch: {epoch}\")\n",
        "    this_train_loss = model_train(unet_model, device, train_loader, optimizer, criterion, train_acc, train_losses)\n",
        "    #this_loss = model_test(resnet_model, device, test_loader, criterion, test_acc, test_losses)\n",
        "    #optim_obj.scheduler.step()\n",
        "\n"
      ]
    },
    {
      "cell_type": "markdown",
      "metadata": {
        "id": "b7zJvrQjP8nR"
      },
      "source": [
        "Plot LR values"
      ]
    },
    {
      "cell_type": "code",
      "execution_count": null,
      "metadata": {
        "id": "oTncfVknP7wM"
      },
      "outputs": [],
      "source": [
        "import matplotlib.pyplot as plt\n",
        "def plot_lr_values2(lr_list):\n",
        "    num_epochs = len(lr_list)\n",
        "    plt.figure()\n",
        "    plt.plot(range(1,num_epochs+1),lr_list)\n",
        "    plt.xlabel('Epoch #')\n",
        "    plt.ylabel(\"Learning Rate\")\n",
        "    #plt.yscale('log')\n",
        "    plt.show()\n",
        "\n",
        "def plot_lr_values(scheduler, num_epochs, num_batches):\n",
        "    lrs = []\n",
        "    steps = []\n",
        "    for epoch in range(num_epochs):\n",
        "        for batch in range(num_batches):\n",
        "            scheduler.step()\n",
        "            lrs.append(scheduler.get_last_lr()[0])\n",
        "            steps.append(epoch * num_batches + batch)\n",
        "\n",
        "    plt.figure()\n",
        "    plt.legend()\n",
        "    plt.plot(steps, lrs, label='OneCycle')\n",
        "    plt.show()\n",
        "\n",
        "def plot_losses(train_losses, test_losses):\n",
        "    fig, axs = plt.subplots(1, 2, figsize=(15, 10))\n",
        "    epochs = range(1,len(train_losses)+1)\n",
        "    axs[0].plot(epochs, train_losses)\n",
        "    axs[0].set_title(\"Train\")\n",
        "    axs[1].plot(epochs, test_losses)\n",
        "    axs[1].set_title(\"Test\")\n",
        "\n",
        "def plot_accuracy(train_acc, test_acc, target_test_acc = 90.):\n",
        "    epochs = range(1,len(train_acc)+1)\n",
        "    plt.figure()\n",
        "    plt.plot(epochs, train_acc, epochs, test_acc)\n",
        "    plt.axhline(target_test_acc, color='r')\n",
        "    plt.legend(('Train','Test'),loc='best')\n",
        "    plt.title(\"Accuracy\")\n"
      ]
    },
    {
      "cell_type": "markdown",
      "metadata": {
        "id": "MWzELTZYazCZ"
      },
      "source": [
        "Plot results for Batch Norm experiment"
      ]
    },
    {
      "cell_type": "code",
      "execution_count": null,
      "metadata": {
        "id": "OEU2V5lxayQJ"
      },
      "outputs": [],
      "source": [
        "this_scheduler = OneCycleLR(\n",
        "        optim_obj.optimizer,\n",
        "        max_lr = max_lr,\n",
        "        steps_per_epoch=len(optim_obj.train_loader),\n",
        "        epochs = num_epochs,\n",
        "        pct_start = 5./num_epochs,\n",
        "        div_factor=200,\n",
        "        three_phase=False,\n",
        "        #final_div_factor=1000,\n",
        "        anneal_strategy='linear',\n",
        "        verbose=False\n",
        "        )\n",
        "plot_lr_values(this_scheduler, num_epochs, len(train_loader))\n",
        "plot_losses(train_losses, test_losses)\n",
        "plot_accuracy(train_acc, test_acc, target_test_acc=90.)\n"
      ]
    },
    {
      "cell_type": "markdown",
      "metadata": {
        "id": "b4Uz2jryV3u1"
      },
      "source": [
        "Print Training Log"
      ]
    },
    {
      "cell_type": "code",
      "execution_count": null,
      "metadata": {
        "id": "Ew5n7bbgW1OK"
      },
      "outputs": [],
      "source": [
        "print_train_log(train_acc, test_acc, train_losses, test_losses)"
      ]
    }
  ],
  "metadata": {
    "accelerator": "GPU",
    "colab": {
      "gpuType": "T4",
      "provenance": [],
      "include_colab_link": true
    },
    "kernelspec": {
      "display_name": "Python 3 (ipykernel)",
      "language": "python",
      "name": "python3"
    },
    "language_info": {
      "codemirror_mode": {
        "name": "ipython",
        "version": 3
      },
      "file_extension": ".py",
      "mimetype": "text/x-python",
      "name": "python",
      "nbconvert_exporter": "python",
      "pygments_lexer": "ipython3",
      "version": "3.8.0"
    }
  },
  "nbformat": 4,
  "nbformat_minor": 0
}