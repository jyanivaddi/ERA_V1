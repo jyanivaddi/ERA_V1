{
  "cells": [
    {
      "cell_type": "markdown",
      "metadata": {
        "id": "view-in-github",
        "colab_type": "text"
      },
      "source": [
        "<a href=\"https://colab.research.google.com/github/jyanivaddi/ERA_V1/blob/master/session_18/s18_unet.ipynb\" target=\"_parent\"><img src=\"https://colab.research.google.com/assets/colab-badge.svg\" alt=\"Open In Colab\"/></a>"
      ]
    },
    {
      "cell_type": "markdown",
      "metadata": {
        "id": "xMv-YR2zikee"
      },
      "source": [
        "Download our code repository and install python dependencies"
      ]
    },
    {
      "cell_type": "code",
      "execution_count": 40,
      "metadata": {
        "colab": {
          "base_uri": "https://localhost:8080/"
        },
        "id": "a8J1MOmbqmgC",
        "outputId": "1113ae48-0d8e-4810-e9c7-7424240319a4"
      },
      "outputs": [
        {
          "output_type": "stream",
          "name": "stdout",
          "text": [
            "fatal: destination path 'ERA_V1' already exists and is not an empty directory.\n",
            "fatal: not a git repository (or any of the parent directories): .git\n",
            "Requirement already satisfied: torchinfo in /usr/local/lib/python3.10/dist-packages (1.8.0)\n"
          ]
        }
      ],
      "source": [
        "!git clone \"https://github.com/jyanivaddi/ERA_V1.git\"\n",
        "!git pull\n",
        "!pip install torchinfo\n"
      ]
    },
    {
      "cell_type": "code",
      "source": [
        "import sys\n",
        "sys.path.append(\"ERA_V1/session_18\")\n"
      ],
      "metadata": {
        "id": "jBbACfNkwYD9"
      },
      "execution_count": 41,
      "outputs": []
    },
    {
      "cell_type": "markdown",
      "metadata": {
        "id": "lW3WHIzUqmgF"
      },
      "source": [
        "Add all the imports:"
      ]
    },
    {
      "cell_type": "code",
      "execution_count": 42,
      "metadata": {
        "id": "zQ5ZSVQJqmgI"
      },
      "outputs": [],
      "source": [
        "from __future__ import print_function\n",
        "import sys\n",
        "import torch\n",
        "import torch.nn as nn\n",
        "import torch.nn.functional as F\n",
        "import torch.optim as optim\n",
        "from torchsummary import summary\n",
        "from torchvision import transforms\n",
        "import albumentations as A\n",
        "import albumentations.augmentations as AA\n",
        "from albumentations.pytorch import ToTensorV2\n",
        "from unet_model import UNet\n",
        "from data_loader import load_oxford_pet_data"
      ]
    },
    {
      "cell_type": "markdown",
      "metadata": {
        "id": "n4AHY0CsqmgL"
      },
      "source": [
        "Allocate GPU and print model summary"
      ]
    },
    {
      "cell_type": "code",
      "source": [
        "import torch\n",
        "import torch.nn as nn\n",
        "\n",
        "\n",
        "class ContractingBlock(nn.Module):\n",
        "    def __init__(self, in_channels, out_channels):\n",
        "        super(ContractingBlock, self).__init__()\n",
        "\n",
        "        self.conv1 = nn.Conv2d(in_channels, out_channels, kernel_size=3, padding=1)\n",
        "        self.bn1 = nn.BatchNorm2d(out_channels)\n",
        "        self.relu1 = nn.ReLU(inplace=True)\n",
        "\n",
        "        self.conv2 = nn.Conv2d(out_channels, out_channels, kernel_size=3, padding=1)\n",
        "        self.bn2 = nn.BatchNorm2d(out_channels)\n",
        "        self.relu2 = nn.ReLU(inplace=True)\n",
        "\n",
        "        self.maxpool = nn.MaxPool2d(kernel_size=2, stride=2)\n",
        "\n",
        "    def forward(self, x):\n",
        "        x = self.conv1(x)\n",
        "        x = self.bn1(x)\n",
        "        x = self.relu1(x)\n",
        "\n",
        "        x = self.conv2(x)\n",
        "        x = self.bn2(x)\n",
        "        x = self.relu2(x)\n",
        "\n",
        "        skip = x  # store the output for the skip connection\n",
        "        x = self.maxpool(x)\n",
        "        return x, skip\n",
        "\n",
        "\n",
        "class ExpandingBlock(nn.Module):\n",
        "    def __init__(self, in_channels, out_channels):\n",
        "        super(ExpandingBlock, self).__init__()\n",
        "\n",
        "        self.conv1 = nn.Conv2d(in_channels, out_channels, kernel_size=3, padding=1)\n",
        "        self.bn1 = nn.BatchNorm2d(out_channels)\n",
        "        self.relu1 = nn.ReLU(inplace=True)\n",
        "\n",
        "        self.conv2 = nn.Conv2d(out_channels, out_channels, kernel_size=3, padding=1)\n",
        "        self.bn2 = nn.BatchNorm2d(out_channels)\n",
        "        self.relu2 = nn.ReLU(inplace=True)\n",
        "\n",
        "        self.upsample = nn.ConvTranspose2d(out_channels, out_channels // 2, kernel_size=2, stride=2)\n",
        "\n",
        "    def forward(self, x, skip):\n",
        "        #print(\"x: \", x.shape)\n",
        "        #print(\"skip: \", skip.shape)\n",
        "        x = self.conv1(x)\n",
        "        x = self.bn1(x)\n",
        "        x = self.relu1(x)\n",
        "\n",
        "        x = self.conv2(x)\n",
        "        x = self.bn2(x)\n",
        "        x = self.relu2(x)\n",
        "\n",
        "        x = self.upsample(x)\n",
        "\n",
        "        # concatenate the skip connection\n",
        "        x = torch.cat((x, skip), dim=1)\n",
        "\n",
        "        return x\n",
        "\n",
        "\n",
        "class UNet(nn.Module):\n",
        "    def __init__(self, in_channels, out_channels):\n",
        "        super(UNet, self).__init__()\n",
        "\n",
        "        self.contract1 = ContractingBlock(in_channels, 64)\n",
        "        self.contract2 = ContractingBlock(64, 128)\n",
        "        self.contract3 = ContractingBlock(128, 256)\n",
        "        self.contract4 = ContractingBlock(256, 512)\n",
        "        self.bottle_neck = nn.Conv2d(512, 1024, kernel_size=3, padding=1)\n",
        "\n",
        "        self.upsample = nn.ConvTranspose2d(1024, 512, kernel_size=2, stride=2)\n",
        "        self.expand1 = ExpandingBlock(1024, 512)\n",
        "        self.expand2 = ExpandingBlock(512, 256)\n",
        "        self.expand3 = ExpandingBlock(256, 128)\n",
        "\n",
        "        self.final_dim_reduction = nn.Sequential(*[nn.Conv2d(128, 64, kernel_size=3, padding=1),\n",
        "                                          nn.ReLU(inplace=True),\n",
        "                                          nn.Conv2d(64, 64, kernel_size=3, padding=1),\n",
        "                                          nn.ReLU(inplace=True)])\n",
        "                                          #nn.Conv2d(64,2, kernel_size=3, padding=1),\n",
        "                                          #nn.ReLU(inplace=True)])\n",
        "        self.final_block = nn.Conv2d(64, out_channels, kernel_size=1)\n",
        "\n",
        "\n",
        "\n",
        "    def forward(self, x):\n",
        "        # Contracting path\n",
        "        x, skip1 = self.contract1(x)\n",
        "        #print(\"first contract block:\", x.shape, skip1.shape)\n",
        "        x, skip2 = self.contract2(x)\n",
        "        #print(\"second contract block:\", x.shape, skip2.shape)\n",
        "        x, skip3 = self.contract3(x)\n",
        "        #print(\"third contract block:\", x.shape, skip3.shape)\n",
        "        x, skip4 = self.contract4(x)\n",
        "        #print(\"fourth contract block:\", x.shape, skip4.shape)\n",
        "        x = self.bottle_neck(x)\n",
        "        #print(\"bottle neck:\", x.shape)\n",
        "        x = self.upsample(x)\n",
        "        #print(\"upsample:\", x.shape)\n",
        "        x = torch.cat((x, skip4), dim=1)\n",
        "        #print(\"cat:\", x.shape)\n",
        "\n",
        "        # Expanding path\n",
        "        #print(\"-------------\")\n",
        "        #print(\"starting expand block:\", x.shape)\n",
        "        x3 = self.expand1(x, skip3)\n",
        "        #print(\"after first expand block:\", x3.shape)\n",
        "        x2 = self.expand2(x3, skip2)\n",
        "        #print(\"after second expand block:\", x2.shape)\n",
        "        x1 = self.expand3(x2, skip1)\n",
        "        #print(\"after third expand block:\", x1.shape)\n",
        "        #x1 = self.expand4(x2, skip1)\n",
        "\n",
        "        x  = self.final_dim_reduction(x1)\n",
        "        #print(\"after final dim reduction:\", x.shape)\n",
        "        x_out = self.final_block(x)\n",
        "        #print(\"after 1 x 1:\", x_out.shape)\n",
        "        #return F.log_softmax(x_out, dim=1)\n",
        "        return x_out\n",
        "\n"
      ],
      "metadata": {
        "id": "Da-JzFXz9gz5"
      },
      "execution_count": 43,
      "outputs": []
    },
    {
      "cell_type": "code",
      "source": [
        "def model_summary(model, input_size):\n",
        "    summary(model, input_size = input_size)"
      ],
      "metadata": {
        "id": "hzhSfiUE6D4V"
      },
      "execution_count": 44,
      "outputs": []
    },
    {
      "cell_type": "code",
      "execution_count": 45,
      "metadata": {
        "id": "3xmgYQudqmgM",
        "colab": {
          "base_uri": "https://localhost:8080/"
        },
        "outputId": "56873a66-dfc9-4503-a953-546a4e202400"
      },
      "outputs": [
        {
          "output_type": "stream",
          "name": "stdout",
          "text": [
            "----------------------------------------------------------------\n",
            "        Layer (type)               Output Shape         Param #\n",
            "================================================================\n",
            "            Conv2d-1           [-1, 64, 48, 48]           1,792\n",
            "       BatchNorm2d-2           [-1, 64, 48, 48]             128\n",
            "              ReLU-3           [-1, 64, 48, 48]               0\n",
            "            Conv2d-4           [-1, 64, 48, 48]          36,928\n",
            "       BatchNorm2d-5           [-1, 64, 48, 48]             128\n",
            "              ReLU-6           [-1, 64, 48, 48]               0\n",
            "         MaxPool2d-7           [-1, 64, 24, 24]               0\n",
            "  ContractingBlock-8  [[-1, 64, 24, 24], [-1, 64, 48, 48]]               0\n",
            "            Conv2d-9          [-1, 128, 24, 24]          73,856\n",
            "      BatchNorm2d-10          [-1, 128, 24, 24]             256\n",
            "             ReLU-11          [-1, 128, 24, 24]               0\n",
            "           Conv2d-12          [-1, 128, 24, 24]         147,584\n",
            "      BatchNorm2d-13          [-1, 128, 24, 24]             256\n",
            "             ReLU-14          [-1, 128, 24, 24]               0\n",
            "        MaxPool2d-15          [-1, 128, 12, 12]               0\n",
            " ContractingBlock-16  [[-1, 128, 12, 12], [-1, 128, 24, 24]]               0\n",
            "           Conv2d-17          [-1, 256, 12, 12]         295,168\n",
            "      BatchNorm2d-18          [-1, 256, 12, 12]             512\n",
            "             ReLU-19          [-1, 256, 12, 12]               0\n",
            "           Conv2d-20          [-1, 256, 12, 12]         590,080\n",
            "      BatchNorm2d-21          [-1, 256, 12, 12]             512\n",
            "             ReLU-22          [-1, 256, 12, 12]               0\n",
            "        MaxPool2d-23            [-1, 256, 6, 6]               0\n",
            " ContractingBlock-24  [[-1, 256, 6, 6], [-1, 256, 12, 12]]               0\n",
            "           Conv2d-25            [-1, 512, 6, 6]       1,180,160\n",
            "      BatchNorm2d-26            [-1, 512, 6, 6]           1,024\n",
            "             ReLU-27            [-1, 512, 6, 6]               0\n",
            "           Conv2d-28            [-1, 512, 6, 6]       2,359,808\n",
            "      BatchNorm2d-29            [-1, 512, 6, 6]           1,024\n",
            "             ReLU-30            [-1, 512, 6, 6]               0\n",
            "        MaxPool2d-31            [-1, 512, 3, 3]               0\n",
            " ContractingBlock-32  [[-1, 512, 3, 3], [-1, 512, 6, 6]]               0\n",
            "           Conv2d-33           [-1, 1024, 3, 3]       4,719,616\n",
            "  ConvTranspose2d-34            [-1, 512, 6, 6]       2,097,664\n",
            "           Conv2d-35            [-1, 512, 6, 6]       4,719,104\n",
            "      BatchNorm2d-36            [-1, 512, 6, 6]           1,024\n",
            "             ReLU-37            [-1, 512, 6, 6]               0\n",
            "           Conv2d-38            [-1, 512, 6, 6]       2,359,808\n",
            "      BatchNorm2d-39            [-1, 512, 6, 6]           1,024\n",
            "             ReLU-40            [-1, 512, 6, 6]               0\n",
            "  ConvTranspose2d-41          [-1, 256, 12, 12]         524,544\n",
            "   ExpandingBlock-42          [-1, 512, 12, 12]               0\n",
            "           Conv2d-43          [-1, 256, 12, 12]       1,179,904\n",
            "      BatchNorm2d-44          [-1, 256, 12, 12]             512\n",
            "             ReLU-45          [-1, 256, 12, 12]               0\n",
            "           Conv2d-46          [-1, 256, 12, 12]         590,080\n",
            "      BatchNorm2d-47          [-1, 256, 12, 12]             512\n",
            "             ReLU-48          [-1, 256, 12, 12]               0\n",
            "  ConvTranspose2d-49          [-1, 128, 24, 24]         131,200\n",
            "   ExpandingBlock-50          [-1, 256, 24, 24]               0\n",
            "           Conv2d-51          [-1, 128, 24, 24]         295,040\n",
            "      BatchNorm2d-52          [-1, 128, 24, 24]             256\n",
            "             ReLU-53          [-1, 128, 24, 24]               0\n",
            "           Conv2d-54          [-1, 128, 24, 24]         147,584\n",
            "      BatchNorm2d-55          [-1, 128, 24, 24]             256\n",
            "             ReLU-56          [-1, 128, 24, 24]               0\n",
            "  ConvTranspose2d-57           [-1, 64, 48, 48]          32,832\n",
            "   ExpandingBlock-58          [-1, 128, 48, 48]               0\n",
            "           Conv2d-59           [-1, 64, 48, 48]          73,792\n",
            "             ReLU-60           [-1, 64, 48, 48]               0\n",
            "           Conv2d-61           [-1, 64, 48, 48]          36,928\n",
            "             ReLU-62           [-1, 64, 48, 48]               0\n",
            "           Conv2d-63            [-1, 3, 48, 48]             195\n",
            "================================================================\n",
            "Total params: 21,601,091\n",
            "Trainable params: 21,601,091\n",
            "Non-trainable params: 0\n",
            "----------------------------------------------------------------\n",
            "Input size (MB): 0.03\n",
            "Forward/backward pass size (MB): 55050.24\n",
            "Params size (MB): 82.40\n",
            "Estimated Total Size (MB): 55132.67\n",
            "----------------------------------------------------------------\n"
          ]
        }
      ],
      "source": [
        "use_cuda = torch.cuda.is_available()\n",
        "device = torch.device(\"cuda\" if use_cuda else \"cpu\")\n",
        "#print(device)\n",
        "unet_model = UNet(in_channels=3,out_channels=3).to(device)\n",
        "model_summary(unet_model, input_size=(3,48,48))\n",
        "\n"
      ]
    },
    {
      "cell_type": "code",
      "execution_count": 49,
      "metadata": {
        "id": "pI6EVt-jmGp6"
      },
      "outputs": [],
      "source": [
        "import numpy as np\n",
        "from typing import Any\n",
        "from torchvision import datasets, transforms\n",
        "import albumentations as A\n",
        "import albumentations.augmentations as AA\n",
        "from albumentations.pytorch import ToTensorV2\n",
        "from torch.utils.data import Dataset, DataLoader\n",
        "\n",
        "def oxford_transforms(image, mask):\n",
        "    # Resize\n",
        "    resize = transforms.Resize(size=(48, 48))\n",
        "    image = resize(image)\n",
        "    mask = resize(mask)\n",
        "\n",
        "    # Transform to tensor\n",
        "    to_tensor = transforms.ToTensor()\n",
        "    image = to_tensor(image)\n",
        "    mask = np.asarray(mask)-1\n",
        "    mask_channels = np.zeros((3, mask.shape[0], mask.shape[1]))\n",
        "    for channel_id in range(3):\n",
        "        mask_channels[channel_id,:,:] = mask == channel_id\n",
        "    #mask_tensor = torch.tensor(mask, dtype=torch.long)\n",
        "    #return image,mask_tensor\n",
        "    return image, torch.tensor(mask_channels, dtype=float)\n",
        "\n",
        "class OxfordPetDataset(Dataset):\n",
        "\n",
        "    def __init__(self, dataset, transforms=None):\n",
        "        self.transforms = transforms\n",
        "        self.dataset = dataset\n",
        "\n",
        "\n",
        "    def __len__(self) -> int:\n",
        "        return len(self.dataset)\n",
        "\n",
        "\n",
        "    def __getitem__(self, index) -> Any:\n",
        "        image, label = self.dataset[index]\n",
        "        image = np.array(image)\n",
        "        if self.transforms is not None:\n",
        "            image = self.transforms(image)\n",
        "        return (image, label)\n",
        "\n",
        "\n",
        "def load_oxford_pet_data(train_transforms, test_transforms, batch_size, **kwargs):\n",
        "    train_data = datasets.OxfordIIITPet('../data', split='trainval', transforms = train_transforms, target_transform = None, target_types='segmentation', download=True)\n",
        "    test_data = datasets.OxfordIIITPet('../data', split='test', transforms = test_transforms, target_transform = None, target_types='segmentation', download=True)\n",
        "\n",
        "    train_loader = DataLoader(train_data,\n",
        "                              batch_size=batch_size,\n",
        "                              shuffle=True,\n",
        "                              **kwargs)\n",
        "    test_loader = DataLoader(test_data,\n",
        "                             batch_size=batch_size,\n",
        "                             shuffle=True,\n",
        "                             **kwargs)\n",
        "    return train_loader, test_loader\n",
        "\n",
        "\n"
      ]
    },
    {
      "cell_type": "markdown",
      "metadata": {
        "id": "D6f-Ko64qmgU"
      },
      "source": [
        "Define batch size, train and test loaders"
      ]
    },
    {
      "cell_type": "code",
      "execution_count": 50,
      "metadata": {
        "id": "Z8mQv0iUqmgV"
      },
      "outputs": [],
      "source": [
        "torch.manual_seed(1)\n",
        "batch_size = 32\n",
        "kwargs = {'num_workers': 2, 'pin_memory': True} if use_cuda else {}\n",
        "train_loader, test_loader = load_oxford_pet_data(train_transforms=oxford_transforms, test_transforms=oxford_transforms, batch_size=batch_size, **kwargs)"
      ]
    },
    {
      "cell_type": "code",
      "source": [
        "a,b = next(iter(train_loader))\n",
        "print(a.shape)\n",
        "print(b.shape)"
      ],
      "metadata": {
        "id": "XVlZ9lf1yL8w",
        "outputId": "f4ebdbba-ce41-49f8-f99e-2b142c98a6ec",
        "colab": {
          "base_uri": "https://localhost:8080/"
        }
      },
      "execution_count": 51,
      "outputs": [
        {
          "output_type": "stream",
          "name": "stdout",
          "text": [
            "torch.Size([32, 3, 48, 48])\n",
            "torch.Size([32, 3, 48, 48])\n"
          ]
        }
      ]
    },
    {
      "cell_type": "code",
      "source": [
        "idx=9\n",
        "c = np.asarray(b[idx]).transpose()\n",
        "a1 = np.asarray(a[idx]).squeeze().transpose()\n",
        "import matplotlib.pyplot as plt\n",
        "plt.imshow(c.squeeze())\n",
        "plt.colorbar()\n",
        "plt.show()\n",
        "plt.figure()\n",
        "\n",
        "print(a1.shape)\n",
        "plt.imshow(a1)\n",
        "plt.show()"
      ],
      "metadata": {
        "id": "Gd6m-KrW4i2I",
        "outputId": "27031f00-e289-4265-aeb0-b412e62d0186",
        "colab": {
          "base_uri": "https://localhost:8080/",
          "height": 867
        }
      },
      "execution_count": 52,
      "outputs": [
        {
          "output_type": "display_data",
          "data": {
            "text/plain": [
              "<Figure size 640x480 with 2 Axes>"
            ],
            "image/png": "[encoded data removed]"
          },
          "metadata": {}
        },
        {
          "output_type": "stream",
          "name": "stdout",
          "text": [
            "(48, 48, 3)\n"
          ]
        },
        {
          "output_type": "display_data",
          "data": {
            "text/plain": [
              "<Figure size 640x480 with 1 Axes>"
            ],
            "image/png": "[encoded data removed]"
          },
          "metadata": {}
        }
      ]
    },
    {
      "cell_type": "markdown",
      "metadata": {
        "id": "FCSVRbYZmmOG"
      },
      "source": [
        "Train model using Batch Normalization"
      ]
    },
    {
      "cell_type": "code",
      "source": [
        "from tqdm import tqdm\n",
        "\n",
        "def model_train(model, device, train_loader, optimizer, criterion, train_acc, train_losses):\n",
        "    model.train()\n",
        "    pbar = tqdm(train_loader)\n",
        "    train_loss = 0\n",
        "    correct = 0\n",
        "    processed = 0\n",
        "    for batch_idx, (data, target) in enumerate(pbar):\n",
        "        data, target = data.to(device), target.to(device)\n",
        "        optimizer.zero_grad()\n",
        "        output = model(data)\n",
        "        loss = criterion(output, target)\n",
        "        train_loss+=loss.item()\n",
        "        loss.backward()\n",
        "        optimizer.step()\n",
        "        #correct+= (pred.eq(target).sum().item())/(target.shape[-1]*target.shape[-1])\n",
        "        processed+= len(data)\n",
        "        pbar.set_description(desc= f'loss={loss.item()} batch_id={batch_idx}')\n",
        "\n",
        "    #train_acc.append(100*correct/processed)\n",
        "    train_losses.append(train_loss/len(train_loader))\n",
        "    return  loss.item()\n"
      ],
      "metadata": {
        "id": "cB49PmvsdebC"
      },
      "execution_count": 53,
      "outputs": []
    },
    {
      "cell_type": "markdown",
      "source": [
        "DICE Loss"
      ],
      "metadata": {
        "id": "2ABLc5XZgZST"
      }
    },
    {
      "cell_type": "code",
      "source": [
        "def dice_loss(pred, target):\n",
        "    smooth = 1e-5\n",
        "\n",
        "    # flatten predictions and targets\n",
        "    pred = pred.view(-1)\n",
        "    target = target.view(-1)\n",
        "\n",
        "    intersection = (pred * target).sum()\n",
        "    union = pred.sum() + target.sum()\n",
        "\n",
        "    dice = (2. * intersection + smooth) / (union + smooth)\n",
        "\n",
        "    return 1 - dice"
      ],
      "metadata": {
        "id": "tjz5JOv4gXJh"
      },
      "execution_count": null,
      "outputs": []
    },
    {
      "cell_type": "code",
      "execution_count": 54,
      "metadata": {
        "id": "ysHqVyhGZJ27"
      },
      "outputs": [],
      "source": [
        "num_epochs=24\n",
        "unet_model = UNet(in_channels=3,out_channels=3).to(device)\n",
        "criterion = F.cross_entropy\n",
        "optimizer = torch.optim.Adam(unet_model.parameters())\n"
      ]
    },
    {
      "cell_type": "code",
      "execution_count": 55,
      "metadata": {
        "id": "I8RlOADSBX4y",
        "colab": {
          "base_uri": "https://localhost:8080/"
        },
        "outputId": "00cb710c-a7c1-4146-a7fe-b43540e21496"
      },
      "outputs": [
        {
          "output_type": "stream",
          "name": "stdout",
          "text": [
            "epoch: 1\n"
          ]
        },
        {
          "output_type": "stream",
          "name": "stderr",
          "text": [
            "loss=0.5979857158333384 batch_id=114: 100%|██████████| 115/115 [00:22<00:00,  5.20it/s]\n"
          ]
        },
        {
          "output_type": "stream",
          "name": "stdout",
          "text": [
            "epoch: 2\n"
          ]
        },
        {
          "output_type": "stream",
          "name": "stderr",
          "text": [
            "loss=0.4613068113488612 batch_id=114: 100%|██████████| 115/115 [00:20<00:00,  5.64it/s]\n"
          ]
        },
        {
          "output_type": "stream",
          "name": "stdout",
          "text": [
            "epoch: 3\n"
          ]
        },
        {
          "output_type": "stream",
          "name": "stderr",
          "text": [
            "loss=0.5135504938856851 batch_id=114: 100%|██████████| 115/115 [00:17<00:00,  6.42it/s]\n"
          ]
        },
        {
          "output_type": "stream",
          "name": "stdout",
          "text": [
            "epoch: 4\n"
          ]
        },
        {
          "output_type": "stream",
          "name": "stderr",
          "text": [
            "loss=0.4118635972347991 batch_id=114: 100%|██████████| 115/115 [00:19<00:00,  6.05it/s]\n"
          ]
        },
        {
          "output_type": "stream",
          "name": "stdout",
          "text": [
            "epoch: 5\n"
          ]
        },
        {
          "output_type": "stream",
          "name": "stderr",
          "text": [
            "loss=0.41945347177249637 batch_id=114: 100%|██████████| 115/115 [00:19<00:00,  6.04it/s]\n"
          ]
        },
        {
          "output_type": "stream",
          "name": "stdout",
          "text": [
            "epoch: 6\n"
          ]
        },
        {
          "output_type": "stream",
          "name": "stderr",
          "text": [
            "loss=0.3808438509472795 batch_id=114: 100%|██████████| 115/115 [00:19<00:00,  5.94it/s]\n"
          ]
        },
        {
          "output_type": "stream",
          "name": "stdout",
          "text": [
            "epoch: 7\n"
          ]
        },
        {
          "output_type": "stream",
          "name": "stderr",
          "text": [
            "loss=0.3463719878557563 batch_id=114: 100%|██████████| 115/115 [00:17<00:00,  6.42it/s]\n"
          ]
        },
        {
          "output_type": "stream",
          "name": "stdout",
          "text": [
            "epoch: 8\n"
          ]
        },
        {
          "output_type": "stream",
          "name": "stderr",
          "text": [
            "loss=0.2995779237510954 batch_id=114: 100%|██████████| 115/115 [00:19<00:00,  6.05it/s]\n"
          ]
        },
        {
          "output_type": "stream",
          "name": "stdout",
          "text": [
            "epoch: 9\n"
          ]
        },
        {
          "output_type": "stream",
          "name": "stderr",
          "text": [
            "loss=0.308189909780917 batch_id=114: 100%|██████████| 115/115 [00:17<00:00,  6.40it/s]\n"
          ]
        },
        {
          "output_type": "stream",
          "name": "stdout",
          "text": [
            "epoch: 10\n"
          ]
        },
        {
          "output_type": "stream",
          "name": "stderr",
          "text": [
            "loss=0.285949499763557 batch_id=114: 100%|██████████| 115/115 [00:17<00:00,  6.45it/s]\n"
          ]
        },
        {
          "output_type": "stream",
          "name": "stdout",
          "text": [
            "epoch: 11\n"
          ]
        },
        {
          "output_type": "stream",
          "name": "stderr",
          "text": [
            "loss=0.338136951341591 batch_id=114: 100%|██████████| 115/115 [00:18<00:00,  6.12it/s]\n"
          ]
        },
        {
          "output_type": "stream",
          "name": "stdout",
          "text": [
            "epoch: 12\n"
          ]
        },
        {
          "output_type": "stream",
          "name": "stderr",
          "text": [
            "loss=0.25529910538642026 batch_id=114: 100%|██████████| 115/115 [00:18<00:00,  6.31it/s]\n"
          ]
        },
        {
          "output_type": "stream",
          "name": "stdout",
          "text": [
            "epoch: 13\n"
          ]
        },
        {
          "output_type": "stream",
          "name": "stderr",
          "text": [
            "loss=0.2987309197819307 batch_id=114: 100%|██████████| 115/115 [00:18<00:00,  6.08it/s]\n"
          ]
        },
        {
          "output_type": "stream",
          "name": "stdout",
          "text": [
            "epoch: 14\n"
          ]
        },
        {
          "output_type": "stream",
          "name": "stderr",
          "text": [
            "loss=0.24679700481675507 batch_id=114: 100%|██████████| 115/115 [00:17<00:00,  6.44it/s]\n"
          ]
        },
        {
          "output_type": "stream",
          "name": "stdout",
          "text": [
            "epoch: 15\n"
          ]
        },
        {
          "output_type": "stream",
          "name": "stderr",
          "text": [
            "loss=0.2561431432256177 batch_id=114: 100%|██████████| 115/115 [00:19<00:00,  6.04it/s]\n"
          ]
        },
        {
          "output_type": "stream",
          "name": "stdout",
          "text": [
            "epoch: 16\n"
          ]
        },
        {
          "output_type": "stream",
          "name": "stderr",
          "text": [
            "loss=0.2781329061566875 batch_id=114: 100%|██████████| 115/115 [00:18<00:00,  6.36it/s]\n"
          ]
        },
        {
          "output_type": "stream",
          "name": "stdout",
          "text": [
            "epoch: 17\n"
          ]
        },
        {
          "output_type": "stream",
          "name": "stderr",
          "text": [
            "loss=0.3002029211721146 batch_id=114: 100%|██████████| 115/115 [00:18<00:00,  6.22it/s]\n"
          ]
        },
        {
          "output_type": "stream",
          "name": "stdout",
          "text": [
            "epoch: 18\n"
          ]
        },
        {
          "output_type": "stream",
          "name": "stderr",
          "text": [
            "loss=0.2685744549405853 batch_id=114: 100%|██████████| 115/115 [00:18<00:00,  6.28it/s]\n"
          ]
        },
        {
          "output_type": "stream",
          "name": "stdout",
          "text": [
            "epoch: 19\n"
          ]
        },
        {
          "output_type": "stream",
          "name": "stderr",
          "text": [
            "loss=0.25245142963884215 batch_id=114: 100%|██████████| 115/115 [00:17<00:00,  6.48it/s]\n"
          ]
        },
        {
          "output_type": "stream",
          "name": "stdout",
          "text": [
            "epoch: 20\n"
          ]
        },
        {
          "output_type": "stream",
          "name": "stderr",
          "text": [
            "loss=0.22205705476802431 batch_id=114: 100%|██████████| 115/115 [00:18<00:00,  6.09it/s]\n"
          ]
        },
        {
          "output_type": "stream",
          "name": "stdout",
          "text": [
            "epoch: 21\n"
          ]
        },
        {
          "output_type": "stream",
          "name": "stderr",
          "text": [
            "loss=0.2716314424994335 batch_id=114: 100%|██████████| 115/115 [00:17<00:00,  6.52it/s]\n"
          ]
        },
        {
          "output_type": "stream",
          "name": "stdout",
          "text": [
            "epoch: 22\n"
          ]
        },
        {
          "output_type": "stream",
          "name": "stderr",
          "text": [
            "loss=0.260452383721206 batch_id=114: 100%|██████████| 115/115 [00:19<00:00,  6.05it/s]\n"
          ]
        },
        {
          "output_type": "stream",
          "name": "stdout",
          "text": [
            "epoch: 23\n"
          ]
        },
        {
          "output_type": "stream",
          "name": "stderr",
          "text": [
            "loss=0.21195554006146475 batch_id=114: 100%|██████████| 115/115 [00:17<00:00,  6.53it/s]\n"
          ]
        },
        {
          "output_type": "stream",
          "name": "stdout",
          "text": [
            "epoch: 24\n"
          ]
        },
        {
          "output_type": "stream",
          "name": "stderr",
          "text": [
            "loss=0.20898152318265154 batch_id=114: 100%|██████████| 115/115 [00:17<00:00,  6.43it/s]\n"
          ]
        }
      ],
      "source": [
        "train_losses = []\n",
        "test_losses = []\n",
        "train_acc = []\n",
        "test_acc = []\n",
        "lr_values = []\n",
        "\n",
        "for epoch in range(1,num_epochs+1):\n",
        "    print(f\"epoch: {epoch}\")\n",
        "    this_train_loss = model_train(unet_model, device, train_loader, optimizer, criterion, train_acc, train_losses)\n",
        "    #this_loss = model_test(resnet_model, device, test_loader, criterion, test_acc, test_losses)\n",
        "    #optim_obj.scheduler.step()\n",
        "\n"
      ]
    },
    {
      "cell_type": "markdown",
      "metadata": {
        "id": "b7zJvrQjP8nR"
      },
      "source": [
        "test"
      ]
    },
    {
      "cell_type": "code",
      "source": [
        "def show_predictions(test_loader, unet_model, num_predictions):\n",
        "    images, labels = next(iter(test_loader))\n",
        "    pred = unet_model(images.to(device))\n",
        "    for cnt in range(num_predictions):\n",
        "        plt.subplot(1,3,1)\n",
        "        plt.imshow(np.array(images[cnt].cpu()).transpose())\n",
        "        plt.title(\"original\")\n",
        "        plt.xticks([])\n",
        "        plt.yticks([])\n",
        "\n",
        "        plt.subplot(1,3,2)\n",
        "        this_gt = np.asarray(labels[cnt])\n",
        "        this_gt = np.argmax(this_gt, axis=0)\n",
        "        plt.imshow(this_gt.T)\n",
        "        plt.title(\"ground-truth\")\n",
        "        plt.xticks([])\n",
        "        plt.yticks([])\n",
        "\n",
        "        plt.subplot(1,3,3)\n",
        "        p1 = pred[cnt].cpu().detach().numpy()\n",
        "        p1 = np.argmax(p1, axis=0)\n",
        "        plt.imshow(p1.T)\n",
        "        plt.title(\"predicted\")\n",
        "        plt.xticks([])\n",
        "        plt.yticks([])\n",
        "\n",
        "        plt.show()\n",
        "\n"
      ],
      "metadata": {
        "id": "ezJ5OL-A32vo"
      },
      "execution_count": 76,
      "outputs": []
    },
    {
      "cell_type": "code",
      "source": [
        "show_predictions(test_loader, unet_model, 5)"
      ],
      "metadata": {
        "id": "T6e7okWO555T",
        "outputId": "3e15d2ce-9478-437c-ce10-8536a447edf3",
        "colab": {
          "base_uri": "https://localhost:8080/",
          "height": 957
        }
      },
      "execution_count": 77,
      "outputs": [
        {
          "output_type": "display_data",
          "data": {
            "text/plain": [
              "<Figure size 640x480 with 3 Axes>"
            ],
            "image/png": "[encoded data removed]"
          },
          "metadata": {}
        },
        {
          "output_type": "display_data",
          "data": {
            "text/plain": [
              "<Figure size 640x480 with 3 Axes>"
            ],
            "image/png": "[encoded data removed]"
          },
          "metadata": {}
        },
        {
          "output_type": "display_data",
          "data": {
            "text/plain": [
              "<Figure size 640x480 with 3 Axes>"
            ],
            "image/png": "[encoded data removed]"
          },
          "metadata": {}
        },
        {
          "output_type": "display_data",
          "data": {
            "text/plain": [
              "<Figure size 640x480 with 3 Axes>"
            ],
            "image/png": "[encoded data removed]"
          },
          "metadata": {}
        },
        {
          "output_type": "display_data",
          "data": {
            "text/plain": [
              "<Figure size 640x480 with 3 Axes>"
            ],
            "image/png": "[encoded data removed]"
          },
          "metadata": {}
        }
      ]
    }
  ],
  "metadata": {
    "accelerator": "GPU",
    "colab": {
      "gpuType": "T4",
      "provenance": [],
      "include_colab_link": true
    },
    "kernelspec": {
      "display_name": "Python 3 (ipykernel)",
      "language": "python",
      "name": "python3"
    },
    "language_info": {
      "codemirror_mode": {
        "name": "ipython",
        "version": 3
      },
      "file_extension": ".py",
      "mimetype": "text/x-python",
      "name": "python",
      "nbconvert_exporter": "python",
      "pygments_lexer": "ipython3",
      "version": "3.8.0"
    }
  },
  "nbformat": 4,
  "nbformat_minor": 0
}