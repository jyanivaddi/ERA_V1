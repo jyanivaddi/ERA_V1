{
 "cells": [
  {
   "cell_type": "markdown",
   "metadata": {
    "colab_type": "text",
    "id": "view-in-github"
   },
   "source": [
    "<a href=\"https://colab.research.google.com/github/jyanivaddi/ERA_V1/blob/master/session_10/s10.ipynb\" target=\"_parent\"><img src=\"https://colab.research.google.com/assets/colab-badge.svg\" alt=\"Open In Colab\"/></a>"
   ]
  },
  {
   "cell_type": "markdown",
   "metadata": {
    "id": "xMv-YR2zikee"
   },
   "source": [
    "Download our code repository and install python dependencies"
   ]
  },
  {
   "cell_type": "code",
   "execution_count": null,
   "metadata": {
    "colab": {
     "base_uri": "https://localhost:8080/"
    },
    "id": "a8J1MOmbqmgC",
    "outputId": "8e3ec94d-6beb-4414-9c2e-0920d12ad701"
   },
   "outputs": [],
   "source": [
    "#!git clone \"https://github.com/jyanivaddi/ERA_V1.git\"\n",
    "#!git pull\n",
    "#!pip install torchinfo\n",
    "#!pip install prettytable\n",
    "#!pip install torch_lr_finder"
   ]
  },
  {
   "cell_type": "markdown",
   "metadata": {
    "id": "lW3WHIzUqmgF"
   },
   "source": [
    "Add all the imports:"
   ]
  },
  {
   "cell_type": "code",
   "execution_count": 1,
   "metadata": {
    "colab": {
     "base_uri": "https://localhost:8080/"
    },
    "id": "zQ5ZSVQJqmgI",
    "outputId": "f037672b-d701-4264-dd4b-1a1661c3bc13"
   },
   "outputs": [],
   "source": [
    "from __future__ import print_function\n",
    "import sys\n",
    "#sys.path.append(\"ERA_V1/session_10\")\n",
    "import torch\n",
    "import torch.nn as nn\n",
    "import torch.nn.functional as F\n",
    "import torch.optim as optim\n",
    "from torchvision import transforms\n",
    "import albumentations as A\n",
    "import albumentations.augmentations as AA\n",
    "from albumentations.pytorch import ToTensorV2\n",
    "from unet_model import UNet\n",
    "from data_loader import load_oxford_pet_data"
   ]
  },
  {
   "cell_type": "markdown",
   "metadata": {
    "id": "n4AHY0CsqmgL"
   },
   "source": [
    "Allocate GPU and print model summary"
   ]
  },
  {
   "cell_type": "code",
   "execution_count": 5,
   "metadata": {
    "colab": {
     "base_uri": "https://localhost:8080/"
    },
    "id": "3xmgYQudqmgM",
    "outputId": "d5752d8f-7160-4d76-b67c-85fff8858782"
   },
   "outputs": [],
   "source": [
    "use_cuda = torch.cuda.is_available()\n",
    "device = torch.device(\"cuda\" if use_cuda else \"cpu\")\n",
    "unet_model = UNet(in_channels=3,out_channels=2).to(device)\n",
    "#model_summary(unet_model, input_size=(3,48,48))\n"
   ]
  },
  {
   "cell_type": "markdown",
   "metadata": {
    "id": "eF0JlvTsqmgP"
   },
   "source": [
    "Define Albumentations image augmentations. We use RandomResizedCrop, HorizontalFlip, and cutout"
   ]
  },
  {
   "cell_type": "code",
   "execution_count": null,
   "metadata": {
    "id": "pI6EVt-jmGp6"
   },
   "outputs": [],
   "source": []
  },
  {
   "cell_type": "markdown",
   "metadata": {
    "id": "D6f-Ko64qmgU"
   },
   "source": [
    "Define batch size, train and test loaders"
   ]
  },
  {
   "cell_type": "code",
   "execution_count": 6,
   "metadata": {
    "colab": {
     "base_uri": "https://localhost:8080/"
    },
    "id": "Z8mQv0iUqmgV",
    "outputId": "88821513-6d8d-4327-e0dd-7cc4c1146991"
   },
   "outputs": [
    {
     "ename": "NameError",
     "evalue": "name 'train_transforms' is not defined",
     "output_type": "error",
     "traceback": [
      "\u001B[0;31m---------------------------------------------------------------------------\u001B[0m",
      "\u001B[0;31mNameError\u001B[0m                                 Traceback (most recent call last)",
      "Cell \u001B[0;32mIn[6], line 4\u001B[0m\n\u001B[1;32m      2\u001B[0m batch_size \u001B[38;5;241m=\u001B[39m \u001B[38;5;241m32\u001B[39m\n\u001B[1;32m      3\u001B[0m kwargs \u001B[38;5;241m=\u001B[39m {\u001B[38;5;124m'\u001B[39m\u001B[38;5;124mnum_workers\u001B[39m\u001B[38;5;124m'\u001B[39m: \u001B[38;5;241m2\u001B[39m, \u001B[38;5;124m'\u001B[39m\u001B[38;5;124mpin_memory\u001B[39m\u001B[38;5;124m'\u001B[39m: \u001B[38;5;28;01mTrue\u001B[39;00m} \u001B[38;5;28;01mif\u001B[39;00m use_cuda \u001B[38;5;28;01melse\u001B[39;00m {}\n\u001B[0;32m----> 4\u001B[0m train_loader, test_loader, class_names \u001B[38;5;241m=\u001B[39m load_oxford_pet_data(\u001B[43mtrain_transforms\u001B[49m, test_transforms, batch_size, \u001B[38;5;241m*\u001B[39m\u001B[38;5;241m*\u001B[39mkwargs)\n",
      "\u001B[0;31mNameError\u001B[0m: name 'train_transforms' is not defined"
     ]
    }
   ],
   "source": [
    "torch.manual_seed(1)\n",
    "batch_size = 32\n",
    "kwargs = {'num_workers': 2, 'pin_memory': True} if use_cuda else {}\n",
    "train_loader, test_loader, class_names = load_oxford_pet_data(train_transforms, test_transforms, batch_size, **kwargs)"
   ]
  },
  {
   "cell_type": "markdown",
   "metadata": {
    "id": "4BJ_T8ExsnE_"
   },
   "source": [
    "Preview Augmentations"
   ]
  },
  {
   "cell_type": "code",
   "execution_count": null,
   "metadata": {
    "colab": {
     "base_uri": "https://localhost:8080/",
     "height": 1000
    },
    "id": "Jm_7N56ksma4",
    "outputId": "a74402d5-b204-4b6a-e5d1-ef7b14e95567"
   },
   "outputs": [],
   "source": [
    "import numpy as np\n",
    "import matplotlib.pyplot as plt\n",
    "from torchvision import datasets, transforms\n",
    "\n",
    "def un_normalize_image(img):\n",
    "    un_norm_transform = transforms.Compose([transforms.Normalize((0.,0.,0.,),(1./0.247,1./0.244,1./0.262)),\n",
    "                                                 transforms.Normalize((-0.491,-0.482,-0.447),(1.0,1.0,1.0))])\n",
    "    return un_norm_transform(img)\n",
    "\n",
    "def preview_augmentations(train_loader, image_transform):\n",
    "    batch_data, batch_label = next(iter(train_loader))\n",
    "    preview_img = np.asarray(un_normalize_image(batch_data[0].squeeze()))\n",
    "    preview_img = (preview_img*255./np.max(preview_img)).astype('uint8')\n",
    "    preview_label = batch_label[0]\n",
    "    fig, axs = plt.subplots(1, 2)\n",
    "    plt.tight_layout()\n",
    "\n",
    "    un_normalized_img = un_normalize_image(batch_data[0].squeeze())\n",
    "    un_normalized_img = np.asarray(un_normalized_img)\n",
    "    transformed_numpy_img = image_transform(image = un_normalized_img.transpose(1,2,0))[\"image\"]\n",
    "    axs[0].imshow(preview_img.transpose((1,2,0)))\n",
    "    axs[0].set_xticks([])\n",
    "    axs[0].set_yticks([])\n",
    "    axs[1].imshow(transformed_numpy_img)\n",
    "    axs[1].set_xticks([])\n",
    "    axs[1].set_yticks([])\n",
    "    plt.tight_layout()\n",
    "    plt.show()\n",
    "\n",
    "# Reload train and test loader to preview augmentations\n",
    "torch.manual_seed(1)\n",
    "batch_size = 512\n",
    "kwargs = {'num_workers': 2, 'pin_memory': True} if use_cuda else {}\n",
    "eg_train_loader, eg_test_loader, eg_class_names = load_cifar10_data(train_transforms= A.Compose([A.Normalize(mean=(0.491,0.482,0.447),std=(0.247,0.244,0.262)),ToTensorV2()]), test_transforms=A.Compose([A.Normalize(mean=(0.491,0.482,0.447),std=(0.247,0.244,0.262)),ToTensorV2()]), batch_size=32, **kwargs)\n",
    "\n",
    "# Random Resized Crop\n",
    "img_transforms = A.Compose([AA.crops.transforms.RandomResizedCrop(height= 32,width = 32,p=0.2)])\n",
    "preview_augmentations(eg_train_loader, img_transforms)\n",
    "\n",
    "# Horizontal Flip\n",
    "img_transforms = A.Compose([A.HorizontalFlip(always_apply=True)])\n",
    "preview_augmentations(eg_train_loader, img_transforms)\n",
    "\n",
    "# Cut out\n",
    "img_transforms = A.Compose([AA.dropout.coarse_dropout.CoarseDropout(max_holes = 1, max_height=8,\n",
    "                                                max_width=8, min_holes = 1,\n",
    "                                                min_height=8, min_width=8,\n",
    "                                                fill_value=(0.491, 0.482, 0.447),\n",
    "                                                mask_fill_value = None, always_apply=True)])\n",
    "preview_augmentations(eg_train_loader, img_transforms)\n",
    "\n"
   ]
  },
  {
   "cell_type": "markdown",
   "metadata": {
    "id": "RQB2RLRxtSlv"
   },
   "source": [
    "Show sample Images from the dataset"
   ]
  },
  {
   "cell_type": "code",
   "execution_count": null,
   "metadata": {
    "colab": {
     "base_uri": "https://localhost:8080/",
     "height": 486
    },
    "id": "DjjB363XqmgW",
    "outputId": "d5abedf9-b072-4ce9-ab77-196b41cad587"
   },
   "outputs": [],
   "source": [
    "preview_images(train_loader,class_names, num_rows = 5, num_cols = 5)"
   ]
  },
  {
   "cell_type": "markdown",
   "metadata": {
    "id": "FCSVRbYZmmOG"
   },
   "source": [
    "Train model using Batch Normalization"
   ]
  },
  {
   "cell_type": "code",
   "execution_count": null,
   "metadata": {
    "colab": {
     "base_uri": "https://localhost:8080/",
     "height": 590,
     "referenced_widgets": [
      "fbb12b3b4ca8499192ccc8d74b2e8a19",
      "a691b57120f242cda82d7728bc94582b",
      "140db922f18e414e8157baee65278f42",
      "e46d5a8ff8a041a4bed27b092ee7871c",
      "15c20aaf94024698bf3d53dddaf21829",
      "fbd27a4213df4e778c3749c7d4499c17",
      "8a6c3d7b12f943418aab0cd0aab91750",
      "927412d91bbb4be083c03c18abf8852d",
      "58a98b0300254d9391793cedca254f9c",
      "ae7e835da7a74d6c89c06c8382ffc734",
      "0b1534280bf545b88810f95e155f3510"
     ]
    },
    "id": "ysHqVyhGZJ27",
    "outputId": "b78d5410-fbf9-42be-e7b1-b423424c0353"
   },
   "outputs": [],
   "source": [
    "drop_out = 0.02\n",
    "num_epochs=24\n",
    "resnet_model = CustomResnet(base_channels=3, num_classes=10,drop_out_probability=drop_out).to(device)\n",
    "criterion = nn.CrossEntropyLoss(reduction='mean')\n",
    "optim_obj = Optimization(resnet_model, device, train_loader, criterion, num_epochs)\n",
    "lr_history = find_best_lr(resnet_model, train_loader, optim_obj.optimizer, criterion, device)\n"
   ]
  },
  {
   "cell_type": "code",
   "execution_count": null,
   "metadata": {
    "colab": {
     "base_uri": "https://localhost:8080/"
    },
    "id": "I8RlOADSBX4y",
    "outputId": "b500203a-7542-4e10-f979-041354f465d9"
   },
   "outputs": [],
   "source": [
    "train_losses = []\n",
    "test_losses = []\n",
    "train_acc = []\n",
    "test_acc = []\n",
    "lr_values = []\n",
    "max_lr = 4.65e-2\n",
    "# Define scheduler\n",
    "optim_obj.define_scheduler(max_lr)\n",
    "\n",
    "for epoch in range(1,num_epochs+1):\n",
    "    lr_values.append(optim_obj.scheduler.get_lr())\n",
    "    print(f\"epoch: {epoch}\\t learning rate: {optim_obj.scheduler.get_last_lr()[0]}\")\n",
    "    this_train_loss = training_loop(resnet_model, device, train_loader, optim_obj.optimizer, optim_obj.scheduler, criterion, train_acc, train_losses)\n",
    "    this_loss = model_test(resnet_model, device, test_loader, criterion, test_acc, test_losses)\n",
    "    #optim_obj.scheduler.step()\n",
    "\n"
   ]
  },
  {
   "cell_type": "markdown",
   "metadata": {
    "id": "b7zJvrQjP8nR"
   },
   "source": [
    "Plot LR values"
   ]
  },
  {
   "cell_type": "code",
   "execution_count": null,
   "metadata": {
    "id": "oTncfVknP7wM"
   },
   "outputs": [],
   "source": [
    "import matplotlib.pyplot as plt\n",
    "def plot_lr_values2(lr_list):\n",
    "    num_epochs = len(lr_list)\n",
    "    plt.figure()\n",
    "    plt.plot(range(1,num_epochs+1),lr_list)\n",
    "    plt.xlabel('Epoch #')\n",
    "    plt.ylabel(\"Learning Rate\")\n",
    "    #plt.yscale('log')\n",
    "    plt.show()\n",
    "\n",
    "def plot_lr_values(scheduler, num_epochs, num_batches):\n",
    "    lrs = []\n",
    "    steps = []\n",
    "    for epoch in range(num_epochs):\n",
    "        for batch in range(num_batches):\n",
    "            scheduler.step()\n",
    "            lrs.append(scheduler.get_last_lr()[0])\n",
    "            steps.append(epoch * num_batches + batch)\n",
    "\n",
    "    plt.figure()\n",
    "    plt.legend()\n",
    "    plt.plot(steps, lrs, label='OneCycle')\n",
    "    plt.show()\n",
    "\n",
    "def plot_losses(train_losses, test_losses):\n",
    "    fig, axs = plt.subplots(1, 2, figsize=(15, 10))\n",
    "    epochs = range(1,len(train_losses)+1)\n",
    "    axs[0].plot(epochs, train_losses)\n",
    "    axs[0].set_title(\"Train\")\n",
    "    axs[1].plot(epochs, test_losses)\n",
    "    axs[1].set_title(\"Test\")\n",
    "\n",
    "def plot_accuracy(train_acc, test_acc, target_test_acc = 90.):\n",
    "    epochs = range(1,len(train_acc)+1)\n",
    "    plt.figure()\n",
    "    plt.plot(epochs, train_acc, epochs, test_acc)\n",
    "    plt.axhline(target_test_acc, color='r')\n",
    "    plt.legend(('Train','Test'),loc='best')\n",
    "    plt.title(\"Accuracy\")\n"
   ]
  },
  {
   "cell_type": "markdown",
   "metadata": {
    "id": "MWzELTZYazCZ"
   },
   "source": [
    "Plot results for Batch Norm experiment"
   ]
  },
  {
   "cell_type": "code",
   "execution_count": null,
   "metadata": {
    "colab": {
     "base_uri": "https://localhost:8080/",
     "height": 1000
    },
    "id": "OEU2V5lxayQJ",
    "outputId": "acbc0da3-1736-434a-ae6c-c3cadfe7e1ab"
   },
   "outputs": [],
   "source": [
    "this_scheduler = OneCycleLR(\n",
    "        optim_obj.optimizer,\n",
    "        max_lr = max_lr,\n",
    "        steps_per_epoch=len(optim_obj.train_loader),\n",
    "        epochs = num_epochs,\n",
    "        pct_start = 5./num_epochs,\n",
    "        div_factor=200,\n",
    "        three_phase=False,\n",
    "        #final_div_factor=1000,\n",
    "        anneal_strategy='linear',\n",
    "        verbose=False\n",
    "        )\n",
    "plot_lr_values(this_scheduler, num_epochs, len(train_loader))\n",
    "plot_losses(train_losses, test_losses)\n",
    "plot_accuracy(train_acc, test_acc, target_test_acc=90.)\n"
   ]
  },
  {
   "cell_type": "markdown",
   "metadata": {
    "id": "b4Uz2jryV3u1"
   },
   "source": [
    "Print Training Log"
   ]
  },
  {
   "cell_type": "code",
   "execution_count": null,
   "metadata": {
    "colab": {
     "base_uri": "https://localhost:8080/"
    },
    "id": "Ew5n7bbgW1OK",
    "outputId": "1f76cbda-d3f1-4368-85d7-ffc66c4093c7"
   },
   "outputs": [],
   "source": [
    "print_train_log(train_acc, test_acc, train_losses, test_losses)"
   ]
  }
 ],
 "metadata": {
  "accelerator": "GPU",
  "colab": {
   "gpuType": "T4",
   "include_colab_link": true,
   "provenance": []
  },
  "kernelspec": {
   "display_name": "Python 3 (ipykernel)",
   "language": "python",
   "name": "python3"
  },
  "language_info": {
   "codemirror_mode": {
    "name": "ipython",
    "version": 3
   },
   "file_extension": ".py",
   "mimetype": "text/x-python",
   "name": "python",
   "nbconvert_exporter": "python",
   "pygments_lexer": "ipython3",
   "version": "3.8.0"
  },
  "widgets": {
   "application/vnd.jupyter.widget-state+json": {
    "0b1534280bf545b88810f95e155f3510": {
     "model_module": "@jupyter-widgets/controls",
     "model_module_version": "1.5.0",
     "model_name": "DescriptionStyleModel",
     "state": {
      "_model_module": "@jupyter-widgets/controls",
      "_model_module_version": "1.5.0",
      "_model_name": "DescriptionStyleModel",
      "_view_count": null,
      "_view_module": "@jupyter-widgets/base",
      "_view_module_version": "1.2.0",
      "_view_name": "StyleView",
      "description_width": ""
     }
    },
    "140db922f18e414e8157baee65278f42": {
     "model_module": "@jupyter-widgets/controls",
     "model_module_version": "1.5.0",
     "model_name": "FloatProgressModel",
     "state": {
      "_dom_classes": [],
      "_model_module": "@jupyter-widgets/controls",
      "_model_module_version": "1.5.0",
      "_model_name": "FloatProgressModel",
      "_view_count": null,
      "_view_module": "@jupyter-widgets/controls",
      "_view_module_version": "1.5.0",
      "_view_name": "ProgressView",
      "bar_style": "danger",
      "description": "",
      "description_tooltip": null,
      "layout": "IPY_MODEL_927412d91bbb4be083c03c18abf8852d",
      "max": 200,
      "min": 0,
      "orientation": "horizontal",
      "style": "IPY_MODEL_58a98b0300254d9391793cedca254f9c",
      "value": 120
     }
    },
    "15c20aaf94024698bf3d53dddaf21829": {
     "model_module": "@jupyter-widgets/base",
     "model_module_version": "1.2.0",
     "model_name": "LayoutModel",
     "state": {
      "_model_module": "@jupyter-widgets/base",
      "_model_module_version": "1.2.0",
      "_model_name": "LayoutModel",
      "_view_count": null,
      "_view_module": "@jupyter-widgets/base",
      "_view_module_version": "1.2.0",
      "_view_name": "LayoutView",
      "align_content": null,
      "align_items": null,
      "align_self": null,
      "border": null,
      "bottom": null,
      "display": null,
      "flex": null,
      "flex_flow": null,
      "grid_area": null,
      "grid_auto_columns": null,
      "grid_auto_flow": null,
      "grid_auto_rows": null,
      "grid_column": null,
      "grid_gap": null,
      "grid_row": null,
      "grid_template_areas": null,
      "grid_template_columns": null,
      "grid_template_rows": null,
      "height": null,
      "justify_content": null,
      "justify_items": null,
      "left": null,
      "margin": null,
      "max_height": null,
      "max_width": null,
      "min_height": null,
      "min_width": null,
      "object_fit": null,
      "object_position": null,
      "order": null,
      "overflow": null,
      "overflow_x": null,
      "overflow_y": null,
      "padding": null,
      "right": null,
      "top": null,
      "visibility": null,
      "width": null
     }
    },
    "58a98b0300254d9391793cedca254f9c": {
     "model_module": "@jupyter-widgets/controls",
     "model_module_version": "1.5.0",
     "model_name": "ProgressStyleModel",
     "state": {
      "_model_module": "@jupyter-widgets/controls",
      "_model_module_version": "1.5.0",
      "_model_name": "ProgressStyleModel",
      "_view_count": null,
      "_view_module": "@jupyter-widgets/base",
      "_view_module_version": "1.2.0",
      "_view_name": "StyleView",
      "bar_color": null,
      "description_width": ""
     }
    },
    "8a6c3d7b12f943418aab0cd0aab91750": {
     "model_module": "@jupyter-widgets/controls",
     "model_module_version": "1.5.0",
     "model_name": "DescriptionStyleModel",
     "state": {
      "_model_module": "@jupyter-widgets/controls",
      "_model_module_version": "1.5.0",
      "_model_name": "DescriptionStyleModel",
      "_view_count": null,
      "_view_module": "@jupyter-widgets/base",
      "_view_module_version": "1.2.0",
      "_view_name": "StyleView",
      "description_width": ""
     }
    },
    "927412d91bbb4be083c03c18abf8852d": {
     "model_module": "@jupyter-widgets/base",
     "model_module_version": "1.2.0",
     "model_name": "LayoutModel",
     "state": {
      "_model_module": "@jupyter-widgets/base",
      "_model_module_version": "1.2.0",
      "_model_name": "LayoutModel",
      "_view_count": null,
      "_view_module": "@jupyter-widgets/base",
      "_view_module_version": "1.2.0",
      "_view_name": "LayoutView",
      "align_content": null,
      "align_items": null,
      "align_self": null,
      "border": null,
      "bottom": null,
      "display": null,
      "flex": null,
      "flex_flow": null,
      "grid_area": null,
      "grid_auto_columns": null,
      "grid_auto_flow": null,
      "grid_auto_rows": null,
      "grid_column": null,
      "grid_gap": null,
      "grid_row": null,
      "grid_template_areas": null,
      "grid_template_columns": null,
      "grid_template_rows": null,
      "height": null,
      "justify_content": null,
      "justify_items": null,
      "left": null,
      "margin": null,
      "max_height": null,
      "max_width": null,
      "min_height": null,
      "min_width": null,
      "object_fit": null,
      "object_position": null,
      "order": null,
      "overflow": null,
      "overflow_x": null,
      "overflow_y": null,
      "padding": null,
      "right": null,
      "top": null,
      "visibility": null,
      "width": null
     }
    },
    "a691b57120f242cda82d7728bc94582b": {
     "model_module": "@jupyter-widgets/controls",
     "model_module_version": "1.5.0",
     "model_name": "HTMLModel",
     "state": {
      "_dom_classes": [],
      "_model_module": "@jupyter-widgets/controls",
      "_model_module_version": "1.5.0",
      "_model_name": "HTMLModel",
      "_view_count": null,
      "_view_module": "@jupyter-widgets/controls",
      "_view_module_version": "1.5.0",
      "_view_name": "HTMLView",
      "description": "",
      "description_tooltip": null,
      "layout": "IPY_MODEL_fbd27a4213df4e778c3749c7d4499c17",
      "placeholder": "​",
      "style": "IPY_MODEL_8a6c3d7b12f943418aab0cd0aab91750",
      "value": " 60%"
     }
    },
    "ae7e835da7a74d6c89c06c8382ffc734": {
     "model_module": "@jupyter-widgets/base",
     "model_module_version": "1.2.0",
     "model_name": "LayoutModel",
     "state": {
      "_model_module": "@jupyter-widgets/base",
      "_model_module_version": "1.2.0",
      "_model_name": "LayoutModel",
      "_view_count": null,
      "_view_module": "@jupyter-widgets/base",
      "_view_module_version": "1.2.0",
      "_view_name": "LayoutView",
      "align_content": null,
      "align_items": null,
      "align_self": null,
      "border": null,
      "bottom": null,
      "display": null,
      "flex": null,
      "flex_flow": null,
      "grid_area": null,
      "grid_auto_columns": null,
      "grid_auto_flow": null,
      "grid_auto_rows": null,
      "grid_column": null,
      "grid_gap": null,
      "grid_row": null,
      "grid_template_areas": null,
      "grid_template_columns": null,
      "grid_template_rows": null,
      "height": null,
      "justify_content": null,
      "justify_items": null,
      "left": null,
      "margin": null,
      "max_height": null,
      "max_width": null,
      "min_height": null,
      "min_width": null,
      "object_fit": null,
      "object_position": null,
      "order": null,
      "overflow": null,
      "overflow_x": null,
      "overflow_y": null,
      "padding": null,
      "right": null,
      "top": null,
      "visibility": null,
      "width": null
     }
    },
    "e46d5a8ff8a041a4bed27b092ee7871c": {
     "model_module": "@jupyter-widgets/controls",
     "model_module_version": "1.5.0",
     "model_name": "HTMLModel",
     "state": {
      "_dom_classes": [],
      "_model_module": "@jupyter-widgets/controls",
      "_model_module_version": "1.5.0",
      "_model_name": "HTMLModel",
      "_view_count": null,
      "_view_module": "@jupyter-widgets/controls",
      "_view_module_version": "1.5.0",
      "_view_name": "HTMLView",
      "description": "",
      "description_tooltip": null,
      "layout": "IPY_MODEL_ae7e835da7a74d6c89c06c8382ffc734",
      "placeholder": "​",
      "style": "IPY_MODEL_0b1534280bf545b88810f95e155f3510",
      "value": " 120/200 [00:32&lt;00:19,  4.14it/s]"
     }
    },
    "fbb12b3b4ca8499192ccc8d74b2e8a19": {
     "model_module": "@jupyter-widgets/controls",
     "model_module_version": "1.5.0",
     "model_name": "HBoxModel",
     "state": {
      "_dom_classes": [],
      "_model_module": "@jupyter-widgets/controls",
      "_model_module_version": "1.5.0",
      "_model_name": "HBoxModel",
      "_view_count": null,
      "_view_module": "@jupyter-widgets/controls",
      "_view_module_version": "1.5.0",
      "_view_name": "HBoxView",
      "box_style": "",
      "children": [
       "IPY_MODEL_a691b57120f242cda82d7728bc94582b",
       "IPY_MODEL_140db922f18e414e8157baee65278f42",
       "IPY_MODEL_e46d5a8ff8a041a4bed27b092ee7871c"
      ],
      "layout": "IPY_MODEL_15c20aaf94024698bf3d53dddaf21829"
     }
    },
    "fbd27a4213df4e778c3749c7d4499c17": {
     "model_module": "@jupyter-widgets/base",
     "model_module_version": "1.2.0",
     "model_name": "LayoutModel",
     "state": {
      "_model_module": "@jupyter-widgets/base",
      "_model_module_version": "1.2.0",
      "_model_name": "LayoutModel",
      "_view_count": null,
      "_view_module": "@jupyter-widgets/base",
      "_view_module_version": "1.2.0",
      "_view_name": "LayoutView",
      "align_content": null,
      "align_items": null,
      "align_self": null,
      "border": null,
      "bottom": null,
      "display": null,
      "flex": null,
      "flex_flow": null,
      "grid_area": null,
      "grid_auto_columns": null,
      "grid_auto_flow": null,
      "grid_auto_rows": null,
      "grid_column": null,
      "grid_gap": null,
      "grid_row": null,
      "grid_template_areas": null,
      "grid_template_columns": null,
      "grid_template_rows": null,
      "height": null,
      "justify_content": null,
      "justify_items": null,
      "left": null,
      "margin": null,
      "max_height": null,
      "max_width": null,
      "min_height": null,
      "min_width": null,
      "object_fit": null,
      "object_position": null,
      "order": null,
      "overflow": null,
      "overflow_x": null,
      "overflow_y": null,
      "padding": null,
      "right": null,
      "top": null,
      "visibility": null,
      "width": null
     }
    }
   }
  }
 },
 "nbformat": 4,
 "nbformat_minor": 4
}
