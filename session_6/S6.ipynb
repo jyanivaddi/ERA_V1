{
  "cells": [
    {
      "cell_type": "markdown",
      "metadata": {
        "id": "view-in-github",
        "colab_type": "text"
      },
      "source": [
        "<a href=\"https://colab.research.google.com/github/jyanivaddi/ERA_V1/blob/master/session_6/S6.ipynb\" target=\"_parent\"><img src=\"https://colab.research.google.com/assets/colab-badge.svg\" alt=\"Open In Colab\"/></a>"
      ]
    },
    {
      "cell_type": "code",
      "execution_count": 1,
      "metadata": {
        "id": "0m2JWFliFfKT"
      },
      "outputs": [],
      "source": [
        "from __future__ import print_function\n",
        "import torch\n",
        "import torch.nn as nn\n",
        "import torch.nn.functional as F\n",
        "import torch.optim as optim\n",
        "from torchvision import datasets, transforms"
      ]
    },
    {
      "cell_type": "code",
      "execution_count": 17,
      "metadata": {
        "id": "h_Cx9q2QFgM7"
      },
      "outputs": [],
      "source": [
        "class Net(nn.Module):\n",
        "    def __init__(self):\n",
        "        super(Net,self).__init__()\n",
        "        self.conv1 = nn.Conv2d(1, 16,kernel_size=3, bias=False)\n",
        "        self.bn1 = nn.BatchNorm2d(16)\n",
        "\n",
        "        self.conv2 = nn.Conv2d(16, 16,kernel_size=3, bias=False)\n",
        "        self.bn2 = nn.BatchNorm2d(16)\n",
        "        \n",
        "        self.conv3 = nn.Conv2d(16, 16,kernel_size=3, bias=False)\n",
        "        self.bn3 = nn.BatchNorm2d(16)\n",
        "        \n",
        "        self.conv4 = nn.Conv2d(16, 16, kernel_size=3, bias=False)\n",
        "        self.bn4 = nn.BatchNorm2d(16)\n",
        "\n",
        "        self.conv5 = nn.Conv2d(16, 16, kernel_size=3, bias=False)\n",
        "        self.bn5 = nn.BatchNorm2d(16)\n",
        "\n",
        "        self.conv6 = nn.Conv2d(16, 16, kernel_size=3, bias=False)\n",
        "        self.bn6 = nn.BatchNorm2d(16)\n",
        "\n",
        "        self.conv7 = nn.Conv2d(16, 16, kernel_size=3, bias=False)\n",
        "        self.bn7 = nn.BatchNorm2d(16)\n",
        "\n",
        "        self.conv8 = nn.Conv2d(16,10, kernel_size=1, bias=False)\n",
        "        self.bn8 = nn.BatchNorm2d(10)\n",
        "        \n",
        "        self.gap = nn.AvgPool2d(4)\n",
        "\n",
        "    def forward(self, x):\n",
        "        x = F.relu(self.conv1(x)) # C1\n",
        "        x = self.bn1(x) # BN1\n",
        "\n",
        "        x = F.relu(self.conv2(x)) # C2\n",
        "        x = self.bn2(x) # BN2\n",
        "        \n",
        "        x = F.relu(self.conv3(x)) # C3\n",
        "        x = self.bn3(x) # BN3\n",
        "        \n",
        "        x = F.relu(self.conv4(x)) # C4\n",
        "        x = self.bn4(x) # BN4\n",
        "\n",
        "        x = F.relu(F.max_pool2d(x,2)) # MP1\n",
        "\n",
        "        x = F.relu(self.conv5(x)) # C5 \n",
        "        x = self.bn5(x) # BN5\n",
        "\n",
        "        x = F.relu(self.conv6(x)) # C6\n",
        "        x = self.bn6(x) # BN6\n",
        "\n",
        "        x = F.relu(self.conv7(x)) # C7 \n",
        "        x = self.bn7(x) # BN7\n",
        "\n",
        "        x = F.relu(self.conv8(x)) # C8 \n",
        "        x = self.bn8(x) # BN8\n",
        "\n",
        "\n",
        "        x = self.gap(x)\n",
        "        x = x.view(-1,10)\n",
        "        return F.log_softmax(x,dim=1)"
      ]
    },
    {
      "cell_type": "code",
      "execution_count": 18,
      "metadata": {
        "id": "xdydjYTZFyi3",
        "outputId": "eda7246e-716f-4fb4-af26-97ced41d5c92",
        "colab": {
          "base_uri": "https://localhost:8080/"
        }
      },
      "outputs": [
        {
          "output_type": "stream",
          "name": "stdout",
          "text": [
            "----------------------------------------------------------------\n",
            "        Layer (type)               Output Shape         Param #\n",
            "================================================================\n",
            "            Conv2d-1           [-1, 16, 26, 26]             144\n",
            "       BatchNorm2d-2           [-1, 16, 26, 26]              32\n",
            "            Conv2d-3           [-1, 16, 24, 24]           2,304\n",
            "       BatchNorm2d-4           [-1, 16, 24, 24]              32\n",
            "            Conv2d-5           [-1, 16, 22, 22]           2,304\n",
            "       BatchNorm2d-6           [-1, 16, 22, 22]              32\n",
            "            Conv2d-7           [-1, 16, 20, 20]           2,304\n",
            "       BatchNorm2d-8           [-1, 16, 20, 20]              32\n",
            "            Conv2d-9             [-1, 16, 8, 8]           2,304\n",
            "      BatchNorm2d-10             [-1, 16, 8, 8]              32\n",
            "           Conv2d-11             [-1, 16, 6, 6]           2,304\n",
            "      BatchNorm2d-12             [-1, 16, 6, 6]              32\n",
            "           Conv2d-13             [-1, 16, 4, 4]           2,304\n",
            "      BatchNorm2d-14             [-1, 16, 4, 4]              32\n",
            "           Conv2d-15             [-1, 10, 4, 4]             160\n",
            "      BatchNorm2d-16             [-1, 10, 4, 4]              20\n",
            "        AvgPool2d-17             [-1, 10, 1, 1]               0\n",
            "================================================================\n",
            "Total params: 14,372\n",
            "Trainable params: 14,372\n",
            "Non-trainable params: 0\n",
            "----------------------------------------------------------------\n",
            "Input size (MB): 0.00\n",
            "Forward/backward pass size (MB): 0.55\n",
            "Params size (MB): 0.05\n",
            "Estimated Total Size (MB): 0.61\n",
            "----------------------------------------------------------------\n"
          ]
        }
      ],
      "source": [
        "from torchsummary import summary\n",
        "use_cuda = torch.cuda.is_available()\n",
        "device = torch.device(\"cuda\" if use_cuda else \"cpu\")\n",
        "model = Net().to(device)\n",
        "summary(model, input_size=(1, 28, 28))"
      ]
    },
    {
      "cell_type": "code",
      "execution_count": 19,
      "metadata": {
        "id": "DqTWLaM5GHgH"
      },
      "outputs": [],
      "source": [
        "torch.manual_seed(1)\n",
        "batch_size = 128\n",
        "\n",
        "kwargs = {'num_workers': 1, 'pin_memory': True} if use_cuda else {}\n",
        "train_loader = torch.utils.data.DataLoader(\n",
        "    datasets.MNIST('../data', train=True, download=True,\n",
        "                    transform=transforms.Compose([\n",
        "                        transforms.ToTensor(),\n",
        "                        transforms.Normalize((0.1307,), (0.3081,))\n",
        "                    ])),\n",
        "    batch_size=batch_size, shuffle=True, **kwargs)\n",
        "test_loader = torch.utils.data.DataLoader(\n",
        "    datasets.MNIST('../data', train=False, transform=transforms.Compose([\n",
        "                        transforms.ToTensor(),\n",
        "                        transforms.Normalize((0.1307,), (0.3081,))\n",
        "                    ])),\n",
        "    batch_size=batch_size, shuffle=True, **kwargs)\n"
      ]
    },
    {
      "cell_type": "code",
      "execution_count": 20,
      "metadata": {
        "id": "8fDefDhaFlwH"
      },
      "outputs": [],
      "source": [
        "from tqdm import tqdm\n",
        "def train(model, device, train_loader, optimizer, epoch, train_acc, train_losses):\n",
        "    model.train()\n",
        "    pbar = tqdm(train_loader)\n",
        "    train_loss = 0\n",
        "    correct = 0\n",
        "    processed = 0\n",
        "    for batch_idx, (data, target) in enumerate(pbar):\n",
        "        data, target = data.to(device), target.to(device)\n",
        "        optimizer.zero_grad()\n",
        "        output = model(data)\n",
        "        loss = F.nll_loss(output, target)\n",
        "        train_loss+=loss.item()\n",
        "        loss.backward()\n",
        "        optimizer.step()\n",
        "        correct+= output.argmax(dim=1).eq(target).sum().item()\n",
        "        processed+= len(data)\n",
        "        pbar.set_description(desc= f'loss={loss.item()} batch_id={batch_idx} Accuracy = {100*correct/processed:0.2f}')\n",
        "\n",
        "    train_acc.append(100*correct/processed)\n",
        "    train_losses.append(train_loss/len(train_loader))\n",
        "\n",
        "\n",
        "def test(model, device, test_loader, test_acc, test_losses):\n",
        "    model.eval()\n",
        "    test_loss = 0\n",
        "    correct = 0\n",
        "    with torch.no_grad():\n",
        "        for data, target in test_loader:\n",
        "            data, target = data.to(device), target.to(device)\n",
        "            output = model(data)\n",
        "            test_loss += F.nll_loss(output, target, reduction='sum').item()  # sum up batch loss\n",
        "            pred = output.argmax(dim=1, keepdim=True)  # get the index of the max log-probability\n",
        "            correct += pred.eq(target.view_as(pred)).sum().item()\n",
        "\n",
        "    test_loss /= len(test_loader.dataset)\n",
        "    test_acc.append(100.*correct/len(test_loader.dataset))\n",
        "\n",
        "    print('\\nTest set: Average loss: {:.4f}, Accuracy: {}/{} ({:.2f}%)\\n'.format(\n",
        "        test_loss, correct, len(test_loader.dataset),\n",
        "        100. * correct / len(test_loader.dataset)))"
      ]
    },
    {
      "cell_type": "code",
      "execution_count": 21,
      "metadata": {
        "id": "MMWbLWO6FuHb",
        "outputId": "f5b38599-a0e3-4226-8e96-8cfffdbea7dc",
        "colab": {
          "base_uri": "https://localhost:8080/"
        }
      },
      "outputs": [
        {
          "output_type": "stream",
          "name": "stdout",
          "text": [
            "Adjusting learning rate of group 0 to 1.0000e-02.\n"
          ]
        },
        {
          "output_type": "stream",
          "name": "stderr",
          "text": [
            "loss=0.08233136683702469 batch_id=468 Accuracy = 95.09: 100%|██████████| 469/469 [00:19<00:00, 24.06it/s]\n"
          ]
        },
        {
          "output_type": "stream",
          "name": "stdout",
          "text": [
            "\n",
            "Test set: Average loss: 0.0747, Accuracy: 9876/10000 (98.76%)\n",
            "\n",
            "Adjusting learning rate of group 0 to 1.0000e-02.\n"
          ]
        },
        {
          "output_type": "stream",
          "name": "stderr",
          "text": [
            "loss=0.04755251482129097 batch_id=468 Accuracy = 98.51: 100%|██████████| 469/469 [00:19<00:00, 24.55it/s]\n"
          ]
        },
        {
          "output_type": "stream",
          "name": "stdout",
          "text": [
            "\n",
            "Test set: Average loss: 0.0538, Accuracy: 9891/10000 (98.91%)\n",
            "\n",
            "Adjusting learning rate of group 0 to 1.0000e-02.\n"
          ]
        },
        {
          "output_type": "stream",
          "name": "stderr",
          "text": [
            "loss=0.06800100952386856 batch_id=468 Accuracy = 98.83: 100%|██████████| 469/469 [00:18<00:00, 25.18it/s]\n"
          ]
        },
        {
          "output_type": "stream",
          "name": "stdout",
          "text": [
            "\n",
            "Test set: Average loss: 0.0350, Accuracy: 9917/10000 (99.17%)\n",
            "\n",
            "Adjusting learning rate of group 0 to 1.0000e-02.\n"
          ]
        },
        {
          "output_type": "stream",
          "name": "stderr",
          "text": [
            "loss=0.04122087359428406 batch_id=468 Accuracy = 98.96: 100%|██████████| 469/469 [00:19<00:00, 24.02it/s]\n"
          ]
        },
        {
          "output_type": "stream",
          "name": "stdout",
          "text": [
            "\n",
            "Test set: Average loss: 0.0405, Accuracy: 9892/10000 (98.92%)\n",
            "\n",
            "Adjusting learning rate of group 0 to 1.0000e-02.\n"
          ]
        },
        {
          "output_type": "stream",
          "name": "stderr",
          "text": [
            "loss=0.03509468212723732 batch_id=468 Accuracy = 99.12: 100%|██████████| 469/469 [00:19<00:00, 24.24it/s]\n"
          ]
        },
        {
          "output_type": "stream",
          "name": "stdout",
          "text": [
            "\n",
            "Test set: Average loss: 0.0307, Accuracy: 9915/10000 (99.15%)\n",
            "\n",
            "Adjusting learning rate of group 0 to 1.0000e-02.\n"
          ]
        },
        {
          "output_type": "stream",
          "name": "stderr",
          "text": [
            "loss=0.037872809916734695 batch_id=468 Accuracy = 99.21: 100%|██████████| 469/469 [00:18<00:00, 24.87it/s]\n"
          ]
        },
        {
          "output_type": "stream",
          "name": "stdout",
          "text": [
            "\n",
            "Test set: Average loss: 0.0289, Accuracy: 9921/10000 (99.21%)\n",
            "\n",
            "Adjusting learning rate of group 0 to 1.0000e-02.\n"
          ]
        },
        {
          "output_type": "stream",
          "name": "stderr",
          "text": [
            "loss=0.022084495052695274 batch_id=468 Accuracy = 99.28: 100%|██████████| 469/469 [00:19<00:00, 23.81it/s]\n"
          ]
        },
        {
          "output_type": "stream",
          "name": "stdout",
          "text": [
            "\n",
            "Test set: Average loss: 0.0301, Accuracy: 9908/10000 (99.08%)\n",
            "\n",
            "Adjusting learning rate of group 0 to 1.0000e-02.\n"
          ]
        },
        {
          "output_type": "stream",
          "name": "stderr",
          "text": [
            "loss=0.02392999641597271 batch_id=468 Accuracy = 99.34: 100%|██████████| 469/469 [00:19<00:00, 24.43it/s]\n"
          ]
        },
        {
          "output_type": "stream",
          "name": "stdout",
          "text": [
            "\n",
            "Test set: Average loss: 0.0291, Accuracy: 9927/10000 (99.27%)\n",
            "\n",
            "Adjusting learning rate of group 0 to 1.0000e-02.\n"
          ]
        },
        {
          "output_type": "stream",
          "name": "stderr",
          "text": [
            "loss=0.0699845552444458 batch_id=468 Accuracy = 99.38: 100%|██████████| 469/469 [00:19<00:00, 23.92it/s]\n"
          ]
        },
        {
          "output_type": "stream",
          "name": "stdout",
          "text": [
            "\n",
            "Test set: Average loss: 0.0221, Accuracy: 9939/10000 (99.39%)\n",
            "\n",
            "Adjusting learning rate of group 0 to 1.0000e-02.\n"
          ]
        },
        {
          "output_type": "stream",
          "name": "stderr",
          "text": [
            "loss=0.02760966308414936 batch_id=468 Accuracy = 99.40: 100%|██████████| 469/469 [00:19<00:00, 23.86it/s]\n"
          ]
        },
        {
          "output_type": "stream",
          "name": "stdout",
          "text": [
            "\n",
            "Test set: Average loss: 0.0268, Accuracy: 9921/10000 (99.21%)\n",
            "\n",
            "Adjusting learning rate of group 0 to 1.0000e-02.\n"
          ]
        },
        {
          "output_type": "stream",
          "name": "stderr",
          "text": [
            "loss=0.008452635258436203 batch_id=468 Accuracy = 99.45: 100%|██████████| 469/469 [00:19<00:00, 24.48it/s]\n"
          ]
        },
        {
          "output_type": "stream",
          "name": "stdout",
          "text": [
            "\n",
            "Test set: Average loss: 0.0318, Accuracy: 9910/10000 (99.10%)\n",
            "\n",
            "Adjusting learning rate of group 0 to 1.0000e-02.\n"
          ]
        },
        {
          "output_type": "stream",
          "name": "stderr",
          "text": [
            "loss=0.007320361211895943 batch_id=468 Accuracy = 99.55: 100%|██████████| 469/469 [00:19<00:00, 23.81it/s]\n"
          ]
        },
        {
          "output_type": "stream",
          "name": "stdout",
          "text": [
            "\n",
            "Test set: Average loss: 0.0252, Accuracy: 9935/10000 (99.35%)\n",
            "\n",
            "Adjusting learning rate of group 0 to 1.0000e-02.\n"
          ]
        },
        {
          "output_type": "stream",
          "name": "stderr",
          "text": [
            "loss=0.08479630947113037 batch_id=468 Accuracy = 99.47: 100%|██████████| 469/469 [00:20<00:00, 23.44it/s]\n"
          ]
        },
        {
          "output_type": "stream",
          "name": "stdout",
          "text": [
            "\n",
            "Test set: Average loss: 0.0232, Accuracy: 9941/10000 (99.41%)\n",
            "\n",
            "Adjusting learning rate of group 0 to 1.0000e-02.\n"
          ]
        },
        {
          "output_type": "stream",
          "name": "stderr",
          "text": [
            "loss=0.011394134722650051 batch_id=468 Accuracy = 99.54: 100%|██████████| 469/469 [00:19<00:00, 23.61it/s]\n"
          ]
        },
        {
          "output_type": "stream",
          "name": "stdout",
          "text": [
            "\n",
            "Test set: Average loss: 0.0229, Accuracy: 9938/10000 (99.38%)\n",
            "\n",
            "Adjusting learning rate of group 0 to 1.0000e-02.\n"
          ]
        },
        {
          "output_type": "stream",
          "name": "stderr",
          "text": [
            "loss=0.006847530137747526 batch_id=468 Accuracy = 99.59: 100%|██████████| 469/469 [00:19<00:00, 24.03it/s]\n"
          ]
        },
        {
          "output_type": "stream",
          "name": "stdout",
          "text": [
            "\n",
            "Test set: Average loss: 0.0241, Accuracy: 9932/10000 (99.32%)\n",
            "\n",
            "Adjusting learning rate of group 0 to 1.0000e-03.\n"
          ]
        },
        {
          "output_type": "stream",
          "name": "stderr",
          "text": [
            "loss=0.03656752035021782 batch_id=468 Accuracy = 99.75: 100%|██████████| 469/469 [00:18<00:00, 24.71it/s]\n"
          ]
        },
        {
          "output_type": "stream",
          "name": "stdout",
          "text": [
            "\n",
            "Test set: Average loss: 0.0194, Accuracy: 9946/10000 (99.46%)\n",
            "\n",
            "Adjusting learning rate of group 0 to 1.0000e-03.\n"
          ]
        },
        {
          "output_type": "stream",
          "name": "stderr",
          "text": [
            "loss=0.0039380271919071674 batch_id=468 Accuracy = 99.80: 100%|██████████| 469/469 [00:19<00:00, 24.27it/s]\n"
          ]
        },
        {
          "output_type": "stream",
          "name": "stdout",
          "text": [
            "\n",
            "Test set: Average loss: 0.0191, Accuracy: 9945/10000 (99.45%)\n",
            "\n",
            "Adjusting learning rate of group 0 to 1.0000e-03.\n"
          ]
        },
        {
          "output_type": "stream",
          "name": "stderr",
          "text": [
            "loss=0.0032746519427746534 batch_id=468 Accuracy = 99.83: 100%|██████████| 469/469 [00:19<00:00, 23.60it/s]\n"
          ]
        },
        {
          "output_type": "stream",
          "name": "stdout",
          "text": [
            "\n",
            "Test set: Average loss: 0.0195, Accuracy: 9943/10000 (99.43%)\n",
            "\n",
            "Adjusting learning rate of group 0 to 1.0000e-03.\n"
          ]
        },
        {
          "output_type": "stream",
          "name": "stderr",
          "text": [
            "loss=0.00876711867749691 batch_id=468 Accuracy = 99.84: 100%|██████████| 469/469 [00:19<00:00, 23.89it/s]\n"
          ]
        },
        {
          "output_type": "stream",
          "name": "stdout",
          "text": [
            "\n",
            "Test set: Average loss: 0.0195, Accuracy: 9947/10000 (99.47%)\n",
            "\n",
            "Adjusting learning rate of group 0 to 1.0000e-03.\n"
          ]
        }
      ],
      "source": [
        "\n",
        "model = Net().to(device)\n",
        "optimizer = optim.SGD(model.parameters(), lr=0.01, momentum=0.9)\n",
        "scheduler = optim.lr_scheduler.StepLR(optimizer, step_size=15, gamma=0.1, verbose=True)\n",
        "train_losses = []\n",
        "test_losses = []\n",
        "train_acc = []\n",
        "test_acc = []\n",
        "for epoch in range(1, 20):\n",
        "    train(model, device, train_loader, optimizer, epoch, train_acc, train_losses)\n",
        "    test(model, device, test_loader, test_acc, test_losses)\n",
        "    scheduler.step()"
      ]
    },
    {
      "cell_type": "code",
      "execution_count": null,
      "metadata": {
        "id": "So5uk4EkHW6R"
      },
      "outputs": [],
      "source": []
    }
  ],
  "metadata": {
    "accelerator": "GPU",
    "colab": {
      "provenance": [],
      "include_colab_link": true
    },
    "kernelspec": {
      "display_name": "Python 3",
      "name": "python3"
    },
    "language_info": {
      "codemirror_mode": {
        "name": "ipython",
        "version": 3
      },
      "file_extension": ".py",
      "mimetype": "text/x-python",
      "name": "python",
      "nbconvert_exporter": "python",
      "pygments_lexer": "ipython3",
      "version": "3.10.6"
    }
  },
  "nbformat": 4,
  "nbformat_minor": 0
}