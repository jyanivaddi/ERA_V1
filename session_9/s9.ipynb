{
  "cells": [
    {
      "cell_type": "code",
      "execution_count": null,
      "metadata": {
        "colab": {
          "base_uri": "https://localhost:8080/"
        },
        "id": "a8J1MOmbqmgC",
        "outputId": "83e6bd31-dc6d-4b96-a68e-c849d29f2a3c"
      },
      "outputs": [],
      "source": [
        "!git clone \"https://github.com/jyanivaddi/ERA_V1.git\"\n",
        "!git pull"
      ]
    },
    {
      "attachments": {},
      "cell_type": "markdown",
      "metadata": {
        "id": "lW3WHIzUqmgF"
      },
      "source": [
        "Add all the imports"
      ]
    },
    {
      "cell_type": "code",
      "execution_count": 2,
      "metadata": {
        "id": "zQ5ZSVQJqmgI"
      },
      "outputs": [],
      "source": [
        "from __future__ import print_function\n",
        "import sys\n",
        "sys.path.append(\"ERA_V1/session_9\")\n",
        "import torch\n",
        "import torch.nn as nn\n",
        "import torch.nn.functional as F\n",
        "import torch.optim as optim\n",
        "from torchvision import transforms\n",
        "import albumentations as A\n",
        "import albumentations.augmentations as AA\n",
        "from albumentations.pytorch import ToTensorV2\n",
        "from cifar10.utils import preview_images, plot_statistics, show_incorrect_predictions, get_incorrect_predictions\n",
        "from cifar10.model import Model_Net, model_summary, model_train, model_test\n",
        "from cifar10.data_loader import load_cifar10_data"
      ]
    },
    {
      "attachments": {},
      "cell_type": "markdown",
      "metadata": {
        "id": "n4AHY0CsqmgL"
      },
      "source": [
        "Allocate GPU"
      ]
    },
    {
      "cell_type": "code",
      "execution_count": 1,
      "metadata": {
        "colab": {
          "base_uri": "https://localhost:8080/"
        },
        "id": "3xmgYQudqmgM",
        "outputId": "90877751-d5e5-419a-9339-7e0cf765666a"
      },
      "outputs": [
        {
          "ename": "NameError",
          "evalue": "name 'torch' is not defined",
          "output_type": "error",
          "traceback": [
            "\u001b[0;31m---------------------------------------------------------------------------\u001b[0m",
            "\u001b[0;31mNameError\u001b[0m                                 Traceback (most recent call last)",
            "Cell \u001b[0;32mIn[1], line 1\u001b[0m\n\u001b[0;32m----> 1\u001b[0m use_cuda \u001b[39m=\u001b[39m torch\u001b[39m.\u001b[39mcuda\u001b[39m.\u001b[39mis_available()\n\u001b[1;32m      2\u001b[0m device \u001b[39m=\u001b[39m torch\u001b[39m.\u001b[39mdevice(\u001b[39m\"\u001b[39m\u001b[39mcuda\u001b[39m\u001b[39m\"\u001b[39m \u001b[39mif\u001b[39;00m use_cuda \u001b[39melse\u001b[39;00m \u001b[39m\"\u001b[39m\u001b[39mcpu\u001b[39m\u001b[39m\"\u001b[39m)\n\u001b[1;32m      3\u001b[0m cifar_10_model \u001b[39m=\u001b[39m Model_Net(base_channels\u001b[39m=\u001b[39m\u001b[39m3\u001b[39m,num_classes\u001b[39m=\u001b[39m\u001b[39m10\u001b[39m)\u001b[39m.\u001b[39mto(device)\n",
            "\u001b[0;31mNameError\u001b[0m: name 'torch' is not defined"
          ]
        }
      ],
      "source": [
        "use_cuda = torch.cuda.is_available()\n",
        "device = torch.device(\"cuda\" if use_cuda else \"cpu\")\n",
        "cifar_10_model = Model_Net(base_channels=3,num_classes=10).to(device)\n",
        "model_summary(cifar_10_model, input_size=(3,32,32))\n",
        "#from torchviz import make_dot\n",
        "#x = torch.zeros(1,3,32,32,dtype=torch.float, requires_grad=False)\n",
        "#y  = cifar_10_model(x)\n",
        "#cifar_model_dot = make_dot(y.mean(), params = dict(list(cifar_10_model.named_parameters())))\n",
        "#cifar_model_dot.format='png'\n",
        "#cifar_model_dot.render(\"model_dot_representation.png\")\n"
      ]
    },
    {
      "attachments": {},
      "cell_type": "markdown",
      "metadata": {
        "id": "el_gf5kqYGR-"
      },
      "source": []
    },
    {
      "attachments": {},
      "cell_type": "markdown",
      "metadata": {
        "id": "eF0JlvTsqmgP"
      },
      "source": [
        "Define Transforms"
      ]
    },
    {
      "cell_type": "code",
      "execution_count": null,
      "metadata": {
        "id": "pI6EVt-jmGp6"
      },
      "outputs": [],
      "source": [
        "train_transforms = A.Compose(\n",
        "    [\n",
        "        A.ShiftScaleRotate(shift_limit = 0.05, scale_limit = 0.05, rotate_limit=10.,p=0.1),\n",
        "        A.HorizontalFlip(p=0.1),\n",
        "        AA.dropout.coarse_dropout.CoarseDropout(max_holes = 1, max_height=16,\n",
        "                                                max_width=16, min_holes = 1,\n",
        "                                                min_height=16, min_width=16,\n",
        "                                                fill_value=(0.491, 0.482, 0.447),\n",
        "                                                mask_fill_value = None),\n",
        "\n",
        "        A.Normalize(mean=(0.491,0.482,0.447),std=(0.247,0.244,0.262)),\n",
        "        ToTensorV2(),\n",
        "    ]\n",
        ")\n",
        "test_transforms = A.Compose([\n",
        "    A.Normalize(mean=(0.491,0.482,0.447),std=(0.247,0.244,0.262)),\n",
        "    ToTensorV2(),\n",
        "])"
      ]
    },
    {
      "attachments": {},
      "cell_type": "markdown",
      "metadata": {
        "id": "D6f-Ko64qmgU"
      },
      "source": [
        "Define train and test loaders"
      ]
    },
    {
      "cell_type": "code",
      "execution_count": null,
      "metadata": {
        "colab": {
          "base_uri": "https://localhost:8080/"
        },
        "id": "Z8mQv0iUqmgV",
        "outputId": "bb960ab5-25c0-4df1-bd8a-c3b41d6b6a2a"
      },
      "outputs": [],
      "source": [
        "torch.manual_seed(1)\n",
        "batch_size = 64\n",
        "kwargs = {'num_workers': 2, 'pin_memory': True} if use_cuda else {}\n",
        "train_loader, test_loader, class_names = load_cifar10_data(train_transforms, test_transforms, batch_size, **kwargs)"
      ]
    },
    {
      "attachments": {},
      "cell_type": "markdown",
      "metadata": {
        "id": "RQB2RLRxtSlv"
      },
      "source": [
        "Show sample Images from the dataset"
      ]
    },
    {
      "cell_type": "code",
      "execution_count": null,
      "metadata": {
        "colab": {
          "base_uri": "https://localhost:8080/",
          "height": 660
        },
        "id": "DjjB363XqmgW",
        "outputId": "148382e9-8d6e-4ede-dd1c-66c636054108"
      },
      "outputs": [],
      "source": [
        "preview_images(train_loader,class_names, num_rows = 5, num_cols = 5)"
      ]
    },
    {
      "attachments": {},
      "cell_type": "markdown",
      "metadata": {
        "id": "FCSVRbYZmmOG"
      },
      "source": [
        "Train model using Batch Normalization"
      ]
    },
    {
      "cell_type": "code",
      "execution_count": null,
      "metadata": {
        "colab": {
          "base_uri": "https://localhost:8080/"
        },
        "id": "ysHqVyhGZJ27",
        "outputId": "2052ae69-74d1-490a-8e7f-208a803bdbbc"
      },
      "outputs": [],
      "source": [
        "drop_out = 0.02\n",
        "num_epochs=30\n",
        "model_bn = Model_Net(base_channels=3, num_classes=10, drop_out = drop_out).to(device)\n",
        "optimizer = optim.SGD(model_bn.parameters(), lr=0.01, momentum=0.9)\n",
        "scheduler = optim.lr_scheduler.ReduceLROnPlateau(optimizer, mode='min', factor=0.1, patience=4, threshold=0.1,verbose=True)\n",
        "train_losses_bn = []\n",
        "test_losses_bn = []\n",
        "train_acc_bn = []\n",
        "test_acc_bn = []\n",
        "\n",
        "for epoch in range(1,num_epochs+1):\n",
        "    print(f\"epoch: {epoch}\")\n",
        "    this_train_loss = model_train(model_bn, device, train_loader, optimizer, train_acc_bn, train_losses_bn)\n",
        "    this_loss = model_test(model_bn, device, test_loader, test_acc_bn, test_losses_bn)\n",
        "    scheduler.step(this_loss)\n",
        "target_test_acc = 85.\n"
      ]
    },
    {
      "attachments": {},
      "cell_type": "markdown",
      "metadata": {
        "id": "MWzELTZYazCZ"
      },
      "source": [
        "Plot results for Batch Norm experiment"
      ]
    },
    {
      "cell_type": "code",
      "execution_count": null,
      "metadata": {
        "colab": {
          "base_uri": "https://localhost:8080/",
          "height": 1000
        },
        "id": "OEU2V5lxayQJ",
        "outputId": "0fc569e5-00a1-4338-e12f-81805aa41e97"
      },
      "outputs": [],
      "source": [
        "plot_statistics(train_losses_bn, train_acc_bn, test_losses_bn, test_acc_bn, target_test_acc)\n",
        "incorrect_predictions_bn = get_incorrect_predictions(model_bn, test_loader, device)\n",
        "show_incorrect_predictions(incorrect_predictions_bn, class_names, num_rows = 2, num_cols = 5)"
      ]
    }
  ],
  "metadata": {
    "accelerator": "GPU",
    "colab": {
      "gpuType": "T4",
      "provenance": []
    },
    "kernelspec": {
      "display_name": "Python 3",
      "name": "python3"
    },
    "language_info": {
      "codemirror_mode": {
        "name": "ipython",
        "version": 3
      },
      "file_extension": ".py",
      "mimetype": "text/x-python",
      "name": "python",
      "nbconvert_exporter": "python",
      "pygments_lexer": "ipython3",
      "version": "3.10.6"
    },
    "orig_nbformat": 4
  },
  "nbformat": 4,
  "nbformat_minor": 0
}
