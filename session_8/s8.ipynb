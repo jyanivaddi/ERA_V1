{
  "cells": [
    {
      "cell_type": "code",
      "execution_count": 1,
      "metadata": {
        "colab": {
          "base_uri": "https://localhost:8080/"
        },
        "id": "a8J1MOmbqmgC",
        "outputId": "ba278475-2962-4691-ab2c-9ce3130b5de8"
      },
      "outputs": [
        {
          "output_type": "stream",
          "name": "stdout",
          "text": [
            "fatal: destination path 'ERA_V1' already exists and is not an empty directory.\n",
            "fatal: not a git repository (or any of the parent directories): .git\n"
          ]
        }
      ],
      "source": [
        "!git clone \"https://github.com/jyanivaddi/ERA_V1.git\"\n",
        "!git pull"
      ]
    },
    {
      "cell_type": "markdown",
      "metadata": {
        "id": "lW3WHIzUqmgF"
      },
      "source": [
        "Add all the imports"
      ]
    },
    {
      "cell_type": "code",
      "execution_count": 2,
      "metadata": {
        "id": "zQ5ZSVQJqmgI"
      },
      "outputs": [],
      "source": [
        "from __future__ import print_function\n",
        "import sys\n",
        "sys.path.append(\"ERA_V1/session_8\")\n",
        "import torch\n",
        "import torch.nn as nn\n",
        "import torch.nn.functional as F\n",
        "import torch.optim as optim\n",
        "from torchvision import transforms\n",
        "from s8_utils import load_cifar10_data, preview_images, plot_statistics, show_incorrect_predictions, get_incorrect_predictions\n",
        "from s8_model import Model_Net, model_summary, model_train, model_test"
      ]
    },
    {
      "cell_type": "markdown",
      "metadata": {
        "id": "n4AHY0CsqmgL"
      },
      "source": [
        "Allocate GPU"
      ]
    },
    {
      "cell_type": "code",
      "execution_count": 3,
      "metadata": {
        "colab": {
          "base_uri": "https://localhost:8080/"
        },
        "id": "3xmgYQudqmgM",
        "outputId": "00146234-6fe6-4a73-e93b-168a862119fe"
      },
      "outputs": [
        {
          "output_type": "stream",
          "name": "stdout",
          "text": [
            "cuda\n",
            "----------------------------------------------------------------\n",
            "        Layer (type)               Output Shape         Param #\n",
            "================================================================\n",
            "            Conv2d-1           [-1, 16, 32, 32]             432\n",
            "         GroupNorm-2           [-1, 16, 32, 32]              32\n",
            "              ReLU-3           [-1, 16, 32, 32]               0\n",
            "           Dropout-4           [-1, 16, 32, 32]               0\n",
            "            Conv2d-5           [-1, 16, 32, 32]           2,304\n",
            "         GroupNorm-6           [-1, 16, 32, 32]              32\n",
            "              ReLU-7           [-1, 16, 32, 32]               0\n",
            "           Dropout-8           [-1, 16, 32, 32]               0\n",
            "            Conv2d-9           [-1, 16, 32, 32]             256\n",
            "        GroupNorm-10           [-1, 16, 32, 32]              32\n",
            "             ReLU-11           [-1, 16, 32, 32]               0\n",
            "          Dropout-12           [-1, 16, 32, 32]               0\n",
            "        MaxPool2d-13           [-1, 16, 16, 16]               0\n",
            "           Conv2d-14           [-1, 16, 16, 16]           2,304\n",
            "        GroupNorm-15           [-1, 16, 16, 16]              32\n",
            "             ReLU-16           [-1, 16, 16, 16]               0\n",
            "          Dropout-17           [-1, 16, 16, 16]               0\n",
            "           Conv2d-18           [-1, 16, 16, 16]           2,304\n",
            "        GroupNorm-19           [-1, 16, 16, 16]              32\n",
            "             ReLU-20           [-1, 16, 16, 16]               0\n",
            "          Dropout-21           [-1, 16, 16, 16]               0\n",
            "           Conv2d-22           [-1, 16, 16, 16]           2,304\n",
            "        GroupNorm-23           [-1, 16, 16, 16]              32\n",
            "             ReLU-24           [-1, 16, 16, 16]               0\n",
            "          Dropout-25           [-1, 16, 16, 16]               0\n",
            "           Conv2d-26           [-1, 32, 16, 16]             512\n",
            "        GroupNorm-27           [-1, 32, 16, 16]              64\n",
            "             ReLU-28           [-1, 32, 16, 16]               0\n",
            "          Dropout-29           [-1, 32, 16, 16]               0\n",
            "        MaxPool2d-30             [-1, 32, 8, 8]               0\n",
            "           Conv2d-31             [-1, 32, 8, 8]           9,216\n",
            "        GroupNorm-32             [-1, 32, 8, 8]              64\n",
            "             ReLU-33             [-1, 32, 8, 8]               0\n",
            "          Dropout-34             [-1, 32, 8, 8]               0\n",
            "           Conv2d-35             [-1, 32, 8, 8]           9,216\n",
            "        GroupNorm-36             [-1, 32, 8, 8]              64\n",
            "             ReLU-37             [-1, 32, 8, 8]               0\n",
            "          Dropout-38             [-1, 32, 8, 8]               0\n",
            "           Conv2d-39             [-1, 32, 8, 8]           9,216\n",
            "        GroupNorm-40             [-1, 32, 8, 8]              64\n",
            "             ReLU-41             [-1, 32, 8, 8]               0\n",
            "          Dropout-42             [-1, 32, 8, 8]               0\n",
            "AdaptiveAvgPool2d-43             [-1, 32, 1, 1]               0\n",
            "           Conv2d-44             [-1, 10, 1, 1]             320\n",
            "================================================================\n",
            "Total params: 38,832\n",
            "Trainable params: 38,832\n",
            "Non-trainable params: 0\n",
            "----------------------------------------------------------------\n",
            "Input size (MB): 0.01\n",
            "Forward/backward pass size (MB): 2.36\n",
            "Params size (MB): 0.15\n",
            "Estimated Total Size (MB): 2.52\n",
            "----------------------------------------------------------------\n"
          ]
        },
        {
          "output_type": "stream",
          "name": "stderr",
          "text": [
            "/content/ERA_V1/session_8/s8_model.py:199: UserWarning: Implicit dimension choice for log_softmax has been deprecated. Change the call to include dim=X as an argument.\n",
            "  return F.log_softmax(x)\n"
          ]
        }
      ],
      "source": [
        "use_cuda = torch.cuda.is_available()\n",
        "device = torch.device(\"cuda\" if use_cuda else \"cpu\")\n",
        "print(device)\n",
        "cifar_10_model = Model_Net(norm_type = 'group_norm', num_groups = 2).to(device)\n",
        "model_summary(cifar_10_model, input_size=(3,32,32))"
      ]
    },
    {
      "cell_type": "markdown",
      "metadata": {
        "id": "el_gf5kqYGR-"
      },
      "source": []
    },
    {
      "cell_type": "markdown",
      "metadata": {
        "id": "eF0JlvTsqmgP"
      },
      "source": [
        "Define Transforms"
      ]
    },
    {
      "cell_type": "code",
      "execution_count": 4,
      "metadata": {
        "id": "hzPjTF_ZqmgQ"
      },
      "outputs": [],
      "source": [
        "train_transforms = transforms.Compose([\n",
        "    transforms.ToTensor(),\n",
        "    transforms.RandomHorizontalFlip(p=0.1),\n",
        "    transforms.RandomResizedCrop(size=(32, 32),antialias=True),\n",
        "    transforms.Normalize((0.491, 0.482, 0.447), (0.247, 0.244, 0.262))\n",
        "])\n",
        "test_transforms = transforms.Compose([\n",
        "    transforms.ToTensor(),\n",
        "    transforms.Normalize((0.491, 0.482, 0.447), (0.247, 0.244, 0.262))\n",
        "])"
      ]
    },
    {
      "cell_type": "markdown",
      "metadata": {
        "id": "UvBUHxXlqmgR"
      },
      "source": [
        "Download Data"
      ]
    },
    {
      "cell_type": "code",
      "execution_count": 5,
      "metadata": {
        "colab": {
          "base_uri": "https://localhost:8080/"
        },
        "id": "nZPaylEkqmgS",
        "outputId": "a1e85bcc-f693-4e5d-8b39-a1d8d0f7fd09"
      },
      "outputs": [
        {
          "output_type": "stream",
          "name": "stdout",
          "text": [
            "Files already downloaded and verified\n",
            "Files already downloaded and verified\n"
          ]
        }
      ],
      "source": [
        "train_data, test_data, class_names = load_cifar10_data(train_transforms, test_transforms)"
      ]
    },
    {
      "cell_type": "markdown",
      "metadata": {
        "id": "D6f-Ko64qmgU"
      },
      "source": [
        "Define train and test loaders"
      ]
    },
    {
      "cell_type": "code",
      "execution_count": 6,
      "metadata": {
        "id": "Z8mQv0iUqmgV"
      },
      "outputs": [],
      "source": [
        "torch.manual_seed(1)\n",
        "batch_size = 128\n",
        "kwargs = {'num_workers': 2, 'pin_memory': True} if use_cuda else {}\n",
        "train_loader = torch.utils.data.DataLoader(train_data, batch_size=batch_size, shuffle = True, **kwargs)\n",
        "test_loader = torch.utils.data.DataLoader(test_data, batch_size = batch_size, shuffle = True, **kwargs)"
      ]
    },
    {
      "cell_type": "markdown",
      "metadata": {
        "id": "q6gJu4mQqmgV"
      },
      "source": [
        "Calculate Mean and Std of dataset"
      ]
    },
    {
      "cell_type": "code",
      "execution_count": 7,
      "metadata": {
        "colab": {
          "base_uri": "https://localhost:8080/"
        },
        "id": "AjbfdosktSlu",
        "outputId": "209f2f19-a179-4d73-bb94-6c2d3b056f10"
      },
      "outputs": [
        {
          "output_type": "stream",
          "name": "stderr",
          "text": [
            "100%|██████████| 79/79 [00:05<00:00, 13.96it/s]"
          ]
        },
        {
          "output_type": "stream",
          "name": "stdout",
          "text": [
            "dataset mean: 0.013, 0.014, 0.015\n",
            "dataset std: 1.005, 1.002, 1.004\n"
          ]
        },
        {
          "output_type": "stream",
          "name": "stderr",
          "text": [
            "\n"
          ]
        }
      ],
      "source": [
        "from tqdm import tqdm\n",
        "import numpy as np\n",
        "mean_r = 0\n",
        "mean_g = 0\n",
        "mean_b = 0\n",
        "\n",
        "std_r = 0\n",
        "std_g = 0\n",
        "std_b = 0\n",
        "loader_for_stats = test_loader\n",
        "for img,_ in tqdm(loader_for_stats):\n",
        "    img = np.asarray(img)\n",
        "    # calculate Mean of Normalized dataset\n",
        "    mean_r += np.mean(img[:,0,:,:])\n",
        "    mean_g += np.mean(img[:,1,:,:])\n",
        "    mean_b += np.mean(img[:,2,:,:])\n",
        "    # calculate std of Normalized dataset\n",
        "    std_r += np.var(img[:,0,:,:])\n",
        "    std_g += np.var(img[:,1,:,:])\n",
        "    std_b += np.var(img[:,2,:,:])\n",
        "mean_r = mean_r / len(loader_for_stats)\n",
        "mean_g = mean_g / len(loader_for_stats)\n",
        "mean_b = mean_b / len(loader_for_stats)\n",
        "std_r = np.sqrt(((1./(len(loader_for_stats)-1))*std_r))\n",
        "std_g = np.sqrt(((1./(len(loader_for_stats)-1))*std_g))\n",
        "std_b = np.sqrt(((1./(len(loader_for_stats)-1))*std_b))\n",
        "print(f\"dataset mean: {mean_r:0.3f}, {mean_g:0.3f}, {mean_b:0.3f}\")\n",
        "print(f\"dataset std: {std_r:0.3f}, {std_g:0.3f}, {std_b:0.3f}\")\n"
      ]
    },
    {
      "cell_type": "markdown",
      "metadata": {
        "id": "RQB2RLRxtSlv"
      },
      "source": [
        "Show sample Images"
      ]
    },
    {
      "cell_type": "code",
      "execution_count": 8,
      "metadata": {
        "colab": {
          "base_uri": "https://localhost:8080/",
          "height": 917
        },
        "id": "DjjB363XqmgW",
        "outputId": "f374c823-4edf-41fa-e65e-9585078f9048"
      },
      "outputs": [
        {
          "output_type": "stream",
          "name": "stderr",
          "text": [
            "WARNING:matplotlib.image:Clipping input data to the valid range for imshow with RGB data ([0..1] for floats or [0..255] for integers).\n",
            "WARNING:matplotlib.image:Clipping input data to the valid range for imshow with RGB data ([0..1] for floats or [0..255] for integers).\n",
            "WARNING:matplotlib.image:Clipping input data to the valid range for imshow with RGB data ([0..1] for floats or [0..255] for integers).\n",
            "WARNING:matplotlib.image:Clipping input data to the valid range for imshow with RGB data ([0..1] for floats or [0..255] for integers).\n",
            "WARNING:matplotlib.image:Clipping input data to the valid range for imshow with RGB data ([0..1] for floats or [0..255] for integers).\n",
            "WARNING:matplotlib.image:Clipping input data to the valid range for imshow with RGB data ([0..1] for floats or [0..255] for integers).\n",
            "WARNING:matplotlib.image:Clipping input data to the valid range for imshow with RGB data ([0..1] for floats or [0..255] for integers).\n",
            "WARNING:matplotlib.image:Clipping input data to the valid range for imshow with RGB data ([0..1] for floats or [0..255] for integers).\n",
            "WARNING:matplotlib.image:Clipping input data to the valid range for imshow with RGB data ([0..1] for floats or [0..255] for integers).\n",
            "WARNING:matplotlib.image:Clipping input data to the valid range for imshow with RGB data ([0..1] for floats or [0..255] for integers).\n",
            "WARNING:matplotlib.image:Clipping input data to the valid range for imshow with RGB data ([0..1] for floats or [0..255] for integers).\n",
            "WARNING:matplotlib.image:Clipping input data to the valid range for imshow with RGB data ([0..1] for floats or [0..255] for integers).\n",
            "WARNING:matplotlib.image:Clipping input data to the valid range for imshow with RGB data ([0..1] for floats or [0..255] for integers).\n",
            "WARNING:matplotlib.image:Clipping input data to the valid range for imshow with RGB data ([0..1] for floats or [0..255] for integers).\n",
            "WARNING:matplotlib.image:Clipping input data to the valid range for imshow with RGB data ([0..1] for floats or [0..255] for integers).\n",
            "WARNING:matplotlib.image:Clipping input data to the valid range for imshow with RGB data ([0..1] for floats or [0..255] for integers).\n",
            "WARNING:matplotlib.image:Clipping input data to the valid range for imshow with RGB data ([0..1] for floats or [0..255] for integers).\n",
            "WARNING:matplotlib.image:Clipping input data to the valid range for imshow with RGB data ([0..1] for floats or [0..255] for integers).\n",
            "WARNING:matplotlib.image:Clipping input data to the valid range for imshow with RGB data ([0..1] for floats or [0..255] for integers).\n",
            "WARNING:matplotlib.image:Clipping input data to the valid range for imshow with RGB data ([0..1] for floats or [0..255] for integers).\n",
            "WARNING:matplotlib.image:Clipping input data to the valid range for imshow with RGB data ([0..1] for floats or [0..255] for integers).\n",
            "WARNING:matplotlib.image:Clipping input data to the valid range for imshow with RGB data ([0..1] for floats or [0..255] for integers).\n",
            "WARNING:matplotlib.image:Clipping input data to the valid range for imshow with RGB data ([0..1] for floats or [0..255] for integers).\n",
            "WARNING:matplotlib.image:Clipping input data to the valid range for imshow with RGB data ([0..1] for floats or [0..255] for integers).\n",
            "WARNING:matplotlib.image:Clipping input data to the valid range for imshow with RGB data ([0..1] for floats or [0..255] for integers).\n"
          ]
        },
        {
          "output_type": "display_data",
          "data": {
            "text/plain": [
              "<Figure size 640x480 with 25 Axes>"
            ],
            "image/png": "[encoded data removed]"
          },
          "metadata": {}
        }
      ],
      "source": [
        "preview_images(train_loader,class_names, num_rows = 5, num_cols = 5)"
      ]
    },
    {
      "cell_type": "markdown",
      "source": [
        "Train model using Batch Normalization"
      ],
      "metadata": {
        "id": "FCSVRbYZmmOG"
      }
    },
    {
      "cell_type": "code",
      "execution_count": 9,
      "metadata": {
        "id": "ysHqVyhGZJ27",
        "outputId": "59aca144-ed73-4c78-b700-794eac0902f4",
        "colab": {
          "base_uri": "https://localhost:8080/"
        }
      },
      "outputs": [
        {
          "output_type": "stream",
          "name": "stdout",
          "text": [
            "epoch: 1\n"
          ]
        },
        {
          "output_type": "stream",
          "name": "stderr",
          "text": [
            "loss=1.7051082849502563 batch_id=390 Accuracy = 30.12: 100%|██████████| 391/391 [00:30<00:00, 12.86it/s]\n"
          ]
        },
        {
          "output_type": "stream",
          "name": "stdout",
          "text": [
            "\n",
            "Test set: Average loss: 1.5965, Accuracy: 3950/10000 (39.50%)\n",
            "\n",
            "epoch: 2\n"
          ]
        },
        {
          "output_type": "stream",
          "name": "stderr",
          "text": [
            "loss=1.6042181253433228 batch_id=390 Accuracy = 41.27: 100%|██████████| 391/391 [00:29<00:00, 13.39it/s]\n"
          ]
        },
        {
          "output_type": "stream",
          "name": "stdout",
          "text": [
            "\n",
            "Test set: Average loss: 1.5713, Accuracy: 4361/10000 (43.61%)\n",
            "\n",
            "epoch: 3\n"
          ]
        },
        {
          "output_type": "stream",
          "name": "stderr",
          "text": [
            "loss=1.7360528707504272 batch_id=390 Accuracy = 45.72: 100%|██████████| 391/391 [00:30<00:00, 12.74it/s]\n"
          ]
        },
        {
          "output_type": "stream",
          "name": "stdout",
          "text": [
            "\n",
            "Test set: Average loss: 1.3431, Accuracy: 5234/10000 (52.34%)\n",
            "\n",
            "epoch: 4\n"
          ]
        },
        {
          "output_type": "stream",
          "name": "stderr",
          "text": [
            "loss=1.38191819190979 batch_id=390 Accuracy = 48.99: 100%|██████████| 391/391 [00:29<00:00, 13.06it/s]\n"
          ]
        },
        {
          "output_type": "stream",
          "name": "stdout",
          "text": [
            "\n",
            "Test set: Average loss: 1.1859, Accuracy: 5738/10000 (57.38%)\n",
            "\n",
            "epoch: 5\n"
          ]
        },
        {
          "output_type": "stream",
          "name": "stderr",
          "text": [
            "loss=1.4579508304595947 batch_id=390 Accuracy = 51.36: 100%|██████████| 391/391 [00:30<00:00, 12.99it/s]\n"
          ]
        },
        {
          "output_type": "stream",
          "name": "stdout",
          "text": [
            "\n",
            "Test set: Average loss: 1.3182, Accuracy: 5332/10000 (53.32%)\n",
            "\n",
            "epoch: 6\n"
          ]
        },
        {
          "output_type": "stream",
          "name": "stderr",
          "text": [
            "loss=1.2127187252044678 batch_id=390 Accuracy = 52.63: 100%|██████████| 391/391 [00:29<00:00, 13.11it/s]\n"
          ]
        },
        {
          "output_type": "stream",
          "name": "stdout",
          "text": [
            "\n",
            "Test set: Average loss: 1.1855, Accuracy: 5762/10000 (57.62%)\n",
            "\n",
            "epoch: 7\n"
          ]
        },
        {
          "output_type": "stream",
          "name": "stderr",
          "text": [
            "loss=1.2246122360229492 batch_id=390 Accuracy = 53.80: 100%|██████████| 391/391 [00:30<00:00, 12.70it/s]\n"
          ]
        },
        {
          "output_type": "stream",
          "name": "stdout",
          "text": [
            "\n",
            "Test set: Average loss: 1.1394, Accuracy: 5946/10000 (59.46%)\n",
            "\n",
            "epoch: 8\n"
          ]
        },
        {
          "output_type": "stream",
          "name": "stderr",
          "text": [
            "loss=1.348368763923645 batch_id=390 Accuracy = 54.98: 100%|██████████| 391/391 [00:29<00:00, 13.32it/s]\n"
          ]
        },
        {
          "output_type": "stream",
          "name": "stdout",
          "text": [
            "\n",
            "Test set: Average loss: 1.1285, Accuracy: 5987/10000 (59.87%)\n",
            "\n",
            "epoch: 9\n"
          ]
        },
        {
          "output_type": "stream",
          "name": "stderr",
          "text": [
            "loss=1.4522899389266968 batch_id=390 Accuracy = 55.82: 100%|██████████| 391/391 [00:29<00:00, 13.26it/s]\n"
          ]
        },
        {
          "output_type": "stream",
          "name": "stdout",
          "text": [
            "\n",
            "Test set: Average loss: 1.3491, Accuracy: 5404/10000 (54.04%)\n",
            "\n",
            "epoch: 10\n"
          ]
        },
        {
          "output_type": "stream",
          "name": "stderr",
          "text": [
            "loss=1.0893617868423462 batch_id=390 Accuracy = 56.83: 100%|██████████| 391/391 [00:29<00:00, 13.36it/s]\n"
          ]
        },
        {
          "output_type": "stream",
          "name": "stdout",
          "text": [
            "\n",
            "Test set: Average loss: 1.0328, Accuracy: 6368/10000 (63.68%)\n",
            "\n",
            "epoch: 11\n"
          ]
        },
        {
          "output_type": "stream",
          "name": "stderr",
          "text": [
            "loss=1.129638671875 batch_id=390 Accuracy = 57.51: 100%|██████████| 391/391 [00:30<00:00, 12.75it/s]\n"
          ]
        },
        {
          "output_type": "stream",
          "name": "stdout",
          "text": [
            "\n",
            "Test set: Average loss: 0.9906, Accuracy: 6560/10000 (65.60%)\n",
            "\n",
            "epoch: 12\n"
          ]
        },
        {
          "output_type": "stream",
          "name": "stderr",
          "text": [
            "loss=1.1120285987854004 batch_id=390 Accuracy = 58.32: 100%|██████████| 391/391 [00:30<00:00, 12.91it/s]\n"
          ]
        },
        {
          "output_type": "stream",
          "name": "stdout",
          "text": [
            "\n",
            "Test set: Average loss: 1.1428, Accuracy: 6103/10000 (61.03%)\n",
            "\n",
            "epoch: 13\n"
          ]
        },
        {
          "output_type": "stream",
          "name": "stderr",
          "text": [
            "loss=1.0376092195510864 batch_id=390 Accuracy = 58.71: 100%|██████████| 391/391 [00:29<00:00, 13.30it/s]\n"
          ]
        },
        {
          "output_type": "stream",
          "name": "stdout",
          "text": [
            "\n",
            "Test set: Average loss: 0.9978, Accuracy: 6489/10000 (64.89%)\n",
            "\n",
            "epoch: 14\n"
          ]
        },
        {
          "output_type": "stream",
          "name": "stderr",
          "text": [
            "loss=1.1370338201522827 batch_id=390 Accuracy = 59.69: 100%|██████████| 391/391 [00:29<00:00, 13.15it/s]\n"
          ]
        },
        {
          "output_type": "stream",
          "name": "stdout",
          "text": [
            "\n",
            "Test set: Average loss: 0.9262, Accuracy: 6786/10000 (67.86%)\n",
            "\n",
            "epoch: 15\n"
          ]
        },
        {
          "output_type": "stream",
          "name": "stderr",
          "text": [
            "loss=1.0757882595062256 batch_id=390 Accuracy = 59.71: 100%|██████████| 391/391 [00:29<00:00, 13.41it/s]\n"
          ]
        },
        {
          "output_type": "stream",
          "name": "stdout",
          "text": [
            "\n",
            "Test set: Average loss: 0.9112, Accuracy: 6776/10000 (67.76%)\n",
            "\n",
            "epoch: 16\n"
          ]
        },
        {
          "output_type": "stream",
          "name": "stderr",
          "text": [
            "loss=1.3686985969543457 batch_id=390 Accuracy = 60.41: 100%|██████████| 391/391 [00:29<00:00, 13.30it/s]\n"
          ]
        },
        {
          "output_type": "stream",
          "name": "stdout",
          "text": [
            "\n",
            "Test set: Average loss: 0.9477, Accuracy: 6698/10000 (66.98%)\n",
            "\n",
            "epoch: 17\n"
          ]
        },
        {
          "output_type": "stream",
          "name": "stderr",
          "text": [
            "loss=0.9773748517036438 batch_id=390 Accuracy = 60.76: 100%|██████████| 391/391 [00:29<00:00, 13.39it/s]\n"
          ]
        },
        {
          "output_type": "stream",
          "name": "stdout",
          "text": [
            "\n",
            "Test set: Average loss: 0.9950, Accuracy: 6610/10000 (66.10%)\n",
            "\n",
            "epoch: 18\n"
          ]
        },
        {
          "output_type": "stream",
          "name": "stderr",
          "text": [
            "loss=1.1075856685638428 batch_id=390 Accuracy = 60.77: 100%|██████████| 391/391 [00:31<00:00, 12.24it/s]\n"
          ]
        },
        {
          "output_type": "stream",
          "name": "stdout",
          "text": [
            "\n",
            "Test set: Average loss: 0.8604, Accuracy: 6940/10000 (69.40%)\n",
            "\n",
            "epoch: 19\n"
          ]
        },
        {
          "output_type": "stream",
          "name": "stderr",
          "text": [
            "loss=1.111074686050415 batch_id=390 Accuracy = 61.66: 100%|██████████| 391/391 [00:32<00:00, 12.15it/s]\n"
          ]
        },
        {
          "output_type": "stream",
          "name": "stdout",
          "text": [
            "\n",
            "Test set: Average loss: 0.8755, Accuracy: 7008/10000 (70.08%)\n",
            "\n"
          ]
        }
      ],
      "source": [
        "model_bn = Model_Net(norm_type='batch_norm').to(device)\n",
        "optimizer = optim.SGD(model_bn.parameters(), lr=0.01, momentum=0.9)\n",
        "#scheduler = optim.lr_scheduler.StepLR(optimizer, step_size=8, gamma=0.1, verbose=True)\n",
        "#scheduler = optim.lr_scheduler.ReduceLROnPlateau(optimizer, 'min', verbose=True)\n",
        "train_losses_bn = []\n",
        "test_losses_bn = []\n",
        "train_acc_bn = []\n",
        "test_acc_bn = []\n",
        "for epoch in range(1,20):\n",
        "    print(f\"epoch: {epoch}\")\n",
        "    this_train_loss = model_train(model_bn, device, train_loader, optimizer, train_acc_bn, train_losses_bn)\n",
        "    this_loss = model_test(model_bn, device, test_loader, test_acc_bn, test_losses_bn)\n",
        "    #scheduler.step()\n",
        "    #print(optimizer.)\n",
        "target_test_acc = 70.\n",
        "#plot_statistics(train_losses_bn, train_acc_bn, test_losses_bn, test_acc_bn, target_test_acc)\n",
        "#incorrect_predictions_bn = get_incorrect_predictions(model_bn, test_loader, device)\n",
        "#show_incorrect_predictions(incorrect_predictions_bn, class_names, num_rows = 2, num_cols = 5)\n"
      ]
    },
    {
      "cell_type": "markdown",
      "source": [
        "Plot results for Batch Norm experiment"
      ],
      "metadata": {
        "id": "MWzELTZYazCZ"
      }
    },
    {
      "cell_type": "code",
      "source": [
        "#plot_statistics(train_losses_bn, train_acc_bn, test_losses_bn, test_acc_bn, target_test_acc)\n",
        "#incorrect_predictions_bn = get_incorrect_predictions(model_bn, test_loader, device)\n",
        "#show_incorrect_predictions(incorrect_predictions_bn, class_names, num_rows = 2, num_cols = 5)"
      ],
      "metadata": {
        "id": "OEU2V5lxayQJ"
      },
      "execution_count": 10,
      "outputs": []
    },
    {
      "cell_type": "markdown",
      "metadata": {
        "id": "vnjpvm_4ZFXc"
      },
      "source": [
        "Train Model using Layer Normalization"
      ]
    },
    {
      "cell_type": "code",
      "source": [
        "model_ln = Model_Net(norm_type='layer_norm').to(device)\n",
        "optimizer_ln = optim.SGD(model_ln.parameters(), lr=0.01, momentum=0.9)\n",
        "#scheduler = optim.lr_scheduler.StepLR(optimizer, step_size=8, gamma=0.1, verbose=True)\n",
        "#scheduler = optim.lr_scheduler.ReduceLROnPlateau(optimizer, 'min', verbose=True)\n",
        "scheduler_ln = optim.lr_scheduler.ReduceLROnPlateau(optimizer_ln, mode='min', factor=0.1, patience=2, threshold=0.001, threshold_mode='rel', cooldown=0, min_lr=0, eps=1e-08, verbose=True)\n",
        "train_losses_ln = []\n",
        "test_losses_ln = []\n",
        "train_acc_ln = []\n",
        "test_acc_ln = []\n",
        "for epoch in range(1,20):\n",
        "    print(f\"epoch: {epoch}\")\n",
        "    this_train_loss = model_train(model_ln, device, train_loader, optimizer_ln, train_acc_ln, train_losses_ln)\n",
        "    this_loss = model_test(model_ln, device, test_loader, test_acc_ln, test_losses_ln)\n",
        "    scheduler_ln.step(this_loss)\n",
        "    #print(optimizer.)\n",
        "target_test_acc = 70.\n",
        "\n"
      ],
      "metadata": {
        "id": "eRBlwrmcm9A7",
        "outputId": "90d5bee5-3d08-48a8-ea56-dc68533e825b",
        "colab": {
          "base_uri": "https://localhost:8080/"
        }
      },
      "execution_count": 12,
      "outputs": [
        {
          "output_type": "stream",
          "name": "stdout",
          "text": [
            "epoch: 1\n"
          ]
        },
        {
          "output_type": "stream",
          "name": "stderr",
          "text": [
            "  0%|          | 0/391 [00:00<?, ?it/s]/content/ERA_V1/session_8/s8_model.py:199: UserWarning: Implicit dimension choice for log_softmax has been deprecated. Change the call to include dim=X as an argument.\n",
            "  return F.log_softmax(x)\n",
            "loss=1.9921334981918335 batch_id=390 Accuracy = 19.49: 100%|██████████| 391/391 [00:30<00:00, 12.99it/s]\n"
          ]
        },
        {
          "output_type": "stream",
          "name": "stdout",
          "text": [
            "\n",
            "Test set: Average loss: 1.9148, Accuracy: 2729/10000 (27.29%)\n",
            "\n",
            "epoch: 2\n"
          ]
        },
        {
          "output_type": "stream",
          "name": "stderr",
          "text": [
            "loss=1.7878472805023193 batch_id=390 Accuracy = 26.39: 100%|██████████| 391/391 [00:30<00:00, 12.68it/s]\n"
          ]
        },
        {
          "output_type": "stream",
          "name": "stdout",
          "text": [
            "\n",
            "Test set: Average loss: 1.8013, Accuracy: 3299/10000 (32.99%)\n",
            "\n",
            "epoch: 3\n"
          ]
        },
        {
          "output_type": "stream",
          "name": "stderr",
          "text": [
            "loss=1.9461052417755127 batch_id=390 Accuracy = 30.27: 100%|██████████| 391/391 [00:29<00:00, 13.30it/s]\n"
          ]
        },
        {
          "output_type": "stream",
          "name": "stdout",
          "text": [
            "\n",
            "Test set: Average loss: 1.8136, Accuracy: 3440/10000 (34.40%)\n",
            "\n",
            "epoch: 4\n"
          ]
        },
        {
          "output_type": "stream",
          "name": "stderr",
          "text": [
            "loss=1.6992042064666748 batch_id=390 Accuracy = 33.27: 100%|██████████| 391/391 [00:29<00:00, 13.10it/s]\n"
          ]
        },
        {
          "output_type": "stream",
          "name": "stdout",
          "text": [
            "\n",
            "Test set: Average loss: 1.6306, Accuracy: 3940/10000 (39.40%)\n",
            "\n",
            "epoch: 5\n"
          ]
        },
        {
          "output_type": "stream",
          "name": "stderr",
          "text": [
            "loss=1.5836645364761353 batch_id=390 Accuracy = 36.48: 100%|██████████| 391/391 [00:29<00:00, 13.19it/s]\n"
          ]
        },
        {
          "output_type": "stream",
          "name": "stdout",
          "text": [
            "\n",
            "Test set: Average loss: 1.5338, Accuracy: 4450/10000 (44.50%)\n",
            "\n",
            "epoch: 6\n"
          ]
        },
        {
          "output_type": "stream",
          "name": "stderr",
          "text": [
            "loss=1.713104009628296 batch_id=390 Accuracy = 37.98: 100%|██████████| 391/391 [00:30<00:00, 12.73it/s]\n"
          ]
        },
        {
          "output_type": "stream",
          "name": "stdout",
          "text": [
            "\n",
            "Test set: Average loss: 1.5850, Accuracy: 4220/10000 (42.20%)\n",
            "\n",
            "epoch: 7\n"
          ]
        },
        {
          "output_type": "stream",
          "name": "stderr",
          "text": [
            "loss=1.4579435586929321 batch_id=390 Accuracy = 39.81: 100%|██████████| 391/391 [00:30<00:00, 12.78it/s]\n"
          ]
        },
        {
          "output_type": "stream",
          "name": "stdout",
          "text": [
            "\n",
            "Test set: Average loss: 1.4609, Accuracy: 4819/10000 (48.19%)\n",
            "\n",
            "epoch: 8\n"
          ]
        },
        {
          "output_type": "stream",
          "name": "stderr",
          "text": [
            "loss=1.596401333808899 batch_id=390 Accuracy = 41.44: 100%|██████████| 391/391 [00:29<00:00, 13.30it/s]\n"
          ]
        },
        {
          "output_type": "stream",
          "name": "stdout",
          "text": [
            "\n",
            "Test set: Average loss: 1.4649, Accuracy: 4668/10000 (46.68%)\n",
            "\n",
            "epoch: 9\n"
          ]
        },
        {
          "output_type": "stream",
          "name": "stderr",
          "text": [
            "loss=1.7272815704345703 batch_id=390 Accuracy = 42.89: 100%|██████████| 391/391 [00:30<00:00, 12.81it/s]\n"
          ]
        },
        {
          "output_type": "stream",
          "name": "stdout",
          "text": [
            "\n",
            "Test set: Average loss: 1.4941, Accuracy: 4625/10000 (46.25%)\n",
            "\n",
            "epoch: 10\n"
          ]
        },
        {
          "output_type": "stream",
          "name": "stderr",
          "text": [
            "loss=1.517051100730896 batch_id=390 Accuracy = 44.05: 100%|██████████| 391/391 [00:29<00:00, 13.33it/s]\n"
          ]
        },
        {
          "output_type": "stream",
          "name": "stdout",
          "text": [
            "\n",
            "Test set: Average loss: 1.3763, Accuracy: 5080/10000 (50.80%)\n",
            "\n",
            "epoch: 11\n"
          ]
        },
        {
          "output_type": "stream",
          "name": "stderr",
          "text": [
            "loss=1.402143955230713 batch_id=390 Accuracy = 45.45: 100%|██████████| 391/391 [00:30<00:00, 12.82it/s]\n"
          ]
        },
        {
          "output_type": "stream",
          "name": "stdout",
          "text": [
            "\n",
            "Test set: Average loss: 1.3600, Accuracy: 5057/10000 (50.57%)\n",
            "\n",
            "epoch: 12\n"
          ]
        },
        {
          "output_type": "stream",
          "name": "stderr",
          "text": [
            "loss=1.3826035261154175 batch_id=390 Accuracy = 46.27: 100%|██████████| 391/391 [00:31<00:00, 12.28it/s]\n"
          ]
        },
        {
          "output_type": "stream",
          "name": "stdout",
          "text": [
            "\n",
            "Test set: Average loss: 1.3603, Accuracy: 5108/10000 (51.08%)\n",
            "\n",
            "epoch: 13\n"
          ]
        },
        {
          "output_type": "stream",
          "name": "stderr",
          "text": [
            "loss=1.3546993732452393 batch_id=390 Accuracy = 47.26: 100%|██████████| 391/391 [00:29<00:00, 13.17it/s]\n"
          ]
        },
        {
          "output_type": "stream",
          "name": "stdout",
          "text": [
            "\n",
            "Test set: Average loss: 1.3468, Accuracy: 5208/10000 (52.08%)\n",
            "\n",
            "epoch: 14\n"
          ]
        },
        {
          "output_type": "stream",
          "name": "stderr",
          "text": [
            "loss=1.3087680339813232 batch_id=390 Accuracy = 48.00: 100%|██████████| 391/391 [00:29<00:00, 13.44it/s]\n"
          ]
        },
        {
          "output_type": "stream",
          "name": "stdout",
          "text": [
            "\n",
            "Test set: Average loss: 1.2507, Accuracy: 5417/10000 (54.17%)\n",
            "\n",
            "epoch: 15\n"
          ]
        },
        {
          "output_type": "stream",
          "name": "stderr",
          "text": [
            "loss=1.3852965831756592 batch_id=390 Accuracy = 49.34: 100%|██████████| 391/391 [00:29<00:00, 13.32it/s]\n"
          ]
        },
        {
          "output_type": "stream",
          "name": "stdout",
          "text": [
            "\n",
            "Test set: Average loss: 1.2571, Accuracy: 5443/10000 (54.43%)\n",
            "\n",
            "epoch: 16\n"
          ]
        },
        {
          "output_type": "stream",
          "name": "stderr",
          "text": [
            "loss=1.5119221210479736 batch_id=390 Accuracy = 50.06: 100%|██████████| 391/391 [00:29<00:00, 13.23it/s]\n"
          ]
        },
        {
          "output_type": "stream",
          "name": "stdout",
          "text": [
            "\n",
            "Test set: Average loss: 1.3207, Accuracy: 5305/10000 (53.05%)\n",
            "\n",
            "epoch: 17\n"
          ]
        },
        {
          "output_type": "stream",
          "name": "stderr",
          "text": [
            "loss=1.2571823596954346 batch_id=390 Accuracy = 50.46: 100%|██████████| 391/391 [00:29<00:00, 13.25it/s]\n"
          ]
        },
        {
          "output_type": "stream",
          "name": "stdout",
          "text": [
            "\n",
            "Test set: Average loss: 1.1962, Accuracy: 5699/10000 (56.99%)\n",
            "\n",
            "epoch: 18\n"
          ]
        },
        {
          "output_type": "stream",
          "name": "stderr",
          "text": [
            "loss=1.4258670806884766 batch_id=390 Accuracy = 51.06: 100%|██████████| 391/391 [00:34<00:00, 11.42it/s]\n"
          ]
        },
        {
          "output_type": "stream",
          "name": "stdout",
          "text": [
            "\n",
            "Test set: Average loss: 1.1508, Accuracy: 5903/10000 (59.03%)\n",
            "\n",
            "epoch: 19\n"
          ]
        },
        {
          "output_type": "stream",
          "name": "stderr",
          "text": [
            "loss=1.2983335256576538 batch_id=390 Accuracy = 51.86: 100%|██████████| 391/391 [00:29<00:00, 13.16it/s]\n"
          ]
        },
        {
          "output_type": "stream",
          "name": "stdout",
          "text": [
            "\n",
            "Test set: Average loss: 1.1478, Accuracy: 5987/10000 (59.87%)\n",
            "\n"
          ]
        }
      ]
    },
    {
      "cell_type": "markdown",
      "source": [
        "Show Results for Layer Norm experiments"
      ],
      "metadata": {
        "id": "g-R5guU3bO-u"
      }
    },
    {
      "cell_type": "code",
      "source": [
        "#plot_statistics(train_losses_ln, train_acc_ln, test_losses_ln, test_acc_ln, target_test_acc)\n",
        "#incorrect_predictions_ln = get_incorrect_predictions(model_ln, test_loader, device)\n",
        "#show_incorrect_predictions(incorrect_predictions_ln, class_names, num_rows = 2, num_cols = 5)"
      ],
      "metadata": {
        "id": "-1x2SwFIbKRU"
      },
      "execution_count": null,
      "outputs": []
    },
    {
      "cell_type": "markdown",
      "source": [
        "Train Model using Group Normalization"
      ],
      "metadata": {
        "id": "AFwa94ONna5l"
      }
    },
    {
      "cell_type": "code",
      "source": [
        "model_gn = Model_Net(norm_type='group_norm', num_groups=2).to(device)\n",
        "optimizer_gn = optim.SGD(model_gn.parameters(), lr=0.01, momentum=0.9)\n",
        "scheduler = optim.lr_scheduler.StepLR(optimizer_gn, step_size=8, gamma=0.1, verbose=True)\n",
        "#scheduler = optim.lr_scheduler.ReduceLROnPlateau(optimizer, 'min', verbose=True)\n",
        "train_losses_gn = []\n",
        "test_losses_gn = []\n",
        "train_acc_gn = []\n",
        "test_acc_gn = []\n",
        "for epoch in range(1,20):\n",
        "    print(f\"epoch: {epoch}\")\n",
        "    this_train_loss = model_train(model_gn, device, train_loader, optimizer_gn, train_acc_gn, train_losses_gn)\n",
        "    this_loss = model_test(model_gn, device, test_loader, test_acc_gn, test_losses_gn)\n",
        "    scheduler.step()\n",
        "    #print(optimizer.)\n",
        "target_test_acc = 70.\n",
        "\n"
      ],
      "metadata": {
        "id": "QcF6cNDenZrC",
        "outputId": "ce75a27a-0fdf-4108-dbcc-6feab6384234",
        "colab": {
          "base_uri": "https://localhost:8080/"
        }
      },
      "execution_count": 13,
      "outputs": [
        {
          "output_type": "stream",
          "name": "stdout",
          "text": [
            "Adjusting learning rate of group 0 to 1.0000e-02.\n",
            "epoch: 1\n"
          ]
        },
        {
          "output_type": "stream",
          "name": "stderr",
          "text": [
            "loss=2.0839619636535645 batch_id=390 Accuracy = 21.61: 100%|██████████| 391/391 [00:30<00:00, 12.75it/s]\n"
          ]
        },
        {
          "output_type": "stream",
          "name": "stdout",
          "text": [
            "\n",
            "Test set: Average loss: 1.9010, Accuracy: 2800/10000 (28.00%)\n",
            "\n",
            "Adjusting learning rate of group 0 to 1.0000e-02.\n",
            "epoch: 2\n"
          ]
        },
        {
          "output_type": "stream",
          "name": "stderr",
          "text": [
            "loss=1.7534258365631104 batch_id=390 Accuracy = 28.01: 100%|██████████| 391/391 [00:29<00:00, 13.09it/s]\n"
          ]
        },
        {
          "output_type": "stream",
          "name": "stdout",
          "text": [
            "\n",
            "Test set: Average loss: 1.7356, Accuracy: 3451/10000 (34.51%)\n",
            "\n",
            "Adjusting learning rate of group 0 to 1.0000e-02.\n",
            "epoch: 3\n"
          ]
        },
        {
          "output_type": "stream",
          "name": "stderr",
          "text": [
            "loss=1.7855217456817627 batch_id=390 Accuracy = 32.06: 100%|██████████| 391/391 [00:30<00:00, 12.92it/s]\n"
          ]
        },
        {
          "output_type": "stream",
          "name": "stdout",
          "text": [
            "\n",
            "Test set: Average loss: 1.6581, Accuracy: 3877/10000 (38.77%)\n",
            "\n",
            "Adjusting learning rate of group 0 to 1.0000e-02.\n",
            "epoch: 4\n"
          ]
        },
        {
          "output_type": "stream",
          "name": "stderr",
          "text": [
            "loss=1.7907207012176514 batch_id=390 Accuracy = 35.74: 100%|██████████| 391/391 [00:29<00:00, 13.07it/s]\n"
          ]
        },
        {
          "output_type": "stream",
          "name": "stdout",
          "text": [
            "\n",
            "Test set: Average loss: 1.5514, Accuracy: 4330/10000 (43.30%)\n",
            "\n",
            "Adjusting learning rate of group 0 to 1.0000e-02.\n",
            "epoch: 5\n"
          ]
        },
        {
          "output_type": "stream",
          "name": "stderr",
          "text": [
            "loss=1.4373458623886108 batch_id=390 Accuracy = 38.03: 100%|██████████| 391/391 [00:30<00:00, 12.92it/s]\n"
          ]
        },
        {
          "output_type": "stream",
          "name": "stdout",
          "text": [
            "\n",
            "Test set: Average loss: 1.4887, Accuracy: 4615/10000 (46.15%)\n",
            "\n",
            "Adjusting learning rate of group 0 to 1.0000e-02.\n",
            "epoch: 6\n"
          ]
        },
        {
          "output_type": "stream",
          "name": "stderr",
          "text": [
            "loss=1.544474720954895 batch_id=390 Accuracy = 40.55: 100%|██████████| 391/391 [00:31<00:00, 12.56it/s]\n"
          ]
        },
        {
          "output_type": "stream",
          "name": "stdout",
          "text": [
            "\n",
            "Test set: Average loss: 1.4767, Accuracy: 4606/10000 (46.06%)\n",
            "\n",
            "Adjusting learning rate of group 0 to 1.0000e-02.\n",
            "epoch: 7\n"
          ]
        },
        {
          "output_type": "stream",
          "name": "stderr",
          "text": [
            "loss=1.4477465152740479 batch_id=390 Accuracy = 42.27: 100%|██████████| 391/391 [00:30<00:00, 12.96it/s]\n"
          ]
        },
        {
          "output_type": "stream",
          "name": "stdout",
          "text": [
            "\n",
            "Test set: Average loss: 1.4358, Accuracy: 4799/10000 (47.99%)\n",
            "\n",
            "Adjusting learning rate of group 0 to 1.0000e-02.\n",
            "epoch: 8\n"
          ]
        },
        {
          "output_type": "stream",
          "name": "stderr",
          "text": [
            "loss=1.5509957075119019 batch_id=390 Accuracy = 43.86: 100%|██████████| 391/391 [00:29<00:00, 13.14it/s]\n"
          ]
        },
        {
          "output_type": "stream",
          "name": "stdout",
          "text": [
            "\n",
            "Test set: Average loss: 1.3554, Accuracy: 5042/10000 (50.42%)\n",
            "\n",
            "Adjusting learning rate of group 0 to 1.0000e-03.\n",
            "epoch: 9\n"
          ]
        },
        {
          "output_type": "stream",
          "name": "stderr",
          "text": [
            "loss=1.5836584568023682 batch_id=390 Accuracy = 47.83: 100%|██████████| 391/391 [00:29<00:00, 13.15it/s]\n"
          ]
        },
        {
          "output_type": "stream",
          "name": "stdout",
          "text": [
            "\n",
            "Test set: Average loss: 1.3003, Accuracy: 5287/10000 (52.87%)\n",
            "\n",
            "Adjusting learning rate of group 0 to 1.0000e-03.\n",
            "epoch: 10\n"
          ]
        },
        {
          "output_type": "stream",
          "name": "stderr",
          "text": [
            "loss=1.576680302619934 batch_id=390 Accuracy = 48.25: 100%|██████████| 391/391 [00:30<00:00, 12.78it/s]\n"
          ]
        },
        {
          "output_type": "stream",
          "name": "stdout",
          "text": [
            "\n",
            "Test set: Average loss: 1.2999, Accuracy: 5339/10000 (53.39%)\n",
            "\n",
            "Adjusting learning rate of group 0 to 1.0000e-03.\n",
            "epoch: 11\n"
          ]
        },
        {
          "output_type": "stream",
          "name": "stderr",
          "text": [
            "loss=1.399278163909912 batch_id=390 Accuracy = 48.60: 100%|██████████| 391/391 [00:29<00:00, 13.14it/s]\n"
          ]
        },
        {
          "output_type": "stream",
          "name": "stdout",
          "text": [
            "\n",
            "Test set: Average loss: 1.3100, Accuracy: 5247/10000 (52.47%)\n",
            "\n",
            "Adjusting learning rate of group 0 to 1.0000e-03.\n",
            "epoch: 12\n"
          ]
        },
        {
          "output_type": "stream",
          "name": "stderr",
          "text": [
            "loss=1.4023984670639038 batch_id=390 Accuracy = 48.75: 100%|██████████| 391/391 [00:30<00:00, 12.71it/s]\n"
          ]
        },
        {
          "output_type": "stream",
          "name": "stdout",
          "text": [
            "\n",
            "Test set: Average loss: 1.2768, Accuracy: 5380/10000 (53.80%)\n",
            "\n",
            "Adjusting learning rate of group 0 to 1.0000e-03.\n",
            "epoch: 13\n"
          ]
        },
        {
          "output_type": "stream",
          "name": "stderr",
          "text": [
            "loss=1.4140663146972656 batch_id=390 Accuracy = 48.92: 100%|██████████| 391/391 [00:30<00:00, 12.66it/s]\n"
          ]
        },
        {
          "output_type": "stream",
          "name": "stdout",
          "text": [
            "\n",
            "Test set: Average loss: 1.2744, Accuracy: 5370/10000 (53.70%)\n",
            "\n",
            "Adjusting learning rate of group 0 to 1.0000e-03.\n",
            "epoch: 14\n"
          ]
        },
        {
          "output_type": "stream",
          "name": "stderr",
          "text": [
            "loss=1.505662202835083 batch_id=390 Accuracy = 49.31: 100%|██████████| 391/391 [00:30<00:00, 12.72it/s]\n"
          ]
        },
        {
          "output_type": "stream",
          "name": "stdout",
          "text": [
            "\n",
            "Test set: Average loss: 1.2512, Accuracy: 5472/10000 (54.72%)\n",
            "\n",
            "Adjusting learning rate of group 0 to 1.0000e-03.\n",
            "epoch: 15\n"
          ]
        },
        {
          "output_type": "stream",
          "name": "stderr",
          "text": [
            "loss=1.3657993078231812 batch_id=390 Accuracy = 49.95: 100%|██████████| 391/391 [00:29<00:00, 13.05it/s]\n"
          ]
        },
        {
          "output_type": "stream",
          "name": "stdout",
          "text": [
            "\n",
            "Test set: Average loss: 1.2411, Accuracy: 5493/10000 (54.93%)\n",
            "\n",
            "Adjusting learning rate of group 0 to 1.0000e-03.\n",
            "epoch: 16\n"
          ]
        },
        {
          "output_type": "stream",
          "name": "stderr",
          "text": [
            "loss=1.2481906414031982 batch_id=390 Accuracy = 49.86: 100%|██████████| 391/391 [00:30<00:00, 12.77it/s]\n"
          ]
        },
        {
          "output_type": "stream",
          "name": "stdout",
          "text": [
            "\n",
            "Test set: Average loss: 1.2513, Accuracy: 5475/10000 (54.75%)\n",
            "\n",
            "Adjusting learning rate of group 0 to 1.0000e-04.\n",
            "epoch: 17\n"
          ]
        },
        {
          "output_type": "stream",
          "name": "stderr",
          "text": [
            "loss=1.5636119842529297 batch_id=390 Accuracy = 50.66: 100%|██████████| 391/391 [00:30<00:00, 12.97it/s]\n"
          ]
        },
        {
          "output_type": "stream",
          "name": "stdout",
          "text": [
            "\n",
            "Test set: Average loss: 1.2436, Accuracy: 5535/10000 (55.35%)\n",
            "\n",
            "Adjusting learning rate of group 0 to 1.0000e-04.\n",
            "epoch: 18\n"
          ]
        },
        {
          "output_type": "stream",
          "name": "stderr",
          "text": [
            "loss=1.356391191482544 batch_id=390 Accuracy = 50.78: 100%|██████████| 391/391 [00:29<00:00, 13.16it/s]\n"
          ]
        },
        {
          "output_type": "stream",
          "name": "stdout",
          "text": [
            "\n",
            "Test set: Average loss: 1.2429, Accuracy: 5533/10000 (55.33%)\n",
            "\n",
            "Adjusting learning rate of group 0 to 1.0000e-04.\n",
            "epoch: 19\n"
          ]
        },
        {
          "output_type": "stream",
          "name": "stderr",
          "text": [
            "loss=1.4827762842178345 batch_id=390 Accuracy = 50.91: 100%|██████████| 391/391 [00:30<00:00, 12.88it/s]\n"
          ]
        },
        {
          "output_type": "stream",
          "name": "stdout",
          "text": [
            "\n",
            "Test set: Average loss: 1.2345, Accuracy: 5563/10000 (55.63%)\n",
            "\n",
            "Adjusting learning rate of group 0 to 1.0000e-04.\n"
          ]
        }
      ]
    },
    {
      "cell_type": "markdown",
      "source": [
        "Plot Results for Group Norm"
      ],
      "metadata": {
        "id": "w3vt-DvvbbVn"
      }
    },
    {
      "cell_type": "code",
      "source": [
        "#plot_statistics(train_losses_gn, train_acc_gn, test_losses_gn, test_acc_gn, target_test_acc)\n",
        "#incorrect_predictions_ln = get_incorrect_predictions(model_gn, test_loader, device)\n",
        "#show_incorrect_predictions(incorrect_predictions_gn, class_names, num_rows = 2, num_cols = 5)"
      ],
      "metadata": {
        "id": "g9LFIBX0bauH"
      },
      "execution_count": null,
      "outputs": []
    }
  ],
  "metadata": {
    "accelerator": "GPU",
    "colab": {
      "gpuType": "T4",
      "provenance": []
    },
    "kernelspec": {
      "display_name": "Python 3",
      "name": "python3"
    },
    "language_info": {
      "codemirror_mode": {
        "name": "ipython",
        "version": 3
      },
      "file_extension": ".py",
      "mimetype": "text/x-python",
      "name": "python",
      "nbconvert_exporter": "python",
      "pygments_lexer": "ipython3",
      "version": "3.10.6"
    },
    "orig_nbformat": 4
  },
  "nbformat": 4,
  "nbformat_minor": 0
}