{
  "cells": [
    {
      "cell_type": "code",
      "execution_count": null,
      "metadata": {
        "colab": {
          "base_uri": "https://localhost:8080/"
        },
        "id": "a8J1MOmbqmgC",
        "outputId": "09213476-4622-4083-bbce-37bdb28eda9f"
      },
      "outputs": [],
      "source": [
        "#!git clone \"https://github.com/jyanivaddi/ERA_V1.git\"\n",
        "#!git pull"
      ]
    },
    {
      "attachments": {},
      "cell_type": "markdown",
      "metadata": {
        "id": "lW3WHIzUqmgF"
      },
      "source": [
        "Add all the imports"
      ]
    },
    {
      "cell_type": "code",
      "execution_count": 1,
      "metadata": {
        "id": "zQ5ZSVQJqmgI"
      },
      "outputs": [],
      "source": [
        "from __future__ import print_function\n",
        "import sys\n",
        "sys.path.append(\"ERA_V1/session_8\")\n",
        "import torch\n",
        "import torch.nn as nn\n",
        "import torch.nn.functional as F\n",
        "import torch.optim as optim\n",
        "from torchvision import transforms\n",
        "from s8_utils import load_cifar10_data, preview_images, plot_statistics, show_incorrect_predictions, get_incorrect_predictions\n",
        "from s8_model import Model_Net, model_summary, model_train, model_test"
      ]
    },
    {
      "attachments": {},
      "cell_type": "markdown",
      "metadata": {
        "id": "n4AHY0CsqmgL"
      },
      "source": [
        "Allocate GPU"
      ]
    },
    {
      "cell_type": "code",
      "execution_count": 2,
      "metadata": {
        "colab": {
          "base_uri": "https://localhost:8080/"
        },
        "id": "3xmgYQudqmgM",
        "outputId": "71223d46-6bbf-400a-f617-2324ef1e3bc4"
      },
      "outputs": [
        {
          "name": "stdout",
          "output_type": "stream",
          "text": [
            "cpu\n",
            "----------------------------------------------------------------\n",
            "        Layer (type)               Output Shape         Param #\n",
            "================================================================\n",
            "            Conv2d-1           [-1, 16, 32, 32]             432\n",
            "         GroupNorm-2           [-1, 16, 32, 32]              32\n",
            "              ReLU-3           [-1, 16, 32, 32]               0\n",
            "           Dropout-4           [-1, 16, 32, 32]               0\n",
            "            Conv2d-5           [-1, 16, 32, 32]           2,304\n",
            "         GroupNorm-6           [-1, 16, 32, 32]              32\n",
            "              ReLU-7           [-1, 16, 32, 32]               0\n",
            "           Dropout-8           [-1, 16, 32, 32]               0\n",
            "            Conv2d-9           [-1, 16, 32, 32]             256\n",
            "        GroupNorm-10           [-1, 16, 32, 32]              32\n",
            "             ReLU-11           [-1, 16, 32, 32]               0\n",
            "          Dropout-12           [-1, 16, 32, 32]               0\n",
            "        MaxPool2d-13           [-1, 16, 16, 16]               0\n",
            "           Conv2d-14           [-1, 16, 16, 16]           2,304\n",
            "        GroupNorm-15           [-1, 16, 16, 16]              32\n",
            "             ReLU-16           [-1, 16, 16, 16]               0\n",
            "          Dropout-17           [-1, 16, 16, 16]               0\n",
            "           Conv2d-18           [-1, 16, 16, 16]           2,304\n",
            "        GroupNorm-19           [-1, 16, 16, 16]              32\n",
            "             ReLU-20           [-1, 16, 16, 16]               0\n",
            "          Dropout-21           [-1, 16, 16, 16]               0\n",
            "           Conv2d-22           [-1, 16, 16, 16]           2,304\n",
            "        GroupNorm-23           [-1, 16, 16, 16]              32\n",
            "             ReLU-24           [-1, 16, 16, 16]               0\n",
            "          Dropout-25           [-1, 16, 16, 16]               0\n",
            "           Conv2d-26           [-1, 32, 16, 16]             512\n",
            "        GroupNorm-27           [-1, 32, 16, 16]              64\n",
            "             ReLU-28           [-1, 32, 16, 16]               0\n",
            "          Dropout-29           [-1, 32, 16, 16]               0\n",
            "        MaxPool2d-30             [-1, 32, 8, 8]               0\n",
            "           Conv2d-31             [-1, 32, 8, 8]           9,216\n",
            "        GroupNorm-32             [-1, 32, 8, 8]              64\n",
            "             ReLU-33             [-1, 32, 8, 8]               0\n",
            "          Dropout-34             [-1, 32, 8, 8]               0\n",
            "           Conv2d-35             [-1, 32, 8, 8]           9,216\n",
            "        GroupNorm-36             [-1, 32, 8, 8]              64\n",
            "             ReLU-37             [-1, 32, 8, 8]               0\n",
            "          Dropout-38             [-1, 32, 8, 8]               0\n",
            "           Conv2d-39             [-1, 64, 8, 8]          18,432\n",
            "        GroupNorm-40             [-1, 64, 8, 8]             128\n",
            "             ReLU-41             [-1, 64, 8, 8]               0\n",
            "          Dropout-42             [-1, 64, 8, 8]               0\n",
            "AdaptiveAvgPool2d-43             [-1, 64, 1, 1]               0\n",
            "           Conv2d-44             [-1, 10, 1, 1]             640\n",
            "================================================================\n",
            "Total params: 48,432\n",
            "Trainable params: 48,432\n",
            "Non-trainable params: 0\n",
            "----------------------------------------------------------------\n",
            "Input size (MB): 0.01\n",
            "Forward/backward pass size (MB): 2.42\n",
            "Params size (MB): 0.18\n",
            "Estimated Total Size (MB): 2.62\n",
            "----------------------------------------------------------------\n"
          ]
        },
        {
          "name": "stderr",
          "output_type": "stream",
          "text": [
            "/home/jyani/ERA_V1/session_8/s8_model.py:199: UserWarning: Implicit dimension choice for log_softmax has been deprecated. Change the call to include dim=X as an argument.\n",
            "  return F.log_softmax(x)\n"
          ]
        }
      ],
      "source": [
        "use_cuda = torch.cuda.is_available()\n",
        "device = torch.device(\"cuda\" if use_cuda else \"cpu\")\n",
        "print(device)\n",
        "cifar_10_model = Model_Net(norm_type = 'group_norm', num_groups = 2).to(device)\n",
        "model_summary(cifar_10_model, input_size=(3,32,32))"
      ]
    },
    {
      "attachments": {},
      "cell_type": "markdown",
      "metadata": {
        "id": "el_gf5kqYGR-"
      },
      "source": []
    },
    {
      "attachments": {},
      "cell_type": "markdown",
      "metadata": {
        "id": "eF0JlvTsqmgP"
      },
      "source": [
        "Define Transforms"
      ]
    },
    {
      "cell_type": "code",
      "execution_count": null,
      "metadata": {
        "id": "hzPjTF_ZqmgQ"
      },
      "outputs": [],
      "source": [
        "train_transforms = transforms.Compose([\n",
        "    transforms.ToTensor(),\n",
        "    transforms.Normalize((0.491, 0.482, 0.447), (0.247, 0.244, 0.262))\n",
        "])\n",
        "test_transforms = transforms.Compose([\n",
        "    transforms.ToTensor(),\n",
        "    transforms.Normalize((0.491, 0.482, 0.447), (0.247, 0.244, 0.262))\n",
        "])"
      ]
    },
    {
      "attachments": {},
      "cell_type": "markdown",
      "metadata": {
        "id": "UvBUHxXlqmgR"
      },
      "source": [
        "Download Data"
      ]
    },
    {
      "cell_type": "code",
      "execution_count": null,
      "metadata": {
        "colab": {
          "base_uri": "https://localhost:8080/"
        },
        "id": "nZPaylEkqmgS",
        "outputId": "df69e67a-052a-4738-c93a-faf97bd1ba57"
      },
      "outputs": [],
      "source": [
        "train_data, test_data, class_names = load_cifar10_data(train_transforms, test_transforms)"
      ]
    },
    {
      "attachments": {},
      "cell_type": "markdown",
      "metadata": {
        "id": "D6f-Ko64qmgU"
      },
      "source": [
        "Define train and test loaders"
      ]
    },
    {
      "cell_type": "code",
      "execution_count": null,
      "metadata": {
        "id": "Z8mQv0iUqmgV"
      },
      "outputs": [],
      "source": [
        "torch.manual_seed(1)\n",
        "batch_size = 128\n",
        "kwargs = {'num_workers': 2, 'pin_memory': True} if use_cuda else {}\n",
        "train_loader = torch.utils.data.DataLoader(train_data, batch_size=batch_size, shuffle = True, **kwargs)\n",
        "test_loader = torch.utils.data.DataLoader(test_data, batch_size = batch_size, shuffle = True, **kwargs)"
      ]
    },
    {
      "attachments": {},
      "cell_type": "markdown",
      "metadata": {
        "id": "q6gJu4mQqmgV"
      },
      "source": [
        "Calculate Mean and Std of dataset"
      ]
    },
    {
      "cell_type": "code",
      "execution_count": null,
      "metadata": {
        "colab": {
          "base_uri": "https://localhost:8080/"
        },
        "id": "AjbfdosktSlu",
        "outputId": "6d6a43de-f0be-4a30-8729-5ddf7bc21c39"
      },
      "outputs": [],
      "source": [
        "from tqdm import tqdm\n",
        "import numpy as np\n",
        "mean_r = 0\n",
        "mean_g = 0\n",
        "mean_b = 0\n",
        "\n",
        "std_r = 0\n",
        "std_g = 0\n",
        "std_b = 0\n",
        "loader_for_stats = test_loader\n",
        "for img,_ in tqdm(loader_for_stats):\n",
        "    img = np.asarray(img)\n",
        "    # calculate Mean of Normalized dataset\n",
        "    mean_r += np.mean(img[:,0,:,:])\n",
        "    mean_g += np.mean(img[:,1,:,:])\n",
        "    mean_b += np.mean(img[:,2,:,:])\n",
        "    # calculate std of Normalized dataset\n",
        "    std_r += np.var(img[:,0,:,:])\n",
        "    std_g += np.var(img[:,1,:,:])\n",
        "    std_b += np.var(img[:,2,:,:])\n",
        "mean_r = mean_r / len(loader_for_stats)\n",
        "mean_g = mean_g / len(loader_for_stats)\n",
        "mean_b = mean_b / len(loader_for_stats)\n",
        "std_r = np.sqrt(((1./(len(loader_for_stats)-1))*std_r))\n",
        "std_g = np.sqrt(((1./(len(loader_for_stats)-1))*std_g))\n",
        "std_b = np.sqrt(((1./(len(loader_for_stats)-1))*std_b))\n",
        "print(f\"dataset mean: {mean_r:0.3f}, {mean_g:0.3f}, {mean_b:0.3f}\")\n",
        "print(f\"dataset std: {std_r:0.3f}, {std_g:0.3f}, {std_b:0.3f}\")\n"
      ]
    },
    {
      "attachments": {},
      "cell_type": "markdown",
      "metadata": {
        "id": "RQB2RLRxtSlv"
      },
      "source": [
        "Show sample Images"
      ]
    },
    {
      "cell_type": "code",
      "execution_count": null,
      "metadata": {
        "colab": {
          "base_uri": "https://localhost:8080/",
          "height": 897
        },
        "id": "DjjB363XqmgW",
        "outputId": "737e6209-a093-494e-f6ef-db02b9eb7fc8"
      },
      "outputs": [],
      "source": [
        "preview_images(train_loader,class_names, num_rows = 5, num_cols = 5)"
      ]
    },
    {
      "attachments": {},
      "cell_type": "markdown",
      "metadata": {
        "id": "FCSVRbYZmmOG"
      },
      "source": [
        "Train model using Batch Normalization"
      ]
    },
    {
      "cell_type": "code",
      "execution_count": null,
      "metadata": {
        "id": "ysHqVyhGZJ27"
      },
      "outputs": [],
      "source": [
        "model = Model_Net(norm_type='batch_norm').to(device)\n",
        "optimizer = optim.SGD(model.parameters(), lr=0.01, momentum=0.9)\n",
        "#scheduler = optim.lr_scheduler.StepLR(optimizer, step_size=8, gamma=0.1, verbose=True)\n",
        "#scheduler = optim.lr_scheduler.ReduceLROnPlateau(optimizer, 'min', verbose=True)\n",
        "train_losses_bn = []\n",
        "test_losses_bn = []\n",
        "train_acc_bn = []\n",
        "test_acc_bn = []\n",
        "for epoch in range(1,20):\n",
        "    print(f\"epoch: {epoch}\")\n",
        "    this_train_loss = model_train(model, device, train_loader, optimizer, train_acc_bn, train_losses_bn)\n",
        "    this_loss = model_test(model, device, test_loader, test_acc_bn, test_losses_bn)\n",
        "    #scheduler.step()\n",
        "    #print(optimizer.)\n",
        "target_test_acc = 70.\n",
        "plot_statistics(train_losses_bn, train_acc_bn, test_losses_bn, test_acc_bn, target_test_acc)\n",
        "incorrect_predictions_bn = get_incorrect_predictions(model, test_loader, device)\n",
        "show_incorrect_predictions(incorrect_predictions_bn, class_names, num_rows = 2, num_cols = 5)\n"
      ]
    },
    {
      "attachments": {},
      "cell_type": "markdown",
      "metadata": {
        "id": "vnjpvm_4ZFXc"
      },
      "source": [
        "Train Model using Layer Normalization"
      ]
    },
    {
      "cell_type": "code",
      "execution_count": null,
      "metadata": {
        "id": "eRBlwrmcm9A7"
      },
      "outputs": [],
      "source": [
        "model = Model_Net(norm_type='layer_norm').to(device)\n",
        "optimizer = optim.SGD(model.parameters(), lr=0.01, momentum=0.9)\n",
        "#scheduler = optim.lr_scheduler.StepLR(optimizer, step_size=8, gamma=0.1, verbose=True)\n",
        "#scheduler = optim.lr_scheduler.ReduceLROnPlateau(optimizer, 'min', verbose=True)\n",
        "train_losses_ln = []\n",
        "test_losses_ln = []\n",
        "train_acc_ln = []\n",
        "test_acc_ln = []\n",
        "for epoch in range(1,20):\n",
        "    print(f\"epoch: {epoch}\")\n",
        "    this_train_loss = model_train(model, device, train_loader, optimizer, train_acc_ln, train_losses_ln)\n",
        "    this_loss = model_test(model, device, test_loader, test_acc_ln, test_losses_ln)\n",
        "    #scheduler.step()\n",
        "    #print(optimizer.)\n",
        "target_test_acc = 70.\n",
        "plot_statistics(train_losses_ln, train_acc_ln, test_losses_ln, test_acc_ln, target_test_acc)\n",
        "incorrect_predictions_ln = get_incorrect_predictions(model, test_loader, device)\n",
        "show_incorrect_predictions(incorrect_predictions_ln, class_names, num_rows = 2, num_cols = 5)\n"
      ]
    },
    {
      "attachments": {},
      "cell_type": "markdown",
      "metadata": {
        "id": "AFwa94ONna5l"
      },
      "source": [
        "Train Model using Group Normalization"
      ]
    },
    {
      "cell_type": "code",
      "execution_count": null,
      "metadata": {
        "id": "QcF6cNDenZrC"
      },
      "outputs": [],
      "source": [
        "model = Model_Net(norm_type='group_norm', num_groups=2).to(device)\n",
        "optimizer = optim.SGD(model.parameters(), lr=0.01, momentum=0.9)\n",
        "#scheduler = optim.lr_scheduler.StepLR(optimizer, step_size=8, gamma=0.1, verbose=True)\n",
        "#scheduler = optim.lr_scheduler.ReduceLROnPlateau(optimizer, 'min', verbose=True)\n",
        "train_losses_gn = []\n",
        "test_losses_gn = []\n",
        "train_acc_gn = []\n",
        "test_acc_gn = []\n",
        "for epoch in range(1,20):\n",
        "    print(f\"epoch: {epoch}\")\n",
        "    this_train_loss = model_train(model, device, train_loader, optimizer, train_acc_gn, train_losses_gn)\n",
        "    this_loss = model_test(model, device, test_loader, test_acc_gn, test_losses_gn)\n",
        "    #scheduler.step()\n",
        "    #print(optimizer.)\n",
        "target_test_acc = 70.\n",
        "plot_statistics(train_losses_gn, train_acc_gn, test_losses_gn, test_acc_gn, target_test_acc)\n",
        "incorrect_predictions_ln = get_incorrect_predictions(model, test_loader, device)\n",
        "show_incorrect_predictions(incorrect_predictions_ln, class_names, num_rows = 2, num_cols = 5)\n"
      ]
    }
  ],
  "metadata": {
    "accelerator": "GPU",
    "colab": {
      "gpuType": "T4",
      "provenance": []
    },
    "kernelspec": {
      "display_name": "Python 3",
      "name": "python3"
    },
    "language_info": {
      "codemirror_mode": {
        "name": "ipython",
        "version": 3
      },
      "file_extension": ".py",
      "mimetype": "text/x-python",
      "name": "python",
      "nbconvert_exporter": "python",
      "pygments_lexer": "ipython3",
      "version": "3.10.6"
    },
    "orig_nbformat": 4
  },
  "nbformat": 4,
  "nbformat_minor": 0
}
