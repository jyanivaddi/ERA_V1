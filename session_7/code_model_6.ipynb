{
  "cells": [
    {
      "attachments": {},
      "cell_type": "markdown",
      "metadata": {
        "id": "RkiyBMLVqmf5"
      },
      "source": [
        "Target:\n",
        "* Add dropout regularization with a probability of 10% after each layer (except the final layer) to reduce overfitting\n",
        "\n",
        "Result:\n",
        "* Max Train accuracy (in 15 epochs): 98.67%.\n",
        "* Max test accuracy (in 15 epochs): 99%\n",
        "\n",
        "Analysis:\n",
        "*  The dropout has reduced the accuracy of both train and test which is expected. However the test accuracy is generally higher than train accuracy.\n",
        "* I need to boost my trainset by adding data transformations and augmentations. I will include image rotation in the next iteration to try and improve train accuracy"
      ]
    },
    {
      "cell_type": "code",
      "execution_count": null,
      "metadata": {
        "colab": {
          "base_uri": "https://localhost:8080/"
        },
        "id": "a8J1MOmbqmgC",
        "outputId": "72de47ac-e779-457b-dedf-51580bc568a7"
      },
      "outputs": [],
      "source": [
        "!git clone \"https://github.com/jyanivaddi/ERA_V1.git\"\n",
        "!git pull"
      ]
    },
    {
      "attachments": {},
      "cell_type": "markdown",
      "metadata": {
        "id": "lW3WHIzUqmgF"
      },
      "source": [
        "Add all the imports"
      ]
    },
    {
      "cell_type": "code",
      "execution_count": 1,
      "metadata": {
        "id": "zQ5ZSVQJqmgI"
      },
      "outputs": [],
      "source": [
        "from __future__ import print_function\n",
        "import sys\n",
        "sys.path.append(\"ERA_V1/session_7\")\n",
        "import torch\n",
        "import torch.nn as nn\n",
        "import torch.nn.functional as F\n",
        "import torch.optim as optim\n",
        "from torchvision import transforms\n",
        "from s7_utils import load_mnist_data, preview_batch_images, plot_statistics\n",
        "from s7_model import Model_6_Net, model_summary, model_train, model_test"
      ]
    },
    {
      "attachments": {},
      "cell_type": "markdown",
      "metadata": {
        "id": "n4AHY0CsqmgL"
      },
      "source": [
        "Allocate GPU"
      ]
    },
    {
      "cell_type": "code",
      "execution_count": 2,
      "metadata": {
        "colab": {
          "base_uri": "https://localhost:8080/"
        },
        "id": "3xmgYQudqmgM",
        "outputId": "67981ddb-e38a-426e-ec7f-997bac5ca3d6"
      },
      "outputs": [
        {
          "name": "stdout",
          "output_type": "stream",
          "text": [
            "----------------------------------------------------------------\n",
            "        Layer (type)               Output Shape         Param #\n",
            "================================================================\n",
            "            Conv2d-1           [-1, 12, 26, 26]             108\n",
            "       BatchNorm2d-2           [-1, 12, 26, 26]              24\n",
            "              ReLU-3           [-1, 12, 26, 26]               0\n",
            "           Dropout-4           [-1, 12, 26, 26]               0\n",
            "            Conv2d-5           [-1, 12, 24, 24]           1,296\n",
            "       BatchNorm2d-6           [-1, 12, 24, 24]              24\n",
            "              ReLU-7           [-1, 12, 24, 24]               0\n",
            "           Dropout-8           [-1, 12, 24, 24]               0\n",
            "            Conv2d-9           [-1, 10, 22, 22]           1,080\n",
            "      BatchNorm2d-10           [-1, 10, 22, 22]              20\n",
            "             ReLU-11           [-1, 10, 22, 22]               0\n",
            "          Dropout-12           [-1, 10, 22, 22]               0\n",
            "        MaxPool2d-13           [-1, 10, 11, 11]               0\n",
            "           Conv2d-14             [-1, 12, 9, 9]           1,080\n",
            "      BatchNorm2d-15             [-1, 12, 9, 9]              24\n",
            "             ReLU-16             [-1, 12, 9, 9]               0\n",
            "          Dropout-17             [-1, 12, 9, 9]               0\n",
            "           Conv2d-18             [-1, 12, 7, 7]           1,296\n",
            "      BatchNorm2d-19             [-1, 12, 7, 7]              24\n",
            "             ReLU-20             [-1, 12, 7, 7]               0\n",
            "          Dropout-21             [-1, 12, 7, 7]               0\n",
            "           Conv2d-22             [-1, 12, 5, 5]           1,296\n",
            "      BatchNorm2d-23             [-1, 12, 5, 5]              24\n",
            "             ReLU-24             [-1, 12, 5, 5]               0\n",
            "          Dropout-25             [-1, 12, 5, 5]               0\n",
            "           Conv2d-26             [-1, 12, 3, 3]           1,296\n",
            "      BatchNorm2d-27             [-1, 12, 3, 3]              24\n",
            "             ReLU-28             [-1, 12, 3, 3]               0\n",
            "           Conv2d-29             [-1, 10, 3, 3]             120\n",
            "      BatchNorm2d-30             [-1, 10, 3, 3]              20\n",
            "             ReLU-31             [-1, 10, 3, 3]               0\n",
            "AdaptiveAvgPool2d-32             [-1, 10, 1, 1]               0\n",
            "================================================================\n",
            "Total params: 7,756\n",
            "Trainable params: 7,756\n",
            "Non-trainable params: 0\n",
            "----------------------------------------------------------------\n",
            "Input size (MB): 0.00\n",
            "Forward/backward pass size (MB): 0.68\n",
            "Params size (MB): 0.03\n",
            "Estimated Total Size (MB): 0.71\n",
            "----------------------------------------------------------------\n"
          ]
        }
      ],
      "source": [
        "use_cuda = torch.cuda.is_available()\n",
        "device = torch.device(\"cuda\" if use_cuda else \"cpu\")\n",
        "mnist_model = Model_6_Net().to(device)\n",
        "model_summary(mnist_model, input_size=(1,28,28))"
      ]
    },
    {
      "attachments": {},
      "cell_type": "markdown",
      "metadata": {
        "id": "eF0JlvTsqmgP"
      },
      "source": [
        "Define Transforms"
      ]
    },
    {
      "cell_type": "code",
      "execution_count": null,
      "metadata": {
        "id": "hzPjTF_ZqmgQ"
      },
      "outputs": [],
      "source": [
        "train_transforms = transforms.Compose([\n",
        "    transforms.ToTensor(),\n",
        "    transforms.Normalize((0.1307,),(0.3081,))\n",
        "])\n",
        "test_transforms = transforms.Compose([\n",
        "    transforms.ToTensor(),\n",
        "    transforms.Normalize((0.1307,),(0.3081,))\n",
        "])"
      ]
    },
    {
      "attachments": {},
      "cell_type": "markdown",
      "metadata": {
        "id": "UvBUHxXlqmgR"
      },
      "source": [
        "Download Data"
      ]
    },
    {
      "cell_type": "code",
      "execution_count": null,
      "metadata": {
        "id": "nZPaylEkqmgS"
      },
      "outputs": [],
      "source": [
        "train_data, test_data = load_mnist_data(train_transforms, test_transforms)"
      ]
    },
    {
      "attachments": {},
      "cell_type": "markdown",
      "metadata": {
        "id": "D6f-Ko64qmgU"
      },
      "source": [
        "Define train and test loaders"
      ]
    },
    {
      "cell_type": "code",
      "execution_count": null,
      "metadata": {
        "id": "Z8mQv0iUqmgV"
      },
      "outputs": [],
      "source": [
        "torch.manual_seed(1)\n",
        "batch_size = 128\n",
        "kwargs = {'num_workers': 2, 'pin_memory': True} if use_cuda else {}\n",
        "train_loader = torch.utils.data.DataLoader(train_data, batch_size=batch_size, shuffle = True, **kwargs)\n",
        "test_loader = torch.utils.data.DataLoader(test_data, batch_size = batch_size, shuffle = True, **kwargs)"
      ]
    },
    {
      "attachments": {},
      "cell_type": "markdown",
      "metadata": {
        "id": "q6gJu4mQqmgV"
      },
      "source": [
        "Preview data"
      ]
    },
    {
      "cell_type": "code",
      "execution_count": null,
      "metadata": {
        "colab": {
          "base_uri": "https://localhost:8080/",
          "height": 463
        },
        "id": "DjjB363XqmgW",
        "outputId": "ba1d7c3f-7f1e-4695-8ab4-f566fdc53cd2"
      },
      "outputs": [],
      "source": [
        "preview_batch_images(train_loader)"
      ]
    },
    {
      "cell_type": "code",
      "execution_count": null,
      "metadata": {
        "colab": {
          "base_uri": "https://localhost:8080/"
        },
        "id": "-WmzCEZZqmgW",
        "outputId": "22f28d77-fdd2-4f6d-c3c5-51047844f28f"
      },
      "outputs": [],
      "source": [
        "model = Model_6_Net().to(device)\n",
        "optimizer = optim.SGD(model.parameters(), lr=0.01, momentum=0.9)\n",
        "scheduler = optim.lr_scheduler.StepLR(optimizer, step_size=10, gamma=0.1, verbose=True)\n",
        "scheduler = optim.lr_scheduler.ReduceLROnPlateau(optimizer, 'min')\n",
        "train_losses = []\n",
        "test_losses = []\n",
        "train_acc = []\n",
        "test_acc = []\n",
        "for epoch in range(1,20):\n",
        "    print(f\"epoch: {epoch}\")\n",
        "    this_train_loss = model_train(model, device, train_loader, optimizer, train_acc, train_losses)\n",
        "    this_loss = model_test(model, device, test_loader, test_acc, test_losses)\n",
        "    scheduler.step(this_train_loss)\n"
      ]
    },
    {
      "attachments": {},
      "cell_type": "markdown",
      "metadata": {
        "id": "UvisCz-fqmgX"
      },
      "source": [
        "Plot Statistics"
      ]
    },
    {
      "cell_type": "code",
      "execution_count": null,
      "metadata": {
        "colab": {
          "base_uri": "https://localhost:8080/",
          "height": 775
        },
        "id": "d-K0apFoqmgX",
        "outputId": "0fabe0da-fe42-4795-f7dc-fca125885510"
      },
      "outputs": [],
      "source": [
        "plot_statistics(train_losses, train_acc, test_losses, test_acc)"
      ]
    }
  ],
  "metadata": {
    "accelerator": "GPU",
    "colab": {
      "gpuType": "T4",
      "provenance": []
    },
    "kernelspec": {
      "display_name": "Python 3",
      "name": "python3"
    },
    "language_info": {
      "codemirror_mode": {
        "name": "ipython",
        "version": 3
      },
      "file_extension": ".py",
      "mimetype": "text/x-python",
      "name": "python",
      "nbconvert_exporter": "python",
      "pygments_lexer": "ipython3",
      "version": "3.10.6"
    },
    "orig_nbformat": 4
  },
  "nbformat": 4,
  "nbformat_minor": 0
}
