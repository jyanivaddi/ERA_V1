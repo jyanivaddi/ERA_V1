{
  "cells": [
    {
      "cell_type": "markdown",
      "metadata": {
        "id": "view-in-github",
        "colab_type": "text"
      },
      "source": [
        "<a href=\"https://colab.research.google.com/github/jyanivaddi/ERA_V1/blob/master/session_11/s11.ipynb\" target=\"_parent\"><img src=\"https://colab.research.google.com/assets/colab-badge.svg\" alt=\"Open In Colab\"/></a>"
      ]
    },
    {
      "cell_type": "markdown",
      "metadata": {
        "id": "xMv-YR2zikee"
      },
      "source": [
        "Download our code repository and install python dependencies"
      ]
    },
    {
      "cell_type": "code",
      "execution_count": 1,
      "metadata": {
        "colab": {
          "base_uri": "https://localhost:8080/"
        },
        "id": "a8J1MOmbqmgC",
        "outputId": "f1f8c819-d3e9-4f32-8890-b7f93cdc84ca"
      },
      "outputs": [
        {
          "output_type": "stream",
          "name": "stdout",
          "text": [
            "Cloning into 'ERA_V1'...\n",
            "remote: Enumerating objects: 897, done.\u001b[K\n",
            "remote: Counting objects: 100% (76/76), done.\u001b[K\n",
            "remote: Compressing objects: 100% (67/67), done.\u001b[K\n",
            "remote: Total 897 (delta 34), reused 20 (delta 5), pack-reused 821\u001b[K\n",
            "Receiving objects: 100% (897/897), 14.39 MiB | 25.94 MiB/s, done.\n",
            "Resolving deltas: 100% (479/479), done.\n",
            "fatal: not a git repository (or any of the parent directories): .git\n",
            "Cloning into 'dl_hub'...\n",
            "remote: Enumerating objects: 58, done.\u001b[K\n",
            "remote: Counting objects: 100% (58/58), done.\u001b[K\n",
            "remote: Compressing objects: 100% (40/40), done.\u001b[K\n",
            "remote: Total 58 (delta 22), reused 43 (delta 13), pack-reused 0\u001b[K\n",
            "Receiving objects: 100% (58/58), 13.07 KiB | 1.09 MiB/s, done.\n",
            "Resolving deltas: 100% (22/22), done.\n",
            "fatal: not a git repository (or any of the parent directories): .git\n",
            "Collecting torchinfo\n",
            "  Downloading torchinfo-1.8.0-py3-none-any.whl (23 kB)\n",
            "Installing collected packages: torchinfo\n",
            "Successfully installed torchinfo-1.8.0\n",
            "Requirement already satisfied: prettytable in /usr/local/lib/python3.10/dist-packages (0.7.2)\n",
            "Collecting torch_lr_finder\n",
            "  Downloading torch_lr_finder-0.2.1-py3-none-any.whl (11 kB)\n",
            "Requirement already satisfied: matplotlib in /usr/local/lib/python3.10/dist-packages (from torch_lr_finder) (3.7.1)\n",
            "Requirement already satisfied: numpy in /usr/local/lib/python3.10/dist-packages (from torch_lr_finder) (1.22.4)\n",
            "Requirement already satisfied: torch>=0.4.1 in /usr/local/lib/python3.10/dist-packages (from torch_lr_finder) (2.0.1+cu118)\n",
            "Requirement already satisfied: tqdm in /usr/local/lib/python3.10/dist-packages (from torch_lr_finder) (4.65.0)\n",
            "Requirement already satisfied: packaging in /usr/local/lib/python3.10/dist-packages (from torch_lr_finder) (23.1)\n",
            "Requirement already satisfied: filelock in /usr/local/lib/python3.10/dist-packages (from torch>=0.4.1->torch_lr_finder) (3.12.2)\n",
            "Requirement already satisfied: typing-extensions in /usr/local/lib/python3.10/dist-packages (from torch>=0.4.1->torch_lr_finder) (4.7.1)\n",
            "Requirement already satisfied: sympy in /usr/local/lib/python3.10/dist-packages (from torch>=0.4.1->torch_lr_finder) (1.11.1)\n",
            "Requirement already satisfied: networkx in /usr/local/lib/python3.10/dist-packages (from torch>=0.4.1->torch_lr_finder) (3.1)\n",
            "Requirement already satisfied: jinja2 in /usr/local/lib/python3.10/dist-packages (from torch>=0.4.1->torch_lr_finder) (3.1.2)\n",
            "Requirement already satisfied: triton==2.0.0 in /usr/local/lib/python3.10/dist-packages (from torch>=0.4.1->torch_lr_finder) (2.0.0)\n",
            "Requirement already satisfied: cmake in /usr/local/lib/python3.10/dist-packages (from triton==2.0.0->torch>=0.4.1->torch_lr_finder) (3.25.2)\n",
            "Requirement already satisfied: lit in /usr/local/lib/python3.10/dist-packages (from triton==2.0.0->torch>=0.4.1->torch_lr_finder) (16.0.6)\n",
            "Requirement already satisfied: contourpy>=1.0.1 in /usr/local/lib/python3.10/dist-packages (from matplotlib->torch_lr_finder) (1.1.0)\n",
            "Requirement already satisfied: cycler>=0.10 in /usr/local/lib/python3.10/dist-packages (from matplotlib->torch_lr_finder) (0.11.0)\n",
            "Requirement already satisfied: fonttools>=4.22.0 in /usr/local/lib/python3.10/dist-packages (from matplotlib->torch_lr_finder) (4.41.1)\n",
            "Requirement already satisfied: kiwisolver>=1.0.1 in /usr/local/lib/python3.10/dist-packages (from matplotlib->torch_lr_finder) (1.4.4)\n",
            "Requirement already satisfied: pillow>=6.2.0 in /usr/local/lib/python3.10/dist-packages (from matplotlib->torch_lr_finder) (9.4.0)\n",
            "Requirement already satisfied: pyparsing>=2.3.1 in /usr/local/lib/python3.10/dist-packages (from matplotlib->torch_lr_finder) (3.1.0)\n",
            "Requirement already satisfied: python-dateutil>=2.7 in /usr/local/lib/python3.10/dist-packages (from matplotlib->torch_lr_finder) (2.8.2)\n",
            "Requirement already satisfied: six>=1.5 in /usr/local/lib/python3.10/dist-packages (from python-dateutil>=2.7->matplotlib->torch_lr_finder) (1.16.0)\n",
            "Requirement already satisfied: MarkupSafe>=2.0 in /usr/local/lib/python3.10/dist-packages (from jinja2->torch>=0.4.1->torch_lr_finder) (2.1.3)\n",
            "Requirement already satisfied: mpmath>=0.19 in /usr/local/lib/python3.10/dist-packages (from sympy->torch>=0.4.1->torch_lr_finder) (1.3.0)\n",
            "Installing collected packages: torch_lr_finder\n",
            "Successfully installed torch_lr_finder-0.2.1\n"
          ]
        }
      ],
      "source": [
        "!git clone \"https://github.com/jyanivaddi/ERA_V1.git\"\n",
        "!git pull\n",
        "!git clone \"https://github.com/jyanivaddi/dl_hub.git\"\n",
        "!git pull\n",
        "!pip install torchinfo\n",
        "!pip install prettytable\n",
        "!pip install torch_lr_finder"
      ]
    },
    {
      "cell_type": "markdown",
      "metadata": {
        "id": "lW3WHIzUqmgF"
      },
      "source": [
        "Add all the imports:"
      ]
    },
    {
      "cell_type": "code",
      "execution_count": 2,
      "metadata": {
        "colab": {
          "base_uri": "https://localhost:8080/"
        },
        "id": "zQ5ZSVQJqmgI",
        "outputId": "95aee341-3ce7-4892-d394-c04d6ecd1e07"
      },
      "outputs": [
        {
          "output_type": "stream",
          "name": "stderr",
          "text": [
            "/usr/local/lib/python3.10/dist-packages/torch_lr_finder/lr_finder.py:5: TqdmExperimentalWarning: Using `tqdm.autonotebook.tqdm` in notebook mode. Use `tqdm.tqdm` instead to force console mode (e.g. in jupyter console)\n",
            "  from tqdm.autonotebook import tqdm\n"
          ]
        }
      ],
      "source": [
        "from __future__ import print_function\n",
        "import sys\n",
        "sys.path.append(\"ERA_V1/session_11\")\n",
        "sys.path.append(\"dl_hub\")\n",
        "import torch\n",
        "import torch.nn as nn\n",
        "import torch.nn.functional as F\n",
        "import torch.optim as optim\n",
        "from torchvision import transforms\n",
        "import albumentations as A\n",
        "import albumentations.augmentations as AA\n",
        "from albumentations.pytorch import ToTensorV2\n",
        "from dl_hub.main import setup_model,build_model\n",
        "from dl_hub.utils.utils import model_summary, get_incorrect_predictions\n",
        "from dl_hub.utils.vis_utils import show_incorrect_predictions, plot_statistics, plot_losses, plot_accuracy, plot_lr_values\n"
      ]
    },
    {
      "cell_type": "markdown",
      "metadata": {
        "id": "eF0JlvTsqmgP"
      },
      "source": [
        "Define Albumentations image augmentations. We use RandomResizedCrop, HorizontalFlip, and cutout"
      ]
    },
    {
      "cell_type": "code",
      "execution_count": 3,
      "metadata": {
        "id": "pI6EVt-jmGp6"
      },
      "outputs": [],
      "source": [
        "train_transforms = A.Compose(\n",
        "    [\n",
        "        AA.crops.transforms.RandomResizedCrop(height = 32,width = 32,p=0.2),\n",
        "        A.HorizontalFlip(p=0.2),\n",
        "        AA.dropout.coarse_dropout.CoarseDropout(max_holes = 1, max_height=8,\n",
        "                                                max_width=8, min_holes = 1,\n",
        "                                                min_height=8, min_width=8,\n",
        "                                                fill_value=(0.491, 0.482, 0.447),\n",
        "                                                mask_fill_value = None),\n",
        "\n",
        "        A.Normalize(mean=(0.491,0.482,0.447),std=(0.247,0.244,0.262)),\n",
        "        ToTensorV2(),\n",
        "    ]\n",
        ")\n",
        "test_transforms = A.Compose([\n",
        "\n",
        "    A.Normalize(mean=(0.491,0.482,0.447),std=(0.247,0.244,0.262)),\n",
        "    ToTensorV2(),\n",
        "])"
      ]
    },
    {
      "cell_type": "code",
      "execution_count": 4,
      "metadata": {
        "id": "lnEwxxIcDg8V"
      },
      "outputs": [],
      "source": [
        "optimizer_type = 'SGD'\n",
        "optimizer_params = {\n",
        "    'weight_decay': 5e-4,\n",
        "    'lr': 0.01,\n",
        "    'momentum': 0.9\n",
        "}\n",
        "scheduler_type = 'ReduceLrOnPlateau'\n",
        "scheduler_params = {\n",
        "    'mode': 'min',\n",
        "    'factor': 0.1,\n",
        "    'patience': 4,\n",
        "    'threshold': 0.1\n",
        "}\n",
        "loss_func = nn.CrossEntropyLoss()"
      ]
    },
    {
      "cell_type": "markdown",
      "metadata": {
        "id": "VBfwjcgkDg8Y"
      },
      "source": [
        "Define Parameters"
      ]
    },
    {
      "cell_type": "code",
      "execution_count": 5,
      "metadata": {
        "id": "TTfFFfqtDg8Z"
      },
      "outputs": [],
      "source": [
        "params = {}\n",
        "params['model_type'] = 'RESNET18'\n",
        "params['dataset_name'] = 'CIFAR10'\n",
        "params['batch_size'] = 512\n",
        "params['train_transforms'] = train_transforms\n",
        "params['test_transforms'] = test_transforms\n",
        "params['num_workers'] = 2\n",
        "params['num_epochs'] = 20\n",
        "params['optimizer_type'] = optimizer_type\n",
        "params['optimizer_params'] = optimizer_params\n",
        "params['scheduler_type'] = scheduler_type\n",
        "params['scheduler_params'] = scheduler_params\n",
        "params['loss_func'] = loss_func"
      ]
    },
    {
      "cell_type": "markdown",
      "source": [
        "Set Up Model"
      ],
      "metadata": {
        "id": "8Z-wTdsRJWek"
      }
    },
    {
      "cell_type": "code",
      "source": [
        "device, train_loader, test_loader, class_names, model, optimizer, scheduler = setup_model(params)"
      ],
      "metadata": {
        "id": "iiBkzw_5JYFE",
        "outputId": "cc3a6620-1268-4c7b-bf22-1d93fff88af6",
        "colab": {
          "base_uri": "https://localhost:8080/"
        }
      },
      "execution_count": 6,
      "outputs": [
        {
          "output_type": "stream",
          "name": "stdout",
          "text": [
            "Downloading https://www.cs.toronto.edu/~kriz/cifar-10-python.tar.gz to ../data/cifar-10-python.tar.gz\n"
          ]
        },
        {
          "output_type": "stream",
          "name": "stderr",
          "text": [
            "100%|██████████| 170498071/170498071 [00:01<00:00, 89760342.84it/s]\n"
          ]
        },
        {
          "output_type": "stream",
          "name": "stdout",
          "text": [
            "Extracting ../data/cifar-10-python.tar.gz to ../data\n",
            "Files already downloaded and verified\n"
          ]
        }
      ]
    },
    {
      "cell_type": "markdown",
      "source": [
        "Model Summary"
      ],
      "metadata": {
        "id": "ER7fBDCpQJw-"
      }
    },
    {
      "cell_type": "code",
      "source": [
        "model_summary(model, input_size = (3,32,32))"
      ],
      "metadata": {
        "colab": {
          "base_uri": "https://localhost:8080/"
        },
        "id": "ohOonfrPQTBJ",
        "outputId": "db082a81-22e7-495c-d1d4-0761f0c931c0"
      },
      "execution_count": 11,
      "outputs": [
        {
          "output_type": "stream",
          "name": "stdout",
          "text": [
            "=====================================================================================================================================================================\n",
            "Layer (type:depth-idx)                   Kernel Shape              Input Shape               Output Shape              Param #                   Mult-Adds\n",
            "=====================================================================================================================================================================\n",
            "ResNet                                   --                        [1, 3, 32, 32]            [1, 10]                   --                        --\n",
            "├─Conv2d: 1-1                            [3, 3]                    [1, 3, 32, 32]            [1, 64, 32, 32]           1,728                     1,769,472\n",
            "├─BatchNorm2d: 1-2                       --                        [1, 64, 32, 32]           [1, 64, 32, 32]           128                       128\n",
            "├─Sequential: 1-3                        --                        [1, 64, 32, 32]           [1, 64, 32, 32]           --                        --\n",
            "│    └─BasicBlock: 2-1                   --                        [1, 64, 32, 32]           [1, 64, 32, 32]           --                        --\n",
            "│    │    └─Conv2d: 3-1                  [3, 3]                    [1, 64, 32, 32]           [1, 64, 32, 32]           36,864                    37,748,736\n",
            "│    │    └─BatchNorm2d: 3-2             --                        [1, 64, 32, 32]           [1, 64, 32, 32]           128                       128\n",
            "│    │    └─Conv2d: 3-3                  [3, 3]                    [1, 64, 32, 32]           [1, 64, 32, 32]           36,864                    37,748,736\n",
            "│    │    └─BatchNorm2d: 3-4             --                        [1, 64, 32, 32]           [1, 64, 32, 32]           128                       128\n",
            "│    │    └─Sequential: 3-5              --                        [1, 64, 32, 32]           [1, 64, 32, 32]           --                        --\n",
            "│    └─BasicBlock: 2-2                   --                        [1, 64, 32, 32]           [1, 64, 32, 32]           --                        --\n",
            "│    │    └─Conv2d: 3-6                  [3, 3]                    [1, 64, 32, 32]           [1, 64, 32, 32]           36,864                    37,748,736\n",
            "│    │    └─BatchNorm2d: 3-7             --                        [1, 64, 32, 32]           [1, 64, 32, 32]           128                       128\n",
            "│    │    └─Conv2d: 3-8                  [3, 3]                    [1, 64, 32, 32]           [1, 64, 32, 32]           36,864                    37,748,736\n",
            "│    │    └─BatchNorm2d: 3-9             --                        [1, 64, 32, 32]           [1, 64, 32, 32]           128                       128\n",
            "│    │    └─Sequential: 3-10             --                        [1, 64, 32, 32]           [1, 64, 32, 32]           --                        --\n",
            "├─Sequential: 1-4                        --                        [1, 64, 32, 32]           [1, 128, 16, 16]          --                        --\n",
            "│    └─BasicBlock: 2-3                   --                        [1, 64, 32, 32]           [1, 128, 16, 16]          --                        --\n",
            "│    │    └─Conv2d: 3-11                 [3, 3]                    [1, 64, 32, 32]           [1, 128, 16, 16]          73,728                    18,874,368\n",
            "│    │    └─BatchNorm2d: 3-12            --                        [1, 128, 16, 16]          [1, 128, 16, 16]          256                       256\n",
            "│    │    └─Conv2d: 3-13                 [3, 3]                    [1, 128, 16, 16]          [1, 128, 16, 16]          147,456                   37,748,736\n",
            "│    │    └─BatchNorm2d: 3-14            --                        [1, 128, 16, 16]          [1, 128, 16, 16]          256                       256\n",
            "│    │    └─Sequential: 3-15             --                        [1, 64, 32, 32]           [1, 128, 16, 16]          8,448                     2,097,408\n",
            "│    └─BasicBlock: 2-4                   --                        [1, 128, 16, 16]          [1, 128, 16, 16]          --                        --\n",
            "│    │    └─Conv2d: 3-16                 [3, 3]                    [1, 128, 16, 16]          [1, 128, 16, 16]          147,456                   37,748,736\n",
            "│    │    └─BatchNorm2d: 3-17            --                        [1, 128, 16, 16]          [1, 128, 16, 16]          256                       256\n",
            "│    │    └─Conv2d: 3-18                 [3, 3]                    [1, 128, 16, 16]          [1, 128, 16, 16]          147,456                   37,748,736\n",
            "│    │    └─BatchNorm2d: 3-19            --                        [1, 128, 16, 16]          [1, 128, 16, 16]          256                       256\n",
            "│    │    └─Sequential: 3-20             --                        [1, 128, 16, 16]          [1, 128, 16, 16]          --                        --\n",
            "├─Sequential: 1-5                        --                        [1, 128, 16, 16]          [1, 256, 8, 8]            --                        --\n",
            "│    └─BasicBlock: 2-5                   --                        [1, 128, 16, 16]          [1, 256, 8, 8]            --                        --\n",
            "│    │    └─Conv2d: 3-21                 [3, 3]                    [1, 128, 16, 16]          [1, 256, 8, 8]            294,912                   18,874,368\n",
            "│    │    └─BatchNorm2d: 3-22            --                        [1, 256, 8, 8]            [1, 256, 8, 8]            512                       512\n",
            "│    │    └─Conv2d: 3-23                 [3, 3]                    [1, 256, 8, 8]            [1, 256, 8, 8]            589,824                   37,748,736\n",
            "│    │    └─BatchNorm2d: 3-24            --                        [1, 256, 8, 8]            [1, 256, 8, 8]            512                       512\n",
            "│    │    └─Sequential: 3-25             --                        [1, 128, 16, 16]          [1, 256, 8, 8]            33,280                    2,097,664\n",
            "│    └─BasicBlock: 2-6                   --                        [1, 256, 8, 8]            [1, 256, 8, 8]            --                        --\n",
            "│    │    └─Conv2d: 3-26                 [3, 3]                    [1, 256, 8, 8]            [1, 256, 8, 8]            589,824                   37,748,736\n",
            "│    │    └─BatchNorm2d: 3-27            --                        [1, 256, 8, 8]            [1, 256, 8, 8]            512                       512\n",
            "│    │    └─Conv2d: 3-28                 [3, 3]                    [1, 256, 8, 8]            [1, 256, 8, 8]            589,824                   37,748,736\n",
            "│    │    └─BatchNorm2d: 3-29            --                        [1, 256, 8, 8]            [1, 256, 8, 8]            512                       512\n",
            "│    │    └─Sequential: 3-30             --                        [1, 256, 8, 8]            [1, 256, 8, 8]            --                        --\n",
            "├─Sequential: 1-6                        --                        [1, 256, 8, 8]            [1, 512, 4, 4]            --                        --\n",
            "│    └─BasicBlock: 2-7                   --                        [1, 256, 8, 8]            [1, 512, 4, 4]            --                        --\n",
            "│    │    └─Conv2d: 3-31                 [3, 3]                    [1, 256, 8, 8]            [1, 512, 4, 4]            1,179,648                 18,874,368\n",
            "│    │    └─BatchNorm2d: 3-32            --                        [1, 512, 4, 4]            [1, 512, 4, 4]            1,024                     1,024\n",
            "│    │    └─Conv2d: 3-33                 [3, 3]                    [1, 512, 4, 4]            [1, 512, 4, 4]            2,359,296                 37,748,736\n",
            "│    │    └─BatchNorm2d: 3-34            --                        [1, 512, 4, 4]            [1, 512, 4, 4]            1,024                     1,024\n",
            "│    │    └─Sequential: 3-35             --                        [1, 256, 8, 8]            [1, 512, 4, 4]            132,096                   2,098,176\n",
            "│    └─BasicBlock: 2-8                   --                        [1, 512, 4, 4]            [1, 512, 4, 4]            --                        --\n",
            "│    │    └─Conv2d: 3-36                 [3, 3]                    [1, 512, 4, 4]            [1, 512, 4, 4]            2,359,296                 37,748,736\n",
            "│    │    └─BatchNorm2d: 3-37            --                        [1, 512, 4, 4]            [1, 512, 4, 4]            1,024                     1,024\n",
            "│    │    └─Conv2d: 3-38                 [3, 3]                    [1, 512, 4, 4]            [1, 512, 4, 4]            2,359,296                 37,748,736\n",
            "│    │    └─BatchNorm2d: 3-39            --                        [1, 512, 4, 4]            [1, 512, 4, 4]            1,024                     1,024\n",
            "│    │    └─Sequential: 3-40             --                        [1, 512, 4, 4]            [1, 512, 4, 4]            --                        --\n",
            "├─Linear: 1-7                            --                        [1, 512]                  [1, 10]                   5,130                     5,130\n",
            "=====================================================================================================================================================================\n",
            "Total params: 11,173,962\n",
            "Trainable params: 11,173,962\n",
            "Non-trainable params: 0\n",
            "Total mult-adds (M): 555.43\n",
            "=====================================================================================================================================================================\n",
            "Input size (MB): 0.01\n",
            "Forward/backward pass size (MB): 9.83\n",
            "Params size (MB): 44.70\n",
            "Estimated Total Size (MB): 54.54\n",
            "=====================================================================================================================================================================\n"
          ]
        }
      ]
    },
    {
      "cell_type": "code",
      "source": [
        "model.layer3[1]"
      ],
      "metadata": {
        "id": "Wniky2TgDAim",
        "outputId": "d5e545b8-a452-4b1b-d28c-9774fd92f6bf",
        "colab": {
          "base_uri": "https://localhost:8080/"
        }
      },
      "execution_count": 24,
      "outputs": [
        {
          "output_type": "execute_result",
          "data": {
            "text/plain": [
              "BasicBlock(\n",
              "  (conv1): Conv2d(256, 256, kernel_size=(3, 3), stride=(1, 1), padding=(1, 1), bias=False)\n",
              "  (bn1): BatchNorm2d(256, eps=1e-05, momentum=0.1, affine=True, track_running_stats=True)\n",
              "  (conv2): Conv2d(256, 256, kernel_size=(3, 3), stride=(1, 1), padding=(1, 1), bias=False)\n",
              "  (bn2): BatchNorm2d(256, eps=1e-05, momentum=0.1, affine=True, track_running_stats=True)\n",
              "  (shortcut): Sequential()\n",
              ")"
            ]
          },
          "metadata": {},
          "execution_count": 24
        }
      ]
    },
    {
      "cell_type": "markdown",
      "source": [
        "Build the Model"
      ],
      "metadata": {
        "id": "LPIsd6WGPqBe"
      }
    },
    {
      "cell_type": "code",
      "source": [
        "train_losses, test_losses, train_acc, test_acc = build_model(model, device, train_loader, test_loader, optimizer, scheduler, params)"
      ],
      "metadata": {
        "colab": {
          "base_uri": "https://localhost:8080/"
        },
        "id": "lJk6ChzOPr1d",
        "outputId": "62e26d5f-2a7e-483c-906d-85b26a169f74"
      },
      "execution_count": 7,
      "outputs": [
        {
          "output_type": "stream",
          "name": "stdout",
          "text": [
            "epoch: 1\t learning rate: 0.01\n"
          ]
        },
        {
          "output_type": "stream",
          "name": "stderr",
          "text": [
            "loss=1.411689043045044 batch_id=97 Accuracy = 40.53: 100%|██████████| 98/98 [00:47<00:00,  2.08it/s]\n"
          ]
        },
        {
          "output_type": "stream",
          "name": "stdout",
          "text": [
            "\n",
            "Test set: Average loss: 0.0027, Accuracy: 5203/10000 (52.03%)\n",
            "\n",
            "epoch: 2\t learning rate: 0.01\n"
          ]
        },
        {
          "output_type": "stream",
          "name": "stderr",
          "text": [
            "loss=1.0513280630111694 batch_id=97 Accuracy = 58.04: 100%|██████████| 98/98 [00:39<00:00,  2.46it/s]\n"
          ]
        },
        {
          "output_type": "stream",
          "name": "stdout",
          "text": [
            "\n",
            "Test set: Average loss: 0.0025, Accuracy: 5643/10000 (56.43%)\n",
            "\n",
            "epoch: 3\t learning rate: 0.01\n"
          ]
        },
        {
          "output_type": "stream",
          "name": "stderr",
          "text": [
            "loss=0.8763638734817505 batch_id=97 Accuracy = 66.52: 100%|██████████| 98/98 [00:40<00:00,  2.41it/s]\n"
          ]
        },
        {
          "output_type": "stream",
          "name": "stdout",
          "text": [
            "\n",
            "Test set: Average loss: 0.0018, Accuracy: 6808/10000 (68.08%)\n",
            "\n",
            "epoch: 4\t learning rate: 0.01\n"
          ]
        },
        {
          "output_type": "stream",
          "name": "stderr",
          "text": [
            "loss=0.8755888938903809 batch_id=97 Accuracy = 72.16: 100%|██████████| 98/98 [00:40<00:00,  2.39it/s]\n"
          ]
        },
        {
          "output_type": "stream",
          "name": "stdout",
          "text": [
            "\n",
            "Test set: Average loss: 0.0016, Accuracy: 7319/10000 (73.19%)\n",
            "\n",
            "epoch: 5\t learning rate: 0.01\n"
          ]
        },
        {
          "output_type": "stream",
          "name": "stderr",
          "text": [
            "loss=0.6906794309616089 batch_id=97 Accuracy = 75.60: 100%|██████████| 98/98 [00:41<00:00,  2.38it/s]\n"
          ]
        },
        {
          "output_type": "stream",
          "name": "stdout",
          "text": [
            "\n",
            "Test set: Average loss: 0.0015, Accuracy: 7447/10000 (74.47%)\n",
            "\n",
            "epoch: 6\t learning rate: 0.01\n"
          ]
        },
        {
          "output_type": "stream",
          "name": "stderr",
          "text": [
            "loss=0.5990415215492249 batch_id=97 Accuracy = 78.88: 100%|██████████| 98/98 [00:41<00:00,  2.37it/s]\n"
          ]
        },
        {
          "output_type": "stream",
          "name": "stdout",
          "text": [
            "\n",
            "Test set: Average loss: 0.0014, Accuracy: 7680/10000 (76.80%)\n",
            "\n",
            "epoch: 7\t learning rate: 0.01\n"
          ]
        },
        {
          "output_type": "stream",
          "name": "stderr",
          "text": [
            "loss=0.6062266230583191 batch_id=97 Accuracy = 80.53: 100%|██████████| 98/98 [00:41<00:00,  2.36it/s]\n"
          ]
        },
        {
          "output_type": "stream",
          "name": "stdout",
          "text": [
            "\n",
            "Test set: Average loss: 0.0015, Accuracy: 7697/10000 (76.97%)\n",
            "\n",
            "epoch: 8\t learning rate: 0.01\n"
          ]
        },
        {
          "output_type": "stream",
          "name": "stderr",
          "text": [
            "loss=0.5172030329704285 batch_id=97 Accuracy = 82.48: 100%|██████████| 98/98 [00:41<00:00,  2.36it/s]\n"
          ]
        },
        {
          "output_type": "stream",
          "name": "stdout",
          "text": [
            "\n",
            "Test set: Average loss: 0.0013, Accuracy: 7954/10000 (79.54%)\n",
            "\n",
            "epoch: 9\t learning rate: 0.01\n"
          ]
        },
        {
          "output_type": "stream",
          "name": "stderr",
          "text": [
            "loss=0.48147010803222656 batch_id=97 Accuracy = 84.43: 100%|██████████| 98/98 [00:41<00:00,  2.36it/s]\n"
          ]
        },
        {
          "output_type": "stream",
          "name": "stdout",
          "text": [
            "\n",
            "Test set: Average loss: 0.0016, Accuracy: 7496/10000 (74.96%)\n",
            "\n",
            "epoch: 10\t learning rate: 0.01\n"
          ]
        },
        {
          "output_type": "stream",
          "name": "stderr",
          "text": [
            "loss=0.536141037940979 batch_id=97 Accuracy = 85.42: 100%|██████████| 98/98 [00:41<00:00,  2.36it/s]\n"
          ]
        },
        {
          "output_type": "stream",
          "name": "stdout",
          "text": [
            "\n",
            "Test set: Average loss: 0.0016, Accuracy: 7683/10000 (76.83%)\n",
            "\n",
            "epoch: 11\t learning rate: 0.01\n"
          ]
        },
        {
          "output_type": "stream",
          "name": "stderr",
          "text": [
            "loss=0.3521614968776703 batch_id=97 Accuracy = 86.61: 100%|██████████| 98/98 [00:41<00:00,  2.35it/s]\n"
          ]
        },
        {
          "output_type": "stream",
          "name": "stdout",
          "text": [
            "\n",
            "Test set: Average loss: 0.0013, Accuracy: 7986/10000 (79.86%)\n",
            "\n",
            "Epoch 00011: reducing learning rate of group 0 to 1.0000e-03.\n",
            "epoch: 12\t learning rate: 0.001\n"
          ]
        },
        {
          "output_type": "stream",
          "name": "stderr",
          "text": [
            "loss=0.27059218287467957 batch_id=97 Accuracy = 90.45: 100%|██████████| 98/98 [00:41<00:00,  2.36it/s]\n"
          ]
        },
        {
          "output_type": "stream",
          "name": "stdout",
          "text": [
            "\n",
            "Test set: Average loss: 0.0009, Accuracy: 8559/10000 (85.59%)\n",
            "\n",
            "epoch: 13\t learning rate: 0.001\n"
          ]
        },
        {
          "output_type": "stream",
          "name": "stderr",
          "text": [
            "loss=0.2730853259563446 batch_id=97 Accuracy = 91.49: 100%|██████████| 98/98 [00:41<00:00,  2.35it/s]\n"
          ]
        },
        {
          "output_type": "stream",
          "name": "stdout",
          "text": [
            "\n",
            "Test set: Average loss: 0.0009, Accuracy: 8580/10000 (85.80%)\n",
            "\n",
            "epoch: 14\t learning rate: 0.001\n"
          ]
        },
        {
          "output_type": "stream",
          "name": "stderr",
          "text": [
            "loss=0.2517971098423004 batch_id=97 Accuracy = 91.54: 100%|██████████| 98/98 [00:41<00:00,  2.36it/s]\n"
          ]
        },
        {
          "output_type": "stream",
          "name": "stdout",
          "text": [
            "\n",
            "Test set: Average loss: 0.0009, Accuracy: 8621/10000 (86.21%)\n",
            "\n",
            "epoch: 15\t learning rate: 0.001\n"
          ]
        },
        {
          "output_type": "stream",
          "name": "stderr",
          "text": [
            "loss=0.2041061520576477 batch_id=97 Accuracy = 92.25: 100%|██████████| 98/98 [00:41<00:00,  2.35it/s]\n"
          ]
        },
        {
          "output_type": "stream",
          "name": "stdout",
          "text": [
            "\n",
            "Test set: Average loss: 0.0009, Accuracy: 8590/10000 (85.90%)\n",
            "\n",
            "epoch: 16\t learning rate: 0.001\n"
          ]
        },
        {
          "output_type": "stream",
          "name": "stderr",
          "text": [
            "loss=0.23819667100906372 batch_id=97 Accuracy = 92.42: 100%|██████████| 98/98 [00:41<00:00,  2.36it/s]\n"
          ]
        },
        {
          "output_type": "stream",
          "name": "stdout",
          "text": [
            "\n",
            "Test set: Average loss: 0.0009, Accuracy: 8623/10000 (86.23%)\n",
            "\n",
            "epoch: 17\t learning rate: 0.001\n"
          ]
        },
        {
          "output_type": "stream",
          "name": "stderr",
          "text": [
            "loss=0.18330137431621552 batch_id=97 Accuracy = 92.44: 100%|██████████| 98/98 [00:41<00:00,  2.35it/s]\n"
          ]
        },
        {
          "output_type": "stream",
          "name": "stdout",
          "text": [
            "\n",
            "Test set: Average loss: 0.0009, Accuracy: 8631/10000 (86.31%)\n",
            "\n",
            "Epoch 00017: reducing learning rate of group 0 to 1.0000e-04.\n",
            "epoch: 18\t learning rate: 0.0001\n"
          ]
        },
        {
          "output_type": "stream",
          "name": "stderr",
          "text": [
            "loss=0.20191951096057892 batch_id=97 Accuracy = 92.73: 100%|██████████| 98/98 [00:41<00:00,  2.35it/s]\n"
          ]
        },
        {
          "output_type": "stream",
          "name": "stdout",
          "text": [
            "\n",
            "Test set: Average loss: 0.0009, Accuracy: 8643/10000 (86.43%)\n",
            "\n",
            "epoch: 19\t learning rate: 0.0001\n"
          ]
        },
        {
          "output_type": "stream",
          "name": "stderr",
          "text": [
            "loss=0.2589263319969177 batch_id=97 Accuracy = 92.80: 100%|██████████| 98/98 [00:41<00:00,  2.36it/s]\n"
          ]
        },
        {
          "output_type": "stream",
          "name": "stdout",
          "text": [
            "\n",
            "Test set: Average loss: 0.0009, Accuracy: 8661/10000 (86.61%)\n",
            "\n",
            "epoch: 20\t learning rate: 0.0001\n"
          ]
        },
        {
          "output_type": "stream",
          "name": "stderr",
          "text": [
            "loss=0.24548304080963135 batch_id=97 Accuracy = 92.74: 100%|██████████| 98/98 [00:41<00:00,  2.36it/s]\n"
          ]
        },
        {
          "output_type": "stream",
          "name": "stdout",
          "text": [
            "\n",
            "Test set: Average loss: 0.0009, Accuracy: 8651/10000 (86.51%)\n",
            "\n"
          ]
        }
      ]
    },
    {
      "cell_type": "markdown",
      "source": [
        "Get Incorrect Predictions"
      ],
      "metadata": {
        "id": "n6Cbwo1mEcVQ"
      }
    },
    {
      "cell_type": "code",
      "source": [
        "from utils.utils import get_incorrect_predictions\n",
        "from utils.vis_utils import show_incorrect_predictions\n",
        "incorrect_predictions = get_incorrect_predictions(model, test_loader, device)\n",
        "show_incorrect_predictions(incorrect_predictions, class_names, num_rows = 5, num_cols = 5)"
      ],
      "metadata": {
        "id": "ZECS3rMxEd9V",
        "outputId": "bcd2d153-8bf8-4aee-cdc3-e168e03f4c70",
        "colab": {
          "base_uri": "https://localhost:8080/",
          "height": 526
        }
      },
      "execution_count": 9,
      "outputs": [
        {
          "output_type": "stream",
          "name": "stderr",
          "text": [
            "WARNING:matplotlib.image:Clipping input data to the valid range for imshow with RGB data ([0..1] for floats or [0..255] for integers).\n",
            "WARNING:matplotlib.image:Clipping input data to the valid range for imshow with RGB data ([0..1] for floats or [0..255] for integers).\n",
            "WARNING:matplotlib.image:Clipping input data to the valid range for imshow with RGB data ([0..1] for floats or [0..255] for integers).\n",
            "WARNING:matplotlib.image:Clipping input data to the valid range for imshow with RGB data ([0..1] for floats or [0..255] for integers).\n",
            "WARNING:matplotlib.image:Clipping input data to the valid range for imshow with RGB data ([0..1] for floats or [0..255] for integers).\n",
            "WARNING:matplotlib.image:Clipping input data to the valid range for imshow with RGB data ([0..1] for floats or [0..255] for integers).\n"
          ]
        },
        {
          "output_type": "display_data",
          "data": {
            "text/plain": [
              "<Figure size 640x480 with 25 Axes>"
            ],
            "image/png": "[encoded data removed]"
          },
          "metadata": {}
        }
      ]
    },
    {
      "cell_type": "code",
      "source": [
        "class_names['5']"
      ],
      "metadata": {
        "id": "EglVNWgLL_nC",
        "outputId": "e521de93-d1e9-4558-eaf3-f701565ea123",
        "colab": {
          "base_uri": "https://localhost:8080/",
          "height": 35
        }
      },
      "execution_count": 34,
      "outputs": [
        {
          "output_type": "execute_result",
          "data": {
            "text/plain": [
              "'dog'"
            ],
            "application/vnd.google.colaboratory.intrinsic+json": {
              "type": "string"
            }
          },
          "metadata": {},
          "execution_count": 34
        }
      ]
    },
    {
      "cell_type": "markdown",
      "source": [
        "Grad CAM"
      ],
      "metadata": {
        "id": "3V9PwapeFSyG"
      }
    },
    {
      "cell_type": "code",
      "source": [
        "!pip install grad-cam"
      ],
      "metadata": {
        "id": "r46qH6VTFUC5",
        "outputId": "9b4d8ce9-84a3-42a2-fc82-d00960f84cfb",
        "colab": {
          "base_uri": "https://localhost:8080/"
        }
      },
      "execution_count": 10,
      "outputs": [
        {
          "output_type": "stream",
          "name": "stdout",
          "text": [
            "Collecting grad-cam\n",
            "  Downloading grad-cam-1.4.8.tar.gz (7.8 MB)\n",
            "\u001b[2K     \u001b[90m━━━━━━━━━━━━━━━━━━━━━━━━━━━━━━━━━━━━━━━━\u001b[0m \u001b[32m7.8/7.8 MB\u001b[0m \u001b[31m18.7 MB/s\u001b[0m eta \u001b[36m0:00:00\u001b[0m\n",
            "\u001b[?25h  Installing build dependencies ... \u001b[?25l\u001b[?25hdone\n",
            "  Getting requirements to build wheel ... \u001b[?25l\u001b[?25hdone\n",
            "  Preparing metadata (pyproject.toml) ... \u001b[?25l\u001b[?25hdone\n",
            "Requirement already satisfied: numpy in /usr/local/lib/python3.10/dist-packages (from grad-cam) (1.22.4)\n",
            "Requirement already satisfied: Pillow in /usr/local/lib/python3.10/dist-packages (from grad-cam) (9.4.0)\n",
            "Requirement already satisfied: torch>=1.7.1 in /usr/local/lib/python3.10/dist-packages (from grad-cam) (2.0.1+cu118)\n",
            "Requirement already satisfied: torchvision>=0.8.2 in /usr/local/lib/python3.10/dist-packages (from grad-cam) (0.15.2+cu118)\n",
            "Collecting ttach (from grad-cam)\n",
            "  Downloading ttach-0.0.3-py3-none-any.whl (9.8 kB)\n",
            "Requirement already satisfied: tqdm in /usr/local/lib/python3.10/dist-packages (from grad-cam) (4.65.0)\n",
            "Requirement already satisfied: opencv-python in /usr/local/lib/python3.10/dist-packages (from grad-cam) (4.7.0.72)\n",
            "Requirement already satisfied: matplotlib in /usr/local/lib/python3.10/dist-packages (from grad-cam) (3.7.1)\n",
            "Requirement already satisfied: scikit-learn in /usr/local/lib/python3.10/dist-packages (from grad-cam) (1.2.2)\n",
            "Requirement already satisfied: filelock in /usr/local/lib/python3.10/dist-packages (from torch>=1.7.1->grad-cam) (3.12.2)\n",
            "Requirement already satisfied: typing-extensions in /usr/local/lib/python3.10/dist-packages (from torch>=1.7.1->grad-cam) (4.7.1)\n",
            "Requirement already satisfied: sympy in /usr/local/lib/python3.10/dist-packages (from torch>=1.7.1->grad-cam) (1.11.1)\n",
            "Requirement already satisfied: networkx in /usr/local/lib/python3.10/dist-packages (from torch>=1.7.1->grad-cam) (3.1)\n",
            "Requirement already satisfied: jinja2 in /usr/local/lib/python3.10/dist-packages (from torch>=1.7.1->grad-cam) (3.1.2)\n",
            "Requirement already satisfied: triton==2.0.0 in /usr/local/lib/python3.10/dist-packages (from torch>=1.7.1->grad-cam) (2.0.0)\n",
            "Requirement already satisfied: cmake in /usr/local/lib/python3.10/dist-packages (from triton==2.0.0->torch>=1.7.1->grad-cam) (3.25.2)\n",
            "Requirement already satisfied: lit in /usr/local/lib/python3.10/dist-packages (from triton==2.0.0->torch>=1.7.1->grad-cam) (16.0.6)\n",
            "Requirement already satisfied: requests in /usr/local/lib/python3.10/dist-packages (from torchvision>=0.8.2->grad-cam) (2.27.1)\n",
            "Requirement already satisfied: contourpy>=1.0.1 in /usr/local/lib/python3.10/dist-packages (from matplotlib->grad-cam) (1.1.0)\n",
            "Requirement already satisfied: cycler>=0.10 in /usr/local/lib/python3.10/dist-packages (from matplotlib->grad-cam) (0.11.0)\n",
            "Requirement already satisfied: fonttools>=4.22.0 in /usr/local/lib/python3.10/dist-packages (from matplotlib->grad-cam) (4.41.1)\n",
            "Requirement already satisfied: kiwisolver>=1.0.1 in /usr/local/lib/python3.10/dist-packages (from matplotlib->grad-cam) (1.4.4)\n",
            "Requirement already satisfied: packaging>=20.0 in /usr/local/lib/python3.10/dist-packages (from matplotlib->grad-cam) (23.1)\n",
            "Requirement already satisfied: pyparsing>=2.3.1 in /usr/local/lib/python3.10/dist-packages (from matplotlib->grad-cam) (3.1.0)\n",
            "Requirement already satisfied: python-dateutil>=2.7 in /usr/local/lib/python3.10/dist-packages (from matplotlib->grad-cam) (2.8.2)\n",
            "Requirement already satisfied: scipy>=1.3.2 in /usr/local/lib/python3.10/dist-packages (from scikit-learn->grad-cam) (1.10.1)\n",
            "Requirement already satisfied: joblib>=1.1.1 in /usr/local/lib/python3.10/dist-packages (from scikit-learn->grad-cam) (1.3.1)\n",
            "Requirement already satisfied: threadpoolctl>=2.0.0 in /usr/local/lib/python3.10/dist-packages (from scikit-learn->grad-cam) (3.2.0)\n",
            "Requirement already satisfied: six>=1.5 in /usr/local/lib/python3.10/dist-packages (from python-dateutil>=2.7->matplotlib->grad-cam) (1.16.0)\n",
            "Requirement already satisfied: MarkupSafe>=2.0 in /usr/local/lib/python3.10/dist-packages (from jinja2->torch>=1.7.1->grad-cam) (2.1.3)\n",
            "Requirement already satisfied: urllib3<1.27,>=1.21.1 in /usr/local/lib/python3.10/dist-packages (from requests->torchvision>=0.8.2->grad-cam) (1.26.16)\n",
            "Requirement already satisfied: certifi>=2017.4.17 in /usr/local/lib/python3.10/dist-packages (from requests->torchvision>=0.8.2->grad-cam) (2023.7.22)\n",
            "Requirement already satisfied: charset-normalizer~=2.0.0 in /usr/local/lib/python3.10/dist-packages (from requests->torchvision>=0.8.2->grad-cam) (2.0.12)\n",
            "Requirement already satisfied: idna<4,>=2.5 in /usr/local/lib/python3.10/dist-packages (from requests->torchvision>=0.8.2->grad-cam) (3.4)\n",
            "Requirement already satisfied: mpmath>=0.19 in /usr/local/lib/python3.10/dist-packages (from sympy->torch>=1.7.1->grad-cam) (1.3.0)\n",
            "Building wheels for collected packages: grad-cam\n",
            "  Building wheel for grad-cam (pyproject.toml) ... \u001b[?25l\u001b[?25hdone\n",
            "  Created wheel for grad-cam: filename=grad_cam-1.4.8-py3-none-any.whl size=38247 sha256=e4bb290757ddcb0c46a4b7c9459574be0271376733601a1cd06242015e392902\n",
            "  Stored in directory: /root/.cache/pip/wheels/f8/04/36/94ff3c8a4215826a21946b34c01180817e606989fdf53f7cd6\n",
            "Successfully built grad-cam\n",
            "Installing collected packages: ttach, grad-cam\n",
            "Successfully installed grad-cam-1.4.8 ttach-0.0.3\n"
          ]
        }
      ]
    },
    {
      "cell_type": "markdown",
      "source": [
        "Define GradCAM"
      ],
      "metadata": {
        "id": "5g69CwgAFmR9"
      }
    },
    {
      "cell_type": "code",
      "source": [
        "from pytorch_grad_cam import GradCAM, HiResCAM, ScoreCAM, GradCAMPlusPlus, AblationCAM, XGradCAM, EigenCAM, FullGrad\n",
        "from pytorch_grad_cam.utils.model_targets import ClassifierOutputTarget\n",
        "from pytorch_grad_cam.utils.image import show_cam_on_image\n",
        "import numpy as np\n",
        "\n",
        "def generate_grad_cam_visualization(model, target_layers, input_tensor, targets):\n",
        "    #target_layers = [model.layer4[-1]]\n",
        "    #input_tensor = input_tensor# Create an input tensor image for your model..\n",
        "    # Note: input_tensor can be a batch tensor with several images!\n",
        "\n",
        "    # Construct the CAM object once, and then re-use it on many images:\n",
        "    cam = GradCAM(model=model, target_layers=target_layers, use_cuda=True)\n",
        "\n",
        "    # You can also use it within a with statement, to make sure it is freed,\n",
        "    # In case you need to re-create it inside an outer loop:\n",
        "    # with GradCAM(model=model, target_layers=target_layers, use_cuda=args.use_cuda) as cam:\n",
        "    #   ...\n",
        "\n",
        "    # We have to specify the target we want to generate\n",
        "    # the Class Activation Maps for.\n",
        "    # If targets is None, the highest scoring category\n",
        "    # will be used for every image in the batch.\n",
        "    # Here we use ClassifierOutputTarget, but you can define your own custom targets\n",
        "    # That are, for example, combinations of categories, or specific outputs in a non standard model.\n",
        "\n",
        "    #targets = [ClassifierOutputTarget(281)]\n",
        "\n",
        "    # You can also pass aug_smooth=True and eigen_smooth=True, to apply smoothing.\n",
        "    grayscale_cam = cam(input_tensor=input_tensor, targets=targets)\n",
        "\n",
        "    # In this example grayscale_cam has only one image in the batch:\n",
        "    grayscale_cam = grayscale_cam[0, :]\n",
        "    print(np.max(np.asarray(input_tensor.squeeze())))\n",
        "    print(np.min(np.asarray(input_tensor.squeeze())))\n",
        "    visualization = show_cam_on_image(img, grayscale_cam, use_rgb=True)"
      ],
      "metadata": {
        "id": "W_LAbs9kFn64"
      },
      "execution_count": 56,
      "outputs": []
    },
    {
      "cell_type": "code",
      "source": [
        "input_tensor = torch.unsqueeze(incorrect_predictions[0][0],0)\n",
        "target_layers = [model.layer3[-1]]\n",
        "targets = None #[incorrect_predictions[0][2]]\n",
        "generate_grad_cam_visualization(model, target_layers, input_tensor, targets)"
      ],
      "metadata": {
        "id": "RQMKYXOILpyF",
        "outputId": "91340734-ffce-49e4-8fd7-400ddb126211",
        "colab": {
          "base_uri": "https://localhost:8080/",
          "height": 321
        }
      },
      "execution_count": 57,
      "outputs": [
        {
          "output_type": "stream",
          "name": "stdout",
          "text": [
            "1.7908232\n",
            "-1.9878542\n"
          ]
        },
        {
          "output_type": "error",
          "ename": "NameError",
          "evalue": "ignored",
          "traceback": [
            "\u001b[0;31m---------------------------------------------------------------------------\u001b[0m",
            "\u001b[0;31mNameError\u001b[0m                                 Traceback (most recent call last)",
            "\u001b[0;32m<ipython-input-57-e514ba237586>\u001b[0m in \u001b[0;36m<cell line: 4>\u001b[0;34m()\u001b[0m\n\u001b[1;32m      2\u001b[0m \u001b[0mtarget_layers\u001b[0m \u001b[0;34m=\u001b[0m \u001b[0;34m[\u001b[0m\u001b[0mmodel\u001b[0m\u001b[0;34m.\u001b[0m\u001b[0mlayer3\u001b[0m\u001b[0;34m[\u001b[0m\u001b[0;34m-\u001b[0m\u001b[0;36m1\u001b[0m\u001b[0;34m]\u001b[0m\u001b[0;34m]\u001b[0m\u001b[0;34m\u001b[0m\u001b[0;34m\u001b[0m\u001b[0m\n\u001b[1;32m      3\u001b[0m \u001b[0mtargets\u001b[0m \u001b[0;34m=\u001b[0m \u001b[0;32mNone\u001b[0m \u001b[0;31m#[incorrect_predictions[0][2]]\u001b[0m\u001b[0;34m\u001b[0m\u001b[0;34m\u001b[0m\u001b[0m\n\u001b[0;32m----> 4\u001b[0;31m \u001b[0mgenerate_grad_cam_visualization\u001b[0m\u001b[0;34m(\u001b[0m\u001b[0mmodel\u001b[0m\u001b[0;34m,\u001b[0m \u001b[0mtarget_layers\u001b[0m\u001b[0;34m,\u001b[0m \u001b[0minput_tensor\u001b[0m\u001b[0;34m,\u001b[0m \u001b[0mtargets\u001b[0m\u001b[0;34m)\u001b[0m\u001b[0;34m\u001b[0m\u001b[0;34m\u001b[0m\u001b[0m\n\u001b[0m",
            "\u001b[0;32m<ipython-input-56-7324f782c8d0>\u001b[0m in \u001b[0;36mgenerate_grad_cam_visualization\u001b[0;34m(model, target_layers, input_tensor, targets)\u001b[0m\n\u001b[1;32m     33\u001b[0m     \u001b[0mprint\u001b[0m\u001b[0;34m(\u001b[0m\u001b[0mnp\u001b[0m\u001b[0;34m.\u001b[0m\u001b[0mmax\u001b[0m\u001b[0;34m(\u001b[0m\u001b[0mnp\u001b[0m\u001b[0;34m.\u001b[0m\u001b[0masarray\u001b[0m\u001b[0;34m(\u001b[0m\u001b[0minput_tensor\u001b[0m\u001b[0;34m.\u001b[0m\u001b[0msqueeze\u001b[0m\u001b[0;34m(\u001b[0m\u001b[0;34m)\u001b[0m\u001b[0;34m)\u001b[0m\u001b[0;34m)\u001b[0m\u001b[0;34m)\u001b[0m\u001b[0;34m\u001b[0m\u001b[0;34m\u001b[0m\u001b[0m\n\u001b[1;32m     34\u001b[0m     \u001b[0mprint\u001b[0m\u001b[0;34m(\u001b[0m\u001b[0mnp\u001b[0m\u001b[0;34m.\u001b[0m\u001b[0mmin\u001b[0m\u001b[0;34m(\u001b[0m\u001b[0mnp\u001b[0m\u001b[0;34m.\u001b[0m\u001b[0masarray\u001b[0m\u001b[0;34m(\u001b[0m\u001b[0minput_tensor\u001b[0m\u001b[0;34m.\u001b[0m\u001b[0msqueeze\u001b[0m\u001b[0;34m(\u001b[0m\u001b[0;34m)\u001b[0m\u001b[0;34m)\u001b[0m\u001b[0;34m)\u001b[0m\u001b[0;34m)\u001b[0m\u001b[0;34m\u001b[0m\u001b[0;34m\u001b[0m\u001b[0m\n\u001b[0;32m---> 35\u001b[0;31m     \u001b[0mvisualization\u001b[0m \u001b[0;34m=\u001b[0m \u001b[0mshow_cam_on_image\u001b[0m\u001b[0;34m(\u001b[0m\u001b[0mimg\u001b[0m\u001b[0;34m,\u001b[0m \u001b[0mgrayscale_cam\u001b[0m\u001b[0;34m,\u001b[0m \u001b[0muse_rgb\u001b[0m\u001b[0;34m=\u001b[0m\u001b[0;32mTrue\u001b[0m\u001b[0;34m)\u001b[0m\u001b[0;34m\u001b[0m\u001b[0;34m\u001b[0m\u001b[0m\n\u001b[0m",
            "\u001b[0;31mNameError\u001b[0m: name 'img' is not defined"
          ]
        }
      ]
    },
    {
      "cell_type": "code",
      "execution_count": null,
      "metadata": {
        "id": "Jm_7N56ksma4"
      },
      "outputs": [],
      "source": [
        "import numpy as np\n",
        "import matplotlib.pyplot as plt\n",
        "from torchvision import datasets, transforms\n",
        "\n",
        "def un_normalize_image(img):\n",
        "    un_norm_transform = transforms.Compose([transforms.Normalize((0.,0.,0.,),(1./0.247,1./0.244,1./0.262)),\n",
        "                                                 transforms.Normalize((-0.491,-0.482,-0.447),(1.0,1.0,1.0))])\n",
        "    return un_norm_transform(img)\n",
        "\n",
        "def preview_augmentations(train_loader, image_transform):\n",
        "    batch_data, batch_label = next(iter(train_loader))\n",
        "    preview_img = np.asarray(un_normalize_image(batch_data[0].squeeze()))\n",
        "    preview_img = (preview_img*255./np.max(preview_img)).astype('uint8')\n",
        "    preview_label = batch_label[0]\n",
        "    fig, axs = plt.subplots(1, 2)\n",
        "    plt.tight_layout()\n",
        "\n",
        "    un_normalized_img = un_normalize_image(batch_data[0].squeeze())\n",
        "    un_normalized_img = np.asarray(un_normalized_img)\n",
        "    transformed_numpy_img = image_transform(image = un_normalized_img.transpose(1,2,0))[\"image\"]\n",
        "    axs[0].imshow(preview_img.transpose((1,2,0)))\n",
        "    axs[0].set_xticks([])\n",
        "    axs[0].set_yticks([])\n",
        "    axs[1].imshow(transformed_numpy_img)\n",
        "    axs[1].set_xticks([])\n",
        "    axs[1].set_yticks([])\n",
        "    plt.tight_layout()\n",
        "    plt.show()\n",
        "\n",
        "# Reload train and test loader to preview augmentations\n",
        "torch.manual_seed(1)\n",
        "batch_size = 512\n",
        "kwargs = {'num_workers': 2, 'pin_memory': True} if use_cuda else {}\n",
        "eg_train_loader, eg_test_loader, eg_class_names = load_cifar10_data(train_transforms= A.Compose([A.Normalize(mean=(0.491,0.482,0.447),std=(0.247,0.244,0.262)),ToTensorV2()]), test_transforms=A.Compose([A.Normalize(mean=(0.491,0.482,0.447),std=(0.247,0.244,0.262)),ToTensorV2()]), batch_size=32, **kwargs)\n",
        "\n",
        "# Random Resized Crop\n",
        "img_transforms = A.Compose([AA.crops.transforms.RandomResizedCrop(height= 32,width = 32,p=0.2)])\n",
        "preview_augmentations(eg_train_loader, img_transforms)\n",
        "\n",
        "# Horizontal Flip\n",
        "img_transforms = A.Compose([A.HorizontalFlip(always_apply=True)])\n",
        "preview_augmentations(eg_train_loader, img_transforms)\n",
        "\n",
        "# Cut out\n",
        "img_transforms = A.Compose([AA.dropout.coarse_dropout.CoarseDropout(max_holes = 1, max_height=8,\n",
        "                                                max_width=8, min_holes = 1,\n",
        "                                                min_height=8, min_width=8,\n",
        "                                                fill_value=(0.491, 0.482, 0.447),\n",
        "                                                mask_fill_value = None, always_apply=True)])\n",
        "preview_augmentations(eg_train_loader, img_transforms)\n",
        "\n"
      ]
    },
    {
      "cell_type": "markdown",
      "metadata": {
        "id": "RQB2RLRxtSlv"
      },
      "source": [
        "Show sample Images from the dataset"
      ]
    },
    {
      "cell_type": "code",
      "execution_count": null,
      "metadata": {
        "id": "DjjB363XqmgW"
      },
      "outputs": [],
      "source": [
        "preview_images(train_loader,class_names, num_rows = 5, num_cols = 5)"
      ]
    },
    {
      "cell_type": "markdown",
      "metadata": {
        "id": "FCSVRbYZmmOG"
      },
      "source": [
        "Train model using Batch Normalization"
      ]
    },
    {
      "cell_type": "code",
      "execution_count": null,
      "metadata": {
        "id": "ysHqVyhGZJ27"
      },
      "outputs": [],
      "source": [
        "drop_out = 0.02\n",
        "num_epochs=24\n",
        "resnet_model = CustomResnet(base_channels=3, num_classes=10,drop_out_probability=drop_out).to(device)\n",
        "criterion = nn.CrossEntropyLoss(reduction='mean')\n",
        "optim_obj = Optimization(resnet_model, device, train_loader, criterion, num_epochs)\n",
        "lr_history = find_best_lr(resnet_model, train_loader, optim_obj.optimizer, criterion, device)\n"
      ]
    },
    {
      "cell_type": "code",
      "execution_count": null,
      "metadata": {
        "id": "I8RlOADSBX4y"
      },
      "outputs": [],
      "source": [
        "from torch.optim.lr_scheduler import OneCycleLR\n",
        "#optim_obj.define_scheduler(max_lr=4.93E-2)\n",
        "train_losses = []\n",
        "test_losses = []\n",
        "train_acc = []\n",
        "test_acc = []\n",
        "lr_values = []\n",
        "def define_scheduler(max_lr):\n",
        "    scheduler = OneCycleLR(\n",
        "        optim_obj.optimizer,\n",
        "        max_lr = max_lr,\n",
        "        steps_per_epoch=len(optim_obj.train_loader),\n",
        "        epochs = num_epochs,\n",
        "        pct_start = 5./num_epochs,\n",
        "        div_factor=2000,\n",
        "        three_phase=False,\n",
        "        final_div_factor= 100,\n",
        "        anneal_strategy='linear',\n",
        "        verbose=False\n",
        "        )\n",
        "    return scheduler\n",
        "\n",
        "max_lr = 4.65e-2\n",
        "optim_obj.scheduler = define_scheduler(max_lr)\n",
        "\n",
        "for epoch in range(1,num_epochs+1):\n",
        "    lr_values.append(optim_obj.scheduler.get_lr())\n",
        "    print(f\"epoch: {epoch}\\t learning rate: {optim_obj.scheduler.get_last_lr()[0]}\")\n",
        "    this_train_loss = training_loop(resnet_model, device, train_loader, optim_obj.optimizer, optim_obj.scheduler, criterion, train_acc, train_losses)\n",
        "    this_loss = model_test(resnet_model, device, test_loader, criterion, test_acc, test_losses)\n",
        "    #optim_obj.scheduler.step()\n",
        "\n"
      ]
    },
    {
      "cell_type": "markdown",
      "metadata": {
        "id": "b7zJvrQjP8nR"
      },
      "source": [
        "Plot LR values"
      ]
    },
    {
      "cell_type": "code",
      "execution_count": null,
      "metadata": {
        "id": "oTncfVknP7wM"
      },
      "outputs": [],
      "source": [
        "import matplotlib.pyplot as plt\n",
        "def plot_lr_values2(lr_list):\n",
        "    num_epochs = len(lr_list)\n",
        "    plt.figure()\n",
        "    plt.plot(range(1,num_epochs+1),lr_list)\n",
        "    plt.xlabel('Epoch #')\n",
        "    plt.ylabel(\"Learning Rate\")\n",
        "    #plt.yscale('log')\n",
        "    plt.show()\n",
        "\n",
        "def plot_lr_values(scheduler, num_epochs, num_batches):\n",
        "    lrs = []\n",
        "    steps = []\n",
        "    for epoch in range(num_epochs):\n",
        "        for batch in range(num_batches):\n",
        "            scheduler.step()\n",
        "            lrs.append(scheduler.get_last_lr()[0])\n",
        "            steps.append(epoch * num_batches + batch)\n",
        "\n",
        "    plt.figure()\n",
        "    plt.legend()\n",
        "    plt.plot(steps, lrs, label='OneCycle')\n",
        "    plt.show()\n",
        "\n",
        "def plot_losses(train_losses, test_losses):\n",
        "    fig, axs = plt.subplots(1, 2, figsize=(15, 10))\n",
        "    epochs = range(1,len(train_losses)+1)\n",
        "    axs[0].plot(epochs, train_losses)\n",
        "    axs[0].set_title(\"Train\")\n",
        "    axs[1].plot(epochs, test_losses)\n",
        "    axs[1].set_title(\"Test\")\n",
        "\n",
        "def plot_accuracy(train_acc, test_acc, target_test_acc = 90.):\n",
        "    epochs = range(1,len(train_acc)+1)\n",
        "    plt.figure()\n",
        "    plt.plot(epochs, train_acc, epochs, test_acc)\n",
        "    plt.axhline(target_test_acc, color='r')\n",
        "    plt.legend(('Train','Test'),loc='best')\n",
        "    plt.title(\"Accuracy\")\n"
      ]
    },
    {
      "cell_type": "markdown",
      "metadata": {
        "id": "MWzELTZYazCZ"
      },
      "source": [
        "Plot results for Batch Norm experiment"
      ]
    },
    {
      "cell_type": "code",
      "execution_count": null,
      "metadata": {
        "id": "OEU2V5lxayQJ"
      },
      "outputs": [],
      "source": [
        "this_scheduler = OneCycleLR(\n",
        "        optim_obj.optimizer,\n",
        "        max_lr = max_lr,\n",
        "        steps_per_epoch=len(optim_obj.train_loader),\n",
        "        epochs = num_epochs,\n",
        "        pct_start = 5./num_epochs,\n",
        "        div_factor=200,\n",
        "        three_phase=False,\n",
        "        #final_div_factor=1000,\n",
        "        anneal_strategy='linear',\n",
        "        verbose=False\n",
        "        )\n",
        "plot_lr_values(this_scheduler, num_epochs, len(train_loader))\n",
        "plot_losses(train_losses, test_losses)\n",
        "plot_accuracy(train_acc, test_acc, target_test_acc=90.)\n"
      ]
    },
    {
      "cell_type": "markdown",
      "metadata": {
        "id": "b4Uz2jryV3u1"
      },
      "source": [
        "Print Training Log"
      ]
    },
    {
      "cell_type": "code",
      "execution_count": null,
      "metadata": {
        "id": "Ew5n7bbgW1OK"
      },
      "outputs": [],
      "source": [
        "print_train_log(train_acc, test_acc, train_losses, test_losses)"
      ]
    }
  ],
  "metadata": {
    "colab": {
      "gpuType": "T4",
      "provenance": [],
      "include_colab_link": true
    },
    "kernelspec": {
      "display_name": "Python 3",
      "name": "python3"
    },
    "language_info": {
      "codemirror_mode": {
        "name": "ipython",
        "version": 3
      },
      "file_extension": ".py",
      "mimetype": "text/x-python",
      "name": "python",
      "nbconvert_exporter": "python",
      "pygments_lexer": "ipython3",
      "version": "3.10.6"
    },
    "orig_nbformat": 4,
    "accelerator": "GPU"
  },
  "nbformat": 4,
  "nbformat_minor": 0
}