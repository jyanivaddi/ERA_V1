{
  "cells": [
    {
      "cell_type": "markdown",
      "metadata": {
        "id": "view-in-github",
        "colab_type": "text"
      },
      "source": [
        "<a href=\"https://colab.research.google.com/github/jyanivaddi/ERA_V1/blob/master/session_12/s12.ipynb\" target=\"_parent\"><img src=\"https://colab.research.google.com/assets/colab-badge.svg\" alt=\"Open In Colab\"/></a>"
      ]
    },
    {
      "cell_type": "markdown",
      "metadata": {
        "id": "xMv-YR2zikee"
      },
      "source": [
        "Download our code repository and install python dependencies"
      ]
    },
    {
      "cell_type": "code",
      "execution_count": 1,
      "metadata": {
        "colab": {
          "base_uri": "https://localhost:8080/"
        },
        "id": "a8J1MOmbqmgC",
        "outputId": "08b13b2b-3f26-48dd-f156-714ed8aae0cb"
      },
      "outputs": [
        {
          "output_type": "stream",
          "name": "stdout",
          "text": [
            "Cloning into 'ERA_V1'...\n",
            "remote: Enumerating objects: 1008, done.\u001b[K\n",
            "remote: Counting objects: 100% (187/187), done.\u001b[K\n",
            "remote: Compressing objects: 100% (147/147), done.\u001b[K\n",
            "remote: Total 1008 (delta 80), reused 49 (delta 14), pack-reused 821\u001b[K\n",
            "Receiving objects: 100% (1008/1008), 17.40 MiB | 20.43 MiB/s, done.\n",
            "Resolving deltas: 100% (525/525), done.\n",
            "fatal: not a git repository (or any of the parent directories): .git\n",
            "Cloning into 'dl_hub'...\n",
            "remote: Enumerating objects: 122, done.\u001b[K\n",
            "remote: Counting objects: 100% (122/122), done.\u001b[K\n",
            "remote: Compressing objects: 100% (87/87), done.\u001b[K\n",
            "remote: Total 122 (delta 57), reused 89 (delta 30), pack-reused 0\u001b[K\n",
            "Receiving objects: 100% (122/122), 24.74 KiB | 3.09 MiB/s, done.\n",
            "Resolving deltas: 100% (57/57), done.\n",
            "fatal: not a git repository (or any of the parent directories): .git\n",
            "\u001b[2K     \u001b[90m━━━━━━━━━━━━━━━━━━━━━━━━━━━━━━━━━━━━━━━\u001b[0m \u001b[32m722.8/722.8 kB\u001b[0m \u001b[31m4.8 MB/s\u001b[0m eta \u001b[36m0:00:00\u001b[0m\n",
            "\u001b[2K     \u001b[90m━━━━━━━━━━━━━━━━━━━━━━━━━━━━━━━━━━━━━━━\u001b[0m \u001b[32m729.2/729.2 kB\u001b[0m \u001b[31m7.7 MB/s\u001b[0m eta \u001b[36m0:00:00\u001b[0m\n",
            "\u001b[2K     \u001b[90m━━━━━━━━━━━━━━━━━━━━━━━━━━━━━━━━━━━━━━━\u001b[0m \u001b[32m300.8/300.8 kB\u001b[0m \u001b[31m7.5 MB/s\u001b[0m eta \u001b[36m0:00:00\u001b[0m\n",
            "\u001b[2K     \u001b[90m━━━━━━━━━━━━━━━━━━━━━━━━━━━━━━━━━━━━━━━\u001b[0m \u001b[32m829.5/829.5 kB\u001b[0m \u001b[31m9.4 MB/s\u001b[0m eta \u001b[36m0:00:00\u001b[0m\n",
            "\u001b[2K     \u001b[90m━━━━━━━━━━━━━━━━━━━━━━━━━━━━━━━━━━━━━━━━\u001b[0m \u001b[32m7.8/7.8 MB\u001b[0m \u001b[31m15.4 MB/s\u001b[0m eta \u001b[36m0:00:00\u001b[0m\n",
            "\u001b[?25h  Installing build dependencies ... \u001b[?25l\u001b[?25hdone\n",
            "  Getting requirements to build wheel ... \u001b[?25l\u001b[?25hdone\n",
            "  Preparing metadata (pyproject.toml) ... \u001b[?25l\u001b[?25hdone\n",
            "  Building wheel for grad-cam (pyproject.toml) ... \u001b[?25l\u001b[?25hdone\n"
          ]
        }
      ],
      "source": [
        "!git clone \"https://github.com/jyanivaddi/ERA_V1.git\"\n",
        "!git pull\n",
        "!git clone \"https://github.com/jyanivaddi/dl_hub.git\"\n",
        "!git pull\n",
        "!pip install --quiet \"torchinfo\" \"seaborn\" \"pytorch-lightning\" \"torchmetrics\" \"lightning-bolts\"\n",
        "!pip install --quiet \"prettytable\"\n",
        "!pip install --quiet \"torch_lr_finder\"\n",
        "!pip install --quiet \"grad-cam\""
      ]
    },
    {
      "cell_type": "markdown",
      "metadata": {
        "id": "lW3WHIzUqmgF"
      },
      "source": [
        "Add all the imports:"
      ]
    },
    {
      "cell_type": "code",
      "execution_count": 4,
      "metadata": {
        "colab": {
          "base_uri": "https://localhost:8080/"
        },
        "id": "zQ5ZSVQJqmgI",
        "outputId": "7e7bdd93-65c4-4fbb-c863-05d67162c8aa"
      },
      "outputs": [
        {
          "output_type": "stream",
          "name": "stderr",
          "text": [
            "/usr/local/lib/python3.10/dist-packages/ipykernel/ipkernel.py:283: DeprecationWarning: `should_run_async` will not call `transform_cell` automatically in the future. Please pass the result to `transformed_cell` argument and any exception that happen during thetransform in `preprocessing_exc_tuple` in IPython 7.17 and above.\n",
            "  and should_run_async(code)\n"
          ]
        }
      ],
      "source": [
        "from __future__ import print_function\n",
        "import os\n",
        "import sys\n",
        "from typing import Any\n",
        "sys.path.append(\"../dl_hub\")\n",
        "sys.path.append(\"../ERA_V1/session_12\")\n",
        "import torch\n",
        "import torch.nn.functional as F\n",
        "import torch.optim as optim\n",
        "from torch.utils.data import DataLoader\n",
        "import albumentations as A\n",
        "import albumentations.augmentations as AA\n",
        "from albumentations.pytorch import ToTensorV2\n",
        "from pytorch_lightning import seed_everything\n",
        "from dl_hub.models.custom_resnet import CustomResnet, model_summary\n",
        "from dl_hub.dataloaders.pl_custom_cifar10_datamodule import CustomCifar10DataModule\n",
        "from dl_hub.models.pl_custom_resnet import LitResnet\n",
        "from dl_hub.utils.utils import find_best_lr\n",
        "from dl_hub.PL_main import define_pl_model_resnet, build_data_module, train_and_eval_pl_model, get_max_lr\n"
      ]
    },
    {
      "cell_type": "markdown",
      "metadata": {
        "id": "3ZxVxLwPfor6"
      },
      "source": [
        "Image augmentations using albumentations"
      ]
    },
    {
      "cell_type": "code",
      "execution_count": null,
      "metadata": {
        "id": "_J5g1v4kg3Mh"
      },
      "outputs": [],
      "source": [
        "train_transforms = A.Compose([\n",
        "    A.Normalize(mean=(0.491,0.482,0.447),std=(0.247,0.244,0.262), always_apply=True),\n",
        "    A.transforms.PadIfNeeded(min_height=40, min_width=40, always_apply=True),\n",
        "    AA.crops.transforms.RandomCrop(height=32, width=32, always_apply=True),\n",
        "    A.HorizontalFlip(),\n",
        "    AA.dropout.coarse_dropout.CoarseDropout(max_holes = 1,\n",
        "                                            max_height=8,\n",
        "                                            max_width=8,\n",
        "                                            min_holes = 1,\n",
        "                                            min_height=8,\n",
        "                                            min_width=8,\n",
        "                                            fill_value=(0.491, 0.482, 0.447),\n",
        "                                            mask_fill_value = None),\n",
        "    ToTensorV2()])\n",
        "test_transforms = A.Compose([\n",
        "    A.Normalize(mean=(0.491,0.482,0.447),std=(0.247,0.244,0.262), always_apply=True),\n",
        "    ToTensorV2(),])\n",
        "val_transforms = test_transforms\n"
      ]
    },
    {
      "cell_type": "markdown",
      "metadata": {
        "id": "35Vuih-Fg3Mh"
      },
      "source": [
        "Define optimizer and scheduler"
      ]
    },
    {
      "cell_type": "code",
      "execution_count": null,
      "metadata": {
        "id": "xzsHQddig3Mh"
      },
      "outputs": [],
      "source": []
    },
    {
      "cell_type": "code",
      "execution_count": null,
      "metadata": {
        "id": "Y3ABaj3_TKoX"
      },
      "outputs": [],
      "source": [
        "GLOBAL_SEED = 42\n",
        "seed_everything(GLOBAL_SEED)\n",
        "PATH_DATASETS = os.environ.get(\"PATH_DATASETS\", \".\")\n",
        "BATCH_SIZE = 512 if torch.cuda.is_available() else 64\n",
        "NUM_WORKERS = 2\n",
        "NUM_EPOCHS = 24\n",
        "data_dir = PATH_DATASETS\n",
        "cifar10_dm = CustomCifar10DataModule(\n",
        "    data_dir,\n",
        "    train_transforms,\n",
        "    val_transforms,\n",
        "    test_transforms,\n",
        "    BATCH_SIZE,\n",
        "    val_split = 0.1\n",
        ")\n",
        "cifar10_dm.prepare_data()\n",
        "cifar10_dm.setup()\n",
        "drop_out_probability=0.05\n",
        "dummy_model = LitResnet(lr=0.01,base_channels=3, num_classes=10,\n",
        "                  drop_out_probability=drop_out_probability)\n",
        "tl = DataLoader(cifar10_dm.train_dataset,\n",
        "                          batch_size=BATCH_SIZE,\n",
        "                          num_workers=NUM_WORKERS,\n",
        "                          shuffle=True)\n",
        "optimizer = optim.Adam(dummy_model.parameters(),lr=0.01, weight_decay=1e-4)\n",
        "criterion = F.nll_loss\n",
        "use_cuda = torch.cuda.is_available()\n",
        "device = torch.device(\"cuda\" if use_cuda else \"cpu\")\n",
        "lr_history = find_best_lr(dummy_model, tl, optimizer, criterion, device)\n",
        "drop_out_probability=0.05\n",
        "criterion = F.nll_loss\n",
        "dummy_model = LitResnet(criterion, lr=0.01,base_channels=3, num_classes=10,\n",
        "                  drop_out_probability=drop_out_probability)\n",
        "tl = DataLoader(cifar10_dm.train_dataset,\n",
        "                          batch_size=BATCH_SIZE,\n",
        "                          num_workers=NUM_WORKERS,\n",
        "                          shuffle=True)\n",
        "optimizer = optim.Adam(dummy_model.parameters(),lr=0.01, weight_decay=1e-4)\n",
        "use_cuda = torch.cuda.is_available()\n",
        "device = torch.device(\"cuda\" if use_cuda else \"cpu\")\n",
        "lr_history = find_best_lr(dummy_model, tl, optimizer, criterion, device)\n",
        "NUM_EPOCHS = 24\n",
        "drop_out_probability=0.1\n",
        "criterion = F.nll_loss\n",
        "resnet_model = LitResnet(criterion, lr=0.01,base_channels=3, num_classes=10,\n",
        "                  drop_out_probability=drop_out_probability, epochs=NUM_EPOCHS)\n",
        "resnet_model.set_optimizer(optim.Adam(resnet_model.parameters(),\n",
        "                               lr=resnet_model.hparams.lr,\n",
        "                               weight_decay=1e-4))\n",
        "steps_per_epoch = len(cifar10_dm.train_dataset) // BATCH_SIZE\n",
        "max_epochs = 24\n",
        "resnet_model.set_scheduler_dict({\n",
        "    \"scheduler\": OneCycleLR(\n",
        "        resnet_model.optimizer,\n",
        "        max_lr = 1.87E-2,\n",
        "        epochs=resnet_model.epochs,\n",
        "        steps_per_epoch=steps_per_epoch,\n",
        "        pct_start = 5./resnet_model.epochs,\n",
        "        div_factor=2000,\n",
        "        final_div_factor=1,\n",
        "        three_phase=False,\n",
        "        anneal_strategy='linear',\n",
        "        verbose=False),\n",
        "    \"interval\": \"step\",\n",
        "    })\n",
        "resnet_model.configure_optimizers()\n",
        "steps_per_epoch = len(cifar10_dm.train_dataset) // BATCH_SIZE\n",
        "trainer = Trainer(\n",
        "    max_epochs=resnet_model.epochs,\n",
        "    max_steps = steps_per_epoch*resnet_model.epochs,\n",
        "    accelerator='auto',\n",
        "    devices = 1 if torch.cuda.is_available() else None,\n",
        "    logger = CSVLogger(save_dir=\"logs/\"),\n",
        "    log_every_n_steps = 1,\n",
        "    callbacks=[LearningRateMonitor(logging_interval='step'),\n",
        "               TQDMProgressBar(refresh_rate=10)],\n",
        "    num_sanity_val_steps=0)\n",
        "\n",
        "trainer.fit(resnet_model, cifar10_dm)\n",
        "trainer.test(resnet_model, datamodule = cifar10_dm)\n",
        "import pandas as pd\n",
        "import seaborn as sn\n",
        "metrics = pd.read_csv(f\"{trainer.logger.log_dir}/metrics.csv\")\n",
        "del metrics[\"epoch\"]\n",
        "metrics.set_index(\"step\", inplace=True)\n",
        "display(metrics.dropna(axis=1, how=\"all\").head())\n",
        "sn.relplot(data=metrics, kind=\"line\")"
      ]
    },
    {
      "cell_type": "code",
      "execution_count": null,
      "metadata": {
        "id": "BAEnlBh5g3Mi",
        "outputId": "49bae5a6-b4ad-4475-bca4-a4497a8bad89",
        "colab": {
          "base_uri": "https://localhost:8080/",
          "height": 191,
          "referenced_widgets": [
            "a8354a5cd2cf49a3bb8d38cce4fb2016",
            "9887dbee9d424f52a0d3f785f4219113",
            "b80a0926350246f1a3cfaf3a8b964661",
            "9e574c0d9e7a4f81aff36f676422af5f",
            "6ed230d31a5a4a598361895b9b3ab069",
            "e190bf30b3a34f49a38f5f0ab5de3074",
            "76e84b84fe874e989e12dc34165c6e36",
            "267a7aec2d3f4d4ca967cb90c2915f90",
            "e82e0de83a4e40759443e7326b2c37cf",
            "79a7f6637cf84751a926744766c400db",
            "fdb661f8cb994b9f859adf8517de4656"
          ]
        }
      },
      "outputs": [
        {
          "output_type": "stream",
          "name": "stderr",
          "text": [
            "/usr/local/lib/python3.10/dist-packages/ipykernel/ipkernel.py:283: DeprecationWarning: `should_run_async` will not call `transform_cell` automatically in the future. Please pass the result to `transformed_cell` argument and any exception that happen during thetransform in `preprocessing_exc_tuple` in IPython 7.17 and above.\n",
            "  and should_run_async(code)\n",
            "INFO:lightning_fabric.utilities.seed:Global seed set to 42\n"
          ]
        },
        {
          "output_type": "stream",
          "name": "stdout",
          "text": [
            "Files already downloaded and verified\n",
            "Files already downloaded and verified\n"
          ]
        },
        {
          "output_type": "display_data",
          "data": {
            "text/plain": [
              "  0%|          | 0/200 [00:00<?, ?it/s]"
            ],
            "application/vnd.jupyter.widget-view+json": {
              "version_major": 2,
              "version_minor": 0,
              "model_id": "a8354a5cd2cf49a3bb8d38cce4fb2016"
            }
          },
          "metadata": {}
        },
        {
          "output_type": "stream",
          "name": "stderr",
          "text": [
            "/content/dl_hub/models/custom_resnet.py:161: UserWarning: Implicit dimension choice for log_softmax has been deprecated. Change the call to include dim=X as an argument.\n",
            "  return F.log_softmax(x)\n"
          ]
        }
      ],
      "source": [
        "GLOBAL_SEED = 42\n",
        "seed_everything(GLOBAL_SEED)\n",
        "params = {}\n",
        "train_transforms = A.Compose([\n",
        "    A.Normalize(mean=(0.491,0.482,0.447),std=(0.247,0.244,0.262), always_apply=True),\n",
        "    A.transforms.PadIfNeeded(min_height=40, min_width=40, always_apply=True),\n",
        "    AA.crops.transforms.RandomCrop(height=32, width=32, always_apply=True),\n",
        "    A.HorizontalFlip(),\n",
        "    AA.dropout.coarse_dropout.CoarseDropout(max_holes = 1,\n",
        "                                            max_height=8,\n",
        "                                            max_width=8,\n",
        "                                            min_holes = 1,\n",
        "                                            min_height=8,\n",
        "                                            min_width=8,\n",
        "                                            fill_value=(0.491, 0.482, 0.447),\n",
        "                                            mask_fill_value = None),\n",
        "    ToTensorV2()])\n",
        "test_transforms = A.Compose([\n",
        "    A.Normalize(mean=(0.491,0.482,0.447),std=(0.247,0.244,0.262), always_apply=True),\n",
        "    ToTensorV2(),])\n",
        "val_transforms = test_transforms\n",
        "\n",
        "params['train_transforms'] = train_transforms\n",
        "params['val_transforms'] = val_transforms\n",
        "params['test_transforms'] = test_transforms\n",
        "params['val_split'] = 0.1\n",
        "params['batch_size'] = 512 if torch.cuda.is_available() else 64\n",
        "params['data_dir'] = os.environ.get(\"PATH_DATASETS\", \".\")\n",
        "params['save_dir'] = \"logs/\"\n",
        "# Define data module\n",
        "cifar10_dm = build_data_module(params)\n",
        "\n",
        "params['base_lr'] = 0.01\n",
        "params['base_channels'] = 3\n",
        "params['num_classes'] = 10\n",
        "params['drop_out_probability'] = 0.1\n",
        "params['loss_func'] = F.nll_loss\n",
        "params['num_workers'] = 2\n",
        "params['num_epochs'] = 24\n",
        "params['device'] = torch.device(\"cuda\" if torch.cuda.is_available() else \"cpu\")\n",
        "\n",
        "optimizer_params = {\n",
        "    'weight_decay': 1e-4,\n",
        "    'lr': 0.01,\n",
        "    'momentum': 0.9\n",
        "}\n",
        "params['optimizer_type'] = 'Adam'\n",
        "params['optimizer_params'] = optimizer_params\n",
        "max_lr = get_max_lr(params, cifar10_dm)\n",
        "steps_per_epoch = len(cifar10_dm.train_dataset) // params['batch_size']\n",
        "scheduler_params = {\n",
        "    'max_lr': max_lr,\n",
        "    'steps_per_epoch': steps_per_epoch,\n",
        "    'epochs': params['num_epochs'],\n",
        "    'pct_start': 5./params['num_epochs'],\n",
        "    'div_factor': 2000,\n",
        "    'three_phase': False,\n",
        "    'final_div_factor':1,\n",
        "    'anneal_strategy':'linear',\n",
        "}\n",
        "params['scheduler_type'] = 'ReduceLrOnPlateau'\n",
        "params['scheduler_params'] = scheduler_params\n",
        "\n",
        "# Define model\n",
        "resnet_model = define_pl_model_resnet(params)\n",
        "\n",
        "# train and eval model\n",
        "train_and_eval_pl_model(params, resnet_model, cifar10_dm)\n"
      ]
    }
  ],
  "metadata": {
    "accelerator": "GPU",
    "colab": {
      "gpuType": "T4",
      "provenance": [],
      "include_colab_link": true
    },
    "kernelspec": {
      "display_name": "Python 3",
      "name": "python3"
    },
    "language_info": {
      "codemirror_mode": {
        "name": "ipython",
        "version": 3
      },
      "file_extension": ".py",
      "mimetype": "text/x-python",
      "name": "python",
      "nbconvert_exporter": "python",
      "pygments_lexer": "ipython3",
      "version": "3.10.6"
    },
    "orig_nbformat": 4,
    "widgets": {
      "application/vnd.jupyter.widget-state+json": {
        "a8354a5cd2cf49a3bb8d38cce4fb2016": {
          "model_module": "@jupyter-widgets/controls",
          "model_name": "HBoxModel",
          "model_module_version": "1.5.0",
          "state": {
            "_dom_classes": [],
            "_model_module": "@jupyter-widgets/controls",
            "_model_module_version": "1.5.0",
            "_model_name": "HBoxModel",
            "_view_count": null,
            "_view_module": "@jupyter-widgets/controls",
            "_view_module_version": "1.5.0",
            "_view_name": "HBoxView",
            "box_style": "",
            "children": [
              "IPY_MODEL_9887dbee9d424f52a0d3f785f4219113",
              "IPY_MODEL_b80a0926350246f1a3cfaf3a8b964661",
              "IPY_MODEL_9e574c0d9e7a4f81aff36f676422af5f"
            ],
            "layout": "IPY_MODEL_6ed230d31a5a4a598361895b9b3ab069"
          }
        },
        "9887dbee9d424f52a0d3f785f4219113": {
          "model_module": "@jupyter-widgets/controls",
          "model_name": "HTMLModel",
          "model_module_version": "1.5.0",
          "state": {
            "_dom_classes": [],
            "_model_module": "@jupyter-widgets/controls",
            "_model_module_version": "1.5.0",
            "_model_name": "HTMLModel",
            "_view_count": null,
            "_view_module": "@jupyter-widgets/controls",
            "_view_module_version": "1.5.0",
            "_view_name": "HTMLView",
            "description": "",
            "description_tooltip": null,
            "layout": "IPY_MODEL_e190bf30b3a34f49a38f5f0ab5de3074",
            "placeholder": "​",
            "style": "IPY_MODEL_76e84b84fe874e989e12dc34165c6e36",
            "value": " 41%"
          }
        },
        "b80a0926350246f1a3cfaf3a8b964661": {
          "model_module": "@jupyter-widgets/controls",
          "model_name": "FloatProgressModel",
          "model_module_version": "1.5.0",
          "state": {
            "_dom_classes": [],
            "_model_module": "@jupyter-widgets/controls",
            "_model_module_version": "1.5.0",
            "_model_name": "FloatProgressModel",
            "_view_count": null,
            "_view_module": "@jupyter-widgets/controls",
            "_view_module_version": "1.5.0",
            "_view_name": "ProgressView",
            "bar_style": "",
            "description": "",
            "description_tooltip": null,
            "layout": "IPY_MODEL_267a7aec2d3f4d4ca967cb90c2915f90",
            "max": 200,
            "min": 0,
            "orientation": "horizontal",
            "style": "IPY_MODEL_e82e0de83a4e40759443e7326b2c37cf",
            "value": 82
          }
        },
        "9e574c0d9e7a4f81aff36f676422af5f": {
          "model_module": "@jupyter-widgets/controls",
          "model_name": "HTMLModel",
          "model_module_version": "1.5.0",
          "state": {
            "_dom_classes": [],
            "_model_module": "@jupyter-widgets/controls",
            "_model_module_version": "1.5.0",
            "_model_name": "HTMLModel",
            "_view_count": null,
            "_view_module": "@jupyter-widgets/controls",
            "_view_module_version": "1.5.0",
            "_view_name": "HTMLView",
            "description": "",
            "description_tooltip": null,
            "layout": "IPY_MODEL_79a7f6637cf84751a926744766c400db",
            "placeholder": "​",
            "style": "IPY_MODEL_fdb661f8cb994b9f859adf8517de4656",
            "value": " 82/200 [05:37&lt;08:51,  4.51s/it]"
          }
        },
        "6ed230d31a5a4a598361895b9b3ab069": {
          "model_module": "@jupyter-widgets/base",
          "model_name": "LayoutModel",
          "model_module_version": "1.2.0",
          "state": {
            "_model_module": "@jupyter-widgets/base",
            "_model_module_version": "1.2.0",
            "_model_name": "LayoutModel",
            "_view_count": null,
            "_view_module": "@jupyter-widgets/base",
            "_view_module_version": "1.2.0",
            "_view_name": "LayoutView",
            "align_content": null,
            "align_items": null,
            "align_self": null,
            "border": null,
            "bottom": null,
            "display": null,
            "flex": null,
            "flex_flow": null,
            "grid_area": null,
            "grid_auto_columns": null,
            "grid_auto_flow": null,
            "grid_auto_rows": null,
            "grid_column": null,
            "grid_gap": null,
            "grid_row": null,
            "grid_template_areas": null,
            "grid_template_columns": null,
            "grid_template_rows": null,
            "height": null,
            "justify_content": null,
            "justify_items": null,
            "left": null,
            "margin": null,
            "max_height": null,
            "max_width": null,
            "min_height": null,
            "min_width": null,
            "object_fit": null,
            "object_position": null,
            "order": null,
            "overflow": null,
            "overflow_x": null,
            "overflow_y": null,
            "padding": null,
            "right": null,
            "top": null,
            "visibility": null,
            "width": null
          }
        },
        "e190bf30b3a34f49a38f5f0ab5de3074": {
          "model_module": "@jupyter-widgets/base",
          "model_name": "LayoutModel",
          "model_module_version": "1.2.0",
          "state": {
            "_model_module": "@jupyter-widgets/base",
            "_model_module_version": "1.2.0",
            "_model_name": "LayoutModel",
            "_view_count": null,
            "_view_module": "@jupyter-widgets/base",
            "_view_module_version": "1.2.0",
            "_view_name": "LayoutView",
            "align_content": null,
            "align_items": null,
            "align_self": null,
            "border": null,
            "bottom": null,
            "display": null,
            "flex": null,
            "flex_flow": null,
            "grid_area": null,
            "grid_auto_columns": null,
            "grid_auto_flow": null,
            "grid_auto_rows": null,
            "grid_column": null,
            "grid_gap": null,
            "grid_row": null,
            "grid_template_areas": null,
            "grid_template_columns": null,
            "grid_template_rows": null,
            "height": null,
            "justify_content": null,
            "justify_items": null,
            "left": null,
            "margin": null,
            "max_height": null,
            "max_width": null,
            "min_height": null,
            "min_width": null,
            "object_fit": null,
            "object_position": null,
            "order": null,
            "overflow": null,
            "overflow_x": null,
            "overflow_y": null,
            "padding": null,
            "right": null,
            "top": null,
            "visibility": null,
            "width": null
          }
        },
        "76e84b84fe874e989e12dc34165c6e36": {
          "model_module": "@jupyter-widgets/controls",
          "model_name": "DescriptionStyleModel",
          "model_module_version": "1.5.0",
          "state": {
            "_model_module": "@jupyter-widgets/controls",
            "_model_module_version": "1.5.0",
            "_model_name": "DescriptionStyleModel",
            "_view_count": null,
            "_view_module": "@jupyter-widgets/base",
            "_view_module_version": "1.2.0",
            "_view_name": "StyleView",
            "description_width": ""
          }
        },
        "267a7aec2d3f4d4ca967cb90c2915f90": {
          "model_module": "@jupyter-widgets/base",
          "model_name": "LayoutModel",
          "model_module_version": "1.2.0",
          "state": {
            "_model_module": "@jupyter-widgets/base",
            "_model_module_version": "1.2.0",
            "_model_name": "LayoutModel",
            "_view_count": null,
            "_view_module": "@jupyter-widgets/base",
            "_view_module_version": "1.2.0",
            "_view_name": "LayoutView",
            "align_content": null,
            "align_items": null,
            "align_self": null,
            "border": null,
            "bottom": null,
            "display": null,
            "flex": null,
            "flex_flow": null,
            "grid_area": null,
            "grid_auto_columns": null,
            "grid_auto_flow": null,
            "grid_auto_rows": null,
            "grid_column": null,
            "grid_gap": null,
            "grid_row": null,
            "grid_template_areas": null,
            "grid_template_columns": null,
            "grid_template_rows": null,
            "height": null,
            "justify_content": null,
            "justify_items": null,
            "left": null,
            "margin": null,
            "max_height": null,
            "max_width": null,
            "min_height": null,
            "min_width": null,
            "object_fit": null,
            "object_position": null,
            "order": null,
            "overflow": null,
            "overflow_x": null,
            "overflow_y": null,
            "padding": null,
            "right": null,
            "top": null,
            "visibility": null,
            "width": null
          }
        },
        "e82e0de83a4e40759443e7326b2c37cf": {
          "model_module": "@jupyter-widgets/controls",
          "model_name": "ProgressStyleModel",
          "model_module_version": "1.5.0",
          "state": {
            "_model_module": "@jupyter-widgets/controls",
            "_model_module_version": "1.5.0",
            "_model_name": "ProgressStyleModel",
            "_view_count": null,
            "_view_module": "@jupyter-widgets/base",
            "_view_module_version": "1.2.0",
            "_view_name": "StyleView",
            "bar_color": null,
            "description_width": ""
          }
        },
        "79a7f6637cf84751a926744766c400db": {
          "model_module": "@jupyter-widgets/base",
          "model_name": "LayoutModel",
          "model_module_version": "1.2.0",
          "state": {
            "_model_module": "@jupyter-widgets/base",
            "_model_module_version": "1.2.0",
            "_model_name": "LayoutModel",
            "_view_count": null,
            "_view_module": "@jupyter-widgets/base",
            "_view_module_version": "1.2.0",
            "_view_name": "LayoutView",
            "align_content": null,
            "align_items": null,
            "align_self": null,
            "border": null,
            "bottom": null,
            "display": null,
            "flex": null,
            "flex_flow": null,
            "grid_area": null,
            "grid_auto_columns": null,
            "grid_auto_flow": null,
            "grid_auto_rows": null,
            "grid_column": null,
            "grid_gap": null,
            "grid_row": null,
            "grid_template_areas": null,
            "grid_template_columns": null,
            "grid_template_rows": null,
            "height": null,
            "justify_content": null,
            "justify_items": null,
            "left": null,
            "margin": null,
            "max_height": null,
            "max_width": null,
            "min_height": null,
            "min_width": null,
            "object_fit": null,
            "object_position": null,
            "order": null,
            "overflow": null,
            "overflow_x": null,
            "overflow_y": null,
            "padding": null,
            "right": null,
            "top": null,
            "visibility": null,
            "width": null
          }
        },
        "fdb661f8cb994b9f859adf8517de4656": {
          "model_module": "@jupyter-widgets/controls",
          "model_name": "DescriptionStyleModel",
          "model_module_version": "1.5.0",
          "state": {
            "_model_module": "@jupyter-widgets/controls",
            "_model_module_version": "1.5.0",
            "_model_name": "DescriptionStyleModel",
            "_view_count": null,
            "_view_module": "@jupyter-widgets/base",
            "_view_module_version": "1.2.0",
            "_view_name": "StyleView",
            "description_width": ""
          }
        }
      }
    }
  },
  "nbformat": 4,
  "nbformat_minor": 0
}