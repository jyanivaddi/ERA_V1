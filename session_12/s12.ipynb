{
  "cells": [
    {
      "cell_type": "markdown",
      "metadata": {
        "id": "view-in-github",
        "colab_type": "text"
      },
      "source": [
        "<a href=\"https://colab.research.google.com/github/jyanivaddi/ERA_V1/blob/master/session_12/s12.ipynb\" target=\"_parent\"><img src=\"https://colab.research.google.com/assets/colab-badge.svg\" alt=\"Open In Colab\"/></a>"
      ]
    },
    {
      "cell_type": "markdown",
      "source": [
        "Download our code repository and install python dependencies"
      ],
      "metadata": {
        "id": "xMv-YR2zikee"
      }
    },
    {
      "cell_type": "code",
      "execution_count": 1,
      "metadata": {
        "colab": {
          "base_uri": "https://localhost:8080/"
        },
        "id": "a8J1MOmbqmgC",
        "outputId": "84de9d87-b386-4f2b-e75b-7b681ef930b0"
      },
      "outputs": [
        {
          "output_type": "stream",
          "name": "stdout",
          "text": [
            "fatal: destination path 'ERA_V1' already exists and is not an empty directory.\n",
            "fatal: not a git repository (or any of the parent directories): .git\n",
            "fatal: destination path 'dl_hub' already exists and is not an empty directory.\n",
            "fatal: not a git repository (or any of the parent directories): .git\n"
          ]
        }
      ],
      "source": [
        "!git clone \"https://github.com/jyanivaddi/ERA_V1.git\"\n",
        "!git pull\n",
        "!git clone \"https://github.com/jyanivaddi/dl_hub.git\"\n",
        "!git pull\n",
        "!pip install --quiet \"torchinfo\" \"seaborn\" \"pytorch-lightning\" \"torchmetrics\" \"lightning-bolts\"\n",
        "!pip install --quiet \"prettytable\"\n",
        "!pip install --quiet \"torch_lr_finder\"\n",
        "!pip install --quiet \"grad-cam\""
      ]
    },
    {
      "cell_type": "markdown",
      "metadata": {
        "id": "lW3WHIzUqmgF"
      },
      "source": [
        "Add all the imports:"
      ]
    },
    {
      "cell_type": "code",
      "execution_count": 2,
      "metadata": {
        "id": "zQ5ZSVQJqmgI"
      },
      "outputs": [],
      "source": [
        "from __future__ import print_function\n",
        "import os\n",
        "import sys\n",
        "from typing import Any\n",
        "sys.path.append(\"dl_hub/models\")\n",
        "sys.path.append(\"ERA_V1/session_12\")\n",
        "import torch\n",
        "import torch.nn as nn\n",
        "import torch.nn.functional as F\n",
        "import torch.optim as optim\n",
        "from torchvision import datasets, transforms\n",
        "from torchvision.datasets import CIFAR10\n",
        "from torch.utils.data import Dataset, DataLoader\n",
        "import albumentations as A\n",
        "import albumentations.augmentations as AA\n",
        "from albumentations.pytorch import ToTensorV2\n",
        "from dl_hub.models.custom_resnet import CustomResnet, model_summary"
      ]
    },
    {
      "cell_type": "markdown",
      "source": [
        "Lightning related imports"
      ],
      "metadata": {
        "id": "tSABmKNBPtkX"
      }
    },
    {
      "cell_type": "code",
      "source": [
        "from pl_bolts.datamodules import CIFAR10DataModule\n",
        "from pl_bolts.transforms.dataset_normalizations import cifar10_normalization\n",
        "from pytorch_lightning import LightningModule, LightningDataModule, Trainer, seed_everything\n",
        "from pytorch_lightning.callbacks import LearningRateMonitor\n",
        "from pytorch_lightning.callbacks.progress import TQDMProgressBar\n",
        "from pytorch_lightning.loggers import CSVLogger\n",
        "from torch.optim.lr_scheduler import OneCycleLR\n",
        "from torch.optim.swa_utils import AveragedModel, update_bn\n",
        "from torchmetrics.functional import accuracy"
      ],
      "metadata": {
        "id": "PYya3PXZPxOg",
        "colab": {
          "base_uri": "https://localhost:8080/"
        },
        "outputId": "1392c15d-1a9a-4c72-8510-08dac823be98"
      },
      "execution_count": 3,
      "outputs": [
        {
          "output_type": "stream",
          "name": "stderr",
          "text": [
            "/usr/local/lib/python3.10/dist-packages/pl_bolts/models/self_supervised/amdim/amdim_module.py:34: UnderReviewWarning: The feature generate_power_seq is currently marked under review. The compatibility with other Lightning projects is not guaranteed and API may change at any time. The API and functionality may change without warning in future releases. More details: https://lightning-bolts.readthedocs.io/en/latest/stability.html\n",
            "  \"lr_options\": generate_power_seq(LEARNING_RATE_CIFAR, 11),\n",
            "/usr/local/lib/python3.10/dist-packages/pl_bolts/models/self_supervised/amdim/amdim_module.py:92: UnderReviewWarning: The feature FeatureMapContrastiveTask is currently marked under review. The compatibility with other Lightning projects is not guaranteed and API may change at any time. The API and functionality may change without warning in future releases. More details: https://lightning-bolts.readthedocs.io/en/latest/stability.html\n",
            "  contrastive_task: Union[FeatureMapContrastiveTask] = FeatureMapContrastiveTask(\"01, 02, 11\"),\n",
            "/usr/local/lib/python3.10/dist-packages/pl_bolts/losses/self_supervised_learning.py:228: UnderReviewWarning: The feature AmdimNCELoss is currently marked under review. The compatibility with other Lightning projects is not guaranteed and API may change at any time. The API and functionality may change without warning in future releases. More details: https://lightning-bolts.readthedocs.io/en/latest/stability.html\n",
            "  self.nce_loss = AmdimNCELoss(tclip)\n"
          ]
        }
      ]
    },
    {
      "cell_type": "markdown",
      "metadata": {
        "id": "n4AHY0CsqmgL"
      },
      "source": [
        "Set up environment and add random seed"
      ]
    },
    {
      "cell_type": "code",
      "source": [
        "GLOBAL_SEED = 42\n",
        "seed_everything(GLOBAL_SEED)\n",
        "PATH_DATASETS = os.environ.get(\"PATH_DATASETS\", \".\")\n",
        "BATCH_SIZE = 512 if torch.cuda.is_available() else 64\n",
        "NUM_WORKERS = 2"
      ],
      "metadata": {
        "colab": {
          "base_uri": "https://localhost:8080/"
        },
        "id": "XhiHItH5Pwq7",
        "outputId": "fac267b3-dd4f-4d9e-8461-03799e13dd1c"
      },
      "execution_count": 4,
      "outputs": [
        {
          "output_type": "stream",
          "name": "stderr",
          "text": [
            "/usr/local/lib/python3.10/dist-packages/ipykernel/ipkernel.py:283: DeprecationWarning: `should_run_async` will not call `transform_cell` automatically in the future. Please pass the result to `transformed_cell` argument and any exception that happen during thetransform in `preprocessing_exc_tuple` in IPython 7.17 and above.\n",
            "  and should_run_async(code)\n",
            "INFO:lightning_fabric.utilities.seed:Global seed set to 42\n"
          ]
        }
      ]
    },
    {
      "cell_type": "markdown",
      "source": [
        "Define data module"
      ],
      "metadata": {
        "id": "3ZxVxLwPfor6"
      }
    },
    {
      "cell_type": "code",
      "source": [
        "import numpy as np\n",
        "from typing import List\n",
        "from torch.utils.data import random_split\n",
        "\n",
        "class CifarDatasetWAlbumentations(Dataset):\n",
        "\n",
        "    def __init__(self, dataset, transforms=None):\n",
        "        self.transforms = transforms\n",
        "        self.dataset = dataset\n",
        "\n",
        "\n",
        "    def __len__(self) -> int:\n",
        "        return len(self.dataset)\n",
        "\n",
        "\n",
        "    def __getitem__(self, index) -> Any:\n",
        "        image, label = self.dataset[index]\n",
        "        image = np.array(image)\n",
        "        if self.transforms is not None:\n",
        "            image = self.transforms(image=image)[\"image\"]\n",
        "        return (image, label)\n",
        "\n",
        "class CustomCifar10DataModule(LightningDataModule):\n",
        "    def __init__(self, data_dir = PATH_DATASETS, val_split=0.2):\n",
        "        # Initialize the class. Set up the datadir, image dims, and num classes\n",
        "        super().__init__()\n",
        "        self.data_dir = data_dir\n",
        "        self.dims = (3, 32, 32)\n",
        "        self.num_classes = 10\n",
        "        self.val_split = val_split\n",
        "        self.train_transforms = A.Compose([\n",
        "            A.Normalize(mean=(0.491,0.482,0.447),std=(0.247,0.244,0.262), always_apply=True),\n",
        "            A.transforms.PadIfNeeded(min_height=40, min_width=40, always_apply=True),\n",
        "            AA.crops.transforms.RandomCrop(height=32, width=32, always_apply=True),\n",
        "            A.HorizontalFlip(),\n",
        "            AA.dropout.coarse_dropout.CoarseDropout(max_holes = 1,\n",
        "                                                    max_height=8,\n",
        "                                                    max_width=8,\n",
        "                                                    min_holes = 1,\n",
        "                                                    min_height=8,\n",
        "                                                    min_width=8,\n",
        "                                                    fill_value=(0.491, 0.482, 0.447),\n",
        "                                                    mask_fill_value = None),\n",
        "\n",
        "                        ToTensorV2()])\n",
        "        self.test_transforms = A.Compose([\n",
        "            A.Normalize(mean=(0.491,0.482,0.447),std=(0.247,0.244,0.262), always_apply=True),\n",
        "            ToTensorV2(),])\n",
        "        self.val_transforms = self.test_transforms\n",
        "\n",
        "    def _split_dataset(self, dataset: Dataset, train: bool = True) -> Dataset:\n",
        "        \"\"\"Splits the dataset into train and validation set.\"\"\"\n",
        "        len_dataset = len(dataset)\n",
        "        splits = self._get_splits(len_dataset)\n",
        "        dataset_train, dataset_val = random_split(dataset, splits, generator=torch.Generator().manual_seed(GLOBAL_SEED))\n",
        "        if train:\n",
        "            return dataset_train\n",
        "        return dataset_val\n",
        "\n",
        "    def _get_splits(self, len_dataset: int) -> List[int]:\n",
        "        \"\"\"Computes split lengths for train and validation set.\"\"\"\n",
        "        if isinstance(self.val_split, int):\n",
        "            train_len = len_dataset - self.val_split\n",
        "            splits = [train_len, self.val_split]\n",
        "        elif isinstance(self.val_split, float):\n",
        "            val_len = int(self.val_split * len_dataset)\n",
        "            train_len = len_dataset - val_len\n",
        "            splits = [train_len, val_len]\n",
        "        else:\n",
        "            raise ValueError(f\"Unsupported type {type(self.val_split)}\")\n",
        "\n",
        "        return splits\n",
        "\n",
        "    def prepare_data(self):\n",
        "        # Download the dataset\n",
        "        CIFAR10(self.data_dir, train=True, download=True)\n",
        "        CIFAR10(self.data_dir, train=False, download=True)\n",
        "\n",
        "    def setup(self, stage=None):\n",
        "        # Assign train/val datasets\n",
        "        if stage == 'fit' or stage is None:\n",
        "            #self.train_dataset = CifarDatasetWAlbumentations(CIFAR10(self.data_dir, train=True),transforms = self.train_transforms)\n",
        "            #self.val_dataset = CifarDatasetWAlbumentations(CIFAR10(self.data_dir, train=True), transforms=self.test_transforms)\n",
        "\n",
        "            dataset_train = CifarDatasetWAlbumentations(CIFAR10(self.data_dir, train=True),transforms = self.train_transforms)\n",
        "            dataset_val = CifarDatasetWAlbumentations(CIFAR10(self.data_dir, train=True), transforms=self.val_transforms)\n",
        "\n",
        "            # Split\n",
        "            self.train_dataset = self._split_dataset(dataset_train)\n",
        "            self.val_dataset = self._split_dataset(dataset_val, train=False)\n",
        "\n",
        "        if stage == 'test' or stage:\n",
        "            self.test_dataset = CifarDatasetWAlbumentations(CIFAR10(self.data_dir, train=False), transforms=self.test_transforms)\n",
        "\n",
        "    def train_dataloader(self):\n",
        "        return DataLoader(self.train_dataset,\n",
        "                          batch_size=BATCH_SIZE,\n",
        "                          num_workers=NUM_WORKERS,\n",
        "                          shuffle=True)\n",
        "\n",
        "    def val_dataloader(self):\n",
        "        return DataLoader(self.val_dataset,\n",
        "                          batch_size=BATCH_SIZE,\n",
        "                          num_workers=NUM_WORKERS)\n",
        "\n",
        "    def test_dataloader(self):\n",
        "        return DataLoader(self.test_dataset,\n",
        "                          batch_size=BATCH_SIZE,\n",
        "                          num_workers=NUM_WORKERS)"
      ],
      "metadata": {
        "id": "iOn9oRxoq-03"
      },
      "execution_count": 5,
      "outputs": []
    },
    {
      "cell_type": "code",
      "source": [
        "cifar10_dm = CustomCifar10DataModule(\n",
        "    data_dir = PATH_DATASETS,\n",
        "    val_split = 0.1\n",
        ")\n",
        "cifar10_dm.prepare_data()\n",
        "cifar10_dm.setup()\n",
        "len(cifar10_dm.val_dataset)\n",
        "len(cifar10_dm.train_dataset)"
      ],
      "metadata": {
        "colab": {
          "base_uri": "https://localhost:8080/"
        },
        "id": "Y3ABaj3_TKoX",
        "outputId": "2f97dd84-0e34-4b70-f459-0799037122af"
      },
      "execution_count": 6,
      "outputs": [
        {
          "output_type": "stream",
          "name": "stdout",
          "text": [
            "Files already downloaded and verified\n",
            "Files already downloaded and verified\n"
          ]
        },
        {
          "output_type": "execute_result",
          "data": {
            "text/plain": [
              "45000"
            ]
          },
          "metadata": {},
          "execution_count": 6
        }
      ]
    },
    {
      "cell_type": "markdown",
      "source": [
        "Let's build the Lightning ⚡ Module!"
      ],
      "metadata": {
        "id": "uuRZ9jqLTotr"
      }
    },
    {
      "cell_type": "code",
      "source": [
        "class LitResnet(LightningModule):\n",
        "    def __init__(self, lr=0.01, drop_out_probability=0.02, num_classes=10,\n",
        "                 base_channels=3, epochs=20):\n",
        "        super().__init__()\n",
        "\n",
        "        self.save_hyperparameters()\n",
        "        self.model = CustomResnet(base_channels=base_channels,\n",
        "                                  num_classes=num_classes,\n",
        "                                  drop_out_probability=drop_out_probability)\n",
        "        self.optimizer = None\n",
        "        self.scheduler_dict = None\n",
        "        self.epochs = epochs\n",
        "\n",
        "    def set_optimizer(self, optimizer):\n",
        "        self.optimizer = optimizer\n",
        "\n",
        "    def set_scheduler_dict(self, scheduler_dict):\n",
        "        self.scheduler_dict = scheduler_dict\n",
        "\n",
        "    def forward(self, x):\n",
        "        return self.model.forward(x)\n",
        "\n",
        "    def training_step(self, batch, batch_idx):\n",
        "        x, y = batch\n",
        "        logits = self(x)\n",
        "        #loss = nn.CrossEntropyLoss(logits, y, reduction='mean')\n",
        "        loss = F.nll_loss(logits, y)\n",
        "        preds = torch.argmax(logits, dim=1)\n",
        "        train_acc = accuracy(preds, y,\"multiclass\", num_classes=10)\n",
        "        self.log(\"train_loss\", loss, prog_bar=True)\n",
        "        self.log(\"train_acc\", train_acc, prog_bar=True)\n",
        "        return loss\n",
        "\n",
        "    def evaluate(self, batch, stage=None):\n",
        "        x, y = batch\n",
        "        logits = self(x)\n",
        "        #loss = nn.CrossEntropyLoss(logits, y, reduction='mean')\n",
        "        loss = F.nll_loss(logits, y)\n",
        "        preds = torch.argmax(logits, dim=1)\n",
        "        acc = accuracy(preds, y,\"multiclass\", num_classes=10)\n",
        "\n",
        "        if stage:\n",
        "            self.log(f\"{stage}_loss\", loss, prog_bar=True)\n",
        "            self.log(f\"{stage}_acc\", acc, prog_bar=True)\n",
        "\n",
        "    def validation_step(self, batch, batch_idx):\n",
        "        self.evaluate(batch, \"val\")\n",
        "\n",
        "    def test_step(self, batch, batch_id):\n",
        "        self.evaluate(batch, \"test\")\n",
        "\n",
        "    def configure_optimizers(self):\n",
        "        return {\"optimizer\": self.optimizer, \"lr_scheduler\": self.scheduler_dict}\n"
      ],
      "metadata": {
        "id": "psxvR2pCT2zJ",
        "colab": {
          "base_uri": "https://localhost:8080/"
        },
        "outputId": "f356c861-cf8f-4d7c-978f-d638ae3a0ef7"
      },
      "execution_count": 26,
      "outputs": [
        {
          "output_type": "stream",
          "name": "stderr",
          "text": [
            "/usr/local/lib/python3.10/dist-packages/ipykernel/ipkernel.py:283: DeprecationWarning: `should_run_async` will not call `transform_cell` automatically in the future. Please pass the result to `transformed_cell` argument and any exception that happen during thetransform in `preprocessing_exc_tuple` in IPython 7.17 and above.\n",
            "  and should_run_async(code)\n"
          ]
        }
      ]
    },
    {
      "cell_type": "markdown",
      "source": [
        "Get Best LR"
      ],
      "metadata": {
        "id": "VJY9G_WkeVAD"
      }
    },
    {
      "cell_type": "code",
      "source": [
        "from torch_lr_finder import LRFinder\n",
        "\n",
        "\n",
        "def find_best_lr(model, train_loader, optimizer, criterion, device):\n",
        "    lr_finder = LRFinder(model, optimizer, criterion, device)\n",
        "    lr_finder.range_test(train_loader, end_lr=10, num_iter=200, step_mode='exp')\n",
        "    lr_finder.plot()\n",
        "    lr_finder.reset()\n",
        "    return lr_finder.history\n",
        "\n",
        "drop_out_probability=0.02\n",
        "dummy_model = LitResnet(lr=0.01,base_channels=3, num_classes=10,\n",
        "                  drop_out_probability=drop_out_probability)\n",
        "tl = DataLoader(cifar10_dm.train_dataset,\n",
        "                          batch_size=BATCH_SIZE,\n",
        "                          num_workers=NUM_WORKERS,\n",
        "                          shuffle=True)\n",
        "optimizer = optim.Adam(dummy_model.parameters(),lr=0.01, weight_decay=1e-4)\n",
        "criterion = F.nll_loss\n",
        "use_cuda = torch.cuda.is_available()\n",
        "device = torch.device(\"cuda\" if use_cuda else \"cpu\")\n",
        "lr_history = find_best_lr(dummy_model, tl, optimizer, criterion, device)"
      ],
      "metadata": {
        "id": "Zu_v7FPn_xQj",
        "outputId": "526f8cda-3cae-427e-a1cb-ba7706a3410f",
        "colab": {
          "base_uri": "https://localhost:8080/",
          "height": 610,
          "referenced_widgets": [
            "65a45d71f67b4007ab30c3922be5c8ef",
            "d980872e32af4cbb92a9c193e8053cdc",
            "2f52ff068b964bcebeaf3d998d9fc3e4",
            "ef1a6a4dd042426c8abc92b6c7d29b3a",
            "83ffb14993dc41958c680e02677077bd",
            "176732e857434315a0290dc7ddd15dda",
            "7a46e5642c48458c88c369ad5e1363ba",
            "25084a072a7043ef81ee359387c314b3",
            "4f718dd07e004b68b6d32afb4a6c5b16",
            "39a6e520752640fdb02079cc86fc7dc8",
            "cb9767911da64ce7a6a48351e257aa89"
          ]
        }
      },
      "execution_count": 27,
      "outputs": [
        {
          "output_type": "display_data",
          "data": {
            "text/plain": [
              "  0%|          | 0/200 [00:00<?, ?it/s]"
            ],
            "application/vnd.jupyter.widget-view+json": {
              "version_major": 2,
              "version_minor": 0,
              "model_id": "65a45d71f67b4007ab30c3922be5c8ef"
            }
          },
          "metadata": {}
        },
        {
          "output_type": "stream",
          "name": "stderr",
          "text": [
            "/content/dl_hub/models/custom_resnet.py:161: UserWarning: Implicit dimension choice for log_softmax has been deprecated. Change the call to include dim=X as an argument.\n",
            "  return F.log_softmax(x)\n"
          ]
        },
        {
          "output_type": "stream",
          "name": "stdout",
          "text": [
            "Stopping early, the loss has diverged\n",
            "Learning rate search finished. See the graph with {finder_name}.plot()\n",
            "LR suggestion: steepest gradient\n",
            "Suggested LR: 1.93E-02\n"
          ]
        },
        {
          "output_type": "display_data",
          "data": {
            "text/plain": [
              "<Figure size 640x480 with 1 Axes>"
            ],
            "image/png": "[encoded data removed]"
          },
          "metadata": {}
        }
      ]
    },
    {
      "cell_type": "markdown",
      "source": [
        "Define the model, optimizer and scheduler"
      ],
      "metadata": {
        "id": "fVyUYuqHecTv"
      }
    },
    {
      "cell_type": "code",
      "source": [
        "NUM_EPOCHS = 24\n",
        "drop_out_probability=0.02\n",
        "resnet_model = LitResnet(lr=0.01,base_channels=3, num_classes=10,\n",
        "                  drop_out_probability=drop_out_probability, epochs=NUM_EPOCHS)\n",
        "resnet_model.set_optimizer(optim.Adam(resnet_model.parameters(),\n",
        "                               lr=resnet_model.hparams.lr,\n",
        "                               weight_decay=1e-4))\n",
        "steps_per_epoch = len(cifar10_dm.train_dataset) // BATCH_SIZE\n",
        "max_epochs = 24\n",
        "resnet_model.set_scheduler_dict({\n",
        "    \"scheduler\": OneCycleLR(\n",
        "        resnet_model.optimizer,\n",
        "        max_lr = 1.87E-2,\n",
        "        epochs=resnet_model.epochs,\n",
        "        steps_per_epoch=steps_per_epoch,\n",
        "        pct_start = 5./resnet_model.epochs,\n",
        "        div_factor=2000,\n",
        "        final_div_factor=1,\n",
        "        three_phase=False,\n",
        "        anneal_strategy='linear',\n",
        "        verbose=True),\n",
        "    \"interval\": \"step\",\n",
        "    })"
      ],
      "metadata": {
        "id": "i61Aqjbfebif",
        "outputId": "116d787b-2c4a-41a6-a646-42ffcf5fc006",
        "colab": {
          "base_uri": "https://localhost:8080/"
        }
      },
      "execution_count": 31,
      "outputs": [
        {
          "output_type": "stream",
          "name": "stdout",
          "text": [
            "Adjusting learning rate of group 0 to 9.3500e-06.\n"
          ]
        },
        {
          "output_type": "stream",
          "name": "stderr",
          "text": [
            "/usr/local/lib/python3.10/dist-packages/ipykernel/ipkernel.py:283: DeprecationWarning: `should_run_async` will not call `transform_cell` automatically in the future. Please pass the result to `transformed_cell` argument and any exception that happen during thetransform in `preprocessing_exc_tuple` in IPython 7.17 and above.\n",
            "  and should_run_async(code)\n"
          ]
        }
      ]
    },
    {
      "cell_type": "code",
      "source": [
        "resnet_model.configure_optimizers()"
      ],
      "metadata": {
        "id": "dDbrn9sD-dii",
        "outputId": "4602f30a-c9e3-48fb-fb4c-156a662e4d98",
        "colab": {
          "base_uri": "https://localhost:8080/"
        }
      },
      "execution_count": 32,
      "outputs": [
        {
          "output_type": "execute_result",
          "data": {
            "text/plain": [
              "{'optimizer': Adam (\n",
              " Parameter Group 0\n",
              "     amsgrad: False\n",
              "     base_momentum: 0.85\n",
              "     betas: (0.95, 0.999)\n",
              "     capturable: False\n",
              "     differentiable: False\n",
              "     eps: 1e-08\n",
              "     foreach: None\n",
              "     fused: None\n",
              "     initial_lr: 9.35e-06\n",
              "     lr: 9.35e-06\n",
              "     max_lr: 0.0187\n",
              "     max_momentum: 0.95\n",
              "     maximize: False\n",
              "     min_lr: 9.35e-06\n",
              "     weight_decay: 0.0001\n",
              " ),\n",
              " 'lr_scheduler': {'scheduler': <torch.optim.lr_scheduler.OneCycleLR at 0x78d7a1075990>,\n",
              "  'interval': 'step'}}"
            ]
          },
          "metadata": {},
          "execution_count": 32
        }
      ]
    },
    {
      "cell_type": "code",
      "source": [
        "steps_per_epoch = len(cifar10_dm.train_dataset) // BATCH_SIZE\n",
        "trainer = Trainer(\n",
        "    max_epochs=resnet_model.epochs,\n",
        "    max_steps = steps_per_epoch*resnet_model.epochs,\n",
        "    accelerator='auto',\n",
        "    devices = 1 if torch.cuda.is_available() else None,\n",
        "    logger = CSVLogger(save_dir=\"logs/\"),\n",
        "    log_every_n_steps = 1,\n",
        "    callbacks=[LearningRateMonitor(logging_interval='step'),\n",
        "               TQDMProgressBar(refresh_rate=10)],\n",
        "    num_sanity_val_steps=0)\n",
        "\n",
        "trainer.fit(resnet_model, cifar10_dm)\n",
        "trainer.test(resnet_model, datamodule = cifar10_dm)"
      ],
      "metadata": {
        "colab": {
          "base_uri": "https://localhost:8080/",
          "height": 1000,
          "referenced_widgets": [
            "17ea2aab040b4b308c6b44dfe897649b",
            "04efe166c4cd4951997a83cac14f3950",
            "f9031622b47c471583611f26b6f6cbd8",
            "6022c30a28ff4b91a4c491647bda66ad",
            "9e30a609b29c455eabcd7e70d9f1fe5b",
            "b7ee54b600f94d2c9a4537e975e18cde",
            "c27a0b8d91c34e52895d4c4b4831a2a2",
            "218368442b6b4bf1a745b947f8112f40",
            "f9c8ae47d7864870a82a5445b9b3eff0",
            "71cf76f7d3c940299415a4c0fa6c498a",
            "4809954673fc48b7b449f1b606a90f3f",
            "3753b1904bb24009a1377749a514963c",
            "f4a1540b280f49bda9bc2ea5a9860816",
            "bc95effe878e4827bf344436e0318083",
            "0f11e44e5a3a4cbaa297e5b09a2ce614",
            "357a604f8d4d45b097359fc1af038177",
            "e57a1c88b1f44c73be9107be567051a2",
            "bce4cf2aa612435badc4c422fc842839",
            "d4732146be84400792dd9f3758d40ace",
            "4e6252a736ae44eeb0f08ec598581496",
            "15b0a86ea04c4db08656f1c142f7ccd0",
            "9b6c6c4b31864c55bc331194843c8da2"
          ]
        },
        "id": "Xtkb1MgQc8FR",
        "outputId": "6bdfba5f-f8c3-4141-9209-95d6286c6523"
      },
      "execution_count": null,
      "outputs": [
        {
          "output_type": "stream",
          "name": "stderr",
          "text": [
            "INFO:pytorch_lightning.utilities.rank_zero:GPU available: True (cuda), used: True\n",
            "INFO:pytorch_lightning.utilities.rank_zero:TPU available: False, using: 0 TPU cores\n",
            "INFO:pytorch_lightning.utilities.rank_zero:IPU available: False, using: 0 IPUs\n",
            "INFO:pytorch_lightning.utilities.rank_zero:HPU available: False, using: 0 HPUs\n"
          ]
        },
        {
          "output_type": "stream",
          "name": "stdout",
          "text": [
            "Files already downloaded and verified\n",
            "Files already downloaded and verified\n"
          ]
        },
        {
          "output_type": "stream",
          "name": "stderr",
          "text": [
            "INFO:pytorch_lightning.accelerators.cuda:LOCAL_RANK: 0 - CUDA_VISIBLE_DEVICES: [0]\n",
            "INFO:pytorch_lightning.callbacks.model_summary:\n",
            "  | Name  | Type         | Params\n",
            "---------------------------------------\n",
            "0 | model | CustomResnet | 6.6 M \n",
            "---------------------------------------\n",
            "6.6 M     Trainable params\n",
            "0         Non-trainable params\n",
            "6.6 M     Total params\n",
            "26.292    Total estimated model params size (MB)\n"
          ]
        },
        {
          "output_type": "display_data",
          "data": {
            "text/plain": [
              "Training: 0it [00:00, ?it/s]"
            ],
            "application/vnd.jupyter.widget-view+json": {
              "version_major": 2,
              "version_minor": 0,
              "model_id": "17ea2aab040b4b308c6b44dfe897649b"
            }
          },
          "metadata": {}
        },
        {
          "output_type": "stream",
          "name": "stdout",
          "text": [
            "Adjusting learning rate of group 0 to 2.8086e-03.\n",
            "Adjusting learning rate of group 0 to 2.8517e-03.\n"
          ]
        },
        {
          "output_type": "stream",
          "name": "stderr",
          "text": [
            "Exception ignored in: <function _MultiProcessingDataLoaderIter.__del__ at 0x78d7e6f85240>"
          ]
        },
        {
          "output_type": "stream",
          "name": "stdout",
          "text": [
            "Adjusting learning rate of group 0 to 2.8948e-03.\n"
          ]
        },
        {
          "output_type": "stream",
          "name": "stderr",
          "text": [
            "\n",
            "Traceback (most recent call last):\n",
            "  File \"/usr/local/lib/python3.10/dist-packages/torch/utils/data/dataloader.py\", line 1478, in __del__\n",
            "    self._shutdown_workers()\n",
            "  File \"/usr/local/lib/python3.10/dist-packages/torch/utils/data/dataloader.py\", line 1461, in _shutdown_workers\n",
            "    if w.is_alive():\n",
            "  File \"/usr/lib/python3.10/multiprocessing/process.py\", line 160, in is_alive\n",
            "    assert self._parent_pid == os.getpid(), 'can only test a child process'\n",
            "AssertionError: can only test a child process\n",
            "Exception ignored in: <function _MultiProcessingDataLoaderIter.__del__ at 0x78d7e6f85240>\n",
            "Traceback (most recent call last):\n",
            "  File \"/usr/local/lib/python3.10/dist-packages/torch/utils/data/dataloader.py\", line 1478, in __del__\n",
            "    self._shutdown_workers()\n",
            "  File \"/usr/local/lib/python3.10/dist-packages/torch/utils/data/dataloader.py\", line 1461, in _shutdown_workers\n",
            "    if w.is_alive():\n",
            "  File \"/usr/lib/python3.10/multiprocessing/process.py\", line 160, in is_alive\n",
            "    assert self._parent_pid == os.getpid(), 'can only test a child process'\n",
            "AssertionError: can only test a child process\n"
          ]
        },
        {
          "output_type": "stream",
          "name": "stdout",
          "text": [
            "Adjusting learning rate of group 0 to 2.9378e-03.\n",
            "Adjusting learning rate of group 0 to 2.9809e-03.\n",
            "Adjusting learning rate of group 0 to 3.0240e-03.\n",
            "Adjusting learning rate of group 0 to 3.0670e-03.\n",
            "Adjusting learning rate of group 0 to 3.1101e-03.\n",
            "Adjusting learning rate of group 0 to 3.1532e-03.\n",
            "Adjusting learning rate of group 0 to 3.1962e-03.\n",
            "Adjusting learning rate of group 0 to 3.2393e-03.\n",
            "Adjusting learning rate of group 0 to 3.2824e-03.\n",
            "Adjusting learning rate of group 0 to 3.3254e-03.\n",
            "Adjusting learning rate of group 0 to 3.3685e-03.\n",
            "Adjusting learning rate of group 0 to 3.4116e-03.\n",
            "Adjusting learning rate of group 0 to 3.4546e-03.\n",
            "Adjusting learning rate of group 0 to 3.4977e-03.\n",
            "Adjusting learning rate of group 0 to 3.5408e-03.\n",
            "Adjusting learning rate of group 0 to 3.5838e-03.\n",
            "Adjusting learning rate of group 0 to 3.6269e-03.\n",
            "Adjusting learning rate of group 0 to 3.6700e-03.\n",
            "Adjusting learning rate of group 0 to 3.7130e-03.\n",
            "Adjusting learning rate of group 0 to 3.7561e-03.\n",
            "Adjusting learning rate of group 0 to 3.7992e-03.\n",
            "Adjusting learning rate of group 0 to 3.8422e-03.\n",
            "Adjusting learning rate of group 0 to 3.8853e-03.\n",
            "Adjusting learning rate of group 0 to 3.9284e-03.\n",
            "Adjusting learning rate of group 0 to 3.9714e-03.\n",
            "Adjusting learning rate of group 0 to 4.0145e-03.\n",
            "Adjusting learning rate of group 0 to 4.0576e-03.\n",
            "Adjusting learning rate of group 0 to 4.1006e-03.\n",
            "Adjusting learning rate of group 0 to 4.1437e-03.\n",
            "Adjusting learning rate of group 0 to 4.1868e-03.\n",
            "Adjusting learning rate of group 0 to 4.2298e-03.\n",
            "Adjusting learning rate of group 0 to 4.2729e-03.\n",
            "Adjusting learning rate of group 0 to 4.3160e-03.\n",
            "Adjusting learning rate of group 0 to 4.3590e-03.\n",
            "Adjusting learning rate of group 0 to 4.4021e-03.\n",
            "Adjusting learning rate of group 0 to 4.4451e-03.\n",
            "Adjusting learning rate of group 0 to 4.4882e-03.\n",
            "Adjusting learning rate of group 0 to 4.5313e-03.\n",
            "Adjusting learning rate of group 0 to 4.5743e-03.\n",
            "Adjusting learning rate of group 0 to 4.6174e-03.\n",
            "Adjusting learning rate of group 0 to 4.6605e-03.\n",
            "Adjusting learning rate of group 0 to 4.7035e-03.\n",
            "Adjusting learning rate of group 0 to 4.7466e-03.\n",
            "Adjusting learning rate of group 0 to 4.7897e-03.\n",
            "Adjusting learning rate of group 0 to 4.8327e-03.\n",
            "Adjusting learning rate of group 0 to 4.8758e-03.\n",
            "Adjusting learning rate of group 0 to 4.9189e-03.\n",
            "Adjusting learning rate of group 0 to 4.9619e-03.\n",
            "Adjusting learning rate of group 0 to 5.0050e-03.\n",
            "Adjusting learning rate of group 0 to 5.0481e-03.\n",
            "Adjusting learning rate of group 0 to 5.0911e-03.\n",
            "Adjusting learning rate of group 0 to 5.1342e-03.\n",
            "Adjusting learning rate of group 0 to 5.1773e-03.\n",
            "Adjusting learning rate of group 0 to 5.2203e-03.\n",
            "Adjusting learning rate of group 0 to 5.2634e-03.\n",
            "Adjusting learning rate of group 0 to 5.3065e-03.\n",
            "Adjusting learning rate of group 0 to 5.3495e-03.\n",
            "Adjusting learning rate of group 0 to 5.3926e-03.\n",
            "Adjusting learning rate of group 0 to 5.4357e-03.\n",
            "Adjusting learning rate of group 0 to 5.4787e-03.\n",
            "Adjusting learning rate of group 0 to 5.5218e-03.\n",
            "Adjusting learning rate of group 0 to 5.5649e-03.\n",
            "Adjusting learning rate of group 0 to 5.6079e-03.\n",
            "Adjusting learning rate of group 0 to 5.6510e-03.\n",
            "Adjusting learning rate of group 0 to 5.6941e-03.\n",
            "Adjusting learning rate of group 0 to 5.7371e-03.\n",
            "Adjusting learning rate of group 0 to 5.7802e-03.\n",
            "Adjusting learning rate of group 0 to 5.8233e-03.\n",
            "Adjusting learning rate of group 0 to 5.8663e-03.\n",
            "Adjusting learning rate of group 0 to 5.9094e-03.\n",
            "Adjusting learning rate of group 0 to 5.9525e-03.\n",
            "Adjusting learning rate of group 0 to 5.9955e-03.\n",
            "Adjusting learning rate of group 0 to 6.0386e-03.\n",
            "Adjusting learning rate of group 0 to 6.0817e-03.\n",
            "Adjusting learning rate of group 0 to 6.1247e-03.\n",
            "Adjusting learning rate of group 0 to 6.1678e-03.\n",
            "Adjusting learning rate of group 0 to 6.2109e-03.\n",
            "Adjusting learning rate of group 0 to 6.2539e-03.\n",
            "Adjusting learning rate of group 0 to 6.2970e-03.\n",
            "Adjusting learning rate of group 0 to 6.3401e-03.\n",
            "Adjusting learning rate of group 0 to 6.3831e-03.\n",
            "Adjusting learning rate of group 0 to 6.4262e-03.\n",
            "Adjusting learning rate of group 0 to 6.4693e-03.\n",
            "Adjusting learning rate of group 0 to 6.5123e-03.\n",
            "Adjusting learning rate of group 0 to 6.5554e-03.\n"
          ]
        },
        {
          "output_type": "display_data",
          "data": {
            "text/plain": [
              "Validation: 0it [00:00, ?it/s]"
            ],
            "application/vnd.jupyter.widget-view+json": {
              "version_major": 2,
              "version_minor": 0,
              "model_id": "3753b1904bb24009a1377749a514963c"
            }
          },
          "metadata": {}
        },
        {
          "output_type": "stream",
          "name": "stderr",
          "text": [
            "Exception ignored in: Exception ignored in: <function _MultiProcessingDataLoaderIter.__del__ at 0x78d7e6f85240><function _MultiProcessingDataLoaderIter.__del__ at 0x78d7e6f85240>\n",
            "\n",
            "Traceback (most recent call last):\n",
            "Traceback (most recent call last):\n",
            "  File \"/usr/local/lib/python3.10/dist-packages/torch/utils/data/dataloader.py\", line 1478, in __del__\n",
            "  File \"/usr/local/lib/python3.10/dist-packages/torch/utils/data/dataloader.py\", line 1478, in __del__\n",
            "        self._shutdown_workers()self._shutdown_workers()\n",
            "  File \"/usr/local/lib/python3.10/dist-packages/torch/utils/data/dataloader.py\", line 1461, in _shutdown_workers\n",
            "\n",
            "    if w.is_alive():  File \"/usr/local/lib/python3.10/dist-packages/torch/utils/data/dataloader.py\", line 1461, in _shutdown_workers\n",
            "\n",
            "      File \"/usr/lib/python3.10/multiprocessing/process.py\", line 160, in is_alive\n",
            "if w.is_alive():    assert self._parent_pid == os.getpid(), 'can only test a child process'\n",
            "\n",
            "  File \"/usr/lib/python3.10/multiprocessing/process.py\", line 160, in is_alive\n",
            "AssertionError    assert self._parent_pid == os.getpid(), 'can only test a child process'\n",
            "AssertionError: can only test a child process: \n",
            "can only test a child process\n"
          ]
        },
        {
          "output_type": "stream",
          "name": "stdout",
          "text": [
            "Adjusting learning rate of group 0 to 6.5985e-03.\n",
            "Adjusting learning rate of group 0 to 6.6415e-03.\n",
            "Adjusting learning rate of group 0 to 6.6846e-03.\n",
            "Adjusting learning rate of group 0 to 6.7276e-03.\n",
            "Adjusting learning rate of group 0 to 6.7707e-03.\n",
            "Adjusting learning rate of group 0 to 6.8138e-03.\n",
            "Adjusting learning rate of group 0 to 6.8568e-03.\n",
            "Adjusting learning rate of group 0 to 6.8999e-03.\n",
            "Adjusting learning rate of group 0 to 6.9430e-03.\n",
            "Adjusting learning rate of group 0 to 6.9860e-03.\n",
            "Adjusting learning rate of group 0 to 7.0291e-03.\n",
            "Adjusting learning rate of group 0 to 7.0722e-03.\n",
            "Adjusting learning rate of group 0 to 7.1152e-03.\n",
            "Adjusting learning rate of group 0 to 7.1583e-03.\n",
            "Adjusting learning rate of group 0 to 7.2014e-03.\n",
            "Adjusting learning rate of group 0 to 7.2444e-03.\n",
            "Adjusting learning rate of group 0 to 7.2875e-03.\n",
            "Adjusting learning rate of group 0 to 7.3306e-03.\n",
            "Adjusting learning rate of group 0 to 7.3736e-03.\n",
            "Adjusting learning rate of group 0 to 7.4167e-03.\n",
            "Adjusting learning rate of group 0 to 7.4598e-03.\n",
            "Adjusting learning rate of group 0 to 7.5028e-03.\n",
            "Adjusting learning rate of group 0 to 7.5459e-03.\n",
            "Adjusting learning rate of group 0 to 7.5890e-03.\n",
            "Adjusting learning rate of group 0 to 7.6320e-03.\n",
            "Adjusting learning rate of group 0 to 7.6751e-03.\n",
            "Adjusting learning rate of group 0 to 7.7182e-03.\n",
            "Adjusting learning rate of group 0 to 7.7612e-03.\n",
            "Adjusting learning rate of group 0 to 7.8043e-03.\n",
            "Adjusting learning rate of group 0 to 7.8474e-03.\n",
            "Adjusting learning rate of group 0 to 7.8904e-03.\n",
            "Adjusting learning rate of group 0 to 7.9335e-03.\n",
            "Adjusting learning rate of group 0 to 7.9766e-03.\n",
            "Adjusting learning rate of group 0 to 8.0196e-03.\n",
            "Adjusting learning rate of group 0 to 8.0627e-03.\n",
            "Adjusting learning rate of group 0 to 8.1058e-03.\n",
            "Adjusting learning rate of group 0 to 8.1488e-03.\n",
            "Adjusting learning rate of group 0 to 8.1919e-03.\n",
            "Adjusting learning rate of group 0 to 8.2350e-03.\n",
            "Adjusting learning rate of group 0 to 8.2780e-03.\n",
            "Adjusting learning rate of group 0 to 8.3211e-03.\n",
            "Adjusting learning rate of group 0 to 8.3642e-03.\n",
            "Adjusting learning rate of group 0 to 8.4072e-03.\n",
            "Adjusting learning rate of group 0 to 8.4503e-03.\n",
            "Adjusting learning rate of group 0 to 8.4934e-03.\n",
            "Adjusting learning rate of group 0 to 8.5364e-03.\n",
            "Adjusting learning rate of group 0 to 8.5795e-03.\n",
            "Adjusting learning rate of group 0 to 8.6226e-03.\n",
            "Adjusting learning rate of group 0 to 8.6656e-03.\n",
            "Adjusting learning rate of group 0 to 8.7087e-03.\n",
            "Adjusting learning rate of group 0 to 8.7518e-03.\n",
            "Adjusting learning rate of group 0 to 8.7948e-03.\n",
            "Adjusting learning rate of group 0 to 8.8379e-03.\n",
            "Adjusting learning rate of group 0 to 8.8809e-03.\n",
            "Adjusting learning rate of group 0 to 8.9240e-03.\n",
            "Adjusting learning rate of group 0 to 8.9671e-03.\n"
          ]
        }
      ]
    },
    {
      "cell_type": "code",
      "source": [
        "import pandas as pd\n",
        "import seaborn as sn\n",
        "metrics = pd.read_csv(f\"{trainer.logger.log_dir}/metrics.csv\")\n",
        "del metrics[\"epoch\"]\n",
        "metrics.set_index(\"step\", inplace=True)\n",
        "display(metrics.dropna(axis=1, how=\"all\").head())\n",
        "sn.relplot(data=metrics['lr-Adam'], kind=\"line\")"
      ],
      "metadata": {
        "colab": {
          "base_uri": "https://localhost:8080/",
          "height": 799
        },
        "id": "aFKuhZLzsFak",
        "outputId": "d0efc35b-c325-4a7b-842e-dc77662139e9"
      },
      "execution_count": 25,
      "outputs": [
        {
          "output_type": "stream",
          "name": "stderr",
          "text": [
            "/usr/local/lib/python3.10/dist-packages/ipykernel/ipkernel.py:283: DeprecationWarning: `should_run_async` will not call `transform_cell` automatically in the future. Please pass the result to `transformed_cell` argument and any exception that happen during thetransform in `preprocessing_exc_tuple` in IPython 7.17 and above.\n",
            "  and should_run_async(code)\n"
          ]
        },
        {
          "output_type": "display_data",
          "data": {
            "text/plain": [
              "       lr-Adam  train_loss  train_acc  val_loss  val_acc\n",
              "step                                                    \n",
              "0     0.000009         NaN        NaN       NaN      NaN\n",
              "0          NaN    3.003345   0.117188       NaN      NaN\n",
              "1     0.000052         NaN        NaN       NaN      NaN\n",
              "1          NaN    2.938184   0.126953       NaN      NaN\n",
              "2     0.000095         NaN        NaN       NaN      NaN"
            ],
            "text/html": [
              "\n",
              "\n",
              "  <div id=\"df-60779a44-023e-4f23-87c6-c82da6ef7d5c\">\n",
              "    <div class=\"colab-df-container\">\n",
              "      <div>\n",
              "<style scoped>\n",
              "    .dataframe tbody tr th:only-of-type {\n",
              "        vertical-align: middle;\n",
              "    }\n",
              "\n",
              "    .dataframe tbody tr th {\n",
              "        vertical-align: top;\n",
              "    }\n",
              "\n",
              "    .dataframe thead th {\n",
              "        text-align: right;\n",
              "    }\n",
              "</style>\n",
              "<table border=\"1\" class=\"dataframe\">\n",
              "  <thead>\n",
              "    <tr style=\"text-align: right;\">\n",
              "      <th></th>\n",
              "      <th>lr-Adam</th>\n",
              "      <th>train_loss</th>\n",
              "      <th>train_acc</th>\n",
              "      <th>val_loss</th>\n",
              "      <th>val_acc</th>\n",
              "    </tr>\n",
              "    <tr>\n",
              "      <th>step</th>\n",
              "      <th></th>\n",
              "      <th></th>\n",
              "      <th></th>\n",
              "      <th></th>\n",
              "      <th></th>\n",
              "    </tr>\n",
              "  </thead>\n",
              "  <tbody>\n",
              "    <tr>\n",
              "      <th>0</th>\n",
              "      <td>0.000009</td>\n",
              "      <td>NaN</td>\n",
              "      <td>NaN</td>\n",
              "      <td>NaN</td>\n",
              "      <td>NaN</td>\n",
              "    </tr>\n",
              "    <tr>\n",
              "      <th>0</th>\n",
              "      <td>NaN</td>\n",
              "      <td>3.003345</td>\n",
              "      <td>0.117188</td>\n",
              "      <td>NaN</td>\n",
              "      <td>NaN</td>\n",
              "    </tr>\n",
              "    <tr>\n",
              "      <th>1</th>\n",
              "      <td>0.000052</td>\n",
              "      <td>NaN</td>\n",
              "      <td>NaN</td>\n",
              "      <td>NaN</td>\n",
              "      <td>NaN</td>\n",
              "    </tr>\n",
              "    <tr>\n",
              "      <th>1</th>\n",
              "      <td>NaN</td>\n",
              "      <td>2.938184</td>\n",
              "      <td>0.126953</td>\n",
              "      <td>NaN</td>\n",
              "      <td>NaN</td>\n",
              "    </tr>\n",
              "    <tr>\n",
              "      <th>2</th>\n",
              "      <td>0.000095</td>\n",
              "      <td>NaN</td>\n",
              "      <td>NaN</td>\n",
              "      <td>NaN</td>\n",
              "      <td>NaN</td>\n",
              "    </tr>\n",
              "  </tbody>\n",
              "</table>\n",
              "</div>\n",
              "      <button class=\"colab-df-convert\" onclick=\"convertToInteractive('df-60779a44-023e-4f23-87c6-c82da6ef7d5c')\"\n",
              "              title=\"Convert this dataframe to an interactive table.\"\n",
              "              style=\"display:none;\">\n",
              "\n",
              "  <svg xmlns=\"http://www.w3.org/2000/svg\" height=\"24px\"viewBox=\"0 0 24 24\"\n",
              "       width=\"24px\">\n",
              "    <path d=\"M0 0h24v24H0V0z\" fill=\"none\"/>\n",
              "    <path d=\"M18.56 5.44l.94 2.06.94-2.06 2.06-.94-2.06-.94-.94-2.06-.94 2.06-2.06.94zm-11 1L8.5 8.5l.94-2.06 2.06-.94-2.06-.94L8.5 2.5l-.94 2.06-2.06.94zm10 10l.94 2.06.94-2.06 2.06-.94-2.06-.94-.94-2.06-.94 2.06-2.06.94z\"/><path d=\"M17.41 7.96l-1.37-1.37c-.4-.4-.92-.59-1.43-.59-.52 0-1.04.2-1.43.59L10.3 9.45l-7.72 7.72c-.78.78-.78 2.05 0 2.83L4 21.41c.39.39.9.59 1.41.59.51 0 1.02-.2 1.41-.59l7.78-7.78 2.81-2.81c.8-.78.8-2.07 0-2.86zM5.41 20L4 18.59l7.72-7.72 1.47 1.35L5.41 20z\"/>\n",
              "  </svg>\n",
              "      </button>\n",
              "\n",
              "\n",
              "\n",
              "    <div id=\"df-80cbb198-7c99-4a91-bb04-2dc39b1bc8a3\">\n",
              "      <button class=\"colab-df-quickchart\" onclick=\"quickchart('df-80cbb198-7c99-4a91-bb04-2dc39b1bc8a3')\"\n",
              "              title=\"Suggest charts.\"\n",
              "              style=\"display:none;\">\n",
              "\n",
              "<svg xmlns=\"http://www.w3.org/2000/svg\" height=\"24px\"viewBox=\"0 0 24 24\"\n",
              "     width=\"24px\">\n",
              "    <g>\n",
              "        <path d=\"M19 3H5c-1.1 0-2 .9-2 2v14c0 1.1.9 2 2 2h14c1.1 0 2-.9 2-2V5c0-1.1-.9-2-2-2zM9 17H7v-7h2v7zm4 0h-2V7h2v10zm4 0h-2v-4h2v4z\"/>\n",
              "    </g>\n",
              "</svg>\n",
              "      </button>\n",
              "    </div>\n",
              "\n",
              "<style>\n",
              "  .colab-df-quickchart {\n",
              "    background-color: #E8F0FE;\n",
              "    border: none;\n",
              "    border-radius: 50%;\n",
              "    cursor: pointer;\n",
              "    display: none;\n",
              "    fill: #1967D2;\n",
              "    height: 32px;\n",
              "    padding: 0 0 0 0;\n",
              "    width: 32px;\n",
              "  }\n",
              "\n",
              "  .colab-df-quickchart:hover {\n",
              "    background-color: #E2EBFA;\n",
              "    box-shadow: 0px 1px 2px rgba(60, 64, 67, 0.3), 0px 1px 3px 1px rgba(60, 64, 67, 0.15);\n",
              "    fill: #174EA6;\n",
              "  }\n",
              "\n",
              "  [theme=dark] .colab-df-quickchart {\n",
              "    background-color: #3B4455;\n",
              "    fill: #D2E3FC;\n",
              "  }\n",
              "\n",
              "  [theme=dark] .colab-df-quickchart:hover {\n",
              "    background-color: #434B5C;\n",
              "    box-shadow: 0px 1px 3px 1px rgba(0, 0, 0, 0.15);\n",
              "    filter: drop-shadow(0px 1px 2px rgba(0, 0, 0, 0.3));\n",
              "    fill: #FFFFFF;\n",
              "  }\n",
              "</style>\n",
              "\n",
              "    <script>\n",
              "      async function quickchart(key) {\n",
              "        const containerElement = document.querySelector('#' + key);\n",
              "        const charts = await google.colab.kernel.invokeFunction(\n",
              "            'suggestCharts', [key], {});\n",
              "      }\n",
              "    </script>\n",
              "\n",
              "      <script>\n",
              "\n",
              "function displayQuickchartButton(domScope) {\n",
              "  let quickchartButtonEl =\n",
              "    domScope.querySelector('#df-80cbb198-7c99-4a91-bb04-2dc39b1bc8a3 button.colab-df-quickchart');\n",
              "  quickchartButtonEl.style.display =\n",
              "    google.colab.kernel.accessAllowed ? 'block' : 'none';\n",
              "}\n",
              "\n",
              "        displayQuickchartButton(document);\n",
              "      </script>\n",
              "      <style>\n",
              "    .colab-df-container {\n",
              "      display:flex;\n",
              "      flex-wrap:wrap;\n",
              "      gap: 12px;\n",
              "    }\n",
              "\n",
              "    .colab-df-convert {\n",
              "      background-color: #E8F0FE;\n",
              "      border: none;\n",
              "      border-radius: 50%;\n",
              "      cursor: pointer;\n",
              "      display: none;\n",
              "      fill: #1967D2;\n",
              "      height: 32px;\n",
              "      padding: 0 0 0 0;\n",
              "      width: 32px;\n",
              "    }\n",
              "\n",
              "    .colab-df-convert:hover {\n",
              "      background-color: #E2EBFA;\n",
              "      box-shadow: 0px 1px 2px rgba(60, 64, 67, 0.3), 0px 1px 3px 1px rgba(60, 64, 67, 0.15);\n",
              "      fill: #174EA6;\n",
              "    }\n",
              "\n",
              "    [theme=dark] .colab-df-convert {\n",
              "      background-color: #3B4455;\n",
              "      fill: #D2E3FC;\n",
              "    }\n",
              "\n",
              "    [theme=dark] .colab-df-convert:hover {\n",
              "      background-color: #434B5C;\n",
              "      box-shadow: 0px 1px 3px 1px rgba(0, 0, 0, 0.15);\n",
              "      filter: drop-shadow(0px 1px 2px rgba(0, 0, 0, 0.3));\n",
              "      fill: #FFFFFF;\n",
              "    }\n",
              "  </style>\n",
              "\n",
              "      <script>\n",
              "        const buttonEl =\n",
              "          document.querySelector('#df-60779a44-023e-4f23-87c6-c82da6ef7d5c button.colab-df-convert');\n",
              "        buttonEl.style.display =\n",
              "          google.colab.kernel.accessAllowed ? 'block' : 'none';\n",
              "\n",
              "        async function convertToInteractive(key) {\n",
              "          const element = document.querySelector('#df-60779a44-023e-4f23-87c6-c82da6ef7d5c');\n",
              "          const dataTable =\n",
              "            await google.colab.kernel.invokeFunction('convertToInteractive',\n",
              "                                                     [key], {});\n",
              "          if (!dataTable) return;\n",
              "\n",
              "          const docLinkHtml = 'Like what you see? Visit the ' +\n",
              "            '<a target=\"_blank\" href=https://colab.research.google.com/notebooks/data_table.ipynb>data table notebook</a>'\n",
              "            + ' to learn more about interactive tables.';\n",
              "          element.innerHTML = '';\n",
              "          dataTable['output_type'] = 'display_data';\n",
              "          await google.colab.output.renderOutput(dataTable, element);\n",
              "          const docLink = document.createElement('div');\n",
              "          docLink.innerHTML = docLinkHtml;\n",
              "          element.appendChild(docLink);\n",
              "        }\n",
              "      </script>\n",
              "    </div>\n",
              "  </div>\n"
            ]
          },
          "metadata": {}
        },
        {
          "output_type": "execute_result",
          "data": {
            "text/plain": [
              "<seaborn.axisgrid.FacetGrid at 0x78d7a0db22c0>"
            ]
          },
          "metadata": {},
          "execution_count": 25
        },
        {
          "output_type": "display_data",
          "data": {
            "text/plain": [
              "<Figure size 500x500 with 1 Axes>"
            ],
            "image/png": "[encoded data removed]"
          },
          "metadata": {}
        }
      ]
    }
  ],
  "metadata": {
    "accelerator": "GPU",
    "colab": {
      "gpuType": "T4",
      "provenance": [],
      "include_colab_link": true
    },
    "kernelspec": {
      "display_name": "Python 3",
      "name": "python3"
    },
    "language_info": {
      "codemirror_mode": {
        "name": "ipython",
        "version": 3
      },
      "file_extension": ".py",
      "mimetype": "text/x-python",
      "name": "python",
      "nbconvert_exporter": "python",
      "pygments_lexer": "ipython3",
      "version": "3.10.6"
    },
    "orig_nbformat": 4,
    "widgets": {
      "application/vnd.jupyter.widget-state+json": {
        "65a45d71f67b4007ab30c3922be5c8ef": {
          "model_module": "@jupyter-widgets/controls",
          "model_name": "HBoxModel",
          "model_module_version": "1.5.0",
          "state": {
            "_dom_classes": [],
            "_model_module": "@jupyter-widgets/controls",
            "_model_module_version": "1.5.0",
            "_model_name": "HBoxModel",
            "_view_count": null,
            "_view_module": "@jupyter-widgets/controls",
            "_view_module_version": "1.5.0",
            "_view_name": "HBoxView",
            "box_style": "",
            "children": [
              "IPY_MODEL_d980872e32af4cbb92a9c193e8053cdc",
              "IPY_MODEL_2f52ff068b964bcebeaf3d998d9fc3e4",
              "IPY_MODEL_ef1a6a4dd042426c8abc92b6c7d29b3a"
            ],
            "layout": "IPY_MODEL_83ffb14993dc41958c680e02677077bd"
          }
        },
        "d980872e32af4cbb92a9c193e8053cdc": {
          "model_module": "@jupyter-widgets/controls",
          "model_name": "HTMLModel",
          "model_module_version": "1.5.0",
          "state": {
            "_dom_classes": [],
            "_model_module": "@jupyter-widgets/controls",
            "_model_module_version": "1.5.0",
            "_model_name": "HTMLModel",
            "_view_count": null,
            "_view_module": "@jupyter-widgets/controls",
            "_view_module_version": "1.5.0",
            "_view_name": "HTMLView",
            "description": "",
            "description_tooltip": null,
            "layout": "IPY_MODEL_176732e857434315a0290dc7ddd15dda",
            "placeholder": "​",
            "style": "IPY_MODEL_7a46e5642c48458c88c369ad5e1363ba",
            "value": " 68%"
          }
        },
        "2f52ff068b964bcebeaf3d998d9fc3e4": {
          "model_module": "@jupyter-widgets/controls",
          "model_name": "FloatProgressModel",
          "model_module_version": "1.5.0",
          "state": {
            "_dom_classes": [],
            "_model_module": "@jupyter-widgets/controls",
            "_model_module_version": "1.5.0",
            "_model_name": "FloatProgressModel",
            "_view_count": null,
            "_view_module": "@jupyter-widgets/controls",
            "_view_module_version": "1.5.0",
            "_view_name": "ProgressView",
            "bar_style": "danger",
            "description": "",
            "description_tooltip": null,
            "layout": "IPY_MODEL_25084a072a7043ef81ee359387c314b3",
            "max": 200,
            "min": 0,
            "orientation": "horizontal",
            "style": "IPY_MODEL_4f718dd07e004b68b6d32afb4a6c5b16",
            "value": 137
          }
        },
        "ef1a6a4dd042426c8abc92b6c7d29b3a": {
          "model_module": "@jupyter-widgets/controls",
          "model_name": "HTMLModel",
          "model_module_version": "1.5.0",
          "state": {
            "_dom_classes": [],
            "_model_module": "@jupyter-widgets/controls",
            "_model_module_version": "1.5.0",
            "_model_name": "HTMLModel",
            "_view_count": null,
            "_view_module": "@jupyter-widgets/controls",
            "_view_module_version": "1.5.0",
            "_view_name": "HTMLView",
            "description": "",
            "description_tooltip": null,
            "layout": "IPY_MODEL_39a6e520752640fdb02079cc86fc7dc8",
            "placeholder": "​",
            "style": "IPY_MODEL_cb9767911da64ce7a6a48351e257aa89",
            "value": " 137/200 [00:42&lt;00:15,  4.01it/s]"
          }
        },
        "83ffb14993dc41958c680e02677077bd": {
          "model_module": "@jupyter-widgets/base",
          "model_name": "LayoutModel",
          "model_module_version": "1.2.0",
          "state": {
            "_model_module": "@jupyter-widgets/base",
            "_model_module_version": "1.2.0",
            "_model_name": "LayoutModel",
            "_view_count": null,
            "_view_module": "@jupyter-widgets/base",
            "_view_module_version": "1.2.0",
            "_view_name": "LayoutView",
            "align_content": null,
            "align_items": null,
            "align_self": null,
            "border": null,
            "bottom": null,
            "display": null,
            "flex": null,
            "flex_flow": null,
            "grid_area": null,
            "grid_auto_columns": null,
            "grid_auto_flow": null,
            "grid_auto_rows": null,
            "grid_column": null,
            "grid_gap": null,
            "grid_row": null,
            "grid_template_areas": null,
            "grid_template_columns": null,
            "grid_template_rows": null,
            "height": null,
            "justify_content": null,
            "justify_items": null,
            "left": null,
            "margin": null,
            "max_height": null,
            "max_width": null,
            "min_height": null,
            "min_width": null,
            "object_fit": null,
            "object_position": null,
            "order": null,
            "overflow": null,
            "overflow_x": null,
            "overflow_y": null,
            "padding": null,
            "right": null,
            "top": null,
            "visibility": null,
            "width": null
          }
        },
        "176732e857434315a0290dc7ddd15dda": {
          "model_module": "@jupyter-widgets/base",
          "model_name": "LayoutModel",
          "model_module_version": "1.2.0",
          "state": {
            "_model_module": "@jupyter-widgets/base",
            "_model_module_version": "1.2.0",
            "_model_name": "LayoutModel",
            "_view_count": null,
            "_view_module": "@jupyter-widgets/base",
            "_view_module_version": "1.2.0",
            "_view_name": "LayoutView",
            "align_content": null,
            "align_items": null,
            "align_self": null,
            "border": null,
            "bottom": null,
            "display": null,
            "flex": null,
            "flex_flow": null,
            "grid_area": null,
            "grid_auto_columns": null,
            "grid_auto_flow": null,
            "grid_auto_rows": null,
            "grid_column": null,
            "grid_gap": null,
            "grid_row": null,
            "grid_template_areas": null,
            "grid_template_columns": null,
            "grid_template_rows": null,
            "height": null,
            "justify_content": null,
            "justify_items": null,
            "left": null,
            "margin": null,
            "max_height": null,
            "max_width": null,
            "min_height": null,
            "min_width": null,
            "object_fit": null,
            "object_position": null,
            "order": null,
            "overflow": null,
            "overflow_x": null,
            "overflow_y": null,
            "padding": null,
            "right": null,
            "top": null,
            "visibility": null,
            "width": null
          }
        },
        "7a46e5642c48458c88c369ad5e1363ba": {
          "model_module": "@jupyter-widgets/controls",
          "model_name": "DescriptionStyleModel",
          "model_module_version": "1.5.0",
          "state": {
            "_model_module": "@jupyter-widgets/controls",
            "_model_module_version": "1.5.0",
            "_model_name": "DescriptionStyleModel",
            "_view_count": null,
            "_view_module": "@jupyter-widgets/base",
            "_view_module_version": "1.2.0",
            "_view_name": "StyleView",
            "description_width": ""
          }
        },
        "25084a072a7043ef81ee359387c314b3": {
          "model_module": "@jupyter-widgets/base",
          "model_name": "LayoutModel",
          "model_module_version": "1.2.0",
          "state": {
            "_model_module": "@jupyter-widgets/base",
            "_model_module_version": "1.2.0",
            "_model_name": "LayoutModel",
            "_view_count": null,
            "_view_module": "@jupyter-widgets/base",
            "_view_module_version": "1.2.0",
            "_view_name": "LayoutView",
            "align_content": null,
            "align_items": null,
            "align_self": null,
            "border": null,
            "bottom": null,
            "display": null,
            "flex": null,
            "flex_flow": null,
            "grid_area": null,
            "grid_auto_columns": null,
            "grid_auto_flow": null,
            "grid_auto_rows": null,
            "grid_column": null,
            "grid_gap": null,
            "grid_row": null,
            "grid_template_areas": null,
            "grid_template_columns": null,
            "grid_template_rows": null,
            "height": null,
            "justify_content": null,
            "justify_items": null,
            "left": null,
            "margin": null,
            "max_height": null,
            "max_width": null,
            "min_height": null,
            "min_width": null,
            "object_fit": null,
            "object_position": null,
            "order": null,
            "overflow": null,
            "overflow_x": null,
            "overflow_y": null,
            "padding": null,
            "right": null,
            "top": null,
            "visibility": null,
            "width": null
          }
        },
        "4f718dd07e004b68b6d32afb4a6c5b16": {
          "model_module": "@jupyter-widgets/controls",
          "model_name": "ProgressStyleModel",
          "model_module_version": "1.5.0",
          "state": {
            "_model_module": "@jupyter-widgets/controls",
            "_model_module_version": "1.5.0",
            "_model_name": "ProgressStyleModel",
            "_view_count": null,
            "_view_module": "@jupyter-widgets/base",
            "_view_module_version": "1.2.0",
            "_view_name": "StyleView",
            "bar_color": null,
            "description_width": ""
          }
        },
        "39a6e520752640fdb02079cc86fc7dc8": {
          "model_module": "@jupyter-widgets/base",
          "model_name": "LayoutModel",
          "model_module_version": "1.2.0",
          "state": {
            "_model_module": "@jupyter-widgets/base",
            "_model_module_version": "1.2.0",
            "_model_name": "LayoutModel",
            "_view_count": null,
            "_view_module": "@jupyter-widgets/base",
            "_view_module_version": "1.2.0",
            "_view_name": "LayoutView",
            "align_content": null,
            "align_items": null,
            "align_self": null,
            "border": null,
            "bottom": null,
            "display": null,
            "flex": null,
            "flex_flow": null,
            "grid_area": null,
            "grid_auto_columns": null,
            "grid_auto_flow": null,
            "grid_auto_rows": null,
            "grid_column": null,
            "grid_gap": null,
            "grid_row": null,
            "grid_template_areas": null,
            "grid_template_columns": null,
            "grid_template_rows": null,
            "height": null,
            "justify_content": null,
            "justify_items": null,
            "left": null,
            "margin": null,
            "max_height": null,
            "max_width": null,
            "min_height": null,
            "min_width": null,
            "object_fit": null,
            "object_position": null,
            "order": null,
            "overflow": null,
            "overflow_x": null,
            "overflow_y": null,
            "padding": null,
            "right": null,
            "top": null,
            "visibility": null,
            "width": null
          }
        },
        "cb9767911da64ce7a6a48351e257aa89": {
          "model_module": "@jupyter-widgets/controls",
          "model_name": "DescriptionStyleModel",
          "model_module_version": "1.5.0",
          "state": {
            "_model_module": "@jupyter-widgets/controls",
            "_model_module_version": "1.5.0",
            "_model_name": "DescriptionStyleModel",
            "_view_count": null,
            "_view_module": "@jupyter-widgets/base",
            "_view_module_version": "1.2.0",
            "_view_name": "StyleView",
            "description_width": ""
          }
        },
        "17ea2aab040b4b308c6b44dfe897649b": {
          "model_module": "@jupyter-widgets/controls",
          "model_name": "HBoxModel",
          "model_module_version": "1.5.0",
          "state": {
            "_dom_classes": [],
            "_model_module": "@jupyter-widgets/controls",
            "_model_module_version": "1.5.0",
            "_model_name": "HBoxModel",
            "_view_count": null,
            "_view_module": "@jupyter-widgets/controls",
            "_view_module_version": "1.5.0",
            "_view_name": "HBoxView",
            "box_style": "",
            "children": [
              "IPY_MODEL_04efe166c4cd4951997a83cac14f3950",
              "IPY_MODEL_f9031622b47c471583611f26b6f6cbd8",
              "IPY_MODEL_6022c30a28ff4b91a4c491647bda66ad"
            ],
            "layout": "IPY_MODEL_9e30a609b29c455eabcd7e70d9f1fe5b"
          }
        },
        "04efe166c4cd4951997a83cac14f3950": {
          "model_module": "@jupyter-widgets/controls",
          "model_name": "HTMLModel",
          "model_module_version": "1.5.0",
          "state": {
            "_dom_classes": [],
            "_model_module": "@jupyter-widgets/controls",
            "_model_module_version": "1.5.0",
            "_model_name": "HTMLModel",
            "_view_count": null,
            "_view_module": "@jupyter-widgets/controls",
            "_view_module_version": "1.5.0",
            "_view_name": "HTMLView",
            "description": "",
            "description_tooltip": null,
            "layout": "IPY_MODEL_b7ee54b600f94d2c9a4537e975e18cde",
            "placeholder": "​",
            "style": "IPY_MODEL_c27a0b8d91c34e52895d4c4b4831a2a2",
            "value": "Epoch 1:  46%"
          }
        },
        "f9031622b47c471583611f26b6f6cbd8": {
          "model_module": "@jupyter-widgets/controls",
          "model_name": "FloatProgressModel",
          "model_module_version": "1.5.0",
          "state": {
            "_dom_classes": [],
            "_model_module": "@jupyter-widgets/controls",
            "_model_module_version": "1.5.0",
            "_model_name": "FloatProgressModel",
            "_view_count": null,
            "_view_module": "@jupyter-widgets/controls",
            "_view_module_version": "1.5.0",
            "_view_name": "ProgressView",
            "bar_style": "",
            "description": "",
            "description_tooltip": null,
            "layout": "IPY_MODEL_218368442b6b4bf1a745b947f8112f40",
            "max": 108,
            "min": 0,
            "orientation": "horizontal",
            "style": "IPY_MODEL_f9c8ae47d7864870a82a5445b9b3eff0",
            "value": 50
          }
        },
        "6022c30a28ff4b91a4c491647bda66ad": {
          "model_module": "@jupyter-widgets/controls",
          "model_name": "HTMLModel",
          "model_module_version": "1.5.0",
          "state": {
            "_dom_classes": [],
            "_model_module": "@jupyter-widgets/controls",
            "_model_module_version": "1.5.0",
            "_model_name": "HTMLModel",
            "_view_count": null,
            "_view_module": "@jupyter-widgets/controls",
            "_view_module_version": "1.5.0",
            "_view_name": "HTMLView",
            "description": "",
            "description_tooltip": null,
            "layout": "IPY_MODEL_71cf76f7d3c940299415a4c0fa6c498a",
            "placeholder": "​",
            "style": "IPY_MODEL_4809954673fc48b7b449f1b606a90f3f",
            "value": " 50/108 [00:14&lt;00:16,  3.57it/s, loss=0.883, v_num=7, train_loss=0.746, train_acc=0.750, val_loss=1.220, val_acc=0.618]"
          }
        },
        "9e30a609b29c455eabcd7e70d9f1fe5b": {
          "model_module": "@jupyter-widgets/base",
          "model_name": "LayoutModel",
          "model_module_version": "1.2.0",
          "state": {
            "_model_module": "@jupyter-widgets/base",
            "_model_module_version": "1.2.0",
            "_model_name": "LayoutModel",
            "_view_count": null,
            "_view_module": "@jupyter-widgets/base",
            "_view_module_version": "1.2.0",
            "_view_name": "LayoutView",
            "align_content": null,
            "align_items": null,
            "align_self": null,
            "border": null,
            "bottom": null,
            "display": "inline-flex",
            "flex": null,
            "flex_flow": "row wrap",
            "grid_area": null,
            "grid_auto_columns": null,
            "grid_auto_flow": null,
            "grid_auto_rows": null,
            "grid_column": null,
            "grid_gap": null,
            "grid_row": null,
            "grid_template_areas": null,
            "grid_template_columns": null,
            "grid_template_rows": null,
            "height": null,
            "justify_content": null,
            "justify_items": null,
            "left": null,
            "margin": null,
            "max_height": null,
            "max_width": null,
            "min_height": null,
            "min_width": null,
            "object_fit": null,
            "object_position": null,
            "order": null,
            "overflow": null,
            "overflow_x": null,
            "overflow_y": null,
            "padding": null,
            "right": null,
            "top": null,
            "visibility": null,
            "width": "100%"
          }
        },
        "b7ee54b600f94d2c9a4537e975e18cde": {
          "model_module": "@jupyter-widgets/base",
          "model_name": "LayoutModel",
          "model_module_version": "1.2.0",
          "state": {
            "_model_module": "@jupyter-widgets/base",
            "_model_module_version": "1.2.0",
            "_model_name": "LayoutModel",
            "_view_count": null,
            "_view_module": "@jupyter-widgets/base",
            "_view_module_version": "1.2.0",
            "_view_name": "LayoutView",
            "align_content": null,
            "align_items": null,
            "align_self": null,
            "border": null,
            "bottom": null,
            "display": null,
            "flex": null,
            "flex_flow": null,
            "grid_area": null,
            "grid_auto_columns": null,
            "grid_auto_flow": null,
            "grid_auto_rows": null,
            "grid_column": null,
            "grid_gap": null,
            "grid_row": null,
            "grid_template_areas": null,
            "grid_template_columns": null,
            "grid_template_rows": null,
            "height": null,
            "justify_content": null,
            "justify_items": null,
            "left": null,
            "margin": null,
            "max_height": null,
            "max_width": null,
            "min_height": null,
            "min_width": null,
            "object_fit": null,
            "object_position": null,
            "order": null,
            "overflow": null,
            "overflow_x": null,
            "overflow_y": null,
            "padding": null,
            "right": null,
            "top": null,
            "visibility": null,
            "width": null
          }
        },
        "c27a0b8d91c34e52895d4c4b4831a2a2": {
          "model_module": "@jupyter-widgets/controls",
          "model_name": "DescriptionStyleModel",
          "model_module_version": "1.5.0",
          "state": {
            "_model_module": "@jupyter-widgets/controls",
            "_model_module_version": "1.5.0",
            "_model_name": "DescriptionStyleModel",
            "_view_count": null,
            "_view_module": "@jupyter-widgets/base",
            "_view_module_version": "1.2.0",
            "_view_name": "StyleView",
            "description_width": ""
          }
        },
        "218368442b6b4bf1a745b947f8112f40": {
          "model_module": "@jupyter-widgets/base",
          "model_name": "LayoutModel",
          "model_module_version": "1.2.0",
          "state": {
            "_model_module": "@jupyter-widgets/base",
            "_model_module_version": "1.2.0",
            "_model_name": "LayoutModel",
            "_view_count": null,
            "_view_module": "@jupyter-widgets/base",
            "_view_module_version": "1.2.0",
            "_view_name": "LayoutView",
            "align_content": null,
            "align_items": null,
            "align_self": null,
            "border": null,
            "bottom": null,
            "display": null,
            "flex": "2",
            "flex_flow": null,
            "grid_area": null,
            "grid_auto_columns": null,
            "grid_auto_flow": null,
            "grid_auto_rows": null,
            "grid_column": null,
            "grid_gap": null,
            "grid_row": null,
            "grid_template_areas": null,
            "grid_template_columns": null,
            "grid_template_rows": null,
            "height": null,
            "justify_content": null,
            "justify_items": null,
            "left": null,
            "margin": null,
            "max_height": null,
            "max_width": null,
            "min_height": null,
            "min_width": null,
            "object_fit": null,
            "object_position": null,
            "order": null,
            "overflow": null,
            "overflow_x": null,
            "overflow_y": null,
            "padding": null,
            "right": null,
            "top": null,
            "visibility": null,
            "width": null
          }
        },
        "f9c8ae47d7864870a82a5445b9b3eff0": {
          "model_module": "@jupyter-widgets/controls",
          "model_name": "ProgressStyleModel",
          "model_module_version": "1.5.0",
          "state": {
            "_model_module": "@jupyter-widgets/controls",
            "_model_module_version": "1.5.0",
            "_model_name": "ProgressStyleModel",
            "_view_count": null,
            "_view_module": "@jupyter-widgets/base",
            "_view_module_version": "1.2.0",
            "_view_name": "StyleView",
            "bar_color": null,
            "description_width": ""
          }
        },
        "71cf76f7d3c940299415a4c0fa6c498a": {
          "model_module": "@jupyter-widgets/base",
          "model_name": "LayoutModel",
          "model_module_version": "1.2.0",
          "state": {
            "_model_module": "@jupyter-widgets/base",
            "_model_module_version": "1.2.0",
            "_model_name": "LayoutModel",
            "_view_count": null,
            "_view_module": "@jupyter-widgets/base",
            "_view_module_version": "1.2.0",
            "_view_name": "LayoutView",
            "align_content": null,
            "align_items": null,
            "align_self": null,
            "border": null,
            "bottom": null,
            "display": null,
            "flex": null,
            "flex_flow": null,
            "grid_area": null,
            "grid_auto_columns": null,
            "grid_auto_flow": null,
            "grid_auto_rows": null,
            "grid_column": null,
            "grid_gap": null,
            "grid_row": null,
            "grid_template_areas": null,
            "grid_template_columns": null,
            "grid_template_rows": null,
            "height": null,
            "justify_content": null,
            "justify_items": null,
            "left": null,
            "margin": null,
            "max_height": null,
            "max_width": null,
            "min_height": null,
            "min_width": null,
            "object_fit": null,
            "object_position": null,
            "order": null,
            "overflow": null,
            "overflow_x": null,
            "overflow_y": null,
            "padding": null,
            "right": null,
            "top": null,
            "visibility": null,
            "width": null
          }
        },
        "4809954673fc48b7b449f1b606a90f3f": {
          "model_module": "@jupyter-widgets/controls",
          "model_name": "DescriptionStyleModel",
          "model_module_version": "1.5.0",
          "state": {
            "_model_module": "@jupyter-widgets/controls",
            "_model_module_version": "1.5.0",
            "_model_name": "DescriptionStyleModel",
            "_view_count": null,
            "_view_module": "@jupyter-widgets/base",
            "_view_module_version": "1.2.0",
            "_view_name": "StyleView",
            "description_width": ""
          }
        },
        "3753b1904bb24009a1377749a514963c": {
          "model_module": "@jupyter-widgets/controls",
          "model_name": "HBoxModel",
          "model_module_version": "1.5.0",
          "state": {
            "_dom_classes": [],
            "_model_module": "@jupyter-widgets/controls",
            "_model_module_version": "1.5.0",
            "_model_name": "HBoxModel",
            "_view_count": null,
            "_view_module": "@jupyter-widgets/controls",
            "_view_module_version": "1.5.0",
            "_view_name": "HBoxView",
            "box_style": "",
            "children": [
              "IPY_MODEL_f4a1540b280f49bda9bc2ea5a9860816",
              "IPY_MODEL_bc95effe878e4827bf344436e0318083",
              "IPY_MODEL_0f11e44e5a3a4cbaa297e5b09a2ce614"
            ],
            "layout": "IPY_MODEL_357a604f8d4d45b097359fc1af038177"
          }
        },
        "f4a1540b280f49bda9bc2ea5a9860816": {
          "model_module": "@jupyter-widgets/controls",
          "model_name": "HTMLModel",
          "model_module_version": "1.5.0",
          "state": {
            "_dom_classes": [],
            "_model_module": "@jupyter-widgets/controls",
            "_model_module_version": "1.5.0",
            "_model_name": "HTMLModel",
            "_view_count": null,
            "_view_module": "@jupyter-widgets/controls",
            "_view_module_version": "1.5.0",
            "_view_name": "HTMLView",
            "description": "",
            "description_tooltip": null,
            "layout": "IPY_MODEL_e57a1c88b1f44c73be9107be567051a2",
            "placeholder": "​",
            "style": "IPY_MODEL_bce4cf2aa612435badc4c422fc842839",
            "value": "Validation DataLoader 0: 100%"
          }
        },
        "bc95effe878e4827bf344436e0318083": {
          "model_module": "@jupyter-widgets/controls",
          "model_name": "FloatProgressModel",
          "model_module_version": "1.5.0",
          "state": {
            "_dom_classes": [],
            "_model_module": "@jupyter-widgets/controls",
            "_model_module_version": "1.5.0",
            "_model_name": "FloatProgressModel",
            "_view_count": null,
            "_view_module": "@jupyter-widgets/controls",
            "_view_module_version": "1.5.0",
            "_view_name": "ProgressView",
            "bar_style": "",
            "description": "",
            "description_tooltip": null,
            "layout": "IPY_MODEL_d4732146be84400792dd9f3758d40ace",
            "max": 20,
            "min": 0,
            "orientation": "horizontal",
            "style": "IPY_MODEL_4e6252a736ae44eeb0f08ec598581496",
            "value": 20
          }
        },
        "0f11e44e5a3a4cbaa297e5b09a2ce614": {
          "model_module": "@jupyter-widgets/controls",
          "model_name": "HTMLModel",
          "model_module_version": "1.5.0",
          "state": {
            "_dom_classes": [],
            "_model_module": "@jupyter-widgets/controls",
            "_model_module_version": "1.5.0",
            "_model_name": "HTMLModel",
            "_view_count": null,
            "_view_module": "@jupyter-widgets/controls",
            "_view_module_version": "1.5.0",
            "_view_name": "HTMLView",
            "description": "",
            "description_tooltip": null,
            "layout": "IPY_MODEL_15b0a86ea04c4db08656f1c142f7ccd0",
            "placeholder": "​",
            "style": "IPY_MODEL_9b6c6c4b31864c55bc331194843c8da2",
            "value": " 20/20 [00:01&lt;00:00, 11.31it/s]"
          }
        },
        "357a604f8d4d45b097359fc1af038177": {
          "model_module": "@jupyter-widgets/base",
          "model_name": "LayoutModel",
          "model_module_version": "1.2.0",
          "state": {
            "_model_module": "@jupyter-widgets/base",
            "_model_module_version": "1.2.0",
            "_model_name": "LayoutModel",
            "_view_count": null,
            "_view_module": "@jupyter-widgets/base",
            "_view_module_version": "1.2.0",
            "_view_name": "LayoutView",
            "align_content": null,
            "align_items": null,
            "align_self": null,
            "border": null,
            "bottom": null,
            "display": "inline-flex",
            "flex": null,
            "flex_flow": "row wrap",
            "grid_area": null,
            "grid_auto_columns": null,
            "grid_auto_flow": null,
            "grid_auto_rows": null,
            "grid_column": null,
            "grid_gap": null,
            "grid_row": null,
            "grid_template_areas": null,
            "grid_template_columns": null,
            "grid_template_rows": null,
            "height": null,
            "justify_content": null,
            "justify_items": null,
            "left": null,
            "margin": null,
            "max_height": null,
            "max_width": null,
            "min_height": null,
            "min_width": null,
            "object_fit": null,
            "object_position": null,
            "order": null,
            "overflow": null,
            "overflow_x": null,
            "overflow_y": null,
            "padding": null,
            "right": null,
            "top": null,
            "visibility": "hidden",
            "width": "100%"
          }
        },
        "e57a1c88b1f44c73be9107be567051a2": {
          "model_module": "@jupyter-widgets/base",
          "model_name": "LayoutModel",
          "model_module_version": "1.2.0",
          "state": {
            "_model_module": "@jupyter-widgets/base",
            "_model_module_version": "1.2.0",
            "_model_name": "LayoutModel",
            "_view_count": null,
            "_view_module": "@jupyter-widgets/base",
            "_view_module_version": "1.2.0",
            "_view_name": "LayoutView",
            "align_content": null,
            "align_items": null,
            "align_self": null,
            "border": null,
            "bottom": null,
            "display": null,
            "flex": null,
            "flex_flow": null,
            "grid_area": null,
            "grid_auto_columns": null,
            "grid_auto_flow": null,
            "grid_auto_rows": null,
            "grid_column": null,
            "grid_gap": null,
            "grid_row": null,
            "grid_template_areas": null,
            "grid_template_columns": null,
            "grid_template_rows": null,
            "height": null,
            "justify_content": null,
            "justify_items": null,
            "left": null,
            "margin": null,
            "max_height": null,
            "max_width": null,
            "min_height": null,
            "min_width": null,
            "object_fit": null,
            "object_position": null,
            "order": null,
            "overflow": null,
            "overflow_x": null,
            "overflow_y": null,
            "padding": null,
            "right": null,
            "top": null,
            "visibility": null,
            "width": null
          }
        },
        "bce4cf2aa612435badc4c422fc842839": {
          "model_module": "@jupyter-widgets/controls",
          "model_name": "DescriptionStyleModel",
          "model_module_version": "1.5.0",
          "state": {
            "_model_module": "@jupyter-widgets/controls",
            "_model_module_version": "1.5.0",
            "_model_name": "DescriptionStyleModel",
            "_view_count": null,
            "_view_module": "@jupyter-widgets/base",
            "_view_module_version": "1.2.0",
            "_view_name": "StyleView",
            "description_width": ""
          }
        },
        "d4732146be84400792dd9f3758d40ace": {
          "model_module": "@jupyter-widgets/base",
          "model_name": "LayoutModel",
          "model_module_version": "1.2.0",
          "state": {
            "_model_module": "@jupyter-widgets/base",
            "_model_module_version": "1.2.0",
            "_model_name": "LayoutModel",
            "_view_count": null,
            "_view_module": "@jupyter-widgets/base",
            "_view_module_version": "1.2.0",
            "_view_name": "LayoutView",
            "align_content": null,
            "align_items": null,
            "align_self": null,
            "border": null,
            "bottom": null,
            "display": null,
            "flex": "2",
            "flex_flow": null,
            "grid_area": null,
            "grid_auto_columns": null,
            "grid_auto_flow": null,
            "grid_auto_rows": null,
            "grid_column": null,
            "grid_gap": null,
            "grid_row": null,
            "grid_template_areas": null,
            "grid_template_columns": null,
            "grid_template_rows": null,
            "height": null,
            "justify_content": null,
            "justify_items": null,
            "left": null,
            "margin": null,
            "max_height": null,
            "max_width": null,
            "min_height": null,
            "min_width": null,
            "object_fit": null,
            "object_position": null,
            "order": null,
            "overflow": null,
            "overflow_x": null,
            "overflow_y": null,
            "padding": null,
            "right": null,
            "top": null,
            "visibility": null,
            "width": null
          }
        },
        "4e6252a736ae44eeb0f08ec598581496": {
          "model_module": "@jupyter-widgets/controls",
          "model_name": "ProgressStyleModel",
          "model_module_version": "1.5.0",
          "state": {
            "_model_module": "@jupyter-widgets/controls",
            "_model_module_version": "1.5.0",
            "_model_name": "ProgressStyleModel",
            "_view_count": null,
            "_view_module": "@jupyter-widgets/base",
            "_view_module_version": "1.2.0",
            "_view_name": "StyleView",
            "bar_color": null,
            "description_width": ""
          }
        },
        "15b0a86ea04c4db08656f1c142f7ccd0": {
          "model_module": "@jupyter-widgets/base",
          "model_name": "LayoutModel",
          "model_module_version": "1.2.0",
          "state": {
            "_model_module": "@jupyter-widgets/base",
            "_model_module_version": "1.2.0",
            "_model_name": "LayoutModel",
            "_view_count": null,
            "_view_module": "@jupyter-widgets/base",
            "_view_module_version": "1.2.0",
            "_view_name": "LayoutView",
            "align_content": null,
            "align_items": null,
            "align_self": null,
            "border": null,
            "bottom": null,
            "display": null,
            "flex": null,
            "flex_flow": null,
            "grid_area": null,
            "grid_auto_columns": null,
            "grid_auto_flow": null,
            "grid_auto_rows": null,
            "grid_column": null,
            "grid_gap": null,
            "grid_row": null,
            "grid_template_areas": null,
            "grid_template_columns": null,
            "grid_template_rows": null,
            "height": null,
            "justify_content": null,
            "justify_items": null,
            "left": null,
            "margin": null,
            "max_height": null,
            "max_width": null,
            "min_height": null,
            "min_width": null,
            "object_fit": null,
            "object_position": null,
            "order": null,
            "overflow": null,
            "overflow_x": null,
            "overflow_y": null,
            "padding": null,
            "right": null,
            "top": null,
            "visibility": null,
            "width": null
          }
        },
        "9b6c6c4b31864c55bc331194843c8da2": {
          "model_module": "@jupyter-widgets/controls",
          "model_name": "DescriptionStyleModel",
          "model_module_version": "1.5.0",
          "state": {
            "_model_module": "@jupyter-widgets/controls",
            "_model_module_version": "1.5.0",
            "_model_name": "DescriptionStyleModel",
            "_view_count": null,
            "_view_module": "@jupyter-widgets/base",
            "_view_module_version": "1.2.0",
            "_view_name": "StyleView",
            "description_width": ""
          }
        }
      }
    }
  },
  "nbformat": 4,
  "nbformat_minor": 0
}