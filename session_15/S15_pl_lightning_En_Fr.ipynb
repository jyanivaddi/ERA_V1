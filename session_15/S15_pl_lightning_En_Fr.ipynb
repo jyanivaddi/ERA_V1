{
  "cells": [
    {
      "cell_type": "markdown",
      "metadata": {
        "id": "view-in-github",
        "colab_type": "text"
      },
      "source": [
        "<a href=\"https://colab.research.google.com/github/jyanivaddi/ERA_V1/blob/master/session_15/S15_pl_lightning_En_Fr.ipynb\" target=\"_parent\"><img src=\"https://colab.research.google.com/assets/colab-badge.svg\" alt=\"Open In Colab\"/></a>"
      ]
    },
    {
      "cell_type": "markdown",
      "metadata": {
        "id": "OZ4DqRTb9Ym8"
      },
      "source": [
        "First Connect Google Drive"
      ]
    },
    {
      "cell_type": "code",
      "execution_count": 1,
      "metadata": {
        "colab": {
          "base_uri": "https://localhost:8080/"
        },
        "id": "TDhBByBZ8qi9",
        "outputId": "304c777c-08ce-4745-badc-4ac14d889614"
      },
      "outputs": [
        {
          "output_type": "stream",
          "name": "stdout",
          "text": [
            "Mounted at /content/gdrive/\n"
          ]
        }
      ],
      "source": [
        "from google.colab import drive\n",
        "drive.mount('/content/gdrive/', force_remount=True)"
      ]
    },
    {
      "cell_type": "markdown",
      "metadata": {
        "id": "cgHQxuQMAJ5o"
      },
      "source": [
        "Install packages"
      ]
    },
    {
      "cell_type": "code",
      "execution_count": 2,
      "metadata": {
        "ExecuteTime": {
          "end_time": "2023-09-07T13:35:51.770541052Z",
          "start_time": "2023-09-07T13:35:32.503852140Z"
        },
        "colab": {
          "base_uri": "https://localhost:8080/"
        },
        "id": "VAOiUa_mAJVQ",
        "outputId": "9c0b5bd6-b7ba-4fa3-9d16-697faaf7e2f6"
      },
      "outputs": [
        {
          "output_type": "stream",
          "name": "stdout",
          "text": [
            "Cloning into 'dl_hub'...\n",
            "remote: Enumerating objects: 566, done.\u001b[K\n",
            "remote: Counting objects: 100% (318/318), done.\u001b[K\n",
            "remote: Compressing objects: 100% (128/128), done.\u001b[K\n",
            "remote: Total 566 (delta 211), reused 283 (delta 183), pack-reused 248\u001b[K\n",
            "Receiving objects: 100% (566/566), 144.47 KiB | 4.51 MiB/s, done.\n",
            "Resolving deltas: 100% (355/355), done.\n",
            "Already up to date.\n",
            "fatal: not a git repository (or any of the parent directories): .git\n",
            "\u001b[2K     \u001b[90m━━━━━━━━━━━━━━━━━━━━━━━━━━━━━━━━━━━━━━━\u001b[0m \u001b[32m727.0/727.0 kB\u001b[0m \u001b[31m6.9 MB/s\u001b[0m eta \u001b[36m0:00:00\u001b[0m\n",
            "\u001b[2K     \u001b[90m━━━━━━━━━━━━━━━━━━━━━━━━━━━━━━━━━━━━━━━\u001b[0m \u001b[32m763.4/763.4 kB\u001b[0m \u001b[31m9.8 MB/s\u001b[0m eta \u001b[36m0:00:00\u001b[0m\n",
            "\u001b[2K     \u001b[90m━━━━━━━━━━━━━━━━━━━━━━━━━━━━━━━━━━━━━━\u001b[0m \u001b[32m300.8/300.8 kB\u001b[0m \u001b[31m10.9 MB/s\u001b[0m eta \u001b[36m0:00:00\u001b[0m\n",
            "\u001b[2K     \u001b[90m━━━━━━━━━━━━━━━━━━━━━━━━━━━━━━━━━━━━━━\u001b[0m \u001b[32m519.6/519.6 kB\u001b[0m \u001b[31m12.3 MB/s\u001b[0m eta \u001b[36m0:00:00\u001b[0m\n",
            "\u001b[2K     \u001b[90m━━━━━━━━━━━━━━━━━━━━━━━━━━━━━━━━━━━━━━━━\u001b[0m \u001b[32m3.8/3.8 MB\u001b[0m \u001b[31m20.1 MB/s\u001b[0m eta \u001b[36m0:00:00\u001b[0m\n",
            "\u001b[2K     \u001b[90m━━━━━━━━━━━━━━━━━━━━━━━━━━━━━━━━━━━━━━\u001b[0m \u001b[32m829.5/829.5 kB\u001b[0m \u001b[31m25.1 MB/s\u001b[0m eta \u001b[36m0:00:00\u001b[0m\n",
            "\u001b[2K     \u001b[90m━━━━━━━━━━━━━━━━━━━━━━━━━━━━━━━━━━━━━━\u001b[0m \u001b[32m115.3/115.3 kB\u001b[0m \u001b[31m15.3 MB/s\u001b[0m eta \u001b[36m0:00:00\u001b[0m\n",
            "\u001b[2K     \u001b[90m━━━━━━━━━━━━━━━━━━━━━━━━━━━━━━━━━━━━━━\u001b[0m \u001b[32m194.1/194.1 kB\u001b[0m \u001b[31m22.8 MB/s\u001b[0m eta \u001b[36m0:00:00\u001b[0m\n",
            "\u001b[2K     \u001b[90m━━━━━━━━━━━━━━━━━━━━━━━━━━━━━━━━━━━━━━\u001b[0m \u001b[32m134.8/134.8 kB\u001b[0m \u001b[31m16.6 MB/s\u001b[0m eta \u001b[36m0:00:00\u001b[0m\n",
            "\u001b[2K     \u001b[90m━━━━━━━━━━━━━━━━━━━━━━━━━━━━━━━━━━━━━━\u001b[0m \u001b[32m268.8/268.8 kB\u001b[0m \u001b[31m27.7 MB/s\u001b[0m eta \u001b[36m0:00:00\u001b[0m\n",
            "\u001b[2K     \u001b[90m━━━━━━━━━━━━━━━━━━━━━━━━━━━━━━━━━━━━━━━━\u001b[0m \u001b[32m7.8/7.8 MB\u001b[0m \u001b[31m16.1 MB/s\u001b[0m eta \u001b[36m0:00:00\u001b[0m\n",
            "\u001b[?25h  Installing build dependencies ... \u001b[?25l\u001b[?25hdone\n",
            "  Getting requirements to build wheel ... \u001b[?25l\u001b[?25hdone\n",
            "  Preparing metadata (pyproject.toml) ... \u001b[?25l\u001b[?25hdone\n",
            "  Building wheel for grad-cam (pyproject.toml) ... \u001b[?25l\u001b[?25hdone\n",
            "\u001b[2K     \u001b[90m━━━━━━━━━━━━━━━━━━━━━━━━━━━━━━━━━━━━━━━━\u001b[0m \u001b[32m20.1/20.1 MB\u001b[0m \u001b[31m38.6 MB/s\u001b[0m eta \u001b[36m0:00:00\u001b[0m\n",
            "\u001b[2K     \u001b[90m━━━━━━━━━━━━━━━━━━━━━━━━━━━━━━━━━━━━━━━━\u001b[0m \u001b[32m66.2/66.2 kB\u001b[0m \u001b[31m8.7 MB/s\u001b[0m eta \u001b[36m0:00:00\u001b[0m\n",
            "\u001b[?25h  Preparing metadata (setup.py) ... \u001b[?25l\u001b[?25hdone\n",
            "\u001b[2K     \u001b[90m━━━━━━━━━━━━━━━━━━━━━━━━━━━━━━━━━━━━━━\u001b[0m \u001b[32m298.2/298.2 kB\u001b[0m \u001b[31m35.4 MB/s\u001b[0m eta \u001b[36m0:00:00\u001b[0m\n",
            "\u001b[2K     \u001b[90m━━━━━━━━━━━━━━━━━━━━━━━━━━━━━━━━━━━━━━━━\u001b[0m \u001b[32m75.4/75.4 kB\u001b[0m \u001b[31m10.5 MB/s\u001b[0m eta \u001b[36m0:00:00\u001b[0m\n",
            "\u001b[2K     \u001b[90m━━━━━━━━━━━━━━━━━━━━━━━━━━━━━━━━━━━━━━\u001b[0m \u001b[32m139.9/139.9 kB\u001b[0m \u001b[31m18.4 MB/s\u001b[0m eta \u001b[36m0:00:00\u001b[0m\n",
            "\u001b[2K     \u001b[90m━━━━━━━━━━━━━━━━━━━━━━━━━━━━━━━━━━━━━━━━\u001b[0m \u001b[32m45.7/45.7 kB\u001b[0m \u001b[31m5.6 MB/s\u001b[0m eta \u001b[36m0:00:00\u001b[0m\n",
            "\u001b[2K     \u001b[90m━━━━━━━━━━━━━━━━━━━━━━━━━━━━━━━━━━━━━━━━\u001b[0m \u001b[32m59.5/59.5 kB\u001b[0m \u001b[31m3.1 MB/s\u001b[0m eta \u001b[36m0:00:00\u001b[0m\n",
            "\u001b[2K     \u001b[90m━━━━━━━━━━━━━━━━━━━━━━━━━━━━━━━━━━━━━━\u001b[0m \u001b[32m129.9/129.9 kB\u001b[0m \u001b[31m17.1 MB/s\u001b[0m eta \u001b[36m0:00:00\u001b[0m\n",
            "\u001b[2K     \u001b[90m━━━━━━━━━━━━━━━━━━━━━━━━━━━━━━━━━━━━━━━━\u001b[0m \u001b[32m58.3/58.3 kB\u001b[0m \u001b[31m7.7 MB/s\u001b[0m eta \u001b[36m0:00:00\u001b[0m\n",
            "\u001b[2K     \u001b[90m━━━━━━━━━━━━━━━━━━━━━━━━━━━━━━━━━━━━━━━━\u001b[0m \u001b[32m67.0/67.0 kB\u001b[0m \u001b[31m8.8 MB/s\u001b[0m eta \u001b[36m0:00:00\u001b[0m\n",
            "\u001b[2K     \u001b[90m━━━━━━━━━━━━━━━━━━━━━━━━━━━━━━━━━━━━━━━━\u001b[0m \u001b[32m74.5/74.5 kB\u001b[0m \u001b[31m9.5 MB/s\u001b[0m eta \u001b[36m0:00:00\u001b[0m\n",
            "\u001b[?25h  Building wheel for ffmpy (setup.py) ... \u001b[?25l\u001b[?25hdone\n"
          ]
        }
      ],
      "source": [
        "#!git clone \"https://github.com/jyanivaddi/ERA_V1.git\"\n",
        "#!git -C ERA_V1 pull\n",
        "#!cd ../\n",
        "!git clone \"https://github.com/jyanivaddi/dl_hub.git\"\n",
        "!git -C dl_hub pull\n",
        "!git pull\n",
        "#!cd ../\n",
        "\n",
        "!pip install --quiet \"torchinfo\" \"seaborn\" \"pytorch-lightning\" \"torchmetrics\" \"lightning-bolts\" \"torchtext\" \"datasets\" \"tokenizers\"\n",
        "!pip install --quiet \"prettytable\"\n",
        "!pip install --quiet \"torchsummary\"\n",
        "!pip install --quiet \"torch_lr_finder\"\n",
        "!pip install --quiet \"grad-cam\"\n",
        "!pip install --quiet \"gradio\""
      ]
    },
    {
      "cell_type": "code",
      "execution_count": 3,
      "metadata": {
        "ExecuteTime": {
          "end_time": "2023-09-07T14:01:43.252301020Z",
          "start_time": "2023-09-07T14:01:43.240008015Z"
        },
        "id": "ivBzl8YFPvJ0"
      },
      "outputs": [],
      "source": [
        "import sys\n",
        "sys.path.append(\"ERA_V1/session_15\")\n",
        "sys.path.append(\"dl_hub\")"
      ]
    },
    {
      "cell_type": "code",
      "execution_count": 4,
      "metadata": {
        "ExecuteTime": {
          "end_time": "2023-09-07T14:01:47.632625068Z",
          "start_time": "2023-09-07T14:01:46.605296677Z"
        },
        "colab": {
          "base_uri": "https://localhost:8080/"
        },
        "id": "n41Pe-b1J3mC",
        "outputId": "013eb5e4-8cfd-4cbb-b87a-275784618468"
      },
      "outputs": [
        {
          "output_type": "stream",
          "name": "stdout",
          "text": [
            "Already up to date.\n"
          ]
        }
      ],
      "source": [
        "!git -C dl_hub pull\n"
      ]
    },
    {
      "cell_type": "code",
      "execution_count": 5,
      "metadata": {
        "ExecuteTime": {
          "end_time": "2023-09-07T14:01:55.924134628Z",
          "start_time": "2023-09-07T14:01:52.357441217Z"
        },
        "id": "x8WpKATx75Hu"
      },
      "outputs": [],
      "source": [
        "import torch\n",
        "import torch.nn as nn\n",
        "from torch.optim.lr_scheduler import OneCycleLR\n",
        "from dl_hub.Transformer.config import get_config\n",
        "from dl_hub.Transformer.PL_data_module import OpusDataModule\n",
        "from dl_hub.Transformer.PL_model import LitTransformer\n",
        "from dl_hub.Transformer.PL_main import train_transformer\n",
        "\n"
      ]
    },
    {
      "cell_type": "code",
      "execution_count": null,
      "metadata": {
        "ExecuteTime": {
          "end_time": "2023-09-05T13:46:31.689626468Z",
          "start_time": "2023-09-05T13:46:29.547866667Z"
        },
        "jupyter": {
          "outputs_hidden": false
        },
        "id": "_1GMe2TKsQRD"
      },
      "outputs": [],
      "source": [
        "#from config import get_config\n",
        "#from PL_data_module import OpusDataModule\n",
        "#from PL_model import LitTransformer\n",
        "#from PL_main import train_transformer\n"
      ]
    },
    {
      "cell_type": "markdown",
      "metadata": {
        "collapsed": false,
        "jupyter": {
          "outputs_hidden": false
        },
        "id": "P043yrZysQRE"
      },
      "source": [
        "**Finetune config params**"
      ]
    },
    {
      "cell_type": "code",
      "execution_count": 6,
      "metadata": {
        "ExecuteTime": {
          "end_time": "2023-09-07T14:01:58.355484352Z",
          "start_time": "2023-09-07T14:01:58.348147400Z"
        },
        "jupyter": {
          "outputs_hidden": false
        },
        "id": "MpVFD2lBsQRE"
      },
      "outputs": [],
      "source": [
        "cfg = get_config()\n",
        "cfg[\"parameter_sharing\"] = True\n",
        "cfg[\"d_ff\"] = 1024\n",
        "cfg[\"batch_size\"] = 48\n",
        "cfg[\"d_model\"] = 512\n",
        "cfg[\"preload\"] = None\n",
        "cfg[\"num_epochs\"] = 40\n",
        "cfg[\"ds_mode\"] = 'Online'\n",
        "cfg[\"lang_tgt\"] = 'fr'\n",
        "cfg[\"save_ds_to_disk\"] = False\n",
        "cfg[\"experiment_name\"] = f\"tmodel_dynamic_pad_150_tokens_bs_{cfg['batch_size']}_amp_ps_dff_{cfg['d_ff']}\"\n",
        "\n"
      ]
    },
    {
      "cell_type": "markdown",
      "metadata": {
        "collapsed": false,
        "jupyter": {
          "outputs_hidden": false
        },
        "id": "5O4igt8qsQRG"
      },
      "source": [
        "**Mixed precision training**"
      ]
    },
    {
      "cell_type": "code",
      "execution_count": 7,
      "metadata": {
        "ExecuteTime": {
          "end_time": "2023-09-07T14:02:06.017925423Z",
          "start_time": "2023-09-07T14:02:05.988836307Z"
        },
        "jupyter": {
          "outputs_hidden": false
        },
        "id": "K6-qv1WUsQRI",
        "outputId": "8bc3904f-bb6f-4329-9c24-e6de651c60de",
        "colab": {
          "base_uri": "https://localhost:8080/"
        }
      },
      "outputs": [
        {
          "output_type": "execute_result",
          "data": {
            "text/plain": [
              "<torch.cuda.amp.autocast_mode.autocast at 0x7e4d47414eb0>"
            ]
          },
          "metadata": {},
          "execution_count": 7
        }
      ],
      "source": [
        "torch.cuda.amp.autocast(enabled=True)"
      ]
    },
    {
      "cell_type": "markdown",
      "metadata": {
        "collapsed": false,
        "jupyter": {
          "outputs_hidden": false
        },
        "id": "GEFL0r8KsQRL"
      },
      "source": [
        "**Define data module**"
      ]
    },
    {
      "cell_type": "code",
      "execution_count": 8,
      "metadata": {
        "ExecuteTime": {
          "end_time": "2023-09-07T14:02:18.876973423Z",
          "start_time": "2023-09-07T14:02:10.840404003Z"
        },
        "jupyter": {
          "outputs_hidden": false
        },
        "id": "MEEHNM8AsQRM",
        "outputId": "0d5cd340-2bc3-4b7c-e32a-4b159321da2e",
        "colab": {
          "base_uri": "https://localhost:8080/",
          "height": 177,
          "referenced_widgets": [
            "cefca3aa04494a1aa109afd0e1768a33",
            "30a3291f37e6446293f5c30b1268f310",
            "90f78844890242ceb7d8953933c04e84",
            "6c5012afc3b346e8b383d7c1a911852b",
            "7c43f624592e49298b8ea53c2d27f1a7",
            "ac7e7dc4f871476397d1cdf60dbadd3f",
            "1199250ffa4446f596bdfff2fd6e5a4e",
            "fecc3c559c7d4c338c8eeaa7111073c6",
            "9b6618d565dd4c2197d9411e4542c205",
            "84dbc15d4c554c12a07dcf2ffa075baf",
            "b355e25cd5f446d98b1d3898083e2f9e",
            "696c7042667648d38c4a6e6c5480061c",
            "ac1cf54f59194fc790382d6a01b295c3",
            "30617497f9fa4520852e75f1c26c4a00",
            "60260d22b9744ca0b324421efb0717ec",
            "24e5a789566c4cb29acbd6fcf83fcb75",
            "fe986a4b4e3d4a73ab2dbe638d39abb7",
            "a42d68e6c31a4da5a895ace325415920",
            "5844a181922f47e3a5f1b339d9f140ac",
            "a8115e03d3e8458fb5748661eee51c55",
            "3a22d34854c74a849f41ee892e4962ce",
            "8937c860cb3c40b3bf0756b333dad84f",
            "ed705e9e3dc9472d8f6c0dd759b9039a",
            "9b53632b78aa4242befde385bf84a643",
            "285a5fd9454f46a58ad7343855101dd9",
            "4310488cd4c44572b80a465087fca5e3",
            "fbaa231ff7314f978c87701706f0d9ba",
            "46c2f249715843a8b7158f05e198400a",
            "21eb22ab021b45d7885121c7cbfc436a",
            "31ef804f9a0d4d63983b443412ad7a85",
            "4beb2ac747624a0a93194dc69e06d4da",
            "3f6459d7cbf246b3b97abcae4a832824",
            "39310a7a12454821bc1107673feed6fb",
            "a7c49a66921d4d0c99079fdc8feac031",
            "5f24d9a00e6f4289a97c08907f625733",
            "cf987966a3a74a9a8defad66e93e6ae3",
            "8179abe01ba44fd09e177bf031b79017",
            "8d8cf87886ab4f25985dde3f7c1638a2",
            "4461508dca3241e59fba38db0ae8eadd",
            "585392666af54e569da7604de75b9c62",
            "b61e56dd118e41d09aeb16b2eb16cea6",
            "48632cce9d844b64b78c9dfcec7adf1b",
            "0525b78b9b3344c28b8a7fdaaab25fa2",
            "b2ce847c9ea04ff4b090aa8af97d1ea3",
            "b4be7de771bd4f76a3cd7ba6bdd9865c",
            "c679f27e138349d8be54514116103fda",
            "81fcbc6210fe451aa001d3da3865113d",
            "120057868cdd41f4bff9c90145d17d24",
            "495e55ba30344e80ac6d675b1cac517f",
            "0fb37ee150d4454bb695ca22295296cc",
            "3c83af5d9cbb4823b6ac134da50fc54c",
            "128b89cc758a41a69151e10827e102fe",
            "5704d5537da14b00b243fc78083f179a",
            "a9c16726088c47138a047a6d0d26f64f",
            "019fbf28af27447ba9bb9bdc9a5f0c7f"
          ]
        }
      },
      "outputs": [
        {
          "output_type": "display_data",
          "data": {
            "text/plain": [
              "Downloading builder script:   0%|          | 0.00/6.08k [00:00<?, ?B/s]"
            ],
            "application/vnd.jupyter.widget-view+json": {
              "version_major": 2,
              "version_minor": 0,
              "model_id": "cefca3aa04494a1aa109afd0e1768a33"
            }
          },
          "metadata": {}
        },
        {
          "output_type": "display_data",
          "data": {
            "text/plain": [
              "Downloading metadata:   0%|          | 0.00/161k [00:00<?, ?B/s]"
            ],
            "application/vnd.jupyter.widget-view+json": {
              "version_major": 2,
              "version_minor": 0,
              "model_id": "696c7042667648d38c4a6e6c5480061c"
            }
          },
          "metadata": {}
        },
        {
          "output_type": "display_data",
          "data": {
            "text/plain": [
              "Downloading readme:   0%|          | 0.00/20.5k [00:00<?, ?B/s]"
            ],
            "application/vnd.jupyter.widget-view+json": {
              "version_major": 2,
              "version_minor": 0,
              "model_id": "ed705e9e3dc9472d8f6c0dd759b9039a"
            }
          },
          "metadata": {}
        },
        {
          "output_type": "display_data",
          "data": {
            "text/plain": [
              "Downloading data:   0%|          | 0.00/12.0M [00:00<?, ?B/s]"
            ],
            "application/vnd.jupyter.widget-view+json": {
              "version_major": 2,
              "version_minor": 0,
              "model_id": "a7c49a66921d4d0c99079fdc8feac031"
            }
          },
          "metadata": {}
        },
        {
          "output_type": "display_data",
          "data": {
            "text/plain": [
              "Generating train split:   0%|          | 0/127085 [00:00<?, ? examples/s]"
            ],
            "application/vnd.jupyter.widget-view+json": {
              "version_major": 2,
              "version_minor": 0,
              "model_id": "b4be7de771bd4f76a3cd7ba6bdd9865c"
            }
          },
          "metadata": {}
        }
      ],
      "source": [
        "opus_dm = OpusDataModule(cfg)\n",
        "opus_dm.prepare_data()\n",
        "opus_dm.setup()\n",
        "train_data_loader = opus_dm.train_dataloader()\n",
        "#pp = next(iter(train_data_loader))"
      ]
    },
    {
      "cell_type": "markdown",
      "metadata": {
        "collapsed": false,
        "jupyter": {
          "outputs_hidden": false
        },
        "id": "WEeMc1GvsQRO"
      },
      "source": [
        "**Define PL Model**"
      ]
    },
    {
      "cell_type": "code",
      "execution_count": 12,
      "metadata": {
        "ExecuteTime": {
          "end_time": "2023-09-07T14:02:20.913767401Z",
          "start_time": "2023-09-07T14:02:19.804106074Z"
        },
        "id": "Imb1ytJJsQRP",
        "outputId": "f3878fa6-5f7b-4221-858a-c46750d91d79",
        "colab": {
          "base_uri": "https://localhost:8080/"
        }
      },
      "outputs": [
        {
          "output_type": "stream",
          "name": "stdout",
          "text": [
            "Total Parameters: 61847890\n"
          ]
        }
      ],
      "source": [
        "tokenizer_src = opus_dm.tokenizer_src\n",
        "tokenizer_tgt = opus_dm.tokenizer_tgt\n",
        "loss_criterion = nn.CrossEntropyLoss(ignore_index=tokenizer_src.token_to_id('[PAD]'), label_smoothing=0.1)\n",
        "transformer_model = LitTransformer(cfg, loss_criterion, tokenizer_src, tokenizer_tgt, num_validation_examples=2, epochs = cfg['num_epochs'])\n",
        "optimizer = torch.optim.Adam(transformer_model.model.parameters(), lr=cfg['lr'], eps=1e-9)\n",
        "transformer_model.set_optimizer(optimizer)\n",
        "\n",
        "scheduler = OneCycleLR(\n",
        "    optimizer,\n",
        "    max_lr=1E-3,\n",
        "    steps_per_epoch=len(train_data_loader),\n",
        "    epochs=cfg['num_epochs'],\n",
        "    pct_start=5/cfg['num_epochs'],\n",
        "    div_factor=10,\n",
        "    three_phase=True,\n",
        "    final_div_factor=10,\n",
        "    anneal_strategy='linear'\n",
        ")\n",
        "transformer_model.set_scheduler_dict(scheduler, freq = 'step')"
      ]
    },
    {
      "cell_type": "code",
      "execution_count": null,
      "metadata": {
        "ExecuteTime": {
          "start_time": "2023-09-07T14:02:28.310833807Z"
        },
        "id": "yigyLrBIsQRQ",
        "outputId": "de1dec91-55ba-441d-e14e-293ff9e56589",
        "colab": {
          "referenced_widgets": [
            "dedb49393d104fbea420af5567cfd13e",
            "",
            "7437f340952a4a3dafbe9a25816c2cdc",
            "791db830d7414b5eb8c9e4949ecf7852",
            "6d727f92580c4532b16b67a00e92cc2a",
            "b919c84f444f4995900316c976124c6d",
            "ded197b66790405da430fb41caf9689e",
            "c20b5f95bb37466288204a9996a30d2f"
          ]
        }
      },
      "outputs": [
        {
          "name": "stderr",
          "output_type": "stream",
          "text": [
            "Using 16bit None Automatic Mixed Precision (AMP)\n",
            "GPU available: True (cuda), used: True\n",
            "TPU available: False, using: 0 TPU cores\n",
            "IPU available: False, using: 0 IPUs\n",
            "HPU available: False, using: 0 HPUs\n",
            "Missing logger folder: runs/tmodel_dynamic_pad_150_tokens_bs_48_amp_ps_dff_1024\n",
            "LOCAL_RANK: 0 - CUDA_VISIBLE_DEVICES: [0]\n",
            "\n",
            "  | Name           | Type             | Params\n",
            "----------------------------------------------------\n",
            "0 | loss_criterion | CrossEntropyLoss | 0     \n",
            "1 | model          | Transformer      | 61.8 M\n",
            "----------------------------------------------------\n",
            "61.8 M    Trainable params\n",
            "0         Non-trainable params\n",
            "61.8 M    Total params\n",
            "123.696   Total estimated model params size (MB)\n",
            "/home/e183534/ERA_V1/venv/lib/python3.8/site-packages/pytorch_lightning/trainer/connectors/data_connector.py:488: PossibleUserWarning: Your `val_dataloader`'s sampler has shuffling enabled, it is strongly recommended that you turn shuffling off for val/test/predict dataloaders.\n",
            "  rank_zero_warn(\n"
          ]
        },
        {
          "data": {
            "application/vnd.jupyter.widget-view+json": {
              "model_id": "dedb49393d104fbea420af5567cfd13e",
              "version_major": 2,
              "version_minor": 0
            },
            "text/plain": [
              "Training: 0it [00:00, ?it/s]"
            ]
          },
          "metadata": {},
          "output_type": "display_data"
        },
        {
          "data": {
            "application/vnd.jupyter.widget-view+json": {
              "model_id": "",
              "version_major": 2,
              "version_minor": 0
            },
            "text/plain": [
              "Validation: 0it [00:00, ?it/s]"
            ]
          },
          "metadata": {},
          "output_type": "display_data"
        },
        {
          "name": "stdout",
          "output_type": "stream",
          "text": [
            "*****************************************\n",
            "    SOURCE: He was in the same lounge I had to cross in order to escape.\n",
            "    TARGET: Il était dans ce salon que je devais traverser pour fuir.\n",
            " PREDICTED: Il était à la fois que je me à la maison .\n",
            "*****************************************\n",
            "\n",
            "*****************************************\n",
            "    SOURCE: He was no longer my equal, he was the Man of the Waters, the Spirit of the Seas.\n",
            "    TARGET: Ce n'était plus mon semblable, c'était l'homme des eaux, le génie des mers.\n",
            " PREDICTED: Il n ’ était plus plus que je l ’ de la rue de la rue de la maison , le .\n",
            "*****************************************\n",
            "\n"
          ]
        },
        {
          "name": "stderr",
          "output_type": "stream",
          "text": [
            "/home/e183534/ERA_V1/venv/lib/python3.8/site-packages/torchmetrics/utilities/prints.py:61: FutureWarning: Importing `CharErrorRate` from `torchmetrics` was deprecated and will be removed in 2.0. Import `CharErrorRate` from `torchmetrics.text` instead.\n",
            "  _future_warning(\n",
            "/home/e183534/ERA_V1/venv/lib/python3.8/site-packages/torchmetrics/utilities/prints.py:61: FutureWarning: Importing `WordErrorRate` from `torchmetrics` was deprecated and will be removed in 2.0. Import `WordErrorRate` from `torchmetrics.text` instead.\n",
            "  _future_warning(\n",
            "/home/e183534/ERA_V1/venv/lib/python3.8/site-packages/torchmetrics/utilities/prints.py:61: FutureWarning: Importing `BLEUScore` from `torchmetrics` was deprecated and will be removed in 2.0. Import `BLEUScore` from `torchmetrics.text` instead.\n",
            "  _future_warning(\n"
          ]
        },
        {
          "name": "stdout",
          "output_type": "stream",
          "text": [
            "Epoch 0: train_loss=4.8799\n"
          ]
        },
        {
          "data": {
            "application/vnd.jupyter.widget-view+json": {
              "model_id": "",
              "version_major": 2,
              "version_minor": 0
            },
            "text/plain": [
              "Validation: 0it [00:00, ?it/s]"
            ]
          },
          "metadata": {},
          "output_type": "display_data"
        },
        {
          "name": "stdout",
          "output_type": "stream",
          "text": [
            "*****************************************\n",
            "    SOURCE: Lady Catherine seemed pleased.\n",
            "    TARGET: Lady Catherine parut soulagée.\n",
            " PREDICTED: Charlotte parut .\n",
            "*****************************************\n",
            "\n",
            "*****************************************\n",
            "    SOURCE: Great Caesar crossed the river there, and the Roman legions camped upon its sloping uplands.\n",
            "    TARGET: Le grand César y traversa le fleuve, et les légions romaines camperent sur les pentes de ses rives.\n",
            " PREDICTED: la rivière , et le sur son .\n",
            "*****************************************\n",
            "\n",
            "Epoch 1: train_loss=4.1400\n"
          ]
        },
        {
          "data": {
            "application/vnd.jupyter.widget-view+json": {
              "model_id": "",
              "version_major": 2,
              "version_minor": 0
            },
            "text/plain": [
              "Validation: 0it [00:00, ?it/s]"
            ]
          },
          "metadata": {},
          "output_type": "display_data"
        },
        {
          "name": "stdout",
          "output_type": "stream",
          "text": [
            "*****************************************\n",
            "    SOURCE: One would have said that he felt that she was a delicate, exquisite, precious thing, made for other hands than his.\n",
            "    TARGET: On eût dit qu’il sentait que c’était une chose délicate, exquise et précieuse, faite pour d’autres mains que les siennes.\n",
            " PREDICTED: On eût dit qu ’ il se sentait bien , une chose , simple , naturelle , bien , que ses deux mains que ses mains .\n",
            "*****************************************\n",
            "\n",
            "*****************************************\n",
            "    SOURCE: We can therefore use up four horses as well as one.\n",
            "    TARGET: Nous crèverons donc aussi bien quatre chevaux qu'un.\n",
            " PREDICTED: Nous voulons donc quatre chevaux comme un .\n",
            "*****************************************\n",
            "\n",
            "Epoch 2: train_loss=3.7444\n"
          ]
        },
        {
          "data": {
            "application/vnd.jupyter.widget-view+json": {
              "model_id": "",
              "version_major": 2,
              "version_minor": 0
            },
            "text/plain": [
              "Validation: 0it [00:00, ?it/s]"
            ]
          },
          "metadata": {},
          "output_type": "display_data"
        },
        {
          "name": "stdout",
          "output_type": "stream",
          "text": [
            "*****************************************\n",
            "    SOURCE: She was a tall, well-made woman, who had been the beauty of the place, as the saying is in this mountain district.\n",
            "    TARGET: C’était une femme grande, bien faite, qui avait été la beauté du pays, comme on dit dans ces montagnes.\n",
            " PREDICTED: Elle était grande , belle femme faite , qui avait été la beauté du lieu , comme le disant dans cette montagne .\n",
            "*****************************************\n",
            "\n",
            "*****************************************\n",
            "    SOURCE: Suddenly Mme. Roland seemed to wake from a dream, to recall some remotefact, a thing almost forgotten that she had heard long ago, and of whichshe was not altogether sure. She inquired doubtingly:\n",
            "    TARGET: Mme Roland, tout à coup, parut sortir d'un rêve, se rappeler une choselointaine, presque oubliée, qu'elle avait entendue autrefois, dont ellen'était pas sûre d'ailleurs, et elle balbutia:\n",
            " PREDICTED: Brusquement , Mme Roland semblait réveiller d ' un rêve , de se rappeler quelque chose , une chose presque oubliée , qu ' elle entendait longtemps , et de n ' était pas tout simplement .\n",
            "*****************************************\n",
            "\n",
            "Epoch 3: train_loss=3.2709\n"
          ]
        },
        {
          "data": {
            "application/vnd.jupyter.widget-view+json": {
              "model_id": "",
              "version_major": 2,
              "version_minor": 0
            },
            "text/plain": [
              "Validation: 0it [00:00, ?it/s]"
            ]
          },
          "metadata": {},
          "output_type": "display_data"
        },
        {
          "name": "stdout",
          "output_type": "stream",
          "text": [
            "*****************************************\n",
            "    SOURCE: I gaped at the bizarre individual who had just spoken these words.\n",
            "    TARGET: Je regardai fixement le bizarre personnage qui me parlait ainsi.\n",
            " PREDICTED: Je reconnus dans le singulier personnage qui venait de dire ces paroles .\n",
            "*****************************************\n",
            "\n",
            "*****************************************\n",
            "    SOURCE: I promise not to go without you.'\n",
            "    TARGET: Je te promets de ne pas repartir sans toi.\n",
            " PREDICTED: Je ne vous promets pas de vous aller .\n",
            "*****************************************\n",
            "\n",
            "Epoch 4: train_loss=3.2186\n"
          ]
        },
        {
          "data": {
            "application/vnd.jupyter.widget-view+json": {
              "model_id": "",
              "version_major": 2,
              "version_minor": 0
            },
            "text/plain": [
              "Validation: 0it [00:00, ?it/s]"
            ]
          },
          "metadata": {},
          "output_type": "display_data"
        },
        {
          "name": "stdout",
          "output_type": "stream",
          "text": [
            "*****************************************\n",
            "    SOURCE: He found him charming from the first.\n",
            "    TARGET: Il le trouva charmant dès le premier abord.\n",
            " PREDICTED: Il le trouva charmant du premier .\n",
            "*****************************************\n",
            "\n",
            "*****************************************\n",
            "    SOURCE: \"I presume, sir,\" said he at last, \"that it was not merely for the purpose of examining my skull that you have done me the honour to call here last night and again to-day?\"\n",
            "    TARGET: « J’imagine, monsieur, que ce n’est pas uniquement dans le but d’examiner mon crâne que vous m’avez fait l’honneur de venir chez moi hier soir et à nouveau aujourd’hui ?\n",
            " PREDICTED: -- Je présume , monsieur , dit - il enfin , que ce n ' était pas pour le but d ' examiner mon crâne que vous m ' avez fait l ' honneur de appeler la nuit dernière et de revenir aujourd ' hui ?\n",
            "*****************************************\n",
            "\n",
            "Epoch 5: train_loss=3.5006\n"
          ]
        },
        {
          "data": {
            "application/vnd.jupyter.widget-view+json": {
              "model_id": "",
              "version_major": 2,
              "version_minor": 0
            },
            "text/plain": [
              "Validation: 0it [00:00, ?it/s]"
            ]
          },
          "metadata": {},
          "output_type": "display_data"
        },
        {
          "name": "stdout",
          "output_type": "stream",
          "text": [
            "*****************************************\n",
            "    SOURCE: \"Manage the matter as well as you can, my good man; it does not concern me, the more so as I have not a livre left.\"\n",
            "    TARGET: -- Arrange-toi avec lui, mon brave homme, cela ne me regarde pas, d'autant plus qu'il ne me reste pas une livre.\n",
            " PREDICTED: -- - vous aussi bien que vous pourrez , mon bon homme , et cela ne me regarde pas , plus que je n ' ai pas un domestique .\n",
            "*****************************************\n",
            "\n",
            "*****************************************\n",
            "    SOURCE: Un pareil avertissement était plus effrayant qu’aucune menace. Comment avait-il pu lui etre signifié jusque dans sa chambre ?\n",
            "    TARGET: The dash was more fear-inspiring than any threat could have been.\n",
            " PREDICTED: A of , however , that no had he been in his room ?\n",
            "*****************************************\n",
            "\n",
            "Epoch 6: train_loss=2.8855\n"
          ]
        },
        {
          "data": {
            "application/vnd.jupyter.widget-view+json": {
              "model_id": "",
              "version_major": 2,
              "version_minor": 0
            },
            "text/plain": [
              "Validation: 0it [00:00, ?it/s]"
            ]
          },
          "metadata": {},
          "output_type": "display_data"
        },
        {
          "name": "stdout",
          "output_type": "stream",
          "text": [
            "*****************************************\n",
            "    SOURCE: She dared not question him.\n",
            "    TARGET: Elle n’osa l’interroger.\n",
            " PREDICTED: Elle n ’ osait le interroger .\n",
            "*****************************************\n",
            "\n",
            "*****************************************\n",
            "    SOURCE: But when the blind man appeared as usual at the foot of the hill he exclaimed—\n",
            "    TARGET: Mais, quand l’Aveugle, comme d’habitude, apparut au bas de la côte, il s’écria:\n",
            " PREDICTED: Mais quand l ’ Aveugle parut s ’ exercer au pied de la côte , il s ’ écria :\n",
            "*****************************************\n",
            "\n",
            "Epoch 7: train_loss=2.4424\n"
          ]
        },
        {
          "data": {
            "application/vnd.jupyter.widget-view+json": {
              "model_id": "",
              "version_major": 2,
              "version_minor": 0
            },
            "text/plain": [
              "Validation: 0it [00:00, ?it/s]"
            ]
          },
          "metadata": {},
          "output_type": "display_data"
        },
        {
          "name": "stdout",
          "output_type": "stream",
          "text": [
            "*****************************************\n",
            "    SOURCE: And he pretended not to notice her melancholy sighs, nor the handkerchief she took out.\n",
            "    TARGET: Et il eut l’air de ne point remarquer ses soupirs mélancoliques, ni le mouchoir qu’elle tirait.\n",
            " PREDICTED: Et il fit semblant de ne pas remarquer sa tristesse morne , des soupirs , ni le mouchoir qu ' elle sortit .\n",
            "*****************************************\n",
            "\n",
            "*****************************************\n",
            "    SOURCE: His face was very red, and the folded blue paper which he carried in his hand shook and crackled in his excitement.\n",
            "    TARGET: Il avait la figure très rouge et dans son émotion, il froissait bruyamment le pli de papier bleu qu'il tenait à la main.\n",
            " PREDICTED: Sa figure était très rouge , et le papier plié en main de ses doigts et ses d ’ émotion .\n",
            "*****************************************\n",
            "\n",
            "Epoch 8: train_loss=2.6363\n"
          ]
        },
        {
          "data": {
            "application/vnd.jupyter.widget-view+json": {
              "model_id": "",
              "version_major": 2,
              "version_minor": 0
            },
            "text/plain": [
              "Validation: 0it [00:00, ?it/s]"
            ]
          },
          "metadata": {},
          "output_type": "display_data"
        },
        {
          "name": "stdout",
          "output_type": "stream",
          "text": [
            "*****************************************\n",
            "    SOURCE: None of them was the captain.\n",
            "    TARGET: Aucun n’était le capitaine.\n",
            " PREDICTED: Aucun d ' eux n ' était le capitaine .\n",
            "*****************************************\n",
            "\n",
            "*****************************************\n",
            "    SOURCE: It was to be such a secret!\"\n",
            "    TARGET: C’était un tel secret…\n",
            " PREDICTED: C ' était un pareil secret !\n",
            "*****************************************\n",
            "\n",
            "Epoch 9: train_loss=2.1514\n"
          ]
        },
        {
          "data": {
            "application/vnd.jupyter.widget-view+json": {
              "model_id": "",
              "version_major": 2,
              "version_minor": 0
            },
            "text/plain": [
              "Validation: 0it [00:00, ?it/s]"
            ]
          },
          "metadata": {},
          "output_type": "display_data"
        },
        {
          "name": "stdout",
          "output_type": "stream",
          "text": [
            "*****************************************\n",
            "    SOURCE: His only fear was that Milady would recognize in him the man of Meung and of Dover.\n",
            "    TARGET: Sa seule crainte était que Milady ne reconnût en lui l'homme de Meung et de Douvres.\n",
            " PREDICTED: Sa seule crainte était que Milady le reconnaissait dans lui l ' homme de Meung et de Douvres .\n",
            "*****************************************\n",
            "\n",
            "*****************************************\n",
            "    SOURCE: I am so very tired of being all alone here!'\n",
            "    TARGET: Je m’ennuie tant d’être ici toute seule. »\n",
            " PREDICTED: Je suis si fatiguée d ’ être tout seul ici ! »\n",
            "*****************************************\n",
            "\n",
            "Epoch 10: train_loss=2.1493\n"
          ]
        },
        {
          "data": {
            "application/vnd.jupyter.widget-view+json": {
              "model_id": "",
              "version_major": 2,
              "version_minor": 0
            },
            "text/plain": [
              "Validation: 0it [00:00, ?it/s]"
            ]
          },
          "metadata": {},
          "output_type": "display_data"
        },
        {
          "name": "stdout",
          "output_type": "stream",
          "text": [
            "*****************************************\n",
            "    SOURCE: The blade pierced deeply.\n",
            "    TARGET: La lame est entrée très avant.\n",
            " PREDICTED: La lame était percée .\n",
            "*****************************************\n",
            "\n",
            "*****************************************\n",
            "    SOURCE: \"And how much was the residue?\"\n",
            "    TARGET: – À combien se monte le reste ?\n",
            " PREDICTED: -- Et combien sont - ils à pleins poumons ?\n",
            "*****************************************\n",
            "\n",
            "Epoch 11: train_loss=2.0021\n"
          ]
        },
        {
          "data": {
            "application/vnd.jupyter.widget-view+json": {
              "model_id": "",
              "version_major": 2,
              "version_minor": 0
            },
            "text/plain": [
              "Validation: 0it [00:00, ?it/s]"
            ]
          },
          "metadata": {},
          "output_type": "display_data"
        },
        {
          "name": "stdout",
          "output_type": "stream",
          "text": [
            "*****************************************\n",
            "    SOURCE: The skiff was put at our disposal for the next morning.\n",
            "    TARGET: Le canot fut mis à notre disposition pour le lendemain matin.\n",
            " PREDICTED: Le canot fut mis à notre disposition pour le lendemain .\n",
            "*****************************************\n",
            "\n",
            "*****************************************\n",
            "    SOURCE: A quarter of an hour later, our trunks were ready.\n",
            "    TARGET: Un quart d'heure après, nos malles étaient prêtes.\n",
            " PREDICTED: Un quart d ' heure après , notre tronc fut prêt .\n",
            "*****************************************\n",
            "\n",
            "Epoch 12: train_loss=1.9954\n"
          ]
        },
        {
          "data": {
            "application/vnd.jupyter.widget-view+json": {
              "model_id": "",
              "version_major": 2,
              "version_minor": 0
            },
            "text/plain": [
              "Validation: 0it [00:00, ?it/s]"
            ]
          },
          "metadata": {},
          "output_type": "display_data"
        },
        {
          "name": "stdout",
          "output_type": "stream",
          "text": [
            "*****************************************\n",
            "    SOURCE: She spoke of Bébert, her youngster, killed by a bullet, and cried:\n",
            "    TARGET: Elle parla de Bébert, son gamin tué d'une balle, elle cria:\n",
            " PREDICTED: Elle parlait de Bébert , la jeune fille , morte d ' une balle , criait :\n",
            "*****************************************\n",
            "\n",
            "*****************************************\n",
            "    SOURCE: Maigrat's corpse alone made a patch of shadow on the white earth.\n",
            "    TARGET: Le cadavre de Maigrat faisait seul une tache d'ombre sur la terre blanche.\n",
            " PREDICTED: Seul , le cadavre de Maigrat suivait un coin d ' ombre sur la terre blanche .\n",
            "*****************************************\n",
            "\n",
            "Epoch 13: train_loss=1.8166\n"
          ]
        },
        {
          "data": {
            "application/vnd.jupyter.widget-view+json": {
              "model_id": "",
              "version_major": 2,
              "version_minor": 0
            },
            "text/plain": [
              "Validation: 0it [00:00, ?it/s]"
            ]
          },
          "metadata": {},
          "output_type": "display_data"
        },
        {
          "name": "stdout",
          "output_type": "stream",
          "text": [
            "*****************************************\n",
            "    SOURCE: CHAPTER XIII.\n",
            "    TARGET: XIII\n",
            " PREDICTED: XIII\n",
            "*****************************************\n",
            "\n",
            "*****************************************\n",
            "    SOURCE: \"In the king’s service?\"\n",
            "    TARGET: -- Pour le service du roi?\n",
            " PREDICTED: -- Au service du roi ?\n",
            "*****************************************\n",
            "\n",
            "Epoch 14: train_loss=1.9520\n"
          ]
        },
        {
          "data": {
            "application/vnd.jupyter.widget-view+json": {
              "model_id": "",
              "version_major": 2,
              "version_minor": 0
            },
            "text/plain": [
              "Validation: 0it [00:00, ?it/s]"
            ]
          },
          "metadata": {},
          "output_type": "display_data"
        },
        {
          "name": "stdout",
          "output_type": "stream",
          "text": [
            "*****************************************\n",
            "    SOURCE: Mustn't complain: every one hasn't the chance to work himself to death.\"\n",
            "    TARGET: Faut pas se plaindre, tous n'ont pas du travail a crever.\n",
            " PREDICTED: Les uns ne se pas : tout le monde n ' a pas la chance de se manger lui - même .\n",
            "*****************************************\n",
            "\n",
            "*****************************************\n",
            "    SOURCE: The following morning, Julien replied with great coolness to the worthy Fouque, who looked upon the matter of their partnership as settled, that his vocation to the sacred ministry of the altar did not allow him to accept.\n",
            "    TARGET: Le lendemain matin, Julien répondit d’un grand sang-froid au bon Fouqué, qui regardait l’affaire de l’association comme terminée, que sa vocation pour le saint ministère des autels ne lui permettait pas d’accepter.\n",
            " PREDICTED: Le lendemain matin , Julien répondit avec un grand sang - froid à l ’ digne Fouqué , qui avait l ’ affaire de leurs , que sa vocation au saint ministère de l ’ autel ne lui permettait pas d ’ accepter .\n",
            "*****************************************\n",
            "\n",
            "Epoch 15: train_loss=1.8030\n"
          ]
        },
        {
          "data": {
            "application/vnd.jupyter.widget-view+json": {
              "model_id": "",
              "version_major": 2,
              "version_minor": 0
            },
            "text/plain": [
              "Validation: 0it [00:00, ?it/s]"
            ]
          },
          "metadata": {},
          "output_type": "display_data"
        },
        {
          "name": "stdout",
          "output_type": "stream",
          "text": [
            "*****************************************\n",
            "    SOURCE: Oh, it is an admirable government, that is most certain!\n",
            "    TARGET: C'est une chose admirable que ce gouvernement.\n",
            " PREDICTED: Ah ! c ' est un gouvernement admirable , voilà qui est certain !\n",
            "*****************************************\n",
            "\n",
            "*****************************************\n",
            "    SOURCE: I wish you to believe that, and now I will listen to you.\"\n",
            "    TARGET: Je tenais à vous dire cela, et maintenant je vous écoute.»\n",
            " PREDICTED: Je veux que vous , et maintenant je vous .\n",
            "*****************************************\n",
            "\n",
            "Epoch 16: train_loss=1.8107\n"
          ]
        },
        {
          "data": {
            "application/vnd.jupyter.widget-view+json": {
              "model_id": "",
              "version_major": 2,
              "version_minor": 0
            },
            "text/plain": [
              "Validation: 0it [00:00, ?it/s]"
            ]
          },
          "metadata": {},
          "output_type": "display_data"
        },
        {
          "name": "stdout",
          "output_type": "stream",
          "text": [
            "*****************************************\n",
            "    SOURCE: I could not say anything to these people nor ask them anything. And I went back to resume my watch, to wait in vain, thinking at any moment to see the door open and the tall form of Meaulnes emerge.\n",
            "    TARGET: Et je retournai guetter encore, attendre en vain, pensant toujours voir la porte s’ouvrir et surgir enfin la haute silhouette d’Augustin.\n",
            " PREDICTED: Je ne pouvais dire à ces gens - là , ni ne les demander rien ; et je revins reprendre ma montre , attendre en vain , pensant à chaque instant la porte ouverte et la haute forme de Meaulnes .\n",
            "*****************************************\n",
            "\n",
            "*****************************************\n",
            "    SOURCE: We had again found the beautiful girl.\n",
            "    TARGET: Nous avions retrouvé la belle jeune fille.\n",
            " PREDICTED: Nous avions retrouvé la belle fille .\n",
            "*****************************************\n",
            "\n",
            "Epoch 17: train_loss=1.9469\n"
          ]
        },
        {
          "data": {
            "application/vnd.jupyter.widget-view+json": {
              "model_id": "",
              "version_major": 2,
              "version_minor": 0
            },
            "text/plain": [
              "Validation: 0it [00:00, ?it/s]"
            ]
          },
          "metadata": {},
          "output_type": "display_data"
        },
        {
          "name": "stdout",
          "output_type": "stream",
          "text": [
            "*****************************************\n",
            "    SOURCE: She thanked Suzanne for her attention. Although weakened, she talked, and had ceased wandering, but she spoke in a voice so full of sadness that at moments she was half choked.\n",
            "    TARGET: Elle remercia Suzanne de ses soins, elle parla, affaiblie, ne délirant plus, pleine d'une tristesse qui l'étouffait par moments.\n",
            " PREDICTED: Elle remercia Suzanne , bien que sa vue ; elle l ' , elle s ' était enfuie et ne se quittait pas , avec une voix si grande , que les moments ou elle suffoquait .\n",
            "*****************************************\n",
            "\n",
            "*****************************************\n",
            "    SOURCE: \"Then, upon seeing my Musketeers they changed their minds, and forgot their private hatred for partisan hatred; for your Majesty cannot be ignorant that the Musketeers, who belong to the king and nobody but the king, are the natural enemies of the Guardsmen, who belong to the cardinal.\"\n",
            "    TARGET: -- Alors, quand ils ont vu mes mousquetaires, ils ont changé d'idée et ils ont oublié leur haine particulière pour la haine de corps; car Votre Majesté n'ignore pas que les mousquetaires, qui sont au roi et rien qu'au roi, sont les ennemis naturels des gardes, qui sont à M. le cardinal.\n",
            " PREDICTED: -- Alors , en voyant mes mousquetaires , ils se leurs yeux , ils ont oublié la haine privée de la haine ; car Votre Majesté ne peut pas être ignorant que les mousquetaires , qui n ' étaient que le roi et non que le roi , sont les ennemis naturelles qui appartiennent au cardinal .\n",
            "*****************************************\n",
            "\n",
            "Epoch 18: train_loss=1.7368\n"
          ]
        },
        {
          "data": {
            "application/vnd.jupyter.widget-view+json": {
              "model_id": "",
              "version_major": 2,
              "version_minor": 0
            },
            "text/plain": [
              "Validation: 0it [00:00, ?it/s]"
            ]
          },
          "metadata": {},
          "output_type": "display_data"
        },
        {
          "name": "stdout",
          "output_type": "stream",
          "text": [
            "*****************************************\n",
            "    SOURCE: Little did they know what was waiting for them.\n",
            "    TARGET: Ils ne savaient pas ce qui les attendait.\n",
            " PREDICTED: Ils savaient ce que l ' on attendait .\n",
            "*****************************************\n",
            "\n",
            "*****************************************\n",
            "    SOURCE: « Cela est-il d’un mauvais présage pour moi ? » se disait-il.\n",
            "    TARGET: \"Is that a bad omen for me?\" he asked himself.\n",
            " PREDICTED: \" It is he of a bad for me ?\" he asked himself .\n",
            "*****************************************\n",
            "\n",
            "Epoch 19: train_loss=1.7512\n"
          ]
        },
        {
          "data": {
            "application/vnd.jupyter.widget-view+json": {
              "model_id": "",
              "version_major": 2,
              "version_minor": 0
            },
            "text/plain": [
              "Validation: 0it [00:00, ?it/s]"
            ]
          },
          "metadata": {},
          "output_type": "display_data"
        },
        {
          "name": "stdout",
          "output_type": "stream",
          "text": [
            "*****************************************\n",
            "    SOURCE: Everybody knows that the great reversed triangle of land, with its base in the north and its apex in the south, which is called India, embraces fourteen hundred thousand square miles, upon which is spread unequally a population of one hundred and eighty millions of souls.\n",
            "    TARGET: Personne n'ignore que l'Inde -- ce grand triangle renversé dont la base est au nord et la pointe au sud -- comprend une superficie de quatorze cent mille milles carrés, sur laquelle est inégalement répandue une population de cent quatre-vingts millions d'habitants.\n",
            " PREDICTED: Tout le monde sait que le grand triangle de terre , avec sa base au nord et sa boule de guerre au sud , qui est les dernières cent mille milles carrés , sur lesquels est une population de cent quatre - vingts millions de rente .\n",
            "*****************************************\n",
            "\n",
            "*****************************************\n",
            "    SOURCE: If the people had not been full of this lust for combat, it is certain that England must have been overborne.\n",
            "    TARGET: Si le peuple n'avait pas eu en surabondance cette humeur batailleuse, il est certain que l'Angleterre aurait succombé.\n",
            " PREDICTED: Si les gens n ’ avaient pas été pleins de ce combat pour la volonté , il est certain que l ’ Angleterre ait été plus .\n",
            "*****************************************\n",
            "\n",
            "Epoch 20: train_loss=1.8475\n"
          ]
        },
        {
          "data": {
            "application/vnd.jupyter.widget-view+json": {
              "model_id": "",
              "version_major": 2,
              "version_minor": 0
            },
            "text/plain": [
              "Validation: 0it [00:00, ?it/s]"
            ]
          },
          "metadata": {},
          "output_type": "display_data"
        },
        {
          "name": "stdout",
          "output_type": "stream",
          "text": [
            "*****************************************\n",
            "    SOURCE: I was not so much surprised with the lightning as I was with the thought which darted into my mind as swift as the lightning itself—Oh, my powder!\n",
            "    TARGET: La foudre m'épouvanta moins que cette pensée, qui traversa mon esprit avec la rapidité même de l'éclair: Ô ma poudre!...\n",
            " PREDICTED: Je ne fus pas si étonné de l ' éclair , comme je pensai qui s ' agitait dans mon esprit le rapide comme l ' éclair .\n",
            "*****************************************\n",
            "\n",
            "*****************************************\n",
            "    SOURCE: But when her mother was gone, Jane would not be prevailed on to go down without one of her sisters.\n",
            "    TARGET: Mais rien ne put décider Jane a descendre sans une de ses sours.\n",
            " PREDICTED: Mais quand sa mere fut partie , Jane ne devait pas etre la plus vite qu ’ un de ses sours .\n",
            "*****************************************\n",
            "\n",
            "Epoch 21: train_loss=1.8043\n"
          ]
        },
        {
          "data": {
            "application/vnd.jupyter.widget-view+json": {
              "model_id": "",
              "version_major": 2,
              "version_minor": 0
            },
            "text/plain": [
              "Validation: 0it [00:00, ?it/s]"
            ]
          },
          "metadata": {},
          "output_type": "display_data"
        },
        {
          "name": "stdout",
          "output_type": "stream",
          "text": [
            "*****************************************\n",
            "    SOURCE: After he had done, he says to her, 'Now han't you picked my pocket?'\n",
            "    TARGET: Après qu'il eut fini, il lui dit: --Voyons! ne m'as-tu point volé?\n",
            " PREDICTED: -- Tu ne peux pas lui en tenir ma poche ?\n",
            "*****************************************\n",
            "\n",
            "*****************************************\n",
            "    SOURCE: At last I hired Grace Poole from the Grimbsy Retreat.\n",
            "    TARGET: Enfin j'ai trouvé Grace Poole, à Grimsby-Retreat.\n",
            " PREDICTED: Enfin je pris grâce à Grace Poole .\n",
            "*****************************************\n",
            "\n",
            "Epoch 22: train_loss=1.7354\n"
          ]
        },
        {
          "data": {
            "application/vnd.jupyter.widget-view+json": {
              "model_id": "7437f340952a4a3dafbe9a25816c2cdc",
              "version_major": 2,
              "version_minor": 0
            },
            "text/plain": [
              "Validation: 0it [00:00, ?it/s]"
            ]
          },
          "metadata": {},
          "output_type": "display_data"
        },
        {
          "name": "stdout",
          "output_type": "stream",
          "text": [
            "*****************************************\n",
            "    SOURCE: He showed her the letter in which his mother told the event without any sentimental hypocrisy.\n",
            "    TARGET: Il lui montra la lettre où sa mère narrait l’événement, sans aucune hypocrisie sentimentale.\n",
            " PREDICTED: Il lui montra la lettre où sa mère disait l ’ événement sans une hypocrisie sentimentale .\n",
            "*****************************************\n",
            "\n",
            "*****************************************\n",
            "    SOURCE: Besides, Leon, could be security instead of her.\n",
            "    TARGET: D’ailleurs, Léon pouvait s’engager à sa place.\n",
            " PREDICTED: Du reste , Léon , peut - être la sécurité au lieu de sa sœur .\n",
            "*****************************************\n",
            "\n",
            "Epoch 23: train_loss=1.7165\n"
          ]
        },
        {
          "data": {
            "application/vnd.jupyter.widget-view+json": {
              "model_id": "791db830d7414b5eb8c9e4949ecf7852",
              "version_major": 2,
              "version_minor": 0
            },
            "text/plain": [
              "Validation: 0it [00:00, ?it/s]"
            ]
          },
          "metadata": {},
          "output_type": "display_data"
        },
        {
          "name": "stdout",
          "output_type": "stream",
          "text": [
            "*****************************************\n",
            "    SOURCE: The abbe Pirard, for all his gravity, laughed till the tears ran down his cheeks.\n",
            "    TARGET: L’abbé Pirard, malgré sa gravité, rit aux larmes.\n",
            " PREDICTED: L ’ abbé Pirard , pour toute sa gravité , pleura jusqu ’ aux larmes .\n",
            "*****************************************\n",
            "\n",
            "*****************************************\n",
            "    SOURCE: \"Begging master's pardon,\" Conseil answered, \"but this seems more like the Sommerard artifacts exhibition!\"\n",
            "    TARGET: -- S'il plaît à monsieur, répliqua Conseil, ce serait plutôt à l'hôtel du Sommerard !\n",
            " PREDICTED: -- Que monsieur me pardonne , répondit Conseil , mais ce semble mieux que l ' !\n",
            "*****************************************\n",
            "\n",
            "Epoch 24: train_loss=1.8258\n"
          ]
        },
        {
          "data": {
            "application/vnd.jupyter.widget-view+json": {
              "model_id": "6d727f92580c4532b16b67a00e92cc2a",
              "version_major": 2,
              "version_minor": 0
            },
            "text/plain": [
              "Validation: 0it [00:00, ?it/s]"
            ]
          },
          "metadata": {},
          "output_type": "display_data"
        },
        {
          "name": "stdout",
          "output_type": "stream",
          "text": [
            "*****************************************\n",
            "    SOURCE: At length the door opened, his name was called.\n",
            "    TARGET: Enfin, la porte s’ouvrit, on l’appela.\n",
            " PREDICTED: Enfin la porte s ' ouvrit , son nom fut demandé .\n",
            "*****************************************\n",
            "\n",
            "*****************************************\n",
            "    SOURCE: The greatest minds never realise their ideals in any matter; and Harris and I sighed over the hollowness of all earthly desires, and followed George.\n",
            "    TARGET: Les grands esprits ne réalisent jamais leurs idéaux en quoi que ce soit. Soupirant sur la vanité de tout désir terrestre, Harris et moi nous suivîmes George.\n",
            " PREDICTED: L ’ esprit ne pouvait songer a leur en rien . Harris et moi la de toutes les désirs terrestres et suivit George .\n",
            "*****************************************\n",
            "\n",
            "Epoch 25: train_loss=1.7810\n"
          ]
        },
        {
          "data": {
            "application/vnd.jupyter.widget-view+json": {
              "model_id": "b919c84f444f4995900316c976124c6d",
              "version_major": 2,
              "version_minor": 0
            },
            "text/plain": [
              "Validation: 0it [00:00, ?it/s]"
            ]
          },
          "metadata": {},
          "output_type": "display_data"
        },
        {
          "name": "stdout",
          "output_type": "stream",
          "text": [
            "*****************************************\n",
            "    SOURCE: Still, I could see no better course than to observe him from the hill, and to clear my conscience by confessing to him afterwards what I had done.\n",
            "    TARGET: Mais je ne voyais rien de mieux à faire que le surveiller de ma colline et par la suite de soulager ma conscience en lui confessant mon indiscrétion.\n",
            " PREDICTED: Cependant je ne pus voir mieux que de le observer du massif , et de creuser la conscience en lui de ce que j ' avais fait .\n",
            "*****************************************\n",
            "\n",
            "*****************************************\n",
            "    SOURCE: The essential thing is that it should be known throughout Verrieres that you are going to Valenod's, or to some other house, for the children's education.\n",
            "    TARGET: L’essentiel est que l’on croie à Verrières que tu vas entrer chez le Valenod, ou chez tout autre, pour l’éducation des enfants.\n",
            " PREDICTED: Il faut que l ’ on sache dans tout Verrières que vous allez chez les Valenod , ou à une autre maison , pour l ’ éducation des enfants .\n",
            "*****************************************\n",
            "\n",
            "Epoch 26: train_loss=1.8971\n"
          ]
        },
        {
          "data": {
            "application/vnd.jupyter.widget-view+json": {
              "model_id": "ded197b66790405da430fb41caf9689e",
              "version_major": 2,
              "version_minor": 0
            },
            "text/plain": [
              "Validation: 0it [00:00, ?it/s]"
            ]
          },
          "metadata": {},
          "output_type": "display_data"
        },
        {
          "name": "stdout",
          "output_type": "stream",
          "text": [
            "*****************************************\n",
            "    SOURCE: \"Now,\" said he, \"the sacrifice is consummated!\n",
            "    TARGET: «Maintenant, se dit-il, le sacrifice est consommé.\n",
            " PREDICTED: « Maintenant , dit - il , le sacrifice est !\n",
            "*****************************************\n",
            "\n",
            "*****************************************\n",
            "    SOURCE: I dared not say anything to my father. I was afraid he would say, \"You see I was right when I declared that this woman did not love you.\"\n",
            "    TARGET: Je n'osais entretenir mon père, je craignais toujours qu'il ne me dit: \"Tu vois que j'avais raison quand je niais l'amour de cette femme.\"\n",
            " PREDICTED: Je n ' osais pas dire à mon père ; j ' avais peur qu ' il disait : Tu vois bien que j ' ai dit que cette femme ne t ' aimait pas .\n",
            "*****************************************\n",
            "\n",
            "Epoch 27: train_loss=1.7397\n"
          ]
        },
        {
          "data": {
            "application/vnd.jupyter.widget-view+json": {
              "model_id": "",
              "version_major": 2,
              "version_minor": 0
            },
            "text/plain": [
              "Validation: 0it [00:00, ?it/s]"
            ]
          },
          "metadata": {},
          "output_type": "display_data"
        },
        {
          "name": "stdout",
          "output_type": "stream",
          "text": [
            "*****************************************\n",
            "    SOURCE: She gave a long sigh of satisfaction.\n",
            "    TARGET: Elle poussa un long soupir de satisfaction.\n",
            " PREDICTED: Elle eut un grand soupir de satisfaction .\n",
            "*****************************************\n",
            "\n",
            "*****************************************\n",
            "    SOURCE: There were Delouche, Denis, Giraudat, and all the others.\n",
            "    TARGET: Il y avait Delouche, Denis, Giraudat et tous les autres.\n",
            " PREDICTED: C ’ était Giraudat , le Denis , et tous les autres .\n",
            "*****************************************\n",
            "\n",
            "Epoch 28: train_loss=1.7475\n"
          ]
        },
        {
          "data": {
            "application/vnd.jupyter.widget-view+json": {
              "model_id": "",
              "version_major": 2,
              "version_minor": 0
            },
            "text/plain": [
              "Validation: 0it [00:00, ?it/s]"
            ]
          },
          "metadata": {},
          "output_type": "display_data"
        },
        {
          "name": "stdout",
          "output_type": "stream",
          "text": [
            "*****************************************\n",
            "    SOURCE: \"Child let me be the first to ascend.\"\n",
            "    TARGET: – Enfant, laisse-moi monter le premier.\n",
            " PREDICTED: – Enfant ! être pour monter un premier !\n",
            "*****************************************\n",
            "\n",
            "*****************************************\n",
            "    SOURCE: Jehan, allow yourself to be punished at the discretion of the master.\n",
            "    TARGET: Jehan, laissez-vous punir à la discrétion du maître.\n",
            " PREDICTED: Jehan , permettez - vous d ’ être puni à la discrétion du maître .\n",
            "*****************************************\n",
            "\n",
            "Epoch 29: train_loss=1.7300\n"
          ]
        },
        {
          "data": {
            "application/vnd.jupyter.widget-view+json": {
              "model_id": "",
              "version_major": 2,
              "version_minor": 0
            },
            "text/plain": [
              "Validation: 0it [00:00, ?it/s]"
            ]
          },
          "metadata": {},
          "output_type": "display_data"
        },
        {
          "name": "stdout",
          "output_type": "stream",
          "text": [
            "*****************************************\n",
            "    SOURCE: Do you hear it? It is running now.\"\n",
            "    TARGET: Entendez- vous? cela coule.»\n",
            " PREDICTED: Entendez - vous ! c ' est au plus maintenant !\n",
            "*****************************************\n",
            "\n",
            "*****************************************\n",
            "    SOURCE: His eyes were fixed on the tumbrel.\n",
            "    TARGET: Il avait les yeux fixés sur le tombereau.\n",
            " PREDICTED: Ses yeux étaient fixés sur le tombereau .\n",
            "*****************************************\n",
            "\n",
            "Epoch 30: train_loss=1.7552\n"
          ]
        },
        {
          "data": {
            "application/vnd.jupyter.widget-view+json": {
              "model_id": "",
              "version_major": 2,
              "version_minor": 0
            },
            "text/plain": [
              "Validation: 0it [00:00, ?it/s]"
            ]
          },
          "metadata": {},
          "output_type": "display_data"
        },
        {
          "name": "stdout",
          "output_type": "stream",
          "text": [
            "*****************************************\n",
            "    SOURCE: MARLOW. - BISHAM ABBEY. - THE MEDMENHAM MONKS. - MONTMORENCY THINKS HE WILL MURDER AN OLD TOM CAT. - BUT EVENTUALLY DECIDES THAT HE WILL LET IT LIVE. - SHAMEFUL CONDUCT OF A FOX TERRIER AT THE CIVIL SERVICE STORES. - OUR DEPARTURE FROM MARLOW. - AN IMPOSING PROCESSION. - THE STEAM LAUNCH, USEFUL RECEIPTS FOR ANNOYING AND HINDERING IT. - WE DECLINE TO DRINK THE RIVER. - A PEACEFUL DOG. - STRANGE DISAPPEARANCE OF HARRIS AND A PIE.\n",
            "    TARGET: MARLOW – L’ABBAYE DE BISHAM – LES MOINES DE MEDMENHAM – MONTMORENCY SONGE A TRUCIDER UN VIEUX MATOU, MAIS DÉCIDE FINALEMENT DE LE LAISSER VIVRE – CONDUITE SCANDALEUSE D’UN FOXTERRIER DANS UN GRAND MAGASIN. – NOTRE DÉPART DE MARLOW – UN CORTEGE IMPOSANT – LA CHALOUPE A VAPEUR, RECETTES PRATIQUES POUR LUI MENER LA VIE DURE – NOUS REFUSONS DE BOIRE L’EAU DE LA TAMISE – UN CHIEN PACIFIQUE – ÉTRANGE DISPARITION DE HARRIS ET D’UN PÂTÉ.\n",
            " PREDICTED: de . – LE . – DU . – Le temps . – DU SON BANJO . – UNE DE LA CONDUITE DE DEUX . – DU BANJO .\n",
            "*****************************************\n",
            "\n",
            "*****************************************\n",
            "    SOURCE: He closed his door against all, even against the bishop.\n",
            "    TARGET: Il ferma sa porte à tous, même à l’évêque.\n",
            " PREDICTED: Il ferma la porte contre tout , même contre l ’ évêque .\n",
            "*****************************************\n",
            "\n",
            "Epoch 31: train_loss=1.7393\n"
          ]
        },
        {
          "data": {
            "application/vnd.jupyter.widget-view+json": {
              "model_id": "",
              "version_major": 2,
              "version_minor": 0
            },
            "text/plain": [
              "Validation: 0it [00:00, ?it/s]"
            ]
          },
          "metadata": {},
          "output_type": "display_data"
        },
        {
          "name": "stdout",
          "output_type": "stream",
          "text": [
            "*****************************************\n",
            "    SOURCE: An elephant that belongs to an Indian who lives but a hundred steps from here.\"\n",
            "    TARGET: Un éléphant qui appartient à un Indien logé à cent pas d'ici.\n",
            " PREDICTED: Un éléphant est à un Indien qui ne vit que cent pas de là !\n",
            "*****************************************\n",
            "\n",
            "*****************************************\n",
            "    SOURCE: Source: Project GutenbergTranslation: Edward Vizetelly\n",
            "    TARGET: Source: Project Gutenberg\n",
            " PREDICTED: Source : Project Gutenberg\n",
            "*****************************************\n",
            "\n",
            "Epoch 32: train_loss=1.6587\n"
          ]
        },
        {
          "data": {
            "application/vnd.jupyter.widget-view+json": {
              "model_id": "",
              "version_major": 2,
              "version_minor": 0
            },
            "text/plain": [
              "Validation: 0it [00:00, ?it/s]"
            ]
          },
          "metadata": {},
          "output_type": "display_data"
        },
        {
          "name": "stdout",
          "output_type": "stream",
          "text": [
            "*****************************************\n",
            "    SOURCE: Little by little I understood that all was at an end, now that he wanted to complete his studies in Paris ; never again should I have my big brother with me !\n",
            "    TARGET: Peu à peu je comprenais que c’était bien fini puisqu’il voulait terminer ses études à Paris ; jamais plus je n’aurais avec moi mon grand camarade.\n",
            " PREDICTED: Peu à peu , je compris que tout était fini , maintenant qu ' il voulait briser ses études à Paris ; jamais je n ' aurais mon grand frère avec moi !\n",
            "*****************************************\n",
            "\n",
            "*****************************************\n",
            "    SOURCE: \"Twenty-five pistoles,\" said d’Artagnan.\n",
            "    TARGET: -- Vingt-cinq pistoles, dit d'Artagnan.\n",
            " PREDICTED: -- Vingt - cinq pistoles , dit d ' Artagnan .\n",
            "*****************************************\n",
            "\n",
            "Epoch 33: train_loss=1.8024\n"
          ]
        },
        {
          "data": {
            "application/vnd.jupyter.widget-view+json": {
              "model_id": "",
              "version_major": 2,
              "version_minor": 0
            },
            "text/plain": [
              "Validation: 0it [00:00, ?it/s]"
            ]
          },
          "metadata": {},
          "output_type": "display_data"
        },
        {
          "name": "stdout",
          "output_type": "stream",
          "text": [
            "*****************************************\n",
            "    SOURCE: Two hours of waiting were two centuries of torment.\n",
            "    TARGET: Deux heures d’attente furent deux siècles de tourments.\n",
            " PREDICTED: Deux heures d ' attente furent deux siècles de souffrance .\n",
            "*****************************************\n",
            "\n",
            "*****************************************\n",
            "    SOURCE: \"No, Professor Aronnax, the Nautilus isn't consigned to perdition.\n",
            "    TARGET: « D'ailleurs, monsieur Aronnax, le _Nautilus_ n'est pas en perdition.\n",
            " PREDICTED: -- Non , monsieur Aronnax , le _Nautilus_ n ' est pas plus facile à exécuter .\n",
            "*****************************************\n",
            "\n",
            "Epoch 34: train_loss=1.6516\n"
          ]
        },
        {
          "data": {
            "application/vnd.jupyter.widget-view+json": {
              "model_id": "",
              "version_major": 2,
              "version_minor": 0
            },
            "text/plain": [
              "Validation: 0it [00:00, ?it/s]"
            ]
          },
          "metadata": {},
          "output_type": "display_data"
        },
        {
          "name": "stdout",
          "output_type": "stream",
          "text": [
            "*****************************************\n",
            "    SOURCE: The old servants of the house suspected him to have been the son of the Baron's sister, by a very good sort of a gentleman of the neighborhood, whom that young lady refused to marry, because he could produce no more than threescore and eleven quarterings in his arms; the rest of the genealogical tree belonging to the family having been lost through the injuries of time.\n",
            "    TARGET: Les anciens domestiques de la maison soupçonnaient qu'il était fils de la soeur de monsieur le baron et d'un bon et honnête gentilhomme du voisinage, que cette demoiselle ne voulut jamais épouser parce qu'il n'avait pu prouver que soixante et onze quartiers, et que le reste de son arbre généalogique avait été perdu par l'injure du temps.\n",
            " PREDICTED: Les vieux domestiques de l ' hôtel le , auraient été la soeur de la sœur du baron , d ' une fort bonne personne du gentilhomme , que cette jeune dame ne se laissait pas épouser , parce qu ' il ne pouvait plus faire qu ' une somme en ses bras , le reste de l ' arbre soumis à l ' de la famille qu ' on avait perdu l ' équilibre de temps .\n",
            "*****************************************\n",
            "\n",
            "*****************************************\n",
            "    SOURCE: In the meanwhile the brig approached the islet, and it could be seen that she was endeavoring to make the lower end.\n",
            "    TARGET: Cependant, le brick s'était approché de l'îlot, et on put voir qu'il cherchait à en gagner l'extrémité inférieure.\n",
            " PREDICTED: Cependant , le brick s ' approcha de l ' îlot , et on le voyait qu ' elle allait faire essayer à la chute du plus .\n",
            "*****************************************\n",
            "\n",
            "Epoch 35: train_loss=1.6992\n"
          ]
        },
        {
          "data": {
            "application/vnd.jupyter.widget-view+json": {
              "model_id": "",
              "version_major": 2,
              "version_minor": 0
            },
            "text/plain": [
              "Validation: 0it [00:00, ?it/s]"
            ]
          },
          "metadata": {},
          "output_type": "display_data"
        },
        {
          "name": "stdout",
          "output_type": "stream",
          "text": [
            "*****************************************\n",
            "    SOURCE: We are simply going to place her under the protection of one of her relatives, a rich merchant at Hong Kong.\"\n",
            "    TARGET: Nous allons tout simplement la remettre aux soins de l'un de ses parents, riche négociant de Hong-Kong. »\n",
            " PREDICTED: Nous n ' allons donc pas , là , sous la protection d ' un de ses parents , un marchand de maison à Hong - Kong . »\n",
            "*****************************************\n",
            "\n",
            "*****************************************\n",
            "    SOURCE: \"But it is our own boat! she has broken her moorings, and floated down the current.\n",
            "    TARGET: «Mais c'est notre pirogue! Elle a rompu son amarre et elle a suivi le courant!\n",
            " PREDICTED: -- Mais c ’ est notre canot qui a brisé son amarre , elle se le courant .\n",
            "*****************************************\n",
            "\n",
            "Epoch 36: train_loss=1.7540\n"
          ]
        },
        {
          "data": {
            "application/vnd.jupyter.widget-view+json": {
              "model_id": "",
              "version_major": 2,
              "version_minor": 0
            },
            "text/plain": [
              "Validation: 0it [00:00, ?it/s]"
            ]
          },
          "metadata": {},
          "output_type": "display_data"
        },
        {
          "name": "stdout",
          "output_type": "stream",
          "text": [
            "*****************************************\n",
            "    SOURCE: But Lheureux, all the same, went on with his work, helped by a young girl of about thirteen, somewhat hunch-backed, who was at once his clerk and his servant.\n",
            "    TARGET: Lheureux n’en continua pas moins sa besogne, aidé par une jeune fille de treize ans environ, un peu bossue, et qui lui servait à la fois de commis et de cuisinière.\n",
            " PREDICTED: Mais Lheureux , qui se trouvait tout le même travail , aidait à une jeune fille de treize ans , fut un peu vexé , qui fut à la fois son greffier et son domestique .\n",
            "*****************************************\n",
            "\n",
            "*****************************************\n",
            "    SOURCE: He coughed, then declared that on his soul and conscience the unanimous opinion of the jury was that Julien Sorel was guilty of murder, and of murder with premeditation: this verdict inferred a sentence of death; it was pronounced a moment later.\n",
            "    TARGET: Il toussa, puis déclara qu’en son âme et conscience la déclaration unanime du jury était que Julien Sorel était coupable de meurtre, et de meurtre avec préméditation : cette déclaration entraînait la peine de mort ; elle fut prononcée un instant après.\n",
            " PREDICTED: Il toussa , puis déclara qu ’ en âme et conscience l ’ opinion qu ’ il avait coupable du jury , et que l ’ on apportait la préméditation , et que cette déclaration à mort ; c ’ était un moment après .\n",
            "*****************************************\n",
            "\n",
            "Epoch 37: train_loss=1.6544\n"
          ]
        },
        {
          "data": {
            "application/vnd.jupyter.widget-view+json": {
              "model_id": "",
              "version_major": 2,
              "version_minor": 0
            },
            "text/plain": [
              "Validation: 0it [00:00, ?it/s]"
            ]
          },
          "metadata": {},
          "output_type": "display_data"
        },
        {
          "name": "stdout",
          "output_type": "stream",
          "text": [
            "*****************************************\n",
            "    SOURCE: By the way, Tregellis, have you got your man for this fight yet?\"\n",
            "    TARGET: À propos, Tregellis, avez-vous trouvé déjà votre homme pour cette lutte?\n",
            " PREDICTED: À propos , Tregellis , vous avez reçu votre homme pour cette lutte ?\n",
            "*****************************************\n",
            "\n",
            "*****************************************\n",
            "    SOURCE: But many centuries have passed since then, and this submerged volcano has changed into a peaceful cavern.\"\n",
            "    TARGET: Mais bien des siècles se sont écoulés depuis lors, et le volcan submergé s'est changé en grotte paisible.\n",
            " PREDICTED: Mais de siècles ont passé depuis lors , et ce volcan s ' est changé en caverne paisible .\n",
            "*****************************************\n",
            "\n",
            "Epoch 38: train_loss=1.6510\n"
          ]
        },
        {
          "data": {
            "application/vnd.jupyter.widget-view+json": {
              "model_id": "",
              "version_major": 2,
              "version_minor": 0
            },
            "text/plain": [
              "Validation: 0it [00:00, ?it/s]"
            ]
          },
          "metadata": {},
          "output_type": "display_data"
        },
        {
          "name": "stdout",
          "output_type": "stream",
          "text": [
            "*****************************************\n",
            "    SOURCE: All the valley at my right hand was full of pasture- fields, and cornfields, and wood; and a glittering stream ran zig-zag through the varied shades of green, the mellowing grain, the sombre woodland, the clear and sunny lea.\n",
            "    TARGET: À ma droite, la vallée était remplie de pâturages, de bois et de champs de grains; un ruisseau tortueux coulait au milieu du feuillage aux teintes variées, des champs mûrs, de sombres forêts et des prairies éclairées par le soleil.\n",
            " PREDICTED: Toute la vallée à ma droite était à plein de bateaux à bateaux , et de très en bois . Un ruisseau coulait à travers les ombres brusques ombres du vert genre vert et le temps triste , le léger et .\n",
            "*****************************************\n",
            "\n",
            "*****************************************\n",
            "    SOURCE: Two old friends mustn't fall out over such a--well, there, I won't say it.\n",
            "    TARGET: Deux vieux amis qui se prennent corps à corps pour une... Non, je ne le dirai pas.\n",
            " PREDICTED: Deux anciens ne tenaient pas a demi - voix , et là , je ne dis pas .\n",
            "*****************************************\n",
            "\n",
            "Epoch 39: train_loss=1.6047\n"
          ]
        },
        {
          "name": "stderr",
          "output_type": "stream",
          "text": [
            "`Trainer.fit` stopped: `max_epochs=40` reached.\n",
            "LOCAL_RANK: 0 - CUDA_VISIBLE_DEVICES: [0]\n",
            "/home/e183534/ERA_V1/venv/lib/python3.8/site-packages/pytorch_lightning/trainer/connectors/data_connector.py:488: PossibleUserWarning: Your `test_dataloader`'s sampler has shuffling enabled, it is strongly recommended that you turn shuffling off for val/test/predict dataloaders.\n",
            "  rank_zero_warn(\n"
          ]
        },
        {
          "data": {
            "application/vnd.jupyter.widget-view+json": {
              "model_id": "c20b5f95bb37466288204a9996a30d2f",
              "version_major": 2,
              "version_minor": 0
            },
            "text/plain": [
              "Testing: 0it [00:00, ?it/s]"
            ]
          },
          "metadata": {},
          "output_type": "display_data"
        },
        {
          "name": "stdout",
          "output_type": "stream",
          "text": [
            "*****************************************\n",
            "    SOURCE: Her pretty Djali followed her.\n",
            "    TARGET: Sa jolie Djali la suivait.\n",
            " PREDICTED: Sa jolie Djali la suivait .\n",
            "*****************************************\n",
            "\n",
            "*****************************************\n",
            "    SOURCE: This unsettled demeanour alarmed him, for he guessed, in part, what her struggles and troubles must be like.\n",
            "    TARGET: L'indécision où il la voyait l'effrayait, car il devinait en partie ses luttes et ses troubles.\n",
            " PREDICTED: Cet entêtement l ' effraya , car il devina les jours , quelles que ses chagrins pouvaient être comme chacun .\n",
            "*****************************************\n",
            "\n"
          ]
        },
        {
          "data": {
            "text/plain": [
              "<pytorch_lightning.trainer.trainer.Trainer at 0x7fe0e9ad66a0>"
            ]
          },
          "execution_count": 13,
          "metadata": {},
          "output_type": "execute_result"
        }
      ],
      "source": [
        "train_transformer(transformer_model, opus_dm, cfg, epochs=cfg['num_epochs'])"
      ]
    },
    {
      "cell_type": "code",
      "execution_count": null,
      "metadata": {
        "id": "_NJSRCdrsQRQ",
        "outputId": "333997dd-00bc-40d9-cc3b-a84c8d695a40"
      },
      "outputs": [
        {
          "name": "stdout",
          "output_type": "stream",
          "text": [
            "Total Parameters: 61847890\n"
          ]
        }
      ],
      "source": [
        "loss_fn = nn.CrossEntropyLoss(ignore_index=tokenizer_src.token_to_id('[PAD]'), label_smoothing=0.1)\n",
        "trained_transformer_model = LitTransformer(cfg, loss_fn, tokenizer_src, tokenizer_tgt, num_validation_examples=2, epochs = cfg['num_epochs'])\n",
        "#optimizer = torch.optim.Adam(trained_transformer_model.model.parameters(), lr=cfg['lr'], eps=1e-9)\n",
        "#trained_transformer_model.set_optimizer(optimizer)\n",
        "\n",
        "#scheduler = OneCycleLR(\n",
        "#    optimizer,\n",
        "#    max_lr=1E-3,\n",
        "#    steps_per_epoch=len(train_data_loader),\n",
        "#    epochs=cfg['num_epochs'],\n",
        "#    pct_start=5/cfg['num_epochs'],\n",
        "#    div_factor=10,\n",
        "#    three_phase=True,\n",
        "#    final_div_factor=10,\n",
        "#    anneal_strategy='linear'\n",
        "#)\n",
        "#transformer_model.set_scheduler_dict(scheduler, freq = 'step')"
      ]
    },
    {
      "cell_type": "markdown",
      "source": [
        "**Load trained model**"
      ],
      "metadata": {
        "id": "qDBrqjurvwH9"
      }
    },
    {
      "cell_type": "code",
      "execution_count": 15,
      "metadata": {
        "id": "MnnWRNtbsQRQ",
        "outputId": "ca1ad7f3-b14a-4c15-dd4a-5bc9628f523a",
        "colab": {
          "base_uri": "https://localhost:8080/"
        }
      },
      "outputs": [
        {
          "output_type": "stream",
          "name": "stdout",
          "text": [
            "Total Parameters: 61847890\n"
          ]
        }
      ],
      "source": [
        "model_path = \"/content/gdrive/MyDrive/trained_models/Transformer/transformer_model_param_sharing_1024_dff.ckpt\"\n",
        "trained_transformer_model = LitTransformer.load_from_checkpoint(model_path, map_location=torch.device('cuda'), config=cfg, loss_criterion=loss_criterion, tokenizer_src = tokenizer_src, tokenizer_tgt = tokenizer_tgt )"
      ]
    },
    {
      "cell_type": "markdown",
      "source": [
        "**Run Inference on sentences**"
      ],
      "metadata": {
        "id": "BhuR41nj1VPs"
      }
    },
    {
      "cell_type": "code",
      "source": [
        "def encode_input_sentence(input, tokenizer_src, max_seq_len) -> torch.tensor:\n",
        "    encoder_input_tokens = tokenizer_src.encode(input).ids\n",
        "    sos_token = torch.tensor([tokenizer_src.token_to_id(\"[SOS]\")], dtype=torch.int64)\n",
        "    eos_token = torch.tensor([tokenizer_src.token_to_id(\"[EOS]\")], dtype=torch.int64)\n",
        "    pad_token = torch.tensor([tokenizer_src.token_to_id(\"[PAD]\")], dtype=torch.int64)\n",
        "    # Add sos, eos and padding to each sentence\n",
        "    enc_num_padding_tokens = max_seq_len - len(encoder_input_tokens) - 2 # we will add <s> and </s>\n",
        "\n",
        "    encoder_input = torch.cat(\n",
        "        [\n",
        "            sos_token,\n",
        "            torch.tensor(encoder_input_tokens, dtype=torch.int64),\n",
        "            eos_token,\n",
        "            torch.tensor([pad_token]*enc_num_padding_tokens, dtype=torch.int64)\n",
        "        ],\n",
        "        dim = 0)\n",
        "    encoder_mask = (encoder_input != pad_token).unsqueeze(0).unsqueeze(0).int()\n",
        "    return encoder_input, encoder_mask\n",
        "\n",
        "def translate_en_to_fr(input, opus_dm, cfg):\n",
        "    encoder_input, encoder_mask = encode_input_sentence(input, opus_dm.tokenizer_src, cfg['seq_len'])\n",
        "    output = trained_transformer_model.greedy_decode(encoder_input, encoder_mask)\n",
        "    model_out_text = opus_dm.tokenizer_tgt.decode(output.detach().cpu().numpy())\n",
        "    return model_out_text\n",
        "\n",
        ""
      ],
      "metadata": {
        "id": "I85T3Kxnxq6f"
      },
      "execution_count": 27,
      "outputs": []
    },
    {
      "cell_type": "code",
      "execution_count": 36,
      "metadata": {
        "id": "g-geINBasQRR",
        "outputId": "eb5e049a-ac7f-4f37-d2fd-95e8c3dacae0",
        "colab": {
          "base_uri": "https://localhost:8080/"
        }
      },
      "outputs": [
        {
          "output_type": "stream",
          "name": "stdout",
          "text": [
            "Aucun ne devait entre eux et n ' aurait eu à leur argent .\n"
          ]
        }
      ],
      "source": [
        "input = \"There was no food at home, nor did they have money to go to the store.\"\n",
        "output = translate_en_to_fr(input, opus_dm, cfg)\n",
        "\n",
        "print(output)"
      ]
    }
  ],
  "metadata": {
    "colab": {
      "gpuType": "T4",
      "provenance": [],
      "include_colab_link": true
    },
    "kernelspec": {
      "display_name": "Python 3",
      "name": "python3"
    },
    "language_info": {
      "codemirror_mode": {
        "name": "ipython",
        "version": 3
      },
      "file_extension": ".py",
      "mimetype": "text/x-python",
      "name": "python",
      "nbconvert_exporter": "python",
      "pygments_lexer": "ipython3",
      "version": "3.8.0"
    },
    "accelerator": "GPU",
    "widgets": {
      "application/vnd.jupyter.widget-state+json": {
        "cefca3aa04494a1aa109afd0e1768a33": {
          "model_module": "@jupyter-widgets/controls",
          "model_name": "HBoxModel",
          "model_module_version": "1.5.0",
          "state": {
            "_dom_classes": [],
            "_model_module": "@jupyter-widgets/controls",
            "_model_module_version": "1.5.0",
            "_model_name": "HBoxModel",
            "_view_count": null,
            "_view_module": "@jupyter-widgets/controls",
            "_view_module_version": "1.5.0",
            "_view_name": "HBoxView",
            "box_style": "",
            "children": [
              "IPY_MODEL_30a3291f37e6446293f5c30b1268f310",
              "IPY_MODEL_90f78844890242ceb7d8953933c04e84",
              "IPY_MODEL_6c5012afc3b346e8b383d7c1a911852b"
            ],
            "layout": "IPY_MODEL_7c43f624592e49298b8ea53c2d27f1a7"
          }
        },
        "30a3291f37e6446293f5c30b1268f310": {
          "model_module": "@jupyter-widgets/controls",
          "model_name": "HTMLModel",
          "model_module_version": "1.5.0",
          "state": {
            "_dom_classes": [],
            "_model_module": "@jupyter-widgets/controls",
            "_model_module_version": "1.5.0",
            "_model_name": "HTMLModel",
            "_view_count": null,
            "_view_module": "@jupyter-widgets/controls",
            "_view_module_version": "1.5.0",
            "_view_name": "HTMLView",
            "description": "",
            "description_tooltip": null,
            "layout": "IPY_MODEL_ac7e7dc4f871476397d1cdf60dbadd3f",
            "placeholder": "​",
            "style": "IPY_MODEL_1199250ffa4446f596bdfff2fd6e5a4e",
            "value": "Downloading builder script: 100%"
          }
        },
        "90f78844890242ceb7d8953933c04e84": {
          "model_module": "@jupyter-widgets/controls",
          "model_name": "FloatProgressModel",
          "model_module_version": "1.5.0",
          "state": {
            "_dom_classes": [],
            "_model_module": "@jupyter-widgets/controls",
            "_model_module_version": "1.5.0",
            "_model_name": "FloatProgressModel",
            "_view_count": null,
            "_view_module": "@jupyter-widgets/controls",
            "_view_module_version": "1.5.0",
            "_view_name": "ProgressView",
            "bar_style": "success",
            "description": "",
            "description_tooltip": null,
            "layout": "IPY_MODEL_fecc3c559c7d4c338c8eeaa7111073c6",
            "max": 6081,
            "min": 0,
            "orientation": "horizontal",
            "style": "IPY_MODEL_9b6618d565dd4c2197d9411e4542c205",
            "value": 6081
          }
        },
        "6c5012afc3b346e8b383d7c1a911852b": {
          "model_module": "@jupyter-widgets/controls",
          "model_name": "HTMLModel",
          "model_module_version": "1.5.0",
          "state": {
            "_dom_classes": [],
            "_model_module": "@jupyter-widgets/controls",
            "_model_module_version": "1.5.0",
            "_model_name": "HTMLModel",
            "_view_count": null,
            "_view_module": "@jupyter-widgets/controls",
            "_view_module_version": "1.5.0",
            "_view_name": "HTMLView",
            "description": "",
            "description_tooltip": null,
            "layout": "IPY_MODEL_84dbc15d4c554c12a07dcf2ffa075baf",
            "placeholder": "​",
            "style": "IPY_MODEL_b355e25cd5f446d98b1d3898083e2f9e",
            "value": " 6.08k/6.08k [00:00&lt;00:00, 228kB/s]"
          }
        },
        "7c43f624592e49298b8ea53c2d27f1a7": {
          "model_module": "@jupyter-widgets/base",
          "model_name": "LayoutModel",
          "model_module_version": "1.2.0",
          "state": {
            "_model_module": "@jupyter-widgets/base",
            "_model_module_version": "1.2.0",
            "_model_name": "LayoutModel",
            "_view_count": null,
            "_view_module": "@jupyter-widgets/base",
            "_view_module_version": "1.2.0",
            "_view_name": "LayoutView",
            "align_content": null,
            "align_items": null,
            "align_self": null,
            "border": null,
            "bottom": null,
            "display": null,
            "flex": null,
            "flex_flow": null,
            "grid_area": null,
            "grid_auto_columns": null,
            "grid_auto_flow": null,
            "grid_auto_rows": null,
            "grid_column": null,
            "grid_gap": null,
            "grid_row": null,
            "grid_template_areas": null,
            "grid_template_columns": null,
            "grid_template_rows": null,
            "height": null,
            "justify_content": null,
            "justify_items": null,
            "left": null,
            "margin": null,
            "max_height": null,
            "max_width": null,
            "min_height": null,
            "min_width": null,
            "object_fit": null,
            "object_position": null,
            "order": null,
            "overflow": null,
            "overflow_x": null,
            "overflow_y": null,
            "padding": null,
            "right": null,
            "top": null,
            "visibility": null,
            "width": null
          }
        },
        "ac7e7dc4f871476397d1cdf60dbadd3f": {
          "model_module": "@jupyter-widgets/base",
          "model_name": "LayoutModel",
          "model_module_version": "1.2.0",
          "state": {
            "_model_module": "@jupyter-widgets/base",
            "_model_module_version": "1.2.0",
            "_model_name": "LayoutModel",
            "_view_count": null,
            "_view_module": "@jupyter-widgets/base",
            "_view_module_version": "1.2.0",
            "_view_name": "LayoutView",
            "align_content": null,
            "align_items": null,
            "align_self": null,
            "border": null,
            "bottom": null,
            "display": null,
            "flex": null,
            "flex_flow": null,
            "grid_area": null,
            "grid_auto_columns": null,
            "grid_auto_flow": null,
            "grid_auto_rows": null,
            "grid_column": null,
            "grid_gap": null,
            "grid_row": null,
            "grid_template_areas": null,
            "grid_template_columns": null,
            "grid_template_rows": null,
            "height": null,
            "justify_content": null,
            "justify_items": null,
            "left": null,
            "margin": null,
            "max_height": null,
            "max_width": null,
            "min_height": null,
            "min_width": null,
            "object_fit": null,
            "object_position": null,
            "order": null,
            "overflow": null,
            "overflow_x": null,
            "overflow_y": null,
            "padding": null,
            "right": null,
            "top": null,
            "visibility": null,
            "width": null
          }
        },
        "1199250ffa4446f596bdfff2fd6e5a4e": {
          "model_module": "@jupyter-widgets/controls",
          "model_name": "DescriptionStyleModel",
          "model_module_version": "1.5.0",
          "state": {
            "_model_module": "@jupyter-widgets/controls",
            "_model_module_version": "1.5.0",
            "_model_name": "DescriptionStyleModel",
            "_view_count": null,
            "_view_module": "@jupyter-widgets/base",
            "_view_module_version": "1.2.0",
            "_view_name": "StyleView",
            "description_width": ""
          }
        },
        "fecc3c559c7d4c338c8eeaa7111073c6": {
          "model_module": "@jupyter-widgets/base",
          "model_name": "LayoutModel",
          "model_module_version": "1.2.0",
          "state": {
            "_model_module": "@jupyter-widgets/base",
            "_model_module_version": "1.2.0",
            "_model_name": "LayoutModel",
            "_view_count": null,
            "_view_module": "@jupyter-widgets/base",
            "_view_module_version": "1.2.0",
            "_view_name": "LayoutView",
            "align_content": null,
            "align_items": null,
            "align_self": null,
            "border": null,
            "bottom": null,
            "display": null,
            "flex": null,
            "flex_flow": null,
            "grid_area": null,
            "grid_auto_columns": null,
            "grid_auto_flow": null,
            "grid_auto_rows": null,
            "grid_column": null,
            "grid_gap": null,
            "grid_row": null,
            "grid_template_areas": null,
            "grid_template_columns": null,
            "grid_template_rows": null,
            "height": null,
            "justify_content": null,
            "justify_items": null,
            "left": null,
            "margin": null,
            "max_height": null,
            "max_width": null,
            "min_height": null,
            "min_width": null,
            "object_fit": null,
            "object_position": null,
            "order": null,
            "overflow": null,
            "overflow_x": null,
            "overflow_y": null,
            "padding": null,
            "right": null,
            "top": null,
            "visibility": null,
            "width": null
          }
        },
        "9b6618d565dd4c2197d9411e4542c205": {
          "model_module": "@jupyter-widgets/controls",
          "model_name": "ProgressStyleModel",
          "model_module_version": "1.5.0",
          "state": {
            "_model_module": "@jupyter-widgets/controls",
            "_model_module_version": "1.5.0",
            "_model_name": "ProgressStyleModel",
            "_view_count": null,
            "_view_module": "@jupyter-widgets/base",
            "_view_module_version": "1.2.0",
            "_view_name": "StyleView",
            "bar_color": null,
            "description_width": ""
          }
        },
        "84dbc15d4c554c12a07dcf2ffa075baf": {
          "model_module": "@jupyter-widgets/base",
          "model_name": "LayoutModel",
          "model_module_version": "1.2.0",
          "state": {
            "_model_module": "@jupyter-widgets/base",
            "_model_module_version": "1.2.0",
            "_model_name": "LayoutModel",
            "_view_count": null,
            "_view_module": "@jupyter-widgets/base",
            "_view_module_version": "1.2.0",
            "_view_name": "LayoutView",
            "align_content": null,
            "align_items": null,
            "align_self": null,
            "border": null,
            "bottom": null,
            "display": null,
            "flex": null,
            "flex_flow": null,
            "grid_area": null,
            "grid_auto_columns": null,
            "grid_auto_flow": null,
            "grid_auto_rows": null,
            "grid_column": null,
            "grid_gap": null,
            "grid_row": null,
            "grid_template_areas": null,
            "grid_template_columns": null,
            "grid_template_rows": null,
            "height": null,
            "justify_content": null,
            "justify_items": null,
            "left": null,
            "margin": null,
            "max_height": null,
            "max_width": null,
            "min_height": null,
            "min_width": null,
            "object_fit": null,
            "object_position": null,
            "order": null,
            "overflow": null,
            "overflow_x": null,
            "overflow_y": null,
            "padding": null,
            "right": null,
            "top": null,
            "visibility": null,
            "width": null
          }
        },
        "b355e25cd5f446d98b1d3898083e2f9e": {
          "model_module": "@jupyter-widgets/controls",
          "model_name": "DescriptionStyleModel",
          "model_module_version": "1.5.0",
          "state": {
            "_model_module": "@jupyter-widgets/controls",
            "_model_module_version": "1.5.0",
            "_model_name": "DescriptionStyleModel",
            "_view_count": null,
            "_view_module": "@jupyter-widgets/base",
            "_view_module_version": "1.2.0",
            "_view_name": "StyleView",
            "description_width": ""
          }
        },
        "696c7042667648d38c4a6e6c5480061c": {
          "model_module": "@jupyter-widgets/controls",
          "model_name": "HBoxModel",
          "model_module_version": "1.5.0",
          "state": {
            "_dom_classes": [],
            "_model_module": "@jupyter-widgets/controls",
            "_model_module_version": "1.5.0",
            "_model_name": "HBoxModel",
            "_view_count": null,
            "_view_module": "@jupyter-widgets/controls",
            "_view_module_version": "1.5.0",
            "_view_name": "HBoxView",
            "box_style": "",
            "children": [
              "IPY_MODEL_ac1cf54f59194fc790382d6a01b295c3",
              "IPY_MODEL_30617497f9fa4520852e75f1c26c4a00",
              "IPY_MODEL_60260d22b9744ca0b324421efb0717ec"
            ],
            "layout": "IPY_MODEL_24e5a789566c4cb29acbd6fcf83fcb75"
          }
        },
        "ac1cf54f59194fc790382d6a01b295c3": {
          "model_module": "@jupyter-widgets/controls",
          "model_name": "HTMLModel",
          "model_module_version": "1.5.0",
          "state": {
            "_dom_classes": [],
            "_model_module": "@jupyter-widgets/controls",
            "_model_module_version": "1.5.0",
            "_model_name": "HTMLModel",
            "_view_count": null,
            "_view_module": "@jupyter-widgets/controls",
            "_view_module_version": "1.5.0",
            "_view_name": "HTMLView",
            "description": "",
            "description_tooltip": null,
            "layout": "IPY_MODEL_fe986a4b4e3d4a73ab2dbe638d39abb7",
            "placeholder": "​",
            "style": "IPY_MODEL_a42d68e6c31a4da5a895ace325415920",
            "value": "Downloading metadata: 100%"
          }
        },
        "30617497f9fa4520852e75f1c26c4a00": {
          "model_module": "@jupyter-widgets/controls",
          "model_name": "FloatProgressModel",
          "model_module_version": "1.5.0",
          "state": {
            "_dom_classes": [],
            "_model_module": "@jupyter-widgets/controls",
            "_model_module_version": "1.5.0",
            "_model_name": "FloatProgressModel",
            "_view_count": null,
            "_view_module": "@jupyter-widgets/controls",
            "_view_module_version": "1.5.0",
            "_view_name": "ProgressView",
            "bar_style": "success",
            "description": "",
            "description_tooltip": null,
            "layout": "IPY_MODEL_5844a181922f47e3a5f1b339d9f140ac",
            "max": 161154,
            "min": 0,
            "orientation": "horizontal",
            "style": "IPY_MODEL_a8115e03d3e8458fb5748661eee51c55",
            "value": 161154
          }
        },
        "60260d22b9744ca0b324421efb0717ec": {
          "model_module": "@jupyter-widgets/controls",
          "model_name": "HTMLModel",
          "model_module_version": "1.5.0",
          "state": {
            "_dom_classes": [],
            "_model_module": "@jupyter-widgets/controls",
            "_model_module_version": "1.5.0",
            "_model_name": "HTMLModel",
            "_view_count": null,
            "_view_module": "@jupyter-widgets/controls",
            "_view_module_version": "1.5.0",
            "_view_name": "HTMLView",
            "description": "",
            "description_tooltip": null,
            "layout": "IPY_MODEL_3a22d34854c74a849f41ee892e4962ce",
            "placeholder": "​",
            "style": "IPY_MODEL_8937c860cb3c40b3bf0756b333dad84f",
            "value": " 161k/161k [00:00&lt;00:00, 3.37MB/s]"
          }
        },
        "24e5a789566c4cb29acbd6fcf83fcb75": {
          "model_module": "@jupyter-widgets/base",
          "model_name": "LayoutModel",
          "model_module_version": "1.2.0",
          "state": {
            "_model_module": "@jupyter-widgets/base",
            "_model_module_version": "1.2.0",
            "_model_name": "LayoutModel",
            "_view_count": null,
            "_view_module": "@jupyter-widgets/base",
            "_view_module_version": "1.2.0",
            "_view_name": "LayoutView",
            "align_content": null,
            "align_items": null,
            "align_self": null,
            "border": null,
            "bottom": null,
            "display": null,
            "flex": null,
            "flex_flow": null,
            "grid_area": null,
            "grid_auto_columns": null,
            "grid_auto_flow": null,
            "grid_auto_rows": null,
            "grid_column": null,
            "grid_gap": null,
            "grid_row": null,
            "grid_template_areas": null,
            "grid_template_columns": null,
            "grid_template_rows": null,
            "height": null,
            "justify_content": null,
            "justify_items": null,
            "left": null,
            "margin": null,
            "max_height": null,
            "max_width": null,
            "min_height": null,
            "min_width": null,
            "object_fit": null,
            "object_position": null,
            "order": null,
            "overflow": null,
            "overflow_x": null,
            "overflow_y": null,
            "padding": null,
            "right": null,
            "top": null,
            "visibility": null,
            "width": null
          }
        },
        "fe986a4b4e3d4a73ab2dbe638d39abb7": {
          "model_module": "@jupyter-widgets/base",
          "model_name": "LayoutModel",
          "model_module_version": "1.2.0",
          "state": {
            "_model_module": "@jupyter-widgets/base",
            "_model_module_version": "1.2.0",
            "_model_name": "LayoutModel",
            "_view_count": null,
            "_view_module": "@jupyter-widgets/base",
            "_view_module_version": "1.2.0",
            "_view_name": "LayoutView",
            "align_content": null,
            "align_items": null,
            "align_self": null,
            "border": null,
            "bottom": null,
            "display": null,
            "flex": null,
            "flex_flow": null,
            "grid_area": null,
            "grid_auto_columns": null,
            "grid_auto_flow": null,
            "grid_auto_rows": null,
            "grid_column": null,
            "grid_gap": null,
            "grid_row": null,
            "grid_template_areas": null,
            "grid_template_columns": null,
            "grid_template_rows": null,
            "height": null,
            "justify_content": null,
            "justify_items": null,
            "left": null,
            "margin": null,
            "max_height": null,
            "max_width": null,
            "min_height": null,
            "min_width": null,
            "object_fit": null,
            "object_position": null,
            "order": null,
            "overflow": null,
            "overflow_x": null,
            "overflow_y": null,
            "padding": null,
            "right": null,
            "top": null,
            "visibility": null,
            "width": null
          }
        },
        "a42d68e6c31a4da5a895ace325415920": {
          "model_module": "@jupyter-widgets/controls",
          "model_name": "DescriptionStyleModel",
          "model_module_version": "1.5.0",
          "state": {
            "_model_module": "@jupyter-widgets/controls",
            "_model_module_version": "1.5.0",
            "_model_name": "DescriptionStyleModel",
            "_view_count": null,
            "_view_module": "@jupyter-widgets/base",
            "_view_module_version": "1.2.0",
            "_view_name": "StyleView",
            "description_width": ""
          }
        },
        "5844a181922f47e3a5f1b339d9f140ac": {
          "model_module": "@jupyter-widgets/base",
          "model_name": "LayoutModel",
          "model_module_version": "1.2.0",
          "state": {
            "_model_module": "@jupyter-widgets/base",
            "_model_module_version": "1.2.0",
            "_model_name": "LayoutModel",
            "_view_count": null,
            "_view_module": "@jupyter-widgets/base",
            "_view_module_version": "1.2.0",
            "_view_name": "LayoutView",
            "align_content": null,
            "align_items": null,
            "align_self": null,
            "border": null,
            "bottom": null,
            "display": null,
            "flex": null,
            "flex_flow": null,
            "grid_area": null,
            "grid_auto_columns": null,
            "grid_auto_flow": null,
            "grid_auto_rows": null,
            "grid_column": null,
            "grid_gap": null,
            "grid_row": null,
            "grid_template_areas": null,
            "grid_template_columns": null,
            "grid_template_rows": null,
            "height": null,
            "justify_content": null,
            "justify_items": null,
            "left": null,
            "margin": null,
            "max_height": null,
            "max_width": null,
            "min_height": null,
            "min_width": null,
            "object_fit": null,
            "object_position": null,
            "order": null,
            "overflow": null,
            "overflow_x": null,
            "overflow_y": null,
            "padding": null,
            "right": null,
            "top": null,
            "visibility": null,
            "width": null
          }
        },
        "a8115e03d3e8458fb5748661eee51c55": {
          "model_module": "@jupyter-widgets/controls",
          "model_name": "ProgressStyleModel",
          "model_module_version": "1.5.0",
          "state": {
            "_model_module": "@jupyter-widgets/controls",
            "_model_module_version": "1.5.0",
            "_model_name": "ProgressStyleModel",
            "_view_count": null,
            "_view_module": "@jupyter-widgets/base",
            "_view_module_version": "1.2.0",
            "_view_name": "StyleView",
            "bar_color": null,
            "description_width": ""
          }
        },
        "3a22d34854c74a849f41ee892e4962ce": {
          "model_module": "@jupyter-widgets/base",
          "model_name": "LayoutModel",
          "model_module_version": "1.2.0",
          "state": {
            "_model_module": "@jupyter-widgets/base",
            "_model_module_version": "1.2.0",
            "_model_name": "LayoutModel",
            "_view_count": null,
            "_view_module": "@jupyter-widgets/base",
            "_view_module_version": "1.2.0",
            "_view_name": "LayoutView",
            "align_content": null,
            "align_items": null,
            "align_self": null,
            "border": null,
            "bottom": null,
            "display": null,
            "flex": null,
            "flex_flow": null,
            "grid_area": null,
            "grid_auto_columns": null,
            "grid_auto_flow": null,
            "grid_auto_rows": null,
            "grid_column": null,
            "grid_gap": null,
            "grid_row": null,
            "grid_template_areas": null,
            "grid_template_columns": null,
            "grid_template_rows": null,
            "height": null,
            "justify_content": null,
            "justify_items": null,
            "left": null,
            "margin": null,
            "max_height": null,
            "max_width": null,
            "min_height": null,
            "min_width": null,
            "object_fit": null,
            "object_position": null,
            "order": null,
            "overflow": null,
            "overflow_x": null,
            "overflow_y": null,
            "padding": null,
            "right": null,
            "top": null,
            "visibility": null,
            "width": null
          }
        },
        "8937c860cb3c40b3bf0756b333dad84f": {
          "model_module": "@jupyter-widgets/controls",
          "model_name": "DescriptionStyleModel",
          "model_module_version": "1.5.0",
          "state": {
            "_model_module": "@jupyter-widgets/controls",
            "_model_module_version": "1.5.0",
            "_model_name": "DescriptionStyleModel",
            "_view_count": null,
            "_view_module": "@jupyter-widgets/base",
            "_view_module_version": "1.2.0",
            "_view_name": "StyleView",
            "description_width": ""
          }
        },
        "ed705e9e3dc9472d8f6c0dd759b9039a": {
          "model_module": "@jupyter-widgets/controls",
          "model_name": "HBoxModel",
          "model_module_version": "1.5.0",
          "state": {
            "_dom_classes": [],
            "_model_module": "@jupyter-widgets/controls",
            "_model_module_version": "1.5.0",
            "_model_name": "HBoxModel",
            "_view_count": null,
            "_view_module": "@jupyter-widgets/controls",
            "_view_module_version": "1.5.0",
            "_view_name": "HBoxView",
            "box_style": "",
            "children": [
              "IPY_MODEL_9b53632b78aa4242befde385bf84a643",
              "IPY_MODEL_285a5fd9454f46a58ad7343855101dd9",
              "IPY_MODEL_4310488cd4c44572b80a465087fca5e3"
            ],
            "layout": "IPY_MODEL_fbaa231ff7314f978c87701706f0d9ba"
          }
        },
        "9b53632b78aa4242befde385bf84a643": {
          "model_module": "@jupyter-widgets/controls",
          "model_name": "HTMLModel",
          "model_module_version": "1.5.0",
          "state": {
            "_dom_classes": [],
            "_model_module": "@jupyter-widgets/controls",
            "_model_module_version": "1.5.0",
            "_model_name": "HTMLModel",
            "_view_count": null,
            "_view_module": "@jupyter-widgets/controls",
            "_view_module_version": "1.5.0",
            "_view_name": "HTMLView",
            "description": "",
            "description_tooltip": null,
            "layout": "IPY_MODEL_46c2f249715843a8b7158f05e198400a",
            "placeholder": "​",
            "style": "IPY_MODEL_21eb22ab021b45d7885121c7cbfc436a",
            "value": "Downloading readme: 100%"
          }
        },
        "285a5fd9454f46a58ad7343855101dd9": {
          "model_module": "@jupyter-widgets/controls",
          "model_name": "FloatProgressModel",
          "model_module_version": "1.5.0",
          "state": {
            "_dom_classes": [],
            "_model_module": "@jupyter-widgets/controls",
            "_model_module_version": "1.5.0",
            "_model_name": "FloatProgressModel",
            "_view_count": null,
            "_view_module": "@jupyter-widgets/controls",
            "_view_module_version": "1.5.0",
            "_view_name": "ProgressView",
            "bar_style": "success",
            "description": "",
            "description_tooltip": null,
            "layout": "IPY_MODEL_31ef804f9a0d4d63983b443412ad7a85",
            "max": 20464,
            "min": 0,
            "orientation": "horizontal",
            "style": "IPY_MODEL_4beb2ac747624a0a93194dc69e06d4da",
            "value": 20464
          }
        },
        "4310488cd4c44572b80a465087fca5e3": {
          "model_module": "@jupyter-widgets/controls",
          "model_name": "HTMLModel",
          "model_module_version": "1.5.0",
          "state": {
            "_dom_classes": [],
            "_model_module": "@jupyter-widgets/controls",
            "_model_module_version": "1.5.0",
            "_model_name": "HTMLModel",
            "_view_count": null,
            "_view_module": "@jupyter-widgets/controls",
            "_view_module_version": "1.5.0",
            "_view_name": "HTMLView",
            "description": "",
            "description_tooltip": null,
            "layout": "IPY_MODEL_3f6459d7cbf246b3b97abcae4a832824",
            "placeholder": "​",
            "style": "IPY_MODEL_39310a7a12454821bc1107673feed6fb",
            "value": " 20.5k/20.5k [00:00&lt;00:00, 1.26MB/s]"
          }
        },
        "fbaa231ff7314f978c87701706f0d9ba": {
          "model_module": "@jupyter-widgets/base",
          "model_name": "LayoutModel",
          "model_module_version": "1.2.0",
          "state": {
            "_model_module": "@jupyter-widgets/base",
            "_model_module_version": "1.2.0",
            "_model_name": "LayoutModel",
            "_view_count": null,
            "_view_module": "@jupyter-widgets/base",
            "_view_module_version": "1.2.0",
            "_view_name": "LayoutView",
            "align_content": null,
            "align_items": null,
            "align_self": null,
            "border": null,
            "bottom": null,
            "display": null,
            "flex": null,
            "flex_flow": null,
            "grid_area": null,
            "grid_auto_columns": null,
            "grid_auto_flow": null,
            "grid_auto_rows": null,
            "grid_column": null,
            "grid_gap": null,
            "grid_row": null,
            "grid_template_areas": null,
            "grid_template_columns": null,
            "grid_template_rows": null,
            "height": null,
            "justify_content": null,
            "justify_items": null,
            "left": null,
            "margin": null,
            "max_height": null,
            "max_width": null,
            "min_height": null,
            "min_width": null,
            "object_fit": null,
            "object_position": null,
            "order": null,
            "overflow": null,
            "overflow_x": null,
            "overflow_y": null,
            "padding": null,
            "right": null,
            "top": null,
            "visibility": null,
            "width": null
          }
        },
        "46c2f249715843a8b7158f05e198400a": {
          "model_module": "@jupyter-widgets/base",
          "model_name": "LayoutModel",
          "model_module_version": "1.2.0",
          "state": {
            "_model_module": "@jupyter-widgets/base",
            "_model_module_version": "1.2.0",
            "_model_name": "LayoutModel",
            "_view_count": null,
            "_view_module": "@jupyter-widgets/base",
            "_view_module_version": "1.2.0",
            "_view_name": "LayoutView",
            "align_content": null,
            "align_items": null,
            "align_self": null,
            "border": null,
            "bottom": null,
            "display": null,
            "flex": null,
            "flex_flow": null,
            "grid_area": null,
            "grid_auto_columns": null,
            "grid_auto_flow": null,
            "grid_auto_rows": null,
            "grid_column": null,
            "grid_gap": null,
            "grid_row": null,
            "grid_template_areas": null,
            "grid_template_columns": null,
            "grid_template_rows": null,
            "height": null,
            "justify_content": null,
            "justify_items": null,
            "left": null,
            "margin": null,
            "max_height": null,
            "max_width": null,
            "min_height": null,
            "min_width": null,
            "object_fit": null,
            "object_position": null,
            "order": null,
            "overflow": null,
            "overflow_x": null,
            "overflow_y": null,
            "padding": null,
            "right": null,
            "top": null,
            "visibility": null,
            "width": null
          }
        },
        "21eb22ab021b45d7885121c7cbfc436a": {
          "model_module": "@jupyter-widgets/controls",
          "model_name": "DescriptionStyleModel",
          "model_module_version": "1.5.0",
          "state": {
            "_model_module": "@jupyter-widgets/controls",
            "_model_module_version": "1.5.0",
            "_model_name": "DescriptionStyleModel",
            "_view_count": null,
            "_view_module": "@jupyter-widgets/base",
            "_view_module_version": "1.2.0",
            "_view_name": "StyleView",
            "description_width": ""
          }
        },
        "31ef804f9a0d4d63983b443412ad7a85": {
          "model_module": "@jupyter-widgets/base",
          "model_name": "LayoutModel",
          "model_module_version": "1.2.0",
          "state": {
            "_model_module": "@jupyter-widgets/base",
            "_model_module_version": "1.2.0",
            "_model_name": "LayoutModel",
            "_view_count": null,
            "_view_module": "@jupyter-widgets/base",
            "_view_module_version": "1.2.0",
            "_view_name": "LayoutView",
            "align_content": null,
            "align_items": null,
            "align_self": null,
            "border": null,
            "bottom": null,
            "display": null,
            "flex": null,
            "flex_flow": null,
            "grid_area": null,
            "grid_auto_columns": null,
            "grid_auto_flow": null,
            "grid_auto_rows": null,
            "grid_column": null,
            "grid_gap": null,
            "grid_row": null,
            "grid_template_areas": null,
            "grid_template_columns": null,
            "grid_template_rows": null,
            "height": null,
            "justify_content": null,
            "justify_items": null,
            "left": null,
            "margin": null,
            "max_height": null,
            "max_width": null,
            "min_height": null,
            "min_width": null,
            "object_fit": null,
            "object_position": null,
            "order": null,
            "overflow": null,
            "overflow_x": null,
            "overflow_y": null,
            "padding": null,
            "right": null,
            "top": null,
            "visibility": null,
            "width": null
          }
        },
        "4beb2ac747624a0a93194dc69e06d4da": {
          "model_module": "@jupyter-widgets/controls",
          "model_name": "ProgressStyleModel",
          "model_module_version": "1.5.0",
          "state": {
            "_model_module": "@jupyter-widgets/controls",
            "_model_module_version": "1.5.0",
            "_model_name": "ProgressStyleModel",
            "_view_count": null,
            "_view_module": "@jupyter-widgets/base",
            "_view_module_version": "1.2.0",
            "_view_name": "StyleView",
            "bar_color": null,
            "description_width": ""
          }
        },
        "3f6459d7cbf246b3b97abcae4a832824": {
          "model_module": "@jupyter-widgets/base",
          "model_name": "LayoutModel",
          "model_module_version": "1.2.0",
          "state": {
            "_model_module": "@jupyter-widgets/base",
            "_model_module_version": "1.2.0",
            "_model_name": "LayoutModel",
            "_view_count": null,
            "_view_module": "@jupyter-widgets/base",
            "_view_module_version": "1.2.0",
            "_view_name": "LayoutView",
            "align_content": null,
            "align_items": null,
            "align_self": null,
            "border": null,
            "bottom": null,
            "display": null,
            "flex": null,
            "flex_flow": null,
            "grid_area": null,
            "grid_auto_columns": null,
            "grid_auto_flow": null,
            "grid_auto_rows": null,
            "grid_column": null,
            "grid_gap": null,
            "grid_row": null,
            "grid_template_areas": null,
            "grid_template_columns": null,
            "grid_template_rows": null,
            "height": null,
            "justify_content": null,
            "justify_items": null,
            "left": null,
            "margin": null,
            "max_height": null,
            "max_width": null,
            "min_height": null,
            "min_width": null,
            "object_fit": null,
            "object_position": null,
            "order": null,
            "overflow": null,
            "overflow_x": null,
            "overflow_y": null,
            "padding": null,
            "right": null,
            "top": null,
            "visibility": null,
            "width": null
          }
        },
        "39310a7a12454821bc1107673feed6fb": {
          "model_module": "@jupyter-widgets/controls",
          "model_name": "DescriptionStyleModel",
          "model_module_version": "1.5.0",
          "state": {
            "_model_module": "@jupyter-widgets/controls",
            "_model_module_version": "1.5.0",
            "_model_name": "DescriptionStyleModel",
            "_view_count": null,
            "_view_module": "@jupyter-widgets/base",
            "_view_module_version": "1.2.0",
            "_view_name": "StyleView",
            "description_width": ""
          }
        },
        "a7c49a66921d4d0c99079fdc8feac031": {
          "model_module": "@jupyter-widgets/controls",
          "model_name": "HBoxModel",
          "model_module_version": "1.5.0",
          "state": {
            "_dom_classes": [],
            "_model_module": "@jupyter-widgets/controls",
            "_model_module_version": "1.5.0",
            "_model_name": "HBoxModel",
            "_view_count": null,
            "_view_module": "@jupyter-widgets/controls",
            "_view_module_version": "1.5.0",
            "_view_name": "HBoxView",
            "box_style": "",
            "children": [
              "IPY_MODEL_5f24d9a00e6f4289a97c08907f625733",
              "IPY_MODEL_cf987966a3a74a9a8defad66e93e6ae3",
              "IPY_MODEL_8179abe01ba44fd09e177bf031b79017"
            ],
            "layout": "IPY_MODEL_8d8cf87886ab4f25985dde3f7c1638a2"
          }
        },
        "5f24d9a00e6f4289a97c08907f625733": {
          "model_module": "@jupyter-widgets/controls",
          "model_name": "HTMLModel",
          "model_module_version": "1.5.0",
          "state": {
            "_dom_classes": [],
            "_model_module": "@jupyter-widgets/controls",
            "_model_module_version": "1.5.0",
            "_model_name": "HTMLModel",
            "_view_count": null,
            "_view_module": "@jupyter-widgets/controls",
            "_view_module_version": "1.5.0",
            "_view_name": "HTMLView",
            "description": "",
            "description_tooltip": null,
            "layout": "IPY_MODEL_4461508dca3241e59fba38db0ae8eadd",
            "placeholder": "​",
            "style": "IPY_MODEL_585392666af54e569da7604de75b9c62",
            "value": "Downloading data: 100%"
          }
        },
        "cf987966a3a74a9a8defad66e93e6ae3": {
          "model_module": "@jupyter-widgets/controls",
          "model_name": "FloatProgressModel",
          "model_module_version": "1.5.0",
          "state": {
            "_dom_classes": [],
            "_model_module": "@jupyter-widgets/controls",
            "_model_module_version": "1.5.0",
            "_model_name": "FloatProgressModel",
            "_view_count": null,
            "_view_module": "@jupyter-widgets/controls",
            "_view_module_version": "1.5.0",
            "_view_name": "ProgressView",
            "bar_style": "success",
            "description": "",
            "description_tooltip": null,
            "layout": "IPY_MODEL_b61e56dd118e41d09aeb16b2eb16cea6",
            "max": 12009501,
            "min": 0,
            "orientation": "horizontal",
            "style": "IPY_MODEL_48632cce9d844b64b78c9dfcec7adf1b",
            "value": 12009501
          }
        },
        "8179abe01ba44fd09e177bf031b79017": {
          "model_module": "@jupyter-widgets/controls",
          "model_name": "HTMLModel",
          "model_module_version": "1.5.0",
          "state": {
            "_dom_classes": [],
            "_model_module": "@jupyter-widgets/controls",
            "_model_module_version": "1.5.0",
            "_model_name": "HTMLModel",
            "_view_count": null,
            "_view_module": "@jupyter-widgets/controls",
            "_view_module_version": "1.5.0",
            "_view_name": "HTMLView",
            "description": "",
            "description_tooltip": null,
            "layout": "IPY_MODEL_0525b78b9b3344c28b8a7fdaaab25fa2",
            "placeholder": "​",
            "style": "IPY_MODEL_b2ce847c9ea04ff4b090aa8af97d1ea3",
            "value": " 12.0M/12.0M [00:01&lt;00:00, 14.5MB/s]"
          }
        },
        "8d8cf87886ab4f25985dde3f7c1638a2": {
          "model_module": "@jupyter-widgets/base",
          "model_name": "LayoutModel",
          "model_module_version": "1.2.0",
          "state": {
            "_model_module": "@jupyter-widgets/base",
            "_model_module_version": "1.2.0",
            "_model_name": "LayoutModel",
            "_view_count": null,
            "_view_module": "@jupyter-widgets/base",
            "_view_module_version": "1.2.0",
            "_view_name": "LayoutView",
            "align_content": null,
            "align_items": null,
            "align_self": null,
            "border": null,
            "bottom": null,
            "display": null,
            "flex": null,
            "flex_flow": null,
            "grid_area": null,
            "grid_auto_columns": null,
            "grid_auto_flow": null,
            "grid_auto_rows": null,
            "grid_column": null,
            "grid_gap": null,
            "grid_row": null,
            "grid_template_areas": null,
            "grid_template_columns": null,
            "grid_template_rows": null,
            "height": null,
            "justify_content": null,
            "justify_items": null,
            "left": null,
            "margin": null,
            "max_height": null,
            "max_width": null,
            "min_height": null,
            "min_width": null,
            "object_fit": null,
            "object_position": null,
            "order": null,
            "overflow": null,
            "overflow_x": null,
            "overflow_y": null,
            "padding": null,
            "right": null,
            "top": null,
            "visibility": null,
            "width": null
          }
        },
        "4461508dca3241e59fba38db0ae8eadd": {
          "model_module": "@jupyter-widgets/base",
          "model_name": "LayoutModel",
          "model_module_version": "1.2.0",
          "state": {
            "_model_module": "@jupyter-widgets/base",
            "_model_module_version": "1.2.0",
            "_model_name": "LayoutModel",
            "_view_count": null,
            "_view_module": "@jupyter-widgets/base",
            "_view_module_version": "1.2.0",
            "_view_name": "LayoutView",
            "align_content": null,
            "align_items": null,
            "align_self": null,
            "border": null,
            "bottom": null,
            "display": null,
            "flex": null,
            "flex_flow": null,
            "grid_area": null,
            "grid_auto_columns": null,
            "grid_auto_flow": null,
            "grid_auto_rows": null,
            "grid_column": null,
            "grid_gap": null,
            "grid_row": null,
            "grid_template_areas": null,
            "grid_template_columns": null,
            "grid_template_rows": null,
            "height": null,
            "justify_content": null,
            "justify_items": null,
            "left": null,
            "margin": null,
            "max_height": null,
            "max_width": null,
            "min_height": null,
            "min_width": null,
            "object_fit": null,
            "object_position": null,
            "order": null,
            "overflow": null,
            "overflow_x": null,
            "overflow_y": null,
            "padding": null,
            "right": null,
            "top": null,
            "visibility": null,
            "width": null
          }
        },
        "585392666af54e569da7604de75b9c62": {
          "model_module": "@jupyter-widgets/controls",
          "model_name": "DescriptionStyleModel",
          "model_module_version": "1.5.0",
          "state": {
            "_model_module": "@jupyter-widgets/controls",
            "_model_module_version": "1.5.0",
            "_model_name": "DescriptionStyleModel",
            "_view_count": null,
            "_view_module": "@jupyter-widgets/base",
            "_view_module_version": "1.2.0",
            "_view_name": "StyleView",
            "description_width": ""
          }
        },
        "b61e56dd118e41d09aeb16b2eb16cea6": {
          "model_module": "@jupyter-widgets/base",
          "model_name": "LayoutModel",
          "model_module_version": "1.2.0",
          "state": {
            "_model_module": "@jupyter-widgets/base",
            "_model_module_version": "1.2.0",
            "_model_name": "LayoutModel",
            "_view_count": null,
            "_view_module": "@jupyter-widgets/base",
            "_view_module_version": "1.2.0",
            "_view_name": "LayoutView",
            "align_content": null,
            "align_items": null,
            "align_self": null,
            "border": null,
            "bottom": null,
            "display": null,
            "flex": null,
            "flex_flow": null,
            "grid_area": null,
            "grid_auto_columns": null,
            "grid_auto_flow": null,
            "grid_auto_rows": null,
            "grid_column": null,
            "grid_gap": null,
            "grid_row": null,
            "grid_template_areas": null,
            "grid_template_columns": null,
            "grid_template_rows": null,
            "height": null,
            "justify_content": null,
            "justify_items": null,
            "left": null,
            "margin": null,
            "max_height": null,
            "max_width": null,
            "min_height": null,
            "min_width": null,
            "object_fit": null,
            "object_position": null,
            "order": null,
            "overflow": null,
            "overflow_x": null,
            "overflow_y": null,
            "padding": null,
            "right": null,
            "top": null,
            "visibility": null,
            "width": null
          }
        },
        "48632cce9d844b64b78c9dfcec7adf1b": {
          "model_module": "@jupyter-widgets/controls",
          "model_name": "ProgressStyleModel",
          "model_module_version": "1.5.0",
          "state": {
            "_model_module": "@jupyter-widgets/controls",
            "_model_module_version": "1.5.0",
            "_model_name": "ProgressStyleModel",
            "_view_count": null,
            "_view_module": "@jupyter-widgets/base",
            "_view_module_version": "1.2.0",
            "_view_name": "StyleView",
            "bar_color": null,
            "description_width": ""
          }
        },
        "0525b78b9b3344c28b8a7fdaaab25fa2": {
          "model_module": "@jupyter-widgets/base",
          "model_name": "LayoutModel",
          "model_module_version": "1.2.0",
          "state": {
            "_model_module": "@jupyter-widgets/base",
            "_model_module_version": "1.2.0",
            "_model_name": "LayoutModel",
            "_view_count": null,
            "_view_module": "@jupyter-widgets/base",
            "_view_module_version": "1.2.0",
            "_view_name": "LayoutView",
            "align_content": null,
            "align_items": null,
            "align_self": null,
            "border": null,
            "bottom": null,
            "display": null,
            "flex": null,
            "flex_flow": null,
            "grid_area": null,
            "grid_auto_columns": null,
            "grid_auto_flow": null,
            "grid_auto_rows": null,
            "grid_column": null,
            "grid_gap": null,
            "grid_row": null,
            "grid_template_areas": null,
            "grid_template_columns": null,
            "grid_template_rows": null,
            "height": null,
            "justify_content": null,
            "justify_items": null,
            "left": null,
            "margin": null,
            "max_height": null,
            "max_width": null,
            "min_height": null,
            "min_width": null,
            "object_fit": null,
            "object_position": null,
            "order": null,
            "overflow": null,
            "overflow_x": null,
            "overflow_y": null,
            "padding": null,
            "right": null,
            "top": null,
            "visibility": null,
            "width": null
          }
        },
        "b2ce847c9ea04ff4b090aa8af97d1ea3": {
          "model_module": "@jupyter-widgets/controls",
          "model_name": "DescriptionStyleModel",
          "model_module_version": "1.5.0",
          "state": {
            "_model_module": "@jupyter-widgets/controls",
            "_model_module_version": "1.5.0",
            "_model_name": "DescriptionStyleModel",
            "_view_count": null,
            "_view_module": "@jupyter-widgets/base",
            "_view_module_version": "1.2.0",
            "_view_name": "StyleView",
            "description_width": ""
          }
        },
        "b4be7de771bd4f76a3cd7ba6bdd9865c": {
          "model_module": "@jupyter-widgets/controls",
          "model_name": "HBoxModel",
          "model_module_version": "1.5.0",
          "state": {
            "_dom_classes": [],
            "_model_module": "@jupyter-widgets/controls",
            "_model_module_version": "1.5.0",
            "_model_name": "HBoxModel",
            "_view_count": null,
            "_view_module": "@jupyter-widgets/controls",
            "_view_module_version": "1.5.0",
            "_view_name": "HBoxView",
            "box_style": "",
            "children": [
              "IPY_MODEL_c679f27e138349d8be54514116103fda",
              "IPY_MODEL_81fcbc6210fe451aa001d3da3865113d",
              "IPY_MODEL_120057868cdd41f4bff9c90145d17d24"
            ],
            "layout": "IPY_MODEL_495e55ba30344e80ac6d675b1cac517f"
          }
        },
        "c679f27e138349d8be54514116103fda": {
          "model_module": "@jupyter-widgets/controls",
          "model_name": "HTMLModel",
          "model_module_version": "1.5.0",
          "state": {
            "_dom_classes": [],
            "_model_module": "@jupyter-widgets/controls",
            "_model_module_version": "1.5.0",
            "_model_name": "HTMLModel",
            "_view_count": null,
            "_view_module": "@jupyter-widgets/controls",
            "_view_module_version": "1.5.0",
            "_view_name": "HTMLView",
            "description": "",
            "description_tooltip": null,
            "layout": "IPY_MODEL_0fb37ee150d4454bb695ca22295296cc",
            "placeholder": "​",
            "style": "IPY_MODEL_3c83af5d9cbb4823b6ac134da50fc54c",
            "value": "Generating train split: 100%"
          }
        },
        "81fcbc6210fe451aa001d3da3865113d": {
          "model_module": "@jupyter-widgets/controls",
          "model_name": "FloatProgressModel",
          "model_module_version": "1.5.0",
          "state": {
            "_dom_classes": [],
            "_model_module": "@jupyter-widgets/controls",
            "_model_module_version": "1.5.0",
            "_model_name": "FloatProgressModel",
            "_view_count": null,
            "_view_module": "@jupyter-widgets/controls",
            "_view_module_version": "1.5.0",
            "_view_name": "ProgressView",
            "bar_style": "success",
            "description": "",
            "description_tooltip": null,
            "layout": "IPY_MODEL_128b89cc758a41a69151e10827e102fe",
            "max": 127085,
            "min": 0,
            "orientation": "horizontal",
            "style": "IPY_MODEL_5704d5537da14b00b243fc78083f179a",
            "value": 127085
          }
        },
        "120057868cdd41f4bff9c90145d17d24": {
          "model_module": "@jupyter-widgets/controls",
          "model_name": "HTMLModel",
          "model_module_version": "1.5.0",
          "state": {
            "_dom_classes": [],
            "_model_module": "@jupyter-widgets/controls",
            "_model_module_version": "1.5.0",
            "_model_name": "HTMLModel",
            "_view_count": null,
            "_view_module": "@jupyter-widgets/controls",
            "_view_module_version": "1.5.0",
            "_view_name": "HTMLView",
            "description": "",
            "description_tooltip": null,
            "layout": "IPY_MODEL_a9c16726088c47138a047a6d0d26f64f",
            "placeholder": "​",
            "style": "IPY_MODEL_019fbf28af27447ba9bb9bdc9a5f0c7f",
            "value": " 127085/127085 [00:08&lt;00:00, 31619.54 examples/s]"
          }
        },
        "495e55ba30344e80ac6d675b1cac517f": {
          "model_module": "@jupyter-widgets/base",
          "model_name": "LayoutModel",
          "model_module_version": "1.2.0",
          "state": {
            "_model_module": "@jupyter-widgets/base",
            "_model_module_version": "1.2.0",
            "_model_name": "LayoutModel",
            "_view_count": null,
            "_view_module": "@jupyter-widgets/base",
            "_view_module_version": "1.2.0",
            "_view_name": "LayoutView",
            "align_content": null,
            "align_items": null,
            "align_self": null,
            "border": null,
            "bottom": null,
            "display": null,
            "flex": null,
            "flex_flow": null,
            "grid_area": null,
            "grid_auto_columns": null,
            "grid_auto_flow": null,
            "grid_auto_rows": null,
            "grid_column": null,
            "grid_gap": null,
            "grid_row": null,
            "grid_template_areas": null,
            "grid_template_columns": null,
            "grid_template_rows": null,
            "height": null,
            "justify_content": null,
            "justify_items": null,
            "left": null,
            "margin": null,
            "max_height": null,
            "max_width": null,
            "min_height": null,
            "min_width": null,
            "object_fit": null,
            "object_position": null,
            "order": null,
            "overflow": null,
            "overflow_x": null,
            "overflow_y": null,
            "padding": null,
            "right": null,
            "top": null,
            "visibility": null,
            "width": null
          }
        },
        "0fb37ee150d4454bb695ca22295296cc": {
          "model_module": "@jupyter-widgets/base",
          "model_name": "LayoutModel",
          "model_module_version": "1.2.0",
          "state": {
            "_model_module": "@jupyter-widgets/base",
            "_model_module_version": "1.2.0",
            "_model_name": "LayoutModel",
            "_view_count": null,
            "_view_module": "@jupyter-widgets/base",
            "_view_module_version": "1.2.0",
            "_view_name": "LayoutView",
            "align_content": null,
            "align_items": null,
            "align_self": null,
            "border": null,
            "bottom": null,
            "display": null,
            "flex": null,
            "flex_flow": null,
            "grid_area": null,
            "grid_auto_columns": null,
            "grid_auto_flow": null,
            "grid_auto_rows": null,
            "grid_column": null,
            "grid_gap": null,
            "grid_row": null,
            "grid_template_areas": null,
            "grid_template_columns": null,
            "grid_template_rows": null,
            "height": null,
            "justify_content": null,
            "justify_items": null,
            "left": null,
            "margin": null,
            "max_height": null,
            "max_width": null,
            "min_height": null,
            "min_width": null,
            "object_fit": null,
            "object_position": null,
            "order": null,
            "overflow": null,
            "overflow_x": null,
            "overflow_y": null,
            "padding": null,
            "right": null,
            "top": null,
            "visibility": null,
            "width": null
          }
        },
        "3c83af5d9cbb4823b6ac134da50fc54c": {
          "model_module": "@jupyter-widgets/controls",
          "model_name": "DescriptionStyleModel",
          "model_module_version": "1.5.0",
          "state": {
            "_model_module": "@jupyter-widgets/controls",
            "_model_module_version": "1.5.0",
            "_model_name": "DescriptionStyleModel",
            "_view_count": null,
            "_view_module": "@jupyter-widgets/base",
            "_view_module_version": "1.2.0",
            "_view_name": "StyleView",
            "description_width": ""
          }
        },
        "128b89cc758a41a69151e10827e102fe": {
          "model_module": "@jupyter-widgets/base",
          "model_name": "LayoutModel",
          "model_module_version": "1.2.0",
          "state": {
            "_model_module": "@jupyter-widgets/base",
            "_model_module_version": "1.2.0",
            "_model_name": "LayoutModel",
            "_view_count": null,
            "_view_module": "@jupyter-widgets/base",
            "_view_module_version": "1.2.0",
            "_view_name": "LayoutView",
            "align_content": null,
            "align_items": null,
            "align_self": null,
            "border": null,
            "bottom": null,
            "display": null,
            "flex": null,
            "flex_flow": null,
            "grid_area": null,
            "grid_auto_columns": null,
            "grid_auto_flow": null,
            "grid_auto_rows": null,
            "grid_column": null,
            "grid_gap": null,
            "grid_row": null,
            "grid_template_areas": null,
            "grid_template_columns": null,
            "grid_template_rows": null,
            "height": null,
            "justify_content": null,
            "justify_items": null,
            "left": null,
            "margin": null,
            "max_height": null,
            "max_width": null,
            "min_height": null,
            "min_width": null,
            "object_fit": null,
            "object_position": null,
            "order": null,
            "overflow": null,
            "overflow_x": null,
            "overflow_y": null,
            "padding": null,
            "right": null,
            "top": null,
            "visibility": null,
            "width": null
          }
        },
        "5704d5537da14b00b243fc78083f179a": {
          "model_module": "@jupyter-widgets/controls",
          "model_name": "ProgressStyleModel",
          "model_module_version": "1.5.0",
          "state": {
            "_model_module": "@jupyter-widgets/controls",
            "_model_module_version": "1.5.0",
            "_model_name": "ProgressStyleModel",
            "_view_count": null,
            "_view_module": "@jupyter-widgets/base",
            "_view_module_version": "1.2.0",
            "_view_name": "StyleView",
            "bar_color": null,
            "description_width": ""
          }
        },
        "a9c16726088c47138a047a6d0d26f64f": {
          "model_module": "@jupyter-widgets/base",
          "model_name": "LayoutModel",
          "model_module_version": "1.2.0",
          "state": {
            "_model_module": "@jupyter-widgets/base",
            "_model_module_version": "1.2.0",
            "_model_name": "LayoutModel",
            "_view_count": null,
            "_view_module": "@jupyter-widgets/base",
            "_view_module_version": "1.2.0",
            "_view_name": "LayoutView",
            "align_content": null,
            "align_items": null,
            "align_self": null,
            "border": null,
            "bottom": null,
            "display": null,
            "flex": null,
            "flex_flow": null,
            "grid_area": null,
            "grid_auto_columns": null,
            "grid_auto_flow": null,
            "grid_auto_rows": null,
            "grid_column": null,
            "grid_gap": null,
            "grid_row": null,
            "grid_template_areas": null,
            "grid_template_columns": null,
            "grid_template_rows": null,
            "height": null,
            "justify_content": null,
            "justify_items": null,
            "left": null,
            "margin": null,
            "max_height": null,
            "max_width": null,
            "min_height": null,
            "min_width": null,
            "object_fit": null,
            "object_position": null,
            "order": null,
            "overflow": null,
            "overflow_x": null,
            "overflow_y": null,
            "padding": null,
            "right": null,
            "top": null,
            "visibility": null,
            "width": null
          }
        },
        "019fbf28af27447ba9bb9bdc9a5f0c7f": {
          "model_module": "@jupyter-widgets/controls",
          "model_name": "DescriptionStyleModel",
          "model_module_version": "1.5.0",
          "state": {
            "_model_module": "@jupyter-widgets/controls",
            "_model_module_version": "1.5.0",
            "_model_name": "DescriptionStyleModel",
            "_view_count": null,
            "_view_module": "@jupyter-widgets/base",
            "_view_module_version": "1.2.0",
            "_view_name": "StyleView",
            "description_width": ""
          }
        }
      }
    }
  },
  "nbformat": 4,
  "nbformat_minor": 0
}