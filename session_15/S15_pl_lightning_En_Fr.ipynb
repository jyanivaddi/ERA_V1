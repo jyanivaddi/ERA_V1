{
 "cells": [
  {
   "cell_type": "markdown",
   "metadata": {
    "colab_type": "text",
    "id": "view-in-github"
   },
   "source": [
    "<a href=\"https://colab.research.google.com/github/jyanivaddi/ERA_V1/blob/master/session_15/S15.ipynb\" target=\"_parent\"><img src=\"https://colab.research.google.com/assets/colab-badge.svg\" alt=\"Open In Colab\"/></a>"
   ]
  },
  {
   "cell_type": "markdown",
   "metadata": {
    "id": "OZ4DqRTb9Ym8"
   },
   "source": [
    "First Connect Google Drive"
   ]
  },
  {
   "cell_type": "code",
   "execution_count": null,
   "metadata": {
    "colab": {
     "base_uri": "https://localhost:8080/"
    },
    "id": "TDhBByBZ8qi9",
    "outputId": "f84d600d-7735-4f6b-e826-05041631fa8e"
   },
   "outputs": [],
   "source": [
    "from google.colab import drive\n",
    "drive.mount('/content/gdrive/', force_remount=True)"
   ]
  },
  {
   "cell_type": "markdown",
   "metadata": {
    "id": "cgHQxuQMAJ5o"
   },
   "source": [
    "Install packages"
   ]
  },
  {
   "cell_type": "code",
   "execution_count": 1,
   "metadata": {
    "ExecuteTime": {
     "end_time": "2023-09-07T13:35:51.770541052Z",
     "start_time": "2023-09-07T13:35:32.503852140Z"
    },
    "colab": {
     "base_uri": "https://localhost:8080/"
    },
    "id": "VAOiUa_mAJVQ",
    "outputId": "b0f2ab9c-d179-441d-fdca-284c01631b13"
   },
   "outputs": [
    {
     "name": "stdout",
     "output_type": "stream",
     "text": [
      "fatal: destination path 'dl_hub' already exists and is not an empty directory.\r\n",
      "remote: Enumerating objects: 15, done.\u001b[K\r\n",
      "remote: Counting objects: 100% (15/15), done.\u001b[K\r\n",
      "remote: Compressing objects: 100% (10/10), done.\u001b[K\r\n",
      "remote: Total 10 (delta 8), reused 0 (delta 0), pack-reused 0\u001b[K\r\n",
      "Unpacking objects: 100% (10/10), 1.58 KiB | 405.00 KiB/s, done.\r\n",
      "From https://github.com/jyanivaddi/dl_hub\r\n",
      "   2af9fac..8e83b5e  main       -> origin/main\r\n",
      "Updating 2af9fac..8e83b5e\r\n",
      "Fast-forward\r\n",
      " Transformer/PL_data_module.py |  4 \u001b[32m++\u001b[m\u001b[31m--\u001b[m\r\n",
      " Transformer/PL_main.py        | 11 \u001b[32m+++\u001b[m\u001b[31m--------\u001b[m\r\n",
      " Transformer/PL_model.py       |  4 \u001b[32m++\u001b[m\u001b[31m--\u001b[m\r\n",
      " 3 files changed, 7 insertions(+), 12 deletions(-)\r\n",
      "Already up to date.\r\n",
      "\r\n",
      "\u001b[1m[\u001b[0m\u001b[34;49mnotice\u001b[0m\u001b[1;39;49m]\u001b[0m\u001b[39;49m A new release of pip available: \u001b[0m\u001b[31;49m22.3.1\u001b[0m\u001b[39;49m -> \u001b[0m\u001b[32;49m23.2.1\u001b[0m\r\n",
      "\u001b[1m[\u001b[0m\u001b[34;49mnotice\u001b[0m\u001b[1;39;49m]\u001b[0m\u001b[39;49m To update, run: \u001b[0m\u001b[32;49mpip install --upgrade pip\u001b[0m\r\n",
      "\r\n",
      "\u001b[1m[\u001b[0m\u001b[34;49mnotice\u001b[0m\u001b[1;39;49m]\u001b[0m\u001b[39;49m A new release of pip available: \u001b[0m\u001b[31;49m22.3.1\u001b[0m\u001b[39;49m -> \u001b[0m\u001b[32;49m23.2.1\u001b[0m\r\n",
      "\u001b[1m[\u001b[0m\u001b[34;49mnotice\u001b[0m\u001b[1;39;49m]\u001b[0m\u001b[39;49m To update, run: \u001b[0m\u001b[32;49mpip install --upgrade pip\u001b[0m\r\n",
      "\r\n",
      "\u001b[1m[\u001b[0m\u001b[34;49mnotice\u001b[0m\u001b[1;39;49m]\u001b[0m\u001b[39;49m A new release of pip available: \u001b[0m\u001b[31;49m22.3.1\u001b[0m\u001b[39;49m -> \u001b[0m\u001b[32;49m23.2.1\u001b[0m\r\n",
      "\u001b[1m[\u001b[0m\u001b[34;49mnotice\u001b[0m\u001b[1;39;49m]\u001b[0m\u001b[39;49m To update, run: \u001b[0m\u001b[32;49mpip install --upgrade pip\u001b[0m\r\n",
      "\r\n",
      "\u001b[1m[\u001b[0m\u001b[34;49mnotice\u001b[0m\u001b[1;39;49m]\u001b[0m\u001b[39;49m A new release of pip available: \u001b[0m\u001b[31;49m22.3.1\u001b[0m\u001b[39;49m -> \u001b[0m\u001b[32;49m23.2.1\u001b[0m\r\n",
      "\u001b[1m[\u001b[0m\u001b[34;49mnotice\u001b[0m\u001b[1;39;49m]\u001b[0m\u001b[39;49m To update, run: \u001b[0m\u001b[32;49mpip install --upgrade pip\u001b[0m\r\n",
      "\r\n",
      "\u001b[1m[\u001b[0m\u001b[34;49mnotice\u001b[0m\u001b[1;39;49m]\u001b[0m\u001b[39;49m A new release of pip available: \u001b[0m\u001b[31;49m22.3.1\u001b[0m\u001b[39;49m -> \u001b[0m\u001b[32;49m23.2.1\u001b[0m\r\n",
      "\u001b[1m[\u001b[0m\u001b[34;49mnotice\u001b[0m\u001b[1;39;49m]\u001b[0m\u001b[39;49m To update, run: \u001b[0m\u001b[32;49mpip install --upgrade pip\u001b[0m\r\n",
      "\r\n",
      "\u001b[1m[\u001b[0m\u001b[34;49mnotice\u001b[0m\u001b[1;39;49m]\u001b[0m\u001b[39;49m A new release of pip available: \u001b[0m\u001b[31;49m22.3.1\u001b[0m\u001b[39;49m -> \u001b[0m\u001b[32;49m23.2.1\u001b[0m\r\n",
      "\u001b[1m[\u001b[0m\u001b[34;49mnotice\u001b[0m\u001b[1;39;49m]\u001b[0m\u001b[39;49m To update, run: \u001b[0m\u001b[32;49mpip install --upgrade pip\u001b[0m\r\n"
     ]
    }
   ],
   "source": [
    "#!git clone \"https://github.com/jyanivaddi/ERA_V1.git\"\n",
    "#!git -C ERA_V1 pull\n",
    "#!cd ../\n",
    "!git clone \"https://github.com/jyanivaddi/dl_hub.git\"\n",
    "!git -C dl_hub pull\n",
    "!git pull\n",
    "#!cd ../\n",
    "\n",
    "!pip install --quiet \"torchinfo\" \"seaborn\" \"pytorch-lightning\" \"torchmetrics\" \"lightning-bolts\" \"torchtext\" \"datasets\" \"tokenizers\"\n",
    "!pip install --quiet \"prettytable\"\n",
    "!pip install --quiet \"torchsummary\"\n",
    "!pip install --quiet \"torch_lr_finder\"\n",
    "!pip install --quiet \"grad-cam\"\n",
    "!pip install --quiet \"gradio\""
   ]
  },
  {
   "cell_type": "code",
   "execution_count": 1,
   "metadata": {
    "ExecuteTime": {
     "end_time": "2023-09-07T14:01:43.252301020Z",
     "start_time": "2023-09-07T14:01:43.240008015Z"
    },
    "id": "ivBzl8YFPvJ0"
   },
   "outputs": [],
   "source": [
    "import sys\n",
    "sys.path.append(\"ERA_V1/session_15\")\n",
    "sys.path.append(\"dl_hub\")"
   ]
  },
  {
   "cell_type": "code",
   "execution_count": 3,
   "metadata": {
    "ExecuteTime": {
     "end_time": "2023-09-07T14:01:47.632625068Z",
     "start_time": "2023-09-07T14:01:46.605296677Z"
    },
    "colab": {
     "base_uri": "https://localhost:8080/"
    },
    "id": "n41Pe-b1J3mC",
    "outputId": "a8cbac66-45be-4bab-9e28-2db0da2b7505"
   },
   "outputs": [
    {
     "name": "stdout",
     "output_type": "stream",
     "text": [
      "Already up to date.\n"
     ]
    }
   ],
   "source": [
    "!git -C dl_hub pull\n"
   ]
  },
  {
   "cell_type": "code",
   "execution_count": 4,
   "metadata": {
    "ExecuteTime": {
     "end_time": "2023-09-07T14:01:55.924134628Z",
     "start_time": "2023-09-07T14:01:52.357441217Z"
    },
    "colab": {
     "base_uri": "https://localhost:8080/",
     "height": 470
    },
    "id": "x8WpKATx75Hu",
    "outputId": "53c19e59-1a97-4dc0-a2d7-2d31e3809f2f"
   },
   "outputs": [],
   "source": [
    "import torch\n",
    "import torch.nn as nn\n",
    "from torch.optim.lr_scheduler import OneCycleLR\n",
    "from dl_hub.Transformer.config import get_config\n",
    "from dl_hub.Transformer.PL_data_module import OpusDataModule\n",
    "from dl_hub.Transformer.PL_model import LitTransformer\n",
    "from dl_hub.Transformer.PL_main import train_transformer\n",
    "\n"
   ]
  },
  {
   "cell_type": "code",
   "execution_count": 5,
   "metadata": {
    "ExecuteTime": {
     "end_time": "2023-09-05T13:46:31.689626468Z",
     "start_time": "2023-09-05T13:46:29.547866667Z"
    },
    "collapsed": false,
    "jupyter": {
     "outputs_hidden": false
    }
   },
   "outputs": [],
   "source": [
    "#from config import get_config\n",
    "#from PL_data_module import OpusDataModule\n",
    "#from PL_model import LitTransformer\n",
    "#from PL_main import train_transformer\n"
   ]
  },
  {
   "cell_type": "markdown",
   "metadata": {
    "collapsed": false,
    "jupyter": {
     "outputs_hidden": false
    }
   },
   "source": [
    "**Finetune config params**"
   ]
  },
  {
   "cell_type": "code",
   "execution_count": 9,
   "metadata": {
    "ExecuteTime": {
     "end_time": "2023-09-07T14:01:58.355484352Z",
     "start_time": "2023-09-07T14:01:58.348147400Z"
    },
    "collapsed": false,
    "jupyter": {
     "outputs_hidden": false
    }
   },
   "outputs": [],
   "source": [
    "cfg = get_config()\n",
    "cfg[\"parameter_sharing\"] = True\n",
    "cfg[\"d_ff\"] = 1024\n",
    "cfg[\"batch_size\"] = 48\n",
    "cfg[\"d_model\"] = 512\n",
    "cfg[\"preload\"] = None\n",
    "cfg[\"num_epochs\"] = 40\n",
    "cfg[\"ds_mode\"] = 'disk'\n",
    "cfg[\"lang_tgt\"] = 'fr'\n",
    "cfg[\"ds_path\"] = \"/home/e183534/ERA_Datasets/OpusBooks_En_Fr\"\n",
    "cfg[\"save_ds_to_disk\"] = False\n",
    "cfg[\"experiment_name\"] = f\"tmodel_dynamic_pad_150_tokens_bs_{cfg['batch_size']}_amp_ps_dff_{cfg['d_ff']}\"\n",
    "\n"
   ]
  },
  {
   "cell_type": "markdown",
   "metadata": {
    "collapsed": false,
    "jupyter": {
     "outputs_hidden": false
    }
   },
   "source": [
    "**Mixed precision training**"
   ]
  },
  {
   "cell_type": "code",
   "execution_count": 10,
   "metadata": {
    "ExecuteTime": {
     "end_time": "2023-09-07T14:02:06.017925423Z",
     "start_time": "2023-09-07T14:02:05.988836307Z"
    },
    "collapsed": false,
    "jupyter": {
     "outputs_hidden": false
    }
   },
   "outputs": [
    {
     "data": {
      "text/plain": [
       "<torch.cuda.amp.autocast_mode.autocast at 0x7fe0f829dfd0>"
      ]
     },
     "execution_count": 10,
     "metadata": {},
     "output_type": "execute_result"
    }
   ],
   "source": [
    "torch.cuda.amp.autocast(enabled=True)"
   ]
  },
  {
   "cell_type": "markdown",
   "metadata": {
    "collapsed": false,
    "jupyter": {
     "outputs_hidden": false
    }
   },
   "source": [
    "**Define data module**"
   ]
  },
  {
   "cell_type": "code",
   "execution_count": 11,
   "metadata": {
    "ExecuteTime": {
     "end_time": "2023-09-07T14:02:18.876973423Z",
     "start_time": "2023-09-07T14:02:10.840404003Z"
    },
    "collapsed": false,
    "jupyter": {
     "outputs_hidden": false
    }
   },
   "outputs": [],
   "source": [
    "opus_dm = OpusDataModule(cfg)\n",
    "opus_dm.prepare_data()\n",
    "opus_dm.setup()\n",
    "train_data_loader = opus_dm.train_dataloader()\n",
    "#pp = next(iter(train_data_loader))"
   ]
  },
  {
   "cell_type": "markdown",
   "metadata": {
    "collapsed": false,
    "jupyter": {
     "outputs_hidden": false
    }
   },
   "source": [
    "**Define PL Model**"
   ]
  },
  {
   "cell_type": "code",
   "execution_count": 12,
   "metadata": {
    "ExecuteTime": {
     "end_time": "2023-09-07T14:02:20.913767401Z",
     "start_time": "2023-09-07T14:02:19.804106074Z"
    }
   },
   "outputs": [
    {
     "name": "stdout",
     "output_type": "stream",
     "text": [
      "Total Parameters: 61847890\n"
     ]
    }
   ],
   "source": [
    "tokenizer_src = opus_dm.tokenizer_src\n",
    "tokenizer_tgt = opus_dm.tokenizer_tgt\n",
    "loss_criterion = nn.CrossEntropyLoss(ignore_index=tokenizer_src.token_to_id('[PAD]'), label_smoothing=0.1)\n",
    "transformer_model = LitTransformer(cfg, loss_criterion, tokenizer_src, tokenizer_tgt, num_validation_examples=2, epochs = cfg['num_epochs'])\n",
    "optimizer = torch.optim.Adam(transformer_model.model.parameters(), lr=cfg['lr'], eps=1e-9)\n",
    "transformer_model.set_optimizer(optimizer)\n",
    "\n",
    "scheduler = OneCycleLR(\n",
    "    optimizer,\n",
    "    max_lr=1E-3,\n",
    "    steps_per_epoch=len(train_data_loader),\n",
    "    epochs=cfg['num_epochs'],\n",
    "    pct_start=5/cfg['num_epochs'],\n",
    "    div_factor=10,\n",
    "    three_phase=True,\n",
    "    final_div_factor=10,\n",
    "    anneal_strategy='linear'\n",
    ")\n",
    "transformer_model.set_scheduler_dict(scheduler, freq = 'step')"
   ]
  },
  {
   "cell_type": "code",
   "execution_count": 13,
   "metadata": {
    "ExecuteTime": {
     "start_time": "2023-09-07T14:02:28.310833807Z"
    }
   },
   "outputs": [
    {
     "name": "stderr",
     "output_type": "stream",
     "text": [
      "Using 16bit None Automatic Mixed Precision (AMP)\n",
      "GPU available: True (cuda), used: True\n",
      "TPU available: False, using: 0 TPU cores\n",
      "IPU available: False, using: 0 IPUs\n",
      "HPU available: False, using: 0 HPUs\n",
      "Missing logger folder: runs/tmodel_dynamic_pad_150_tokens_bs_48_amp_ps_dff_1024\n",
      "LOCAL_RANK: 0 - CUDA_VISIBLE_DEVICES: [0]\n",
      "\n",
      "  | Name           | Type             | Params\n",
      "----------------------------------------------------\n",
      "0 | loss_criterion | CrossEntropyLoss | 0     \n",
      "1 | model          | Transformer      | 61.8 M\n",
      "----------------------------------------------------\n",
      "61.8 M    Trainable params\n",
      "0         Non-trainable params\n",
      "61.8 M    Total params\n",
      "123.696   Total estimated model params size (MB)\n",
      "/home/e183534/ERA_V1/venv/lib/python3.8/site-packages/pytorch_lightning/trainer/connectors/data_connector.py:488: PossibleUserWarning: Your `val_dataloader`'s sampler has shuffling enabled, it is strongly recommended that you turn shuffling off for val/test/predict dataloaders.\n",
      "  rank_zero_warn(\n"
     ]
    },
    {
     "data": {
      "application/vnd.jupyter.widget-view+json": {
       "model_id": "dedb49393d104fbea420af5567cfd13e",
       "version_major": 2,
       "version_minor": 0
      },
      "text/plain": [
       "Training: 0it [00:00, ?it/s]"
      ]
     },
     "metadata": {},
     "output_type": "display_data"
    },
    {
     "data": {
      "application/vnd.jupyter.widget-view+json": {
       "model_id": "",
       "version_major": 2,
       "version_minor": 0
      },
      "text/plain": [
       "Validation: 0it [00:00, ?it/s]"
      ]
     },
     "metadata": {},
     "output_type": "display_data"
    },
    {
     "name": "stdout",
     "output_type": "stream",
     "text": [
      "*****************************************\n",
      "    SOURCE: He was in the same lounge I had to cross in order to escape.\n",
      "    TARGET: Il était dans ce salon que je devais traverser pour fuir.\n",
      " PREDICTED: Il était à la fois que je me à la maison .\n",
      "*****************************************\n",
      "\n",
      "*****************************************\n",
      "    SOURCE: He was no longer my equal, he was the Man of the Waters, the Spirit of the Seas.\n",
      "    TARGET: Ce n'était plus mon semblable, c'était l'homme des eaux, le génie des mers.\n",
      " PREDICTED: Il n ’ était plus plus que je l ’ de la rue de la rue de la maison , le .\n",
      "*****************************************\n",
      "\n"
     ]
    },
    {
     "name": "stderr",
     "output_type": "stream",
     "text": [
      "/home/e183534/ERA_V1/venv/lib/python3.8/site-packages/torchmetrics/utilities/prints.py:61: FutureWarning: Importing `CharErrorRate` from `torchmetrics` was deprecated and will be removed in 2.0. Import `CharErrorRate` from `torchmetrics.text` instead.\n",
      "  _future_warning(\n",
      "/home/e183534/ERA_V1/venv/lib/python3.8/site-packages/torchmetrics/utilities/prints.py:61: FutureWarning: Importing `WordErrorRate` from `torchmetrics` was deprecated and will be removed in 2.0. Import `WordErrorRate` from `torchmetrics.text` instead.\n",
      "  _future_warning(\n",
      "/home/e183534/ERA_V1/venv/lib/python3.8/site-packages/torchmetrics/utilities/prints.py:61: FutureWarning: Importing `BLEUScore` from `torchmetrics` was deprecated and will be removed in 2.0. Import `BLEUScore` from `torchmetrics.text` instead.\n",
      "  _future_warning(\n"
     ]
    },
    {
     "name": "stdout",
     "output_type": "stream",
     "text": [
      "Epoch 0: train_loss=4.8799\n"
     ]
    },
    {
     "data": {
      "application/vnd.jupyter.widget-view+json": {
       "model_id": "",
       "version_major": 2,
       "version_minor": 0
      },
      "text/plain": [
       "Validation: 0it [00:00, ?it/s]"
      ]
     },
     "metadata": {},
     "output_type": "display_data"
    },
    {
     "name": "stdout",
     "output_type": "stream",
     "text": [
      "*****************************************\n",
      "    SOURCE: Lady Catherine seemed pleased.\n",
      "    TARGET: Lady Catherine parut soulagée.\n",
      " PREDICTED: Charlotte parut .\n",
      "*****************************************\n",
      "\n",
      "*****************************************\n",
      "    SOURCE: Great Caesar crossed the river there, and the Roman legions camped upon its sloping uplands.\n",
      "    TARGET: Le grand César y traversa le fleuve, et les légions romaines camperent sur les pentes de ses rives.\n",
      " PREDICTED: la rivière , et le sur son .\n",
      "*****************************************\n",
      "\n",
      "Epoch 1: train_loss=4.1400\n"
     ]
    },
    {
     "data": {
      "application/vnd.jupyter.widget-view+json": {
       "model_id": "",
       "version_major": 2,
       "version_minor": 0
      },
      "text/plain": [
       "Validation: 0it [00:00, ?it/s]"
      ]
     },
     "metadata": {},
     "output_type": "display_data"
    },
    {
     "name": "stdout",
     "output_type": "stream",
     "text": [
      "*****************************************\n",
      "    SOURCE: One would have said that he felt that she was a delicate, exquisite, precious thing, made for other hands than his.\n",
      "    TARGET: On eût dit qu’il sentait que c’était une chose délicate, exquise et précieuse, faite pour d’autres mains que les siennes.\n",
      " PREDICTED: On eût dit qu ’ il se sentait bien , une chose , simple , naturelle , bien , que ses deux mains que ses mains .\n",
      "*****************************************\n",
      "\n",
      "*****************************************\n",
      "    SOURCE: We can therefore use up four horses as well as one.\n",
      "    TARGET: Nous crèverons donc aussi bien quatre chevaux qu'un.\n",
      " PREDICTED: Nous voulons donc quatre chevaux comme un .\n",
      "*****************************************\n",
      "\n",
      "Epoch 2: train_loss=3.7444\n"
     ]
    },
    {
     "data": {
      "application/vnd.jupyter.widget-view+json": {
       "model_id": "",
       "version_major": 2,
       "version_minor": 0
      },
      "text/plain": [
       "Validation: 0it [00:00, ?it/s]"
      ]
     },
     "metadata": {},
     "output_type": "display_data"
    },
    {
     "name": "stdout",
     "output_type": "stream",
     "text": [
      "*****************************************\n",
      "    SOURCE: She was a tall, well-made woman, who had been the beauty of the place, as the saying is in this mountain district.\n",
      "    TARGET: C’était une femme grande, bien faite, qui avait été la beauté du pays, comme on dit dans ces montagnes.\n",
      " PREDICTED: Elle était grande , belle femme faite , qui avait été la beauté du lieu , comme le disant dans cette montagne .\n",
      "*****************************************\n",
      "\n",
      "*****************************************\n",
      "    SOURCE: Suddenly Mme. Roland seemed to wake from a dream, to recall some remotefact, a thing almost forgotten that she had heard long ago, and of whichshe was not altogether sure. She inquired doubtingly:\n",
      "    TARGET: Mme Roland, tout à coup, parut sortir d'un rêve, se rappeler une choselointaine, presque oubliée, qu'elle avait entendue autrefois, dont ellen'était pas sûre d'ailleurs, et elle balbutia:\n",
      " PREDICTED: Brusquement , Mme Roland semblait réveiller d ' un rêve , de se rappeler quelque chose , une chose presque oubliée , qu ' elle entendait longtemps , et de n ' était pas tout simplement .\n",
      "*****************************************\n",
      "\n",
      "Epoch 3: train_loss=3.2709\n"
     ]
    },
    {
     "data": {
      "application/vnd.jupyter.widget-view+json": {
       "model_id": "",
       "version_major": 2,
       "version_minor": 0
      },
      "text/plain": [
       "Validation: 0it [00:00, ?it/s]"
      ]
     },
     "metadata": {},
     "output_type": "display_data"
    },
    {
     "name": "stdout",
     "output_type": "stream",
     "text": [
      "*****************************************\n",
      "    SOURCE: I gaped at the bizarre individual who had just spoken these words.\n",
      "    TARGET: Je regardai fixement le bizarre personnage qui me parlait ainsi.\n",
      " PREDICTED: Je reconnus dans le singulier personnage qui venait de dire ces paroles .\n",
      "*****************************************\n",
      "\n",
      "*****************************************\n",
      "    SOURCE: I promise not to go without you.'\n",
      "    TARGET: Je te promets de ne pas repartir sans toi.\n",
      " PREDICTED: Je ne vous promets pas de vous aller .\n",
      "*****************************************\n",
      "\n",
      "Epoch 4: train_loss=3.2186\n"
     ]
    },
    {
     "data": {
      "application/vnd.jupyter.widget-view+json": {
       "model_id": "",
       "version_major": 2,
       "version_minor": 0
      },
      "text/plain": [
       "Validation: 0it [00:00, ?it/s]"
      ]
     },
     "metadata": {},
     "output_type": "display_data"
    },
    {
     "name": "stdout",
     "output_type": "stream",
     "text": [
      "*****************************************\n",
      "    SOURCE: He found him charming from the first.\n",
      "    TARGET: Il le trouva charmant dès le premier abord.\n",
      " PREDICTED: Il le trouva charmant du premier .\n",
      "*****************************************\n",
      "\n",
      "*****************************************\n",
      "    SOURCE: \"I presume, sir,\" said he at last, \"that it was not merely for the purpose of examining my skull that you have done me the honour to call here last night and again to-day?\"\n",
      "    TARGET: « J’imagine, monsieur, que ce n’est pas uniquement dans le but d’examiner mon crâne que vous m’avez fait l’honneur de venir chez moi hier soir et à nouveau aujourd’hui ?\n",
      " PREDICTED: -- Je présume , monsieur , dit - il enfin , que ce n ' était pas pour le but d ' examiner mon crâne que vous m ' avez fait l ' honneur de appeler la nuit dernière et de revenir aujourd ' hui ?\n",
      "*****************************************\n",
      "\n",
      "Epoch 5: train_loss=3.5006\n"
     ]
    },
    {
     "data": {
      "application/vnd.jupyter.widget-view+json": {
       "model_id": "",
       "version_major": 2,
       "version_minor": 0
      },
      "text/plain": [
       "Validation: 0it [00:00, ?it/s]"
      ]
     },
     "metadata": {},
     "output_type": "display_data"
    },
    {
     "name": "stdout",
     "output_type": "stream",
     "text": [
      "*****************************************\n",
      "    SOURCE: \"Manage the matter as well as you can, my good man; it does not concern me, the more so as I have not a livre left.\"\n",
      "    TARGET: -- Arrange-toi avec lui, mon brave homme, cela ne me regarde pas, d'autant plus qu'il ne me reste pas une livre.\n",
      " PREDICTED: -- - vous aussi bien que vous pourrez , mon bon homme , et cela ne me regarde pas , plus que je n ' ai pas un domestique .\n",
      "*****************************************\n",
      "\n",
      "*****************************************\n",
      "    SOURCE: Un pareil avertissement était plus effrayant qu’aucune menace. Comment avait-il pu lui etre signifié jusque dans sa chambre ?\n",
      "    TARGET: The dash was more fear-inspiring than any threat could have been.\n",
      " PREDICTED: A of , however , that no had he been in his room ?\n",
      "*****************************************\n",
      "\n",
      "Epoch 6: train_loss=2.8855\n"
     ]
    },
    {
     "data": {
      "application/vnd.jupyter.widget-view+json": {
       "model_id": "",
       "version_major": 2,
       "version_minor": 0
      },
      "text/plain": [
       "Validation: 0it [00:00, ?it/s]"
      ]
     },
     "metadata": {},
     "output_type": "display_data"
    },
    {
     "name": "stdout",
     "output_type": "stream",
     "text": [
      "*****************************************\n",
      "    SOURCE: She dared not question him.\n",
      "    TARGET: Elle n’osa l’interroger.\n",
      " PREDICTED: Elle n ’ osait le interroger .\n",
      "*****************************************\n",
      "\n",
      "*****************************************\n",
      "    SOURCE: But when the blind man appeared as usual at the foot of the hill he exclaimed—\n",
      "    TARGET: Mais, quand l’Aveugle, comme d’habitude, apparut au bas de la côte, il s’écria:\n",
      " PREDICTED: Mais quand l ’ Aveugle parut s ’ exercer au pied de la côte , il s ’ écria :\n",
      "*****************************************\n",
      "\n",
      "Epoch 7: train_loss=2.4424\n"
     ]
    },
    {
     "data": {
      "application/vnd.jupyter.widget-view+json": {
       "model_id": "",
       "version_major": 2,
       "version_minor": 0
      },
      "text/plain": [
       "Validation: 0it [00:00, ?it/s]"
      ]
     },
     "metadata": {},
     "output_type": "display_data"
    },
    {
     "name": "stdout",
     "output_type": "stream",
     "text": [
      "*****************************************\n",
      "    SOURCE: And he pretended not to notice her melancholy sighs, nor the handkerchief she took out.\n",
      "    TARGET: Et il eut l’air de ne point remarquer ses soupirs mélancoliques, ni le mouchoir qu’elle tirait.\n",
      " PREDICTED: Et il fit semblant de ne pas remarquer sa tristesse morne , des soupirs , ni le mouchoir qu ' elle sortit .\n",
      "*****************************************\n",
      "\n",
      "*****************************************\n",
      "    SOURCE: His face was very red, and the folded blue paper which he carried in his hand shook and crackled in his excitement.\n",
      "    TARGET: Il avait la figure très rouge et dans son émotion, il froissait bruyamment le pli de papier bleu qu'il tenait à la main.\n",
      " PREDICTED: Sa figure était très rouge , et le papier plié en main de ses doigts et ses d ’ émotion .\n",
      "*****************************************\n",
      "\n",
      "Epoch 8: train_loss=2.6363\n"
     ]
    },
    {
     "data": {
      "application/vnd.jupyter.widget-view+json": {
       "model_id": "",
       "version_major": 2,
       "version_minor": 0
      },
      "text/plain": [
       "Validation: 0it [00:00, ?it/s]"
      ]
     },
     "metadata": {},
     "output_type": "display_data"
    },
    {
     "name": "stdout",
     "output_type": "stream",
     "text": [
      "*****************************************\n",
      "    SOURCE: None of them was the captain.\n",
      "    TARGET: Aucun n’était le capitaine.\n",
      " PREDICTED: Aucun d ' eux n ' était le capitaine .\n",
      "*****************************************\n",
      "\n",
      "*****************************************\n",
      "    SOURCE: It was to be such a secret!\"\n",
      "    TARGET: C’était un tel secret…\n",
      " PREDICTED: C ' était un pareil secret !\n",
      "*****************************************\n",
      "\n",
      "Epoch 9: train_loss=2.1514\n"
     ]
    },
    {
     "data": {
      "application/vnd.jupyter.widget-view+json": {
       "model_id": "",
       "version_major": 2,
       "version_minor": 0
      },
      "text/plain": [
       "Validation: 0it [00:00, ?it/s]"
      ]
     },
     "metadata": {},
     "output_type": "display_data"
    },
    {
     "name": "stdout",
     "output_type": "stream",
     "text": [
      "*****************************************\n",
      "    SOURCE: His only fear was that Milady would recognize in him the man of Meung and of Dover.\n",
      "    TARGET: Sa seule crainte était que Milady ne reconnût en lui l'homme de Meung et de Douvres.\n",
      " PREDICTED: Sa seule crainte était que Milady le reconnaissait dans lui l ' homme de Meung et de Douvres .\n",
      "*****************************************\n",
      "\n",
      "*****************************************\n",
      "    SOURCE: I am so very tired of being all alone here!'\n",
      "    TARGET: Je m’ennuie tant d’être ici toute seule. »\n",
      " PREDICTED: Je suis si fatiguée d ’ être tout seul ici ! »\n",
      "*****************************************\n",
      "\n",
      "Epoch 10: train_loss=2.1493\n"
     ]
    },
    {
     "data": {
      "application/vnd.jupyter.widget-view+json": {
       "model_id": "",
       "version_major": 2,
       "version_minor": 0
      },
      "text/plain": [
       "Validation: 0it [00:00, ?it/s]"
      ]
     },
     "metadata": {},
     "output_type": "display_data"
    },
    {
     "name": "stdout",
     "output_type": "stream",
     "text": [
      "*****************************************\n",
      "    SOURCE: The blade pierced deeply.\n",
      "    TARGET: La lame est entrée très avant.\n",
      " PREDICTED: La lame était percée .\n",
      "*****************************************\n",
      "\n",
      "*****************************************\n",
      "    SOURCE: \"And how much was the residue?\"\n",
      "    TARGET: – À combien se monte le reste ?\n",
      " PREDICTED: -- Et combien sont - ils à pleins poumons ?\n",
      "*****************************************\n",
      "\n",
      "Epoch 11: train_loss=2.0021\n"
     ]
    },
    {
     "data": {
      "application/vnd.jupyter.widget-view+json": {
       "model_id": "",
       "version_major": 2,
       "version_minor": 0
      },
      "text/plain": [
       "Validation: 0it [00:00, ?it/s]"
      ]
     },
     "metadata": {},
     "output_type": "display_data"
    },
    {
     "name": "stdout",
     "output_type": "stream",
     "text": [
      "*****************************************\n",
      "    SOURCE: The skiff was put at our disposal for the next morning.\n",
      "    TARGET: Le canot fut mis à notre disposition pour le lendemain matin.\n",
      " PREDICTED: Le canot fut mis à notre disposition pour le lendemain .\n",
      "*****************************************\n",
      "\n",
      "*****************************************\n",
      "    SOURCE: A quarter of an hour later, our trunks were ready.\n",
      "    TARGET: Un quart d'heure après, nos malles étaient prêtes.\n",
      " PREDICTED: Un quart d ' heure après , notre tronc fut prêt .\n",
      "*****************************************\n",
      "\n",
      "Epoch 12: train_loss=1.9954\n"
     ]
    },
    {
     "data": {
      "application/vnd.jupyter.widget-view+json": {
       "model_id": "",
       "version_major": 2,
       "version_minor": 0
      },
      "text/plain": [
       "Validation: 0it [00:00, ?it/s]"
      ]
     },
     "metadata": {},
     "output_type": "display_data"
    },
    {
     "name": "stdout",
     "output_type": "stream",
     "text": [
      "*****************************************\n",
      "    SOURCE: She spoke of Bébert, her youngster, killed by a bullet, and cried:\n",
      "    TARGET: Elle parla de Bébert, son gamin tué d'une balle, elle cria:\n",
      " PREDICTED: Elle parlait de Bébert , la jeune fille , morte d ' une balle , criait :\n",
      "*****************************************\n",
      "\n",
      "*****************************************\n",
      "    SOURCE: Maigrat's corpse alone made a patch of shadow on the white earth.\n",
      "    TARGET: Le cadavre de Maigrat faisait seul une tache d'ombre sur la terre blanche.\n",
      " PREDICTED: Seul , le cadavre de Maigrat suivait un coin d ' ombre sur la terre blanche .\n",
      "*****************************************\n",
      "\n",
      "Epoch 13: train_loss=1.8166\n"
     ]
    },
    {
     "data": {
      "application/vnd.jupyter.widget-view+json": {
       "model_id": "",
       "version_major": 2,
       "version_minor": 0
      },
      "text/plain": [
       "Validation: 0it [00:00, ?it/s]"
      ]
     },
     "metadata": {},
     "output_type": "display_data"
    },
    {
     "name": "stdout",
     "output_type": "stream",
     "text": [
      "*****************************************\n",
      "    SOURCE: CHAPTER XIII.\n",
      "    TARGET: XIII\n",
      " PREDICTED: XIII\n",
      "*****************************************\n",
      "\n",
      "*****************************************\n",
      "    SOURCE: \"In the king’s service?\"\n",
      "    TARGET: -- Pour le service du roi?\n",
      " PREDICTED: -- Au service du roi ?\n",
      "*****************************************\n",
      "\n",
      "Epoch 14: train_loss=1.9520\n"
     ]
    },
    {
     "data": {
      "application/vnd.jupyter.widget-view+json": {
       "model_id": "",
       "version_major": 2,
       "version_minor": 0
      },
      "text/plain": [
       "Validation: 0it [00:00, ?it/s]"
      ]
     },
     "metadata": {},
     "output_type": "display_data"
    },
    {
     "name": "stdout",
     "output_type": "stream",
     "text": [
      "*****************************************\n",
      "    SOURCE: Mustn't complain: every one hasn't the chance to work himself to death.\"\n",
      "    TARGET: Faut pas se plaindre, tous n'ont pas du travail a crever.\n",
      " PREDICTED: Les uns ne se pas : tout le monde n ' a pas la chance de se manger lui - même .\n",
      "*****************************************\n",
      "\n",
      "*****************************************\n",
      "    SOURCE: The following morning, Julien replied with great coolness to the worthy Fouque, who looked upon the matter of their partnership as settled, that his vocation to the sacred ministry of the altar did not allow him to accept.\n",
      "    TARGET: Le lendemain matin, Julien répondit d’un grand sang-froid au bon Fouqué, qui regardait l’affaire de l’association comme terminée, que sa vocation pour le saint ministère des autels ne lui permettait pas d’accepter.\n",
      " PREDICTED: Le lendemain matin , Julien répondit avec un grand sang - froid à l ’ digne Fouqué , qui avait l ’ affaire de leurs , que sa vocation au saint ministère de l ’ autel ne lui permettait pas d ’ accepter .\n",
      "*****************************************\n",
      "\n",
      "Epoch 15: train_loss=1.8030\n"
     ]
    },
    {
     "data": {
      "application/vnd.jupyter.widget-view+json": {
       "model_id": "",
       "version_major": 2,
       "version_minor": 0
      },
      "text/plain": [
       "Validation: 0it [00:00, ?it/s]"
      ]
     },
     "metadata": {},
     "output_type": "display_data"
    },
    {
     "name": "stdout",
     "output_type": "stream",
     "text": [
      "*****************************************\n",
      "    SOURCE: Oh, it is an admirable government, that is most certain!\n",
      "    TARGET: C'est une chose admirable que ce gouvernement.\n",
      " PREDICTED: Ah ! c ' est un gouvernement admirable , voilà qui est certain !\n",
      "*****************************************\n",
      "\n",
      "*****************************************\n",
      "    SOURCE: I wish you to believe that, and now I will listen to you.\"\n",
      "    TARGET: Je tenais à vous dire cela, et maintenant je vous écoute.»\n",
      " PREDICTED: Je veux que vous , et maintenant je vous .\n",
      "*****************************************\n",
      "\n",
      "Epoch 16: train_loss=1.8107\n"
     ]
    },
    {
     "data": {
      "application/vnd.jupyter.widget-view+json": {
       "model_id": "",
       "version_major": 2,
       "version_minor": 0
      },
      "text/plain": [
       "Validation: 0it [00:00, ?it/s]"
      ]
     },
     "metadata": {},
     "output_type": "display_data"
    },
    {
     "name": "stdout",
     "output_type": "stream",
     "text": [
      "*****************************************\n",
      "    SOURCE: I could not say anything to these people nor ask them anything. And I went back to resume my watch, to wait in vain, thinking at any moment to see the door open and the tall form of Meaulnes emerge.\n",
      "    TARGET: Et je retournai guetter encore, attendre en vain, pensant toujours voir la porte s’ouvrir et surgir enfin la haute silhouette d’Augustin.\n",
      " PREDICTED: Je ne pouvais dire à ces gens - là , ni ne les demander rien ; et je revins reprendre ma montre , attendre en vain , pensant à chaque instant la porte ouverte et la haute forme de Meaulnes .\n",
      "*****************************************\n",
      "\n",
      "*****************************************\n",
      "    SOURCE: We had again found the beautiful girl.\n",
      "    TARGET: Nous avions retrouvé la belle jeune fille.\n",
      " PREDICTED: Nous avions retrouvé la belle fille .\n",
      "*****************************************\n",
      "\n",
      "Epoch 17: train_loss=1.9469\n"
     ]
    },
    {
     "data": {
      "application/vnd.jupyter.widget-view+json": {
       "model_id": "",
       "version_major": 2,
       "version_minor": 0
      },
      "text/plain": [
       "Validation: 0it [00:00, ?it/s]"
      ]
     },
     "metadata": {},
     "output_type": "display_data"
    },
    {
     "name": "stdout",
     "output_type": "stream",
     "text": [
      "*****************************************\n",
      "    SOURCE: She thanked Suzanne for her attention. Although weakened, she talked, and had ceased wandering, but she spoke in a voice so full of sadness that at moments she was half choked.\n",
      "    TARGET: Elle remercia Suzanne de ses soins, elle parla, affaiblie, ne délirant plus, pleine d'une tristesse qui l'étouffait par moments.\n",
      " PREDICTED: Elle remercia Suzanne , bien que sa vue ; elle l ' , elle s ' était enfuie et ne se quittait pas , avec une voix si grande , que les moments ou elle suffoquait .\n",
      "*****************************************\n",
      "\n",
      "*****************************************\n",
      "    SOURCE: \"Then, upon seeing my Musketeers they changed their minds, and forgot their private hatred for partisan hatred; for your Majesty cannot be ignorant that the Musketeers, who belong to the king and nobody but the king, are the natural enemies of the Guardsmen, who belong to the cardinal.\"\n",
      "    TARGET: -- Alors, quand ils ont vu mes mousquetaires, ils ont changé d'idée et ils ont oublié leur haine particulière pour la haine de corps; car Votre Majesté n'ignore pas que les mousquetaires, qui sont au roi et rien qu'au roi, sont les ennemis naturels des gardes, qui sont à M. le cardinal.\n",
      " PREDICTED: -- Alors , en voyant mes mousquetaires , ils se leurs yeux , ils ont oublié la haine privée de la haine ; car Votre Majesté ne peut pas être ignorant que les mousquetaires , qui n ' étaient que le roi et non que le roi , sont les ennemis naturelles qui appartiennent au cardinal .\n",
      "*****************************************\n",
      "\n",
      "Epoch 18: train_loss=1.7368\n"
     ]
    },
    {
     "data": {
      "application/vnd.jupyter.widget-view+json": {
       "model_id": "",
       "version_major": 2,
       "version_minor": 0
      },
      "text/plain": [
       "Validation: 0it [00:00, ?it/s]"
      ]
     },
     "metadata": {},
     "output_type": "display_data"
    },
    {
     "name": "stdout",
     "output_type": "stream",
     "text": [
      "*****************************************\n",
      "    SOURCE: Little did they know what was waiting for them.\n",
      "    TARGET: Ils ne savaient pas ce qui les attendait.\n",
      " PREDICTED: Ils savaient ce que l ' on attendait .\n",
      "*****************************************\n",
      "\n",
      "*****************************************\n",
      "    SOURCE: « Cela est-il d’un mauvais présage pour moi ? » se disait-il.\n",
      "    TARGET: \"Is that a bad omen for me?\" he asked himself.\n",
      " PREDICTED: \" It is he of a bad for me ?\" he asked himself .\n",
      "*****************************************\n",
      "\n",
      "Epoch 19: train_loss=1.7512\n"
     ]
    },
    {
     "data": {
      "application/vnd.jupyter.widget-view+json": {
       "model_id": "",
       "version_major": 2,
       "version_minor": 0
      },
      "text/plain": [
       "Validation: 0it [00:00, ?it/s]"
      ]
     },
     "metadata": {},
     "output_type": "display_data"
    },
    {
     "name": "stdout",
     "output_type": "stream",
     "text": [
      "*****************************************\n",
      "    SOURCE: Everybody knows that the great reversed triangle of land, with its base in the north and its apex in the south, which is called India, embraces fourteen hundred thousand square miles, upon which is spread unequally a population of one hundred and eighty millions of souls.\n",
      "    TARGET: Personne n'ignore que l'Inde -- ce grand triangle renversé dont la base est au nord et la pointe au sud -- comprend une superficie de quatorze cent mille milles carrés, sur laquelle est inégalement répandue une population de cent quatre-vingts millions d'habitants.\n",
      " PREDICTED: Tout le monde sait que le grand triangle de terre , avec sa base au nord et sa boule de guerre au sud , qui est les dernières cent mille milles carrés , sur lesquels est une population de cent quatre - vingts millions de rente .\n",
      "*****************************************\n",
      "\n",
      "*****************************************\n",
      "    SOURCE: If the people had not been full of this lust for combat, it is certain that England must have been overborne.\n",
      "    TARGET: Si le peuple n'avait pas eu en surabondance cette humeur batailleuse, il est certain que l'Angleterre aurait succombé.\n",
      " PREDICTED: Si les gens n ’ avaient pas été pleins de ce combat pour la volonté , il est certain que l ’ Angleterre ait été plus .\n",
      "*****************************************\n",
      "\n",
      "Epoch 20: train_loss=1.8475\n"
     ]
    },
    {
     "data": {
      "application/vnd.jupyter.widget-view+json": {
       "model_id": "",
       "version_major": 2,
       "version_minor": 0
      },
      "text/plain": [
       "Validation: 0it [00:00, ?it/s]"
      ]
     },
     "metadata": {},
     "output_type": "display_data"
    },
    {
     "name": "stdout",
     "output_type": "stream",
     "text": [
      "*****************************************\n",
      "    SOURCE: I was not so much surprised with the lightning as I was with the thought which darted into my mind as swift as the lightning itself—Oh, my powder!\n",
      "    TARGET: La foudre m'épouvanta moins que cette pensée, qui traversa mon esprit avec la rapidité même de l'éclair: Ô ma poudre!...\n",
      " PREDICTED: Je ne fus pas si étonné de l ' éclair , comme je pensai qui s ' agitait dans mon esprit le rapide comme l ' éclair .\n",
      "*****************************************\n",
      "\n",
      "*****************************************\n",
      "    SOURCE: But when her mother was gone, Jane would not be prevailed on to go down without one of her sisters.\n",
      "    TARGET: Mais rien ne put décider Jane a descendre sans une de ses sours.\n",
      " PREDICTED: Mais quand sa mere fut partie , Jane ne devait pas etre la plus vite qu ’ un de ses sours .\n",
      "*****************************************\n",
      "\n",
      "Epoch 21: train_loss=1.8043\n"
     ]
    },
    {
     "data": {
      "application/vnd.jupyter.widget-view+json": {
       "model_id": "",
       "version_major": 2,
       "version_minor": 0
      },
      "text/plain": [
       "Validation: 0it [00:00, ?it/s]"
      ]
     },
     "metadata": {},
     "output_type": "display_data"
    },
    {
     "name": "stdout",
     "output_type": "stream",
     "text": [
      "*****************************************\n",
      "    SOURCE: After he had done, he says to her, 'Now han't you picked my pocket?'\n",
      "    TARGET: Après qu'il eut fini, il lui dit: --Voyons! ne m'as-tu point volé?\n",
      " PREDICTED: -- Tu ne peux pas lui en tenir ma poche ?\n",
      "*****************************************\n",
      "\n",
      "*****************************************\n",
      "    SOURCE: At last I hired Grace Poole from the Grimbsy Retreat.\n",
      "    TARGET: Enfin j'ai trouvé Grace Poole, à Grimsby-Retreat.\n",
      " PREDICTED: Enfin je pris grâce à Grace Poole .\n",
      "*****************************************\n",
      "\n",
      "Epoch 22: train_loss=1.7354\n"
     ]
    },
    {
     "data": {
      "application/vnd.jupyter.widget-view+json": {
       "model_id": "7437f340952a4a3dafbe9a25816c2cdc",
       "version_major": 2,
       "version_minor": 0
      },
      "text/plain": [
       "Validation: 0it [00:00, ?it/s]"
      ]
     },
     "metadata": {},
     "output_type": "display_data"
    },
    {
     "name": "stdout",
     "output_type": "stream",
     "text": [
      "*****************************************\n",
      "    SOURCE: He showed her the letter in which his mother told the event without any sentimental hypocrisy.\n",
      "    TARGET: Il lui montra la lettre où sa mère narrait l’événement, sans aucune hypocrisie sentimentale.\n",
      " PREDICTED: Il lui montra la lettre où sa mère disait l ’ événement sans une hypocrisie sentimentale .\n",
      "*****************************************\n",
      "\n",
      "*****************************************\n",
      "    SOURCE: Besides, Leon, could be security instead of her.\n",
      "    TARGET: D’ailleurs, Léon pouvait s’engager à sa place.\n",
      " PREDICTED: Du reste , Léon , peut - être la sécurité au lieu de sa sœur .\n",
      "*****************************************\n",
      "\n",
      "Epoch 23: train_loss=1.7165\n"
     ]
    },
    {
     "data": {
      "application/vnd.jupyter.widget-view+json": {
       "model_id": "791db830d7414b5eb8c9e4949ecf7852",
       "version_major": 2,
       "version_minor": 0
      },
      "text/plain": [
       "Validation: 0it [00:00, ?it/s]"
      ]
     },
     "metadata": {},
     "output_type": "display_data"
    },
    {
     "name": "stdout",
     "output_type": "stream",
     "text": [
      "*****************************************\n",
      "    SOURCE: The abbe Pirard, for all his gravity, laughed till the tears ran down his cheeks.\n",
      "    TARGET: L’abbé Pirard, malgré sa gravité, rit aux larmes.\n",
      " PREDICTED: L ’ abbé Pirard , pour toute sa gravité , pleura jusqu ’ aux larmes .\n",
      "*****************************************\n",
      "\n",
      "*****************************************\n",
      "    SOURCE: \"Begging master's pardon,\" Conseil answered, \"but this seems more like the Sommerard artifacts exhibition!\"\n",
      "    TARGET: -- S'il plaît à monsieur, répliqua Conseil, ce serait plutôt à l'hôtel du Sommerard !\n",
      " PREDICTED: -- Que monsieur me pardonne , répondit Conseil , mais ce semble mieux que l ' !\n",
      "*****************************************\n",
      "\n",
      "Epoch 24: train_loss=1.8258\n"
     ]
    },
    {
     "data": {
      "application/vnd.jupyter.widget-view+json": {
       "model_id": "6d727f92580c4532b16b67a00e92cc2a",
       "version_major": 2,
       "version_minor": 0
      },
      "text/plain": [
       "Validation: 0it [00:00, ?it/s]"
      ]
     },
     "metadata": {},
     "output_type": "display_data"
    },
    {
     "name": "stdout",
     "output_type": "stream",
     "text": [
      "*****************************************\n",
      "    SOURCE: At length the door opened, his name was called.\n",
      "    TARGET: Enfin, la porte s’ouvrit, on l’appela.\n",
      " PREDICTED: Enfin la porte s ' ouvrit , son nom fut demandé .\n",
      "*****************************************\n",
      "\n",
      "*****************************************\n",
      "    SOURCE: The greatest minds never realise their ideals in any matter; and Harris and I sighed over the hollowness of all earthly desires, and followed George.\n",
      "    TARGET: Les grands esprits ne réalisent jamais leurs idéaux en quoi que ce soit. Soupirant sur la vanité de tout désir terrestre, Harris et moi nous suivîmes George.\n",
      " PREDICTED: L ’ esprit ne pouvait songer a leur en rien . Harris et moi la de toutes les désirs terrestres et suivit George .\n",
      "*****************************************\n",
      "\n",
      "Epoch 25: train_loss=1.7810\n"
     ]
    },
    {
     "data": {
      "application/vnd.jupyter.widget-view+json": {
       "model_id": "b919c84f444f4995900316c976124c6d",
       "version_major": 2,
       "version_minor": 0
      },
      "text/plain": [
       "Validation: 0it [00:00, ?it/s]"
      ]
     },
     "metadata": {},
     "output_type": "display_data"
    },
    {
     "name": "stdout",
     "output_type": "stream",
     "text": [
      "*****************************************\n",
      "    SOURCE: Still, I could see no better course than to observe him from the hill, and to clear my conscience by confessing to him afterwards what I had done.\n",
      "    TARGET: Mais je ne voyais rien de mieux à faire que le surveiller de ma colline et par la suite de soulager ma conscience en lui confessant mon indiscrétion.\n",
      " PREDICTED: Cependant je ne pus voir mieux que de le observer du massif , et de creuser la conscience en lui de ce que j ' avais fait .\n",
      "*****************************************\n",
      "\n",
      "*****************************************\n",
      "    SOURCE: The essential thing is that it should be known throughout Verrieres that you are going to Valenod's, or to some other house, for the children's education.\n",
      "    TARGET: L’essentiel est que l’on croie à Verrières que tu vas entrer chez le Valenod, ou chez tout autre, pour l’éducation des enfants.\n",
      " PREDICTED: Il faut que l ’ on sache dans tout Verrières que vous allez chez les Valenod , ou à une autre maison , pour l ’ éducation des enfants .\n",
      "*****************************************\n",
      "\n",
      "Epoch 26: train_loss=1.8971\n"
     ]
    },
    {
     "data": {
      "application/vnd.jupyter.widget-view+json": {
       "model_id": "ded197b66790405da430fb41caf9689e",
       "version_major": 2,
       "version_minor": 0
      },
      "text/plain": [
       "Validation: 0it [00:00, ?it/s]"
      ]
     },
     "metadata": {},
     "output_type": "display_data"
    },
    {
     "name": "stdout",
     "output_type": "stream",
     "text": [
      "*****************************************\n",
      "    SOURCE: \"Now,\" said he, \"the sacrifice is consummated!\n",
      "    TARGET: «Maintenant, se dit-il, le sacrifice est consommé.\n",
      " PREDICTED: « Maintenant , dit - il , le sacrifice est !\n",
      "*****************************************\n",
      "\n",
      "*****************************************\n",
      "    SOURCE: I dared not say anything to my father. I was afraid he would say, \"You see I was right when I declared that this woman did not love you.\"\n",
      "    TARGET: Je n'osais entretenir mon père, je craignais toujours qu'il ne me dit: \"Tu vois que j'avais raison quand je niais l'amour de cette femme.\"\n",
      " PREDICTED: Je n ' osais pas dire à mon père ; j ' avais peur qu ' il disait : Tu vois bien que j ' ai dit que cette femme ne t ' aimait pas .\n",
      "*****************************************\n",
      "\n",
      "Epoch 27: train_loss=1.7397\n"
     ]
    },
    {
     "data": {
      "application/vnd.jupyter.widget-view+json": {
       "model_id": "",
       "version_major": 2,
       "version_minor": 0
      },
      "text/plain": [
       "Validation: 0it [00:00, ?it/s]"
      ]
     },
     "metadata": {},
     "output_type": "display_data"
    },
    {
     "name": "stdout",
     "output_type": "stream",
     "text": [
      "*****************************************\n",
      "    SOURCE: She gave a long sigh of satisfaction.\n",
      "    TARGET: Elle poussa un long soupir de satisfaction.\n",
      " PREDICTED: Elle eut un grand soupir de satisfaction .\n",
      "*****************************************\n",
      "\n",
      "*****************************************\n",
      "    SOURCE: There were Delouche, Denis, Giraudat, and all the others.\n",
      "    TARGET: Il y avait Delouche, Denis, Giraudat et tous les autres.\n",
      " PREDICTED: C ’ était Giraudat , le Denis , et tous les autres .\n",
      "*****************************************\n",
      "\n",
      "Epoch 28: train_loss=1.7475\n"
     ]
    },
    {
     "data": {
      "application/vnd.jupyter.widget-view+json": {
       "model_id": "",
       "version_major": 2,
       "version_minor": 0
      },
      "text/plain": [
       "Validation: 0it [00:00, ?it/s]"
      ]
     },
     "metadata": {},
     "output_type": "display_data"
    },
    {
     "name": "stdout",
     "output_type": "stream",
     "text": [
      "*****************************************\n",
      "    SOURCE: \"Child let me be the first to ascend.\"\n",
      "    TARGET: – Enfant, laisse-moi monter le premier.\n",
      " PREDICTED: – Enfant ! être pour monter un premier !\n",
      "*****************************************\n",
      "\n",
      "*****************************************\n",
      "    SOURCE: Jehan, allow yourself to be punished at the discretion of the master.\n",
      "    TARGET: Jehan, laissez-vous punir à la discrétion du maître.\n",
      " PREDICTED: Jehan , permettez - vous d ’ être puni à la discrétion du maître .\n",
      "*****************************************\n",
      "\n",
      "Epoch 29: train_loss=1.7300\n"
     ]
    },
    {
     "data": {
      "application/vnd.jupyter.widget-view+json": {
       "model_id": "",
       "version_major": 2,
       "version_minor": 0
      },
      "text/plain": [
       "Validation: 0it [00:00, ?it/s]"
      ]
     },
     "metadata": {},
     "output_type": "display_data"
    },
    {
     "name": "stdout",
     "output_type": "stream",
     "text": [
      "*****************************************\n",
      "    SOURCE: Do you hear it? It is running now.\"\n",
      "    TARGET: Entendez- vous? cela coule.»\n",
      " PREDICTED: Entendez - vous ! c ' est au plus maintenant !\n",
      "*****************************************\n",
      "\n",
      "*****************************************\n",
      "    SOURCE: His eyes were fixed on the tumbrel.\n",
      "    TARGET: Il avait les yeux fixés sur le tombereau.\n",
      " PREDICTED: Ses yeux étaient fixés sur le tombereau .\n",
      "*****************************************\n",
      "\n",
      "Epoch 30: train_loss=1.7552\n"
     ]
    },
    {
     "data": {
      "application/vnd.jupyter.widget-view+json": {
       "model_id": "",
       "version_major": 2,
       "version_minor": 0
      },
      "text/plain": [
       "Validation: 0it [00:00, ?it/s]"
      ]
     },
     "metadata": {},
     "output_type": "display_data"
    },
    {
     "name": "stdout",
     "output_type": "stream",
     "text": [
      "*****************************************\n",
      "    SOURCE: MARLOW. - BISHAM ABBEY. - THE MEDMENHAM MONKS. - MONTMORENCY THINKS HE WILL MURDER AN OLD TOM CAT. - BUT EVENTUALLY DECIDES THAT HE WILL LET IT LIVE. - SHAMEFUL CONDUCT OF A FOX TERRIER AT THE CIVIL SERVICE STORES. - OUR DEPARTURE FROM MARLOW. - AN IMPOSING PROCESSION. - THE STEAM LAUNCH, USEFUL RECEIPTS FOR ANNOYING AND HINDERING IT. - WE DECLINE TO DRINK THE RIVER. - A PEACEFUL DOG. - STRANGE DISAPPEARANCE OF HARRIS AND A PIE.\n",
      "    TARGET: MARLOW – L’ABBAYE DE BISHAM – LES MOINES DE MEDMENHAM – MONTMORENCY SONGE A TRUCIDER UN VIEUX MATOU, MAIS DÉCIDE FINALEMENT DE LE LAISSER VIVRE – CONDUITE SCANDALEUSE D’UN FOXTERRIER DANS UN GRAND MAGASIN. – NOTRE DÉPART DE MARLOW – UN CORTEGE IMPOSANT – LA CHALOUPE A VAPEUR, RECETTES PRATIQUES POUR LUI MENER LA VIE DURE – NOUS REFUSONS DE BOIRE L’EAU DE LA TAMISE – UN CHIEN PACIFIQUE – ÉTRANGE DISPARITION DE HARRIS ET D’UN PÂTÉ.\n",
      " PREDICTED: de . – LE . – DU . – Le temps . – DU SON BANJO . – UNE DE LA CONDUITE DE DEUX . – DU BANJO .\n",
      "*****************************************\n",
      "\n",
      "*****************************************\n",
      "    SOURCE: He closed his door against all, even against the bishop.\n",
      "    TARGET: Il ferma sa porte à tous, même à l’évêque.\n",
      " PREDICTED: Il ferma la porte contre tout , même contre l ’ évêque .\n",
      "*****************************************\n",
      "\n",
      "Epoch 31: train_loss=1.7393\n"
     ]
    },
    {
     "data": {
      "application/vnd.jupyter.widget-view+json": {
       "model_id": "",
       "version_major": 2,
       "version_minor": 0
      },
      "text/plain": [
       "Validation: 0it [00:00, ?it/s]"
      ]
     },
     "metadata": {},
     "output_type": "display_data"
    },
    {
     "name": "stdout",
     "output_type": "stream",
     "text": [
      "*****************************************\n",
      "    SOURCE: An elephant that belongs to an Indian who lives but a hundred steps from here.\"\n",
      "    TARGET: Un éléphant qui appartient à un Indien logé à cent pas d'ici.\n",
      " PREDICTED: Un éléphant est à un Indien qui ne vit que cent pas de là !\n",
      "*****************************************\n",
      "\n",
      "*****************************************\n",
      "    SOURCE: Source: Project GutenbergTranslation: Edward Vizetelly\n",
      "    TARGET: Source: Project Gutenberg\n",
      " PREDICTED: Source : Project Gutenberg\n",
      "*****************************************\n",
      "\n",
      "Epoch 32: train_loss=1.6587\n"
     ]
    },
    {
     "data": {
      "application/vnd.jupyter.widget-view+json": {
       "model_id": "",
       "version_major": 2,
       "version_minor": 0
      },
      "text/plain": [
       "Validation: 0it [00:00, ?it/s]"
      ]
     },
     "metadata": {},
     "output_type": "display_data"
    },
    {
     "name": "stdout",
     "output_type": "stream",
     "text": [
      "*****************************************\n",
      "    SOURCE: Little by little I understood that all was at an end, now that he wanted to complete his studies in Paris ; never again should I have my big brother with me !\n",
      "    TARGET: Peu à peu je comprenais que c’était bien fini puisqu’il voulait terminer ses études à Paris ; jamais plus je n’aurais avec moi mon grand camarade.\n",
      " PREDICTED: Peu à peu , je compris que tout était fini , maintenant qu ' il voulait briser ses études à Paris ; jamais je n ' aurais mon grand frère avec moi !\n",
      "*****************************************\n",
      "\n",
      "*****************************************\n",
      "    SOURCE: \"Twenty-five pistoles,\" said d’Artagnan.\n",
      "    TARGET: -- Vingt-cinq pistoles, dit d'Artagnan.\n",
      " PREDICTED: -- Vingt - cinq pistoles , dit d ' Artagnan .\n",
      "*****************************************\n",
      "\n",
      "Epoch 33: train_loss=1.8024\n"
     ]
    },
    {
     "data": {
      "application/vnd.jupyter.widget-view+json": {
       "model_id": "",
       "version_major": 2,
       "version_minor": 0
      },
      "text/plain": [
       "Validation: 0it [00:00, ?it/s]"
      ]
     },
     "metadata": {},
     "output_type": "display_data"
    },
    {
     "name": "stdout",
     "output_type": "stream",
     "text": [
      "*****************************************\n",
      "    SOURCE: Two hours of waiting were two centuries of torment.\n",
      "    TARGET: Deux heures d’attente furent deux siècles de tourments.\n",
      " PREDICTED: Deux heures d ' attente furent deux siècles de souffrance .\n",
      "*****************************************\n",
      "\n",
      "*****************************************\n",
      "    SOURCE: \"No, Professor Aronnax, the Nautilus isn't consigned to perdition.\n",
      "    TARGET: « D'ailleurs, monsieur Aronnax, le _Nautilus_ n'est pas en perdition.\n",
      " PREDICTED: -- Non , monsieur Aronnax , le _Nautilus_ n ' est pas plus facile à exécuter .\n",
      "*****************************************\n",
      "\n",
      "Epoch 34: train_loss=1.6516\n"
     ]
    },
    {
     "data": {
      "application/vnd.jupyter.widget-view+json": {
       "model_id": "",
       "version_major": 2,
       "version_minor": 0
      },
      "text/plain": [
       "Validation: 0it [00:00, ?it/s]"
      ]
     },
     "metadata": {},
     "output_type": "display_data"
    },
    {
     "name": "stdout",
     "output_type": "stream",
     "text": [
      "*****************************************\n",
      "    SOURCE: The old servants of the house suspected him to have been the son of the Baron's sister, by a very good sort of a gentleman of the neighborhood, whom that young lady refused to marry, because he could produce no more than threescore and eleven quarterings in his arms; the rest of the genealogical tree belonging to the family having been lost through the injuries of time.\n",
      "    TARGET: Les anciens domestiques de la maison soupçonnaient qu'il était fils de la soeur de monsieur le baron et d'un bon et honnête gentilhomme du voisinage, que cette demoiselle ne voulut jamais épouser parce qu'il n'avait pu prouver que soixante et onze quartiers, et que le reste de son arbre généalogique avait été perdu par l'injure du temps.\n",
      " PREDICTED: Les vieux domestiques de l ' hôtel le , auraient été la soeur de la sœur du baron , d ' une fort bonne personne du gentilhomme , que cette jeune dame ne se laissait pas épouser , parce qu ' il ne pouvait plus faire qu ' une somme en ses bras , le reste de l ' arbre soumis à l ' de la famille qu ' on avait perdu l ' équilibre de temps .\n",
      "*****************************************\n",
      "\n",
      "*****************************************\n",
      "    SOURCE: In the meanwhile the brig approached the islet, and it could be seen that she was endeavoring to make the lower end.\n",
      "    TARGET: Cependant, le brick s'était approché de l'îlot, et on put voir qu'il cherchait à en gagner l'extrémité inférieure.\n",
      " PREDICTED: Cependant , le brick s ' approcha de l ' îlot , et on le voyait qu ' elle allait faire essayer à la chute du plus .\n",
      "*****************************************\n",
      "\n",
      "Epoch 35: train_loss=1.6992\n"
     ]
    },
    {
     "data": {
      "application/vnd.jupyter.widget-view+json": {
       "model_id": "",
       "version_major": 2,
       "version_minor": 0
      },
      "text/plain": [
       "Validation: 0it [00:00, ?it/s]"
      ]
     },
     "metadata": {},
     "output_type": "display_data"
    },
    {
     "name": "stdout",
     "output_type": "stream",
     "text": [
      "*****************************************\n",
      "    SOURCE: We are simply going to place her under the protection of one of her relatives, a rich merchant at Hong Kong.\"\n",
      "    TARGET: Nous allons tout simplement la remettre aux soins de l'un de ses parents, riche négociant de Hong-Kong. »\n",
      " PREDICTED: Nous n ' allons donc pas , là , sous la protection d ' un de ses parents , un marchand de maison à Hong - Kong . »\n",
      "*****************************************\n",
      "\n",
      "*****************************************\n",
      "    SOURCE: \"But it is our own boat! she has broken her moorings, and floated down the current.\n",
      "    TARGET: «Mais c'est notre pirogue! Elle a rompu son amarre et elle a suivi le courant!\n",
      " PREDICTED: -- Mais c ’ est notre canot qui a brisé son amarre , elle se le courant .\n",
      "*****************************************\n",
      "\n",
      "Epoch 36: train_loss=1.7540\n"
     ]
    },
    {
     "data": {
      "application/vnd.jupyter.widget-view+json": {
       "model_id": "",
       "version_major": 2,
       "version_minor": 0
      },
      "text/plain": [
       "Validation: 0it [00:00, ?it/s]"
      ]
     },
     "metadata": {},
     "output_type": "display_data"
    },
    {
     "name": "stdout",
     "output_type": "stream",
     "text": [
      "*****************************************\n",
      "    SOURCE: But Lheureux, all the same, went on with his work, helped by a young girl of about thirteen, somewhat hunch-backed, who was at once his clerk and his servant.\n",
      "    TARGET: Lheureux n’en continua pas moins sa besogne, aidé par une jeune fille de treize ans environ, un peu bossue, et qui lui servait à la fois de commis et de cuisinière.\n",
      " PREDICTED: Mais Lheureux , qui se trouvait tout le même travail , aidait à une jeune fille de treize ans , fut un peu vexé , qui fut à la fois son greffier et son domestique .\n",
      "*****************************************\n",
      "\n",
      "*****************************************\n",
      "    SOURCE: He coughed, then declared that on his soul and conscience the unanimous opinion of the jury was that Julien Sorel was guilty of murder, and of murder with premeditation: this verdict inferred a sentence of death; it was pronounced a moment later.\n",
      "    TARGET: Il toussa, puis déclara qu’en son âme et conscience la déclaration unanime du jury était que Julien Sorel était coupable de meurtre, et de meurtre avec préméditation : cette déclaration entraînait la peine de mort ; elle fut prononcée un instant après.\n",
      " PREDICTED: Il toussa , puis déclara qu ’ en âme et conscience l ’ opinion qu ’ il avait coupable du jury , et que l ’ on apportait la préméditation , et que cette déclaration à mort ; c ’ était un moment après .\n",
      "*****************************************\n",
      "\n",
      "Epoch 37: train_loss=1.6544\n"
     ]
    },
    {
     "data": {
      "application/vnd.jupyter.widget-view+json": {
       "model_id": "",
       "version_major": 2,
       "version_minor": 0
      },
      "text/plain": [
       "Validation: 0it [00:00, ?it/s]"
      ]
     },
     "metadata": {},
     "output_type": "display_data"
    },
    {
     "name": "stdout",
     "output_type": "stream",
     "text": [
      "*****************************************\n",
      "    SOURCE: By the way, Tregellis, have you got your man for this fight yet?\"\n",
      "    TARGET: À propos, Tregellis, avez-vous trouvé déjà votre homme pour cette lutte?\n",
      " PREDICTED: À propos , Tregellis , vous avez reçu votre homme pour cette lutte ?\n",
      "*****************************************\n",
      "\n",
      "*****************************************\n",
      "    SOURCE: But many centuries have passed since then, and this submerged volcano has changed into a peaceful cavern.\"\n",
      "    TARGET: Mais bien des siècles se sont écoulés depuis lors, et le volcan submergé s'est changé en grotte paisible.\n",
      " PREDICTED: Mais de siècles ont passé depuis lors , et ce volcan s ' est changé en caverne paisible .\n",
      "*****************************************\n",
      "\n",
      "Epoch 38: train_loss=1.6510\n"
     ]
    },
    {
     "data": {
      "application/vnd.jupyter.widget-view+json": {
       "model_id": "",
       "version_major": 2,
       "version_minor": 0
      },
      "text/plain": [
       "Validation: 0it [00:00, ?it/s]"
      ]
     },
     "metadata": {},
     "output_type": "display_data"
    },
    {
     "name": "stdout",
     "output_type": "stream",
     "text": [
      "*****************************************\n",
      "    SOURCE: All the valley at my right hand was full of pasture- fields, and cornfields, and wood; and a glittering stream ran zig-zag through the varied shades of green, the mellowing grain, the sombre woodland, the clear and sunny lea.\n",
      "    TARGET: À ma droite, la vallée était remplie de pâturages, de bois et de champs de grains; un ruisseau tortueux coulait au milieu du feuillage aux teintes variées, des champs mûrs, de sombres forêts et des prairies éclairées par le soleil.\n",
      " PREDICTED: Toute la vallée à ma droite était à plein de bateaux à bateaux , et de très en bois . Un ruisseau coulait à travers les ombres brusques ombres du vert genre vert et le temps triste , le léger et .\n",
      "*****************************************\n",
      "\n",
      "*****************************************\n",
      "    SOURCE: Two old friends mustn't fall out over such a--well, there, I won't say it.\n",
      "    TARGET: Deux vieux amis qui se prennent corps à corps pour une... Non, je ne le dirai pas.\n",
      " PREDICTED: Deux anciens ne tenaient pas a demi - voix , et là , je ne dis pas .\n",
      "*****************************************\n",
      "\n",
      "Epoch 39: train_loss=1.6047\n"
     ]
    },
    {
     "name": "stderr",
     "output_type": "stream",
     "text": [
      "`Trainer.fit` stopped: `max_epochs=40` reached.\n",
      "LOCAL_RANK: 0 - CUDA_VISIBLE_DEVICES: [0]\n",
      "/home/e183534/ERA_V1/venv/lib/python3.8/site-packages/pytorch_lightning/trainer/connectors/data_connector.py:488: PossibleUserWarning: Your `test_dataloader`'s sampler has shuffling enabled, it is strongly recommended that you turn shuffling off for val/test/predict dataloaders.\n",
      "  rank_zero_warn(\n"
     ]
    },
    {
     "data": {
      "application/vnd.jupyter.widget-view+json": {
       "model_id": "c20b5f95bb37466288204a9996a30d2f",
       "version_major": 2,
       "version_minor": 0
      },
      "text/plain": [
       "Testing: 0it [00:00, ?it/s]"
      ]
     },
     "metadata": {},
     "output_type": "display_data"
    },
    {
     "name": "stdout",
     "output_type": "stream",
     "text": [
      "*****************************************\n",
      "    SOURCE: Her pretty Djali followed her.\n",
      "    TARGET: Sa jolie Djali la suivait.\n",
      " PREDICTED: Sa jolie Djali la suivait .\n",
      "*****************************************\n",
      "\n",
      "*****************************************\n",
      "    SOURCE: This unsettled demeanour alarmed him, for he guessed, in part, what her struggles and troubles must be like.\n",
      "    TARGET: L'indécision où il la voyait l'effrayait, car il devinait en partie ses luttes et ses troubles.\n",
      " PREDICTED: Cet entêtement l ' effraya , car il devina les jours , quelles que ses chagrins pouvaient être comme chacun .\n",
      "*****************************************\n",
      "\n"
     ]
    },
    {
     "data": {
      "text/plain": [
       "<pytorch_lightning.trainer.trainer.Trainer at 0x7fe0e9ad66a0>"
      ]
     },
     "execution_count": 13,
     "metadata": {},
     "output_type": "execute_result"
    }
   ],
   "source": [
    "train_transformer(transformer_model, opus_dm, cfg, epochs=cfg['num_epochs'])"
   ]
  },
  {
   "cell_type": "code",
   "execution_count": 26,
   "metadata": {},
   "outputs": [
    {
     "name": "stdout",
     "output_type": "stream",
     "text": [
      "Total Parameters: 61847890\n"
     ]
    }
   ],
   "source": [
    "loss_fn = nn.CrossEntropyLoss(ignore_index=tokenizer_src.token_to_id('[PAD]'), label_smoothing=0.1)\n",
    "trained_transformer_model = LitTransformer(cfg, loss_fn, tokenizer_src, tokenizer_tgt, num_validation_examples=2, epochs = cfg['num_epochs'])\n",
    "#optimizer = torch.optim.Adam(trained_transformer_model.model.parameters(), lr=cfg['lr'], eps=1e-9)\n",
    "#trained_transformer_model.set_optimizer(optimizer)\n",
    "\n",
    "#scheduler = OneCycleLR(\n",
    "#    optimizer,\n",
    "#    max_lr=1E-3,\n",
    "#    steps_per_epoch=len(train_data_loader),\n",
    "#    epochs=cfg['num_epochs'],\n",
    "#    pct_start=5/cfg['num_epochs'],\n",
    "#    div_factor=10,\n",
    "#    three_phase=True,\n",
    "#    final_div_factor=10,\n",
    "#    anneal_strategy='linear'\n",
    "#)\n",
    "#transformer_model.set_scheduler_dict(scheduler, freq = 'step')"
   ]
  },
  {
   "cell_type": "code",
   "execution_count": 33,
   "metadata": {},
   "outputs": [
    {
     "ename": "TypeError",
     "evalue": "__init__() missing 1 required positional argument: 'loss_criterion'",
     "output_type": "error",
     "traceback": [
      "\u001b[0;31m---------------------------------------------------------------------------\u001b[0m",
      "\u001b[0;31mTypeError\u001b[0m                                 Traceback (most recent call last)",
      "Cell \u001b[0;32mIn[33], line 2\u001b[0m\n\u001b[1;32m      1\u001b[0m model_path \u001b[38;5;241m=\u001b[39m \u001b[38;5;124m\"\u001b[39m\u001b[38;5;124m./weights/tmodel_38.ckpt\u001b[39m\u001b[38;5;124m\"\u001b[39m\n\u001b[0;32m----> 2\u001b[0m \u001b[43mLitTransformer\u001b[49m\u001b[38;5;241;43m.\u001b[39;49m\u001b[43mload_from_checkpoint\u001b[49m\u001b[43m(\u001b[49m\u001b[43mmodel_path\u001b[49m\u001b[43m,\u001b[49m\u001b[43m \u001b[49m\u001b[43mmap_location\u001b[49m\u001b[38;5;241;43m=\u001b[39;49m\u001b[43mtorch\u001b[49m\u001b[38;5;241;43m.\u001b[39;49m\u001b[43mdevice\u001b[49m\u001b[43m(\u001b[49m\u001b[38;5;124;43m'\u001b[39;49m\u001b[38;5;124;43mcuda\u001b[39;49m\u001b[38;5;124;43m'\u001b[39;49m\u001b[43m)\u001b[49m\u001b[43m)\u001b[49m\n",
      "File \u001b[0;32m~/ERA_V1/venv/lib/python3.8/site-packages/pytorch_lightning/core/saving.py:139\u001b[0m, in \u001b[0;36mModelIO.load_from_checkpoint\u001b[0;34m(cls, checkpoint_path, map_location, hparams_file, strict, **kwargs)\u001b[0m\n\u001b[1;32m     59\u001b[0m \u001b[38;5;129m@classmethod\u001b[39m\n\u001b[1;32m     60\u001b[0m \u001b[38;5;28;01mdef\u001b[39;00m \u001b[38;5;21mload_from_checkpoint\u001b[39m(\n\u001b[1;32m     61\u001b[0m     \u001b[38;5;28mcls\u001b[39m,\n\u001b[0;32m   (...)\u001b[0m\n\u001b[1;32m     66\u001b[0m     \u001b[38;5;241m*\u001b[39m\u001b[38;5;241m*\u001b[39mkwargs: Any,\n\u001b[1;32m     67\u001b[0m ) \u001b[38;5;241m-\u001b[39m\u001b[38;5;241m>\u001b[39m Self:\n\u001b[1;32m     68\u001b[0m \u001b[38;5;250m    \u001b[39m\u001b[38;5;124mr\u001b[39m\u001b[38;5;124;03m\"\"\"\u001b[39;00m\n\u001b[1;32m     69\u001b[0m \u001b[38;5;124;03m    Primary way of loading a model from a checkpoint. When Lightning saves a checkpoint\u001b[39;00m\n\u001b[1;32m     70\u001b[0m \u001b[38;5;124;03m    it stores the arguments passed to ``__init__``  in the checkpoint under ``\"hyper_parameters\"``.\u001b[39;00m\n\u001b[0;32m   (...)\u001b[0m\n\u001b[1;32m    137\u001b[0m \u001b[38;5;124;03m        y_hat = pretrained_model(x)\u001b[39;00m\n\u001b[1;32m    138\u001b[0m \u001b[38;5;124;03m    \"\"\"\u001b[39;00m\n\u001b[0;32m--> 139\u001b[0m     \u001b[38;5;28;01mreturn\u001b[39;00m \u001b[43m_load_from_checkpoint\u001b[49m\u001b[43m(\u001b[49m\u001b[43m  \u001b[49m\u001b[38;5;66;43;03m# type: ignore[return-value]\u001b[39;49;00m\n\u001b[1;32m    140\u001b[0m \u001b[43m        \u001b[49m\u001b[38;5;28;43mcls\u001b[39;49m\u001b[43m,\u001b[49m\n\u001b[1;32m    141\u001b[0m \u001b[43m        \u001b[49m\u001b[43mcheckpoint_path\u001b[49m\u001b[43m,\u001b[49m\n\u001b[1;32m    142\u001b[0m \u001b[43m        \u001b[49m\u001b[43mmap_location\u001b[49m\u001b[43m,\u001b[49m\n\u001b[1;32m    143\u001b[0m \u001b[43m        \u001b[49m\u001b[43mhparams_file\u001b[49m\u001b[43m,\u001b[49m\n\u001b[1;32m    144\u001b[0m \u001b[43m        \u001b[49m\u001b[43mstrict\u001b[49m\u001b[43m,\u001b[49m\n\u001b[1;32m    145\u001b[0m \u001b[43m        \u001b[49m\u001b[38;5;241;43m*\u001b[39;49m\u001b[38;5;241;43m*\u001b[39;49m\u001b[43mkwargs\u001b[49m\u001b[43m,\u001b[49m\n\u001b[1;32m    146\u001b[0m \u001b[43m    \u001b[49m\u001b[43m)\u001b[49m\n",
      "File \u001b[0;32m~/ERA_V1/venv/lib/python3.8/site-packages/pytorch_lightning/core/saving.py:188\u001b[0m, in \u001b[0;36m_load_from_checkpoint\u001b[0;34m(cls, checkpoint_path, map_location, hparams_file, strict, **kwargs)\u001b[0m\n\u001b[1;32m    186\u001b[0m     \u001b[38;5;28;01mreturn\u001b[39;00m _load_state(\u001b[38;5;28mcls\u001b[39m, checkpoint, \u001b[38;5;241m*\u001b[39m\u001b[38;5;241m*\u001b[39mkwargs)\n\u001b[1;32m    187\u001b[0m \u001b[38;5;28;01mif\u001b[39;00m \u001b[38;5;28missubclass\u001b[39m(\u001b[38;5;28mcls\u001b[39m, pl\u001b[38;5;241m.\u001b[39mLightningModule):\n\u001b[0;32m--> 188\u001b[0m     \u001b[38;5;28;01mreturn\u001b[39;00m \u001b[43m_load_state\u001b[49m\u001b[43m(\u001b[49m\u001b[38;5;28;43mcls\u001b[39;49m\u001b[43m,\u001b[49m\u001b[43m \u001b[49m\u001b[43mcheckpoint\u001b[49m\u001b[43m,\u001b[49m\u001b[43m \u001b[49m\u001b[43mstrict\u001b[49m\u001b[38;5;241;43m=\u001b[39;49m\u001b[43mstrict\u001b[49m\u001b[43m,\u001b[49m\u001b[43m \u001b[49m\u001b[38;5;241;43m*\u001b[39;49m\u001b[38;5;241;43m*\u001b[39;49m\u001b[43mkwargs\u001b[49m\u001b[43m)\u001b[49m\n\u001b[1;32m    189\u001b[0m \u001b[38;5;28;01mraise\u001b[39;00m \u001b[38;5;167;01mNotImplementedError\u001b[39;00m(\u001b[38;5;124mf\u001b[39m\u001b[38;5;124m\"\u001b[39m\u001b[38;5;124mUnsupported \u001b[39m\u001b[38;5;132;01m{\u001b[39;00m\u001b[38;5;28mcls\u001b[39m\u001b[38;5;132;01m}\u001b[39;00m\u001b[38;5;124m\"\u001b[39m)\n",
      "File \u001b[0;32m~/ERA_V1/venv/lib/python3.8/site-packages/pytorch_lightning/core/saving.py:234\u001b[0m, in \u001b[0;36m_load_state\u001b[0;34m(cls, checkpoint, strict, **cls_kwargs_new)\u001b[0m\n\u001b[1;32m    230\u001b[0m \u001b[38;5;28;01mif\u001b[39;00m \u001b[38;5;129;01mnot\u001b[39;00m cls_spec\u001b[38;5;241m.\u001b[39mvarkw:\n\u001b[1;32m    231\u001b[0m     \u001b[38;5;66;03m# filter kwargs according to class init unless it allows any argument via kwargs\u001b[39;00m\n\u001b[1;32m    232\u001b[0m     _cls_kwargs \u001b[38;5;241m=\u001b[39m {k: v \u001b[38;5;28;01mfor\u001b[39;00m k, v \u001b[38;5;129;01min\u001b[39;00m _cls_kwargs\u001b[38;5;241m.\u001b[39mitems() \u001b[38;5;28;01mif\u001b[39;00m k \u001b[38;5;129;01min\u001b[39;00m cls_init_args_name}\n\u001b[0;32m--> 234\u001b[0m obj \u001b[38;5;241m=\u001b[39m \u001b[38;5;28;43mcls\u001b[39;49m\u001b[43m(\u001b[49m\u001b[38;5;241;43m*\u001b[39;49m\u001b[38;5;241;43m*\u001b[39;49m\u001b[43m_cls_kwargs\u001b[49m\u001b[43m)\u001b[49m\n\u001b[1;32m    236\u001b[0m \u001b[38;5;28;01mif\u001b[39;00m \u001b[38;5;28misinstance\u001b[39m(obj, pl\u001b[38;5;241m.\u001b[39mLightningModule):\n\u001b[1;32m    237\u001b[0m     \u001b[38;5;66;03m# give model a chance to load something\u001b[39;00m\n\u001b[1;32m    238\u001b[0m     obj\u001b[38;5;241m.\u001b[39mon_load_checkpoint(checkpoint)\n",
      "\u001b[0;31mTypeError\u001b[0m: __init__() missing 1 required positional argument: 'loss_criterion'"
     ]
    }
   ],
   "source": [
    "model_path = \"./weights/tmodel_38.ckpt\"\n",
    "LitTransformer.load_from_checkpoint(model_path, map_location=torch.device('cuda'))"
   ]
  },
  {
   "cell_type": "code",
   "execution_count": null,
   "metadata": {},
   "outputs": [],
   "source": []
  }
 ],
 "metadata": {
  "colab": {
   "gpuType": "T4",
   "include_colab_link": true,
   "provenance": []
  },
  "kernelspec": {
   "display_name": "Python 3 (ipykernel)",
   "language": "python",
   "name": "python3"
  },
  "language_info": {
   "codemirror_mode": {
    "name": "ipython",
    "version": 3
   },
   "file_extension": ".py",
   "mimetype": "text/x-python",
   "name": "python",
   "nbconvert_exporter": "python",
   "pygments_lexer": "ipython3",
   "version": "3.8.0"
  }
 },
 "nbformat": 4,
 "nbformat_minor": 4
}
