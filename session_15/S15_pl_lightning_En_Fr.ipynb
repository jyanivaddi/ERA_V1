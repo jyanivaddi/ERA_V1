{
 "cells": [
  {
   "cell_type": "markdown",
   "metadata": {
    "colab_type": "text",
    "id": "view-in-github"
   },
   "source": [
    "<a href=\"https://colab.research.google.com/github/jyanivaddi/ERA_V1/blob/master/session_15/S15.ipynb\" target=\"_parent\"><img src=\"https://colab.research.google.com/assets/colab-badge.svg\" alt=\"Open In Colab\"/></a>"
   ]
  },
  {
   "cell_type": "markdown",
   "metadata": {
    "id": "OZ4DqRTb9Ym8"
   },
   "source": [
    "First Connect Google Drive"
   ]
  },
  {
   "cell_type": "code",
   "execution_count": null,
   "metadata": {
    "colab": {
     "base_uri": "https://localhost:8080/"
    },
    "id": "TDhBByBZ8qi9",
    "outputId": "f84d600d-7735-4f6b-e826-05041631fa8e"
   },
   "outputs": [],
   "source": [
    "from google.colab import drive\n",
    "drive.mount('/content/gdrive/', force_remount=True)"
   ]
  },
  {
   "cell_type": "markdown",
   "metadata": {
    "id": "cgHQxuQMAJ5o"
   },
   "source": [
    "Install packages"
   ]
  },
  {
   "cell_type": "code",
   "execution_count": 11,
   "metadata": {
    "colab": {
     "base_uri": "https://localhost:8080/"
    },
    "id": "VAOiUa_mAJVQ",
    "outputId": "b0f2ab9c-d179-441d-fdca-284c01631b13",
    "ExecuteTime": {
     "end_time": "2023-09-06T12:49:17.288832994Z",
     "start_time": "2023-09-06T12:48:57.180126026Z"
    }
   },
   "outputs": [
    {
     "name": "stdout",
     "output_type": "stream",
     "text": [
      "fatal: destination path 'dl_hub' already exists and is not an empty directory.\r\n",
      "remote: Enumerating objects: 17, done.\u001B[K\r\n",
      "remote: Counting objects: 100% (17/17), done.\u001B[K\r\n",
      "remote: Compressing objects: 100% (3/3), done.\u001B[K\r\n",
      "remote: Total 9 (delta 6), reused 9 (delta 6), pack-reused 0\u001B[K\r\n",
      "Unpacking objects: 100% (9/9), 4.27 KiB | 1.42 MiB/s, done.\r\n",
      "From https://github.com/jyanivaddi/dl_hub\r\n",
      "   fe038ff..2af9fac  main       -> origin/main\r\n",
      "Updating fe038ff..2af9fac\r\n",
      "Fast-forward\r\n",
      " Transformer/PL_data_module.py |  68 \u001B[32m+++++++++++++++\u001B[m\u001B[31m---------\u001B[m\r\n",
      " Transformer/PL_main.py        |  44 \u001B[32m++++++++++++++\u001B[m\u001B[31m--\u001B[m\r\n",
      " Transformer/PL_model.py       |  46 \u001B[32m++++++++++\u001B[m\u001B[31m-------\u001B[m\r\n",
      " Transformer/config.py         |   9 \u001B[32m++\u001B[m\u001B[31m--\u001B[m\r\n",
      " Transformer/dataset.py        | 117 \u001B[32m+++++++++++++++++++++++++++++++++++++++++\u001B[m\u001B[31m-\u001B[m\r\n",
      " Transformer/model.py          |  39 \u001B[32m++++++++++\u001B[m\u001B[31m----\u001B[m\r\n",
      " 6 files changed, 262 insertions(+), 61 deletions(-)\r\n",
      "Already up to date.\r\n",
      "\r\n",
      "\u001B[1m[\u001B[0m\u001B[34;49mnotice\u001B[0m\u001B[1;39;49m]\u001B[0m\u001B[39;49m A new release of pip available: \u001B[0m\u001B[31;49m22.3.1\u001B[0m\u001B[39;49m -> \u001B[0m\u001B[32;49m23.2.1\u001B[0m\r\n",
      "\u001B[1m[\u001B[0m\u001B[34;49mnotice\u001B[0m\u001B[1;39;49m]\u001B[0m\u001B[39;49m To update, run: \u001B[0m\u001B[32;49mpip install --upgrade pip\u001B[0m\r\n",
      "\r\n",
      "\u001B[1m[\u001B[0m\u001B[34;49mnotice\u001B[0m\u001B[1;39;49m]\u001B[0m\u001B[39;49m A new release of pip available: \u001B[0m\u001B[31;49m22.3.1\u001B[0m\u001B[39;49m -> \u001B[0m\u001B[32;49m23.2.1\u001B[0m\r\n",
      "\u001B[1m[\u001B[0m\u001B[34;49mnotice\u001B[0m\u001B[1;39;49m]\u001B[0m\u001B[39;49m To update, run: \u001B[0m\u001B[32;49mpip install --upgrade pip\u001B[0m\r\n",
      "\r\n",
      "\u001B[1m[\u001B[0m\u001B[34;49mnotice\u001B[0m\u001B[1;39;49m]\u001B[0m\u001B[39;49m A new release of pip available: \u001B[0m\u001B[31;49m22.3.1\u001B[0m\u001B[39;49m -> \u001B[0m\u001B[32;49m23.2.1\u001B[0m\r\n",
      "\u001B[1m[\u001B[0m\u001B[34;49mnotice\u001B[0m\u001B[1;39;49m]\u001B[0m\u001B[39;49m To update, run: \u001B[0m\u001B[32;49mpip install --upgrade pip\u001B[0m\r\n",
      "\r\n",
      "\u001B[1m[\u001B[0m\u001B[34;49mnotice\u001B[0m\u001B[1;39;49m]\u001B[0m\u001B[39;49m A new release of pip available: \u001B[0m\u001B[31;49m22.3.1\u001B[0m\u001B[39;49m -> \u001B[0m\u001B[32;49m23.2.1\u001B[0m\r\n",
      "\u001B[1m[\u001B[0m\u001B[34;49mnotice\u001B[0m\u001B[1;39;49m]\u001B[0m\u001B[39;49m To update, run: \u001B[0m\u001B[32;49mpip install --upgrade pip\u001B[0m\r\n",
      "\r\n",
      "\u001B[1m[\u001B[0m\u001B[34;49mnotice\u001B[0m\u001B[1;39;49m]\u001B[0m\u001B[39;49m A new release of pip available: \u001B[0m\u001B[31;49m22.3.1\u001B[0m\u001B[39;49m -> \u001B[0m\u001B[32;49m23.2.1\u001B[0m\r\n",
      "\u001B[1m[\u001B[0m\u001B[34;49mnotice\u001B[0m\u001B[1;39;49m]\u001B[0m\u001B[39;49m To update, run: \u001B[0m\u001B[32;49mpip install --upgrade pip\u001B[0m\r\n",
      "\r\n",
      "\u001B[1m[\u001B[0m\u001B[34;49mnotice\u001B[0m\u001B[1;39;49m]\u001B[0m\u001B[39;49m A new release of pip available: \u001B[0m\u001B[31;49m22.3.1\u001B[0m\u001B[39;49m -> \u001B[0m\u001B[32;49m23.2.1\u001B[0m\r\n",
      "\u001B[1m[\u001B[0m\u001B[34;49mnotice\u001B[0m\u001B[1;39;49m]\u001B[0m\u001B[39;49m To update, run: \u001B[0m\u001B[32;49mpip install --upgrade pip\u001B[0m\r\n"
     ]
    }
   ],
   "source": [
    "#!git clone \"https://github.com/jyanivaddi/ERA_V1.git\"\n",
    "#!git -C ERA_V1 pull\n",
    "#!cd ../\n",
    "!git clone \"https://github.com/jyanivaddi/dl_hub.git\"\n",
    "!git -C dl_hub pull\n",
    "!git pull\n",
    "#!cd ../\n",
    "\n",
    "!pip install --quiet \"torchinfo\" \"seaborn\" \"pytorch-lightning\" \"torchmetrics\" \"lightning-bolts\" \"torchtext\" \"datasets\" \"tokenizers\"\n",
    "!pip install --quiet \"prettytable\"\n",
    "!pip install --quiet \"torchsummary\"\n",
    "!pip install --quiet \"torch_lr_finder\"\n",
    "!pip install --quiet \"grad-cam\"\n",
    "!pip install --quiet \"gradio\""
   ]
  },
  {
   "cell_type": "code",
   "execution_count": 12,
   "metadata": {
    "id": "ivBzl8YFPvJ0",
    "ExecuteTime": {
     "end_time": "2023-09-06T12:49:17.289239383Z",
     "start_time": "2023-09-06T12:49:17.207315692Z"
    }
   },
   "outputs": [],
   "source": [
    "import sys\n",
    "sys.path.append(\"ERA_V1/session_15\")\n",
    "sys.path.append(\"dl_hub\")"
   ]
  },
  {
   "cell_type": "code",
   "execution_count": 13,
   "metadata": {
    "colab": {
     "base_uri": "https://localhost:8080/"
    },
    "id": "n41Pe-b1J3mC",
    "outputId": "a8cbac66-45be-4bab-9e28-2db0da2b7505",
    "ExecuteTime": {
     "end_time": "2023-09-06T12:49:18.087415161Z",
     "start_time": "2023-09-06T12:49:17.215026362Z"
    }
   },
   "outputs": [
    {
     "name": "stdout",
     "output_type": "stream",
     "text": [
      "Already up to date.\r\n"
     ]
    }
   ],
   "source": [
    "!git -C dl_hub pull\n"
   ]
  },
  {
   "cell_type": "code",
   "execution_count": 14,
   "metadata": {
    "colab": {
     "base_uri": "https://localhost:8080/",
     "height": 470
    },
    "id": "x8WpKATx75Hu",
    "outputId": "53c19e59-1a97-4dc0-a2d7-2d31e3809f2f",
    "ExecuteTime": {
     "end_time": "2023-09-06T12:49:20.959809253Z",
     "start_time": "2023-09-06T12:49:20.892831415Z"
    }
   },
   "outputs": [],
   "source": [
    "import torch\n",
    "import torch.nn as nn\n",
    "from torch.optim.lr_scheduler import OneCycleLR\n",
    "from dl_hub.Transformer.config import get_config\n",
    "from dl_hub.Transformer.PL_data_module import OpusDataModule\n",
    "from dl_hub.Transformer.PL_model import LitTransformer\n",
    "from dl_hub.Transformer.PL_main import train_transformer\n",
    "\n"
   ]
  },
  {
   "cell_type": "code",
   "execution_count": 2,
   "metadata": {
    "ExecuteTime": {
     "end_time": "2023-09-05T13:46:31.689626468Z",
     "start_time": "2023-09-05T13:46:29.547866667Z"
    },
    "collapsed": false
   },
   "outputs": [],
   "source": [
    "#from config import get_config\n",
    "#from PL_data_module import OpusDataModule\n",
    "#from PL_model import LitTransformer\n",
    "#from PL_main import train_transformer\n"
   ]
  },
  {
   "cell_type": "markdown",
   "metadata": {
    "collapsed": false
   },
   "source": [
    "**Finetune config params**"
   ]
  },
  {
   "cell_type": "code",
   "execution_count": 15,
   "metadata": {
    "collapsed": false,
    "ExecuteTime": {
     "end_time": "2023-09-06T12:49:33.072293605Z",
     "start_time": "2023-09-06T12:49:33.068127224Z"
    }
   },
   "outputs": [],
   "source": [
    "cfg = get_config()\n",
    "cfg[\"parameter_sharing\"] = True\n",
    "cfg[\"d_ff\"] = 512\n",
    "cfg[\"batch_size\"] = 48\n",
    "cfg[\"d_model\"] = 512\n",
    "cfg[\"preload\"] = None\n",
    "cfg[\"num_epochs\"] = 30\n",
    "cfg[\"ds_mode\"] = 'disk'\n",
    "cfg[\"lang_tgt\"] = 'fr'\n",
    "cfg[\"ds_path\"] = \"/home/e183534/ERA_Datasets/OpusBooks_En_Fr\"\n",
    "cfg[\"save_ds_to_disk\"] = False\n",
    "cfg[\"experiment_name\"] = \"tmodel_dynamic_pad_150_tokens_bs_32_amp_ps_dff_512\"\n",
    "\n"
   ]
  },
  {
   "cell_type": "markdown",
   "metadata": {
    "collapsed": false
   },
   "source": [
    "**Mixed precision training**"
   ]
  },
  {
   "cell_type": "code",
   "execution_count": 16,
   "metadata": {
    "collapsed": false,
    "ExecuteTime": {
     "end_time": "2023-09-06T12:49:40.854291176Z",
     "start_time": "2023-09-06T12:49:40.849751180Z"
    }
   },
   "outputs": [
    {
     "data": {
      "text/plain": "<torch.cuda.amp.autocast_mode.autocast at 0x7f49ef951a30>"
     },
     "execution_count": 16,
     "metadata": {},
     "output_type": "execute_result"
    }
   ],
   "source": [
    "torch.cuda.amp.autocast(enabled=True)"
   ]
  },
  {
   "cell_type": "markdown",
   "metadata": {
    "collapsed": false
   },
   "source": [
    "**Define data module**"
   ]
  },
  {
   "cell_type": "code",
   "execution_count": 17,
   "metadata": {
    "collapsed": false,
    "ExecuteTime": {
     "end_time": "2023-09-06T12:49:54.849718706Z",
     "start_time": "2023-09-06T12:49:45.856146856Z"
    }
   },
   "outputs": [],
   "source": [
    "opus_dm = OpusDataModule(cfg)\n",
    "opus_dm.prepare_data()\n",
    "opus_dm.setup()\n",
    "train_data_loader = opus_dm.train_dataloader()\n",
    "#pp = next(iter(train_data_loader))"
   ]
  },
  {
   "cell_type": "markdown",
   "metadata": {
    "collapsed": false
   },
   "source": [
    "**Define PL Model**"
   ]
  },
  {
   "cell_type": "code",
   "execution_count": 7,
   "metadata": {
    "ExecuteTime": {
     "end_time": "2023-09-05T13:46:50.045090152Z",
     "start_time": "2023-09-05T13:46:48.802219414Z"
    }
   },
   "outputs": [
    {
     "name": "stdout",
     "output_type": "stream",
     "text": [
      "Total Parameters: 58699090\n"
     ]
    }
   ],
   "source": [
    "tokenizer_src = opus_dm.tokenizer_src\n",
    "tokenizer_tgt = opus_dm.tokenizer_tgt\n",
    "loss_criterion = nn.CrossEntropyLoss(ignore_index=tokenizer_src.token_to_id('[PAD]'), label_smoothing=0.1)\n",
    "transformer_model = LitTransformer(cfg, loss_criterion, tokenizer_src, tokenizer_tgt, num_validation_examples=2, epochs = cfg['num_epochs'])\n",
    "optimizer = torch.optim.Adam(transformer_model.model.parameters(), lr=cfg['lr'], eps=1e-9)\n",
    "transformer_model.set_optimizer(optimizer)\n",
    "\n",
    "scheduler = OneCycleLR(\n",
    "    optimizer,\n",
    "    max_lr=1E-3,\n",
    "    steps_per_epoch=len(train_data_loader),\n",
    "    epochs=cfg['num_epochs'],\n",
    "    pct_start=5/cfg['num_epochs'],\n",
    "    div_factor=10,\n",
    "    three_phase=True,\n",
    "    final_div_factor=10,\n",
    "    anneal_strategy='linear'\n",
    ")\n",
    "transformer_model.set_scheduler_dict(scheduler, freq = 'step')"
   ]
  },
  {
   "cell_type": "code",
   "execution_count": 8,
   "metadata": {},
   "outputs": [
    {
     "name": "stderr",
     "output_type": "stream",
     "text": [
      "Using 16bit None Automatic Mixed Precision (AMP)\n",
      "GPU available: True (cuda), used: True\n",
      "TPU available: False, using: 0 TPU cores\n",
      "IPU available: False, using: 0 IPUs\n",
      "HPU available: False, using: 0 HPUs\n",
      "LOCAL_RANK: 0 - CUDA_VISIBLE_DEVICES: [0]\n",
      "\n",
      "  | Name           | Type             | Params\n",
      "----------------------------------------------------\n",
      "0 | loss_criterion | CrossEntropyLoss | 0     \n",
      "1 | model          | Transformer      | 58.7 M\n",
      "----------------------------------------------------\n",
      "58.7 M    Trainable params\n",
      "0         Non-trainable params\n",
      "58.7 M    Total params\n",
      "117.398   Total estimated model params size (MB)\n",
      "/home/e183534/ERA_V1/venv/lib/python3.8/site-packages/pytorch_lightning/trainer/connectors/data_connector.py:488: PossibleUserWarning: Your `val_dataloader`'s sampler has shuffling enabled, it is strongly recommended that you turn shuffling off for val/test/predict dataloaders.\n",
      "  rank_zero_warn(\n"
     ]
    },
    {
     "data": {
      "application/vnd.jupyter.widget-view+json": {
       "model_id": "910b46029432463b9dfad600b040a701",
       "version_major": 2,
       "version_minor": 0
      },
      "text/plain": [
       "Training: 0it [00:00, ?it/s]"
      ]
     },
     "metadata": {},
     "output_type": "display_data"
    },
    {
     "data": {
      "application/vnd.jupyter.widget-view+json": {
       "model_id": "",
       "version_major": 2,
       "version_minor": 0
      },
      "text/plain": [
       "Validation: 0it [00:00, ?it/s]"
      ]
     },
     "metadata": {},
     "output_type": "display_data"
    },
    {
     "name": "stdout",
     "output_type": "stream",
     "text": [
      "*****************************************\n",
      "    SOURCE: « Eh bien ! c’était un homme outrageusement ivre.\n",
      "    TARGET: \"He was an uncommon drunk sort o' man,\" he said.\n",
      " PREDICTED: \" \" What , and the .\n",
      "*****************************************\n",
      "\n",
      "*****************************************\n",
      "    SOURCE: The owl often assumes this oblique attitude.\n",
      "    TARGET: Le hibou a souvent cette attitude oblique.\n",
      " PREDICTED: Le , cette se .\n",
      "*****************************************\n"
     ]
    },
    {
     "name": "stderr",
     "output_type": "stream",
     "text": [
      "/home/e183534/ERA_V1/venv/lib/python3.8/site-packages/torchmetrics/utilities/prints.py:61: FutureWarning: Importing `CharErrorRate` from `torchmetrics` was deprecated and will be removed in 2.0. Import `CharErrorRate` from `torchmetrics.text` instead.\n",
      "  _future_warning(\n",
      "/home/e183534/ERA_V1/venv/lib/python3.8/site-packages/torchmetrics/utilities/prints.py:61: FutureWarning: Importing `WordErrorRate` from `torchmetrics` was deprecated and will be removed in 2.0. Import `WordErrorRate` from `torchmetrics.text` instead.\n",
      "  _future_warning(\n",
      "/home/e183534/ERA_V1/venv/lib/python3.8/site-packages/torchmetrics/utilities/prints.py:61: FutureWarning: Importing `BLEUScore` from `torchmetrics` was deprecated and will be removed in 2.0. Import `BLEUScore` from `torchmetrics.text` instead.\n",
      "  _future_warning(\n"
     ]
    },
    {
     "name": "stdout",
     "output_type": "stream",
     "text": [
      "Epoch 0: train_loss=4.8886\n"
     ]
    },
    {
     "data": {
      "application/vnd.jupyter.widget-view+json": {
       "model_id": "",
       "version_major": 2,
       "version_minor": 0
      },
      "text/plain": [
       "Validation: 0it [00:00, ?it/s]"
      ]
     },
     "metadata": {},
     "output_type": "display_data"
    },
    {
     "name": "stdout",
     "output_type": "stream",
     "text": [
      "*****************************************\n",
      "    SOURCE: Une femme de quarante ans n’est plus quelque chose que pour les hommes qui l’ont aimée dans sa jeunesse !\n",
      "    TARGET: A woman of forty is no longer anything save to the men who have loved her in her youth!\n",
      " PREDICTED: One of the woman of the is more than the men who were in his !\n",
      "*****************************************\n",
      "\n",
      "*****************************************\n",
      "    SOURCE: \"Even so,\" replied the engineer, \"you will risk depriving the colony of Lincoln Island of two settlers out of five.\"\n",
      "    TARGET: C'est donc de deux colons sur cinq que vous risquez de priver la colonie de l'île Lincoln?\n",
      " PREDICTED: -- En effet , répondit l ' ingénieur , vous la colonie de l ' île Lincoln de l ' île Lincoln .\n",
      "*****************************************\n",
      "\n",
      "Epoch 1: train_loss=4.1083\n"
     ]
    },
    {
     "data": {
      "application/vnd.jupyter.widget-view+json": {
       "model_id": "",
       "version_major": 2,
       "version_minor": 0
      },
      "text/plain": [
       "Validation: 0it [00:00, ?it/s]"
      ]
     },
     "metadata": {},
     "output_type": "display_data"
    },
    {
     "name": "stdout",
     "output_type": "stream",
     "text": [
      "*****************************************\n",
      "    SOURCE: On going out they called for Pierron and Levaque, and then all four went to Rasseneur's, where the delegates from the neighbouring settlements were arriving in little groups.\n",
      "    TARGET: En sortant, ils prirent Pierron et Levaque, puis tous quatre se rendirent chez Rasseneur, ou les délégués des corons voisins arrivaient par petits groupes.\n",
      " PREDICTED: En allant , ils s ' pour Pierron et Levaque , et chacun allait a la partie des galibots , où les délégués étaient arrivés a petits groupes .\n",
      "*****************************************\n",
      "\n",
      "*****************************************\n",
      "    SOURCE: Fabrice l’embrassa tendrement et parla du tableau.\n",
      "    TARGET: Fabrizio embraced him tenderly and spoke of the picture.\n",
      " PREDICTED: Fabrizio embraced les regards et spoke of the .\n",
      "*****************************************\n",
      "\n",
      "Epoch 2: train_loss=3.4785\n"
     ]
    },
    {
     "data": {
      "application/vnd.jupyter.widget-view+json": {
       "model_id": "",
       "version_major": 2,
       "version_minor": 0
      },
      "text/plain": [
       "Validation: 0it [00:00, ?it/s]"
      ]
     },
     "metadata": {},
     "output_type": "display_data"
    },
    {
     "name": "stdout",
     "output_type": "stream",
     "text": [
      "*****************************************\n",
      "    SOURCE: \"PARBLEU, I believe it is not,\" said Planchet. \"Why, it is poor Lubin, the lackey of the Comte de Wardes--he whom you took such good care of a month ago at Calais, on the road to the governor’s country house!\"\n",
      "    TARGET: -- Je le crois pardieu bien, dit Planchet: c'est ce pauvre Lubin, le laquais du comte de Wardes, celui que vous avez si bien accommodé il y a un mois, à Calais, sur la route de la maison de campagne du gouverneur.\n",
      " PREDICTED: -- Parbleu , je crois que ce n ' est pas , dit Planchet , mais c ' est un pauvre Lubin , le laquais du comte de Wardes , il vous a si bon soin d ' un mois d ' un mois de Calais , sur la route de la maison de la maison !\n",
      "*****************************************\n",
      "\n",
      "*****************************************\n",
      "    SOURCE: It will be seen that the poor fellow had a choice of surnames.\n",
      "    TARGET: On voit que le pauvre diable avait des surnoms à choisir.\n",
      " PREDICTED: Il faudra que le pauvre garçon avait un choix de .\n",
      "*****************************************\n",
      "\n",
      "Epoch 3: train_loss=3.8614\n"
     ]
    },
    {
     "data": {
      "application/vnd.jupyter.widget-view+json": {
       "model_id": "",
       "version_major": 2,
       "version_minor": 0
      },
      "text/plain": [
       "Validation: 0it [00:00, ?it/s]"
      ]
     },
     "metadata": {},
     "output_type": "display_data"
    },
    {
     "name": "stdout",
     "output_type": "stream",
     "text": [
      "*****************************************\n",
      "    SOURCE: \"So soon?\n",
      "    TARGET: --Déjà!\n",
      " PREDICTED: -- Eh bien ?\n",
      "*****************************************\n",
      "\n",
      "*****************************************\n",
      "    SOURCE: One morning, soon after their arrival, as she was sitting with her two elder sisters, she said to Elizabeth:\n",
      "    TARGET: Un matin qu’elle se trouvait avec ses deux aînées, elle dit a Elizabeth :\n",
      " PREDICTED: Un matin , apres l ’ arrivée , elle fut assise avec ses deux sours , elle dit a Elizabeth :\n",
      "*****************************************\n",
      "\n",
      "Epoch 4: train_loss=2.9876\n"
     ]
    },
    {
     "data": {
      "application/vnd.jupyter.widget-view+json": {
       "model_id": "",
       "version_major": 2,
       "version_minor": 0
      },
      "text/plain": [
       "Validation: 0it [00:00, ?it/s]"
      ]
     },
     "metadata": {},
     "output_type": "display_data"
    },
    {
     "name": "stdout",
     "output_type": "stream",
     "text": [
      "*****************************************\n",
      "    SOURCE: She did indeed.\n",
      "    TARGET: Cette Mrs.\n",
      " PREDICTED: Elle était vraiment .\n",
      "*****************************************\n",
      "\n",
      "*****************************************\n",
      "    SOURCE: _June_ 18.—Rained all day, and I stayed within.\n",
      "    TARGET: Le 18.--Il plut toute la journée, et je ne sortis pas.\n",
      " PREDICTED: Le 18 .-- tout jour , et je demeurai dans la journée .\n",
      "*****************************************\n",
      "\n",
      "Epoch 5: train_loss=3.4260\n"
     ]
    },
    {
     "data": {
      "application/vnd.jupyter.widget-view+json": {
       "model_id": "",
       "version_major": 2,
       "version_minor": 0
      },
      "text/plain": [
       "Validation: 0it [00:00, ?it/s]"
      ]
     },
     "metadata": {},
     "output_type": "display_data"
    },
    {
     "name": "stdout",
     "output_type": "stream",
     "text": [
      "*****************************************\n",
      "    SOURCE: During this strange occupation, his head and heart, rising to the level of everything that is most great, were at work without his knowledge.\n",
      "    TARGET: Pendant cette singulière lecture, sa tête et son cœur, montés au niveau de tout ce qu’il y a de plus grand, travaillaient à son insu.\n",
      " PREDICTED: Pendant cette étrange métier , sa tête et son cœur , se levant au niveau de tout ce qui est le plus grand , n ' était pas à son savoir .\n",
      "*****************************************\n",
      "\n",
      "*****************************************\n",
      "    SOURCE: Then the Queen left off, quite out of breath, and said to Alice, 'Have you seen the Mock Turtle yet?'\n",
      "    TARGET: Alors la Reine cessa le jeu toute hors d’haleine, et dit à Alice : « Avez-vous vu la Fausse-Tortue ? »\n",
      " PREDICTED: Alors la Reine sortit tout essoufflée , tout essoufflée , et dit Alice : « Avez - vous vu la Fausse - Tortue encore ? »\n",
      "*****************************************\n",
      "\n",
      "Epoch 6: train_loss=2.5196\n"
     ]
    },
    {
     "data": {
      "application/vnd.jupyter.widget-view+json": {
       "model_id": "",
       "version_major": 2,
       "version_minor": 0
      },
      "text/plain": [
       "Validation: 0it [00:00, ?it/s]"
      ]
     },
     "metadata": {},
     "output_type": "display_data"
    },
    {
     "name": "stdout",
     "output_type": "stream",
     "text": [
      "*****************************************\n",
      "    SOURCE: \"What?\" cried Martha, with clasped hands.\n",
      "    TARGET: --Comment? dit Marthe en joignant les mains.\n",
      " PREDICTED: -- Laquelle ? s ' écria Marthe , les mains jointes .\n",
      "*****************************************\n",
      "\n",
      "*****************************************\n",
      "    SOURCE: At a quarter past the moorings were loosed and the throbbing steamer pursued her way over the dark waters of the Great Belt.\n",
      "    TARGET: A dix heures un quart les amarres furent larguées, et le steamer fila rapidement sur les sombres eaux du grand Belt.\n",
      " PREDICTED: A un quart de l ' amarre se produisit , le steamer sa route sur les eaux sombres de la route .\n",
      "*****************************************\n",
      "\n",
      "Epoch 7: train_loss=2.6337\n"
     ]
    },
    {
     "data": {
      "application/vnd.jupyter.widget-view+json": {
       "model_id": "",
       "version_major": 2,
       "version_minor": 0
      },
      "text/plain": [
       "Validation: 0it [00:00, ?it/s]"
      ]
     },
     "metadata": {},
     "output_type": "display_data"
    },
    {
     "name": "stdout",
     "output_type": "stream",
     "text": [
      "*****************************************\n",
      "    SOURCE: Night was fully set in.\n",
      "    TARGET: La nuit était tout à fait venue.\n",
      " PREDICTED: La nuit était fort faite .\n",
      "*****************************************\n",
      "\n",
      "*****************************************\n",
      "    SOURCE: I was the only one not completely absorbed by the game, and able to pay her some attention.\n",
      "    TARGET: J'étais le seul que le jeu ne préoccupât point complétement et qui s'occupât d'elle.\n",
      " PREDICTED: Je n ' étais pas complètement absorbée par le jeu , et je pus lui faire attention .\n",
      "*****************************************\n",
      "\n",
      "Epoch 8: train_loss=2.2886\n"
     ]
    },
    {
     "data": {
      "application/vnd.jupyter.widget-view+json": {
       "model_id": "",
       "version_major": 2,
       "version_minor": 0
      },
      "text/plain": [
       "Validation: 0it [00:00, ?it/s]"
      ]
     },
     "metadata": {},
     "output_type": "display_data"
    },
    {
     "name": "stdout",
     "output_type": "stream",
     "text": [
      "*****************************************\n",
      "    SOURCE: \"Finally, an actual event,\" Ned Land said.\n",
      "    TARGET: -- Enfin, voilà un fait, dit Ned Land.\n",
      " PREDICTED: -- Enfin , un véritable événement , dit Ned Land .\n",
      "*****************************************\n",
      "\n",
      "*****************************************\n",
      "    SOURCE: The chronometer soon informed me of that fact; and in a very short time, refreshed and thankful, we all three fell into a sound sleep.\n",
      "    TARGET: Le chronomètre se chargea de me l'apprendre. Bientôt chacun de nous, suffisamment restauré et rafraîchi, s'endormit d'un profond sommeil.\n",
      " PREDICTED: Le chronomètre m ' apprit bientôt que le chronomètre est en un très court temps et les reconnaissance , nous passâmes tous trois à un bruit .\n",
      "*****************************************\n",
      "\n",
      "Epoch 9: train_loss=2.0646\n"
     ]
    },
    {
     "data": {
      "application/vnd.jupyter.widget-view+json": {
       "model_id": "",
       "version_major": 2,
       "version_minor": 0
      },
      "text/plain": [
       "Validation: 0it [00:00, ?it/s]"
      ]
     },
     "metadata": {},
     "output_type": "display_data"
    },
    {
     "name": "stdout",
     "output_type": "stream",
     "text": [
      "*****************************************\n",
      "    SOURCE: A great white shroud covered the corpse, closely outlining some of its contours.\n",
      "    TARGET: Un grand linceul blanc courvrait le cadavre dont il dessinait quelques sinuosités.\n",
      " PREDICTED: Un blanc couvrait le cadavre , près duquel quelques à ses sujets .\n",
      "*****************************************\n",
      "\n",
      "*****************************************\n",
      "    SOURCE: — Mais c’est toi qui as brisé ce cour innocent, hurlai-je, et je tirai de ma poche une de mes petites boîtes.\n",
      "    TARGET: \"'But it was you who broke her innocent heart,' I shrieked, thrusting the box before him.\n",
      " PREDICTED: \" But it is you who will come down this court .\" Next I am innocent , and I am in my pocket a little .\"\n",
      "*****************************************\n",
      "\n",
      "Epoch 10: train_loss=1.9273\n"
     ]
    },
    {
     "data": {
      "application/vnd.jupyter.widget-view+json": {
       "model_id": "",
       "version_major": 2,
       "version_minor": 0
      },
      "text/plain": [
       "Validation: 0it [00:00, ?it/s]"
      ]
     },
     "metadata": {},
     "output_type": "display_data"
    },
    {
     "name": "stdout",
     "output_type": "stream",
     "text": [
      "*****************************************\n",
      "    SOURCE: \"Perfectly clear,\" I said, not yet knowing why I was being given this history lesson.\n",
      "    TARGET: -- Parfaitement, dis-je, ne sachant encore à quel propos m'était faite cette leçon d'histoire.\n",
      " PREDICTED: -- Tout à fait clair , dis - je , sans savoir pourquoi j ' étais donné cette histoire .\n",
      "*****************************************\n",
      "\n",
      "*****************************************\n",
      "    SOURCE: George stirred it all up, and then he said that there seemed to be a lot of room to spare, so we overhauled both the hampers, and picked out all the odds and ends and the remnants, and added them to the stew.\n",
      "    TARGET: Nous y ajoutâmes également un chou et une demi-mesure de pois. Apres avoir mélangé l’ensemble, George nous assura qu’il restait encore de la place.\n",
      " PREDICTED: George remua tout cela , et il dit qu ’ il y avait l ’ air d ’ épargner la pièce de pièce à l ’ ordinaire , une les , ramassa tous les cent , les dents et les dans le ragout irlandais .\n",
      "*****************************************\n",
      "\n",
      "Epoch 11: train_loss=2.2115\n"
     ]
    },
    {
     "data": {
      "application/vnd.jupyter.widget-view+json": {
       "model_id": "",
       "version_major": 2,
       "version_minor": 0
      },
      "text/plain": [
       "Validation: 0it [00:00, ?it/s]"
      ]
     },
     "metadata": {},
     "output_type": "display_data"
    },
    {
     "name": "stdout",
     "output_type": "stream",
     "text": [
      "*****************************************\n",
      "    SOURCE: Mrs. Bennet was quite disconcerted.\n",
      "    TARGET: Bennet en fut toute décontenancée.\n",
      " PREDICTED: Mrs . Bennet se montra très .\n",
      "*****************************************\n",
      "\n",
      "*****************************************\n",
      "    SOURCE: If he accepted from you the sacrifice which you are on the point of making, his honour and dignity would require him to give you, in exchange for it, this income, which would always put you out of danger of adversity.\n",
      "    TARGET: S'il acceptait de vous le sacrifice que vous êtes sur le point de faire, il serait de son honneur et de sa dignité de vous faire en échange cet abandon qui vous mettrait toujours à l'abri d'une adversité complète.\n",
      " PREDICTED: S ' il vous acceptait du sacrifice que vous , son honneur et la dignité qu ' il vous à vous en échange , ce revenu qui vous allait toujours à l ' héritage de l ' adversité .\n",
      "*****************************************\n",
      "\n",
      "Epoch 12: train_loss=2.0596\n"
     ]
    },
    {
     "data": {
      "application/vnd.jupyter.widget-view+json": {
       "model_id": "",
       "version_major": 2,
       "version_minor": 0
      },
      "text/plain": [
       "Validation: 0it [00:00, ?it/s]"
      ]
     },
     "metadata": {},
     "output_type": "display_data"
    },
    {
     "name": "stdout",
     "output_type": "stream",
     "text": [
      "*****************************************\n",
      "    SOURCE: He cast a haggard eye over the double, tortuous way which fate had caused their two destinies to pursue up to their point of intersection, where it had dashed them against each other without mercy.\n",
      "    TARGET: Il promena un œil hagard sur la double voie tortueuse que la fatalité avait fait suivre à leurs deux destinées, jusqu’au point d’intersection où elle les avait impitoyablement brisées l’une contre l’autre.\n",
      " PREDICTED: Il jeta un oeil hagard sur le double , de ce hasard qui leur avait fait la face de se remettre en leur pointe d ’ inquiétude , où il les avait contre chacun .\n",
      "*****************************************\n",
      "\n",
      "*****************************************\n",
      "    SOURCE: A dog like that don't want any encouragement.\n",
      "    TARGET: Montmorency n’a nul besoin d’encouragement.\n",
      " PREDICTED: Un chien comme ça ne manque pas d ' encouragement .\n",
      "*****************************************\n",
      "\n",
      "Epoch 13: train_loss=2.0891\n"
     ]
    },
    {
     "data": {
      "application/vnd.jupyter.widget-view+json": {
       "model_id": "",
       "version_major": 2,
       "version_minor": 0
      },
      "text/plain": [
       "Validation: 0it [00:00, ?it/s]"
      ]
     },
     "metadata": {},
     "output_type": "display_data"
    },
    {
     "name": "stdout",
     "output_type": "stream",
     "text": [
      "*****************************************\n",
      "    SOURCE: Marguerite wanted to sell everything, but it was too late, and besides I should have opposed it.\n",
      "    TARGET: Marguerite a voulu tout vendre, mais il n'était plus temps, et d'ailleurs je m'y serais opposée.\n",
      " PREDICTED: Marguerite voulait vendre à tout , mais il était trop tard , et d ' ailleurs je l ' aurais absolument .\n",
      "*****************************************\n",
      "\n",
      "*****************************************\n",
      "    SOURCE: In a book of Alphonse Karr entitles Am Rauchen, there is a man who one evening follows a very elegant woman, with whom he had fallen in love with at first sight on account of her beauty.\n",
      "    TARGET: Il y a dans un livre d'Alphonse Karr, intitulé: Am Rauchen, un homme qui suit, le soir, une femme très élégante, et dont, à la première vue, il est devenu amoureux, tant elle est belle.\n",
      " PREDICTED: Un livre de a qui est venu au hasard , un homme qui doit ce soir une femme fort élégante , avec qui lui était tombé amoureux d ' abord sur la beauté de sa beauté .\n",
      "*****************************************\n",
      "\n",
      "Epoch 14: train_loss=2.0384\n"
     ]
    },
    {
     "data": {
      "application/vnd.jupyter.widget-view+json": {
       "model_id": "",
       "version_major": 2,
       "version_minor": 0
      },
      "text/plain": [
       "Validation: 0it [00:00, ?it/s]"
      ]
     },
     "metadata": {},
     "output_type": "display_data"
    },
    {
     "name": "stdout",
     "output_type": "stream",
     "text": [
      "*****************************************\n",
      "    SOURCE: The King will receive you in such a manner that you will have no reason to complain; and doubtless you will make a proper allowance for the customs of the country if they should not happen altogether to please you.\"\n",
      "    TARGET: Le roi vous recevra d'une manière dont vous ne serez pas mécontents, et vous pardonnerez sans doute aux usages du pays, s'il y en a quelques uns qui vous déplaisent.\n",
      " PREDICTED: Le roi vous d ' une telle façon que vous ne voulez pas plaindre , et , sans doute , vous un revenu convenable pour les usages de la campagne , s ' ils ne pourraient arriver à vous .\n",
      "*****************************************\n",
      "\n",
      "*****************************************\n",
      "    SOURCE: The flight of Cunegund and Candide was already the towntalk.\n",
      "    TARGET: La fuite de Cunégonde et de Candide était déjà connue.\n",
      " PREDICTED: La fuite de Cunégonde et Candide était déjà le .\n",
      "*****************************************\n",
      "\n",
      "Epoch 15: train_loss=2.0536\n"
     ]
    },
    {
     "data": {
      "application/vnd.jupyter.widget-view+json": {
       "model_id": "",
       "version_major": 2,
       "version_minor": 0
      },
      "text/plain": [
       "Validation: 0it [00:00, ?it/s]"
      ]
     },
     "metadata": {},
     "output_type": "display_data"
    },
    {
     "name": "stdout",
     "output_type": "stream",
     "text": [
      "*****************************************\n",
      "    SOURCE: \"You saw that?\" the Canadian asked.\n",
      "    TARGET: -- Vous avez vu cela ? demanda le Canadien.\n",
      " PREDICTED: -- Vous l ' avez vu ? demanda le Canadien .\n",
      "*****************************************\n",
      "\n",
      "*****************************************\n",
      "    SOURCE: \"Them's the light companies of the Guards,\" said the sergeant.\n",
      "    TARGET: -- Ceux-là, ce sont les compagnies légères de la Garde, dit le sergent.\n",
      " PREDICTED: -- Voilà nos feux de la garde , dit le sergent .\n",
      "*****************************************\n",
      "\n",
      "Epoch 16: train_loss=2.0493\n"
     ]
    },
    {
     "data": {
      "application/vnd.jupyter.widget-view+json": {
       "model_id": "",
       "version_major": 2,
       "version_minor": 0
      },
      "text/plain": [
       "Validation: 0it [00:00, ?it/s]"
      ]
     },
     "metadata": {},
     "output_type": "display_data"
    },
    {
     "name": "stdout",
     "output_type": "stream",
     "text": [
      "*****************************************\n",
      "    SOURCE: With a glance, she saw that he had lost none of his recent civility; and, to imitate his politeness, she began, as they met, to admire the beauty of the place; but she had not got beyond the words \"delightful,\" and \"charming,\" when some unlucky recollections obtruded, and she fancied that praise of Pemberley from her might be mischievously construed. Her colour changed, and she said no more.\n",
      "    TARGET: Ne voulant pas etre en reste de politesse, elle se mit, des qu’il l’eut abordée, a vanter les beautés du parc, mais, a peine eut-elle prononcé les mots « délicieux, charmant », que des souvenirs fâcheux lui revinrent ; elle s’imagina que, dans sa bouche, l’éloge de Pemberley pouvait etre mal interprété, rougit et s’arreta.\n",
      " PREDICTED: Elle vit qu ’ il n ’ avait pas perdu sa politesse la plus simple et , afin d ’ imiter sa politesse , elle se mit en jouant la beauté du lieu . Elle n ’ avait pas dépassé la belle des mots charmantes , et charmantes , quand des souvenirs , et elle pensait qu ’ elle avait pu entendre des louanges a Pemberley ne avec elle en a Darcy .\n",
      "*****************************************\n",
      "\n",
      "*****************************************\n",
      "    SOURCE: Little by little, the heat of the room had become stifling; the flowers were fading, making the thick air sickly, with their heavy odour.\n",
      "    TARGET: Peu à peu, la chaleur était devenue étouffante dans la chambre, les fleurs se fanaient, alanguissant l'air épais de leurs senteurs lourdes.\n",
      " PREDICTED: Peu à peu , la chaleur de la chambre était devenue commune ; les fleurs s ' , passaient l ' air épais et l ' odeur fade .\n",
      "*****************************************\n",
      "\n",
      "Epoch 17: train_loss=1.9529\n"
     ]
    },
    {
     "data": {
      "application/vnd.jupyter.widget-view+json": {
       "model_id": "",
       "version_major": 2,
       "version_minor": 0
      },
      "text/plain": [
       "Validation: 0it [00:00, ?it/s]"
      ]
     },
     "metadata": {},
     "output_type": "display_data"
    },
    {
     "name": "stdout",
     "output_type": "stream",
     "text": [
      "*****************************************\n",
      "    SOURCE: Part II\n",
      "    TARGET: DEUXIÈME PARTIE\n",
      " PREDICTED: En partie\n",
      "*****************************************\n",
      "\n",
      "*****************************************\n",
      "    SOURCE: \"To nobody in the world.\"\n",
      "    TARGET: -- À personne au monde.\n",
      " PREDICTED: -- À personne au monde .\n",
      "*****************************************\n",
      "\n",
      "Epoch 18: train_loss=1.9142\n"
     ]
    },
    {
     "data": {
      "application/vnd.jupyter.widget-view+json": {
       "model_id": "",
       "version_major": 2,
       "version_minor": 0
      },
      "text/plain": [
       "Validation: 0it [00:00, ?it/s]"
      ]
     },
     "metadata": {},
     "output_type": "display_data"
    },
    {
     "name": "stdout",
     "output_type": "stream",
     "text": [
      "*****************************************\n",
      "    SOURCE: \"Try not to dawdle about at night on the road.\n",
      "    TARGET: —Tâche de ne pas traîner la nuit sur les routes.\n",
      " PREDICTED: -- de ne pas se passer de la nuit en route .\n",
      "*****************************************\n",
      "\n",
      "*****************************************\n",
      "    SOURCE: \"But I can't see any fruit on this shrub!\" observed his companion.\n",
      "    TARGET: -- Mais je ne vois point de fruit à cet arbuste?\n",
      " PREDICTED: -- Mais je ne vois pas que de fruits en viennent de ce compagnon .\n",
      "*****************************************\n",
      "\n",
      "Epoch 19: train_loss=1.8226\n"
     ]
    },
    {
     "data": {
      "application/vnd.jupyter.widget-view+json": {
       "model_id": "",
       "version_major": 2,
       "version_minor": 0
      },
      "text/plain": [
       "Validation: 0it [00:00, ?it/s]"
      ]
     },
     "metadata": {},
     "output_type": "display_data"
    },
    {
     "name": "stdout",
     "output_type": "stream",
     "text": [
      "*****************************************\n",
      "    SOURCE: But where could such a hound lie concealed, where did it get its food, where did it come from, how was it that no one saw it by day?\n",
      "    TARGET: Mais où pourrait se dissimuler une bête pareille ? Où va-t-elle chercher sa nourriture ?\n",
      " PREDICTED: Mais où ferait le chien caché où l ’ on sa nourriture , où l ’ on venait , comment n ’ a - t - il pas vu un jour ?\n",
      "*****************************************\n",
      "\n",
      "*****************************************\n",
      "    SOURCE: En effet, les assassins politiques, une fois leur tâche accomplie, n’ont qu’une idée, celle de fuir.\n",
      "    TARGET: Political assassins are only too glad to do their work and to fly.\n",
      " PREDICTED: And indeed , of my assassins , a day to be , have has an idea , that of anything to run .\"\n",
      "*****************************************\n",
      "\n",
      "Epoch 20: train_loss=1.9211\n"
     ]
    },
    {
     "data": {
      "application/vnd.jupyter.widget-view+json": {
       "model_id": "",
       "version_major": 2,
       "version_minor": 0
      },
      "text/plain": [
       "Validation: 0it [00:00, ?it/s]"
      ]
     },
     "metadata": {},
     "output_type": "display_data"
    },
    {
     "name": "stdout",
     "output_type": "stream",
     "text": [
      "*****************************************\n",
      "    SOURCE: Defeated, mutilated, battered to death, the monsters finally yielded to us and disappeared beneath the waves.\n",
      "    TARGET: Les monstres vaincus, mutilés, frappés à mort, nous laissèrent enfin la place et disparurent sous les flots.\n",
      " PREDICTED: , liquide , essayait de mourir , les monstres enfin nous remirent , et disparurent sous les flots .\n",
      "*****************************************\n",
      "\n",
      "*****************************************\n",
      "    SOURCE: La bonne marquise était désespérée ; enfin elle réussit à dérober quelques petits diamants dans son écrin, que son mari lui reprenait tous les soirs pour l’enfermer sous son lit dans une caisse de fer : la marquise avait apporté huit cent mille francs de dot à son mari, et recevait quatre-vingts francs par mois pour ses dépenses personnelles.\n",
      "    TARGET: The good Marchesa was in despair; finally she managed to abstract a few small diamonds from her jewel case, which her husband took from her every evening to stow away under his bed, in an iron coffer: the Marchesa had brought him a dowry of 800,000 francs, and received 80 francs monthly for her personal expenses.\n",
      " PREDICTED: The good Marchesa was furious . at length she succeeded in making herself entirely diamonds in her , that her husband would all the evening to her up to her bed for a iron bars . The Marchesa had now more than a hundred francs to her husband , and a for one to her to terre .\n",
      "*****************************************\n",
      "\n",
      "Epoch 21: train_loss=1.8356\n"
     ]
    },
    {
     "data": {
      "application/vnd.jupyter.widget-view+json": {
       "model_id": "",
       "version_major": 2,
       "version_minor": 0
      },
      "text/plain": [
       "Validation: 0it [00:00, ?it/s]"
      ]
     },
     "metadata": {},
     "output_type": "display_data"
    },
    {
     "name": "stdout",
     "output_type": "stream",
     "text": [
      "*****************************************\n",
      "    SOURCE: \"For everything,\" cried d’Artagnan, who knew beforehand that he had not much to risk in engaging himself thus.\n",
      "    TARGET: -- À tout! s'écria d'Artagnan qui savait d'avance qu'il n'avait pas grand-chose à risquer en s'engageant ainsi.\n",
      " PREDICTED: -- À tout , s ' écria d ' Artagnan , qui savait d ' avance qu ' il n ' avait pas beaucoup à se hasarder sur lui - même .\n",
      "*****************************************\n",
      "\n",
      "*****************************************\n",
      "    SOURCE: My dear Jane, I am in such a flutter, that I am sure I can't write; so I will dictate, and you write for me.\n",
      "    TARGET: Ma chere Jane, je suis trop émue pour etre capable d’écrire moi-meme ; aussi je vais dicter et vous écrirez.\n",
      " PREDICTED: Ma chère Jane , je suis dans un tel air que je ne puis pas écrire ; ainsi je vais vous écrire pour moi .\n",
      "*****************************************\n",
      "\n",
      "Epoch 22: train_loss=1.9972\n"
     ]
    },
    {
     "data": {
      "application/vnd.jupyter.widget-view+json": {
       "model_id": "",
       "version_major": 2,
       "version_minor": 0
      },
      "text/plain": [
       "Validation: 0it [00:00, ?it/s]"
      ]
     },
     "metadata": {},
     "output_type": "display_data"
    },
    {
     "name": "stdout",
     "output_type": "stream",
     "text": [
      "*****************************************\n",
      "    SOURCE: Étienne had seized her and lifted her; it was, indeed, time.\n",
      "    TARGET: Étienne l'avait saisie et l'emportait.\n",
      " PREDICTED: Étienne l ' avait saisi , la souleva , et , en effet , le temps était .\n",
      "*****************************************\n",
      "\n",
      "*****************************************\n",
      "    SOURCE: It was not thought necessary in Sir Lewis de Bourgh's family.\n",
      "    TARGET: On n’a rien fait de pareil dans la famille de Bourgh.\n",
      " PREDICTED: Il n ’ était pas nécessaire de en famille de Bourgh .\n",
      "*****************************************\n",
      "\n",
      "Epoch 23: train_loss=1.9356\n"
     ]
    },
    {
     "data": {
      "application/vnd.jupyter.widget-view+json": {
       "model_id": "",
       "version_major": 2,
       "version_minor": 0
      },
      "text/plain": [
       "Validation: 0it [00:00, ?it/s]"
      ]
     },
     "metadata": {},
     "output_type": "display_data"
    },
    {
     "name": "stdout",
     "output_type": "stream",
     "text": [
      "*****************************************\n",
      "    SOURCE: \"Let us reef the sail and cut the mast down!\" I cried. \"That will be safest.\"\n",
      "    TARGET: «Amenons-la, dis-je, abattons notre mât: cela sera prudent.\n",
      " PREDICTED: « - nous , dis - je , et le mât , et mon embarcation , cela sera plus sûr .\n",
      "*****************************************\n",
      "\n",
      "*****************************************\n",
      "    SOURCE: As for the memory of Rodolphe, she had thrust it back to the bottom of her heart, and it remained there more solemn and more motionless than a king's mummy in a catacomb.\n",
      "    TARGET: Quant au souvenir de Rodolphe, elle l’avait descendu tout au fond de son coeur; et il restait là, plus solennel et plus immobile qu’une momie de roi dans un souterrain.\n",
      " PREDICTED: Quant au souvenir de Rodolphe , elle l ’ avait poussée au fond de son cœur , et il y restait plus grave et plus immobile que d ’ une grandeur dans une armée .\n",
      "*****************************************\n",
      "\n",
      "Epoch 24: train_loss=1.6623\n"
     ]
    },
    {
     "data": {
      "application/vnd.jupyter.widget-view+json": {
       "model_id": "",
       "version_major": 2,
       "version_minor": 0
      },
      "text/plain": [
       "Validation: 0it [00:00, ?it/s]"
      ]
     },
     "metadata": {},
     "output_type": "display_data"
    },
    {
     "name": "stdout",
     "output_type": "stream",
     "text": [
      "*****************************************\n",
      "    SOURCE: And if you wish to receive of the ancient city an impression with which the modern one can no longer furnish you, climb−−on the morning of some grand festival, beneath the rising sun of Easter or of Pentecost−−climb upon some elevated point, whence you command the entire capital; and be present at the wakening of the chimes.\n",
      "    TARGET: Et si vous voulez recevoir de la vieille ville une impression que la moderne ne saurait plus vous donner, montez, un matin de grande fête, au soleil levant de Pâques ou de la Pentecôte, montez sur quelque point élevé d’où vous dominiez la capitale entière, et assistez à l’éveil des carillons.\n",
      " PREDICTED: Et si vous voulez recevoir de la vieille ville une impression dont la plus moderne ne peut plus vous donner , remontant le matin de la grande fête , sous le soleil de ou de faire , à quelque point later , d ’ où vous , le capital , et que l ’ on se réveille pour tous les cloches de la fête .\n",
      "*****************************************\n",
      "\n",
      "*****************************************\n",
      "    SOURCE: \"Seventy francs.\"\n",
      "    TARGET: «Soixante et dix francs!»\n",
      " PREDICTED: -- soixante - seize francs .\n",
      "*****************************************\n",
      "\n",
      "Epoch 25: train_loss=1.8080\n"
     ]
    },
    {
     "data": {
      "application/vnd.jupyter.widget-view+json": {
       "model_id": "",
       "version_major": 2,
       "version_minor": 0
      },
      "text/plain": [
       "Validation: 0it [00:00, ?it/s]"
      ]
     },
     "metadata": {},
     "output_type": "display_data"
    },
    {
     "name": "stdout",
     "output_type": "stream",
     "text": [
      "*****************************************\n",
      "    SOURCE: \"Done me good!\" I exclaimed.\n",
      "    TARGET: --Calmé!» m'écriai-je.\n",
      " PREDICTED: -- - moi ! m ' écriai - je .\n",
      "*****************************************\n",
      "\n",
      "*****************************************\n",
      "    SOURCE: \"You persist?\" said Jacques Charmolue.\n",
      "    TARGET: « Vous persistez ? dit Jacques Charmolue.\n",
      " PREDICTED: « Vous persistez ? » dit le compère Jacques Charmolue .\n",
      "*****************************************\n",
      "\n",
      "Epoch 26: train_loss=1.7943\n"
     ]
    },
    {
     "data": {
      "application/vnd.jupyter.widget-view+json": {
       "model_id": "",
       "version_major": 2,
       "version_minor": 0
      },
      "text/plain": [
       "Validation: 0it [00:00, ?it/s]"
      ]
     },
     "metadata": {},
     "output_type": "display_data"
    },
    {
     "name": "stdout",
     "output_type": "stream",
     "text": [
      "*****************************************\n",
      "    SOURCE: \"Yes, there are cowards who get children murdered!\n",
      "    TARGET: —Oui, il y a des lâches qui font massacrer les enfants.\n",
      " PREDICTED: — Oui , il y a des lâches , qui ont assassiné !…\n",
      "*****************************************\n",
      "\n",
      "*****************************************\n",
      "    SOURCE: \"And the odds 'ave risen to ten to one.\"\n",
      "    TARGET: -- Et la cote est montée à dix contre un.\n",
      " PREDICTED: -- Les sommes bien nous et nous avons à dix pour l ' un .\n",
      "*****************************************\n",
      "\n",
      "Epoch 27: train_loss=1.8052\n"
     ]
    },
    {
     "data": {
      "application/vnd.jupyter.widget-view+json": {
       "model_id": "",
       "version_major": 2,
       "version_minor": 0
      },
      "text/plain": [
       "Validation: 0it [00:00, ?it/s]"
      ]
     },
     "metadata": {},
     "output_type": "display_data"
    },
    {
     "name": "stdout",
     "output_type": "stream",
     "text": [
      "*****************************************\n",
      "    SOURCE: Monsieur Lheureux, in fact, went in for pawnbroking, and it was there that he had put Madame Bovary's gold chain, together with the earrings of poor old Tellier, who, at last forced to sell out, had bought a meagre store of grocery at Quincampoix, where he was dying of catarrh amongst his candles, that were less yellow than his face.\n",
      "    TARGET: M. Lheureux, en effet, prêtait sur gages, et c’est là qu’il avait mis la chaîne en or de madame Bovary, avec les boucles d’oreilles du pauvre père Tellier, qui, enfin contraint de vendre, avait acheté à Quincampoix un maigre fonds d’épicerie, où il se mourait de son catarrhe, au milieu de ses chandelles moins jaunes que sa figure.\n",
      " PREDICTED: M . Lheureux , en effet , alla à , et il était là qu ’ il avait mis la chaîne de madame Bovary en or , de l ’ , que , par les temps de , le vieux paralytique , avait acheté enfin à vendre , un congé de l ’ hôtel de bonne maison , où il se mourait entre ses chandelles , et qui était moins jaune , la figure de son visage .\n",
      "*****************************************\n",
      "\n",
      "*****************************************\n",
      "    SOURCE: The Guard is coming!\" and so vanished away to the rear like a leaf blown before a storm.\n",
      "    TARGET: Puis il disparut vers l'arrière, comme une feuille emportée par l'orage.\n",
      " PREDICTED: La garde qui s ' en va ! elle a si disparu , a la queue jeté des eaux , avant une tempête .\n",
      "*****************************************\n",
      "\n",
      "Epoch 28: train_loss=1.9552\n"
     ]
    },
    {
     "data": {
      "application/vnd.jupyter.widget-view+json": {
       "model_id": "",
       "version_major": 2,
       "version_minor": 0
      },
      "text/plain": [
       "Validation: 0it [00:00, ?it/s]"
      ]
     },
     "metadata": {},
     "output_type": "display_data"
    },
    {
     "name": "stdout",
     "output_type": "stream",
     "text": [
      "*****************************************\n",
      "    SOURCE: \"But you _will_ know it, when I tell you what happened the very next day.\"\n",
      "    TARGET: – Vous ne penserez plus de meme lorsque vous saurez la suite.\n",
      " PREDICTED: -- Mais vous le savez , quand je vous dirai ce qui est le lendemain même .\n",
      "*****************************************\n",
      "\n",
      "*****************************************\n",
      "    SOURCE: His figure was enveloped in a riding cloak, fur collared and steel clasped; its details were not apparent, but I traced the general points of middle height and considerable breadth of chest.\n",
      "    TARGET: Il était enveloppé d'une redingote à collet de fourrure et à boutons d'acier; je ne pus pas remarquer les détails, mais je vis l'ensemble.\n",
      " PREDICTED: Sa figure était gonflée au manteau , d ' acier et joignit en un haut éclat ; ses détails n ' étaient pas nombreux , mais je pus les côtés de la taille , et considérable de poitrine .\n",
      "*****************************************\n",
      "\n",
      "Epoch 29: train_loss=1.7107\n"
     ]
    },
    {
     "name": "stderr",
     "output_type": "stream",
     "text": [
      "`Trainer.fit` stopped: `max_epochs=30` reached.\n",
      "LOCAL_RANK: 0 - CUDA_VISIBLE_DEVICES: [0]\n",
      "/home/e183534/ERA_V1/venv/lib/python3.8/site-packages/pytorch_lightning/trainer/connectors/data_connector.py:488: PossibleUserWarning: Your `test_dataloader`'s sampler has shuffling enabled, it is strongly recommended that you turn shuffling off for val/test/predict dataloaders.\n",
      "  rank_zero_warn(\n"
     ]
    },
    {
     "data": {
      "application/vnd.jupyter.widget-view+json": {
       "model_id": "7c194a96042446f7a2d3b8512e6a6297",
       "version_major": 2,
       "version_minor": 0
      },
      "text/plain": [
       "Testing: 0it [00:00, ?it/s]"
      ]
     },
     "metadata": {},
     "output_type": "display_data"
    },
    {
     "name": "stdout",
     "output_type": "stream",
     "text": [
      "*****************************************\n",
      "    SOURCE: 'Well, gentlemen, I shall be the third parish priest, eighty years of age, to be deprived of his living in this district.\n",
      "    TARGET: – Eh bien, messieurs ! je serai le troisième curé, de quatre-vingts ans d’âge, que l’on destituera dans ce voisinage.\n",
      " PREDICTED: – Eh bien , messieurs , j ’ aurai le troisième curé , quatre - vingt ans d ’ âge , se dans ce pays .\n",
      "*****************************************\n",
      "\n",
      "*****************************************\n",
      "    SOURCE: Tipsy from that potent juice, our bird of paradise had been reduced to helplessness.\n",
      "    TARGET: Le paradisier, enivré par le suc capiteux, était réduit à l'impuissance.\n",
      " PREDICTED: L ' oiseau du paradis était lourd et profond .\n",
      "*****************************************\n"
     ]
    },
    {
     "data": {
      "text/plain": [
       "<pytorch_lightning.trainer.trainer.Trainer at 0x7f93ec6d4100>"
      ]
     },
     "execution_count": 8,
     "metadata": {},
     "output_type": "execute_result"
    }
   ],
   "source": [
    "train_transformer(transformer_model, opus_dm, cfg, epochs=cfg['num_epochs'])"
   ]
  },
  {
   "cell_type": "code",
   "execution_count": null,
   "metadata": {},
   "outputs": [],
   "source": []
  }
 ],
 "metadata": {
  "colab": {
   "gpuType": "T4",
   "include_colab_link": true,
   "provenance": []
  },
  "kernelspec": {
   "display_name": "Python 3 (ipykernel)",
   "language": "python",
   "name": "python3"
  },
  "language_info": {
   "codemirror_mode": {
    "name": "ipython",
    "version": 3
   },
   "file_extension": ".py",
   "mimetype": "text/x-python",
   "name": "python",
   "nbconvert_exporter": "python",
   "pygments_lexer": "ipython3",
   "version": "3.8.0"
  }
 },
 "nbformat": 4,
 "nbformat_minor": 4
}
