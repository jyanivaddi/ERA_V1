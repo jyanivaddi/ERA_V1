{
  "cells": [
    {
      "cell_type": "markdown",
      "metadata": {
        "id": "view-in-github",
        "colab_type": "text"
      },
      "source": [
        "<a href=\"https://colab.research.google.com/github/jyanivaddi/ERA_V1/blob/master/session_15/S15_pl_lightning.ipynb\" target=\"_parent\"><img src=\"https://colab.research.google.com/assets/colab-badge.svg\" alt=\"Open In Colab\"/></a>"
      ]
    },
    {
      "cell_type": "markdown",
      "metadata": {
        "id": "OZ4DqRTb9Ym8"
      },
      "source": [
        "First Connect Google Drive"
      ]
    },
    {
      "cell_type": "code",
      "execution_count": null,
      "metadata": {
        "id": "TDhBByBZ8qi9"
      },
      "outputs": [],
      "source": [
        "from google.colab import drive\n",
        "drive.mount('/content/gdrive/', force_remount=True)"
      ]
    },
    {
      "cell_type": "markdown",
      "metadata": {
        "id": "cgHQxuQMAJ5o"
      },
      "source": [
        "Install packages"
      ]
    },
    {
      "cell_type": "code",
      "execution_count": null,
      "metadata": {
        "id": "VAOiUa_mAJVQ"
      },
      "outputs": [],
      "source": [
        "!git clone \"https://github.com/jyanivaddi/ERA_V1.git\"\n",
        "!git -C ERA_V1 pull\n",
        "#!cd ../\n",
        "!git clone \"https://github.com/jyanivaddi/dl_hub.git\"\n",
        "!git -C dl_hub pull\n",
        "!git pull\n",
        "#!cd ../\n",
        "\n",
        "!pip install --quiet \"torchinfo\" \"seaborn\" \"pytorch-lightning\" \"torchmetrics\" \"lightning-bolts\", \"torchtext\", \"datasets\", \"tokenizers\"\n",
        "!pip install --quiet \"prettytable\"\n",
        "!pip install --quiet \"torchsummary\"\n",
        "!pip install --quiet \"torch_lr_finder\"\n",
        "!pip install --quiet \"grad-cam\"\n",
        "!pip install --quiet \"gradio\""
      ]
    },
    {
      "cell_type": "code",
      "execution_count": null,
      "metadata": {
        "id": "ivBzl8YFPvJ0"
      },
      "outputs": [],
      "source": [
        "import sys\n",
        "sys.path.append(\"ERA_V1/session_15\")\n",
        "sys.path.append(\"dl_hub\")"
      ]
    },
    {
      "cell_type": "code",
      "execution_count": null,
      "metadata": {
        "ExecuteTime": {
          "end_time": "2023-09-02T02:25:31.631168282Z",
          "start_time": "2023-09-02T02:25:30.364159923Z"
        },
        "colab": {
          "base_uri": "https://localhost:8080/"
        },
        "id": "n41Pe-b1J3mC",
        "outputId": "a8cbac66-45be-4bab-9e28-2db0da2b7505"
      },
      "outputs": [
        {
          "name": "stdout",
          "output_type": "stream",
          "text": [
            "remote: Enumerating objects: 12, done.\u001b[K\n",
            "remote: Counting objects: 100% (12/12), done.\u001b[K\n",
            "remote: Compressing objects: 100% (2/2), done.\u001b[K\n",
            "remote: Total 8 (delta 6), reused 8 (delta 6), pack-reused 0\u001b[K\n",
            "Unpacking objects: 100% (8/8), 707 bytes | 353.00 KiB/s, done.\n",
            "From https://github.com/jyanivaddi/dl_hub\n",
            "   134449a..bbbcc6f  main       -> origin/main\n",
            "Updating 134449a..bbbcc6f\n",
            "Fast-forward\n",
            " Transformer/PL_model.py | 3 \u001b[32m++\u001b[m\u001b[31m-\u001b[m\n",
            " Transformer/config.py   | 5 \u001b[32m+++\u001b[m\u001b[31m--\u001b[m\n",
            " 2 files changed, 5 insertions(+), 3 deletions(-)\n"
          ]
        }
      ],
      "source": [
        "!git -C dl_hub pull\n"
      ]
    },
    {
      "cell_type": "code",
      "execution_count": null,
      "metadata": {
        "ExecuteTime": {
          "end_time": "2023-09-02T02:26:21.011821928Z",
          "start_time": "2023-09-02T02:26:16.375147939Z"
        },
        "id": "x8WpKATx75Hu"
      },
      "outputs": [],
      "source": [
        "import torch\n",
        "import torch.nn as nn\n",
        "from torch.optim.lr_scheduler import OneCycleLR\n",
        "#from dl_hub.Transformer.config import get_config\n",
        "from dl_hub.Transformer.config import get_config\n",
        "from dl_hub.Transformer.PL_data_module import OpusDataModule\n",
        "from dl_hub.Transformer.PL_model import LitTransformer\n",
        "from dl_hub.Transformer.PL_main import train_transformer\n",
        "\n"
      ]
    },
    {
      "cell_type": "code",
      "execution_count": null,
      "metadata": {
        "ExecuteTime": {
          "end_time": "2023-09-02T02:26:23.442608556Z",
          "start_time": "2023-09-02T02:26:23.429137573Z"
        },
        "jupyter": {
          "outputs_hidden": false
        },
        "id": "6MnLhcnUBVgV"
      },
      "outputs": [],
      "source": [
        "cfg = get_config()\n",
        "cfg['batch_size'] = 16\n",
        "cfg['d_model'] = 512\n",
        "cfg['preload'] = None\n",
        "cfg['num_epochs'] = 30\n",
        "cfg[\"ds_mode\"] = 'disk'\n",
        "cfg[\"ds_path\"] = \"/home/e183534/ERA_Datasets/OpusBooks_En_It\"\n"
      ]
    },
    {
      "cell_type": "markdown",
      "metadata": {
        "collapsed": false,
        "jupyter": {
          "outputs_hidden": false
        },
        "id": "CqLWwbmnBVgV"
      },
      "source": [
        "**Define data module**"
      ]
    },
    {
      "cell_type": "code",
      "execution_count": null,
      "metadata": {
        "ExecuteTime": {
          "end_time": "2023-09-02T02:26:26.980402531Z",
          "start_time": "2023-09-02T02:26:26.924782815Z"
        },
        "jupyter": {
          "outputs_hidden": false
        },
        "id": "HHa7Gye9BVgW"
      },
      "outputs": [],
      "source": [
        "opus_dm = OpusDataModule(cfg)\n",
        "opus_dm.prepare_data()\n",
        "opus_dm.setup()\n",
        "train_data_loader = opus_dm.train_dataloader()"
      ]
    },
    {
      "cell_type": "markdown",
      "metadata": {
        "collapsed": false,
        "jupyter": {
          "outputs_hidden": false
        },
        "id": "Kj3FuwhcBVgW"
      },
      "source": [
        "**Define PL Model**"
      ]
    },
    {
      "cell_type": "code",
      "source": [
        "tokenizer_src = opus_dm.tokenizer_src\n",
        "tokenizer_tgt = opus_dm.tokenizer_tgt\n",
        "loss_criterion = nn.CrossEntropyLoss(ignore_index=tokenizer_src.token_to_id('[PAD]'), label_smoothing=0.1)\n",
        "transformer_model = LitTransformer(cfg, loss_criterion, tokenizer_src, tokenizer_tgt)\n",
        "optimizer = torch.optim.Adam(transformer_model.model.parameters(), lr=cfg['lr'], eps=1e-9)\n",
        "transformer_model.set_optimizer(optimizer)\n",
        "\n",
        "scheduler = OneCycleLR(\n",
        "    optimizer,\n",
        "    max_lr=1E-3,\n",
        "    steps_per_epoch=len(train_data_loader),\n",
        "    epochs=cfg['num_epochs'],\n",
        "    pct_start=5/cfg['num_epochs'],\n",
        "    div_factor=10,\n",
        "    three_phase=True,\n",
        "    final_div_factor=10,\n",
        "    anneal_strategy='linear'\n",
        ")\n",
        "transformer_model.set_scheduler_dict(scheduler, freq = 'step')"
      ],
      "metadata": {
        "id": "vpn60wQXBlh6"
      },
      "execution_count": null,
      "outputs": []
    },
    {
      "cell_type": "code",
      "execution_count": null,
      "metadata": {
        "jupyter": {
          "outputs_hidden": false
        },
        "id": "XYtld90cBVgX",
        "outputId": "7d79e5d6-60fb-42c5-c130-fed9606d5797",
        "colab": {
          "referenced_widgets": [
            "f2544dc0e9c244649e99447e99de6e77"
          ]
        }
      },
      "outputs": [
        {
          "name": "stderr",
          "output_type": "stream",
          "text": [
            "GPU available: True (cuda), used: True\n",
            "TPU available: False, using: 0 TPU cores\n",
            "IPU available: False, using: 0 IPUs\n",
            "HPU available: False, using: 0 HPUs\n",
            "LOCAL_RANK: 0 - CUDA_VISIBLE_DEVICES: [0]\n",
            "\n",
            "  | Name           | Type             | Params\n",
            "----------------------------------------------------\n",
            "0 | loss_criterion | CrossEntropyLoss | 0     \n",
            "1 | model          | Transformer      | 75.1 M\n",
            "----------------------------------------------------\n",
            "75.1 M    Trainable params\n",
            "0         Non-trainable params\n",
            "75.1 M    Total params\n",
            "300.532   Total estimated model params size (MB)\n",
            "/home/e183534/ERA_V1/venv/lib/python3.8/site-packages/pytorch_lightning/trainer/connectors/data_connector.py:224: PossibleUserWarning: The dataloader, train_dataloader, does not have many workers which may be a bottleneck. Consider increasing the value of the `num_workers` argument` (try 8 which is the number of cpus on this machine) in the `DataLoader` init to improve performance.\n",
            "  rank_zero_warn(\n",
            "/home/e183534/ERA_V1/venv/lib/python3.8/site-packages/pytorch_lightning/trainer/connectors/data_connector.py:488: PossibleUserWarning: Your `val_dataloader`'s sampler has shuffling enabled, it is strongly recommended that you turn shuffling off for val/test/predict dataloaders.\n",
            "  rank_zero_warn(\n",
            "/home/e183534/ERA_V1/venv/lib/python3.8/site-packages/pytorch_lightning/trainer/connectors/data_connector.py:224: PossibleUserWarning: The dataloader, val_dataloader 0, does not have many workers which may be a bottleneck. Consider increasing the value of the `num_workers` argument` (try 8 which is the number of cpus on this machine) in the `DataLoader` init to improve performance.\n",
            "  rank_zero_warn(\n"
          ]
        },
        {
          "data": {
            "application/vnd.jupyter.widget-view+json": {
              "model_id": "f2544dc0e9c244649e99447e99de6e77",
              "version_major": 2,
              "version_minor": 0
            },
            "text/plain": [
              "Training: 0it [00:00, ?it/s]"
            ]
          },
          "metadata": {},
          "output_type": "display_data"
        },
        {
          "name": "stderr",
          "output_type": "stream",
          "text": [
            "/home/e183534/ERA_V1/venv/lib/python3.8/site-packages/pytorch_lightning/trainer/call.py:48: UserWarning: Detected KeyboardInterrupt, attempting graceful shutdown...\n",
            "  rank_zero_warn(\"Detected KeyboardInterrupt, attempting graceful shutdown...\")\n",
            "LOCAL_RANK: 0 - CUDA_VISIBLE_DEVICES: [0]\n"
          ]
        },
        {
          "data": {
            "text/plain": [
              "<pytorch_lightning.trainer.trainer.Trainer at 0x7f373c731b80>"
            ]
          },
          "execution_count": 11,
          "metadata": {},
          "output_type": "execute_result"
        }
      ],
      "source": [
        "train_transformer(transformer_model, opus_dm, cfg, epochs=cfg['num_epochs'])"
      ]
    },
    {
      "cell_type": "code",
      "execution_count": null,
      "metadata": {
        "jupyter": {
          "outputs_hidden": false
        },
        "id": "yvQLWfogBVgX",
        "outputId": "359d6cea-e2f3-48b8-9430-8a91fee85536"
      },
      "outputs": [
        {
          "name": "stdout",
          "output_type": "stream",
          "text": [
            "TensorFlow installation not found - running with reduced feature set.\n",
            "/home/e183534/ERA_V1/venv/lib/python3.8/site-packages/tensorboard_data_server/bin/server: /lib/x86_64-linux-gnu/libc.so.6: version `GLIBC_2.29' not found (required by /home/e183534/ERA_V1/venv/lib/python3.8/site-packages/tensorboard_data_server/bin/server)\n",
            "/home/e183534/ERA_V1/venv/lib/python3.8/site-packages/tensorboard_data_server/bin/server: /lib/x86_64-linux-gnu/libc.so.6: version `GLIBC_2.33' not found (required by /home/e183534/ERA_V1/venv/lib/python3.8/site-packages/tensorboard_data_server/bin/server)\n",
            "/home/e183534/ERA_V1/venv/lib/python3.8/site-packages/tensorboard_data_server/bin/server: /lib/x86_64-linux-gnu/libc.so.6: version `GLIBC_2.28' not found (required by /home/e183534/ERA_V1/venv/lib/python3.8/site-packages/tensorboard_data_server/bin/server)\n",
            "/home/e183534/ERA_V1/venv/lib/python3.8/site-packages/tensorboard_data_server/bin/server: /lib/x86_64-linux-gnu/libc.so.6: version `GLIBC_2.34' not found (required by /home/e183534/ERA_V1/venv/lib/python3.8/site-packages/tensorboard_data_server/bin/server)\n",
            "/home/e183534/ERA_V1/venv/lib/python3.8/site-packages/tensorboard_data_server/bin/server: /lib/x86_64-linux-gnu/libc.so.6: version `GLIBC_2.32' not found (required by /home/e183534/ERA_V1/venv/lib/python3.8/site-packages/tensorboard_data_server/bin/server)\n",
            "Address already in use\n",
            "Port 6006 is in use by another program. Either identify and stop that program, or start the server with a different port.\n"
          ]
        }
      ],
      "source": [
        "!tensorboard --logdir=runs"
      ]
    },
    {
      "cell_type": "code",
      "execution_count": null,
      "metadata": {
        "id": "PnCnYNyBBVgY"
      },
      "outputs": [],
      "source": []
    },
    {
      "cell_type": "code",
      "execution_count": null,
      "metadata": {
        "id": "e7GmuuQABVgY"
      },
      "outputs": [],
      "source": []
    }
  ],
  "metadata": {
    "colab": {
      "gpuType": "T4",
      "provenance": [],
      "include_colab_link": true
    },
    "kernelspec": {
      "display_name": "Python 3 (ipykernel)",
      "language": "python",
      "name": "python3"
    },
    "language_info": {
      "codemirror_mode": {
        "name": "ipython",
        "version": 3
      },
      "file_extension": ".py",
      "mimetype": "text/x-python",
      "name": "python",
      "nbconvert_exporter": "python",
      "pygments_lexer": "ipython3",
      "version": "3.8.0"
    }
  },
  "nbformat": 4,
  "nbformat_minor": 0
}