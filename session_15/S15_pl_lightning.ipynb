{
 "cells": [
  {
   "cell_type": "markdown",
   "metadata": {
    "colab_type": "text",
    "id": "view-in-github"
   },
   "source": [
    "<a href=\"https://colab.research.google.com/github/jyanivaddi/ERA_V1/blob/master/session_15/S15.ipynb\" target=\"_parent\"><img src=\"https://colab.research.google.com/assets/colab-badge.svg\" alt=\"Open In Colab\"/></a>"
   ]
  },
  {
   "cell_type": "markdown",
   "metadata": {
    "id": "OZ4DqRTb9Ym8"
   },
   "source": [
    "First Connect Google Drive"
   ]
  },
  {
   "cell_type": "code",
   "execution_count": null,
   "metadata": {
    "colab": {
     "base_uri": "https://localhost:8080/"
    },
    "id": "TDhBByBZ8qi9",
    "outputId": "f84d600d-7735-4f6b-e826-05041631fa8e"
   },
   "outputs": [],
   "source": [
    "from google.colab import drive\n",
    "drive.mount('/content/gdrive/', force_remount=True)"
   ]
  },
  {
   "cell_type": "markdown",
   "metadata": {
    "id": "cgHQxuQMAJ5o"
   },
   "source": [
    "Install packages"
   ]
  },
  {
   "cell_type": "code",
   "execution_count": null,
   "metadata": {
    "colab": {
     "base_uri": "https://localhost:8080/"
    },
    "id": "VAOiUa_mAJVQ",
    "outputId": "b0f2ab9c-d179-441d-fdca-284c01631b13"
   },
   "outputs": [],
   "source": [
    "!git clone \"https://github.com/jyanivaddi/ERA_V1.git\"\n",
    "!git -C ERA_V1 pull\n",
    "#!cd ../\n",
    "!git clone \"https://github.com/jyanivaddi/dl_hub.git\"\n",
    "!git -C dl_hub pull\n",
    "!git pull\n",
    "#!cd ../\n",
    "\n",
    "!pip install --quiet \"torchinfo\" \"seaborn\" \"pytorch-lightning\" \"torchmetrics\" \"lightning-bolts\", \"torchtext\", \"datasets\", \"tokenizers\"\n",
    "!pip install --quiet \"prettytable\"\n",
    "!pip install --quiet \"torchsummary\"\n",
    "!pip install --quiet \"torch_lr_finder\"\n",
    "!pip install --quiet \"grad-cam\"\n",
    "!pip install --quiet \"gradio\""
   ]
  },
  {
   "cell_type": "code",
   "execution_count": null,
   "metadata": {
    "id": "ivBzl8YFPvJ0"
   },
   "outputs": [],
   "source": [
    "import sys\n",
    "sys.path.append(\"ERA_V1/session_15\")\n",
    "sys.path.append(\"dl_hub\")"
   ]
  },
  {
   "cell_type": "code",
   "execution_count": 1,
   "metadata": {
    "ExecuteTime": {
     "end_time": "2023-09-02T02:25:31.631168282Z",
     "start_time": "2023-09-02T02:25:30.364159923Z"
    },
    "colab": {
     "base_uri": "https://localhost:8080/"
    },
    "id": "n41Pe-b1J3mC",
    "outputId": "a8cbac66-45be-4bab-9e28-2db0da2b7505"
   },
   "outputs": [
    {
     "name": "stdout",
     "output_type": "stream",
     "text": [
      "remote: Enumerating objects: 7, done.\u001b[K\n",
      "remote: Counting objects: 100% (7/7), done.\u001b[K\n",
      "remote: Compressing objects: 100% (1/1), done.\u001b[K\n",
      "remote: Total 4 (delta 3), reused 4 (delta 3), pack-reused 0\u001b[K\n",
      "Unpacking objects: 100% (4/4), 342 bytes | 342.00 KiB/s, done.\n",
      "From https://github.com/jyanivaddi/dl_hub\n",
      "   d8a625d..134449a  main       -> origin/main\n",
      "Updating d8a625d..134449a\n",
      "Fast-forward\n",
      " Transformer/PL_model.py | 2 \u001b[32m+\u001b[m\u001b[31m-\u001b[m\n",
      " 1 file changed, 1 insertion(+), 1 deletion(-)\n"
     ]
    }
   ],
   "source": [
    "!git -C dl_hub pull\n"
   ]
  },
  {
   "cell_type": "code",
   "execution_count": 2,
   "metadata": {
    "ExecuteTime": {
     "end_time": "2023-09-02T02:26:21.011821928Z",
     "start_time": "2023-09-02T02:26:16.375147939Z"
    },
    "colab": {
     "base_uri": "https://localhost:8080/",
     "height": 470
    },
    "id": "x8WpKATx75Hu",
    "outputId": "53c19e59-1a97-4dc0-a2d7-2d31e3809f2f"
   },
   "outputs": [],
   "source": [
    "import torch\n",
    "import torch.nn as nn\n",
    "#from dl_hub.Transformer.config import get_config\n",
    "from dl_hub.Transformer.config import get_config\n",
    "from dl_hub.Transformer.PL_data_module import OpusDataModule\n",
    "from dl_hub.Transformer.PL_model import LitTransformer\n",
    "from dl_hub.Transformer.PL_main import train_transformer\n"
   ]
  },
  {
   "cell_type": "code",
   "execution_count": 3,
   "metadata": {
    "ExecuteTime": {
     "end_time": "2023-09-02T02:26:23.442608556Z",
     "start_time": "2023-09-02T02:26:23.429137573Z"
    },
    "collapsed": false,
    "jupyter": {
     "outputs_hidden": false
    }
   },
   "outputs": [],
   "source": [
    "cfg = get_config()\n",
    "cfg['batch_size'] = 16\n",
    "cfg['d_model'] = 512\n",
    "cfg['preload'] = None\n",
    "cfg['num_epochs'] = 10\n",
    "cfg[\"ds_mode\"] = 'disk'\n",
    "cfg[\"ds_path\"] = \"/home/e183534/OpusBooks\"\n"
   ]
  },
  {
   "cell_type": "markdown",
   "metadata": {
    "collapsed": false,
    "jupyter": {
     "outputs_hidden": false
    }
   },
   "source": [
    "**Define data module**"
   ]
  },
  {
   "cell_type": "code",
   "execution_count": 4,
   "metadata": {
    "ExecuteTime": {
     "end_time": "2023-09-02T02:26:26.980402531Z",
     "start_time": "2023-09-02T02:26:26.924782815Z"
    },
    "collapsed": false,
    "jupyter": {
     "outputs_hidden": false
    }
   },
   "outputs": [],
   "source": [
    "opus_dm = OpusDataModule(cfg)\n",
    "opus_dm.prepare_data()\n",
    "opus_dm.setup()"
   ]
  },
  {
   "cell_type": "markdown",
   "metadata": {
    "collapsed": false,
    "jupyter": {
     "outputs_hidden": false
    }
   },
   "source": [
    "**Define PL Model**"
   ]
  },
  {
   "cell_type": "code",
   "execution_count": 5,
   "metadata": {
    "ExecuteTime": {
     "end_time": "2023-09-02T02:26:31.462940183Z",
     "start_time": "2023-09-02T02:26:30.326291400Z"
    },
    "collapsed": false,
    "jupyter": {
     "outputs_hidden": false
    }
   },
   "outputs": [
    {
     "name": "stderr",
     "output_type": "stream",
     "text": [
      "/home/e183534/ERA_V1/venv/lib/python3.8/site-packages/pytorch_lightning/utilities/parsing.py:269: UserWarning: Attribute 'loss_criterion' is an instance of `nn.Module` and is already saved during checkpointing. It is recommended to ignore them using `self.save_hyperparameters(ignore=['loss_criterion'])`.\n",
      "  rank_zero_warn(\n"
     ]
    }
   ],
   "source": [
    "tokenizer_src = opus_dm.tokenizer_src\n",
    "tokenizer_tgt = opus_dm.tokenizer_tgt\n",
    "loss_criterion = nn.CrossEntropyLoss(ignore_index=tokenizer_src.token_to_id('[PAD]'), label_smoothing=0.1)\n",
    "transformer_model = LitTransformer(cfg, loss_criterion, tokenizer_src, tokenizer_tgt)\n",
    "optimizer = torch.optim.Adam(transformer_model.model.parameters(), lr=cfg['lr'], eps=1e-9)\n",
    "transformer_model.set_optimizer(optimizer)\n"
   ]
  },
  {
   "cell_type": "code",
   "execution_count": 6,
   "metadata": {
    "collapsed": false,
    "jupyter": {
     "outputs_hidden": false
    }
   },
   "outputs": [
    {
     "name": "stderr",
     "output_type": "stream",
     "text": [
      "GPU available: True (cuda), used: True\n",
      "TPU available: False, using: 0 TPU cores\n",
      "IPU available: False, using: 0 IPUs\n",
      "HPU available: False, using: 0 HPUs\n",
      "LOCAL_RANK: 0 - CUDA_VISIBLE_DEVICES: [0]\n",
      "\n",
      "  | Name           | Type             | Params\n",
      "----------------------------------------------------\n",
      "0 | loss_criterion | CrossEntropyLoss | 0     \n",
      "1 | model          | Transformer      | 75.1 M\n",
      "----------------------------------------------------\n",
      "75.1 M    Trainable params\n",
      "0         Non-trainable params\n",
      "75.1 M    Total params\n",
      "300.532   Total estimated model params size (MB)\n",
      "/home/e183534/ERA_V1/venv/lib/python3.8/site-packages/pytorch_lightning/trainer/connectors/data_connector.py:224: PossibleUserWarning: The dataloader, train_dataloader, does not have many workers which may be a bottleneck. Consider increasing the value of the `num_workers` argument` (try 8 which is the number of cpus on this machine) in the `DataLoader` init to improve performance.\n",
      "  rank_zero_warn(\n",
      "/home/e183534/ERA_V1/venv/lib/python3.8/site-packages/pytorch_lightning/trainer/connectors/data_connector.py:488: PossibleUserWarning: Your `val_dataloader`'s sampler has shuffling enabled, it is strongly recommended that you turn shuffling off for val/test/predict dataloaders.\n",
      "  rank_zero_warn(\n",
      "/home/e183534/ERA_V1/venv/lib/python3.8/site-packages/pytorch_lightning/trainer/connectors/data_connector.py:224: PossibleUserWarning: The dataloader, val_dataloader 0, does not have many workers which may be a bottleneck. Consider increasing the value of the `num_workers` argument` (try 8 which is the number of cpus on this machine) in the `DataLoader` init to improve performance.\n",
      "  rank_zero_warn(\n"
     ]
    },
    {
     "data": {
      "application/vnd.jupyter.widget-view+json": {
       "model_id": "de026da414064229a965b48de14c6ec2",
       "version_major": 2,
       "version_minor": 0
      },
      "text/plain": [
       "Training: 0it [00:00, ?it/s]"
      ]
     },
     "metadata": {},
     "output_type": "display_data"
    },
    {
     "data": {
      "application/vnd.jupyter.widget-view+json": {
       "model_id": "",
       "version_major": 2,
       "version_minor": 0
      },
      "text/plain": [
       "Validation: 0it [00:00, ?it/s]"
      ]
     },
     "metadata": {},
     "output_type": "display_data"
    },
    {
     "name": "stdout",
     "output_type": "stream",
     "text": [
      "*****************************************\n",
      "    SOURCE: I sought my ideal of a woman amongst English ladies, French countesses, Italian signoras, and German grafinnen. I could not find her.\n",
      "    TARGET: Cercai il mio ideale di donna fra le donne inglesi, fra le contesse francesi, fra le patrizie italiane, fra le nobili tedesche, senza trovarlo.\n",
      " PREDICTED: Non a me , e non , ma non , ma non mi .\n",
      "*****************************************\n",
      "\n",
      "*****************************************\n",
      "    SOURCE: An old woman we met in the shop then kindly took us along with her for a quarter of a mile, to a lady friend of hers, who occasionally let rooms to gentlemen.\n",
      "    TARGET: Una vecchia incontrata nella bottega ci condusse gentilmente con lei per un quarto di miglio da una donnetta amica sua, che talvolta affittava delle stanze a dei signori.\n",
      " PREDICTED: La sua cosa era un ’ altra , e la sua cosa , e la sua cosa , e la sua cosa , e la sua cosa , e la sua sua sua , e la sua , e la sua cosa .\n",
      "*****************************************\n",
      "\n",
      "*****************************************\n",
      "    SOURCE: The unhealthy nature of the site; the quantity and quality of the children's food; the brackish, fetid water used in its preparation; the pupils' wretched clothing and accommodations--all these things were discovered, and the discovery produced a result mortifying to Mr. Brocklehurst, but beneficial to the institution.\n",
      "    TARGET: La malsana natura del luogo, la quantità e qualità del cibo dato alle educande, la cattiva qualità dell'acqua, l'insufficienza degli abiti, tutto infine fu svelato a vantaggio dell'istituzione, ma a scorno del signor Bockelhurst.\n",
      " PREDICTED: La mia volta , e , e , e , e , e , e , e , e , e , e , e , e , e , e , e .\n",
      "*****************************************\n",
      "\n",
      "*****************************************\n",
      "    SOURCE: It was settled that Levin would drive with Nataly to the concert and to the public meeting, and from there they would send the carriage to the office to fetch Arseny, who would call for his wife and take her on to Kitty's, or if he was detained by business he would send the carriage back, and Levin would accompany her.\n",
      "    TARGET: Fu deciso che Levin sarebbe andato al concerto e alla seduta pubblica con Natalie, e di là avrebbero mandato la carrozza all’ufficio a prendere Arsenij, e lui sarebbe passato a rilevarla per portarla da Kitty; oppure, s’egli non avesse sbrigato gli affari, avrebbe mandato la carrozza, e Levin sarebbe andato con lei.\n",
      " PREDICTED: E che , si , e la sua , e si , e , e la sua , e la sua , e la sua , e la sua sua , e si , e la sua , e si , e la sua , e si , e la sua , e si , e la sua , e si , e si .\n",
      "*****************************************\n",
      "\n",
      "*****************************************\n",
      "    SOURCE: \"Be composed, all of you: I'm coming.\"\n",
      "    TARGET: — Eccomi: rassicuratevi tutti, — disse.\n",
      " PREDICTED: — Sì , non è un ’ è un ’ è un ’ è .\n",
      "*****************************************\n",
      "\n",
      "*****************************************\n",
      "    SOURCE: Exhausted by emotion, my language was more subdued than it generally was when it developed that sad theme; and mindful of Helen's warnings against the indulgence of resentment, I infused into the narrative far less of gall and wormwood than ordinary.\n",
      "    TARGET: Ero sfinita dalla commozione; così le mie parole furono più dolci che quando avevo altre volte toccato quell'argomento doloroso. Rammentando ciò che Elena mi aveva detto sull'indulgenza, cercai di metter meno fiele nel racconto, il quale, fatto così, era più verosimile.\n",
      " PREDICTED: La mia mia , e non , e non , e non , e non , e , e , e .\n",
      "*****************************************\n",
      "\n",
      "*****************************************\n",
      "    SOURCE: But don't forget that you see us in summer when you have come and we are not alone...\n",
      "    TARGET: Ma non dimenticare che ci vedi ora d’estate, ora che sei arrivata tu e non siamo soli...\n",
      " PREDICTED: Ma non non non non non non non non è detto che non non non non non non non non non non non non non non non non non non non non non non non non non non non non non non non non non non non non non non non non non non non non non non non non non non non non non non non non non non non non non non non non non non non non non non non non non non non non non non non non non non non non non non non non non non non non non non non non non non non non non non non non non non non non non non non non non non non non non non non non non non non non non non non non non non non non non non non non non non non non non non non non non non non non non non non non non non non non non non non non non non non non non non non non non è .\n",
      "*****************************************\n",
      "\n",
      "*****************************************\n",
      "    SOURCE: 'Quite a child, and yet already affected and pulling faces,' thought Anna.\n",
      "    TARGET: “La bambina, anche quella è sfigurata e smorfiosa” pensò Anna.\n",
      " PREDICTED: — Sì , ma non è un ’ ic , e la mano — disse Levin .\n",
      "*****************************************\n",
      "\n",
      "*****************************************\n",
      "    SOURCE: For the first time he vividly pictured to himself her personal life, her thoughts, her wishes; but the idea that she might and should have her own independent life appeared to him so dreadful that he hastened to drive it away.\n",
      "    TARGET: Per la prima volta si rappresentò con chiarezza la vita intima di lei, i suoi pensieri, i suoi desideri; e l’idea che ella potesse avere una vita tutta propria gli sembrò così spaventosa che s’affrettò a scacciarla.\n",
      " PREDICTED: La sua cosa era un ’ altra , e non si , ma non si , ma non si , ma non si , ma non si , ma non si .\n",
      "*****************************************\n",
      "\n",
      "*****************************************\n",
      "    SOURCE: Altogether there were many complicated arrangements to consider.\n",
      "    TARGET: Insomma, di considerazioni molto complicate ce n’erano tante.\n",
      " PREDICTED: La mia cosa era un ’ altro .\n",
      "*****************************************\n",
      "\n",
      "Epoch 0: train_loss=5.7791\n"
     ]
    },
    {
     "data": {
      "application/vnd.jupyter.widget-view+json": {
       "model_id": "",
       "version_major": 2,
       "version_minor": 0
      },
      "text/plain": [
       "Validation: 0it [00:00, ?it/s]"
      ]
     },
     "metadata": {},
     "output_type": "display_data"
    },
    {
     "name": "stdout",
     "output_type": "stream",
     "text": [
      "*****************************************\n",
      "    SOURCE: \"Oh! that's where it is, is it?\" replied the man; \"well, you take my advice and go there quietly, and take that watch of yours with you; and don't let's have any more of it.\"\n",
      "    TARGET: — Ah! sì, là? — rispose la guardia. — Bene, seguite il mio consiglio e andatevene tranquillamente con tutto l’orologio; e non se ne parli più.\n",
      " PREDICTED: — Ah , che è un po ’ di ? — disse , — e non è stato di , e non è stato di , e non è stato .\n",
      "*****************************************\n",
      "\n",
      "*****************************************\n",
      "    SOURCE: And as there is nothing less amenable to agreement than disagreement on semi-abstract themes, they not only disagreed in their opinions but had long been accustomed without anger to ridicule each other's incorrigible delusions.\n",
      "    TARGET: E poiché è molto difficile metter d’accordo dissensi lievi, indefiniti, essi non solo non concordavano mai nelle opinioni, ma erano da tempo abituati, senza irritarsi, a irridere l’uno l’incorreggibile aberrazione dell’altro.\n",
      " PREDICTED: E non si , non si , non si , ma non si , ma non si , ma non si , ma non si .\n",
      "*****************************************\n",
      "\n",
      "*****************************************\n",
      "    SOURCE: The steward was ready to sign the contract.\n",
      "    TARGET: L’amministratore era pronto a firmare il contratto.\n",
      " PREDICTED: La sua vita era stata .\n",
      "*****************************************\n",
      "\n",
      "*****************************************\n",
      "    SOURCE: \"Yes, in a passive way: I make no effort; I follow as inclination guides me.\n",
      "    TARGET: — Sì, cioè sono buona passivamente: non faccio sforzi; vado dove mi conduce l'inclinazione.\n",
      " PREDICTED: — Sì , signore , signore , non ho fatto più di me .\n",
      "*****************************************\n",
      "\n",
      "*****************************************\n",
      "    SOURCE: 'Yes, and just imagine if she refused Levin – and she would not have refused him if it had not been for that other. I know...\n",
      "    TARGET: — Certamente. Immaginate... se ha detto di no a Levin... e non l’avrebbe mai respinto se non ci fosse stato l’altro, lo so...\n",
      " PREDICTED: — Sì , e , e non è nulla di Levin , e non lo .\n",
      "*****************************************\n",
      "\n",
      "*****************************************\n",
      "    SOURCE: THE HAY WAS ROPED.\n",
      "    TARGET: Il carico fu legato.\n",
      " PREDICTED: Il suo momento era .\n",
      "*****************************************\n",
      "\n",
      "*****************************************\n",
      "    SOURCE: \"Yes it's almost a pity we've made up our minds to stick to this boat,\" answered Harris; and then there was silence for a while.\n",
      "    TARGET: — Sì, è quasi un peccato che ci siam messi in mente di rimanercene nella barca — rispose Harris; e poi per un poco vi fu silenzio.\n",
      " PREDICTED: — Sì , — disse il mio momento , — — e il mio momento , — e il mio momento , e il mio momento .\n",
      "*****************************************\n",
      "\n",
      "*****************************************\n",
      "    SOURCE: \"Mother!\" she exclaimed, \"there is a woman wants me to give her these porridge.\"\n",
      "    TARGET: — Mamma! — esclamò; — c'è una donna che mi chiede la minestra.\n",
      " PREDICTED: — Sì , — disse , — che è un uomo di una donna .\n",
      "*****************************************\n",
      "\n",
      "*****************************************\n",
      "    SOURCE: Both her cast of form and feature, her complexion and her general air, suggested the idea of some Israelitish princess of the patriarchal days; and such was doubtless the character she intended to represent.\n",
      "    TARGET: Questa dette a divedere la sua meraviglia e ammirazione, e allora lo straniero, inginocchiandosi, le appese le buccole agli orecchi e le infilò nel braccio i monili.\n",
      " PREDICTED: e e si e si , e si , e si , e si , e si , e si a .\n",
      "*****************************************\n",
      "\n",
      "*****************************************\n",
      "    SOURCE: 'I must be going!' he said, moving toward the door.\n",
      "    TARGET: — Oh, è già ora — e andò verso la porta.\n",
      " PREDICTED: — Io , andiamo ! — disse il viso .\n",
      "*****************************************\n",
      "\n",
      "Epoch 1: train_loss=4.7967\n"
     ]
    },
    {
     "data": {
      "application/vnd.jupyter.widget-view+json": {
       "model_id": "",
       "version_major": 2,
       "version_minor": 0
      },
      "text/plain": [
       "Validation: 0it [00:00, ?it/s]"
      ]
     },
     "metadata": {},
     "output_type": "display_data"
    },
    {
     "name": "stdout",
     "output_type": "stream",
     "text": [
      "*****************************************\n",
      "    SOURCE: And did she swim in some particular way?' asked Anna, without answering his question.\n",
      "    TARGET: Be’, nuota in modo particolare? — disse Anna senza rispondere.\n",
      " PREDICTED: E egli si era stata stata stata in modo di nuovo ? — chiese Anna .\n",
      "*****************************************\n",
      "\n",
      "*****************************************\n",
      "    SOURCE: Toward four o'clock, having finished his work, he returned home.\n",
      "    TARGET: Finiti i suoi affari, tornò a casa dopo le tre.\n",
      " PREDICTED: Quando il giorno , dopo aver fatto il giorno , si era stata già già fatto .\n",
      "*****************************************\n",
      "\n",
      "*****************************************\n",
      "    SOURCE: Despair added, \"Farewell for ever!\"\n",
      "    TARGET: La disperazione aggiunse: \"Addio per sempre!\"\n",
      " PREDICTED: , signore , — disse .\n",
      "*****************************************\n",
      "\n",
      "*****************************************\n",
      "    SOURCE: 'But what is to be done, Dolly, what is to be done?\n",
      "    TARGET: — Ma, Dolly, che fare, che fare?\n",
      " PREDICTED: — Ma che cosa è ?\n",
      "*****************************************\n",
      "\n",
      "*****************************************\n",
      "    SOURCE: 'What shall we have to drink?'\n",
      "    TARGET: — E cosa berremo?\n",
      " PREDICTED: — Che cosa ci ?\n",
      "*****************************************\n",
      "\n",
      "*****************************************\n",
      "    SOURCE: So she stood still where she was, and waited.\n",
      "    TARGET: Così rimase in piedi ad aspettare.\n",
      " PREDICTED: E lui si era stata già già già , e si era stata .\n",
      "*****************************************\n",
      "\n",
      "*****************************************\n",
      "    SOURCE: Oh, that gentleness! how far more potent is it than force!\n",
      "    TARGET: Oh! quanta più forza aveva quella dolcezza che la violenza.\n",
      " PREDICTED: Ah , come è stato così , è stato più di più .\n",
      "*****************************************\n",
      "\n",
      "*****************************************\n",
      "    SOURCE: I had not; I soon asked and obtained leave of Mr. Rochester, to go and see her at the school where he had placed her.\n",
      "    TARGET: Io non l'ho dimenticata e andai subito a visitarla nella pensione dov'era.\n",
      " PREDICTED: Non avevo detto che mi , e mi domandò il signor Rochester , e mi aveva detto che era stata stata stata la mia vita .\n",
      "*****************************************\n",
      "\n",
      "*****************************************\n",
      "    SOURCE: \"Can you understand her when she runs on so fast?\" asked Mrs. Fairfax.\n",
      "    TARGET: — La potete capire quando parla così presto? — mi domandò la signora Fairfax.\n",
      " PREDICTED: — Che cosa avete detto che la signora Fairfax ? — domandò la signora Fairfax .\n",
      "*****************************************\n",
      "\n",
      "*****************************************\n",
      "    SOURCE: 'On the other side,' she said to her husband, 'he always sleeps on that side.\n",
      "    TARGET: — Dall’altro lato — ella disse al marito; — dorme sempre da quella parte.\n",
      " PREDICTED: — , , — disse la moglie , — che si in modo di nuovo .\n",
      "*****************************************\n",
      "\n",
      "Epoch 2: train_loss=5.2377\n"
     ]
    },
    {
     "data": {
      "application/vnd.jupyter.widget-view+json": {
       "model_id": "",
       "version_major": 2,
       "version_minor": 0
      },
      "text/plain": [
       "Validation: 0it [00:00, ?it/s]"
      ]
     },
     "metadata": {},
     "output_type": "display_data"
    },
    {
     "name": "stdout",
     "output_type": "stream",
     "text": [
      "*****************************************\n",
      "    SOURCE: How came you here?” and such things as I had taught him.\n",
      "    TARGET: Dove siete? Dove siete stato? e simili cose che gli aveva insegnate.\n",
      " PREDICTED: Come vi ! — e io ho fatto come ho fatto .\n",
      "*****************************************\n",
      "\n",
      "*****************************************\n",
      "    SOURCE: You must turn right round and go back, and then you will come to the Stag.\"\n",
      "    TARGET: Dovete voltare a destra e tornare indietro, e arriverete al Cervo.\n",
      " PREDICTED: Tu ti , e , e a .\n",
      "*****************************************\n",
      "\n",
      "*****************************************\n",
      "    SOURCE: To supply this want, I was at a great loss; for, of all the trades in the world, I was as perfectly unqualified for a stone-cutter as for any whatever; neither had I any tools to go about it with.\n",
      "    TARGET: Per supplire a tale bisogno io non sapea da vero da qual parte volgermi, perchè, fra tutti i mestieri del mondo, io mi sentiva chiamato a quel dello scarpellino anche meno che a qualunque altro. Impiegai molti giorni a trovar fuori un masso grosso abbastanza per sopportare uno scavamento interno e divenir così il mio mortaio; ma non ne rinvenni eccetto che di quelli incastrati nel vivo di qualche rupe ch’io non aveva modo di cavar fuori.\n",
      " PREDICTED: In questo caso , io non ho mai avuto un ’ altra parte di una delle cose ; ma io non ho mai avuto una delle cose , perchè non mi mai di , nè mi a , nè mi a .\n",
      "*****************************************\n",
      "\n",
      "*****************************************\n",
      "    SOURCE: Karenin's success was even greater than he had expected.\n",
      "    TARGET: Il successo di Aleksej Aleksandrovic fu persino maggiore di quello che egli si aspettava.\n",
      " PREDICTED: Aleksej Aleksandrovic si era più più di più che aveva fatto .\n",
      "*****************************************\n",
      "\n",
      "*****************************************\n",
      "    SOURCE: I know not what to call this, nor will I urge that it is a secret overruling decree, that hurries us on to be the instruments of our own destruction, even though it be before us, and that we rush upon it with our eyes open.\n",
      "    TARGET: Io non so come chiamare (nè sosterrò che sia questo un preponderante misterioso decreto) ciò che ne spinge ad essere gli stromenti della propria nostra distruzione, ancorchè essa ne sia manifesta, e vi ci precipitiamo entro ad occhi aperti.\n",
      " PREDICTED: Io non so che cosa sia stato , né la mia natura , e non ho mai avuto una parola di , che ci a , se ne , e , per la mia mano , si , e , con la mano , e con la mano .\n",
      "*****************************************\n",
      "\n",
      "*****************************************\n",
      "    SOURCE: It is surprising how early one can get up, when camping out.\n",
      "    TARGET: È sorprendente come uno si possa levar presto quando ha dormito all’aperto.\n",
      " PREDICTED: È vero che si può a , quando si a .\n",
      "*****************************************\n",
      "\n",
      "*****************************************\n",
      "    SOURCE: While he was turning him, with the enormous lean arm about his neck, Kitty quickly and unostentatiously turned and beat the pillow, and arranged the invalid's head and the hair that again clung to the temples.\n",
      "    TARGET: Mentre lo voltava e sentiva il proprio collo stretto dal braccio enorme, smagrito, Kitty, in fretta, senza far rumore, capovolse il guanciale, lo sprimacciò e vi accomodò la testa del malato e i suoi capelli radi, di nuovo appiccicati alle tempie.\n",
      " PREDICTED: Mentre egli si era messo a guardare con la mano , con la testa , con la testa e con la testa , e il collo , , , i capelli , e i capelli neri e i capelli neri e i capelli neri .\n",
      "*****************************************\n",
      "\n",
      "*****************************************\n",
      "    SOURCE: But be it faith or not – I do not know what it is – this feeling has also entered imperceptibly through suffering and is firmly rooted in my soul.\n",
      "    TARGET: E fede o non fede, non so cosa sia, ma questo sentimento è entrato in me egualmente inavvertito, attraverso la sofferenza, e si è fermato saldamente nell’anima.\n",
      " PREDICTED: Ma è vero , non posso , non so che cosa è stato , è stato così che è stato così felice e che è stato felice di me .\n",
      "*****************************************\n",
      "\n",
      "*****************************************\n",
      "    SOURCE: We waited breathless for a minute, and then - oh! divinest music of the darkness! - we heard the answering bark of Montmorency.\n",
      "    TARGET: Aspettammo senza fiato per un minuto, e poi — ah! la più divina musica delle tenebre! — udimmo in risposta il latrato di Montmorency.\n",
      " PREDICTED: a un po ’ di nuovo , e , , , , , il del fiume .\n",
      "*****************************************\n",
      "\n",
      "*****************************************\n",
      "    SOURCE: But please don't fret about your son, you can't expect never to be parted.'\n",
      "    TARGET: E non vi preoccupate di vostro figlio, vi prego; è impossibile non separarsene mai.\n",
      " PREDICTED: Ma tu non la tua moglie , non può essere mai mai mai ?\n",
      "*****************************************\n",
      "\n",
      "Epoch 3: train_loss=4.7427\n"
     ]
    },
    {
     "data": {
      "application/vnd.jupyter.widget-view+json": {
       "model_id": "",
       "version_major": 2,
       "version_minor": 0
      },
      "text/plain": [
       "Validation: 0it [00:00, ?it/s]"
      ]
     },
     "metadata": {},
     "output_type": "display_data"
    },
    {
     "name": "stdout",
     "output_type": "stream",
     "text": [
      "*****************************************\n",
      "    SOURCE: Diana intimated that this would be a different parting from any they had ever yet known. It would probably, as far as St. John was concerned, be a parting for years: it might be a parting for life.\n",
      "    TARGET: Diana diceva che quella separazione le pareva ben diversa dalle precedenti; perché si staccavano dal fratello per anni, forse per sempre.\n",
      " PREDICTED: Diana mi sarebbe stata un poco più strano che si fosse stato di una certa , ma se non fosse stata stata stata buona , come se fosse stata un giorno , e che la vita di una vita di vita .\n",
      "*****************************************\n",
      "\n",
      "*****************************************\n",
      "    SOURCE: When I took leave of this island, I carried on board, for relics, the great goat-skin cap I had made, my umbrella, and one of my parrots; also, I forgot not to take the money I formerly mentioned, which had lain by me so long useless that it was grown rusty or tarnished, and could hardly pass for silver till it had been a little rubbed and handled, as also the money I found in the wreck of the Spanish ship.\n",
      "    TARGET: Nel prender questo congedo dall’isola, portai meco siccome una specie di reliquia, il mio berrettone di pelle di capra, il mio ombrello ed uno de’ miei pappagalli. Devo aggiugnere che non aveva dimenticato di prender meco le monete tolte dai due bastimenti naufragati, quello cioè che mi portò sotto l’isola e il vascello spagnuolo.\n",
      " PREDICTED: Quando io mi misi a , io , io , per altro , il mio moschetto , il mio moschetto , un po ’ di legno , un ’ altra parte del mio moschetto , e il mio moschetto , non ostante il mio moschetto , non era stato più di più di quella parte di cui mi fosse stato di , e che il nostro vascello non aveva fatto nulla di .\n",
      "*****************************************\n",
      "\n",
      "*****************************************\n",
      "    SOURCE: During her illness he had learnt to know her thoroughly, had seen into her very soul; and it seemed to him that he had never loved her before.\n",
      "    TARGET: L’aveva vista tutta durante la sua malattia; aveva imparato a conoscerne l’anima, e gli pareva di non averla mai amata fino ad allora.\n",
      " PREDICTED: Durante la sua domanda , egli aveva capito , per lei , era stata stata stata stata stata sola , e non aveva mai potuto capire .\n",
      "*****************************************\n",
      "\n",
      "*****************************************\n",
      "    SOURCE: Dost _thou_ ask, what have I done?” I was struck dumb with these reflections, as one astonished, and had not a word to say—no, not to answer to myself, but rose up pensive and sad, walked back to my retreat, and went up over my wall, as if I had been going to bed; but my thoughts were sadly disturbed, and I had no inclination to sleep; so I sat down in my chair, and lighted my lamp, for it began to be dark.\n",
      "    TARGET: Levatomi in piedi, tutto avvilito e pensieroso, me ne tornai alla volta della mia abitazione. Quivi scalato giusta il consueto il mio muro di cinta, mi apparecchiava per mettermi in letto: ma in quel turbamento mio di pensieri non sentendo alcuna voglia di dormire, mi posi a sedere su la mia scranna dopo avere accesa la mia lucerna, perchè cominciava a far molto scuro.\n",
      " PREDICTED: di , che cosa ho fatto ? — mi disse con un tratto , e come un poco non aveva detto , e non mi aveva detto di dire : — « , se non mi di nuovo , se non mi fosse stata un fuoco , e se non mi fosse stato di nuovo , non mi , e non mi di , e di , e di , e di nuovo il mio fuoco , e di nuovo , non mi .\n",
      "*****************************************\n",
      "\n",
      "*****************************************\n",
      "    SOURCE: \"Sir, I was too plain; I beg your pardon. I ought to have replied that it was not easy to give an impromptu answer to a question about appearances; that tastes mostly differ; and that beauty is of little consequence, or something of that sort.\"\n",
      "    TARGET: — Scusate, signore, se sono stata troppo franca; avrei dovuto dirvi che non era facile improvvisare una risposta, che i gusti sono diversi, che la bellezza ha poca importanza, o qualcosa di simile.\n",
      " PREDICTED: — Signore , sono un po ' di pane , — dissi , — non ho bisogno di di una domanda che non si di , né di più di una donna che si , e che si di nuovo a un ' altra .\n",
      "*****************************************\n",
      "\n",
      "*****************************************\n",
      "    SOURCE: Yes, now, as soon as he comes back, I will tell him I was to blame, though in fact I was not, and we will go away!'\n",
      "    TARGET: Sì, adesso, quando verrà, dirò che sono io colpevole, quantunque non lo sia, e partiremo”.\n",
      " PREDICTED: Sì , ora , dopo , mi pare , lo so , ma io non lo so , e non ci sono ancora .\n",
      "*****************************************\n",
      "\n",
      "*****************************************\n",
      "    SOURCE: The prayer over, we took leave of him: he was to go at a very early hour in the morning.\n",
      "    TARGET: Terminata la preghiera, gli demmo la buona notte; egli dovea partire presto presto.\n",
      " PREDICTED: La sua mano , ci , e ci fu subito da un po ’ da un po ’ da un ’ ora .\n",
      "*****************************************\n",
      "\n",
      "*****************************************\n",
      "    SOURCE: 'He is very close, is Constantine Dmitrich,' he said, addressing Oblonsky with a smile. 'It's absolutely impossible to buy anything of him.\n",
      "    TARGET: — Siete molto attaccato al denaro, Konstantin Dmitric — disse, volgendosi a Stepan Arkad’ic con un sorriso. — Decisamente da lui non ci si può comprar nulla.\n",
      " PREDICTED: — È molto molto , Konstantin Dmitric — disse Stepan Arkad ’ ic , sorridendo . — E Stepan Arkad ’ ic non può fare nulla .\n",
      "*****************************************\n",
      "\n",
      "*****************************************\n",
      "    SOURCE: I had read Goldsmith's History of Rome, and had formed my opinion of Nero, Caligula, &c. Also I had drawn parallels in silence, which I never thought thus to have declared aloud.\n",
      "    TARGET: Avevo appunto letto la storia di Roma di Goldsmith e mi ero fatta un concetto di Nerone, di Caligola, che non credevo di dover esporre mai a voce alta.\n",
      " PREDICTED: Mi sentii di di , e di di , di , di nuovo un ' altra volta , che non avevo mai veduto mai , che mi di nuovo una voce di parole .\n",
      "*****************************************\n",
      "\n",
      "*****************************************\n",
      "    SOURCE: I had not; I soon asked and obtained leave of Mr. Rochester, to go and see her at the school where he had placed her.\n",
      "    TARGET: Io non l'ho dimenticata e andai subito a visitarla nella pensione dov'era.\n",
      " PREDICTED: Non avevo veduto , e mi domandai :\n",
      "*****************************************\n",
      "\n",
      "Epoch 4: train_loss=4.0606\n"
     ]
    },
    {
     "data": {
      "application/vnd.jupyter.widget-view+json": {
       "model_id": "",
       "version_major": 2,
       "version_minor": 0
      },
      "text/plain": [
       "Validation: 0it [00:00, ?it/s]"
      ]
     },
     "metadata": {},
     "output_type": "display_data"
    },
    {
     "name": "stdout",
     "output_type": "stream",
     "text": [
      "*****************************************\n",
      "    SOURCE: \"May I speak to your mistresses?\" I said.\n",
      "    TARGET: — Posso parlare con le vostre padrone? — dissi.\n",
      " PREDICTED: — a parlare di voi ? — dissi .\n",
      "*****************************************\n",
      "\n",
      "*****************************************\n",
      "    SOURCE: 'How cheerfully he seems to grin,\n",
      "    TARGET: a chiunque l'udiva\n",
      " PREDICTED: — Come ha fatto bene , ,\n",
      "*****************************************\n",
      "\n",
      "*****************************************\n",
      "    SOURCE: 'I told you that I would not allow you to see your lover here.'\n",
      "    TARGET: — Vi ho detto che non vi avrei mai permesso di ricevere il vostro amante in casa mia.\n",
      " PREDICTED: — Io non ho detto che non mi di voi .\n",
      "*****************************************\n",
      "\n",
      "*****************************************\n",
      "    SOURCE: And all the evening long the timid townsmen's doors have had to be quick opened to let in rough groups of soldiers, for whom there must be found both board and lodging, and the best of both, or woe betide the house and all within; for the sword is judge and jury, plaintiff and executioner, in these tempestuous times, and pays for what it takes by sparing those from whom it takes it, if it pleases it to do so.\n",
      "    TARGET: E tutta la sera le porte dei timidi cittadini hanno dovuto aprirsi rapidamente per lasciare entrare rozzi gruppi di soldatesca, per i quali si deve trovare vitto e alloggio, il meglio che si possa trovare; o guai alla casa e a quanti la occupano! Perchè la spada è giudice e giurì, denunziatore ed esecutore, in questi tempi tumultuosi, e paga ciò che prende soltanto col risparmiar quelli da cui prende, se così le piace.\n",
      " PREDICTED: E tutto il giorno , con la sua , si in una , e con le arme grandi , dove si sarebbe a bordo , e che si a bordo , e a bordo del loro ; e tutti i nostri , e tutti i , e , se ne , e che si , se ne , e che si , se bene , se ne , si , si , , , , e che si in una volta .\n",
      "*****************************************\n",
      "\n",
      "*****************************************\n",
      "    SOURCE: Well, and what are you doing?'\n",
      "    TARGET: Ebbene, cosa fai?\n",
      " PREDICTED: Be ’, e che cosa sei ?\n",
      "*****************************************\n",
      "\n",
      "*****************************************\n",
      "    SOURCE: He closed his eyes... 'and it turned out that I had killed him...' and he shook his head to drive away the stupid thought. 'What sense is there in killing a man in order to define one's relations with a guilty wife and a son?\n",
      "    TARGET: Ammettiamo che mi insegnino come fare — continuò a pensare — che mi mettano in posizione... io premo il grilletto — si disse socchiudendo gli occhi — e ammettiamo che lo uccida — disse fra sé Aleksej Aleksandrovic e scosse il capo per scacciare questi sciocchi pensieri. — Quale senso può avere l’uccisione di un uomo al fine di regolare i propri rapporti con una moglie infedele e un figlio?\n",
      " PREDICTED: Egli si voltò con gli occhi — e cominciò a dire che io — e io non ho detto che la testa a prendere il capo della testa ... — Che cosa si fa bene a un ’ idea di un uomo che si può dire con una moglie ?\n",
      "*****************************************\n",
      "\n",
      "*****************************************\n",
      "    SOURCE: Therefore Louis made these five errors: he destroyed the minor powers, he increased the strength of one of the greater powers in Italy, he brought in a foreign power, he did not settle in the country, he did not send colonies.\n",
      "    TARGET: Aveva, dunque, Luigi fatto questi cinque errori: spenti e' minori potenti; accresciuto in Italia potenzia a uno potente, messo in quella uno forestiere potentissimo, non venuto ad abitarvi non vi messo colonie.\n",
      " PREDICTED: a queste cose : li , li , li , li , la sua virtù , non si volse in Italia , non si volse a ' tempi , non si fece in Italia .\n",
      "*****************************************\n",
      "\n",
      "*****************************************\n",
      "    SOURCE: Everything in that face: the definiteness of the dimples on cheeks and chin, the curve of her lips, the smile that seemed to flutter around her face, the light in her eyes, the grace and swiftness of her movements, the fullness of her voice, even the manner in which she replied – half-crossly, half-kindly – to Veslovsky, who asked permission to ride her cob that he might teach it to lead with the right leg when galloping – everything about her was peculiarly attractive, and she seemed to know it and to be glad of it.\n",
      "    TARGET: Tutto, infatti, era tale nel viso di Anna: le fossette ben definite delle guance e del mento, la piega delle labbra, il riso, ch’era come se le errasse sul volto, lo scintillio degli occhi, la grazia e la rapidità dei movimenti, la pienezza dei suoni della voce, perfino il modo carezzevolmente irato col quale ella rispondeva a Veslovskij che le chiedeva il permesso di montare il suo cavallo inglese per insegnargli l’ambio della zampa destra, tutto era particolarmente attraente; e sembrava che ella ne fosse consapevole e ne gioisse.\n",
      " PREDICTED: Tutto questo viso , in cui il viso di lei , le , le labbra , le , le labbra , le si , le labbra le si , le lacrime le si mise a guardare con la voce , e si mise a guardare il viso , con la voce che si mise a guardare con la voce che si mise a guardare con un sorriso , e si mise a guardare con un sorriso che si poteva dire , e si sentiva a guardare con un sorriso di nuovo , e si sentiva in silenzio , e si sentiva di nuovo a guardare il suo sguardo che si era confuso , e si era deciso di nuovo .\n",
      "*****************************************\n",
      "\n",
      "*****************************************\n",
      "    SOURCE: I sought my ideal of a woman amongst English ladies, French countesses, Italian signoras, and German grafinnen. I could not find her.\n",
      "    TARGET: Cercai il mio ideale di donna fra le donne inglesi, fra le contesse francesi, fra le patrizie italiane, fra le nobili tedesche, senza trovarlo.\n",
      " PREDICTED: Mi un ’ impressione di donna , di , di , di , di , e non potevo .\n",
      "*****************************************\n",
      "\n",
      "*****************************************\n",
      "    SOURCE: THOUGH VRONSKY'S WHOLE INNER LIFE WAS ABSORBED by his passion, his external life ran unalterably and inevitably along its former customary rails of social and regimental connections and interests.\n",
      "    TARGET: Sebbene la vita intima di Vronskij fosse tutta piena della sua passione, la sua vita esteriore si svolgeva immutata e immutabile sull’abituale carreggiata di prima, tra i rapporti e gli interessi del gran mondo e del reggimento.\n",
      " PREDICTED: Sebbene Vronskij , in quel tempo , Michajlov aveva la sua vita , si era e si di nuovo in mezzo a un ’ altra parte , e in cui si era la vita e la sua vita .\n",
      "*****************************************\n",
      "\n",
      "Epoch 5: train_loss=4.6350\n"
     ]
    },
    {
     "data": {
      "application/vnd.jupyter.widget-view+json": {
       "model_id": "",
       "version_major": 2,
       "version_minor": 0
      },
      "text/plain": [
       "Validation: 0it [00:00, ?it/s]"
      ]
     },
     "metadata": {},
     "output_type": "display_data"
    },
    {
     "name": "stdout",
     "output_type": "stream",
     "text": [
      "*****************************************\n",
      "    SOURCE: \"Then, you could dare censure for my sake?\"\n",
      "    TARGET: — Allora potreste sfidare l'opinione altrui per me?\n",
      " PREDICTED: — Allora , Jane , non vi di me ?\n",
      "*****************************************\n",
      "\n",
      "*****************************************\n",
      "    SOURCE: 'Carting manure must be started early so that it should be over before the first hay harvest, and the far field will have to be ploughed continually so as to keep the earth clean.\n",
      "    TARGET: Bisognava cominciare al più presto il trasporto del concio, in modo da finire alla prima falciatura. E arare senza interruzione il campo più lontano per serbarlo come maggese nero.\n",
      " PREDICTED: — , bisogna che si presto che sarebbe stato di prima , e che la prima volta ci , e ci per il .\n",
      "*****************************************\n",
      "\n",
      "*****************************************\n",
      "    SOURCE: You must turn right round and go back, and then you will come to the Stag.\"\n",
      "    TARGET: Dovete voltare a destra e tornare indietro, e arriverete al Cervo.\n",
      " PREDICTED: Dovete a sedere e poi , e poi vi il cavo di .\n",
      "*****************************************\n",
      "\n",
      "*****************************************\n",
      "    SOURCE: She was a good deal frightened by this very sudden change, but she felt that there was no time to be lost, as she was shrinking rapidly; so she set to work at once to eat some of the other bit.\n",
      "    TARGET: Quel mutamento subitaneo la spaventò molto; ma non c'era tempo da perdere, perchè ella si contraeva rapidamente; così si mise subito ad addentare l'altro pezzo.\n",
      " PREDICTED: Era molto contento di vedere con questa faccenda , ma non si sentiva che non si poteva , come si era ; e così come si era a un po ’ di lavoro .\n",
      "*****************************************\n",
      "\n",
      "*****************************************\n",
      "    SOURCE: But he was ashamed of that feeling, and immediately, as it were, opened out his spiritual arms and with tender joy expected, and now hoped with his whole soul, that it was his brother.\n",
      "    TARGET: Ma poi si vergognò di questo suo sentimento, e subito gli aprì, per così dire, spiritualmente le braccia, e con gioia intenerita s’aspettò e desiderò con tutta l’anima che fosse il fratello.\n",
      " PREDICTED: Ma egli era felice di capire , e subito , come si , si e si con le braccia e si con gioia , che tutto era suo fratello .\n",
      "*****************************************\n",
      "\n",
      "*****************************************\n",
      "    SOURCE: He was Sappho's new admirer, and followed at her heels just like Vaska.\n",
      "    TARGET: Era costui un nuovo adoratore di Safo. Anch’egli, come Vas’ka, la seguiva dappertutto.\n",
      " PREDICTED: Era il giovane , e si avvicinò .\n",
      "*****************************************\n",
      "\n",
      "*****************************************\n",
      "    SOURCE: 'Begin at the beginning,' the King said gravely, 'and go on till you come to the end: then stop.'\n",
      "    TARGET: — Comincia dal principio, — disse il Re solennemente... — e continua fino alla fine, poi fermati.\n",
      " PREDICTED: — il — disse il Re , — e andate a prendere il momento .\n",
      "*****************************************\n",
      "\n",
      "*****************************************\n",
      "    SOURCE: 'That it would depend on you,' he repeated. 'I want to say...\n",
      "    TARGET: — Che ciò dipende da voi — ripeté lui. — Io volevo dirvi...\n",
      " PREDICTED: — Questo è l ’ — egli ripeté . — Io voglio ...\n",
      "*****************************************\n",
      "\n",
      "*****************************************\n",
      "    SOURCE: \"Yes, Jane.\"\n",
      "    TARGET: — Sì, Jane.\n",
      " PREDICTED: — Sì , Jane .\n",
      "*****************************************\n",
      "\n",
      "*****************************************\n",
      "    SOURCE: No sleep was there: the inmate was walking restlessly from wall to wall; and again and again he sighed while I listened.\n",
      "    TARGET: Egli non dormiva; camminava in su e in giù e lo udii sospirare mentre ero ferma.\n",
      " PREDICTED: Non c ' era nulla ; c ' era un rumore di passi e di una sedia ; e io mi misi a piangere .\n",
      "*****************************************\n",
      "\n",
      "Epoch 6: train_loss=4.0633\n"
     ]
    },
    {
     "data": {
      "application/vnd.jupyter.widget-view+json": {
       "model_id": "",
       "version_major": 2,
       "version_minor": 0
      },
      "text/plain": [
       "Validation: 0it [00:00, ?it/s]"
      ]
     },
     "metadata": {},
     "output_type": "display_data"
    },
    {
     "name": "stdout",
     "output_type": "stream",
     "text": [
      "*****************************************\n",
      "    SOURCE: \"Miss Ingram ought to be clement, for she has it in her power to inflict a chastisement beyond mortal endurance.\"\n",
      "    TARGET: — Signorina Ingram, siate indulgente; perché potreste infliggere una punizione così grande che un uomo non potrebbe sopportare.\n",
      " PREDICTED: — La signorina Ingram è una , perché ha la sua volontà .\n",
      "*****************************************\n",
      "\n",
      "*****************************************\n",
      "    SOURCE: 'Love those that hate you...' whispered Dolly shamefacedly.\n",
      "    TARGET: — Amate chi vi odia — mormorò timidamente Dar’ja Aleksandrovna.\n",
      " PREDICTED: — Tu hai pietà di queste parole ... — disse Dolly .\n",
      "*****************************************\n",
      "\n",
      "*****************************************\n",
      "    SOURCE: Betsy hastened to introduce her to Anna.\n",
      "    TARGET: Betsy si affrettò a presentarla ad Anna.\n",
      " PREDICTED: Betsy si mise a chiamare Anna .\n",
      "*****************************************\n",
      "\n",
      "*****************************************\n",
      "    SOURCE: Altogether there were many complicated arrangements to consider.\n",
      "    TARGET: Insomma, di considerazioni molto complicate ce n’erano tante.\n",
      " PREDICTED: In generale , molti tempi si sarebbero .\n",
      "*****************************************\n",
      "\n",
      "*****************************************\n",
      "    SOURCE: He felt bright and joyous as she did.\n",
      "    TARGET: Divenne, come lei, luminoso e allegro.\n",
      " PREDICTED: Sentiva di rado e di rado si sentiva .\n",
      "*****************************************\n",
      "\n",
      "*****************************************\n",
      "    SOURCE: It seemed to him that he had a reply to that question; but he had no time to express it to himself before he entered the nursery.\n",
      "    TARGET: Gli sembrava d’aver una risposta a questa domanda; ma non fece in tempo a esprimerla a se stesso, che era già entrato nella camera del bambino.\n",
      " PREDICTED: Gli sembrava che egli avesse scritto a quel che avrebbe scritto ; ma non aveva neppure paura di parlare , la padrona di camera prima di parlare con la camera .\n",
      "*****************************************\n",
      "\n",
      "*****************************************\n",
      "    SOURCE: From the above I have excepted the Turk, who always keeps round him twelve thousand infantry and fifteen thousand cavalry on which depend the security and strength of the kingdom, and it is necessary that, putting aside every consideration for the people, he should keep them his friends.\n",
      "    TARGET: Di che io ne eccettuo el Turco, tenendo sempre quello intorno a sé dodici mila fanti e quindici mila cavalli, da' quali depende la securtà e la fortezza del suo regno; et è necessario che, posposto ogni altro respetto, quel signore se li mantenga amici.\n",
      " PREDICTED: Da questo , per fortuna , che ho sempre con uno , el populo et a et , et el regno de ' quali , , el populo , li ordini loro li ordini , li li ordini loro li sua cittadini .\n",
      "*****************************************\n",
      "\n",
      "*****************************************\n",
      "    SOURCE: \"You have a kind aunt and cousins.\"\n",
      "    TARGET: — Avete però una buona zia e dei buoni cugini....\n",
      " PREDICTED: — Avete una zia e due amici .\n",
      "*****************************************\n",
      "\n",
      "*****************************************\n",
      "    SOURCE: She deliberately tried to extinguish that light in her eyes, but it shone despite of her in her faint smile.\n",
      "    TARGET: Ella aveva deliberatamente attutito la luce degli occhi, ma questa luce, contro il suo volere, si era illuminata nel riso appena percettibile.\n",
      " PREDICTED: Ella ascoltava le sue ultime ultime ultime parole in cui le era , ma egli la guardò in bocca il sorriso .\n",
      "*****************************************\n",
      "\n",
      "*****************************************\n",
      "    SOURCE: Karenin's success was even greater than he had expected.\n",
      "    TARGET: Il successo di Aleksej Aleksandrovic fu persino maggiore di quello che egli si aspettava.\n",
      " PREDICTED: L ’ articolo era più alta di Aleksej Aleksandrovic che aveva già visto .\n",
      "*****************************************\n",
      "\n",
      "Epoch 7: train_loss=4.0111\n"
     ]
    },
    {
     "data": {
      "application/vnd.jupyter.widget-view+json": {
       "model_id": "",
       "version_major": 2,
       "version_minor": 0
      },
      "text/plain": [
       "Validation: 0it [00:00, ?it/s]"
      ]
     },
     "metadata": {},
     "output_type": "display_data"
    },
    {
     "name": "stdout",
     "output_type": "stream",
     "text": [
      "*****************************************\n",
      "    SOURCE: One thing he had discovered since these questions had begun to occupy him, namely, that he had been mistaken in imagining from his recollections of his youthful university circle, that religion had outlived its day and no longer existed.\n",
      "    TARGET: Una cosa sola aveva trovato, dal momento in cui tali questioni avevano cominciato a interessarlo, ed era che egli sbagliava nel supporre, dai ricordi del suo ambiente giovanile universitario, che la religione avesse già fatto il suo tempo e che non esistesse più.\n",
      " PREDICTED: Un ’ altra cosa che aveva fatto da lui i libri da lui , che aveva cominciato a in rapporti con i suoi sogni precedenti , nei suoi sogni precedenti , che non avevano più nulla di tempo , e che la sua vita non era ancora più .\n",
      "*****************************************\n",
      "\n",
      "*****************************************\n",
      "    SOURCE: I'll fetch a surgeon for you now, myself: you'll be able to be removed by morning, I hope. Jane,\" he continued.\n",
      "    TARGET: Vado a chiamare io stesso il chirurgo e spero che potrete partire domattina, Jane, — continuò.\n",
      " PREDICTED: Vi darò un dottore , e vi , Jane , vi di più , — continuò , — che vi , Jane , la Jane .\n",
      "*****************************************\n",
      "\n",
      "*****************************************\n",
      "    SOURCE: There is no end to them, and they all hate one another.\n",
      "    TARGET: Quanti ce ne sono, e sono senza fine e tutti si odiano a vicenda.\n",
      " PREDICTED: Non c ’ è nulla da fare , e tutti li .\n",
      "*****************************************\n",
      "\n",
      "*****************************************\n",
      "    SOURCE: 'We are saved by Christ, who suffered for us.\n",
      "    TARGET: — Noi siamo salvati dal Cristo che ha sofferto per noi.\n",
      " PREDICTED: — Noi siamo con Cristo , che non ci sono capaci .\n",
      "*****************************************\n",
      "\n",
      "*****************************************\n",
      "    SOURCE: And she remembered how, long, long ago, when she was only seventeen, she visited the Troitsa Monastery with her aunt.\n",
      "    TARGET: E ricordò come molto tempo addietro, quando aveva appena diciassette anni, c’era andata con la zia per la Pentecoste.\n",
      " PREDICTED: E ricordò come era già da tempo , quando la zia fu , la della zia .\n",
      "*****************************************\n",
      "\n",
      "*****************************************\n",
      "    SOURCE: In the midst of his conversation about his acquaintanceship with Sviyazhsky the gates creaked again, and the labourers returning from the fields came into the yard with their ploughs and harrows.\n",
      "    TARGET: Mentre il vecchio raccontava della sua conoscenza con Svijazskij, il portone cigolò ed entrarono i lavoratori che tornavan dal campo con gli aratri e gli erpici.\n",
      " PREDICTED: Nella fine della conversazione con la sua abitudine di Svijazskij si e si di nuovo il cortile , e i campi con le loro forze , .\n",
      "*****************************************\n",
      "\n",
      "*****************************************\n",
      "    SOURCE: Anna continued to ascend the familiar steps without understanding what the old man was saying.\n",
      "    TARGET: Anna continuava ad andare per la scala nota, senza capire quello che il vecchio diceva.\n",
      " PREDICTED: Anna continuò a guardare i suoi passi senza saper quello che diceva il vecchio .\n",
      "*****************************************\n",
      "\n",
      "*****************************************\n",
      "    SOURCE: Mr. Mason obeyed, because it was evidently useless to resist.\n",
      "    TARGET: Mason obbedì, perché eragli impossibile di resistere.\n",
      " PREDICTED: Il signor Mason non si , perché non era necessario .\n",
      "*****************************************\n",
      "\n",
      "*****************************************\n",
      "    SOURCE: One thing only...\n",
      "    TARGET: Dimmi una cosa...\n",
      " PREDICTED: Una cosa sola ...\n",
      "*****************************************\n",
      "\n",
      "*****************************************\n",
      "    SOURCE: 'You are very, very funny!' Dolly repeated, looking tenderly into his face. 'All right then! Let it be as if nothing had been said about it.' 'What have you come for, Tanya?' said Dolly in French to her little girl, who had just come in.\n",
      "    TARGET: — Siete molto, molto strano — ripeté Dar’ja Aleksandrovna, guardandolo con tenerezza in viso. — Su, va bene, non parliamone più. Perché sei venuta, Tanja? — disse Dar’ja Aleksandrovna in francese alla bambina che era entrata.\n",
      " PREDICTED: — Siete molto molto molto divertente — ripeté Dar ’ ja Aleksandrovna , guardando con un ’ espressione del viso . — Su , se non vi è stato detto che tu sia stato da te — disse Dar ’ ja Aleksandrovna , uscendo da lei . — Che cosa avete fatto ? — disse , guardando con un tono che le stava in francese .\n",
      "*****************************************\n",
      "\n",
      "Epoch 8: train_loss=3.9138\n"
     ]
    },
    {
     "data": {
      "application/vnd.jupyter.widget-view+json": {
       "model_id": "",
       "version_major": 2,
       "version_minor": 0
      },
      "text/plain": [
       "Validation: 0it [00:00, ?it/s]"
      ]
     },
     "metadata": {},
     "output_type": "display_data"
    },
    {
     "name": "stdout",
     "output_type": "stream",
     "text": [
      "*****************************************\n",
      "    SOURCE: He saw nature--he saw books through me; and never did I weary of gazing for his behalf, and of putting into words the effect of field, tree, town, river, cloud, sunbeam--of the landscape before us; of the weather round us--and impressing by sound on his ear what light could no longer stamp on his eye.\n",
      "    TARGET: Per mezzo mio vedeva e leggeva. Non mi stancavo mai di dipingergli i campi, i fiumi, le città, gli alberi, le nubi, i raggi del sole sui paesaggi e di dargli, con la parola quelle impressioni che gli occhi gli negavano.\n",
      " PREDICTED: Egli vedeva : la natura e non mi vide mai più , e mi misi a guardare l ' effetto del fiume , mentre si nella città , un ' atmosfera che avevamo nascosto dal cielo , e un suono simile al buio .\n",
      "*****************************************\n",
      "\n",
      "*****************************************\n",
      "    SOURCE: Sometimes he sighed deeply and said, 'Oh, my God!'\n",
      "    TARGET: A volte, mentre respirava con difficoltà, diceva: “Ah, Dio mio!”.\n",
      " PREDICTED: Talvolta ha un po ’ e sospirò : “ Dio ”.\n",
      "*****************************************\n",
      "\n",
      "*****************************************\n",
      "    SOURCE: She arrived at the Princess Tverskaya's house before the other visitors.\n",
      "    TARGET: Anna giunse dalla principessa Tverskaja prima degli altri ospiti.\n",
      " PREDICTED: Veniva arrivato alla principessa Tverskaja , già le altre corse .\n",
      "*****************************************\n",
      "\n",
      "*****************************************\n",
      "    SOURCE: Yes--just one of your tricks: not to send for a carriage, and come clattering over street and road like a common mortal, but to steal into the vicinage of your home along with twilight, just as if you were a dream or a shade.\n",
      "    TARGET: Perché non avete ordinato la carrozza e non vi siete fatta trascinare sulla via come ogni comune mortale, invece di errare di sera, nelle vicinanze della vostra casa, come un sogno o un'ombra?\n",
      " PREDICTED: Sì , ecco un ’ altra parte , una : non per andare a una carrozza , e una carrozza che , come un ’ altra parte , si , ma un ’ altra volta , come se vi fosse un sogno o un sogno simile , o un sogno che vi fosse un sogno .\n",
      "*****************************************\n",
      "\n",
      "*****************************************\n",
      "    SOURCE: 'Begin at the beginning,' the King said gravely, 'and go on till you come to the end: then stop.'\n",
      "    TARGET: — Comincia dal principio, — disse il Re solennemente... — e continua fino alla fine, poi fermati.\n",
      " PREDICTED: — al principio , — disse il Re , — e andate fino fino alla fine che vi andate . E poi poi si mise a .\n",
      "*****************************************\n",
      "\n",
      "*****************************************\n",
      "    SOURCE: That was clear.\n",
      "    TARGET: Questo sì che era chiaro.\n",
      " PREDICTED: Questo era chiaro .\n",
      "*****************************************\n",
      "\n",
      "*****************************************\n",
      "    SOURCE: Well, we will see.\n",
      "    TARGET: Su, vedremo.\n",
      " PREDICTED: E noi ci .\n",
      "*****************************************\n",
      "\n",
      "*****************************************\n",
      "    SOURCE: 'Now our misfortunes are ended and all will be well. But for my sin I must sit on the box.\n",
      "    TARGET: Solo che io, in sconto del mio peccato, ho il dovere di sedere a cassetta. Non è vero?\n",
      " PREDICTED: — Ora , e il nostro destino , tutto è buono e non voglio .\n",
      "*****************************************\n",
      "\n",
      "*****************************************\n",
      "    SOURCE: When we got down to the landing-stage, the boatman said:\n",
      "    TARGET: Quando arrivammo all’approdo, il barcaiuolo ci disse:\n",
      " PREDICTED: Quando ci sedemmo all ’ albergo , il vecchio barcaiolo , disse :\n",
      "*****************************************\n",
      "\n",
      "*****************************************\n",
      "    SOURCE: But poor Madame Joubert! I see her yet in her raging passions, when we had driven her to extremities--spilt our tea, crumbled our bread and butter, tossed our books up to the ceiling, and played a charivari with the ruler and desk, the fender and fire-irons.\n",
      "    TARGET: Vedo ancora la sua collera, quando dopo aver rovesciato il tè, sminuzzato i crostini, gettato i libri per aria ci mettevamo a far baccano con i leggii, le righe, le molle e la paletta.\n",
      " PREDICTED: Ma la povera signora , che io lo in lei , quando ci eravamo sposati un po ’ di coraggio , ci il tè , e il pane , il nostro pane , il nostro conduttore , e , con un coltello , con un coltello e un coltello .\n",
      "*****************************************\n",
      "\n",
      "Epoch 9: train_loss=3.9864\n"
     ]
    },
    {
     "name": "stderr",
     "output_type": "stream",
     "text": [
      "`Trainer.fit` stopped: `max_epochs=10` reached.\n",
      "LOCAL_RANK: 0 - CUDA_VISIBLE_DEVICES: [0]\n",
      "/home/e183534/ERA_V1/venv/lib/python3.8/site-packages/pytorch_lightning/trainer/connectors/data_connector.py:488: PossibleUserWarning: Your `test_dataloader`'s sampler has shuffling enabled, it is strongly recommended that you turn shuffling off for val/test/predict dataloaders.\n",
      "  rank_zero_warn(\n",
      "/home/e183534/ERA_V1/venv/lib/python3.8/site-packages/pytorch_lightning/trainer/connectors/data_connector.py:224: PossibleUserWarning: The dataloader, test_dataloader 0, does not have many workers which may be a bottleneck. Consider increasing the value of the `num_workers` argument` (try 8 which is the number of cpus on this machine) in the `DataLoader` init to improve performance.\n",
      "  rank_zero_warn(\n"
     ]
    },
    {
     "data": {
      "application/vnd.jupyter.widget-view+json": {
       "model_id": "42c4f37dde7540f48179cb7fdd719710",
       "version_major": 2,
       "version_minor": 0
      },
      "text/plain": [
       "Testing: 0it [00:00, ?it/s]"
      ]
     },
     "metadata": {},
     "output_type": "display_data"
    },
    {
     "name": "stdout",
     "output_type": "stream",
     "text": [
      "*****************************************\n",
      "    SOURCE: Fancies, memories, and most strange thoughts followed one another with extreme rapidity and clearness: now he saw himself pouring out medicine for the patient and overfilling the spoon, then he saw the midwife's white hands, or Karenin's curious pose as he knelt on the floor by her bedside.\n",
      "    TARGET: Le immagini, le memorie e le idee più strane si susseguivano le une alle altre con straordinaria velocità e chiarezza: ora la medicina che aveva versato all’ammalata e che aveva fatto gocciolare dal cucchiaino, ora le braccia bianche della levatrice, o la strana posizione di Aleksej Aleksandrovic sul pavimento, davanti al letto.\n",
      " PREDICTED: , e più strano , più strano che l ’ unico pensiero si sentiva con la mente che egli si avvicinava alla medicina e poi , dopo aver preso il cucchiaio , si vide sulla tavola , e vide la voce di Aleksej Aleksandrovic che parlava come al letto .\n",
      "*****************************************\n",
      "\n",
      "*****************************************\n",
      "    SOURCE: When they entered the little girl was sitting in her chemise in a little arm-chair at a table, having her dinner of broth which she was spilling all over her little chest.\n",
      "    TARGET: Quando esse entrarono, la bambina, con la sola camicina, stava seduta in una piccola poltrona accanto al tavolo e sorbiva un brodo che s’era versato addosso su tutto il piccolo petto.\n",
      " PREDICTED: Quando entrarono nella piccola poltrona , la njanja stava seduto su una poltrona accanto a una poltrona , e , dopo aver preso il proprio libro di cui tutto era , si mise in modo .\n",
      "*****************************************\n",
      "\n",
      "*****************************************\n",
      "    SOURCE: But, sir, as it grew dark, the wind rose: it blew yesterday evening, not as it blows now--wild and high--but 'with a sullen, moaning sound' far more eerie. I wished you were at home.\n",
      "    TARGET: \"Ma, signore, più l'aria si oscurava, più aumentava il vento. \"Iersera non soffiava con tanto impeto come oggi, ma faceva udire un gemito triste e più lugubre; avrei desiderato che foste in casa.\n",
      " PREDICTED: Ma , signore , che era vento , si levò il vento , non si levò a casa , e non la , ma con un suono grave e con uno sforzo ; vi ho fatto più piacere di casa , e vi ho detto che eravate a casa .\n",
      "*****************************************\n",
      "\n",
      "*****************************************\n",
      "    SOURCE: 'Yes, but in what direction?' asked Karenin. 'Toward getting things done, or toward changing what has been done already?\n",
      "    TARGET: — Sì, ma a che è diretta la sua attività? — disse Aleksej Aleksandrovic. — Ad agire o a ricalcare quello che è stato fatto?\n",
      " PREDICTED: — Sì , ma in fondo , in fondo a quello che si fa ? — disse Aleksej Aleksandrovic , con aria da che l ’ ha già portato .\n",
      "*****************************************\n",
      "\n",
      "*****************************************\n",
      "    SOURCE: 'What a pity you are going away,' said Oblonsky. 'To-morrow we are giving a dinner to two of those who are going to the war: Dmitry Bartnyansky from Petersburg and our Veslovsky – Vasenka.\n",
      "    TARGET: — Ma è un peccato che partiate — disse Stepan Arkad’ic. — Domani offriamo un pranzo a due parenti: Dimer-Bartnjanskij, quello di Pietroburgo, e il nostro Veselovskij, Griša.\n",
      " PREDICTED: — Che peccato che tu vai — disse Stepan Arkad ’ ic . — Aspetta , andiamo da un pranzo a due , che siamo per fare la guerra , e che Kostja siamo venuti a Pietroburgo .\n",
      "*****************************************\n",
      "\n",
      "*****************************************\n",
      "    SOURCE: Only one of them was lazily eating oats, scattering them over the edge of the trough.\n",
      "    TARGET: Uno di essi mangiava l’avena, spargendola con il muso per il trogolo.\n",
      " PREDICTED: Soltanto un ’ altra cosa si , un cavallo di avena , che s ’ era sul margine del ramo dell ’ ingresso .\n",
      "*****************************************\n",
      "\n",
      "*****************************************\n",
      "    SOURCE: Of course, I lied: it was, in fact, a very faithful representation of Mr. Rochester. But what was that to her, or to any one but myself?\n",
      "    TARGET: Naturalmente mentivo, perché era il ritratto somigliantissimo del signor Rochester, ma che cosa doveva importare a lei o ad altri, eccetto che a me?\n",
      " PREDICTED: Naturalmente , – io , – era un uomo ricco e un ' altra cosa ; ma quella che era quello che era lei , e nessuno ?\n",
      "*****************************************\n",
      "\n",
      "*****************************************\n",
      "    SOURCE: He again saw before him that horse's hind-quarters, short tail and flashing white legs, no farther away,\n",
      "    TARGET: Vide di nuovo dinanzi a sé la groppa, la coda corta e di nuovo quelle zampe bianche che si movevano rapide, ma senza allontanarsi.\n",
      " PREDICTED: Egli vedeva ancora che il cavallo lo di sotto la coda e la coda bianca , non più , ma più di quanto più si avvicinava .\n",
      "*****************************************\n",
      "\n",
      "*****************************************\n",
      "    SOURCE: \"But you need not be a missionary.\n",
      "    TARGET: — Ma voi non avete bisogno farvi missionario!\n",
      " PREDICTED: — Ma non vi occorre missionario .\n",
      "*****************************************\n",
      "\n",
      "*****************************************\n",
      "    SOURCE: \"Did you hear that loud laugh? Who is it?\"\n",
      "    TARGET: Di dove può venire?\n",
      " PREDICTED: — Avete udito male a ridere ?\n",
      "*****************************************\n",
      "\n"
     ]
    },
    {
     "data": {
      "text/plain": [
       "<pytorch_lightning.trainer.trainer.Trainer at 0x7fdd80160c40>"
      ]
     },
     "execution_count": 6,
     "metadata": {},
     "output_type": "execute_result"
    }
   ],
   "source": [
    "train_transformer(transformer_model, opus_dm, cfg, epochs=cfg['num_epochs'])"
   ]
  },
  {
   "cell_type": "code",
   "execution_count": 8,
   "metadata": {
    "collapsed": false,
    "jupyter": {
     "outputs_hidden": false
    }
   },
   "outputs": [
    {
     "name": "stdout",
     "output_type": "stream",
     "text": [
      "TensorFlow installation not found - running with reduced feature set.\n",
      "/home/e183534/ERA_V1/venv/lib/python3.8/site-packages/tensorboard_data_server/bin/server: /lib/x86_64-linux-gnu/libc.so.6: version `GLIBC_2.29' not found (required by /home/e183534/ERA_V1/venv/lib/python3.8/site-packages/tensorboard_data_server/bin/server)\n",
      "/home/e183534/ERA_V1/venv/lib/python3.8/site-packages/tensorboard_data_server/bin/server: /lib/x86_64-linux-gnu/libc.so.6: version `GLIBC_2.33' not found (required by /home/e183534/ERA_V1/venv/lib/python3.8/site-packages/tensorboard_data_server/bin/server)\n",
      "/home/e183534/ERA_V1/venv/lib/python3.8/site-packages/tensorboard_data_server/bin/server: /lib/x86_64-linux-gnu/libc.so.6: version `GLIBC_2.28' not found (required by /home/e183534/ERA_V1/venv/lib/python3.8/site-packages/tensorboard_data_server/bin/server)\n",
      "/home/e183534/ERA_V1/venv/lib/python3.8/site-packages/tensorboard_data_server/bin/server: /lib/x86_64-linux-gnu/libc.so.6: version `GLIBC_2.34' not found (required by /home/e183534/ERA_V1/venv/lib/python3.8/site-packages/tensorboard_data_server/bin/server)\n",
      "/home/e183534/ERA_V1/venv/lib/python3.8/site-packages/tensorboard_data_server/bin/server: /lib/x86_64-linux-gnu/libc.so.6: version `GLIBC_2.32' not found (required by /home/e183534/ERA_V1/venv/lib/python3.8/site-packages/tensorboard_data_server/bin/server)\n",
      "Address already in use\n",
      "Port 6006 is in use by another program. Either identify and stop that program, or start the server with a different port.\n"
     ]
    }
   ],
   "source": [
    "!tensorboard --logdir=runs"
   ]
  },
  {
   "cell_type": "code",
   "execution_count": null,
   "metadata": {},
   "outputs": [],
   "source": []
  },
  {
   "cell_type": "code",
   "execution_count": null,
   "metadata": {},
   "outputs": [],
   "source": []
  }
 ],
 "metadata": {
  "colab": {
   "gpuType": "T4",
   "include_colab_link": true,
   "provenance": []
  },
  "kernelspec": {
   "display_name": "Python 3 (ipykernel)",
   "language": "python",
   "name": "python3"
  },
  "language_info": {
   "codemirror_mode": {
    "name": "ipython",
    "version": 3
   },
   "file_extension": ".py",
   "mimetype": "text/x-python",
   "name": "python",
   "nbconvert_exporter": "python",
   "pygments_lexer": "ipython3",
   "version": "3.8.0"
  }
 },
 "nbformat": 4,
 "nbformat_minor": 4
}
