{
 "cells": [
  {
   "cell_type": "markdown",
   "metadata": {
    "colab_type": "text",
    "id": "view-in-github"
   },
   "source": [
    "<a href=\"https://colab.research.google.com/github/jyanivaddi/ERA_V1/blob/master/session_15/S15.ipynb\" target=\"_parent\"><img src=\"https://colab.research.google.com/assets/colab-badge.svg\" alt=\"Open In Colab\"/></a>"
   ]
  },
  {
   "cell_type": "markdown",
   "metadata": {
    "id": "OZ4DqRTb9Ym8"
   },
   "source": [
    "First Connect Google Drive"
   ]
  },
  {
   "cell_type": "code",
   "execution_count": null,
   "metadata": {
    "colab": {
     "base_uri": "https://localhost:8080/"
    },
    "id": "TDhBByBZ8qi9",
    "outputId": "f84d600d-7735-4f6b-e826-05041631fa8e"
   },
   "outputs": [],
   "source": [
    "from google.colab import drive\n",
    "drive.mount('/content/gdrive/', force_remount=True)"
   ]
  },
  {
   "cell_type": "markdown",
   "metadata": {
    "id": "cgHQxuQMAJ5o"
   },
   "source": [
    "Install packages"
   ]
  },
  {
   "cell_type": "code",
   "execution_count": null,
   "metadata": {
    "colab": {
     "base_uri": "https://localhost:8080/"
    },
    "execution": {
     "iopub.execute_input": "2023-08-15T11:24:45.241258Z",
     "iopub.status.busy": "2023-08-15T11:24:45.240841Z",
     "iopub.status.idle": "2023-08-15T11:25:50.896569Z",
     "shell.execute_reply": "2023-08-15T11:25:50.895113Z",
     "shell.execute_reply.started": "2023-08-15T11:24:45.241226Z"
    },
    "id": "VAOiUa_mAJVQ",
    "outputId": "b0f2ab9c-d179-441d-fdca-284c01631b13"
   },
   "outputs": [],
   "source": [
    "!git clone \"https://github.com/jyanivaddi/ERA_V1.git\"\n",
    "!git -C ERA_V1 pull\n",
    "#!cd ../\n",
    "!git clone \"https://github.com/jyanivaddi/dl_hub.git\"\n",
    "!git -C dl_hub pull\n",
    "!git pull\n",
    "#!cd ../\n",
    "\n",
    "!pip install --quiet \"torchinfo\" \"seaborn\" \"pytorch-lightning\" \"torchmetrics\" \"lightning-bolts\", \"torchtext\", \"datasets\", \"tokenizers\"\n",
    "!pip install --quiet \"prettytable\"\n",
    "!pip install --quiet \"torchsummary\"\n",
    "!pip install --quiet \"torch_lr_finder\"\n",
    "!pip install --quiet \"grad-cam\"\n",
    "!pip install --quiet \"gradio\""
   ]
  },
  {
   "cell_type": "code",
   "execution_count": null,
   "metadata": {
    "execution": {
     "iopub.execute_input": "2023-08-15T11:26:21.699043Z",
     "iopub.status.busy": "2023-08-15T11:26:21.698652Z",
     "iopub.status.idle": "2023-08-15T11:26:21.704208Z",
     "shell.execute_reply": "2023-08-15T11:26:21.703030Z",
     "shell.execute_reply.started": "2023-08-15T11:26:21.699011Z"
    },
    "id": "ivBzl8YFPvJ0"
   },
   "outputs": [],
   "source": [
    "import sys\n",
    "sys.path.append(\"ERA_V1/session_15\")\n",
    "sys.path.append(\"dl_hub\")"
   ]
  },
  {
   "cell_type": "code",
   "execution_count": 1,
   "metadata": {
    "colab": {
     "base_uri": "https://localhost:8080/"
    },
    "execution": {
     "iopub.execute_input": "2023-08-15T11:31:55.436556Z",
     "iopub.status.busy": "2023-08-15T11:31:55.435500Z",
     "iopub.status.idle": "2023-08-15T11:31:56.839658Z",
     "shell.execute_reply": "2023-08-15T11:31:56.838219Z",
     "shell.execute_reply.started": "2023-08-15T11:31:55.436518Z"
    },
    "id": "n41Pe-b1J3mC",
    "outputId": "a8cbac66-45be-4bab-9e28-2db0da2b7505",
    "ExecuteTime": {
     "end_time": "2023-09-02T02:18:28.227988576Z",
     "start_time": "2023-09-02T02:18:26.956417281Z"
    }
   },
   "outputs": [
    {
     "name": "stdout",
     "output_type": "stream",
     "text": [
      "remote: Enumerating objects: 7, done.\u001B[K\r\n",
      "remote: Counting objects: 100% (7/7), done.\u001B[K\r\n",
      "remote: Compressing objects: 100% (1/1), done.\u001B[K\r\n",
      "remote: Total 4 (delta 3), reused 4 (delta 3), pack-reused 0\u001B[K\r\n",
      "Unpacking objects: 100% (4/4), 347 bytes | 347.00 KiB/s, done.\r\n",
      "From https://github.com/jyanivaddi/dl_hub\r\n",
      "   046aef8..d8a625d  main       -> origin/main\r\n",
      "Updating 046aef8..d8a625d\r\n",
      "Fast-forward\r\n",
      " Transformer/PL_main.py | 2 \u001B[32m+\u001B[m\u001B[31m-\u001B[m\r\n",
      " 1 file changed, 1 insertion(+), 1 deletion(-)\r\n"
     ]
    }
   ],
   "source": [
    "!git -C dl_hub pull\n"
   ]
  },
  {
   "cell_type": "code",
   "execution_count": 2,
   "metadata": {
    "colab": {
     "base_uri": "https://localhost:8080/",
     "height": 470
    },
    "execution": {
     "iopub.execute_input": "2023-08-15T11:32:10.059219Z",
     "iopub.status.busy": "2023-08-15T11:32:10.058548Z",
     "iopub.status.idle": "2023-08-15T11:32:10.065799Z",
     "shell.execute_reply": "2023-08-15T11:32:10.064511Z",
     "shell.execute_reply.started": "2023-08-15T11:32:10.059186Z"
    },
    "id": "x8WpKATx75Hu",
    "outputId": "53c19e59-1a97-4dc0-a2d7-2d31e3809f2f",
    "ExecuteTime": {
     "end_time": "2023-09-02T02:18:36.301689750Z",
     "start_time": "2023-09-02T02:18:32.627730838Z"
    }
   },
   "outputs": [],
   "source": [
    "import torch\n",
    "import torch.nn as nn\n",
    "#from dl_hub.Transformer.config import get_config\n",
    "from config import get_config\n",
    "from train import train_model\n",
    "from PL_data_module import OpusDataModule\n",
    "from PL_model import LitTransformer\n",
    "from PL_main import train_transformer\n"
   ]
  },
  {
   "cell_type": "code",
   "execution_count": 3,
   "metadata": {
    "collapsed": false,
    "ExecuteTime": {
     "end_time": "2023-09-02T02:18:37.886676977Z",
     "start_time": "2023-09-02T02:18:37.881750884Z"
    }
   },
   "outputs": [],
   "source": [
    "cfg = get_config()\n",
    "cfg['batch_size'] = 16\n",
    "cfg['d_model'] = 512\n",
    "cfg['preload'] = None\n",
    "cfg['num_epochs'] = 10\n"
   ]
  },
  {
   "cell_type": "markdown",
   "metadata": {
    "collapsed": false
   },
   "source": [
    "**Define data module**"
   ]
  },
  {
   "cell_type": "code",
   "execution_count": 4,
   "metadata": {
    "collapsed": false,
    "ExecuteTime": {
     "end_time": "2023-09-02T02:18:41.844925635Z",
     "start_time": "2023-09-02T02:18:41.815874060Z"
    }
   },
   "outputs": [],
   "source": [
    "opus_dm = OpusDataModule(cfg)\n",
    "opus_dm.prepare_data()\n",
    "opus_dm.setup()"
   ]
  },
  {
   "cell_type": "markdown",
   "metadata": {
    "collapsed": false
   },
   "source": [
    "**Define PL Model**"
   ]
  },
  {
   "cell_type": "code",
   "execution_count": 5,
   "metadata": {
    "collapsed": false,
    "ExecuteTime": {
     "end_time": "2023-09-02T02:18:46.163162924Z",
     "start_time": "2023-09-02T02:18:44.965889039Z"
    }
   },
   "outputs": [
    {
     "name": "stderr",
     "output_type": "stream",
     "text": [
      "/home/e183534/ERA_V1/venv/lib/python3.8/site-packages/pytorch_lightning/utilities/parsing.py:269: UserWarning: Attribute 'loss_criterion' is an instance of `nn.Module` and is already saved during checkpointing. It is recommended to ignore them using `self.save_hyperparameters(ignore=['loss_criterion'])`.\n",
      "  rank_zero_warn(\n"
     ]
    }
   ],
   "source": [
    "tokenizer_src = opus_dm.tokenizer_src\n",
    "tokenizer_tgt = opus_dm.tokenizer_tgt\n",
    "loss_criterion = nn.CrossEntropyLoss(ignore_index=tokenizer_src.token_to_id('[PAD]'), label_smoothing=0.1)\n",
    "transformer_model = LitTransformer(cfg, loss_criterion, tokenizer_src, tokenizer_tgt)\n",
    "optimizer = torch.optim.Adam(transformer_model.model.parameters(), lr=cfg['lr'], eps=1e-9)\n",
    "transformer_model.set_optimizer(optimizer)\n"
   ]
  },
  {
   "cell_type": "code",
   "execution_count": null,
   "metadata": {
    "collapsed": false,
    "is_executing": true,
    "ExecuteTime": {
     "start_time": "2023-09-02T02:18:52.613955033Z"
    }
   },
   "outputs": [
    {
     "name": "stderr",
     "output_type": "stream",
     "text": [
      "GPU available: True (cuda), used: True\n",
      "TPU available: False, using: 0 TPU cores\n",
      "IPU available: False, using: 0 IPUs\n",
      "HPU available: False, using: 0 HPUs\n",
      "LOCAL_RANK: 0 - CUDA_VISIBLE_DEVICES: [0]\n",
      "\n",
      "  | Name           | Type             | Params\n",
      "----------------------------------------------------\n",
      "0 | loss_criterion | CrossEntropyLoss | 0     \n",
      "1 | model          | Transformer      | 75.1 M\n",
      "----------------------------------------------------\n",
      "75.1 M    Trainable params\n",
      "0         Non-trainable params\n",
      "75.1 M    Total params\n",
      "300.532   Total estimated model params size (MB)\n",
      "/home/e183534/ERA_V1/venv/lib/python3.8/site-packages/pytorch_lightning/trainer/connectors/data_connector.py:224: PossibleUserWarning: The dataloader, train_dataloader, does not have many workers which may be a bottleneck. Consider increasing the value of the `num_workers` argument` (try 8 which is the number of cpus on this machine) in the `DataLoader` init to improve performance.\n",
      "  rank_zero_warn(\n",
      "/home/e183534/ERA_V1/venv/lib/python3.8/site-packages/pytorch_lightning/trainer/connectors/data_connector.py:488: PossibleUserWarning: Your `val_dataloader`'s sampler has shuffling enabled, it is strongly recommended that you turn shuffling off for val/test/predict dataloaders.\n",
      "  rank_zero_warn(\n",
      "/home/e183534/ERA_V1/venv/lib/python3.8/site-packages/pytorch_lightning/trainer/connectors/data_connector.py:224: PossibleUserWarning: The dataloader, val_dataloader 0, does not have many workers which may be a bottleneck. Consider increasing the value of the `num_workers` argument` (try 8 which is the number of cpus on this machine) in the `DataLoader` init to improve performance.\n",
      "  rank_zero_warn(\n"
     ]
    },
    {
     "data": {
      "text/plain": "Training: 0it [00:00, ?it/s]",
      "application/vnd.jupyter.widget-view+json": {
       "version_major": 2,
       "version_minor": 0,
       "model_id": "859b231548024525b6be89682dc6f882"
      }
     },
     "metadata": {},
     "output_type": "display_data"
    }
   ],
   "source": [
    "train_transformer(transformer_model, opus_dm, cfg, epochs=2)"
   ]
  },
  {
   "cell_type": "code",
   "execution_count": null,
   "metadata": {
    "collapsed": false
   },
   "outputs": [],
   "source": [
    "!tensorboard --logdir=runs"
   ]
  }
 ],
 "metadata": {
  "colab": {
   "gpuType": "T4",
   "include_colab_link": true,
   "provenance": []
  },
  "kernelspec": {
   "display_name": "Python 3 (ipykernel)",
   "language": "python",
   "name": "python3"
  },
  "language_info": {
   "codemirror_mode": {
    "name": "ipython",
    "version": 3
   },
   "file_extension": ".py",
   "mimetype": "text/x-python",
   "name": "python",
   "nbconvert_exporter": "python",
   "pygments_lexer": "ipython3",
   "version": "3.8.0"
  }
 },
 "nbformat": 4,
 "nbformat_minor": 4
}
