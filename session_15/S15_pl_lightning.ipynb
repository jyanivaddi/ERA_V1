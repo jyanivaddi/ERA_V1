{
 "cells": [
  {
   "cell_type": "markdown",
   "metadata": {
    "colab_type": "text",
    "id": "view-in-github"
   },
   "source": [
    "<a href=\"https://colab.research.google.com/github/jyanivaddi/ERA_V1/blob/master/session_15/S15.ipynb\" target=\"_parent\"><img src=\"https://colab.research.google.com/assets/colab-badge.svg\" alt=\"Open In Colab\"/></a>"
   ]
  },
  {
   "cell_type": "markdown",
   "metadata": {
    "id": "OZ4DqRTb9Ym8"
   },
   "source": [
    "First Connect Google Drive"
   ]
  },
  {
   "cell_type": "code",
   "execution_count": null,
   "metadata": {
    "colab": {
     "base_uri": "https://localhost:8080/"
    },
    "id": "TDhBByBZ8qi9",
    "outputId": "f84d600d-7735-4f6b-e826-05041631fa8e",
    "trusted": true
   },
   "outputs": [],
   "source": [
    "from google.colab import drive\n",
    "drive.mount('/content/gdrive/', force_remount=True)"
   ]
  },
  {
   "cell_type": "markdown",
   "metadata": {
    "id": "cgHQxuQMAJ5o"
   },
   "source": [
    "Install packages"
   ]
  },
  {
   "cell_type": "code",
   "execution_count": null,
   "metadata": {
    "colab": {
     "base_uri": "https://localhost:8080/"
    },
    "execution": {
     "iopub.execute_input": "2023-08-15T11:24:45.241258Z",
     "iopub.status.busy": "2023-08-15T11:24:45.240841Z",
     "iopub.status.idle": "2023-08-15T11:25:50.896569Z",
     "shell.execute_reply": "2023-08-15T11:25:50.895113Z",
     "shell.execute_reply.started": "2023-08-15T11:24:45.241226Z"
    },
    "id": "VAOiUa_mAJVQ",
    "outputId": "b0f2ab9c-d179-441d-fdca-284c01631b13",
    "trusted": true
   },
   "outputs": [],
   "source": [
    "!git clone \"https://github.com/jyanivaddi/ERA_V1.git\"\n",
    "!git -C ERA_V1 pull\n",
    "#!cd ../\n",
    "!git clone \"https://github.com/jyanivaddi/dl_hub.git\"\n",
    "!git -C dl_hub pull\n",
    "!git pull\n",
    "#!cd ../\n",
    "\n",
    "!pip install --quiet \"torchinfo\" \"seaborn\" \"pytorch-lightning\" \"torchmetrics\" \"lightning-bolts\", \"torchtext\", \"datasets\", \"tokenizers\"\n",
    "!pip install --quiet \"prettytable\"\n",
    "!pip install --quiet \"torchsummary\"\n",
    "!pip install --quiet \"torch_lr_finder\"\n",
    "!pip install --quiet \"grad-cam\"\n",
    "!pip install --quiet \"gradio\""
   ]
  },
  {
   "cell_type": "code",
   "execution_count": null,
   "metadata": {
    "execution": {
     "iopub.execute_input": "2023-08-15T11:26:21.699043Z",
     "iopub.status.busy": "2023-08-15T11:26:21.698652Z",
     "iopub.status.idle": "2023-08-15T11:26:21.704208Z",
     "shell.execute_reply": "2023-08-15T11:26:21.703030Z",
     "shell.execute_reply.started": "2023-08-15T11:26:21.699011Z"
    },
    "id": "ivBzl8YFPvJ0",
    "trusted": true
   },
   "outputs": [],
   "source": [
    "import sys\n",
    "sys.path.append(\"ERA_V1/session_15\")\n",
    "sys.path.append(\"dl_hub\")"
   ]
  },
  {
   "cell_type": "code",
   "execution_count": 1,
   "metadata": {
    "colab": {
     "base_uri": "https://localhost:8080/"
    },
    "execution": {
     "iopub.execute_input": "2023-08-15T11:31:55.436556Z",
     "iopub.status.busy": "2023-08-15T11:31:55.435500Z",
     "iopub.status.idle": "2023-08-15T11:31:56.839658Z",
     "shell.execute_reply": "2023-08-15T11:31:56.838219Z",
     "shell.execute_reply.started": "2023-08-15T11:31:55.436518Z"
    },
    "id": "n41Pe-b1J3mC",
    "outputId": "a8cbac66-45be-4bab-9e28-2db0da2b7505",
    "trusted": true,
    "ExecuteTime": {
     "end_time": "2023-09-01T17:43:44.446836434Z",
     "start_time": "2023-09-01T17:43:43.467516836Z"
    }
   },
   "outputs": [
    {
     "name": "stdout",
     "output_type": "stream",
     "text": [
      "remote: Enumerating objects: 7, done.\u001B[K\r\n",
      "remote: Counting objects: 100% (7/7), done.\u001B[K\r\n",
      "remote: Compressing objects: 100% (1/1), done.\u001B[K\r\n",
      "remote: Total 4 (delta 3), reused 4 (delta 3), pack-reused 0\u001B[K\r\n",
      "Unpacking objects: 100% (4/4), 352 bytes | 352.00 KiB/s, done.\r\n",
      "From https://github.com/jyanivaddi/dl_hub\r\n",
      "   59ba79b..cd298c7  main       -> origin/main\r\n",
      "Updating 59ba79b..cd298c7\r\n",
      "Fast-forward\r\n",
      " Transformer/PL_main.py | 4 \u001B[32m++\u001B[m\u001B[31m--\u001B[m\r\n",
      " 1 file changed, 2 insertions(+), 2 deletions(-)\r\n"
     ]
    }
   ],
   "source": [
    "!git -C dl_hub pull\n"
   ]
  },
  {
   "cell_type": "code",
   "execution_count": 2,
   "metadata": {
    "colab": {
     "base_uri": "https://localhost:8080/",
     "height": 470
    },
    "execution": {
     "iopub.execute_input": "2023-08-15T11:32:10.059219Z",
     "iopub.status.busy": "2023-08-15T11:32:10.058548Z",
     "iopub.status.idle": "2023-08-15T11:32:10.065799Z",
     "shell.execute_reply": "2023-08-15T11:32:10.064511Z",
     "shell.execute_reply.started": "2023-08-15T11:32:10.059186Z"
    },
    "id": "x8WpKATx75Hu",
    "outputId": "53c19e59-1a97-4dc0-a2d7-2d31e3809f2f",
    "trusted": true,
    "ExecuteTime": {
     "end_time": "2023-09-01T17:43:52.342972795Z",
     "start_time": "2023-09-01T17:43:48.615794222Z"
    }
   },
   "outputs": [],
   "source": [
    "import torch\n",
    "import torch.nn as nn\n",
    "#from dl_hub.Transformer.config import get_config\n",
    "from config import get_config\n",
    "from train import train_model\n",
    "from PL_data_module import OpusDataModule\n",
    "from PL_model import LitTransformer\n",
    "from PL_main import train_transformer\n"
   ]
  },
  {
   "cell_type": "code",
   "execution_count": 3,
   "outputs": [],
   "source": [
    "cfg = get_config()\n",
    "cfg['batch_size'] = 16\n",
    "cfg['d_model'] = 512\n",
    "cfg['preload'] = None\n",
    "cfg['num_epochs'] = 10\n"
   ],
   "metadata": {
    "collapsed": false,
    "ExecuteTime": {
     "end_time": "2023-09-01T17:43:52.350772251Z",
     "start_time": "2023-09-01T17:43:52.346251994Z"
    }
   }
  },
  {
   "cell_type": "markdown",
   "source": [
    "**Define data module**"
   ],
   "metadata": {
    "collapsed": false
   }
  },
  {
   "cell_type": "code",
   "execution_count": 4,
   "outputs": [],
   "source": [
    "opus_dm = OpusDataModule(cfg)\n",
    "opus_dm.prepare_data()\n",
    "opus_dm.setup()"
   ],
   "metadata": {
    "collapsed": false,
    "ExecuteTime": {
     "end_time": "2023-09-01T17:43:52.643999699Z",
     "start_time": "2023-09-01T17:43:52.579544993Z"
    }
   }
  },
  {
   "cell_type": "markdown",
   "source": [
    "**Define PL Model**"
   ],
   "metadata": {
    "collapsed": false
   }
  },
  {
   "cell_type": "code",
   "execution_count": 5,
   "outputs": [
    {
     "name": "stderr",
     "output_type": "stream",
     "text": [
      "/home/e183534/ERA_V1/venv/lib/python3.8/site-packages/pytorch_lightning/utilities/parsing.py:269: UserWarning: Attribute 'loss_criterion' is an instance of `nn.Module` and is already saved during checkpointing. It is recommended to ignore them using `self.save_hyperparameters(ignore=['loss_criterion'])`.\n",
      "  rank_zero_warn(\n"
     ]
    }
   ],
   "source": [
    "tokenizer_src = opus_dm.tokenizer_src\n",
    "tokenizer_tgt = opus_dm.tokenizer_tgt\n",
    "loss_criterion = nn.CrossEntropyLoss(ignore_index=tokenizer_src.token_to_id('[PAD]'), label_smoothing=0.1)\n",
    "transformer_model = LitTransformer(cfg, loss_criterion, tokenizer_src, tokenizer_tgt)\n",
    "optimizer = torch.optim.Adam(transformer_model.model.parameters(), lr=cfg['lr'], eps=1e-9)\n",
    "transformer_model.set_optimizer(optimizer)\n"
   ],
   "metadata": {
    "collapsed": false,
    "ExecuteTime": {
     "end_time": "2023-09-01T17:43:56.796495441Z",
     "start_time": "2023-09-01T17:43:55.496305751Z"
    }
   }
  },
  {
   "cell_type": "code",
   "execution_count": 6,
   "outputs": [
    {
     "name": "stderr",
     "output_type": "stream",
     "text": [
      "GPU available: True (cuda), used: True\n",
      "TPU available: False, using: 0 TPU cores\n",
      "IPU available: False, using: 0 IPUs\n",
      "HPU available: False, using: 0 HPUs\n",
      "LOCAL_RANK: 0 - CUDA_VISIBLE_DEVICES: [0]\n",
      "\n",
      "  | Name           | Type             | Params\n",
      "----------------------------------------------------\n",
      "0 | loss_criterion | CrossEntropyLoss | 0     \n",
      "1 | model          | Transformer      | 75.1 M\n",
      "----------------------------------------------------\n",
      "75.1 M    Trainable params\n",
      "0         Non-trainable params\n",
      "75.1 M    Total params\n",
      "300.532   Total estimated model params size (MB)\n",
      "/home/e183534/ERA_V1/venv/lib/python3.8/site-packages/pytorch_lightning/trainer/connectors/data_connector.py:224: PossibleUserWarning: The dataloader, train_dataloader, does not have many workers which may be a bottleneck. Consider increasing the value of the `num_workers` argument` (try 8 which is the number of cpus on this machine) in the `DataLoader` init to improve performance.\n",
      "  rank_zero_warn(\n",
      "/home/e183534/ERA_V1/venv/lib/python3.8/site-packages/pytorch_lightning/trainer/connectors/data_connector.py:488: PossibleUserWarning: Your `val_dataloader`'s sampler has shuffling enabled, it is strongly recommended that you turn shuffling off for val/test/predict dataloaders.\n",
      "  rank_zero_warn(\n",
      "/home/e183534/ERA_V1/venv/lib/python3.8/site-packages/pytorch_lightning/trainer/connectors/data_connector.py:224: PossibleUserWarning: The dataloader, val_dataloader 0, does not have many workers which may be a bottleneck. Consider increasing the value of the `num_workers` argument` (try 8 which is the number of cpus on this machine) in the `DataLoader` init to improve performance.\n",
      "  rank_zero_warn(\n"
     ]
    },
    {
     "data": {
      "text/plain": "Training: 0it [00:00, ?it/s]",
      "application/vnd.jupyter.widget-view+json": {
       "version_major": 2,
       "version_minor": 0,
       "model_id": "eab9745a611b43c799943b5af25ba71c"
      }
     },
     "metadata": {},
     "output_type": "display_data"
    },
    {
     "data": {
      "text/plain": "Validation: 0it [00:00, ?it/s]",
      "application/vnd.jupyter.widget-view+json": {
       "version_major": 2,
       "version_minor": 0,
       "model_id": "6dc6e76243d84eaf9bac49158917c786"
      }
     },
     "metadata": {},
     "output_type": "display_data"
    },
    {
     "name": "stdout",
     "output_type": "stream",
     "text": [
      "*****************************************\n",
      "    SOURCE: \"No, Bessie; I have only just finished dusting.\"\n",
      "    TARGET: — No, Bessie, ho terminato di spolverare.\n",
      " PREDICTED: — Ma che non è un ’ altra .\n",
      "*****************************************\n",
      "*****************************************\n",
      "    SOURCE: His eyes were clear and no longer feverish, but their expression was stern.\n",
      "    TARGET: Gli occhi erano limpidi, non più febbrili, ma la loro espressione era dura.\n",
      " PREDICTED: Il suo suo suo suo suo suo suo suo suo suo suo suo suo suo suo suo suo suo era stato .\n",
      "*****************************************\n",
      "*****************************************\n",
      "    SOURCE: But he could think of nothing else to say. 'Bear to the right, sir, there's a stump there,' said the coachman, taking hold of the rein.\n",
      "    TARGET: — Vi prego di prendere a destra, altrimenti troverete un ceppo — disse il cocchiere, correggendo Levin nella guida.\n",
      " PREDICTED: Ma non è un ’ ic , ma non è un ’ ic , e che non è un ’ ic , e si , e si , e si .\n",
      "*****************************************\n",
      "*****************************************\n",
      "    SOURCE: In spite of the Elder's explanations that the hay had been loose, but had settled down in the stacks, and his swearing that all had been done in a 'godly way,' Levin insisted that the hay had been apportioned without his order and that he would not accept the stacks as containing fifty loads each.\n",
      "    TARGET: Malgrado lo starosta assicurasse che il fieno si rigonfia e poi nelle biche si abbassa e malgrado spergiurasse che tutto questo era andato secondo il volere di Dio, Levin rimase fermo nella sua determinazione: il fieno era stato diviso senza suo ordine e perciò egli non accettava quel fieno per cinquanta carrettate a bica.\n",
      " PREDICTED: Il suo suo suo suo suo suo suo suo suo suo suo suo suo suo suo suo suo suo suo suo suo suo suo suo suo suo suo suo suo suo suo suo suo suo suo suo suo suo suo suo suo suo suo suo suo suo suo suo suo suo suo suo suo suo suo suo suo suo suo suo suo suo suo suo suo suo suo suo suo suo suo suo suo suo suo suo suo suo suo suo suo suo suo suo suo suo suo suo suo suo suo suo suo suo suo suo suo suo suo suo suo suo suo suo suo suo suo suo suo suo suo suo suo suo suo suo suo suo suo suo suo suo suo suo suo suo suo suo suo suo suo suo suo era , e si era fatto , e si era fatto , e si era fatto , e si era fatto , e si era fatto , e si era , e si era , e si era , e si era fatto che era fatto che era fatto che era fatto che si era fatto che era fatto che era fatto , e si era , era , e si era fatto che era fatto che era fatto , e si era , e si era , e si era fatto che si era fatto che era fatto che era fatto che era fatto che era fatto che era fatto che era , ma non era fatto che era un ’ ic , e si era fatto che era fatto che era fatto che era fatto che era fatto che era fatto che era fatto che era fatto che era fatto , ma non era fatto che era fatto che era un ’ era un ’ ic , ma non era fatto che si era un suo suo suo suo suo suo suo suo suo suo suo suo suo suo suo suo suo suo suo suo suo suo suo suo suo suo suo suo suo suo suo suo suo suo suo suo suo suo\n",
      "*****************************************\n",
      "*****************************************\n",
      "    SOURCE: You open your eyes like an eager bird, and make every now and then a restless movement, as if answers in speech did not flow fast enough for you, and you wanted to read the tablet of one's heart.\n",
      "    TARGET: \"Aprite gli occhi come un uccello smarrito e fate ogni tanto un movimento d'impazienza. \"Pare che siate ansiosa di conoscere le risposte e che vogliate leggere nel cuore di chi interrogate.\n",
      " PREDICTED: — E che è un ’ ic , e che si , e che non è un ’ altra , e che non è un ’ altra , e che non è un ’ altra cosa .\n",
      "*****************************************\n",
      "*****************************************\n",
      "    SOURCE: Do not ask me, reader, to give a minute account of that day; as before, I sought work; as before, I was repulsed; as before, I starved; but once did food pass my lips.\n",
      "    TARGET: Non mi chiedete, lettore, di darvi minuto conto di quel giorno come dei precedenti. Cercai lavoro, e fui respinta come prima; soffrii la fame e una volta sola il cibo mi passò le labbra.\n",
      " PREDICTED: Ma non mi , ma non mi , ma non mi , e che non mi , e che non a me , e che mi , e che mi .\n",
      "*****************************************\n",
      "\n",
      "*****************************************\n",
      "    SOURCE: Son cœur est un luth suspendu; Sitôt qu’on le touche il résonne.\n",
      "    TARGET: Son cœur est un luth suspendu; Sitôt qu’on le touche il résonne.\n",
      " PREDICTED: a , e , e .\n",
      "*****************************************\n",
      "*****************************************\n",
      "    SOURCE: 'Yes, your Excellency! shall tea be served in the study?'\n",
      "    TARGET: — Va bene, eccellenza. Volete il tè nello studio?\n",
      " PREDICTED: — Sì , è un ’ ic , — disse .\n",
      "*****************************************\n",
      "*****************************************\n",
      "    SOURCE: I said: \"I will not take up your time, dear boy, with telling you what is the matter with me.\n",
      "    TARGET: — Non ti farò perder tempo, caro amico — risposi — col farti l’elenco di ciò che ho.\n",
      " PREDICTED: — Ma non è , non è fatto che non è un ’ altra cosa , e non è un ’ altra cosa .\n",
      "*****************************************\n",
      "*****************************************\n",
      "    SOURCE: 'Whom was he kissing yesterday with those same lips?' he thought as he looked at Oblonsky caressing his wife.\n",
      "    TARGET: “Chi sa chi ha baciato ieri con queste labbra!” pensava, guardando le tenerezze di Stepan Arkad’ic con la moglie.\n",
      " PREDICTED: — E che non è fatto , ma non è fatto , — disse Levin .\n",
      "*****************************************\n"
     ]
    },
    {
     "data": {
      "text/plain": "Validation: 0it [00:00, ?it/s]",
      "application/vnd.jupyter.widget-view+json": {
       "version_major": 2,
       "version_minor": 0,
       "model_id": "57b07e8783a847f49da03a52c32ba71a"
      }
     },
     "metadata": {},
     "output_type": "display_data"
    },
    {
     "name": "stdout",
     "output_type": "stream",
     "text": [
      "*****************************************\n",
      "    SOURCE: 'Yes,' said Kitty, with a still deeper blush, and she rose and went to her husband.\n",
      "    TARGET: — Sì — rispose a Veslovskij, arrossendo ancora di più; poi si alzò e si accostò al marito.\n",
      " PREDICTED: — Sì , — disse Levin , e si mise a Vronskij e si mise a parlare di lei .\n",
      "*****************************************\n",
      "*****************************************\n",
      "    SOURCE: 'Oh, I meant to tell you yesterday that the harrows need mending.\n",
      "    TARGET: — Eh, già, ve lo volevo dire ieri; era necessario accomodare gli erpici.\n",
      " PREDICTED: — Sì , io , io mi sono stato di nuovo , che vi .\n",
      "*****************************************\n",
      "*****************************************\n",
      "    SOURCE: Neither Bessie nor any one else will go into it at night, if they can help it; and it was cruel to shut me up alone without a candle,--so cruel that I think I shall never forget it.\"\n",
      "    TARGET: Né Bessie né altri entrano la sera in quella stanza, se ne possono fare a meno, ed è stata una crudeltà di rinchiudermici sola senza lume, tanta crudeltà che mi pare di non potermene scordar mai più.\n",
      " PREDICTED: Non vi , se non , e non , e non mi , e non mi , ma non mi , non mi .\n",
      "*****************************************\n",
      "*****************************************\n",
      "    SOURCE: Levin never called the Princess Maman, as sons-in-law usually do, and this displeased the Princess.\n",
      "    TARGET: Levin non chiamava mai la principessa maman, come fanno i generi, e questo dispiaceva alla principessa.\n",
      " PREDICTED: Levin non si mise a guardare la principessa , e , come egli si mise a parlare , e si mise a Vronskij .\n",
      "*****************************************\n",
      "\n",
      "*****************************************\n",
      "    SOURCE: It did.\n",
      "    TARGET: Così fu.\n",
      " PREDICTED: Non si era .\n",
      "*****************************************\n",
      "*****************************************\n",
      "    SOURCE: The church, as the reader knows, was but just beyond the gates; the footman soon returned.\n",
      "    TARGET: Tornate subito. La cappella era appunto ai cancelli del parco e il cameriere tornò subito.\n",
      " PREDICTED: Il suo , era stato , ma non era più più di , ma il suo viso .\n",
      "*****************************************\n",
      "*****************************************\n",
      "    SOURCE: 'Oh, of course! Let me introduce you,' he said. 'My colleagues: Philip Ivanich Nikitin; Michael Stanislavich Grinevich.' Then turning to Levin, 'Constantine Dmitrich Levin, an active member of the Zemstvo, one of the new sort – a gymnast who lifts a hundredweight and a half with one hand, a cattle-breeder, a sportsman, – my friend, and a brother of Sergius Ivanich Koznyshev.'\n",
      "    TARGET: — Ah, già, permettete che vi presenti — disse. — I miei colleghi Filipp Ivanovic Nikitin e Michail Stanislavic Grinevic — e, rivolto verso Levin: — Il fautore del consiglio distrettuale, l’uomo nuovo del consiglio, il ginnasta che solleva con una mano sola cinque pudy, l’allevatore di bestiame, il cacciatore, nonché amico mio, Konstantin Levin, fratello di Sergej Ivanyc Koznyšev.\n",
      " PREDICTED: — Sì , signore , signore , — disse , — e il signor Rochester , , con un po ’ di un po ’ di un po ’ di un po ’ di un po ’ di un po ’ di un po ’ di un po ’ di un po ’ di un ’ di , con un po ’ di un ’ di un po ’ di un ’ di un po ’ di un ’ di .\n",
      "*****************************************\n",
      "\n",
      "*****************************************\n",
      "    SOURCE: 'How could he help being glad?\n",
      "    TARGET: — E come non esser contento!\n",
      " PREDICTED: — E che cosa si può essere mai ?\n",
      "*****************************************\n",
      "*****************************************\n",
      "    SOURCE: 'Well, men are wanted there,' he said, with laughing eyes.\n",
      "    TARGET: — Eh, là hanno bisogno di gente — egli disse, ridendo con gli occhi.\n",
      " PREDICTED: — Su , è un ’ altra cosa , — disse , sorridendo , sorridendo .\n",
      "*****************************************\n",
      "*****************************************\n",
      "    SOURCE: It was just what he had expected: a letter from his mother reproaching him for not having come to see her, and a note from his brother saying that they must talk things over.\n",
      "    TARGET: Era proprio quel che si aspettava: una lettera della madre coi rimproveri perché non andava da lei e un biglietto del fratello che gli diceva di dovergli parlare.\n",
      " PREDICTED: Era che non era mai mai mai mai mai mai , ma non si era stato in modo di lei , ma non si era stato stato di lei , e che si era stato di lei .\n",
      "*****************************************\n"
     ]
    },
    {
     "data": {
      "text/plain": "Validation: 0it [00:00, ?it/s]",
      "application/vnd.jupyter.widget-view+json": {
       "version_major": 2,
       "version_minor": 0,
       "model_id": "5184f7d4b5f04cc6955634682fcfca5a"
      }
     },
     "metadata": {},
     "output_type": "display_data"
    },
    {
     "name": "stdout",
     "output_type": "stream",
     "text": [
      "*****************************************\n",
      "    SOURCE: 'You should not have done so.\n",
      "    TARGET: — Hai fatto male.\n",
      " PREDICTED: — Non sono mai più di questo .\n",
      "*****************************************\n",
      "\n",
      "*****************************************\n",
      "    SOURCE: There was no possibility of taking a walk that day.\n",
      "    TARGET: I. In quel giorno era impossibile passeggiare.\n",
      " PREDICTED: Non c ’ è nulla di una volta che era un giorno .\n",
      "*****************************************\n",
      "*****************************************\n",
      "    SOURCE: When fate wronged me, I had not the wisdom to remain cool: I turned desperate; then I degenerated.\n",
      "    TARGET: \"Allora è cominciato il mio abbassamento, e, ora, quando un imbecille vizioso eccita in me il disgusto coi suoi vergognosi bagordi, non posso vantarmi di esser meglio di lui.\n",
      " PREDICTED: Quando io mi , non mi misi a , e mi misi a , mi misi a .\n",
      "*****************************************\n",
      "*****************************************\n",
      "    SOURCE: They could not remember their father, and their mother died when Alexis Alexandrovich was ten years old.\n",
      "    TARGET: Il padre non se lo ricordavano, la madre era morta quando Aleksej Aleksandrovic aveva dieci anni.\n",
      " PREDICTED: Non si poteva dire il fratello e la madre , e la sua vita era la prima volta .\n",
      "*****************************************\n",
      "*****************************************\n",
      "    SOURCE: ANNA WAS UPSTAIRS standing in front of a mirror pinning, with Annushka's help, a last bow to her dress, when she heard the wheels of a carriage grating on the gravel at the entrance.\n",
      "    TARGET: Anna stava davanti allo specchio, appuntando, con l’aiuto di Annuška, l’ultimo nastro al vestito, quando sentì un rumore di ruote che calpestavano la ghiaia dell’ingresso.\n",
      " PREDICTED: Anna si alzò in fretta , con un ’ altra volta , con un ’ espressione di cui aveva fatto il viso , si mise a guardare il cappello , con la porta del viso del viso del viso .\n",
      "*****************************************\n",
      "\n",
      "*****************************************\n",
      "    SOURCE: 'I think so too, Alexis Alexandrovich.'\n",
      "    TARGET: — Anch’io lo penso, Aleksej Aleksandrovic.\n",
      " PREDICTED: — Io ho detto , Aleksej Aleksandrovic .\n",
      "*****************************************\n",
      "*****************************************\n",
      "    SOURCE: I walked about a furlong from the shore, to see if I could find any fresh water to drink, which I did, to my great joy; and having drank, and put a little tobacco into my mouth to prevent hunger, I went to the tree, and getting up into it, endeavoured to place myself so that if I should sleep I might not fall.\n",
      "    TARGET: Allontanatomi circa un mezzo quarto di miglio dalla spiaggia per vedere se mi riuscisse di abbattermi in un po’ d’acqua dolce per dissetarmi, ne trovai a mia grande consolazione; indi bevuto di questa e postomi in bocca un po’ di tabacco per tener lontana la fame, venni all’albero che salii, cercando poscia di collocarmi sovr’esso in modo di non cadere, se fossi stato preso fortemente dal sonno.\n",
      " PREDICTED: il mio moschetto , e non mi a , perchè non mi a , e mi , e mi , e mi , e mi , e mi , e mi , e mi , e io non mi a me .\n",
      "*****************************************\n",
      "*****************************************\n",
      "    SOURCE: Both of them, having got into one strained kind of movement, were in the grip of feverish labour and had not the power to change the motion of their bodies and at the same time to observe what lay before them.\n",
      "    TARGET: Tutti e due, dato l’avvio ad un unico movimento di tensione, si trovavano presi nella foga del lavoro e non erano in grado di mutar movimento e di osservare nel tempo stesso quello che si parava innanzi.\n",
      " PREDICTED: , , per la sua vita , che non aveva mai , e non aveva mai mai mai , e non aveva mai la di , e di .\n",
      "*****************************************\n",
      "\n",
      "*****************************************\n",
      "    SOURCE: 'What do I know?'\n",
      "    TARGET: — Cosa so?\n",
      " PREDICTED: — Ma che cosa lo so ?\n",
      "*****************************************\n",
      "*****************************************\n",
      "    SOURCE: I am singled out and separated, But I am singled out, too, from as it were, from all the world, all the ship’s crew, to be spared to be miserable. from death; and He that miraculously saved me from death can deliver me from this condition.\n",
      "    TARGET: Io solo forse tra tutti gli uomini sono stato scelto a menare una vita di una miseria senza pari. Ma così solo io sono stato scelto tra tutti quelli del naviglio a scampare dalla morte; e colui che dalla morte mi ha salvato in modo di miracolo mi può liberare dallo stato in cui sono.\n",
      " PREDICTED: Io sono molto contento di , e io mi , e di , e di non essere stato più di , e di , e di , e di , e di , e di a me .\n",
      "*****************************************\n"
     ]
    },
    {
     "data": {
      "text/plain": "Validation: 0it [00:00, ?it/s]",
      "application/vnd.jupyter.widget-view+json": {
       "version_major": 2,
       "version_minor": 0,
       "model_id": "d202459403ce44dcb943bde30e78f260"
      }
     },
     "metadata": {},
     "output_type": "display_data"
    },
    {
     "name": "stdout",
     "output_type": "stream",
     "text": [
      "*****************************************\n",
      "    SOURCE: One stands on the same form.\n",
      "    TARGET: E uno si mette in piedi sempre sulla panca.\n",
      " PREDICTED: Un ’ altra cosa si fermò .\n",
      "*****************************************\n",
      "*****************************************\n",
      "    SOURCE: At last, when all their signals and firing proved fruitless, and they found the boat did not stir, we saw them, by the help of my glasses, hoist another boat out and row towards the shore; and we found, as they approached, that there were no less than ten men in her, and that they had firearms with them.\n",
      "    TARGET: Finalmente quando furono convinti che tutti i loro spari e segnali erano infruttuosi, e che la scialuppa non si movea, vedemmo col soccorso del mio cannocchiale che aveano, com’io lo avea pronosticato, lanciata in mare una seconda scialuppa, la quale veniva inverso alla nostra spiaggia di tutta corsa. Quando questa ci fu più da vicino, potemmo discernere che non vi stavano entro meno di dieci uomini, e che costoro questa volta si erano muniti d’armi assai bene.\n",
      " PREDICTED: In quel momento , quando , quando si , non si più di tre giorni , non ci , e il mare , il mare , e il capitano , non si più di due ore , che non si , non erano , e tre giorni , che erano , non erano , che erano i due compagni .\n",
      "*****************************************\n",
      "*****************************************\n",
      "    SOURCE: Mr. Mason shortly unclosed his eyes; he groaned. Mr. Rochester opened the shirt of the wounded man, whose arm and shoulder were bandaged: he sponged away blood, trickling fast down.\n",
      "    TARGET: Il signor Rochester aprì la camicia del ferito, il quale aveva il braccio e il fianco fasciato e rasciugò il sangue.\n",
      " PREDICTED: Il signor Rochester si alzò e si fermò , si fermò , si fermò la signora Fairfax , e la sua voce , si mise a guardare la testa .\n",
      "*****************************************\n",
      "*****************************************\n",
      "    SOURCE: Despite his entire contempt for this man, Koznyshev began reading the review most respectfully.\n",
      "    TARGET: Malgrado il suo assoluto disprezzo per l’autore, Sergej Ivanovic si accinse alla lettura dell’articolo con piena considerazione.\n",
      " PREDICTED: Levin , in quel momento , il suo amico , Sergej Ivanovic , Sergej Ivanovic , evidentemente , il suo senso .\n",
      "*****************************************\n",
      "*****************************************\n",
      "    SOURCE: Anna looked round with alarm, rose obediently and put her hand on her husband's arm.\n",
      "    TARGET: Anna si voltò a guardarlo spaventata, si alzò sottomessa e poggiò la mano sul braccio del marito.\n",
      " PREDICTED: Anna si alzò e si fermò , si fermò con la mano di lei e la sua madre .\n",
      "*****************************************\n",
      "*****************************************\n",
      "    SOURCE: 'This is it!' he thought with rapture. 'Just as I was beginning to despair, and when it seemed as though the end would never come... here it is!\n",
      "    TARGET: « Ecco — pensò lui con esaltazione. — Mentre già mi disperavo e credevo dovesse venir la fine, ecco: mi ama.\n",
      " PREDICTED: — È vero — egli disse , dopo aver fatto un ’ altra cosa , che era stato stato contento e che non si sarebbe stato mai detto che non c ’ è nulla .\n",
      "*****************************************\n",
      "\n",
      "*****************************************\n",
      "    SOURCE: She swiftly let down her veil and with quickened steps almost ran out of the room.\n",
      "    TARGET: Con un movimento rapido ella abbassò il velo e, affrettato il passo, uscì quasi correndo dalla stanza.\n",
      " PREDICTED: Egli si mise a guardare il collo e si fermò verso la porta .\n",
      "*****************************************\n",
      "*****************************************\n",
      "    SOURCE: Karenin got into his carriage and sat far back, so as neither to see nor to be seen.\n",
      "    TARGET: Aleksej Aleksandrovic sedette nella vettura e vi si sprofondò in modo da non vedere e da non essere visto.\n",
      " PREDICTED: Aleksej Aleksandrovic si avvicinò e si fermò , e non si poteva non nulla .\n",
      "*****************************************\n",
      "\n",
      "*****************************************\n",
      "    SOURCE: His weariness vanished, at once he went easily through the marsh toward the dog.\n",
      "    TARGET: E subito tutta la stanchezza scomparve, ed egli andò spedito attraverso il terreno melmoso verso il cane.\n",
      " PREDICTED: Il suo viso si fermò , si fermò , si fermò in piedi .\n",
      "*****************************************\n",
      "*****************************************\n",
      "    SOURCE: Letters have proved of no avail--personal inquiry shall replace them.\"\n",
      "    TARGET: Le lettere sono state inutili, tenterò le ricerche personali.\n",
      " PREDICTED: Per quanto è più difficile .\n",
      "*****************************************\n"
     ]
    },
    {
     "data": {
      "text/plain": "Validation: 0it [00:00, ?it/s]",
      "application/vnd.jupyter.widget-view+json": {
       "version_major": 2,
       "version_minor": 0,
       "model_id": "fc5e2863c52145b984fa9cced3edf651"
      }
     },
     "metadata": {},
     "output_type": "display_data"
    },
    {
     "name": "stdout",
     "output_type": "stream",
     "text": [
      "*****************************************\n",
      "    SOURCE: I understand that lunch with good claret is very nice, but is it possible that that very luxury does not disgust you?\n",
      "    TARGET: Capisco che una colazione con del Lafite possa esser piacevole, ma possibile che non ti sia odioso tutto quello sfarzo?\n",
      " PREDICTED: Io penso che il di , ma è vero , ma che non è vero che non sia vero ?\n",
      "*****************************************\n",
      "\n",
      "*****************************************\n",
      "    SOURCE: \"I am a stranger.\"\n",
      "    TARGET: — Sono una forestiera.\n",
      " PREDICTED: — Sono un uomo .\n",
      "*****************************************\n",
      "\n",
      "*****************************************\n",
      "    SOURCE: The Countess at once attacked Levin.\n",
      "    TARGET: La contessa Nordston investì subito Levin.\n",
      " PREDICTED: Il dottore si avvicinò a Levin .\n",
      "*****************************************\n",
      "*****************************************\n",
      "    SOURCE: From Cleve you get a stretch of six and a half miles without a lock.\n",
      "    TARGET: Da Cleve si ha una distanza di sei miglia e mezzo senza una chiusa.\n",
      " PREDICTED: Da un po ’ di , e un miglio , senza un miglio senza un miglio .\n",
      "*****************************************\n",
      "\n",
      "*****************************************\n",
      "    SOURCE: Oblonsky turned.\n",
      "    TARGET: Stepan Arkad’ic si guardò in giro.\n",
      " PREDICTED: Stepan Arkad ’ ic si voltò a guardare .\n",
      "*****************************************\n",
      "*****************************************\n",
      "    SOURCE: All I showed them, all I said to them, was perfectly amazing; but above all, the captain admired my fortification, and how perfectly I had concealed my retreat with a grove of trees, which having been now planted nearly twenty years, and the trees growing much faster than in England, was become a little wood, so thick that it was impassable in any part of it but at that one side where I had reserved my little winding passage into it.\n",
      "    TARGET: Quanto mostrai, quanto spiegai a questi miei ospiti, li rendea stupefatti. Il capitano soprattutto non la finiva mai d’ammirare la mia fortificazione e l’ingegno di nasconderla ad ogni umano sguardo, mediante una piantagione d’alberi che ebbero venti buoni anni per crescere, e che col favore del clima cresciuti più rapidamente di quanto avrebbero fatto nell’Inghilterra, aveano formato un bosco folto ed inaccessibile da tutti i lati fuor di quello ove io m’avea riservato per mio uso un ingresso tortuoso, che per tutti gli altri sarebbe stato un labirinto.\n",
      " PREDICTED: In questo modo io mi disse che era stato , ma il mio capitano era stato , e come il mio vascello , la mia vita , e la mia vita , come mi era stata , come una grande distanza , che mi fosse stata stata , che mi fosse stata , che mi fosse stato stato stato più grande , ma che mi era stata da un ’ altra parte di mare .\n",
      "*****************************************\n",
      "\n",
      "*****************************************\n",
      "    SOURCE: 'I see you think he is a bad man.'\n",
      "    TARGET: — Ma mi pare che lo riteniate un uomo cattivo.\n",
      " PREDICTED: — Vi prego , lo so .\n",
      "*****************************************\n",
      "*****************************************\n",
      "    SOURCE: The Caterpillar and Alice looked at each other for some time in silence: at last the Caterpillar took the hookah out of its mouth, and addressed her in a languid, sleepy voice.\n",
      "    TARGET: Il Bruco e Alice si guardarono a vicenda per qualche tempo in silenzio; finalmente il Bruco staccò la pipa di bocca, e le parlò con voce languida e sonnacchiosa:\n",
      " PREDICTED: Il Ghiro si alzò e Alice si alzò in un momento in un momento , disse : — il capo , e , la testa , , , a un ' altra voce , , la voce .\n",
      "*****************************************\n",
      "\n",
      "*****************************************\n",
      "    SOURCE: 'Don't hurt yourself – it needs practice!'\n",
      "    TARGET: — Volete ammazzarvi!\n",
      " PREDICTED: — Non vi prego , vi prego , vi prego .\n",
      "*****************************************\n",
      "*****************************************\n",
      "    SOURCE: 'We won't deny it.'\n",
      "    TARGET: — Non se ne poteva fare a meno.\n",
      " PREDICTED: — Non ci .\n",
      "*****************************************\n"
     ]
    },
    {
     "data": {
      "text/plain": "Validation: 0it [00:00, ?it/s]",
      "application/vnd.jupyter.widget-view+json": {
       "version_major": 2,
       "version_minor": 0,
       "model_id": "c0e0103635b84ec4a97e84da64317d52"
      }
     },
     "metadata": {},
     "output_type": "display_data"
    },
    {
     "name": "stdout",
     "output_type": "stream",
     "text": [
      "*****************************************\n",
      "    SOURCE: \"And did she inform you what I went to do?\"\n",
      "    TARGET: — E vi disse perché?\n",
      " PREDICTED: — E perché vi ho detto che cosa ho fatto ?\n",
      "*****************************************\n",
      "*****************************************\n",
      "    SOURCE: \"My mother's name was Eyre; she had two brothers; one a clergyman, who married Miss Jane Reed, of Gateshead; the other, John Eyre, Esq., merchant, late of Funchal, Madeira.\n",
      "    TARGET: — Mia madre si chiamava Eyre, — mi disse. — Ella aveva due fratelli; uno, pastore, aveva sposato la signorina Jane Reed di Gateshead; l'altro, John Eyre, era commerciante a Madera.\n",
      " PREDICTED: — La mia madre era una donna di famiglia , perché ha una famiglia di una donna di famiglia , signorina Eyre , di Lowood , di Lowood , di Lowood , di Lowood , di servizio , di servizio da Lowood .\n",
      "*****************************************\n",
      "*****************************************\n",
      "    SOURCE: The roads were heavy, the night misty; my conductor let his horse walk all the way, and the hour and a half extended, I verily believe, to two hours; at last he turned in his seat and said--\n",
      "    TARGET: La strada era scabrosa e la notte profonda. Il cocchiere lasciava che il cavallo andasse al passo, così rimanemmo due buone ore per via.\n",
      " PREDICTED: La notte era , la notte , e la mia piccola scala , e poi , a un quarto di ora , mi pare , mi pare che la porta si .\n",
      "*****************************************\n",
      "*****************************************\n",
      "    SOURCE: He could see her profile slightly from above, and by the just perceptible movements of her lips and eyelashes he knew she was aware of his look.\n",
      "    TARGET: Vedeva, un po’ dall’alto, il profilo di lei e, dal moto appena percettibile delle labbra e delle ciglia, sapeva ch’ella sentiva il suo sguardo.\n",
      " PREDICTED: Egli poteva sentire il passo in cui si era fermato e , le labbra , le labbra le labbra di lei , lo guardò .\n",
      "*****************************************\n",
      "*****************************************\n",
      "    SOURCE: I had not qualities or talents to make my way very well in the world: I should have been continually at fault.\"\n",
      "    TARGET: Non ho le attitudini né l'ingegno necessario per farmi strada facilmente nel mondo e avrei continuamente soccombuto.\n",
      " PREDICTED: Non ho mai avuto altro che , o per me , per me , perché ho bisogno di essere stato stata .\n",
      "*****************************************\n",
      "\n",
      "*****************************************\n",
      "    SOURCE: There ain't no Wallingford lock now, sir.\n",
      "    TARGET: Non v’è più la chiusa di Wallingford ora.\n",
      " PREDICTED: Non c ’ è nulla di sera , signore , signore .\n",
      "*****************************************\n",
      "*****************************************\n",
      "    SOURCE: She knew that trait in her husband's character, knew and liked it.\n",
      "    TARGET: Conosceva questo tratto in suo marito e le piaceva.\n",
      " PREDICTED: Sapeva che la sua gioia di lei , di suo marito , e sapeva che fosse lui .\n",
      "*****************************************\n",
      "*****************************************\n",
      "    SOURCE: We calmed them with an umbrella, and sat down to chops and cold beef.\n",
      "    TARGET: Li calmammo con un ombrello, e ci sedemmo innanzi alle costolette e al manzo freddo.\n",
      " PREDICTED: con un ’ occhiata , con un ’ occhiata , e si , e si .\n",
      "*****************************************\n",
      "*****************************************\n",
      "    SOURCE: I have mentioned that I saved the skins of all the creatures that I killed, I mean four-footed ones, and I had them hung up, stretched out with sticks in the sun, by which means some of them were so dry and hard that they were fit for little, but others were very useful.\n",
      "    TARGET: Dissi già ch’io era solito conservare le pelli de’ quadrupedi da me uccisi; io le attaccava stese sopra pali affinchè si seccassero al sole, per la quale operazione alcune divenivano sì dure che poteano ben servire a poco; ma altre ne trovai di grand’uso.\n",
      " PREDICTED: Io ho detto che io la mia storia , che io tutti i miei compagni , di que ’ miei , e in mezzo ad una specie di sole , che mi avea , e che , tutti i loro alberi , erano stati stati , ma che erano stati stati .\n",
      "*****************************************\n",
      "\n",
      "*****************************************\n",
      "    SOURCE: 'I shall have time.'\n",
      "    TARGET: “Sì, farò in tempo”.\n",
      " PREDICTED: — Sono venuto .\n",
      "*****************************************\n"
     ]
    },
    {
     "data": {
      "text/plain": "Validation: 0it [00:00, ?it/s]",
      "application/vnd.jupyter.widget-view+json": {
       "version_major": 2,
       "version_minor": 0,
       "model_id": "2c4560361e794626afa98eddc3f2cbff"
      }
     },
     "metadata": {},
     "output_type": "display_data"
    },
    {
     "name": "stdout",
     "output_type": "stream",
     "text": [
      "*****************************************\n",
      "    SOURCE: If she had held it open a little longer, I believe I should have begged a piece of bread; for I was now brought low.\n",
      "    TARGET: Se l'avesse lasciata aperta un momento di più credo che le avrei chiesto un pezzetto di pane, perché ero caduta molto in basso.\n",
      " PREDICTED: Se fosse un pezzo di pane , avrei potuto un pane di pane , e io mi sarei .\n",
      "*****************************************\n",
      "*****************************************\n",
      "    SOURCE: The elections themselves interested him so much that he began to think that if he were married by the next triennial election he would himself put up, just as, when a jockey had won him a prize, he had wished to ride a race himself.\n",
      "    TARGET: Le stesse elezioni lo avevano talmente preso che, se fosse riuscito a regolare la sua posizione di marito, pensava, per il futuro triennio, di entrare lui stesso in ballottaggio, quasi come, dopo aver vinto un premio per mezzo di un fantino, gli fosse venuta la voglia di correre lui stesso.\n",
      " PREDICTED: Le elezioni gli avevano detto che , dopo aver pensato a se stesso , si sarebbe sposata , si sarebbe fermato per , come se avesse fatto , quando egli si era avvicinato , si era avvicinato a sé , e si diresse verso di sé .\n",
      "*****************************************\n",
      "*****************************************\n",
      "    SOURCE: 'The salary is good, up to nine thousand, and my means...' 'Nine thousand,' repeated Karenin, and frowned.\n",
      "    TARGET: — Lo stipendio è buono, fino a novemila rubli, e le mie condizioni...\n",
      " PREDICTED: — Il ballo , va bene , e per , e per me ... — cominciò a la mano .\n",
      "*****************************************\n",
      "\n",
      "*****************************************\n",
      "    SOURCE: He now turned quite from the moon and faced me.\n",
      "    TARGET: Cessò di fissare la luna e mi guardò in faccia.\n",
      " PREDICTED: Egli si voltò a guardare la luna e mi fece piacere .\n",
      "*****************************************\n",
      "*****************************************\n",
      "    SOURCE: That is what she has done,' he said.\n",
      "    TARGET: Ecco quello che ha fatto — egli disse.\n",
      " PREDICTED: Ecco quello che ha fatto , ha detto — disse .\n",
      "*****************************************\n",
      "*****************************************\n",
      "    SOURCE: He said that was true; so he brought a large basket of rusk or biscuit, and three jars of fresh water, into the boat.\n",
      "    TARGET: Egli disse che ciò era giusto: in fatti porto un gran canestro di rusk, che è il loro biscotto, e tre orci di acqua fresca.\n",
      " PREDICTED: Disse che era vero : era un grosso di pane , di pane , di pane , di tre pezzi di acqua .\n",
      "*****************************************\n",
      "\n",
      "*****************************************\n",
      "    SOURCE: 'Now he has received my note and is on his way back.\n",
      "    TARGET: “Adesso ha già ricevuto il biglietto e torna indietro.\n",
      " PREDICTED: — Adesso ha ricevuto la lettera e ha preso la lettera .\n",
      "*****************************************\n",
      "*****************************************\n",
      "    SOURCE: And then this money came only to me: not to me and a rejoicing family, but to my isolated self.\n",
      "    TARGET: Poi quel denaro veniva a me sola e non avevo una famiglia con cui dividerlo.\n",
      " PREDICTED: E allora la partenza mi venne soltanto a casa , ma una famiglia non mi sentivo nulla , ma la mia famiglia .\n",
      "*****************************************\n",
      "\n",
      "*****************************************\n",
      "    SOURCE: 'I only wished to say that one may have unavoidable business.\n",
      "    TARGET: — Voglio dire soltanto che possono capitare degli affari inderogabili.\n",
      " PREDICTED: — Io volevo dire che è necessario essere stato .\n",
      "*****************************************\n",
      "\n",
      "*****************************************\n",
      "    SOURCE: CHAPTER XXV\n",
      "    TARGET: XXV\n",
      " PREDICTED: XXV\n",
      "*****************************************\n"
     ]
    },
    {
     "data": {
      "text/plain": "Validation: 0it [00:00, ?it/s]",
      "application/vnd.jupyter.widget-view+json": {
       "version_major": 2,
       "version_minor": 0,
       "model_id": "cf542a88fea349708f96851f43282d1f"
      }
     },
     "metadata": {},
     "output_type": "display_data"
    },
    {
     "name": "stdout",
     "output_type": "stream",
     "text": [
      "*****************************************\n",
      "    SOURCE: They sat on three chairs in the punt, and watched intently their lines.\n",
      "    TARGET: Sedevano su tre sedie nella zattera, e vigilavano intenti le lenze.\n",
      " PREDICTED: Si alzarono in tre passi , si la zattera , e , il fucile , si mise a gridare .\n",
      "*****************************************\n",
      "*****************************************\n",
      "    SOURCE: He was even more emaciated than three years before when Constantine Levin had last seen him.\n",
      "    TARGET: Era ancora più magro che non tre anni prima, quando Konstantin Levin l’aveva visto l’ultima volta.\n",
      " PREDICTED: Era ancora una settimana più forte che non aveva visto Konstantin Levin quando lo aveva visto .\n",
      "*****************************************\n",
      "*****************************************\n",
      "    SOURCE: 'I've had nothing yet,' Alice replied in an offended tone, 'so I can't take more.'\n",
      "    TARGET: — Non ne ho avuto ancora una goccia, — rispose Alice in tono offeso, — così non posso prenderne un po' di più.\n",
      " PREDICTED: — Non ho ancora visto , — rispose Alice con tono così serio . — Non posso più .\n",
      "*****************************************\n",
      "\n",
      "*****************************************\n",
      "    SOURCE: He rang the bell in the dining-room and told the servant to send for the doctor once more.\n",
      "    TARGET: In sala da pranzo, bussò e ordinò al cameriere di mandare di nuovo per il dottore.\n",
      " PREDICTED: Si presentò il campanello nella sala da pranzo e disse al dottore .\n",
      "*****************************************\n",
      "*****************************************\n",
      "    SOURCE: \"I told you I am independent, sir, as well as rich: I am my own mistress.\"\n",
      "    TARGET: — Non vi ho detto che ero indipendente e ricca? Sono padrona assoluta di me, signore.\n",
      " PREDICTED: — Vi ho detto che sono buona , signore , come sono buona moglie .\n",
      "*****************************************\n",
      "*****************************************\n",
      "    SOURCE: For a mile or thereabouts my raft went very well, only that I found it drive a little distant from the place where I had landed before; by which I perceived that there was some indraft of the water, and consequently I hoped to find some creek or river there, which I might make use of as a port to get to land with my cargo.\n",
      "    TARGET: Per un miglio all’incirca la mia zattera andò assai bene; trovai solamente che nel dirigersi verso il lido si scostava alcun poco dal luogo ove presi terra la prima volta, la qual cosa ben mi fece conoscere esservi qualche braccio di mare che s’internava nella costa, onde concepii la speranza di trovare quivi un seno o un fiume, che mi facesse uffizio di porto per isbarcare tutta la mia provvigione.\n",
      " PREDICTED: Per un miglio o il mio carico mi trovai sì , che non mi trovai altro che una piccola parte di lì , ove io aveva veduto il mio carico , e che era in una parte di circa una parte di mare , che mi in un mare o di mare , come avrei potuto il mio carico .\n",
      "*****************************************\n",
      "\n",
      "*****************************************\n",
      "    SOURCE: I, on the contrary, am hopeful,' said Dolly, looking at Anna with curiosity.\n",
      "    TARGET: Io, al contrario, spero — disse Dolly, guardando Anna con curiosità.\n",
      " PREDICTED: Io , al contrario , sono — disse Dolly , guardando con attenzione .\n",
      "*****************************************\n",
      "*****************************************\n",
      "    SOURCE: 'Steve, Steve!'\n",
      "    TARGET: — Stiva!\n",
      " PREDICTED: — Stiva , Stiva !\n",
      "*****************************************\n",
      "*****************************************\n",
      "    SOURCE: I don't think I ever in my life, before or since, felt I wanted mustard as badly as I felt I wanted it then.\n",
      "    TARGET: Non credo che mai, prima o dopo, sentissi tanto come allora la mancanza della mostarda.\n",
      " PREDICTED: Non mi pare che la vita fosse la vita , o la mia vita , o fosse così difficile come io .\n",
      "*****************************************\n",
      "\n",
      "*****************************************\n",
      "    SOURCE: You had better send word, sir, that you will be there in the morning.\"\n",
      "    TARGET: Fategli dire che vi andrete domattina.\n",
      " PREDICTED: Voi dite che siate buona , signore , che siate in ritardo .\n",
      "*****************************************\n"
     ]
    },
    {
     "data": {
      "text/plain": "Validation: 0it [00:00, ?it/s]",
      "application/vnd.jupyter.widget-view+json": {
       "version_major": 2,
       "version_minor": 0,
       "model_id": "cf515e51b2d14ddeaa439bc11a6c72f5"
      }
     },
     "metadata": {},
     "output_type": "display_data"
    },
    {
     "name": "stdout",
     "output_type": "stream",
     "text": [
      "*****************************************\n",
      "    SOURCE: He felt all the torment of his and her position, all the difficulties they were surrounded by in consequence of their station in life, which exposed them to the eyes of the whole world, obliged them to hide their love, to lie and deceive, and again to lie and deceive, to scheme and constantly think about others while the passion that bound them was so strong that they both forgot everything but their love.\n",
      "    TARGET: Sentiva tutto il tormento della posizione sua e di quella di lei, l’imbarazzo creato dalla necessità, esposti com’erano agli occhi del mondo, di dover nascondere il loro amore, e di mentire e di ingannare, di dover usare mille astuzie e doversi preoccupare continuamente degli altri, mentre la loro passione era così grande che per entrambi null’altro v’era al di fuori del loro amore.\n",
      " PREDICTED: Sentiva tutta la stessa cosa che la sua situazione , tutti i lati della propria vita erano tutti i lati della vita , che la vita , e che tutti i suoi occhi , per ogni cosa , e e , a ogni cosa , e e , che tutti i mezzi per capire e che tutto questo era così felice e che tutti gli altri , e tutti gli altri , per questo non si sentiva che tutto il suo amore , e tutti gli altri , per tutto questo sentimento , e tutti gli altri , e due , per tutto questo sentimento , per tutto questo sentimento , e tutti gli altri , per ogni sentimento , e tutti gli altri , e tutti gli altri , per ogni sentimento , per tutto questo sentimento , che gli altri , e tutti gli altri .\n",
      "*****************************************\n",
      "\n",
      "*****************************************\n",
      "    SOURCE: I can't understand it!\n",
      "    TARGET: Io questo non lo capisco.\n",
      " PREDICTED: Io non posso capire .\n",
      "*****************************************\n",
      "\n",
      "*****************************************\n",
      "    SOURCE: I cry because I am miserable.\"\n",
      "    TARGET: Detesto di uscire in carrozza; ho pianto perché sono infelice.\n",
      " PREDICTED: Io mi .\n",
      "*****************************************\n",
      "*****************************************\n",
      "    SOURCE: Never had she felt so humiliated as when, having called in the commissionaire, she heard from him the full account of how he had waited and had then been told that there would be no answer.\n",
      "    TARGET: Non s’era mai sentita così umiliata come nel momento in cui, chiamato il fattorino, aveva sentito da lui il racconto particolareggiato di come egli avesse aspettato a lungo e di come poi gli avessero detto: “Non c’è risposta”.\n",
      " PREDICTED: Non aveva sentito che tanto spesso si fosse offesa quando l ’ aveva sentito che l ’ aveva sentito con la quale l ’ aveva sentito che l ’ aveva detto , e che non sarebbe stata risposta .\n",
      "*****************************************\n",
      "*****************************************\n",
      "    SOURCE: If a moment's silence broke the conversation, he would turn restless, touch me, then say, \"Jane.\"\n",
      "    TARGET: Se la conversazione languiva, egli mostravasi subito inquieto, mi toccava e diceva:\n",
      " PREDICTED: Se un momento di silenzio si mise a parlare , mi disse : — Se no , Jane , Jane , mi .\n",
      "*****************************************\n",
      "\n",
      "*****************************************\n",
      "    SOURCE: What is God?\"\n",
      "    TARGET: Chi è?\n",
      " PREDICTED: Che Iddio è il Signore ?\n",
      "*****************************************\n",
      "*****************************************\n",
      "    SOURCE: Arguments about cows being milk-producing machines did not commend themselves to her, for she imagined that such arguments were calculated only to interfere with farming.\n",
      "    TARGET: Il ragionamento secondo cui la vacca è una macchina per fare il latte, la metteva in sospetto. Le pareva che ragionamenti simili potessero solo intralciare l’economia.\n",
      " PREDICTED: i libri che non le dei discorsi che si , per quanto le questioni che le erano soltanto con l ’ azienda .\n",
      "*****************************************\n",
      "\n",
      "*****************************************\n",
      "    SOURCE: Who has decked the earth with beauty?\n",
      "    TARGET: Chi ha rivestito la terra della sua bellezza?\n",
      " PREDICTED: Chi ha la terra con la sua bellezza ?\n",
      "*****************************************\n",
      "\n",
      "*****************************************\n",
      "    SOURCE: CHAPTER XXXIII\n",
      "    TARGET: XIII.\n",
      " PREDICTED: XXXIII\n",
      "*****************************************\n",
      "*****************************************\n",
      "    SOURCE: Pray how did you manage to do it?'\n",
      "    TARGET: Ma dimmi, ove la pigli, — o babbo, tanta possa?”\n",
      " PREDICTED: O che ti a fare la cosa ?\n",
      "*****************************************\n"
     ]
    },
    {
     "data": {
      "text/plain": "Validation: 0it [00:00, ?it/s]",
      "application/vnd.jupyter.widget-view+json": {
       "version_major": 2,
       "version_minor": 0,
       "model_id": "a52bac734f874648acf552421bc8b5f5"
      }
     },
     "metadata": {},
     "output_type": "display_data"
    },
    {
     "name": "stdout",
     "output_type": "stream",
     "text": [
      "*****************************************\n",
      "    SOURCE: The poor Russian hack, what d'you call it?... of the breed that you have to drag along by the tail, can be spoiled, but if you keep Flemish drays or good Russo-Danish horses, they won't spoil them.\n",
      "    TARGET: Un ronzino russo, di razza da tiro, uno di quelli da trascinar per la coda, ve lo sciuperanno, ma mettete su dei percesi o almeno dei buoni cavalli da tiro, non ve li sciuperanno, e così per tutto.\n",
      " PREDICTED: Il povero selvaggio può essere impossibile ? — disse . — Tu sei tu per , ma se tu , o la coda , o , o non i cavalli .\n",
      "*****************************************\n",
      "\n",
      "*****************************************\n",
      "    SOURCE: I tottered, and on regaining my equilibrium retired back a step or two from his chair.\n",
      "    TARGET: Barcollai e poi rimettendomi in equilibrio, mi allontanai di un passo o due dalla sua sedia.\n",
      " PREDICTED: \" e il mio passo dopo due volte che mi circondavano la sedia .\n",
      "*****************************************\n",
      "*****************************************\n",
      "    SOURCE: All the first year he didn't understand anything; and we chaffed him,' answered the old man. 'Well, this is hay!\n",
      "    TARGET: Per un anno intero si è comportato come uno stupido... c’era da vergognarsi — rispose il vecchio. — Su, il fieno!\n",
      " PREDICTED: Tutto il primo anno non lo capiva nulla ; e noi , ci e ci rispose il vecchio . — Ecco , il fieno !\n",
      "*****************************************\n",
      "*****************************************\n",
      "    SOURCE: Friday kept his eyes close upon me, that, as I had bid him, he might observe what I did; so, as soon as the first shot was made, I threw down the piece, and took up the fowling-piece, and Friday did the like; he saw me cock and present; he did the same again. “Are you ready, Friday?” said I.\n",
      "    TARGET: Venerdì non mi levava gli occhi d’addosso per vedere, com’io gli avea imposto, quel che faceva. In fatti, appena sparato la prima volta, misi a terra l’archibuso, e presi su lo schioppo da caccia; e Venerdì lo stesso; posi il dito al grilletto; egli pure. — «Siete lesto, Venerdì? — Sì, padrone. — Sparate, in nome di Dio!»\n",
      " PREDICTED: Venerdì si mise a ridere di Venerdì che Venerdì aveva fatto , come dissi , che cosa avesse fatto , la prima volta che cosa fosse la prima volta , la prima volta che l ’ aveva fatta . — « , Venerdì , dissi , e Venerdì di nuovo a Venerdì ; poi Venerdì che cosa gli aveva fatto , Venerdì , Venerdì lo . — « ora , Venerdì , Venerdì , Venerdì ? — E Venerdì che Venerdì lo di nuovo . — « Che cosa ? — E Venerdì che cosa ?\n",
      "*****************************************\n",
      "\n",
      "*****************************************\n",
      "    SOURCE: 'Yes,' said Alice, 'we learned French and music.'\n",
      "    TARGET: — Sì, — rispose Alice; — imparavamo il francese e la musica.\n",
      " PREDICTED: — Sì , — disse Alice , — noi abbiamo un francese .\n",
      "*****************************************\n",
      "*****************************************\n",
      "    SOURCE: Sometimes I even doubt the existence of God,' said Levin involuntarily, and was horrified at the impropriety of his words.\n",
      "    TARGET: Dubito, a volte, perfino dell’esistenza di Dio — disse involontariamente Levin, e inorridì della sconvenienza di quel che aveva detto.\n",
      " PREDICTED: A volte la cosa di Dio , lo sento — disse Levin , e , senza esprimere la sua stizza , il quale le parole gli venivano agli occhi .\n",
      "*****************************************\n",
      "*****************************************\n",
      "    SOURCE: 'I can't help it,' said Alice very meekly: 'I'm growing.'\n",
      "    TARGET: — Che ci posso fare? — disse affabilmente Alice. — Sto crescendo.\n",
      " PREDICTED: — Non posso non fare , — disse Alice , — e io sono stanca .\n",
      "*****************************************\n",
      "*****************************************\n",
      "    SOURCE: He went to the partition door, held up his hands, and began singing in French, ' \"There was a king in Thule!\" Vronsky, will you have a drink?'\n",
      "    TARGET: — Fila via — disse Vronskij che metteva un soprabito tesogli dal servitore\n",
      " PREDICTED: Si avvicinò alla porta , le mani e cominciò a cantare : “ , ecco , c ’ era un re di , di Vronskij ?\n",
      "*****************************************\n",
      "\n",
      "*****************************************\n",
      "    SOURCE: 'More than that, Princess.'\n",
      "    TARGET: — Di più, principessa.\n",
      " PREDICTED: — Più di più di tutto , principessa .\n",
      "*****************************************\n",
      "*****************************************\n",
      "    SOURCE: As I look at it, in your case it is necessary to clear up your newly-arisen relation to one another.\n",
      "    TARGET: Secondo me, nella vostra situazione, è indispensabile la chiarificazione di nuovi rapporti.\n",
      " PREDICTED: \" In quel momento lo sguardo , in caso che la vostra attenzione è molto lunga per un altro .\n",
      "*****************************************\n"
     ]
    },
    {
     "data": {
      "text/plain": "Validation: 0it [00:00, ?it/s]",
      "application/vnd.jupyter.widget-view+json": {
       "version_major": 2,
       "version_minor": 0,
       "model_id": "cf0162b882d24908bc7565918f59c87f"
      }
     },
     "metadata": {},
     "output_type": "display_data"
    },
    {
     "name": "stdout",
     "output_type": "stream",
     "text": [
      "*****************************************\n",
      "    SOURCE: But I'm glad we took the whisky.\n",
      "    TARGET: Ma fui lieto che si prendesse lo whisky.\n",
      " PREDICTED: Ma sono contento di l ’ avena .\n",
      "*****************************************\n",
      "*****************************************\n",
      "    SOURCE: Vasenka had been ignorant that the stylishness of a real sportsman consists in being dressed in rags but having one's shooting implements of the very best quality.\n",
      "    TARGET: Vasen’ka Veslovskij non aveva conosciuto, fino a quel momento, una simile vera eleganza venatoria, essere, cioè, rivestito di cenci, ma possedere gli attrezzi di caccia della qualità migliore.\n",
      " PREDICTED: Vasen ’ ka aveva avuto la sensazione che la strana impressione consisteva nel fatto che si dovesse incontrare i bagni , ma che , dopo aver salutato la qualità di Vasen ’ ka .\n",
      "*****************************************\n",
      "\n",
      "*****************************************\n",
      "    SOURCE: She has set him free.\n",
      "    TARGET: Lei l’ha liberato.\n",
      " PREDICTED: Ha portato via .\n",
      "*****************************************\n",
      "\n",
      "*****************************************\n",
      "    SOURCE: Suddenly his face beamed – he had understood.\n",
      "    TARGET: A un tratto egli s’illuminò tutto: aveva capito.\n",
      " PREDICTED: Un tratto il viso di lui aveva capito .\n",
      "*****************************************\n",
      "*****************************************\n",
      "    SOURCE: He will get more practice out of me than out of seventeen hundred of your ordinary, commonplace patients, with only one or two diseases each.\"\n",
      "    TARGET: Farà più pratica con me che con duemila dei soliti malati, che hanno al massimo due o tre malattie per ciascuno».\n",
      " PREDICTED: \" di avere molte misure di Londra , di cui si fanno le buone qualità , di famiglie che fanno le a un altro legame .\n",
      "*****************************************\n",
      "*****************************************\n",
      "    SOURCE: \"Nothing, indeed,\" thought I, as I struggled to repress a sob, and hastily wiped away some tears, the impotent evidences of my anguish.\n",
      "    TARGET: — Nulla! nulla! — pensavo fra me, — e mi sforzavo di reprimere un singhiozzo, e asciugavo rapidamente alcune lagrime, segno evidente di dolore.\n",
      " PREDICTED: — Nulla , — pensai , — che le lagrime di rabbia , le lagrime , mi le mie carezze .\n",
      "*****************************************\n",
      "*****************************************\n",
      "    SOURCE: 'With me?' she said with surprise, coming back from the other room and looking at him. 'What is it?\n",
      "    TARGET: — Con me? — disse lei sorpresa, uscendo dalla porta e guardandolo. — Cos’è mai?\n",
      " PREDICTED: — Con me ? — ella disse con sorpresa della stanza da un lato . — Che cosa è ?\n",
      "*****************************************\n",
      "*****************************************\n",
      "    SOURCE: MEANWHILE VASILY LUKICH, who had not at first understood who the lady was, having realized from what he heard that she was the mother who had left her husband and whom he, having come to the house only after she had left it, had never seen, hesitated whether to go in or not, or whether to tell Karenin.\n",
      "    TARGET: Vasilij Lukic, intanto, senza capire in principio chi fosse quella signora e capito poi, dai discorsi, che era la madre che aveva abbandonato il marito e che lui non conosceva perché assunto quando lei era andata via, era nel dubbio se entrare o no, o se comunicare la cosa a Aleksej Aleksandrovic.\n",
      " PREDICTED: Le , che non aveva saputo in principio , alla signora che non aveva capito la signora che era venuta a sapere che cosa era andata a casa sua e che sua madre era venuta a casa sua , dopo aver lasciato passare la casa , non era ancora stata , o no , né ad Aleksej Aleksandrovic .\n",
      "*****************************************\n",
      "\n",
      "*****************************************\n",
      "    SOURCE: 'Steve, Steve!'\n",
      "    TARGET: — Stiva!\n",
      " PREDICTED: — Stiva , Stiva !\n",
      "*****************************************\n",
      "*****************************************\n",
      "    SOURCE: 'Oh no, Masha, Mr. Levin only says he can't believe...' said Kitty, blushing for Levin, and Levin understanding this became still more irritated and wished to answer, but Vronsky, with his bright and frank smile, came at once to the rescue of the conversation, which was threatening to become unpleasant.\n",
      "    TARGET: — Ma no, Maša, Konstantin Dmitric dice che non ci può credere — disse Kitty, arrossendo per Levin, e questi lo capì e, irritatosi ancor più, voleva rispondere; ma Vronskij col suo sorriso aperto, cordiale, venne subito in aiuto della conversazione che minacciava di farsi spiacevole.\n",
      " PREDICTED: — No , Maša , non può dire solo il signor conte Levin dice che non può essere — disse Kitty , arrossendo e arrossendo , e senza aver capito ancora più che si era detto , e si era ammalata , ma Vronskij si era ammalata e .\n",
      "*****************************************\n"
     ]
    },
    {
     "data": {
      "text/plain": "Validation: 0it [00:00, ?it/s]",
      "application/vnd.jupyter.widget-view+json": {
       "version_major": 2,
       "version_minor": 0,
       "model_id": "eb86a062404d435ea1985a807061c482"
      }
     },
     "metadata": {},
     "output_type": "display_data"
    },
    {
     "name": "stdout",
     "output_type": "stream",
     "text": [
      "*****************************************\n",
      "    SOURCE: I love my child with one kind of love and her with another.'\n",
      "    TARGET: Amo mia figlia d’un amore, lei d’un altro.\n",
      " PREDICTED: Io amo la figlia di un altro amore e con lei .\n",
      "*****************************************\n",
      "*****************************************\n",
      "    SOURCE: \"That of saying of any strange, unsanctioned line of action,--'Let it be right.'\"\n",
      "    TARGET: — Quello di dire di ogni azione, per strana che sia: \"Andrà bene.\"\n",
      " PREDICTED: — In quel modo che dice una specie di , signore , dite : \" , signore .\n",
      "*****************************************\n",
      "*****************************************\n",
      "    SOURCE: 'And that is not all: men like you are wanted.'\n",
      "    TARGET: Uomini come te sono necessari.\n",
      " PREDICTED: — E questo non è nulla ; voi avete bisogno di voi .\n",
      "*****************************************\n",
      "*****************************************\n",
      "    SOURCE: I was excited more than I had ever been; and whether what followed was the effect of excitement the reader shall judge.\n",
      "    TARGET: Non ero mai stata più eccitata, e il lettore giudicherà se quello che avvenne allora fu il risultato del mio eccitamento.\n",
      " PREDICTED: Fui sempre più di quello che aveva fatto , e che si era ingannata .\n",
      "*****************************************\n",
      "\n",
      "*****************************************\n",
      "    SOURCE: \"Is Mr. Rochester an exacting, fastidious sort of man?\"\n",
      "    TARGET: — È forse esigente e tirannico il signor Rochester?\n",
      " PREDICTED: — È un signor Rochester , ha capito ?\n",
      "*****************************************\n",
      "*****************************************\n",
      "    SOURCE: He gathered a half-blown rose, the first on the bush, and offered it to me. \"Thank you, sir.\"\n",
      "    TARGET: E colse una rosa, mezzo sbocciata, la prima del cespuglio, e me la offrì. — Grazie, signore, — risposi.\n",
      " PREDICTED: Egli tacque un quarto d ' ora , e il primo colpo di il vento , mi fece piacere : \" Grazie , signore .\n",
      "*****************************************\n",
      "\n",
      "*****************************************\n",
      "    SOURCE: \"My things were indeed in shameful disorder,\" murmured Helen to me, in a low voice: \"I intended to have arranged them, but I forgot.\"\n",
      "    TARGET: — È vero che il mio cassetto era in un disordine vergognoso, — mi disse Elena a bassa voce, — volevo rassettarlo e non ci ho pensato più.\n",
      " PREDICTED: — Le mie cose sono brevi , — mormorò esitando , — vorrei come le cose .\n",
      "*****************************************\n",
      "*****************************************\n",
      "    SOURCE: Her eyes shone and she could not keep her rosy lips from smiling at the consciousness of her attractive appearance.\n",
      "    TARGET: Gli occhi le scintillavano e le labbra vermiglie non potevano non sorridere della consapevolezza del proprio incanto.\n",
      " PREDICTED: I suoi occhi brillavano e non riusciva a le labbra di un sorriso di lei , le tremavano di lei .\n",
      "*****************************************\n",
      "\n",
      "*****************************************\n",
      "    SOURCE: The attendant on duty lighted his candle and was going away, but Levin stopped him.\n",
      "    TARGET: Il cameriere di turno gli accese le candele e voleva andar via, ma Levin lo trattenne.\n",
      " PREDICTED: La maschera che aveva portato il candeliere e voleva Levin , ma Levin si fermò .\n",
      "*****************************************\n",
      "*****************************************\n",
      "    SOURCE: I took a book--some Arabian tales; I sat down and endeavoured to read.\n",
      "    TARGET: Presi un volume di racconti arabi e cercai di leggere, senza capire nulla.\n",
      " PREDICTED: Presi un libro , e mi misi a leggere .\n",
      "*****************************************\n"
     ]
    },
    {
     "data": {
      "text/plain": "Validation: 0it [00:00, ?it/s]",
      "application/vnd.jupyter.widget-view+json": {
       "version_major": 2,
       "version_minor": 0,
       "model_id": "4a7ec8c52a6646ffa4b48565d6c1ff07"
      }
     },
     "metadata": {},
     "output_type": "display_data"
    },
    {
     "name": "stdout",
     "output_type": "stream",
     "text": [
      "*****************************************\n",
      "    SOURCE: \"What? what?\" he said hastily. \"Curiosity is a dangerous petition: it is well I have not taken a vow to accord every request--\"\n",
      "    TARGET: La curiosità è pericolosa; per fortuna non ho promesso nulla.\n",
      " PREDICTED: — Che cosa ? — disse in fretta , — una domanda simile ; — non ho forse voluto con voi che ....\n",
      "*****************************************\n",
      "\n",
      "*****************************************\n",
      "    SOURCE: No!\n",
      "    TARGET: Dàglielo.\n",
      " PREDICTED: No , no !\n",
      "*****************************************\n",
      "*****************************************\n",
      "    SOURCE: Certain accessory points of the design served well to convey the idea that this excavation lay at an exceeding depth below the surface of the earth.\n",
      "    TARGET: Certi dettagli accessori servivano a far capire che quella galleria si trovava ad una profondità eccessiva sotto la superficie della terra.\n",
      " PREDICTED: un ordine di malessere , un avvenimento così notevole , che questa idea aveva , si portò a fumare .\n",
      "*****************************************\n",
      "*****************************************\n",
      "    SOURCE: At last the woods rose; the rookery clustered dark; a loud cawing broke the morning stillness.\n",
      "    TARGET: Finalmente vidi i boschi cupi dove si rifugiavano le cornacchie, e il loro gracchiare ruppe il silenzio mattutino.\n",
      " PREDICTED: Finalmente i boschi , i boschi si fermarono : i quali il giorno si era calmato , la mattina si udì un silenzio .\n",
      "*****************************************\n",
      "\n",
      "*****************************************\n",
      "    SOURCE: Shall I tell her now?\n",
      "    TARGET: Dirglielo ora?\n",
      " PREDICTED: Allora , ?\n",
      "*****************************************\n",
      "*****************************************\n",
      "    SOURCE: 'If they only knew,' he thought, bowing his head gravely as he listened to a Report, 'how like a guilty little boy their President was half-an-hour ago!...' and his eyes sparkled while the Report was being read.\n",
      "    TARGET: «Se sapessero — pensava chinando la testa con aria d’importanza nell’ascoltare il rapporto — che ragazzo colpevole era mezz’ora fa il loro capo!». E gli occhi gli ridevano alla lettura del rapporto.\n",
      " PREDICTED: “ Se lo sapessero — pensava , la testa come se avesse ascoltato il proprio posto di prima , come un ragazzo , il ragazzo del padrone — e un bambino ... l ’ ora prima dell ’ altro , adesso , tutto questo era finito .\n",
      "*****************************************\n",
      "*****************************************\n",
      "    SOURCE: The role Vronsky had chosen, with their removal to the palazzo, was quite successful; and having through Golenishchev made the acquaintance of several interesting persons, he felt tranquil for a time.\n",
      "    TARGET: La parte assunta da Vronskij, col passaggio nel palazzo, riuscì perfettamente, e, fatta la conoscenza di alcune persone interessanti per mezzo di Golenišcev, in un primo tempo egli fu tranquillo.\n",
      " PREDICTED: La parte di Vronskij aveva scelto con l ’ unico suo dovere per il palazzo , era particolarmente semplice e sereno , per Golenišcev , aveva trovato un po ’ più importante di un tempo .\n",
      "*****************************************\n",
      "\n",
      "*****************************************\n",
      "    SOURCE: As I look at it, in your case it is necessary to clear up your newly-arisen relation to one another.\n",
      "    TARGET: Secondo me, nella vostra situazione, è indispensabile la chiarificazione di nuovi rapporti.\n",
      " PREDICTED: \" Ecco , allora , in questo caso vostro , è legato un ' altra .\n",
      "*****************************************\n",
      "*****************************************\n",
      "    SOURCE: The half of April, the whole of May, June, and July, and the half of August—dry, the sun being then to the north of the line.\n",
      "    TARGET: Seconda metà di aprile Maggio Giugno Luglio Prima metà di agosto Asciutta, essendo il sole a settentrione della linea.\n",
      " PREDICTED: La metà di ottobre , tutta la valle , il mese di novembre , il sole di novembre , il sole di novembre , il sole .\n",
      "*****************************************\n",
      "\n",
      "*****************************************\n",
      "    SOURCE: 'What's in it?' said the Queen.\n",
      "    TARGET: — Che contiene? — domandò la Regina\n",
      " PREDICTED: — Che c ’ è ? — disse la Regina .\n",
      "*****************************************\n"
     ]
    },
    {
     "data": {
      "text/plain": "Validation: 0it [00:00, ?it/s]",
      "application/vnd.jupyter.widget-view+json": {
       "version_major": 2,
       "version_minor": 0,
       "model_id": "abcfb2a6a99a4bdea73f8388eac49fa2"
      }
     },
     "metadata": {},
     "output_type": "display_data"
    },
    {
     "name": "stdout",
     "output_type": "stream",
     "text": [
      "*****************************************\n",
      "    SOURCE: She spoke softly, because the rapid beating of her heart impeded her breathing.\n",
      "    TARGET: Ella parlava piano perché la rapidità dei battiti del cuore le impediva di respirare.\n",
      " PREDICTED: Ella parlava piano , perché il cuore gli si spezzava .\n",
      "*****************************************\n",
      "*****************************************\n",
      "    SOURCE: Levin knew too that Kitty had strengthened that hope by tales of extraordinary recoveries of which she had heard.\n",
      "    TARGET: Levin sapeva pure che Kitty aveva rafforzato questa speranza con il racconto delle guarigioni da lei sentite.\n",
      " PREDICTED: Levin conosceva anche Kitty che aveva già promesso alle domande di cui si trovava nei racconti del quale ella aveva sentito .\n",
      "*****************************************\n",
      "*****************************************\n",
      "    SOURCE: We worked on; but the water increasing in the hold, it was apparent that the ship would founder; and though the storm began to abate a little, yet it was not possible she could swim till we might run into any port; so the master continued firing guns for help; and a light ship, who had rid it out just ahead of us, ventured a boat out to help us.\n",
      "    TARGET: Continuammo a lavorare; ma crescendo sempre l’acqua nella stiva, tutte le apparenze mostravano che la nave fosse per affondarsi; e se bene il temporale cominciasse un poco a rimettersi, non si vedeva una possibilità che essa stesse a galla quanto tempo bastava per entrare in porto; onde il capitano continuò ad ordinare gli spari soliti a farsi in tali circostanze per domandare soccorso. Un bastimento leggero che stava all’âncora dinanzi a noi, si arrischiò a spedirci una barca.\n",
      " PREDICTED: all ’ acqua , ma sempre si sentiva tosto l ’ acqua dolce , perchè il suo vascello si a , non si dava più a di , perchè il furore non si poteva , tanto che il capitano si fosse da noi . Allora il capitano continuava a far fuoco , non a far altro che il suo bastimento .\n",
      "*****************************************\n",
      "*****************************************\n",
      "    SOURCE: I cannot call them handsome--they were too pale and grave for the word: as they each bent over a book, they looked thoughtful almost to severity.\n",
      "    TARGET: Non posso dire che fossero belle; erano troppo pallide e troppo gravi, e mentre tenevano gli occhi sul libro mi parvero pensose e quasi severe.\n",
      " PREDICTED: Non posso esser bello , ma i dolci e dolci e dolci come un libro ; esse si con un libro ; esse erano pieni di sofferenza .\n",
      "*****************************************\n",
      "*****************************************\n",
      "    SOURCE: Noticing, however, that Mikhaylov was waiting to hear his criticism of the picture, he said:\n",
      "    TARGET: Avendo però notato che Michajlov si aspettava un giudizio sul quadro, aggiunse:\n",
      " PREDICTED: Avendo notato che , oltre questo , Michajlov aspettava il quadro di un articolo di articolo il quadro , disse :\n",
      "*****************************************\n",
      "*****************************************\n",
      "    SOURCE: I answer that the principalities of which one has record are found to be governed in two different ways; either by a prince, with a body of servants, who assist him to govern the kingdom as ministers by his favour and permission; or by a prince and barons, who hold that dignity by antiquity of blood and not by the grace of the prince.\n",
      "    TARGET: Respondo come e' principati de' quali si ha memoria, si truovano governati in dua modi diversi: o per uno principe, e tutti li altri servi, e' quali come ministri per grazia e concessione sua, aiutono governare quello regno; o per uno principe e per baroni, li quali, non per grazia del signore, ma per antiquità di sangue tengano quel grado.\n",
      " PREDICTED: Io ho risposto che uno di quelli che hanno creato uno , debbe essere tenuto in dua parti , uno principe nuovo , con uno principe , con il quale , con la grazia , o con il favore de ' figli , o con la grazia militare , con il favore de ' quali el sangue del re di dignità , non con la grazia e la grazia del sangue del re di dignità verso il re .\n",
      "*****************************************\n",
      "\n",
      "*****************************************\n",
      "    SOURCE: Childish and slender creature!\n",
      "    TARGET: \"Era una creatura giovanissima e sottile.\n",
      " PREDICTED: e nera nera .\n",
      "*****************************************\n",
      "*****************************************\n",
      "    SOURCE: \"Fetch me now, Jane, a glass of wine from the dining-room: they will be at supper there; and tell me if Mason is with them, and what he is doing.\" I went.\n",
      "    TARGET: — Ebbene, Jane, andate a prendermi un bicchier di vino nella sala da pranzo. Gli ospiti devono esser a cena; mi direte se Mason è con loro e quello che fanno.\n",
      " PREDICTED: — Basta , Jane , una tavola di vino di vino , e se mi andrò a casa con me ; e se è là con me , se ne vado .\n",
      "*****************************************\n",
      "*****************************************\n",
      "    SOURCE: But I had no need to be venturous, for I had no want of food, and of that which was very good too, especially these three sorts, viz. goats, pigeons, and turtle, or tortoise, which added to my grapes, Leadenhall market could not have furnished a table better than I, in proportion to the company; and though my case was deplorable enough, yet I had great cause for thankfulness that I was not driven to any extremities for food, but had rather plenty, even to dainties.\n",
      "    TARGET: D’altra parte io non avea bisogno di avventurarmi a prove, perchè non mancava di nutrimento e per vero dire eccellente, soprattutto di capre, colombi e tartarughe. Aggiunti a ciò i miei grappoli d’uva, il mercato di Leadenhall non poteva somministrare una tavola meglio imbandita della mia, avuto massimamente rispetto al numero dei commensali; laonde ancorchè la mia posizione fosse deplorabile anzichè no, io aveva sempre grande motivo di ringraziare la Providenza, perchè lontano dall’esser ridotto ad estrema penuria, nuotava nell’abbondanza, nè mi mancavano nemmeno le delicatezze del vitto.\n",
      " PREDICTED: Ma non mi bisognava essere tenuto in appresso , perchè il mio grano non aveva bisogno di , e che anche di questo fosse , anche così pure , vale a dire , tre capre e , oltre ad onta di capre ed un paio di capre ; che non avrei potuto far altro che il mio disegno , non ostante la soddisfazione di al mio disegno , non ostante la mancanza di stromenti , era ancora maggiore di ad un disegno , ma che mi mancavano soltanto i miei buoni consigli materiali .\n",
      "*****************************************\n",
      "*****************************************\n",
      "    SOURCE: 'But he too, poor mite, is all in a perspiration,' whispered Kitty, feeling him with her hand. 'Why do you think he knows you?' she added, moving her eyes so as to see the baby's. They looked roguishly at her, she thought, from beneath his cap, which had slipped forward, and she watched the rhythmical rise and fall of his cheeks and the little hand with the rosy palm making circular movements.\n",
      "    TARGET: — Però anche lui, poverino, è tutto sudato — disse sottovoce Kitty, palpando il bambino. — Perché pensate che conosca? — aggiunse, osservando di traverso gli occhi del bambino che le sembrava guardassero furbi di sotto alla cuffietta abbassatasi, le piccole guance che riprendevano fiato uniformemente, e la manina dalla palma rossa, con la quale faceva dei movimenti circolari.\n",
      " PREDICTED: — Ma lui è troppo povero , povero disgraziato — mormorò Kitty , sentendo di nuovo il braccio con la mano . — Perché lo sa perché ? — aggiunse , guardando il bambino con gli occhi che le passava davanti al bambino e , senza guardarlo per il bambino , le baciò verso il bambino , le baciò e le guance , le baciò e le guance , le baciò i capelli e le baciò le lacrime .\n",
      "*****************************************\n"
     ]
    },
    {
     "data": {
      "text/plain": "Validation: 0it [00:00, ?it/s]",
      "application/vnd.jupyter.widget-view+json": {
       "version_major": 2,
       "version_minor": 0,
       "model_id": "7c88547bbbdb4fa7afe41989ace1ad3b"
      }
     },
     "metadata": {},
     "output_type": "display_data"
    },
    {
     "name": "stdout",
     "output_type": "stream",
     "text": [
      "*****************************************\n",
      "    SOURCE: Harris was for chancing it.\n",
      "    TARGET: Harris fu d’opinione d’affrontare il rischio.\n",
      " PREDICTED: Harris doveva .\n",
      "*****************************************\n",
      "\n",
      "*****************************************\n",
      "    SOURCE: \"Farewell, Miss Eyre, for the present; is that all?\"\n",
      "    TARGET: — State bene, signorina Eyre; nient'altro?\n",
      " PREDICTED: — Addio , signorina Eyre ; perché tutto questo è qui ?\n",
      "*****************************************\n",
      "*****************************************\n",
      "    SOURCE: That is its chief - one may say, its only recommendation.\n",
      "    TARGET: Questo è il principale e — si può dire — suo unico pregio.\n",
      " PREDICTED: È la cosa più grande : la sua lo può dire .\n",
      "*****************************************\n",
      "\n",
      "*****************************************\n",
      "    SOURCE: You consider Vronsky an aristocrat. I don't.\n",
      "    TARGET: Tu consideri Vronskij un aristocratico, ma io no.\n",
      " PREDICTED: Voi capite : “ Vronskij non .\n",
      "*****************************************\n",
      "*****************************************\n",
      "    SOURCE: I cannot be at peace when you are not.'\n",
      "    TARGET: Non posso esser tranquillo quando non puoi esserlo tu....\n",
      " PREDICTED: Non posso essere tranquillo quando tu non sei tu ”.\n",
      "*****************************************\n",
      "*****************************************\n",
      "    SOURCE: He had scarcely begun to speak to her when he heard the rustle of a dress outside the door, his eyes no longer saw Mlle Linon, and the joyful terror of the nearness of his happiness seized him.\n",
      "    TARGET: Egli aveva appena cominciato a parlare con lei che improvvisamente, di là dalla porta, si udì un fruscio di vesti: m.lle Linon scomparve agli occhi di Levin, e gli si comunicò un gioioso terrore della propria imminente felicità.\n",
      " PREDICTED: Aveva appena cominciato a parlare quando sentì il fruscio del vestito di un vestito che splendeva sul tappeto , non più piccolo , e la gioia dell ’ agitazione gli occhi del bambino , e l ’ agitazione gli afferrò .\n",
      "*****************************************\n",
      "\n",
      "*****************************************\n",
      "    SOURCE: Don't think I am making any comparison...\n",
      "    TARGET: Non pensare che io faccia confronti...\n",
      " PREDICTED: Non so io , forse , a fare la forza ...\n",
      "*****************************************\n",
      "*****************************************\n",
      "    SOURCE: Said the mouse to the cur, \"Such a trial, dear Sir, With no jury or judge, would be wasting our breath.\"\n",
      "    TARGET: Quest'oggi non ho niente nel mio villin da fare. — Disse a Furietta il Topo: Ma come andare in Corte?\n",
      " PREDICTED: “ Il topo del : \" Un processo .\" E la vostra voce dice che non né , né il respiro .\n",
      "*****************************************\n",
      "\n",
      "*****************************************\n",
      "    SOURCE: Hang me, if I could move the rod!\n",
      "    TARGET: Accidempoli, se potevo più muovere la canna!\n",
      " PREDICTED: Se potessi , se potessi pian piano !\n",
      "*****************************************\n",
      "*****************************************\n",
      "    SOURCE: You just tell us, is your farming profitable?' said Levin, and at once noticed a momentary expression of fright which he had observed before on Sviyazhsky's face, when he tried to penetrate beyond the reception rooms of his mind.\n",
      "    TARGET: Su, dite voi, è forse attiva la vostra azienda? — disse Levin, e subito nello sguardo di Svijazskij notò quella fugace espressione di spavento che egli vi scorgeva ogni volta che voleva andare oltre le stanze da ricevimento della mente di Svijazskij.\n",
      " PREDICTED: Lo ricordi dunque , l ’ azienda domestica ? — disse Levin , e , dopo aver visto un attimo di spavento , avendo notato dinanzi a Svijazskij sul viso di Svijazskij che aveva provato per la stanza .\n",
      "*****************************************\n"
     ]
    },
    {
     "name": "stderr",
     "output_type": "stream",
     "text": [
      "`Trainer.fit` stopped: `max_epochs=15` reached.\n",
      "LOCAL_RANK: 0 - CUDA_VISIBLE_DEVICES: [0]\n",
      "/home/e183534/ERA_V1/venv/lib/python3.8/site-packages/pytorch_lightning/trainer/connectors/data_connector.py:488: PossibleUserWarning: Your `test_dataloader`'s sampler has shuffling enabled, it is strongly recommended that you turn shuffling off for val/test/predict dataloaders.\n",
      "  rank_zero_warn(\n",
      "/home/e183534/ERA_V1/venv/lib/python3.8/site-packages/pytorch_lightning/trainer/connectors/data_connector.py:224: PossibleUserWarning: The dataloader, test_dataloader 0, does not have many workers which may be a bottleneck. Consider increasing the value of the `num_workers` argument` (try 8 which is the number of cpus on this machine) in the `DataLoader` init to improve performance.\n",
      "  rank_zero_warn(\n"
     ]
    },
    {
     "data": {
      "text/plain": "Testing: 0it [00:00, ?it/s]",
      "application/vnd.jupyter.widget-view+json": {
       "version_major": 2,
       "version_minor": 0,
       "model_id": "77ebdb149c1e457aaa404f8066655916"
      }
     },
     "metadata": {},
     "output_type": "display_data"
    },
    {
     "name": "stdout",
     "output_type": "stream",
     "text": [
      "*****************************************\n",
      "    SOURCE: You say it's hot' she asked, stopping at the door and looking inquiringly at Vronsky, while a bright flush again suffused her face.\n",
      "    TARGET: Cosa dite, fa caldo? — disse, fermandosi sulla porta e guardando interrogativamente Vronskij. E di nuovo un vivace rossore le coprì il viso.\n",
      " PREDICTED: Voi dite : “ tu sei caldo , e , guardando la porta , guardò Vronskij con un viso grazioso e cupo , scomparve dietro a lei .\n",
      "*****************************************\n",
      "*****************************************\n",
      "    SOURCE: He took his eldest son to visit the second family, and told Oblonsky that he considered it developed his son and was good for him.\n",
      "    TARGET: E portava il primogenito nella seconda famiglia e raccontava a Stepan Arkad’ic che riteneva ciò utile e adatto a sviluppare il figlio.\n",
      " PREDICTED: il figlio più di Stepan Arkad ’ ic , il secondo viaggio , Stepan Arkad ’ ic raccontò che gli era stato carattere del figlio e lo aveva per lui .\n",
      "*****************************************\n",
      "\n",
      "*****************************************\n",
      "    SOURCE: It made me awfully wild, especially as George burst out laughing.\n",
      "    TARGET: Diventai terribilmente furioso, anche perchè Giorgio s’era messo a ridere.\n",
      " PREDICTED: Così mi , che a Giorgio scoppiò a ridere .\n",
      "*****************************************\n",
      "*****************************************\n",
      "    SOURCE: He came to a dead stop, a yard from our step, and, leaning up against the railings, and selecting a straw to chew, fixed us with his eye.\n",
      "    TARGET: Si fermò di proposito deliberato, a un passo dalla soglia di casa nostra, e, raccattando una paglia da biasciare, ci fissò insolentemente.\n",
      " PREDICTED: un cavallo morto , che s ’ avvicinava alla nostra destra , e , appoggiato alla nostra lancia , a vapore , un tratto di tela .\n",
      "*****************************************\n",
      "*****************************************\n",
      "    SOURCE: Nothing speaks or stirs in me while you talk. I am sensible of no light kindling--no life quickening--no voice counselling or cheering.\n",
      "    TARGET: Non sono né commossa, né eccitata dalle vostre parole, nessuna fiamma si accende in me, nessuna voce mi consiglia né m'incoraggia, non aspiro a nessuna vita nuova.\n",
      " PREDICTED: Non mi né la malattia ; vi dico che non sono né né la voce , né la voce .\n",
      "*****************************************\n",
      "*****************************************\n",
      "    SOURCE: 'Put it,' she said, 'on the fourth finger of my left hand, and I am yours, and you are mine; and we shall leave earth, and make our own heaven yonder.'\n",
      "    TARGET: \"Mettetelo nel quarto dito della mano sinistra e io sarò vostra e voi sarete mio, e insieme lasceremo la terra e avremo lassù il paradiso.\"\n",
      " PREDICTED: — Metti a — ella disse alla quarta volta in mano del camino . — Io sono la mia , e voi restate al cielo per il cielo .\n",
      "*****************************************\n",
      "\n",
      "*****************************************\n",
      "    SOURCE: His finger pulled the trigger before he had taken aim.\n",
      "    TARGET: Il suo dito premeva sul grilletto prima ch’egli prendesse la mira dell’uccello.\n",
      " PREDICTED: Il dito aveva colpito dal suo scopo : egli aveva fatto uno scopo .\n",
      "*****************************************\n",
      "*****************************************\n",
      "    SOURCE: The centre of that circle was the Countess Lydia Ivanovna.\n",
      "    TARGET: Centro ne era la contessa Lidija Ivanovna.\n",
      " PREDICTED: Il centro della contessa Lidija Ivanovna era la contessa Lidija Ivanovna .\n",
      "*****************************************\n",
      "*****************************************\n",
      "    SOURCE: Again turning to the reading-desk the priest with some difficulty picked up Kitty's little ring, and asking Levin for his hand put the ring on the tip of his finger.\n",
      "    TARGET: Voltosi di nuovo verso il leggio, il sacerdote afferrò con difficoltà il piccolo anello di Kitty e, chiesta la mano di Levin, glielo infilò nella prima falange del dito.\n",
      " PREDICTED: Di nuovo , volgendosi alla tavola , tenne dietro a un pezzo che tenne dietro a Kitty , presentò Levin la mano destra , che il dito volò via sulla schiena del mignolo .\n",
      "*****************************************\n",
      "*****************************************\n",
      "    SOURCE: And then there are all those peasants who come to him every day as if it were his business to help them.\n",
      "    TARGET: E tutti questi contadini che vengono ogni giorno da lui, come se egli fosse obbligato a servirli”.\n",
      " PREDICTED: E allora , quei contadini che gli vengono tutti i contadini , se il giorno avanti li a modo da fare .\n",
      "*****************************************\n"
     ]
    }
   ],
   "source": [
    "train_transformer(transformer_model, opus_dm, cfg, epochs=2)"
   ],
   "metadata": {
    "collapsed": false,
    "ExecuteTime": {
     "end_time": "2023-09-01T20:27:55.048925179Z",
     "start_time": "2023-09-01T17:43:59.867342458Z"
    }
   }
  },
  {
   "cell_type": "code",
   "execution_count": null,
   "outputs": [],
   "source": [
    "!tensorboard --logdir=runs"
   ],
   "metadata": {
    "collapsed": false
   }
  }
 ],
 "metadata": {
  "colab": {
   "gpuType": "T4",
   "include_colab_link": true,
   "provenance": []
  },
  "kernelspec": {
   "name": "python3",
   "language": "python",
   "display_name": "Python 3 (ipykernel)"
  },
  "language_info": {
   "codemirror_mode": {
    "name": "ipython",
    "version": 3
   },
   "file_extension": ".py",
   "mimetype": "text/x-python",
   "name": "python",
   "nbconvert_exporter": "python",
   "pygments_lexer": "ipython3",
   "version": "3.10.12"
  }
 },
 "nbformat": 4,
 "nbformat_minor": 0
}
