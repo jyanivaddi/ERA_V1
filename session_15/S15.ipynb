{
  "cells": [
    {
      "cell_type": "markdown",
      "metadata": {
        "colab_type": "text",
        "id": "view-in-github"
      },
      "source": [
        "<a href=\"https://colab.research.google.com/github/jyanivaddi/ERA_V1/blob/master/session_15/S15.ipynb\" target=\"_parent\"><img src=\"https://colab.research.google.com/assets/colab-badge.svg\" alt=\"Open In Colab\"/></a>"
      ]
    },
    {
      "cell_type": "markdown",
      "metadata": {
        "id": "OZ4DqRTb9Ym8"
      },
      "source": [
        "First Connect Google Drive"
      ]
    },
    {
      "cell_type": "code",
      "execution_count": null,
      "metadata": {
        "colab": {
          "base_uri": "https://localhost:8080/"
        },
        "id": "TDhBByBZ8qi9",
        "outputId": "f84d600d-7735-4f6b-e826-05041631fa8e",
        "trusted": true
      },
      "outputs": [],
      "source": [
        "from google.colab import drive\n",
        "drive.mount('/content/gdrive/', force_remount=True)"
      ]
    },
    {
      "cell_type": "markdown",
      "metadata": {
        "id": "cgHQxuQMAJ5o"
      },
      "source": [
        "Install packages"
      ]
    },
    {
      "cell_type": "code",
      "execution_count": null,
      "metadata": {
        "ExecuteTime": {
          "end_time": "2023-08-18T21:54:11.753136036Z",
          "start_time": "2023-08-18T21:53:25.117747339Z"
        },
        "colab": {
          "base_uri": "https://localhost:8080/"
        },
        "execution": {
          "iopub.execute_input": "2023-08-15T11:24:45.241258Z",
          "iopub.status.busy": "2023-08-15T11:24:45.240841Z",
          "iopub.status.idle": "2023-08-15T11:25:50.896569Z",
          "shell.execute_reply": "2023-08-15T11:25:50.895113Z",
          "shell.execute_reply.started": "2023-08-15T11:24:45.241226Z"
        },
        "id": "VAOiUa_mAJVQ",
        "outputId": "b0f2ab9c-d179-441d-fdca-284c01631b13",
        "trusted": true
      },
      "outputs": [],
      "source": [
        "!git clone \"https://github.com/jyanivaddi/ERA_V1.git\"\n",
        "!git -C ERA_V1 pull\n",
        "#!cd ../\n",
        "!git clone \"https://github.com/jyanivaddi/dl_hub.git\"\n",
        "!git -C dl_hub pull\n",
        "!git pull\n",
        "#!cd ../\n",
        "\n",
        "!pip install --quiet \"torchinfo\" \"seaborn\" \"pytorch-lightning\" \"torchmetrics\" \"lightning-bolts\", \"torchtext\", \"datasets\", \"tokenizers\"\n",
        "!pip install --quiet \"prettytable\"\n",
        "!pip install --quiet \"torchsummary\"\n",
        "!pip install --quiet \"torch_lr_finder\"\n",
        "!pip install --quiet \"grad-cam\"\n",
        "!pip install --quiet \"gradio\""
      ]
    },
    {
      "cell_type": "code",
      "execution_count": null,
      "metadata": {
        "ExecuteTime": {
          "end_time": "2023-08-18T21:54:11.759105754Z",
          "start_time": "2023-08-18T21:54:11.756532983Z"
        },
        "execution": {
          "iopub.execute_input": "2023-08-15T11:26:21.699043Z",
          "iopub.status.busy": "2023-08-15T11:26:21.698652Z",
          "iopub.status.idle": "2023-08-15T11:26:21.704208Z",
          "shell.execute_reply": "2023-08-15T11:26:21.703030Z",
          "shell.execute_reply.started": "2023-08-15T11:26:21.699011Z"
        },
        "id": "ivBzl8YFPvJ0",
        "trusted": true
      },
      "outputs": [],
      "source": [
        "import sys\n",
        "sys.path.append(\"ERA_V1/session_15\")\n",
        "sys.path.append(\"dl_hub\")"
      ]
    },
    {
      "cell_type": "code",
      "execution_count": null,
      "metadata": {
        "ExecuteTime": {
          "end_time": "2023-08-18T21:54:12.564378479Z",
          "start_time": "2023-08-18T21:54:11.761909394Z"
        },
        "colab": {
          "base_uri": "https://localhost:8080/"
        },
        "execution": {
          "iopub.execute_input": "2023-08-15T11:31:55.436556Z",
          "iopub.status.busy": "2023-08-15T11:31:55.435500Z",
          "iopub.status.idle": "2023-08-15T11:31:56.839658Z",
          "shell.execute_reply": "2023-08-15T11:31:56.838219Z",
          "shell.execute_reply.started": "2023-08-15T11:31:55.436518Z"
        },
        "id": "n41Pe-b1J3mC",
        "outputId": "a8cbac66-45be-4bab-9e28-2db0da2b7505",
        "trusted": true
      },
      "outputs": [],
      "source": [
        "!git -C dl_hub pull\n"
      ]
    },
    {
      "cell_type": "code",
      "execution_count": 1,
      "metadata": {
        "ExecuteTime": {
          "end_time": "2023-08-18T21:54:12.576685920Z",
          "start_time": "2023-08-18T21:54:12.566433360Z"
        },
        "colab": {
          "base_uri": "https://localhost:8080/",
          "height": 470
        },
        "execution": {
          "iopub.execute_input": "2023-08-15T11:32:10.059219Z",
          "iopub.status.busy": "2023-08-15T11:32:10.058548Z",
          "iopub.status.idle": "2023-08-15T11:32:10.065799Z",
          "shell.execute_reply": "2023-08-15T11:32:10.064511Z",
          "shell.execute_reply.started": "2023-08-15T11:32:10.059186Z"
        },
        "id": "x8WpKATx75Hu",
        "outputId": "53c19e59-1a97-4dc0-a2d7-2d31e3809f2f",
        "trusted": true
      },
      "outputs": [],
      "source": [
        "#from dl_hub.Transformer.config import get_config\n",
        "from config import get_config\n",
        "cfg = get_config()\n",
        "cfg['batch_size'] = 6\n",
        "cfg['d_model'] = 64\n",
        "cfg['preload'] = None\n",
        "cfg['num_epochs'] = 10\n",
        "from train import train_model"
      ]
    },
    {
      "cell_type": "code",
      "execution_count": 2,
      "metadata": {},
      "outputs": [
        {
          "name": "stdout",
          "output_type": "stream",
          "text": [
            "using device: cpu\n"
          ]
        },
        {
          "name": "stdout",
          "output_type": "stream",
          "text": [
            "Max length of source sentence: 309\n",
            "Max length of target sentence: 309\n"
          ]
        },
        {
          "name": "stderr",
          "output_type": "stream",
          "text": [
            "processing epoch 00:   0%|          | 0/4850 [00:00<?, ?it/s]"
          ]
        }
      ],
      "source": [
        "train_model(cfg)"
      ]
    }
  ],
  "metadata": {
    "colab": {
      "gpuType": "T4",
      "include_colab_link": true,
      "provenance": []
    },
    "kernelspec": {
      "display_name": "Python 3",
      "name": "python3"
    },
    "language_info": {
      "codemirror_mode": {
        "name": "ipython",
        "version": 3
      },
      "file_extension": ".py",
      "mimetype": "text/x-python",
      "name": "python",
      "nbconvert_exporter": "python",
      "pygments_lexer": "ipython3",
      "version": "3.10.12"
    }
  },
  "nbformat": 4,
  "nbformat_minor": 0
}
