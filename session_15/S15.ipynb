{
 "cells": [
  {
   "cell_type": "markdown",
   "metadata": {
    "colab_type": "text",
    "id": "view-in-github"
   },
   "source": [
    "<a href=\"https://colab.research.google.com/github/jyanivaddi/ERA_V1/blob/master/session_15/S15.ipynb\" target=\"_parent\"><img src=\"https://colab.research.google.com/assets/colab-badge.svg\" alt=\"Open In Colab\"/></a>"
   ]
  },
  {
   "cell_type": "markdown",
   "metadata": {
    "id": "OZ4DqRTb9Ym8"
   },
   "source": [
    "First Connect Google Drive"
   ]
  },
  {
   "cell_type": "code",
   "execution_count": null,
   "metadata": {
    "colab": {
     "base_uri": "https://localhost:8080/"
    },
    "id": "TDhBByBZ8qi9",
    "outputId": "f84d600d-7735-4f6b-e826-05041631fa8e",
    "trusted": true
   },
   "outputs": [],
   "source": [
    "from google.colab import drive\n",
    "drive.mount('/content/gdrive/', force_remount=True)"
   ]
  },
  {
   "cell_type": "markdown",
   "metadata": {
    "id": "cgHQxuQMAJ5o"
   },
   "source": [
    "Install packages"
   ]
  },
  {
   "cell_type": "code",
   "execution_count": null,
   "metadata": {
    "colab": {
     "base_uri": "https://localhost:8080/"
    },
    "execution": {
     "iopub.execute_input": "2023-08-15T11:24:45.241258Z",
     "iopub.status.busy": "2023-08-15T11:24:45.240841Z",
     "iopub.status.idle": "2023-08-15T11:25:50.896569Z",
     "shell.execute_reply": "2023-08-15T11:25:50.895113Z",
     "shell.execute_reply.started": "2023-08-15T11:24:45.241226Z"
    },
    "id": "VAOiUa_mAJVQ",
    "outputId": "b0f2ab9c-d179-441d-fdca-284c01631b13",
    "trusted": true
   },
   "outputs": [],
   "source": [
    "!git clone \"https://github.com/jyanivaddi/ERA_V1.git\"\n",
    "!git -C ERA_V1 pull\n",
    "#!cd ../\n",
    "!git clone \"https://github.com/jyanivaddi/dl_hub.git\"\n",
    "!git -C dl_hub pull\n",
    "!git pull\n",
    "#!cd ../\n",
    "\n",
    "!pip install --quiet \"torchinfo\" \"seaborn\" \"pytorch-lightning\" \"torchmetrics\" \"lightning-bolts\", \"torchtext\", \"datasets\", \"tokenizers\"\n",
    "!pip install --quiet \"prettytable\"\n",
    "!pip install --quiet \"torchsummary\"\n",
    "!pip install --quiet \"torch_lr_finder\"\n",
    "!pip install --quiet \"grad-cam\"\n",
    "!pip install --quiet \"gradio\""
   ]
  },
  {
   "cell_type": "code",
   "execution_count": null,
   "metadata": {
    "execution": {
     "iopub.execute_input": "2023-08-15T11:26:21.699043Z",
     "iopub.status.busy": "2023-08-15T11:26:21.698652Z",
     "iopub.status.idle": "2023-08-15T11:26:21.704208Z",
     "shell.execute_reply": "2023-08-15T11:26:21.703030Z",
     "shell.execute_reply.started": "2023-08-15T11:26:21.699011Z"
    },
    "id": "ivBzl8YFPvJ0",
    "trusted": true
   },
   "outputs": [],
   "source": [
    "import sys\n",
    "sys.path.append(\"ERA_V1/session_15\")\n",
    "sys.path.append(\"dl_hub\")"
   ]
  },
  {
   "cell_type": "code",
   "execution_count": null,
   "metadata": {
    "colab": {
     "base_uri": "https://localhost:8080/"
    },
    "execution": {
     "iopub.execute_input": "2023-08-15T11:31:55.436556Z",
     "iopub.status.busy": "2023-08-15T11:31:55.435500Z",
     "iopub.status.idle": "2023-08-15T11:31:56.839658Z",
     "shell.execute_reply": "2023-08-15T11:31:56.838219Z",
     "shell.execute_reply.started": "2023-08-15T11:31:55.436518Z"
    },
    "id": "n41Pe-b1J3mC",
    "outputId": "a8cbac66-45be-4bab-9e28-2db0da2b7505",
    "trusted": true
   },
   "outputs": [],
   "source": [
    "!git -C dl_hub pull\n"
   ]
  },
  {
   "cell_type": "code",
   "execution_count": 1,
   "metadata": {
    "colab": {
     "base_uri": "https://localhost:8080/",
     "height": 470
    },
    "execution": {
     "iopub.execute_input": "2023-08-15T11:32:10.059219Z",
     "iopub.status.busy": "2023-08-15T11:32:10.058548Z",
     "iopub.status.idle": "2023-08-15T11:32:10.065799Z",
     "shell.execute_reply": "2023-08-15T11:32:10.064511Z",
     "shell.execute_reply.started": "2023-08-15T11:32:10.059186Z"
    },
    "id": "x8WpKATx75Hu",
    "outputId": "53c19e59-1a97-4dc0-a2d7-2d31e3809f2f",
    "trusted": true,
    "ExecuteTime": {
     "end_time": "2023-08-31T18:31:59.132770451Z",
     "start_time": "2023-08-31T18:31:56.195052541Z"
    }
   },
   "outputs": [],
   "source": [
    "#from dl_hub.Transformer.config import get_config\n",
    "from config import get_config\n",
    "cfg = get_config()\n",
    "cfg['batch_size'] = 16\n",
    "cfg['d_model'] = 512\n",
    "cfg['preload'] = None\n",
    "cfg['num_epochs'] = 10\n",
    "from train import train_model"
   ]
  },
  {
   "cell_type": "code",
   "execution_count": 2,
   "metadata": {
    "ExecuteTime": {
     "end_time": "2023-08-31T20:17:41.526169136Z",
     "start_time": "2023-08-31T18:32:02.556306119Z"
    }
   },
   "outputs": [
    {
     "name": "stdout",
     "output_type": "stream",
     "text": [
      "using device: cuda\n",
      "Max length of source sentence: 309\n",
      "Max length of target sentence: 274\n"
     ]
    },
    {
     "name": "stderr",
     "output_type": "stream",
     "text": [
      "processing epoch 00: 100%|██████████| 1819/1819 [11:21<00:00,  2.67it/s, loss=5.720]\n",
      "stty: 'standard input': Inappropriate ioctl for device\n"
     ]
    },
    {
     "name": "stdout",
     "output_type": "stream",
     "text": [
      "--------------------------------------------------------------------------------\n",
      "    SOURCE: They affirmed that she had even divined their thoughts, and had whispered in the ear of each the name of the person she liked best in the world, and informed them of what they most wished for. Here the gentlemen interposed with earnest petitions to be further enlightened on these two last-named points; but they got only blushes, ejaculations, tremors, and titters, in return for their importunity.\n",
      "    TARGET: Affermarono pure che la strega conosceva anche i loro pensieri ed aveva mormorato all'orecchio di ciascuna il nome della persona cui volevano più bene.\n",
      " PREDICTED: La sua sua volta era un ’ era un ’ altra volta , e la sua volta , e , e , e , e , e , e , e , e , e , e , e , e , e , e , e , e , e , e , e , e , e , e , e , e , e , e , e , e , e , e , e , e , e , e , e , e , e , e , e , e , e , e , e , e , e , e , e , e , e , e , e , e , e a a , e , e , e a , e , e a a , e , e , e , e , e , e , e , e , e , e , e , e , e , e , e , e , e , e , e , e il suo , e , e , e il suo , e a a a , e a a a a , e , e , e , e , e , , , il suo , , , , e , e , e , e , e ,\n",
      "--------------------------------------------------------------------------------\n",
      "    SOURCE: 'Yes, it is very pleasant,' replied Levin.\n",
      "    TARGET: — Sì, è una cosa piacevole — disse Levin.\n",
      " PREDICTED: — Sì , non è un ’ ic , — disse Levin .\n",
      "--------------------------------------------------------------------------------\n"
     ]
    },
    {
     "name": "stderr",
     "output_type": "stream",
     "text": [
      "/home/e183534/ERA_V1/venv/lib/python3.8/site-packages/torchmetrics/utilities/prints.py:61: FutureWarning: Importing `CharErrorRate` from `torchmetrics` was deprecated and will be removed in 2.0. Import `CharErrorRate` from `torchmetrics.text` instead.\n",
      "  _future_warning(\n",
      "/home/e183534/ERA_V1/venv/lib/python3.8/site-packages/torchmetrics/utilities/prints.py:61: FutureWarning: Importing `WordErrorRate` from `torchmetrics` was deprecated and will be removed in 2.0. Import `WordErrorRate` from `torchmetrics.text` instead.\n",
      "  _future_warning(\n",
      "/home/e183534/ERA_V1/venv/lib/python3.8/site-packages/torchmetrics/utilities/prints.py:61: FutureWarning: Importing `BLEUScore` from `torchmetrics` was deprecated and will be removed in 2.0. Import `BLEUScore` from `torchmetrics.text` instead.\n",
      "  _future_warning(\n",
      "processing epoch 01: 100%|██████████| 1819/1819 [10:50<00:00,  2.80it/s, loss=5.746]\n",
      "stty: 'standard input': Inappropriate ioctl for device\n"
     ]
    },
    {
     "name": "stdout",
     "output_type": "stream",
     "text": [
      "--------------------------------------------------------------------------------\n",
      "    SOURCE: Only occasionally, in the stillness, he listened to the clicking of her needles and, remembering what he did not wish to remember, made a wry face.\n",
      "    TARGET: Solo ogni tanto tendeva l’occhio allo sferruzzare di Agaf’ja Michajlovna, e, ricordando quello che non voleva ricordare, si accigliava di nuovo.\n",
      " PREDICTED: E , con la sua vita , la sua , la sua vita , e , che non si era stata in modo che , si era stata in modo di lui .\n",
      "--------------------------------------------------------------------------------\n",
      "    SOURCE: But as soon as an important moment of life comes, like children when they are cold and hungry, I go to Him, and even less than the children whose mother scolds them for their childish mischief do I feel that my childish attempts to kick because I am filled should be reckoned against me.\n",
      "    TARGET: E non appena incombe un momento grave della vita, come i bambini quando hanno freddo e fame, vado verso di Lui, e ancora meno dei bambini, che la madre sgrida per le loro birichinate infantili, sento che i miei infantili tentativi di agitarmi per troppo benessere non mi sono valsi.\n",
      " PREDICTED: Ma , che la sua cosa si , e la mia vita , e la mia vita , e la mia vita , e la mia vita , che mi , e che mi , e che mi , che la mia vita , che mi .\n",
      "--------------------------------------------------------------------------------\n"
     ]
    },
    {
     "name": "stderr",
     "output_type": "stream",
     "text": [
      "processing epoch 02: 100%|██████████| 1819/1819 [10:32<00:00,  2.88it/s, loss=5.927]\n",
      "stty: 'standard input': Inappropriate ioctl for device\n"
     ]
    },
    {
     "name": "stdout",
     "output_type": "stream",
     "text": [
      "--------------------------------------------------------------------------------\n",
      "    SOURCE: \"Yes, it must be,\" replied the cousin, \"because we've walked a good two miles already.\"\n",
      "    TARGET: — Sì dev’esser così — rispose il cugino — perchè abbiamo percorso almeno un paio di miglia.\n",
      " PREDICTED: — Sì , — rispose il Gatto , — che non ci sono .\n",
      "--------------------------------------------------------------------------------\n",
      "    SOURCE: But in republics there is more vitality, greater hatred, and more desire for vengeance, which will never permit them to allow the memory of their former liberty to rest; so that the safest way is to destroy them or to reside there.\n",
      "    TARGET: Ma nelle repubbliche è maggiore vita, maggiore odio, più desiderio di vendetta; né li lascia, né può lasciare riposare la memoria della antiqua libertà: tale che la più sicura via è spegnerle o abitarvi.\n",
      " PREDICTED: Ma , adunque , è stato , e ' uomini , e la sua vita non può essere più , che non si può essere più di non essere mai , che la sua vita è vero , che non è vero .\n",
      "--------------------------------------------------------------------------------\n"
     ]
    },
    {
     "name": "stderr",
     "output_type": "stream",
     "text": [
      "processing epoch 03: 100%|██████████| 1819/1819 [10:13<00:00,  2.96it/s, loss=5.223]\n",
      "stty: 'standard input': Inappropriate ioctl for device\n"
     ]
    },
    {
     "name": "stdout",
     "output_type": "stream",
     "text": [
      "--------------------------------------------------------------------------------\n",
      "    SOURCE: 'What do you mean?' Vasenka began with surprise. 'To drive where?'\n",
      "    TARGET: — Sarebbe a dire, come? — cominciò Vasen’ka con sorpresa. — E dove si deve andare?\n",
      " PREDICTED: — Che cosa hai detto ? — disse Veslovskij , guardando con un ’ altra cosa .\n",
      "--------------------------------------------------------------------------------\n",
      "    SOURCE: When the chorus came we even made a desperate effort to be merry.\n",
      "    TARGET: Quando giunse l’istante del coro, facemmo uno sforzo disperato per essere allegri.\n",
      " PREDICTED: Quando il Re si a un ’ altra parte , si .\n",
      "--------------------------------------------------------------------------------\n"
     ]
    },
    {
     "name": "stderr",
     "output_type": "stream",
     "text": [
      "processing epoch 04: 100%|██████████| 1819/1819 [10:12<00:00,  2.97it/s, loss=5.385]\n",
      "stty: 'standard input': Inappropriate ioctl for device\n"
     ]
    },
    {
     "name": "stdout",
     "output_type": "stream",
     "text": [
      "--------------------------------------------------------------------------------\n",
      "    SOURCE: All he could do was to try to soothe the ache and endure it, and this he did.\n",
      "    TARGET: Bisognava soltanto aiutare a sopportare il punto dolente, ed egli si sforzò di far questo.\n",
      " PREDICTED: Tutto ciò non poteva andare a il cavallo e lo sapeva .\n",
      "--------------------------------------------------------------------------------\n",
      "    SOURCE: And in all of us, including the aspens and the clouds and nebulae, evolution is proceeding.\n",
      "    TARGET: E in tutti noi, insieme con le tremule, con le nubi e le nebulose si compiva una evoluzione.\n",
      " PREDICTED: E tutti i campi , il villaggio e la strada è un ' aria e la è .\n",
      "--------------------------------------------------------------------------------\n"
     ]
    },
    {
     "name": "stderr",
     "output_type": "stream",
     "text": [
      "processing epoch 05: 100%|██████████| 1819/1819 [10:17<00:00,  2.94it/s, loss=3.989]\n",
      "stty: 'standard input': Inappropriate ioctl for device\n"
     ]
    },
    {
     "name": "stdout",
     "output_type": "stream",
     "text": [
      "--------------------------------------------------------------------------------\n",
      "    SOURCE: 'But it was not my fault, and whose fault was it?\n",
      "    TARGET: E di chi è la colpa?\n",
      " PREDICTED: — Ma non è mia colpa , e che non è vero ?\n",
      "--------------------------------------------------------------------------------\n",
      "    SOURCE: Kitty stood near her husband, evidently waiting for the end of the conversation – which did not interest her – before speaking to him.\n",
      "    TARGET: Kitty stava in piedi vicino al marito, evidentemente aspettando la fine della conversazione che non era interessante, per dirgli qualcosa.\n",
      " PREDICTED: Kitty si avvicinò alla sua amica , evidentemente , evidentemente , non aveva notato che il discorso non aveva capito .\n",
      "--------------------------------------------------------------------------------\n"
     ]
    },
    {
     "name": "stderr",
     "output_type": "stream",
     "text": [
      "processing epoch 06: 100%|██████████| 1819/1819 [10:15<00:00,  2.95it/s, loss=3.653]\n",
      "stty: 'standard input': Inappropriate ioctl for device\n"
     ]
    },
    {
     "name": "stdout",
     "output_type": "stream",
     "text": [
      "--------------------------------------------------------------------------------\n",
      "    SOURCE: Knowing all this, Levin suffered much as he saw that look full of entreaty and hope, that emaciated hand lifted with effort, in making the sign of the cross, to touch the drawn skin of the forehead, the protruding shoulder-blades and the hollow hoarse chest which could no longer contain that life for which the invalid was praying.\n",
      "    TARGET: Tutto questo Levin lo sapeva, e gli era tormentoso vedere quello sguardo supplichevole, pieno di speranza, e quella mano scheletrica che si sollevava con stento a segnarsi sulla fronte stirata, sulle spalle sporgenti e sul petto vuoto rantolante, incapace di trattenere in sé quella vita che l’ammalato chiedeva.\n",
      " PREDICTED: , Levin , come sempre , Levin vedeva che la mano di quella mano e che , con la mano , si con la mano di lui , la mano del , la fronte alla fronte del petto , non poteva più la sua vita , che non poteva più la vita di quella che non poteva più .\n",
      "--------------------------------------------------------------------------------\n",
      "    SOURCE: Joyful and preoccupied, Laska started running across the bog, which swayed beneath her feet.\n",
      "    TARGET: Laska si mise a correre allegra e intenta per la melma che tremolava sotto di lei.\n",
      " PREDICTED: e Laska , , si in fretta , che , le gambe , si .\n",
      "--------------------------------------------------------------------------------\n"
     ]
    },
    {
     "name": "stderr",
     "output_type": "stream",
     "text": [
      "processing epoch 07: 100%|██████████| 1819/1819 [10:20<00:00,  2.93it/s, loss=3.887]\n",
      "stty: 'standard input': Inappropriate ioctl for device\n"
     ]
    },
    {
     "name": "stdout",
     "output_type": "stream",
     "text": [
      "--------------------------------------------------------------------------------\n",
      "    SOURCE: 'The Club: a game of bezique, a bottle of champagne with Ignatev?\n",
      "    TARGET: “Al club? Una partita a bazzica, lo champagne con Ignatov?\n",
      " PREDICTED: — Il , un di vino , con un biglietto di ?\n",
      "--------------------------------------------------------------------------------\n",
      "    SOURCE: Strange energy was in his voice, strange fire in his look.\n",
      "    TARGET: La sua voce aveva un tono energico e negli occhi brillavagli una fiamma insolita.\n",
      " PREDICTED: Queste persone si erano mutati in voce , e la sua voce si illuminò .\n",
      "--------------------------------------------------------------------------------\n"
     ]
    },
    {
     "name": "stderr",
     "output_type": "stream",
     "text": [
      "processing epoch 08: 100%|██████████| 1819/1819 [10:15<00:00,  2.95it/s, loss=4.076]\n",
      "stty: 'standard input': Inappropriate ioctl for device\n"
     ]
    },
    {
     "name": "stdout",
     "output_type": "stream",
     "text": [
      "--------------------------------------------------------------------------------\n",
      "    SOURCE: 'I thought you had a visitor.\n",
      "    TARGET: — Pensavo che da te vi fosse qualcuno.\n",
      " PREDICTED: — Io ti ho pensato .\n",
      "--------------------------------------------------------------------------------\n",
      "    SOURCE: What about the races? You haven't told me about them,' and she tried to hide her triumph at her victory, for the victory was hers after all.\n",
      "    TARGET: Come sono andate le corse? non me ne hai parlato — domandò cercando di nascondere il trionfo della vittoria che, comunque, era dalla parte sua.\n",
      " PREDICTED: Che cosa le corse ? — disse , e , cercando di non distrarsi — ella si chiedeva alla propria gelosia , per la sua abitudine di la propria volontà .\n",
      "--------------------------------------------------------------------------------\n"
     ]
    },
    {
     "name": "stderr",
     "output_type": "stream",
     "text": [
      "processing epoch 09: 100%|██████████| 1819/1819 [10:20<00:00,  2.93it/s, loss=3.495]\n",
      "stty: 'standard input': Inappropriate ioctl for device\n"
     ]
    },
    {
     "name": "stdout",
     "output_type": "stream",
     "text": [
      "--------------------------------------------------------------------------------\n",
      "    SOURCE: The Grand Duchess wishes to show him one of them...\n",
      "    TARGET: La granduchessa vuole mostrare l’elmo nuovo.\n",
      " PREDICTED: La Duchessa vuole vedere una cosa da lui .\n",
      "--------------------------------------------------------------------------------\n",
      "    SOURCE: Again I tell you it is not the insignificant private individual--the mere man, with the man's selfish senses--I wish to mate: it is the missionary.\"\n",
      "    TARGET: Ve lo ripeto: non è al corpo insignificante, ai sensi egoisti della creatura, all'essere stesso che voglio unirmi, ma al missionario.\n",
      " PREDICTED: \" Vi dico che non è l ' uomo che non è ricca ; il suo uomo è duro e l ' uomo che voglio desiderare .\n",
      "--------------------------------------------------------------------------------\n"
     ]
    }
   ],
   "source": [
    "train_model(cfg)"
   ]
  }
 ],
 "metadata": {
  "colab": {
   "gpuType": "T4",
   "include_colab_link": true,
   "provenance": []
  },
  "kernelspec": {
   "name": "python3",
   "language": "python",
   "display_name": "Python 3 (ipykernel)"
  },
  "language_info": {
   "codemirror_mode": {
    "name": "ipython",
    "version": 3
   },
   "file_extension": ".py",
   "mimetype": "text/x-python",
   "name": "python",
   "nbconvert_exporter": "python",
   "pygments_lexer": "ipython3",
   "version": "3.10.12"
  }
 },
 "nbformat": 4,
 "nbformat_minor": 0
}
