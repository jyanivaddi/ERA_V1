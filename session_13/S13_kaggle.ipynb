{
  "metadata": {
    "kernelspec": {
      "display_name": "Python 3",
      "name": "python3"
    },
    "language_info": {
      "name": "python",
      "version": "3.10.12",
      "mimetype": "text/x-python",
      "codemirror_mode": {
        "name": "ipython",
        "version": 3
      },
      "pygments_lexer": "ipython3",
      "nbconvert_exporter": "python",
      "file_extension": ".py"
    },
    "colab": {
      "provenance": [],
      "gpuType": "T4",
      "include_colab_link": true
    },
    "accelerator": "GPU"
  },
  "nbformat_minor": 0,
  "nbformat": 4,
  "cells": [
    {
      "cell_type": "markdown",
      "metadata": {
        "id": "view-in-github",
        "colab_type": "text"
      },
      "source": [
        "<a href=\"https://colab.research.google.com/github/jyanivaddi/ERA_V1/blob/master/session_13/S13_kaggle.ipynb\" target=\"_parent\"><img src=\"https://colab.research.google.com/assets/colab-badge.svg\" alt=\"Open In Colab\"/></a>"
      ]
    },
    {
      "cell_type": "markdown",
      "source": [
        "First Connect Google Drive"
      ],
      "metadata": {
        "id": "OZ4DqRTb9Ym8"
      }
    },
    {
      "cell_type": "code",
      "source": [
        "from google.colab import drive\n",
        "drive.mount('/content/gdrive/', force_remount=True)"
      ],
      "metadata": {
        "id": "TDhBByBZ8qi9",
        "outputId": "94bc33ae-d9c1-47cb-8dda-dae4caf2abdf",
        "trusted": true,
        "colab": {
          "base_uri": "https://localhost:8080/"
        }
      },
      "execution_count": 2,
      "outputs": [
        {
          "output_type": "stream",
          "name": "stdout",
          "text": [
            "Mounted at /content/gdrive/\n"
          ]
        }
      ]
    },
    {
      "cell_type": "markdown",
      "source": [
        "Install packages"
      ],
      "metadata": {
        "id": "cgHQxuQMAJ5o"
      }
    },
    {
      "cell_type": "code",
      "source": [
        "!git clone \"https://github.com/jyanivaddi/ERA_V1.git\"\n",
        "!git -C ERA_V1 pull\n",
        "#!cd ../\n",
        "!git clone \"https://github.com/jyanivaddi/dl_hub.git\"\n",
        "!git -C dl_hub pull\n",
        "!git pull\n",
        "#!cd ../\n",
        "\n",
        "!pip install --quiet \"torchinfo\" \"seaborn\" \"pytorch-lightning\" \"torchmetrics\" \"lightning-bolts\"\n",
        "!pip install --quiet \"prettytable\"\n",
        "!pip install --quiet \"torchsummary\"\n",
        "!pip install --quiet \"torch_lr_finder\"\n",
        "!pip install --quiet \"grad-cam\"\n",
        "!pip install --quiet \"gradio\""
      ],
      "metadata": {
        "id": "VAOiUa_mAJVQ",
        "outputId": "6f3f4eba-096c-4334-d6a7-65c9103309bb",
        "execution": {
          "iopub.status.busy": "2023-08-15T11:24:45.240841Z",
          "iopub.execute_input": "2023-08-15T11:24:45.241258Z",
          "iopub.status.idle": "2023-08-15T11:25:50.896569Z",
          "shell.execute_reply.started": "2023-08-15T11:24:45.241226Z",
          "shell.execute_reply": "2023-08-15T11:25:50.895113Z"
        },
        "trusted": true,
        "ExecuteTime": {
          "end_time": "2023-08-18T05:38:18.316958504Z",
          "start_time": "2023-08-18T05:38:00.785276222Z"
        },
        "colab": {
          "base_uri": "https://localhost:8080/"
        }
      },
      "execution_count": 3,
      "outputs": [
        {
          "output_type": "stream",
          "name": "stdout",
          "text": [
            "Cloning into 'ERA_V1'...\n",
            "remote: Enumerating objects: 1205, done.\u001b[K\n",
            "remote: Counting objects: 100% (384/384), done.\u001b[K\n",
            "remote: Compressing objects: 100% (225/225), done.\u001b[K\n",
            "remote: Total 1205 (delta 159), reused 317 (delta 125), pack-reused 821\u001b[K\n",
            "Receiving objects: 100% (1205/1205), 185.68 MiB | 13.25 MiB/s, done.\n",
            "Resolving deltas: 100% (604/604), done.\n",
            "Already up to date.\n",
            "Cloning into 'dl_hub'...\n",
            "remote: Enumerating objects: 402, done.\u001b[K\n",
            "remote: Counting objects: 100% (154/154), done.\u001b[K\n",
            "remote: Compressing objects: 100% (150/150), done.\u001b[K\n",
            "remote: Total 402 (delta 102), reused 7 (delta 2), pack-reused 248\u001b[K\n",
            "Receiving objects: 100% (402/402), 106.60 KiB | 9.69 MiB/s, done.\n",
            "Resolving deltas: 100% (246/246), done.\n",
            "Already up to date.\n",
            "fatal: not a git repository (or any of the parent directories): .git\n",
            "\u001b[2K     \u001b[90m━━━━━━━━━━━━━━━━━━━━━━━━━━━━━━━━━━━━━━━\u001b[0m \u001b[32m725.0/725.0 kB\u001b[0m \u001b[31m9.8 MB/s\u001b[0m eta \u001b[36m0:00:00\u001b[0m\n",
            "\u001b[2K     \u001b[90m━━━━━━━━━━━━━━━━━━━━━━━━━━━━━━━━━━━━━━\u001b[0m \u001b[32m731.6/731.6 kB\u001b[0m \u001b[31m46.7 MB/s\u001b[0m eta \u001b[36m0:00:00\u001b[0m\n",
            "\u001b[2K     \u001b[90m━━━━━━━━━━━━━━━━━━━━━━━━━━━━━━━━━━━━━━\u001b[0m \u001b[32m300.8/300.8 kB\u001b[0m \u001b[31m31.5 MB/s\u001b[0m eta \u001b[36m0:00:00\u001b[0m\n",
            "\u001b[2K     \u001b[90m━━━━━━━━━━━━━━━━━━━━━━━━━━━━━━━━━━━━━━\u001b[0m \u001b[32m829.5/829.5 kB\u001b[0m \u001b[31m52.4 MB/s\u001b[0m eta \u001b[36m0:00:00\u001b[0m\n",
            "\u001b[2K     \u001b[90m━━━━━━━━━━━━━━━━━━━━━━━━━━━━━━━━━━━━━━━━\u001b[0m \u001b[32m7.8/7.8 MB\u001b[0m \u001b[31m54.5 MB/s\u001b[0m eta \u001b[36m0:00:00\u001b[0m\n",
            "\u001b[?25h  Installing build dependencies ... \u001b[?25l\u001b[?25hdone\n",
            "  Getting requirements to build wheel ... \u001b[?25l\u001b[?25hdone\n",
            "  Preparing metadata (pyproject.toml) ... \u001b[?25l\u001b[?25hdone\n",
            "  Building wheel for grad-cam (pyproject.toml) ... \u001b[?25l\u001b[?25hdone\n",
            "\u001b[2K     \u001b[90m━━━━━━━━━━━━━━━━━━━━━━━━━━━━━━━━━━━━━━━━\u001b[0m \u001b[32m20.0/20.0 MB\u001b[0m \u001b[31m80.8 MB/s\u001b[0m eta \u001b[36m0:00:00\u001b[0m\n",
            "\u001b[2K     \u001b[90m━━━━━━━━━━━━━━━━━━━━━━━━━━━━━━━━━━━━━━━━\u001b[0m \u001b[32m65.8/65.8 kB\u001b[0m \u001b[31m8.9 MB/s\u001b[0m eta \u001b[36m0:00:00\u001b[0m\n",
            "\u001b[?25h  Preparing metadata (setup.py) ... \u001b[?25l\u001b[?25hdone\n",
            "\u001b[2K     \u001b[90m━━━━━━━━━━━━━━━━━━━━━━━━━━━━━━━━━━━━━━\u001b[0m \u001b[32m297.4/297.4 kB\u001b[0m \u001b[31m32.2 MB/s\u001b[0m eta \u001b[36m0:00:00\u001b[0m\n",
            "\u001b[2K     \u001b[90m━━━━━━━━━━━━━━━━━━━━━━━━━━━━━━━━━━━━━━━━\u001b[0m \u001b[32m75.4/75.4 kB\u001b[0m \u001b[31m8.0 MB/s\u001b[0m eta \u001b[36m0:00:00\u001b[0m\n",
            "\u001b[2K     \u001b[90m━━━━━━━━━━━━━━━━━━━━━━━━━━━━━━━━━━━━━━\u001b[0m \u001b[32m268.8/268.8 kB\u001b[0m \u001b[31m28.5 MB/s\u001b[0m eta \u001b[36m0:00:00\u001b[0m\n",
            "\u001b[2K     \u001b[90m━━━━━━━━━━━━━━━━━━━━━━━━━━━━━━━━━━━━━━━━\u001b[0m \u001b[32m50.5/50.5 kB\u001b[0m \u001b[31m7.3 MB/s\u001b[0m eta \u001b[36m0:00:00\u001b[0m\n",
            "\u001b[2K     \u001b[90m━━━━━━━━━━━━━━━━━━━━━━━━━━━━━━━━━━━━━━\u001b[0m \u001b[32m139.9/139.9 kB\u001b[0m \u001b[31m19.3 MB/s\u001b[0m eta \u001b[36m0:00:00\u001b[0m\n",
            "\u001b[2K     \u001b[90m━━━━━━━━━━━━━━━━━━━━━━━━━━━━━━━━━━━━━━━━\u001b[0m \u001b[32m45.7/45.7 kB\u001b[0m \u001b[31m6.4 MB/s\u001b[0m eta \u001b[36m0:00:00\u001b[0m\n",
            "\u001b[2K     \u001b[90m━━━━━━━━━━━━━━━━━━━━━━━━━━━━━━━━━━━━━━━━\u001b[0m \u001b[32m59.5/59.5 kB\u001b[0m \u001b[31m7.8 MB/s\u001b[0m eta \u001b[36m0:00:00\u001b[0m\n",
            "\u001b[2K     \u001b[90m━━━━━━━━━━━━━━━━━━━━━━━━━━━━━━━━━━━━━━\u001b[0m \u001b[32m129.9/129.9 kB\u001b[0m \u001b[31m17.3 MB/s\u001b[0m eta \u001b[36m0:00:00\u001b[0m\n",
            "\u001b[2K     \u001b[90m━━━━━━━━━━━━━━━━━━━━━━━━━━━━━━━━━━━━━━━━\u001b[0m \u001b[32m50.4/50.4 kB\u001b[0m \u001b[31m6.8 MB/s\u001b[0m eta \u001b[36m0:00:00\u001b[0m\n",
            "\u001b[2K     \u001b[90m━━━━━━━━━━━━━━━━━━━━━━━━━━━━━━━━━━━━━━━━\u001b[0m \u001b[32m46.5/46.5 kB\u001b[0m \u001b[31m6.2 MB/s\u001b[0m eta \u001b[36m0:00:00\u001b[0m\n",
            "\u001b[2K     \u001b[90m━━━━━━━━━━━━━━━━━━━━━━━━━━━━━━━━━━━━━━━━\u001b[0m \u001b[32m43.7/43.7 kB\u001b[0m \u001b[31m5.7 MB/s\u001b[0m eta \u001b[36m0:00:00\u001b[0m\n",
            "\u001b[2K     \u001b[90m━━━━━━━━━━━━━━━━━━━━━━━━━━━━━━━━━━━━━━━━\u001b[0m \u001b[32m41.0/41.0 kB\u001b[0m \u001b[31m5.5 MB/s\u001b[0m eta \u001b[36m0:00:00\u001b[0m\n",
            "\u001b[2K     \u001b[90m━━━━━━━━━━━━━━━━━━━━━━━━━━━━━━━━━━━━━━━━\u001b[0m \u001b[32m41.0/41.0 kB\u001b[0m \u001b[31m4.3 MB/s\u001b[0m eta \u001b[36m0:00:00\u001b[0m\n",
            "\u001b[2K     \u001b[90m━━━━━━━━━━━━━━━━━━━━━━━━━━━━━━━━━━━━━━━━\u001b[0m \u001b[32m87.5/87.5 kB\u001b[0m \u001b[31m11.6 MB/s\u001b[0m eta \u001b[36m0:00:00\u001b[0m\n",
            "\u001b[2K     \u001b[90m━━━━━━━━━━━━━━━━━━━━━━━━━━━━━━━━━━━━━━━━\u001b[0m \u001b[32m84.5/84.5 kB\u001b[0m \u001b[31m10.8 MB/s\u001b[0m eta \u001b[36m0:00:00\u001b[0m\n",
            "\u001b[2K     \u001b[90m━━━━━━━━━━━━━━━━━━━━━━━━━━━━━━━━━━━━━━━━\u001b[0m \u001b[32m58.3/58.3 kB\u001b[0m \u001b[31m7.9 MB/s\u001b[0m eta \u001b[36m0:00:00\u001b[0m\n",
            "\u001b[2K     \u001b[90m━━━━━━━━━━━━━━━━━━━━━━━━━━━━━━━━━━━━━━━━\u001b[0m \u001b[32m67.0/67.0 kB\u001b[0m \u001b[31m8.8 MB/s\u001b[0m eta \u001b[36m0:00:00\u001b[0m\n",
            "\u001b[2K     \u001b[90m━━━━━━━━━━━━━━━━━━━━━━━━━━━━━━━━━━━━━━━━\u001b[0m \u001b[32m74.5/74.5 kB\u001b[0m \u001b[31m9.5 MB/s\u001b[0m eta \u001b[36m0:00:00\u001b[0m\n",
            "\u001b[?25h  Building wheel for ffmpy (setup.py) ... \u001b[?25l\u001b[?25hdone\n"
          ]
        }
      ]
    },
    {
      "cell_type": "code",
      "source": [
        "import sys\n",
        "sys.path.append(\"ERA_V1/session_13\")\n",
        "sys.path.append(\"dl_hub\")"
      ],
      "metadata": {
        "id": "ivBzl8YFPvJ0",
        "execution": {
          "iopub.status.busy": "2023-08-15T11:26:21.698652Z",
          "iopub.execute_input": "2023-08-15T11:26:21.699043Z",
          "iopub.status.idle": "2023-08-15T11:26:21.704208Z",
          "shell.execute_reply.started": "2023-08-15T11:26:21.699011Z",
          "shell.execute_reply": "2023-08-15T11:26:21.703030Z"
        },
        "trusted": true,
        "ExecuteTime": {
          "end_time": "2023-08-18T05:39:04.424352030Z",
          "start_time": "2023-08-18T05:39:04.400572030Z"
        }
      },
      "execution_count": 4,
      "outputs": []
    },
    {
      "cell_type": "code",
      "source": [
        "!git -C dl_hub pull\n"
      ],
      "metadata": {
        "id": "n41Pe-b1J3mC",
        "outputId": "f22c0ed6-ca3f-4f0d-f9d8-8ddfdd6df6d8",
        "execution": {
          "iopub.status.busy": "2023-08-15T11:31:55.435500Z",
          "iopub.execute_input": "2023-08-15T11:31:55.436556Z",
          "iopub.status.idle": "2023-08-15T11:31:56.839658Z",
          "shell.execute_reply.started": "2023-08-15T11:31:55.436518Z",
          "shell.execute_reply": "2023-08-15T11:31:56.838219Z"
        },
        "trusted": true,
        "ExecuteTime": {
          "end_time": "2023-08-18T05:39:11.181116152Z",
          "start_time": "2023-08-18T05:39:10.441194014Z"
        },
        "colab": {
          "base_uri": "https://localhost:8080/"
        }
      },
      "execution_count": 5,
      "outputs": [
        {
          "output_type": "stream",
          "name": "stdout",
          "text": [
            "Already up to date.\n"
          ]
        }
      ]
    },
    {
      "cell_type": "code",
      "source": [
        "import dl_hub.YOLO_V3.config as config\n",
        "import torch\n",
        "import torch.optim as optim\n",
        "import os\n",
        "from dl_hub.YOLO_V3.model import YOLOv3\n",
        "from tqdm import tqdm\n",
        "from dl_hub.YOLO_V3.yolo_v3_utils.utils import (\n",
        "    mean_average_precision,\n",
        "    cells_to_bboxes,\n",
        "    get_evaluation_bboxes,\n",
        "    save_checkpoint,\n",
        "    load_checkpoint,\n",
        "    check_class_accuracy,\n",
        "    get_loaders,\n",
        "    plot_couple_examples\n",
        ")\n",
        "from dl_hub.YOLO_V3.yolo_v3_utils.loss import YoloLoss\n",
        "from dl_hub.YOLO_V3.PL_model import LitYOLOv3\n",
        "from dl_hub.YOLO_V3.yolo_v3_utils.PL_data_module import YOLODataModule\n",
        "from dl_hub.PL_main import train_and_eval_pl_model\n",
        "import warnings\n",
        "warnings.filterwarnings(\"ignore\")"
      ],
      "metadata": {
        "id": "x8WpKATx75Hu",
        "execution": {
          "iopub.status.busy": "2023-08-15T11:32:10.058548Z",
          "iopub.execute_input": "2023-08-15T11:32:10.059219Z",
          "iopub.status.idle": "2023-08-15T11:32:10.065799Z",
          "shell.execute_reply.started": "2023-08-15T11:32:10.059186Z",
          "shell.execute_reply": "2023-08-15T11:32:10.064511Z"
        },
        "trusted": true,
        "ExecuteTime": {
          "end_time": "2023-08-18T05:40:41.685250737Z",
          "start_time": "2023-08-18T05:40:41.680624718Z"
        },
        "colab": {
          "base_uri": "https://localhost:8080/"
        },
        "outputId": "1f41b068-d94a-4637-8582-98412cbee863"
      },
      "execution_count": 6,
      "outputs": [
        {
          "output_type": "stream",
          "name": "stderr",
          "text": [
            "/usr/local/lib/python3.10/dist-packages/pl_bolts/models/self_supervised/amdim/amdim_module.py:34: UnderReviewWarning: The feature generate_power_seq is currently marked under review. The compatibility with other Lightning projects is not guaranteed and API may change at any time. The API and functionality may change without warning in future releases. More details: https://lightning-bolts.readthedocs.io/en/latest/stability.html\n",
            "  \"lr_options\": generate_power_seq(LEARNING_RATE_CIFAR, 11),\n",
            "/usr/local/lib/python3.10/dist-packages/pl_bolts/models/self_supervised/amdim/amdim_module.py:92: UnderReviewWarning: The feature FeatureMapContrastiveTask is currently marked under review. The compatibility with other Lightning projects is not guaranteed and API may change at any time. The API and functionality may change without warning in future releases. More details: https://lightning-bolts.readthedocs.io/en/latest/stability.html\n",
            "  contrastive_task: Union[FeatureMapContrastiveTask] = FeatureMapContrastiveTask(\"01, 02, 11\"),\n",
            "/usr/local/lib/python3.10/dist-packages/pl_bolts/losses/self_supervised_learning.py:228: UnderReviewWarning: The feature AmdimNCELoss is currently marked under review. The compatibility with other Lightning projects is not guaranteed and API may change at any time. The API and functionality may change without warning in future releases. More details: https://lightning-bolts.readthedocs.io/en/latest/stability.html\n",
            "  self.nce_loss = AmdimNCELoss(tclip)\n"
          ]
        }
      ]
    },
    {
      "cell_type": "code",
      "execution_count": 7,
      "outputs": [
        {
          "output_type": "stream",
          "name": "stdout",
          "text": [
            "/content/gdrive/MyDrive/Datasets/PASCAL_VOC_SMALL\n"
          ]
        }
      ],
      "source": [
        "print(config.DATASET)\n"
      ],
      "metadata": {
        "ExecuteTime": {
          "end_time": "2023-08-18T05:39:21.910364319Z",
          "start_time": "2023-08-18T05:39:21.885774415Z"
        },
        "colab": {
          "base_uri": "https://localhost:8080/"
        },
        "id": "oLXyJUSPjao2",
        "outputId": "d2cb437a-7b38-483b-e675-4cbc395423a0"
      }
    },
    {
      "cell_type": "markdown",
      "source": [
        "**Define Data Module**"
      ],
      "metadata": {
        "id": "Jo9tGpfAt81G",
        "ExecuteTime": {
          "end_time": "2023-08-17T12:24:26.271908584Z",
          "start_time": "2023-08-17T12:24:26.144402311Z"
        }
      }
    },
    {
      "cell_type": "code",
      "source": [
        "# Define data module\n",
        "#csv_files = [os.path.join(config.DATASET, \"100examples.csv\"),os.path.join(config.DATASET,\"8examples.csv\")]\n",
        "csv_files = [os.path.join(config.DATASET, \"train.csv\"),os.path.join(config.DATASET,\"test.csv\")]\n",
        "train_transforms=config.train_transforms\n",
        "test_transforms=config.test_transforms\n",
        "val_transforms = test_transforms\n",
        "IMAGE_SIZE = config.IMAGE_SIZE\n",
        "S=[IMAGE_SIZE // 32, IMAGE_SIZE // 16, IMAGE_SIZE // 8]\n",
        "img_dir=config.IMG_DIR\n",
        "label_dir=config.LABEL_DIR\n",
        "anchors=config.ANCHORS\n",
        "batch_size = 8\n",
        "yolo_dm = YOLODataModule(\n",
        "    csv_files,\n",
        "    img_dir,\n",
        "    label_dir,\n",
        "    anchors,\n",
        "    batch_size,\n",
        "    image_size=IMAGE_SIZE,\n",
        "    S=S,\n",
        "    C=20,\n",
        "    train_transforms = train_transforms,\n",
        "    val_transforms = val_transforms,\n",
        "    test_transforms = test_transforms,\n",
        "    val_split=0.1,\n",
        "    num_workers = config.NUM_WORKERS,\n",
        "    use_mosaic_on_train=True,\n",
        "    mosaic_probability=0.75,\n",
        "    pin_memory = False)\n",
        "yolo_dm.prepare_data()\n",
        "yolo_dm.setup()"
      ],
      "metadata": {
        "id": "RN7BkD6YoObb",
        "execution": {
          "iopub.status.busy": "2023-08-15T12:19:26.696238Z",
          "iopub.execute_input": "2023-08-15T12:19:26.696606Z",
          "iopub.status.idle": "2023-08-15T12:19:26.723372Z",
          "shell.execute_reply.started": "2023-08-15T12:19:26.696575Z",
          "shell.execute_reply": "2023-08-15T12:19:26.722409Z"
        },
        "trusted": true,
        "ExecuteTime": {
          "end_time": "2023-08-18T07:06:46.787398031Z",
          "start_time": "2023-08-18T07:06:46.709512445Z"
        }
      },
      "execution_count": 8,
      "outputs": []
    },
    {
      "cell_type": "markdown",
      "source": [
        "**Identify best LR**"
      ],
      "metadata": {
        "ExecuteTime": {
          "start_time": "2023-08-15T17:52:54.812133780Z"
        },
        "id": "bhcWs30Kjao7"
      }
    },
    {
      "cell_type": "code",
      "source": [
        "from torch_lr_finder import LRFinder\n",
        "\n",
        "# Define model parameters\n",
        "scaled_anchors = (\n",
        "    torch.tensor(config.ANCHORS)\n",
        "    * torch.tensor(config.S).unsqueeze(1).unsqueeze(1).repeat(1, 3, 2)\n",
        ").to(config.DEVICE)\n",
        "loss_fn = YoloLoss()\n",
        "conf_threshold = config.CONF_THRESHOLD\n",
        "EPOCHS = config.NUM_EPOCHS * 2 // 5\n",
        "\n",
        "# Define Model\n",
        "dummy_yolo_model = LitYOLOv3(loss_fn, scaled_anchors,conf_threshold, optimizer=None, scheduler_dict=None, num_classes=20, epochs=EPOCHS)\n",
        "optimizer = optim.Adam(dummy_yolo_model.parameters(), lr=config.LEARNING_RATE, weight_decay=config.WEIGHT_DECAY)\n",
        "train_data_loader = yolo_dm.train_dataloader()\n",
        "\n",
        "def criterion(out, y):\n",
        "    y0, y1, y2 = (\n",
        "            y[0].to(config.DEVICE),\n",
        "            y[1].to(config.DEVICE),\n",
        "            y[2].to(config.DEVICE),\n",
        "        )\n",
        "    loss = (\n",
        "                loss_fn(out[0], y0, scaled_anchors[0])\n",
        "                + loss_fn(out[1], y1, scaled_anchors[1])\n",
        "                + loss_fn(out[2], y2, scaled_anchors[2])\n",
        "            )\n",
        "    return loss\n",
        "lr_finder = LRFinder(dummy_yolo_model, optimizer, criterion, device=\"cuda\")\n",
        "lr_finder.range_test(train_data_loader, end_lr=10, num_iter=200, step_mode=\"exp\")\n",
        "lr_finder.plot() # to inspect the loss-learning rate graph\n",
        "lr_finder.reset() # to reset the model and optimizer to their initial state"
      ],
      "metadata": {
        "id": "VB2YNtDauAeW",
        "execution": {
          "iopub.status.busy": "2023-08-15T12:56:00.382812Z",
          "iopub.execute_input": "2023-08-15T12:56:00.383283Z",
          "iopub.status.idle": "2023-08-15T12:56:01.345793Z",
          "shell.execute_reply.started": "2023-08-15T12:56:00.383242Z",
          "shell.execute_reply": "2023-08-15T12:56:01.344665Z"
        },
        "trusted": true,
        "ExecuteTime": {
          "end_time": "2023-08-18T05:51:37.424911958Z",
          "start_time": "2023-08-18T05:50:58.704574550Z"
        },
        "colab": {
          "referenced_widgets": [
            "2e3c4481f1304853934bd104c600a3f2"
          ]
        },
        "outputId": "f117c8cd-4c83-48e0-c13a-ff3199790536"
      },
      "execution_count": null,
      "outputs": [
        {
          "data": {
            "text/plain": "  0%|          | 0/200 [00:00<?, ?it/s]",
            "application/vnd.jupyter.widget-view+json": {
              "version_major": 2,
              "version_minor": 0,
              "model_id": "2e3c4481f1304853934bd104c600a3f2"
            }
          },
          "metadata": {},
          "output_type": "display_data"
        },
        {
          "name": "stdout",
          "output_type": "stream",
          "text": [
            "Stopping early, the loss has diverged\n",
            "Learning rate search finished. See the graph with {finder_name}.plot()\n",
            "LR suggestion: steepest gradient\n",
            "Suggested LR: 5.87E-02\n"
          ]
        },
        {
          "data": {
            "text/plain": "<Figure size 640x480 with 1 Axes>",
            "image/png": "[encoded data removed]"
          },
          "metadata": {},
          "output_type": "display_data"
        }
      ]
    },
    {
      "cell_type": "code",
      "execution_count": null,
      "outputs": [],
      "source": [
        "max_lr = 8E-4"
      ],
      "metadata": {
        "id": "VI0hhF-Ljao-"
      }
    },
    {
      "cell_type": "markdown",
      "source": [
        "**Load trained model**"
      ],
      "metadata": {
        "collapsed": false,
        "id": "2GL7ev1Gjao_"
      }
    },
    {
      "cell_type": "code",
      "execution_count": 9,
      "outputs": [],
      "source": [
        "model_path = \"/content/gdrive/MyDrive/trained_models/YOLOv3/75_mosaic_checkpoint_epoch_39_step_74480.ckpt\""
      ],
      "metadata": {
        "id": "Qc03sJ0vjapA"
      }
    },
    {
      "cell_type": "code",
      "source": [
        "from torch.optim.lr_scheduler import OneCycleLR\n",
        "# Define model parameters\n",
        "scaled_anchors = (\n",
        "    torch.tensor(config.ANCHORS)\n",
        "    * torch.tensor(config.S).unsqueeze(1).unsqueeze(1).repeat(1, 3, 2)\n",
        ").to(config.DEVICE)\n",
        "train_data_loader = yolo_dm.train_dataloader()\n",
        "test_data_loader = yolo_dm.test_dataloader()\n",
        "# Define Model\n",
        "yolo_model_trained = LitYOLOv3.load_from_checkpoint(model_path)\n"
      ],
      "metadata": {
        "execution": {
          "iopub.status.busy": "2023-08-15T12:10:11.412755Z",
          "iopub.execute_input": "2023-08-15T12:10:11.413203Z",
          "iopub.status.idle": "2023-08-15T12:10:11.420918Z",
          "shell.execute_reply.started": "2023-08-15T12:10:11.413166Z",
          "shell.execute_reply": "2023-08-15T12:10:11.419779Z"
        },
        "trusted": true,
        "id": "yMdNNDvVjapA"
      },
      "execution_count": 10,
      "outputs": []
    },
    {
      "cell_type": "markdown",
      "source": [
        "**Define the targets for GradCAM**"
      ],
      "metadata": {
        "id": "rCGt3xJboS5Z"
      }
    },
    {
      "cell_type": "code",
      "source": [
        "import torchvision\n",
        "from dl_hub.YOLO_V3.yolo_v3_utils.utils import non_max_suppression, plot_image\n",
        "from pytorch_grad_cam import AblationCAM, EigenCAM\n",
        "from pytorch_grad_cam.utils.image import show_cam_on_image, scale_cam_image\n",
        "from PIL import Image\n",
        "import cv2\n",
        "import numpy as np\n",
        "\n",
        "# This will help us create a different color for each class\n",
        "COLORS = np.random.uniform(0, 255, size=(len(config.PASCAL_CLASSES), 3))\n",
        "\n",
        "class YOLOv3Target:\n",
        "    pass\n",
        "\n",
        "def get_box_coords(box, im):\n",
        "    height, width, _ = im.shape\n",
        "    upper_left_x = int((box[0] - box[2] / 2)*width)\n",
        "    upper_left_y = int((box[1] - box[3] / 2)*height)\n",
        "    lower_right_x = upper_left_x + int(box[2]*width)\n",
        "    lower_right_y = upper_left_y + int(box[3]*height)\n",
        "    return [upper_left_x, upper_left_y, lower_right_x, lower_right_y]\n",
        "\n",
        "\n",
        "def draw_boxes(boxes, labels, classes, image):\n",
        "    for i, box in enumerate(boxes):\n",
        "        color = COLORS[labels[i]]\n",
        "        cv2.rectangle(\n",
        "            image,\n",
        "            (int(box[0]), int(box[1])),\n",
        "            (int(box[2]), int(box[3])),\n",
        "            color, 2\n",
        "        )\n",
        "        cv2.putText(image, classes[i], (int(box[0]), int(box[1] - 5)),\n",
        "                    cv2.FONT_HERSHEY_SIMPLEX, 0.8, color, 2,\n",
        "                    lineType=cv2.LINE_AA)\n",
        "    return image\n",
        "\n",
        "\n",
        "def renormalize_cam_in_bounding_boxes(boxes, image_float_np, grayscale_cam, labels, classes):\n",
        "    \"\"\"Normalize the CAM to be in the range [0, 1]\n",
        "    inside every bounding boxes, and zero outside of the bounding boxes. \"\"\"\n",
        "    renormalized_cam = np.zeros(grayscale_cam.shape, dtype=np.float32)\n",
        "    images = []\n",
        "    box_coords = []\n",
        "    for box in boxes:\n",
        "        [x1,y1,x2,y2] = get_box_coords(box[2:],image_float_np)\n",
        "        img = renormalized_cam * 0\n",
        "        img[y1:y2, x1:x2] = scale_cam_image(grayscale_cam[y1:y2, x1:x2].copy())\n",
        "        images.append(img)\n",
        "        box_coords.append([x1,y1,x2,y2])\n",
        "    renormalized_cam = np.max(np.float32(images), axis = 0)\n",
        "    renormalized_cam = scale_cam_image(renormalized_cam)\n",
        "    eigencam_image_renormalized = show_cam_on_image(image_float_np, renormalized_cam, use_rgb=True)\n",
        "    img = Image.fromarray(draw_boxes(box_coords,labels,classes,eigencam_image_renormalized))\n",
        "    return img\n",
        "\n",
        "\n",
        "def export_image_with_bounding_box(boxes, image_float_np, labels, classes):\n",
        "    box_coords = []\n",
        "    for box in boxes:\n",
        "        [x1,y1,x2,y2] = get_box_coords(box[2:],image_float_np)\n",
        "        box_coords.append([x1,y1,x2,y2])\n",
        "    img_cv = cv2.cvtColor(np.uint8(image_float_np*255), cv2.COLOR_BGR2RGB)\n",
        "    img = Image.fromarray(draw_boxes(box_coords,labels,classes,img_cv))\n",
        "    return img\n"
      ],
      "metadata": {
        "id": "u64ah_KqnpoL"
      },
      "execution_count": 282,
      "outputs": []
    },
    {
      "cell_type": "code",
      "source": [
        "import numpy as np\n",
        "import matplotlib.pyplot as plt\n",
        "\n",
        "\n",
        "def get_labels(boxes):\n",
        "    \"\"\"Plots predicted bounding boxes on the image\"\"\"\n",
        "    cmap = plt.get_cmap(\"tab20b\")\n",
        "    class_labels = config.COCO_LABELS if config.DATASET=='COCO' else config.PASCAL_CLASSES\n",
        "    all_class_names = []\n",
        "    all_class_labels = []\n",
        "    for box in boxes:\n",
        "        assert len(box) == 6, \"box should contain class pred, confidence, x, y, width, height\"\n",
        "        class_pred = box[0]\n",
        "        class_name = class_labels[int(class_pred)]\n",
        "        all_class_names.append(class_name)\n",
        "        class_label = int(class_pred)\n",
        "        all_class_labels.append(class_label)\n",
        "    return all_class_names, all_class_labels\n",
        "\n",
        "\n",
        "def predict(model, loader, anchors, device, thresh=0.6, iou_thresh=0.5):\n",
        "    model.eval()\n",
        "    x, y = next(iter(loader))\n",
        "    num_images = x.shape[0]\n",
        "    x = x.to(device)\n",
        "    global_height, global_width = x.shape[-2:]\n",
        "    boxes_list = []\n",
        "    classes_list = []\n",
        "    labels_list = []\n",
        "    with torch.no_grad():\n",
        "        out = model(x)\n",
        "        bboxes = [[] for _ in range(x.shape[0])]\n",
        "        for i in range(3):\n",
        "            batch_size, A, S, _, _ = out[i].shape\n",
        "            anchor = anchors[i]\n",
        "            boxes_scale_i = cells_to_bboxes(\n",
        "                out[i], anchor, S=S, is_preds=True\n",
        "            )\n",
        "            for idx, (box) in enumerate(boxes_scale_i):\n",
        "                bboxes[idx] += box\n",
        "    for i in range(num_images):\n",
        "        nms_boxes = non_max_suppression(\n",
        "            bboxes[i], iou_threshold=iou_thresh, threshold=thresh, box_format=\"midpoint\",\n",
        "        )\n",
        "        classes, labels = get_labels(nms_boxes)\n",
        "        boxes_list.append(nms_boxes)\n",
        "        classes_list.append(classes)\n",
        "        labels_list.append(labels)\n",
        "    x_np_float_array = np.asarray(x.cpu())\n",
        "    return x, x_np_float_array, boxes_list, classes_list, labels_list\n",
        ""
      ],
      "metadata": {
        "id": "jN8_4OvgXnjW"
      },
      "execution_count": 285,
      "outputs": []
    },
    {
      "cell_type": "code",
      "source": [
        "# Target layer for lowest scale prediction: yolo_model_trained.model.layers[-1].pred[0]\n",
        "# Target layer for 2nd lowest scale prediction: yolo_model_trained.model.layers[22].pred[0]\n",
        "# Target layer for highest scale prediction: yolo_model_trained.model.layers[15].pred[0]\n",
        "target_layers = [yolo_model_trained.model.layers[15].pred[0]]\n",
        "targets = [YOLOv3Target()]\n",
        "cam = EigenCAM(yolo_model_trained,\n",
        "               target_layers,\n",
        "               use_cuda=torch.cuda.is_available(),\n",
        "               reshape_transform=None)\n",
        "input_tensor, image_float_np, boxes, classes, labels = predict(yolo_model_trained,\n",
        "                                                               test_data_loader,\n",
        "                                                               scaled_anchors,\n",
        "                                                               device = config.DEVICE)\n",
        "grayscale_cam = cam(input_tensor, targets=targets)\n"
      ],
      "metadata": {
        "id": "1eghbKAJTJef"
      },
      "execution_count": 286,
      "outputs": []
    },
    {
      "cell_type": "code",
      "source": [
        "for cnt in range(input_tensor.shape[0]):\n",
        "    img = renormalize_cam_in_bounding_boxes(boxes[cnt], image_float_np[cnt].squeeze().transpose((1,2,0)), grayscale_cam[cnt].squeeze().T, labels[cnt], classes[cnt])\n",
        "    #img = export_image_with_bounding_box(boxes[cnt], image_float_np[cnt].squeeze().transpose((1,2,0)), labels[cnt], classes[cnt])\n",
        "    img.save(f'test2_{cnt}.png')\n"
      ],
      "metadata": {
        "colab": {
          "base_uri": "https://localhost:8080/"
        },
        "id": "Xfn_IxnwbniF",
        "outputId": "26fb5045-66e6-4f83-a402-32d95451472c"
      },
      "execution_count": 287,
      "outputs": [
        {
          "output_type": "stream",
          "name": "stdout",
          "text": [
            "[[18.0, 0.7400769591331482, 0.5119374394416809, 0.4896511137485504, 0.16287033259868622, 0.20359116792678833]]\n"
          ]
        }
      ]
    },
    {
      "cell_type": "code",
      "source": [
        "import torchinfo\n",
        "\n",
        "def model_summary(model, input_size):\n",
        "    torchinfo.summary(model,\n",
        "                      input_size = input_size,\n",
        "                      batch_dim=0,\n",
        "                      col_names=(\"kernel_size\",\n",
        "                                 \"input_size\",\n",
        "                                 \"output_size\",\n",
        "                                 \"num_params\",\n",
        "                                 \"mult_adds\"),\n",
        "                       verbose=1,)\n",
        "\n",
        "model_summary(yolo_model_trained, (3, 416, 416))"
      ],
      "metadata": {
        "colab": {
          "base_uri": "https://localhost:8080/"
        },
        "id": "G4vRgqqewXRa",
        "outputId": "93e31dbc-0a60-4452-b8d6-539e3fabbf3b"
      },
      "execution_count": 23,
      "outputs": [
        {
          "output_type": "stream",
          "name": "stdout",
          "text": [
            "====================================================================================================================================================================================\n",
            "Layer (type:depth-idx)                                  Kernel Shape              Input Shape               Output Shape              Param #                   Mult-Adds\n",
            "====================================================================================================================================================================================\n",
            "LitYOLOv3                                               --                        [1, 3, 416, 416]          [1, 3, 13, 13, 25]        --                        --\n",
            "├─YOLOv3: 1-1                                           --                        --                        --                        --                        --\n",
            "│    └─ModuleList: 2-1                                  --                        --                        --                        --                        --\n",
            "│    │    └─CNNBlock: 3-1                               --                        [1, 3, 416, 416]          [1, 32, 416, 416]         928                       149,520,448\n",
            "│    │    └─CNNBlock: 3-2                               --                        [1, 32, 416, 416]         [1, 64, 208, 208]         18,560                    797,442,176\n",
            "│    │    └─ResidualBlock: 3-3                          --                        [1, 64, 208, 208]         [1, 64, 208, 208]         20,672                    886,046,912\n",
            "│    │    └─CNNBlock: 3-4                               --                        [1, 64, 208, 208]         [1, 128, 104, 104]        73,984                    797,442,304\n",
            "│    │    └─ResidualBlock: 3-5                          --                        [1, 128, 104, 104]        [1, 128, 104, 104]        164,608                   1,772,094,208\n",
            "│    │    └─CNNBlock: 3-6                               --                        [1, 128, 104, 104]        [1, 256, 52, 52]          295,424                   797,442,560\n",
            "│    │    └─ResidualBlock: 3-7                          --                        [1, 256, 52, 52]          [1, 256, 52, 52]          2,627,584                 7,088,379,904\n",
            "│    │    └─CNNBlock: 3-8                               --                        [1, 256, 52, 52]          [1, 512, 26, 26]          1,180,672                 797,443,072\n",
            "│    │    └─ResidualBlock: 3-9                          --                        [1, 512, 26, 26]          [1, 512, 26, 26]          10,498,048                7,088,386,048\n",
            "│    │    └─CNNBlock: 3-10                              --                        [1, 512, 26, 26]          [1, 1024, 13, 13]         4,720,640                 797,444,096\n",
            "│    │    └─ResidualBlock: 3-11                         --                        [1, 1024, 13, 13]         [1, 1024, 13, 13]         20,983,808                3,544,199,168\n",
            "│    │    └─CNNBlock: 3-12                              --                        [1, 1024, 13, 13]         [1, 512, 13, 13]          525,312                   88,605,696\n",
            "│    │    └─CNNBlock: 3-13                              --                        [1, 512, 13, 13]          [1, 1024, 13, 13]         4,720,640                 797,444,096\n",
            "│    │    └─ResidualBlock: 3-14                         --                        [1, 1024, 13, 13]         [1, 1024, 13, 13]         5,245,952                 886,049,792\n",
            "│    │    └─CNNBlock: 3-15                              --                        [1, 1024, 13, 13]         [1, 512, 13, 13]          525,312                   88,605,696\n",
            "│    │    └─ScalePrediction: 3-16                       --                        [1, 512, 13, 13]          [1, 3, 13, 13, 25]        4,797,665                 810,435,971\n",
            "│    │    └─CNNBlock: 3-17                              --                        [1, 512, 13, 13]          [1, 256, 13, 13]          131,584                   22,151,680\n",
            "│    │    └─Upsample: 3-18                              --                        [1, 256, 13, 13]          [1, 256, 26, 26]          --                        --\n",
            "│    │    └─CNNBlock: 3-19                              --                        [1, 768, 26, 26]          [1, 256, 26, 26]          197,120                   132,907,520\n",
            "│    │    └─CNNBlock: 3-20                              --                        [1, 256, 26, 26]          [1, 512, 26, 26]          1,180,672                 797,443,072\n",
            "│    │    └─ResidualBlock: 3-21                         --                        [1, 512, 26, 26]          [1, 512, 26, 26]          1,312,256                 886,048,256\n",
            "│    │    └─CNNBlock: 3-22                              --                        [1, 512, 26, 26]          [1, 256, 26, 26]          131,584                   88,605,184\n",
            "│    │    └─ScalePrediction: 3-23                       --                        [1, 256, 26, 26]          [1, 3, 26, 26, 25]        1,219,297                 823,452,172\n",
            "│    │    └─CNNBlock: 3-24                              --                        [1, 256, 26, 26]          [1, 128, 26, 26]          33,024                    22,151,424\n",
            "│    │    └─Upsample: 3-25                              --                        [1, 128, 26, 26]          [1, 128, 52, 52]          --                        --\n",
            "│    │    └─CNNBlock: 3-26                              --                        [1, 384, 52, 52]          [1, 128, 52, 52]          49,408                    132,907,264\n",
            "│    │    └─CNNBlock: 3-27                              --                        [1, 128, 52, 52]          [1, 256, 52, 52]          295,424                   797,442,560\n",
            "│    │    └─ResidualBlock: 3-28                         --                        [1, 256, 52, 52]          [1, 256, 52, 52]          328,448                   886,047,488\n",
            "│    │    └─CNNBlock: 3-29                              --                        [1, 256, 52, 52]          [1, 128, 52, 52]          33,024                    88,604,928\n",
            "│    │    └─ScalePrediction: 3-30                       --                        [1, 128, 52, 52]          [1, 3, 52, 52, 25]        314,849                   849,562,160\n",
            "====================================================================================================================================================================================\n",
            "Total params: 61,626,499\n",
            "Trainable params: 61,626,499\n",
            "Non-trainable params: 0\n",
            "Total mult-adds (G): 32.71\n",
            "====================================================================================================================================================================================\n",
            "Input size (MB): 2.08\n",
            "Forward/backward pass size (MB): 614.75\n",
            "Params size (MB): 246.50\n",
            "Estimated Total Size (MB): 863.33\n",
            "====================================================================================================================================================================================\n"
          ]
        }
      ]
    }
  ]
}