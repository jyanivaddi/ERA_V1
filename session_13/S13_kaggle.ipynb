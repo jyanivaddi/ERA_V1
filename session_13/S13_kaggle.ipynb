{
 "metadata": {
  "kernelspec": {
   "language": "python",
   "display_name": "Python 3",
   "name": "python3"
  },
  "language_info": {
   "name": "python",
   "version": "3.10.12",
   "mimetype": "text/x-python",
   "codemirror_mode": {
    "name": "ipython",
    "version": 3
   },
   "pygments_lexer": "ipython3",
   "nbconvert_exporter": "python",
   "file_extension": ".py"
  }
 },
 "nbformat_minor": 4,
 "nbformat": 4,
 "cells": [
  {
   "cell_type": "markdown",
   "source": [
    "<a href=\"https://colab.research.google.com/github/jyanivaddi/ERA_V1/blob/master/session_13/s13.ipynb\" target=\"_parent\"><img src=\"https://colab.research.google.com/assets/colab-badge.svg\" alt=\"Open In Colab\"/></a>"
   ],
   "metadata": {
    "id": "view-in-github"
   }
  },
  {
   "cell_type": "markdown",
   "source": [
    "First Connect Google Drive"
   ],
   "metadata": {
    "id": "OZ4DqRTb9Ym8"
   }
  },
  {
   "cell_type": "code",
   "source": [
    "#from google.colab import drive\n",
    "#drive.mount('/content/gdrive/', force_remount=True)"
   ],
   "metadata": {
    "id": "TDhBByBZ8qi9",
    "outputId": "74ecf808-1a81-4f0d-d197-3614327b21d8",
    "trusted": true
   },
   "execution_count": null,
   "outputs": []
  },
  {
   "cell_type": "markdown",
   "source": [
    "Install packages"
   ],
   "metadata": {
    "id": "cgHQxuQMAJ5o"
   }
  },
  {
   "cell_type": "code",
   "source": [
    "#!git clone \"https://github.com/jyanivaddi/ERA_V1.git\"\n",
    "#!git -C ERA_V1 pull\n",
    "#!cd ../\n",
    "!git clone \"https://github.com/jyanivaddi/dl_hub.git\"\n",
    "!git -C dl_hub pull\n",
    "!git pull\n",
    "#!cd ../\n",
    "\n",
    "!pip install --quiet \"torchinfo\" \"seaborn\" \"pytorch-lightning\" \"torchmetrics\" \"lightning-bolts\"\n",
    "!pip install --quiet \"prettytable\"\n",
    "!pip install --quiet \"torchsummary\"\n",
    "!pip install --quiet \"torch_lr_finder\"\n",
    "!pip install --quiet \"grad-cam\"\n",
    "!pip install --quiet \"gradio\""
   ],
   "metadata": {
    "id": "VAOiUa_mAJVQ",
    "outputId": "85e7cb94-0062-4173-f106-05d14f0d42b1",
    "execution": {
     "iopub.status.busy": "2023-08-15T11:24:45.240841Z",
     "iopub.execute_input": "2023-08-15T11:24:45.241258Z",
     "iopub.status.idle": "2023-08-15T11:25:50.896569Z",
     "shell.execute_reply.started": "2023-08-15T11:24:45.241226Z",
     "shell.execute_reply": "2023-08-15T11:25:50.895113Z"
    },
    "trusted": true,
    "ExecuteTime": {
     "end_time": "2023-08-18T05:38:18.316958504Z",
     "start_time": "2023-08-18T05:38:00.785276222Z"
    }
   },
   "execution_count": 6,
   "outputs": [
    {
     "name": "stdout",
     "output_type": "stream",
     "text": [
      "fatal: destination path 'dl_hub' already exists and is not an empty directory.\r\n",
      "Already up to date.\r\n",
      "Already up to date.\r\n",
      "\r\n",
      "\u001B[1m[\u001B[0m\u001B[34;49mnotice\u001B[0m\u001B[1;39;49m]\u001B[0m\u001B[39;49m A new release of pip available: \u001B[0m\u001B[31;49m22.3.1\u001B[0m\u001B[39;49m -> \u001B[0m\u001B[32;49m23.2.1\u001B[0m\r\n",
      "\u001B[1m[\u001B[0m\u001B[34;49mnotice\u001B[0m\u001B[1;39;49m]\u001B[0m\u001B[39;49m To update, run: \u001B[0m\u001B[32;49mpip install --upgrade pip\u001B[0m\r\n",
      "\r\n",
      "\u001B[1m[\u001B[0m\u001B[34;49mnotice\u001B[0m\u001B[1;39;49m]\u001B[0m\u001B[39;49m A new release of pip available: \u001B[0m\u001B[31;49m22.3.1\u001B[0m\u001B[39;49m -> \u001B[0m\u001B[32;49m23.2.1\u001B[0m\r\n",
      "\u001B[1m[\u001B[0m\u001B[34;49mnotice\u001B[0m\u001B[1;39;49m]\u001B[0m\u001B[39;49m To update, run: \u001B[0m\u001B[32;49mpip install --upgrade pip\u001B[0m\r\n",
      "\r\n",
      "\u001B[1m[\u001B[0m\u001B[34;49mnotice\u001B[0m\u001B[1;39;49m]\u001B[0m\u001B[39;49m A new release of pip available: \u001B[0m\u001B[31;49m22.3.1\u001B[0m\u001B[39;49m -> \u001B[0m\u001B[32;49m23.2.1\u001B[0m\r\n",
      "\u001B[1m[\u001B[0m\u001B[34;49mnotice\u001B[0m\u001B[1;39;49m]\u001B[0m\u001B[39;49m To update, run: \u001B[0m\u001B[32;49mpip install --upgrade pip\u001B[0m\r\n",
      "\r\n",
      "\u001B[1m[\u001B[0m\u001B[34;49mnotice\u001B[0m\u001B[1;39;49m]\u001B[0m\u001B[39;49m A new release of pip available: \u001B[0m\u001B[31;49m22.3.1\u001B[0m\u001B[39;49m -> \u001B[0m\u001B[32;49m23.2.1\u001B[0m\r\n",
      "\u001B[1m[\u001B[0m\u001B[34;49mnotice\u001B[0m\u001B[1;39;49m]\u001B[0m\u001B[39;49m To update, run: \u001B[0m\u001B[32;49mpip install --upgrade pip\u001B[0m\r\n",
      "\r\n",
      "\u001B[1m[\u001B[0m\u001B[34;49mnotice\u001B[0m\u001B[1;39;49m]\u001B[0m\u001B[39;49m A new release of pip available: \u001B[0m\u001B[31;49m22.3.1\u001B[0m\u001B[39;49m -> \u001B[0m\u001B[32;49m23.2.1\u001B[0m\r\n",
      "\u001B[1m[\u001B[0m\u001B[34;49mnotice\u001B[0m\u001B[1;39;49m]\u001B[0m\u001B[39;49m To update, run: \u001B[0m\u001B[32;49mpip install --upgrade pip\u001B[0m\r\n",
      "\r\n",
      "\u001B[1m[\u001B[0m\u001B[34;49mnotice\u001B[0m\u001B[1;39;49m]\u001B[0m\u001B[39;49m A new release of pip available: \u001B[0m\u001B[31;49m22.3.1\u001B[0m\u001B[39;49m -> \u001B[0m\u001B[32;49m23.2.1\u001B[0m\r\n",
      "\u001B[1m[\u001B[0m\u001B[34;49mnotice\u001B[0m\u001B[1;39;49m]\u001B[0m\u001B[39;49m To update, run: \u001B[0m\u001B[32;49mpip install --upgrade pip\u001B[0m\r\n"
     ]
    }
   ]
  },
  {
   "cell_type": "code",
   "source": [
    "import sys\n",
    "sys.path.append(\"ERA_V1/session_13\")\n",
    "sys.path.append(\"dl_hub\")"
   ],
   "metadata": {
    "id": "ivBzl8YFPvJ0",
    "execution": {
     "iopub.status.busy": "2023-08-15T11:26:21.698652Z",
     "iopub.execute_input": "2023-08-15T11:26:21.699043Z",
     "iopub.status.idle": "2023-08-15T11:26:21.704208Z",
     "shell.execute_reply.started": "2023-08-15T11:26:21.699011Z",
     "shell.execute_reply": "2023-08-15T11:26:21.703030Z"
    },
    "trusted": true,
    "ExecuteTime": {
     "end_time": "2023-08-18T05:39:04.424352030Z",
     "start_time": "2023-08-18T05:39:04.400572030Z"
    }
   },
   "execution_count": 7,
   "outputs": []
  },
  {
   "cell_type": "code",
   "source": [
    "!git -C dl_hub pull\n"
   ],
   "metadata": {
    "id": "n41Pe-b1J3mC",
    "outputId": "2d7d2842-8bfc-459a-beb0-11002dcb6484",
    "execution": {
     "iopub.status.busy": "2023-08-15T11:31:55.435500Z",
     "iopub.execute_input": "2023-08-15T11:31:55.436556Z",
     "iopub.status.idle": "2023-08-15T11:31:56.839658Z",
     "shell.execute_reply.started": "2023-08-15T11:31:55.436518Z",
     "shell.execute_reply": "2023-08-15T11:31:56.838219Z"
    },
    "trusted": true,
    "ExecuteTime": {
     "end_time": "2023-08-18T05:39:11.181116152Z",
     "start_time": "2023-08-18T05:39:10.441194014Z"
    }
   },
   "execution_count": 8,
   "outputs": [
    {
     "name": "stdout",
     "output_type": "stream",
     "text": [
      "Already up to date.\r\n"
     ]
    }
   ]
  },
  {
   "cell_type": "code",
   "source": [
    "import dl_hub.YOLO_V3.config as config\n",
    "import torch\n",
    "import torch.optim as optim\n",
    "import os\n",
    "from dl_hub.YOLO_V3.model import YOLOv3\n",
    "from tqdm import tqdm\n",
    "from dl_hub.YOLO_V3.yolo_v3_utils.utils import (\n",
    "    mean_average_precision,\n",
    "    cells_to_bboxes,\n",
    "    get_evaluation_bboxes,\n",
    "    save_checkpoint,\n",
    "    load_checkpoint,\n",
    "    check_class_accuracy,\n",
    "    get_loaders,\n",
    "    plot_couple_examples\n",
    ")\n",
    "from dl_hub.YOLO_V3.yolo_v3_utils.loss import YoloLoss\n",
    "from dl_hub.YOLO_V3.PL_model import LitYOLOv3\n",
    "from dl_hub.YOLO_V3.yolo_v3_utils.PL_data_module import YOLODataModule\n",
    "from dl_hub.PL_main import train_and_eval_pl_model\n",
    "import warnings\n",
    "warnings.filterwarnings(\"ignore\")"
   ],
   "metadata": {
    "id": "x8WpKATx75Hu",
    "execution": {
     "iopub.status.busy": "2023-08-15T11:32:10.058548Z",
     "iopub.execute_input": "2023-08-15T11:32:10.059219Z",
     "iopub.status.idle": "2023-08-15T11:32:10.065799Z",
     "shell.execute_reply.started": "2023-08-15T11:32:10.059186Z",
     "shell.execute_reply": "2023-08-15T11:32:10.064511Z"
    },
    "trusted": true,
    "ExecuteTime": {
     "end_time": "2023-08-18T05:40:41.685250737Z",
     "start_time": "2023-08-18T05:40:41.680624718Z"
    }
   },
   "execution_count": 11,
   "outputs": []
  },
  {
   "cell_type": "code",
   "execution_count": 10,
   "outputs": [
    {
     "name": "stdout",
     "output_type": "stream",
     "text": [
      "/home/e183534/PASCAL_VOC\n"
     ]
    }
   ],
   "source": [
    "print(config.DATASET)\n"
   ],
   "metadata": {
    "collapsed": false,
    "ExecuteTime": {
     "end_time": "2023-08-18T05:39:21.910364319Z",
     "start_time": "2023-08-18T05:39:21.885774415Z"
    }
   }
  },
  {
   "cell_type": "markdown",
   "source": [
    "**Define Data Module**"
   ],
   "metadata": {
    "id": "Jo9tGpfAt81G",
    "ExecuteTime": {
     "end_time": "2023-08-17T12:24:26.271908584Z",
     "start_time": "2023-08-17T12:24:26.144402311Z"
    }
   },
   "outputs": [
    {
     "name": "stdout",
     "output_type": "stream",
     "text": [
      "torch.Size([1, 3, 416, 416])\n"
     ]
    },
    {
     "ename": "AttributeError",
     "evalue": "'list' object has no attribute 'cpu'",
     "output_type": "error",
     "traceback": [
      "\u001B[0;31m---------------------------------------------------------------------------\u001B[0m",
      "\u001B[0;31mAttributeError\u001B[0m                            Traceback (most recent call last)",
      "Cell \u001B[0;32mIn[47], line 8\u001B[0m\n\u001B[1;32m      6\u001B[0m x_tensor \u001B[38;5;241m=\u001B[39m x[\u001B[38;5;241m0\u001B[39m]\u001B[38;5;241m.\u001B[39munsqueeze(\u001B[38;5;241m0\u001B[39m)\n\u001B[1;32m      7\u001B[0m \u001B[38;5;28mprint\u001B[39m(x_tensor\u001B[38;5;241m.\u001B[39mshape)\n\u001B[0;32m----> 8\u001B[0m grayscale_cam \u001B[38;5;241m=\u001B[39m \u001B[43mcam\u001B[49m\u001B[43m(\u001B[49m\u001B[43mx_tensor\u001B[49m\u001B[43m)\u001B[49m[\u001B[38;5;241m0\u001B[39m, :, :]\n\u001B[1;32m      9\u001B[0m \u001B[38;5;66;03m#x_np = np.asarray(x_tensor.squeeze().to('cpu'))\u001B[39;00m\n\u001B[1;32m     10\u001B[0m \u001B[38;5;66;03m#cam_image = show_cam_on_image(x_np, grayscale_cam, use_rgb=True)\u001B[39;00m\n\u001B[1;32m     11\u001B[0m \u001B[38;5;66;03m#Image.fromarray(cam_image)\u001B[39;00m\n",
      "File \u001B[0;32m~/ERA_V1/venv/lib/python3.8/site-packages/pytorch_grad_cam/base_cam.py:188\u001B[0m, in \u001B[0;36mBaseCAM.__call__\u001B[0;34m(self, input_tensor, targets, aug_smooth, eigen_smooth)\u001B[0m\n\u001B[1;32m    184\u001B[0m \u001B[38;5;28;01mif\u001B[39;00m aug_smooth \u001B[38;5;129;01mis\u001B[39;00m \u001B[38;5;28;01mTrue\u001B[39;00m:\n\u001B[1;32m    185\u001B[0m     \u001B[38;5;28;01mreturn\u001B[39;00m \u001B[38;5;28mself\u001B[39m\u001B[38;5;241m.\u001B[39mforward_augmentation_smoothing(\n\u001B[1;32m    186\u001B[0m         input_tensor, targets, eigen_smooth)\n\u001B[0;32m--> 188\u001B[0m \u001B[38;5;28;01mreturn\u001B[39;00m \u001B[38;5;28;43mself\u001B[39;49m\u001B[38;5;241;43m.\u001B[39;49m\u001B[43mforward\u001B[49m\u001B[43m(\u001B[49m\u001B[43minput_tensor\u001B[49m\u001B[43m,\u001B[49m\n\u001B[1;32m    189\u001B[0m \u001B[43m                    \u001B[49m\u001B[43mtargets\u001B[49m\u001B[43m,\u001B[49m\u001B[43m \u001B[49m\u001B[43meigen_smooth\u001B[49m\u001B[43m)\u001B[49m\n",
      "File \u001B[0;32m~/ERA_V1/venv/lib/python3.8/site-packages/pytorch_grad_cam/base_cam.py:76\u001B[0m, in \u001B[0;36mBaseCAM.forward\u001B[0;34m(self, input_tensor, targets, eigen_smooth)\u001B[0m\n\u001B[1;32m     74\u001B[0m outputs \u001B[38;5;241m=\u001B[39m \u001B[38;5;28mself\u001B[39m\u001B[38;5;241m.\u001B[39mactivations_and_grads(input_tensor)\n\u001B[1;32m     75\u001B[0m \u001B[38;5;28;01mif\u001B[39;00m targets \u001B[38;5;129;01mis\u001B[39;00m \u001B[38;5;28;01mNone\u001B[39;00m:\n\u001B[0;32m---> 76\u001B[0m     target_categories \u001B[38;5;241m=\u001B[39m np\u001B[38;5;241m.\u001B[39margmax(\u001B[43moutputs\u001B[49m\u001B[38;5;241;43m.\u001B[39;49m\u001B[43mcpu\u001B[49m()\u001B[38;5;241m.\u001B[39mdata\u001B[38;5;241m.\u001B[39mnumpy(), axis\u001B[38;5;241m=\u001B[39m\u001B[38;5;241m-\u001B[39m\u001B[38;5;241m1\u001B[39m)\n\u001B[1;32m     77\u001B[0m     targets \u001B[38;5;241m=\u001B[39m [ClassifierOutputTarget(\n\u001B[1;32m     78\u001B[0m         category) \u001B[38;5;28;01mfor\u001B[39;00m category \u001B[38;5;129;01min\u001B[39;00m target_categories]\n\u001B[1;32m     80\u001B[0m \u001B[38;5;28;01mif\u001B[39;00m \u001B[38;5;28mself\u001B[39m\u001B[38;5;241m.\u001B[39muses_gradients:\n",
      "\u001B[0;31mAttributeError\u001B[0m: 'list' object has no attribute 'cpu'"
     ]
    }
   ],
   "execution_count": 47
  },
  {
   "cell_type": "code",
   "source": [
    "# Define data module\n",
    "#csv_files = [os.path.join(config.DATASET, \"100examples.csv\"),os.path.join(config.DATASET,\"8examples.csv\")]\n",
    "csv_files = [os.path.join(config.DATASET, \"train.csv\"),os.path.join(config.DATASET,\"test.csv\")]\n",
    "train_transforms=config.train_transforms\n",
    "test_transforms=config.test_transforms\n",
    "val_transforms = test_transforms\n",
    "IMAGE_SIZE = config.IMAGE_SIZE\n",
    "S=[IMAGE_SIZE // 32, IMAGE_SIZE // 16, IMAGE_SIZE // 8]\n",
    "img_dir=config.IMG_DIR\n",
    "label_dir=config.LABEL_DIR\n",
    "anchors=config.ANCHORS\n",
    "batch_size = 8\n",
    "yolo_dm = YOLODataModule(\n",
    "    csv_files,\n",
    "    img_dir,\n",
    "    label_dir,\n",
    "    anchors,\n",
    "    batch_size,\n",
    "    image_size=IMAGE_SIZE,\n",
    "    S=S,\n",
    "    C=20,\n",
    "    train_transforms = train_transforms,\n",
    "    val_transforms = val_transforms,\n",
    "    test_transforms = test_transforms,\n",
    "    val_split=0.1,\n",
    "    num_workers = config.NUM_WORKERS,\n",
    "    use_mosaic_on_train=True,\n",
    "    mosaic_probability=0.75,\n",
    "    pin_memory = False)\n",
    "yolo_dm.prepare_data()\n",
    "yolo_dm.setup()"
   ],
   "metadata": {
    "id": "RN7BkD6YoObb",
    "execution": {
     "iopub.status.busy": "2023-08-15T12:19:26.696238Z",
     "iopub.execute_input": "2023-08-15T12:19:26.696606Z",
     "iopub.status.idle": "2023-08-15T12:19:26.723372Z",
     "shell.execute_reply.started": "2023-08-15T12:19:26.696575Z",
     "shell.execute_reply": "2023-08-15T12:19:26.722409Z"
    },
    "trusted": true,
    "ExecuteTime": {
     "end_time": "2023-08-18T07:06:46.787398031Z",
     "start_time": "2023-08-18T07:06:46.709512445Z"
    }
   },
   "execution_count": 16,
   "outputs": []
  },
  {
   "cell_type": "markdown",
   "source": [
    "**Identify best LR**"
   ],
   "metadata": {
    "ExecuteTime": {
     "start_time": "2023-08-15T17:52:54.812133780Z"
    }
   },
   "outputs": [
    {
     "name": "stderr",
     "output_type": "stream",
     "text": [
      "Using 16bit None Automatic Mixed Precision (AMP)\n",
      "GPU available: True (cuda), used: True\n",
      "TPU available: False, using: 0 TPU cores\n",
      "IPU available: False, using: 0 IPUs\n",
      "HPU available: False, using: 0 HPUs\n",
      "LOCAL_RANK: 0 - CUDA_VISIBLE_DEVICES: [0]\n",
      "\n",
      "  | Name           | Type     | Params\n",
      "--------------------------------------------\n",
      "0 | model          | YOLOv3   | 61.6 M\n",
      "1 | loss_criterion | YoloLoss | 0     \n",
      "--------------------------------------------\n",
      "61.6 M    Trainable params\n",
      "0         Non-trainable params\n",
      "61.6 M    Total params\n",
      "123.253   Total estimated model params size (MB)\n"
     ]
    },
    {
     "data": {
      "text/plain": "Training: 0it [00:00, ?it/s]",
      "application/vnd.jupyter.widget-view+json": {
       "version_major": 2,
       "version_minor": 0,
       "model_id": "983ead2678ee4a20ab2a48fd6df0d608"
      }
     },
     "metadata": {},
     "output_type": "display_data"
    },
    {
     "name": "stderr",
     "output_type": "stream",
     "text": [
      "LOCAL_RANK: 0 - CUDA_VISIBLE_DEVICES: [0]\n"
     ]
    },
    {
     "data": {
      "text/plain": "Testing: 0it [00:00, ?it/s]",
      "application/vnd.jupyter.widget-view+json": {
       "version_major": 2,
       "version_minor": 0,
       "model_id": "c1be5e725d264cc6b7fbd5d2dce61bea"
      }
     },
     "metadata": {},
     "output_type": "display_data"
    }
   ],
   "execution_count": null
  },
  {
   "cell_type": "code",
   "source": [
    "from torch_lr_finder import LRFinder\n",
    "\n",
    "# Define model parameters\n",
    "scaled_anchors = (\n",
    "    torch.tensor(config.ANCHORS)\n",
    "    * torch.tensor(config.S).unsqueeze(1).unsqueeze(1).repeat(1, 3, 2)\n",
    ").to(config.DEVICE)\n",
    "loss_fn = YoloLoss()\n",
    "conf_threshold = config.CONF_THRESHOLD\n",
    "EPOCHS = config.NUM_EPOCHS * 2 // 5\n",
    "\n",
    "# Define Model\n",
    "dummy_yolo_model = LitYOLOv3(loss_fn, scaled_anchors,conf_threshold, optimizer=None, scheduler_dict=None, num_classes=20, epochs=EPOCHS)\n",
    "optimizer = optim.Adam(dummy_yolo_model.parameters(), lr=config.LEARNING_RATE, weight_decay=config.WEIGHT_DECAY)\n",
    "train_data_loader = yolo_dm.train_dataloader()\n",
    "\n",
    "def criterion(out, y):\n",
    "    y0, y1, y2 = (\n",
    "            y[0].to(config.DEVICE),\n",
    "            y[1].to(config.DEVICE),\n",
    "            y[2].to(config.DEVICE),\n",
    "        )\n",
    "    loss = (\n",
    "                loss_fn(out[0], y0, scaled_anchors[0])\n",
    "                + loss_fn(out[1], y1, scaled_anchors[1])\n",
    "                + loss_fn(out[2], y2, scaled_anchors[2])\n",
    "            )\n",
    "    return loss\n",
    "lr_finder = LRFinder(dummy_yolo_model, optimizer, criterion, device=\"cuda\")\n",
    "lr_finder.range_test(train_data_loader, end_lr=10, num_iter=200, step_mode=\"exp\")\n",
    "lr_finder.plot() # to inspect the loss-learning rate graph\n",
    "lr_finder.reset() # to reset the model and optimizer to their initial state"
   ],
   "metadata": {
    "id": "VB2YNtDauAeW",
    "execution": {
     "iopub.status.busy": "2023-08-15T12:56:00.382812Z",
     "iopub.execute_input": "2023-08-15T12:56:00.383283Z",
     "iopub.status.idle": "2023-08-15T12:56:01.345793Z",
     "shell.execute_reply.started": "2023-08-15T12:56:00.383242Z",
     "shell.execute_reply": "2023-08-15T12:56:01.344665Z"
    },
    "trusted": true,
    "ExecuteTime": {
     "end_time": "2023-08-18T05:51:37.424911958Z",
     "start_time": "2023-08-18T05:50:58.704574550Z"
    }
   },
   "execution_count": 13,
   "outputs": [
    {
     "data": {
      "text/plain": "  0%|          | 0/200 [00:00<?, ?it/s]",
      "application/vnd.jupyter.widget-view+json": {
       "version_major": 2,
       "version_minor": 0,
       "model_id": "2e3c4481f1304853934bd104c600a3f2"
      }
     },
     "metadata": {},
     "output_type": "display_data"
    },
    {
     "name": "stdout",
     "output_type": "stream",
     "text": [
      "Stopping early, the loss has diverged\n",
      "Learning rate search finished. See the graph with {finder_name}.plot()\n",
      "LR suggestion: steepest gradient\n",
      "Suggested LR: 5.87E-02\n"
     ]
    },
    {
     "data": {
      "text/plain": "<Figure size 640x480 with 1 Axes>",
      "image/png": "[encoded data removed]"
     },
     "metadata": {},
     "output_type": "display_data"
    }
   ]
  },
  {
   "cell_type": "code",
   "execution_count": null,
   "outputs": [],
   "source": [
    "max_lr = 8E-4"
   ],
   "metadata": {
    "collapsed": false
   }
  },
  {
   "cell_type": "markdown",
   "source": [
    "Resume Training"
   ],
   "metadata": {}
  },
  {
   "cell_type": "code",
   "source": [
    "from torch.optim.lr_scheduler import OneCycleLR\n",
    "# Define model parameters\n",
    "scaled_anchors = (\n",
    "    torch.tensor(config.ANCHORS)\n",
    "    * torch.tensor(config.S).unsqueeze(1).unsqueeze(1).repeat(1, 3, 2)\n",
    ").to(config.DEVICE)\n",
    "loss_criterion = YoloLoss()\n",
    "conf_threshold = config.CONF_THRESHOLD\n",
    "# Define Model\n",
    "yolo_model = LitYOLOv3(loss_fn, scaled_anchors,conf_threshold, optimizer=None, scheduler_dict=None, num_classes=20, epochs=EPOCHS)\n",
    "optimizer = optim.Adam(yolo_model.parameters(), lr=config.LEARNING_RATE, weight_decay=config.WEIGHT_DECAY)\n",
    "train_data_loader = yolo_dm.train_dataloader()\n",
    "EPOCHS = config.NUM_EPOCHS * 2 // 5\n",
    "scheduler = OneCycleLR(\n",
    "        optimizer,\n",
    "        max_lr=1E-3,\n",
    "        steps_per_epoch=len(train_data_loader),\n",
    "        epochs=EPOCHS,\n",
    "        pct_start=5/EPOCHS,\n",
    "        div_factor=100,\n",
    "        three_phase=False,\n",
    "        final_div_factor=100,\n",
    "        anneal_strategy='linear'\n",
    "    )\n",
    "yolo_model = LitYOLOv3(loss_criterion, scaled_anchors,conf_threshold, optimizer=None, scheduler_dict=None, num_classes=20, epochs=20)\n",
    "yolo_model.set_optimizer(optimizer)\n",
    "yolo_model.set_scheduler_dict(scheduler,freq='step')\n",
    "\n",
    "# resume trainingdd\n",
    "#ckpt_path = \"/kaggle/working/logs/checkpoint_epoch_5_step_72.ckpt\"\n",
    "#trainer = train_pl_model(yolo_model, yolo_dm, epochs = EPOCHS)"
   ],
   "metadata": {
    "execution": {
     "iopub.status.busy": "2023-08-15T13:19:30.116336Z",
     "iopub.execute_input": "2023-08-15T13:19:30.116747Z",
     "iopub.status.idle": "2023-08-15T13:19:30.582239Z",
     "shell.execute_reply.started": "2023-08-15T13:19:30.116711Z",
     "shell.execute_reply": "2023-08-15T13:19:30.579821Z"
    },
    "trusted": true,
    "ExecuteTime": {
     "end_time": "2023-08-18T07:07:00.532102805Z",
     "start_time": "2023-08-18T07:06:59.388114607Z"
    }
   },
   "execution_count": 17,
   "outputs": []
  },
  {
   "cell_type": "markdown",
   "source": [
    "\n"
   ],
   "metadata": {
    "collapsed": false
   }
  },
  {
   "cell_type": "code",
   "execution_count": null,
   "outputs": [],
   "source": [],
   "metadata": {
    "collapsed": false
   }
  },
  {
   "cell_type": "code",
   "source": [],
   "metadata": {
    "execution": {
     "iopub.status.busy": "2023-08-15T12:10:11.412755Z",
     "iopub.execute_input": "2023-08-15T12:10:11.413203Z",
     "iopub.status.idle": "2023-08-15T12:10:11.420918Z",
     "shell.execute_reply.started": "2023-08-15T12:10:11.413166Z",
     "shell.execute_reply": "2023-08-15T12:10:11.419779Z"
    },
    "trusted": true
   },
   "execution_count": null,
   "outputs": []
  }
 ]
}
