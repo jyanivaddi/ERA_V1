{
  "cells": [
    {
      "cell_type": "markdown",
      "metadata": {
        "id": "view-in-github",
        "colab_type": "text"
      },
      "source": [
        "<a href=\"https://colab.research.google.com/github/jyanivaddi/ERA_V1/blob/master/session_13/s13.ipynb\" target=\"_parent\"><img src=\"https://colab.research.google.com/assets/colab-badge.svg\" alt=\"Open In Colab\"/></a>"
      ]
    },
    {
      "cell_type": "markdown",
      "source": [
        "First Connect Google Drive"
      ],
      "metadata": {
        "id": "OZ4DqRTb9Ym8"
      }
    },
    {
      "cell_type": "code",
      "source": [
        "from google.colab import drive\n",
        "drive.mount('/content/gdrive/', force_remount=True)"
      ],
      "metadata": {
        "id": "TDhBByBZ8qi9",
        "outputId": "2c76d262-4501-4a5a-a58d-0c6150938577",
        "colab": {
          "base_uri": "https://localhost:8080/"
        }
      },
      "execution_count": 1,
      "outputs": [
        {
          "output_type": "stream",
          "name": "stdout",
          "text": [
            "Mounted at /content/gdrive/\n"
          ]
        }
      ]
    },
    {
      "cell_type": "markdown",
      "source": [
        "Install packages"
      ],
      "metadata": {
        "id": "cgHQxuQMAJ5o"
      }
    },
    {
      "cell_type": "code",
      "source": [
        "!git clone \"https://github.com/jyanivaddi/ERA_V1.git\"\n",
        "!cd ERA_V1\n",
        "!git pull\n",
        "!cd ../\n",
        "!git clone \"https://github.com/jyanivaddi/dl_hub.git\"\n",
        "!cd dl_hub\n",
        "!git pull\n",
        "!cd ../\n",
        "\n",
        "!pip install --quiet \"torchinfo\" \"seaborn\" \"pytorch-lightning\" \"torchmetrics\" \"lightning-bolts\"\n",
        "!pip install --quiet \"prettytable\"\n",
        "!pip install --quiet \"torch_lr_finder\"\n",
        "!pip install --quiet \"grad-cam\"\n",
        "!pip install --quiet \"gradio\""
      ],
      "metadata": {
        "id": "VAOiUa_mAJVQ",
        "outputId": "1d4f08fb-8595-4d47-a287-966aaa4c8e30",
        "colab": {
          "base_uri": "https://localhost:8080/"
        }
      },
      "execution_count": 1,
      "outputs": [
        {
          "output_type": "stream",
          "name": "stdout",
          "text": [
            "Cloning into 'ERA_V1'...\n",
            "remote: Enumerating objects: 1153, done.\u001b[K\n",
            "remote: Counting objects: 100% (332/332), done.\u001b[K\n",
            "remote: Compressing objects: 100% (178/178), done.\u001b[K\n",
            "remote: Total 1153 (delta 139), reused 299 (delta 121), pack-reused 821\u001b[K\n",
            "Receiving objects: 100% (1153/1153), 184.47 MiB | 8.82 MiB/s, done.\n",
            "Resolving deltas: 100% (584/584), done.\n",
            "Updating files: 100% (123/123), done.\n",
            "fatal: not a git repository (or any of the parent directories): .git\n",
            "Cloning into 'dl_hub'...\n",
            "remote: Enumerating objects: 206, done.\u001b[K\n",
            "remote: Counting objects: 100% (206/206), done.\u001b[K\n",
            "remote: Compressing objects: 100% (159/159), done.\u001b[K\n",
            "remote: Total 206 (delta 108), reused 109 (delta 39), pack-reused 0\u001b[K\n",
            "Receiving objects: 100% (206/206), 50.79 KiB | 1000.00 KiB/s, done.\n",
            "Resolving deltas: 100% (108/108), done.\n",
            "fatal: not a git repository (or any of the parent directories): .git\n",
            "\u001b[2K     \u001b[90m━━━━━━━━━━━━━━━━━━━━━━━━━━━━━━━━━━━━━━━\u001b[0m \u001b[32m722.8/722.8 kB\u001b[0m \u001b[31m6.3 MB/s\u001b[0m eta \u001b[36m0:00:00\u001b[0m\n",
            "\u001b[2K     \u001b[90m━━━━━━━━━━━━━━━━━━━━━━━━━━━━━━━━━━━━━━━\u001b[0m \u001b[32m731.1/731.1 kB\u001b[0m \u001b[31m8.4 MB/s\u001b[0m eta \u001b[36m0:00:00\u001b[0m\n",
            "\u001b[2K     \u001b[90m━━━━━━━━━━━━━━━━━━━━━━━━━━━━━━━━━━━━━━\u001b[0m \u001b[32m300.8/300.8 kB\u001b[0m \u001b[31m10.9 MB/s\u001b[0m eta \u001b[36m0:00:00\u001b[0m\n",
            "\u001b[2K     \u001b[90m━━━━━━━━━━━━━━━━━━━━━━━━━━━━━━━━━━━━━━\u001b[0m \u001b[32m829.5/829.5 kB\u001b[0m \u001b[31m11.9 MB/s\u001b[0m eta \u001b[36m0:00:00\u001b[0m\n",
            "\u001b[2K     \u001b[90m━━━━━━━━━━━━━━━━━━━━━━━━━━━━━━━━━━━━━━━━\u001b[0m \u001b[32m7.8/7.8 MB\u001b[0m \u001b[31m47.0 MB/s\u001b[0m eta \u001b[36m0:00:00\u001b[0m\n",
            "\u001b[?25h  Installing build dependencies ... \u001b[?25l\u001b[?25hdone\n",
            "  Getting requirements to build wheel ... \u001b[?25l\u001b[?25hdone\n",
            "  Preparing metadata (pyproject.toml) ... \u001b[?25l\u001b[?25hdone\n",
            "  Building wheel for grad-cam (pyproject.toml) ... \u001b[?25l\u001b[?25hdone\n",
            "\u001b[2K     \u001b[90m━━━━━━━━━━━━━━━━━━━━━━━━━━━━━━━━━━━━━━━━\u001b[0m \u001b[32m19.9/19.9 MB\u001b[0m \u001b[31m35.3 MB/s\u001b[0m eta \u001b[36m0:00:00\u001b[0m\n",
            "\u001b[2K     \u001b[90m━━━━━━━━━━━━━━━━━━━━━━━━━━━━━━━━━━━━━━━━\u001b[0m \u001b[32m65.7/65.7 kB\u001b[0m \u001b[31m4.0 MB/s\u001b[0m eta \u001b[36m0:00:00\u001b[0m\n",
            "\u001b[?25h  Preparing metadata (setup.py) ... \u001b[?25l\u001b[?25hdone\n",
            "\u001b[2K     \u001b[90m━━━━━━━━━━━━━━━━━━━━━━━━━━━━━━━━━━━━━━\u001b[0m \u001b[32m294.2/294.2 kB\u001b[0m \u001b[31m25.2 MB/s\u001b[0m eta \u001b[36m0:00:00\u001b[0m\n",
            "\u001b[2K     \u001b[90m━━━━━━━━━━━━━━━━━━━━━━━━━━━━━━━━━━━━━━━━\u001b[0m \u001b[32m75.4/75.4 kB\u001b[0m \u001b[31m6.6 MB/s\u001b[0m eta \u001b[36m0:00:00\u001b[0m\n",
            "\u001b[2K     \u001b[90m━━━━━━━━━━━━━━━━━━━━━━━━━━━━━━━━━━━━━━\u001b[0m \u001b[32m268.8/268.8 kB\u001b[0m \u001b[31m22.1 MB/s\u001b[0m eta \u001b[36m0:00:00\u001b[0m\n",
            "\u001b[2K     \u001b[90m━━━━━━━━━━━━━━━━━━━━━━━━━━━━━━━━━━━━━━━━\u001b[0m \u001b[32m50.5/50.5 kB\u001b[0m \u001b[31m5.0 MB/s\u001b[0m eta \u001b[36m0:00:00\u001b[0m\n",
            "\u001b[2K     \u001b[90m━━━━━━━━━━━━━━━━━━━━━━━━━━━━━━━━━━━━━━\u001b[0m \u001b[32m140.3/140.3 kB\u001b[0m \u001b[31m13.2 MB/s\u001b[0m eta \u001b[36m0:00:00\u001b[0m\n",
            "\u001b[2K     \u001b[90m━━━━━━━━━━━━━━━━━━━━━━━━━━━━━━━━━━━━━━━━\u001b[0m \u001b[32m45.7/45.7 kB\u001b[0m \u001b[31m3.0 MB/s\u001b[0m eta \u001b[36m0:00:00\u001b[0m\n",
            "\u001b[2K     \u001b[90m━━━━━━━━━━━━━━━━━━━━━━━━━━━━━━━━━━━━━━━━\u001b[0m \u001b[32m59.5/59.5 kB\u001b[0m \u001b[31m5.6 MB/s\u001b[0m eta \u001b[36m0:00:00\u001b[0m\n",
            "\u001b[2K     \u001b[90m━━━━━━━━━━━━━━━━━━━━━━━━━━━━━━━━━━━━━━\u001b[0m \u001b[32m129.9/129.9 kB\u001b[0m \u001b[31m13.1 MB/s\u001b[0m eta \u001b[36m0:00:00\u001b[0m\n",
            "\u001b[2K     \u001b[90m━━━━━━━━━━━━━━━━━━━━━━━━━━━━━━━━━━━━━━━━\u001b[0m \u001b[32m50.4/50.4 kB\u001b[0m \u001b[31m4.2 MB/s\u001b[0m eta \u001b[36m0:00:00\u001b[0m\n",
            "\u001b[2K     \u001b[90m━━━━━━━━━━━━━━━━━━━━━━━━━━━━━━━━━━━━━━━━\u001b[0m \u001b[32m46.5/46.5 kB\u001b[0m \u001b[31m3.2 MB/s\u001b[0m eta \u001b[36m0:00:00\u001b[0m\n",
            "\u001b[2K     \u001b[90m━━━━━━━━━━━━━━━━━━━━━━━━━━━━━━━━━━━━━━━━\u001b[0m \u001b[32m43.7/43.7 kB\u001b[0m \u001b[31m3.5 MB/s\u001b[0m eta \u001b[36m0:00:00\u001b[0m\n",
            "\u001b[2K     \u001b[90m━━━━━━━━━━━━━━━━━━━━━━━━━━━━━━━━━━━━━━━━\u001b[0m \u001b[32m41.0/41.0 kB\u001b[0m \u001b[31m3.7 MB/s\u001b[0m eta \u001b[36m0:00:00\u001b[0m\n",
            "\u001b[2K     \u001b[90m━━━━━━━━━━━━━━━━━━━━━━━━━━━━━━━━━━━━━━━━\u001b[0m \u001b[32m41.0/41.0 kB\u001b[0m \u001b[31m2.8 MB/s\u001b[0m eta \u001b[36m0:00:00\u001b[0m\n",
            "\u001b[2K     \u001b[90m━━━━━━━━━━━━━━━━━━━━━━━━━━━━━━━━━━━━━━━━\u001b[0m \u001b[32m87.5/87.5 kB\u001b[0m \u001b[31m8.0 MB/s\u001b[0m eta \u001b[36m0:00:00\u001b[0m\n",
            "\u001b[2K     \u001b[90m━━━━━━━━━━━━━━━━━━━━━━━━━━━━━━━━━━━━━━━━\u001b[0m \u001b[32m84.5/84.5 kB\u001b[0m \u001b[31m7.4 MB/s\u001b[0m eta \u001b[36m0:00:00\u001b[0m\n",
            "\u001b[2K     \u001b[90m━━━━━━━━━━━━━━━━━━━━━━━━━━━━━━━━━━━━━━━━\u001b[0m \u001b[32m58.3/58.3 kB\u001b[0m \u001b[31m4.5 MB/s\u001b[0m eta \u001b[36m0:00:00\u001b[0m\n",
            "\u001b[2K     \u001b[90m━━━━━━━━━━━━━━━━━━━━━━━━━━━━━━━━━━━━━━━━\u001b[0m \u001b[32m67.0/67.0 kB\u001b[0m \u001b[31m5.1 MB/s\u001b[0m eta \u001b[36m0:00:00\u001b[0m\n",
            "\u001b[2K     \u001b[90m━━━━━━━━━━━━━━━━━━━━━━━━━━━━━━━━━━━━━━━━\u001b[0m \u001b[32m74.5/74.5 kB\u001b[0m \u001b[31m7.0 MB/s\u001b[0m eta \u001b[36m0:00:00\u001b[0m\n",
            "\u001b[?25h  Building wheel for ffmpy (setup.py) ... \u001b[?25l\u001b[?25hdone\n"
          ]
        }
      ]
    },
    {
      "cell_type": "code",
      "source": [
        "import sys\n",
        "sys.path.append(\"ERA_V1/session_13\")\n",
        "sys.path.append(\"dl_hub\")"
      ],
      "metadata": {
        "id": "ivBzl8YFPvJ0"
      },
      "execution_count": 2,
      "outputs": []
    },
    {
      "cell_type": "code",
      "execution_count": 3,
      "metadata": {
        "id": "x8WpKATx75Hu",
        "colab": {
          "base_uri": "https://localhost:8080/",
          "height": 331
        },
        "outputId": "31571f85-08d8-4919-c276-48a3c2510804"
      },
      "outputs": [
        {
          "output_type": "error",
          "ename": "SyntaxError",
          "evalue": "ignored",
          "traceback": [
            "Traceback \u001b[0;36m(most recent call last)\u001b[0m:\n",
            "  File \u001b[1;32m\"/usr/local/lib/python3.10/dist-packages/IPython/core/interactiveshell.py\"\u001b[0m, line \u001b[1;32m3553\u001b[0m, in \u001b[1;35mrun_code\u001b[0m\n    exec(code_obj, self.user_global_ns, self.user_ns)\n",
            "  File \u001b[1;32m\"<ipython-input-3-9748f722adcd>\"\u001b[0m, line \u001b[1;32m1\u001b[0m, in \u001b[1;35m<cell line: 1>\u001b[0m\n    import dl_hub.models.YOLO_V3.config\n",
            "\u001b[0;36m  File \u001b[0;32m\"/content/dl_hub/models/YOLO_V3/config.py\"\u001b[0;36m, line \u001b[0;32m6\u001b[0;36m, in \u001b[0;35m<module>\u001b[0;36m\u001b[0m\n\u001b[0;31m    from .utils import seed_everything\u001b[0m\n",
            "\u001b[0;36m  File \u001b[0;32m\"/content/dl_hub/models/YOLO_V3/utils.py\"\u001b[0;36m, line \u001b[0;32m1\u001b[0m\n\u001b[0;31m    import .config\u001b[0m\n\u001b[0m           ^\u001b[0m\n\u001b[0;31mSyntaxError\u001b[0m\u001b[0;31m:\u001b[0m invalid syntax\n"
          ]
        }
      ],
      "source": [
        "import dl_hub.models.YOLO_V3.config\n",
        "import torch\n",
        "import torch.optim as optim\n",
        "\n",
        "from dl_hub.models.YOLO_V3.model import YOLOv3\n",
        "from tqdm import tqdm\n",
        "#from dl_hub.models.YOLO_V3.utils import (\n",
        "#    mean_average_precision,\n",
        "#    cells_to_bboxes,\n",
        "#    get_evaluation_bboxes,\n",
        "#    save_checkpoint,\n",
        "#    load_checkpoint,\n",
        "#    check_class_accuracy,\n",
        "#    get_loaders,\n",
        "#    plot_couple_examples\n",
        "#)\n",
        "from dl_hub.models.YOLO_V3.loss import YoloLoss\n",
        "import warnings\n",
        "warnings.filterwarnings(\"ignore\")"
      ]
    },
    {
      "cell_type": "code",
      "execution_count": null,
      "metadata": {
        "id": "w4GDrpX975Hx"
      },
      "outputs": [],
      "source": [
        "def train_fn(train_loader, model, optimizer, loss_fn, scaler, scaled_anchors, scheduler):\n",
        "    loop = tqdm(train_loader, leave=True)\n",
        "    losses = []\n",
        "    for batch_idx, (x, y) in enumerate(loop):\n",
        "        x = x.to(config.DEVICE)\n",
        "        y0, y1, y2 = (\n",
        "            y[0].to(config.DEVICE),\n",
        "            y[1].to(config.DEVICE),\n",
        "            y[2].to(config.DEVICE),\n",
        "        )\n",
        "\n",
        "        with torch.cuda.amp.autocast():\n",
        "            out = model(x)\n",
        "            loss = (\n",
        "                loss_fn(out[0], y0, scaled_anchors[0])\n",
        "                + loss_fn(out[1], y1, scaled_anchors[1])\n",
        "                + loss_fn(out[2], y2, scaled_anchors[2])\n",
        "            )\n",
        "\n",
        "        losses.append(loss.item())\n",
        "        optimizer.zero_grad()\n",
        "        scaler.scale(loss).backward()\n",
        "        scaler.step(optimizer)\n",
        "        scaler.update()\n",
        "        scheduler.step()\n",
        "\n",
        "        # update progress bar\n",
        "        mean_loss = sum(losses) / len(losses)\n",
        "        loop.set_postfix(loss=mean_loss)"
      ]
    },
    {
      "cell_type": "code",
      "execution_count": null,
      "metadata": {
        "id": "3DtkSQ9b75H0"
      },
      "outputs": [],
      "source": [
        "model = YOLOv3(num_classes=config.NUM_CLASSES).to(config.DEVICE)\n",
        "optimizer = optim.Adam(\n",
        "    model.parameters(), lr=config.LEARNING_RATE, weight_decay=config.WEIGHT_DECAY\n",
        ")\n",
        "loss_fn = YoloLoss()\n",
        "scaler = torch.cuda.amp.GradScaler()\n",
        "\n",
        "train_loader, test_loader, train_eval_loader = get_loaders(\n",
        "    train_csv_path=config.DATASET + \"/train.csv\", test_csv_path=config.DATASET + \"/test.csv\"\n",
        ")\n",
        "\n",
        "if config.LOAD_MODEL:\n",
        "    load_checkpoint(\n",
        "        config.CHECKPOINT_FILE, model, optimizer, config.LEARNING_RATE\n",
        "    )\n"
      ]
    },
    {
      "cell_type": "code",
      "execution_count": null,
      "metadata": {
        "id": "3P9vTBy475H1"
      },
      "outputs": [],
      "source": [
        "from torch_lr_finder import LRFinder\n",
        "scaled_anchors = (\n",
        "    torch.tensor(config.ANCHORS)\n",
        "    * torch.tensor(config.S).unsqueeze(1).unsqueeze(1).repeat(1, 3, 2)\n",
        ").to(config.DEVICE)\n",
        "\n",
        "def criterion(out, y):\n",
        "    y0, y1, y2 = (\n",
        "            y[0].to(config.DEVICE),\n",
        "            y[1].to(config.DEVICE),\n",
        "            y[2].to(config.DEVICE),\n",
        "        )\n",
        "    loss = (\n",
        "                loss_fn(out[0], y0, scaled_anchors[0])\n",
        "                + loss_fn(out[1], y1, scaled_anchors[1])\n",
        "                + loss_fn(out[2], y2, scaled_anchors[2])\n",
        "            )\n",
        "    return loss\n",
        "lr_finder = LRFinder(model, optimizer, criterion, device=\"cuda\")\n",
        "lr_finder.range_test(train_loader, end_lr=10, num_iter=200, step_mode=\"exp\")\n",
        "lr_finder.plot() # to inspect the loss-learning rate graph\n",
        "lr_finder.reset() # to reset the model and optimizer to their initial state"
      ]
    },
    {
      "cell_type": "code",
      "execution_count": null,
      "metadata": {
        "id": "_PQZ3wqP75H4"
      },
      "outputs": [],
      "source": [
        "scaled_anchors = (\n",
        "    torch.tensor(config.ANCHORS)\n",
        "    * torch.tensor(config.S).unsqueeze(1).unsqueeze(1).repeat(1, 3, 2)\n",
        ").to(config.DEVICE)\n",
        "\n",
        "\n",
        "from torch.optim.lr_scheduler import OneCycleLR\n",
        "EPOCHS = config.NUM_EPOCHS * 2 // 5\n",
        "scheduler = OneCycleLR(\n",
        "        optimizer,\n",
        "        max_lr=1E-3,\n",
        "        steps_per_epoch=len(train_loader),\n",
        "        epochs=EPOCHS,\n",
        "        pct_start=5/EPOCHS,\n",
        "        div_factor=100,\n",
        "        three_phase=False,\n",
        "        final_div_factor=100,\n",
        "        anneal_strategy='linear'\n",
        "    )\n",
        "\n",
        "for epoch in range(EPOCHS):\n",
        "    plot_couple_examples(model, test_loader, 0.6, 0.5, scaled_anchors)\n",
        "    train_fn(train_loader, model, optimizer, loss_fn, scaler, scaled_anchors, scheduler)\n",
        "\n",
        "    if config.SAVE_MODEL:\n",
        "       save_checkpoint(model, optimizer, filename=f\"checkpoint.pth.tar\")\n",
        "\n",
        "    print(f\"Currently epoch {epoch}\")\n",
        "    print(\"On Train Eval loader:\")\n",
        "    print(\"On Train loader:\")\n",
        "    check_class_accuracy(model, train_loader, threshold=config.CONF_THRESHOLD)\n",
        "\n",
        "    if epoch > 0 and epoch % 3 == 0:\n",
        "        check_class_accuracy(model, test_loader, threshold=config.CONF_THRESHOLD)\n",
        "        pred_boxes, true_boxes = get_evaluation_bboxes(\n",
        "            test_loader,\n",
        "            model,\n",
        "            iou_threshold=config.NMS_IOU_THRESH,\n",
        "            anchors=config.ANCHORS,\n",
        "            threshold=config.CONF_THRESHOLD,\n",
        "        )\n",
        "        mapval = mean_average_precision(\n",
        "            pred_boxes,\n",
        "            true_boxes,\n",
        "            iou_threshold=config.MAP_IOU_THRESH,\n",
        "            box_format=\"midpoint\",\n",
        "            num_classes=config.NUM_CLASSES,\n",
        "        )\n",
        "        print(f\"MAP: {mapval.item()}\")\n",
        "        model.train()"
      ]
    },
    {
      "cell_type": "code",
      "execution_count": null,
      "metadata": {
        "id": "ePHC-bMT75H7"
      },
      "outputs": [],
      "source": [
        "lr_finder.reset()\n",
        "scaled_anchors = (\n",
        "    torch.tensor(config.ANCHORS)\n",
        "    * torch.tensor(config.S).unsqueeze(1).unsqueeze(1).repeat(1, 3, 2)\n",
        ").to(config.DEVICE)\n",
        "\n",
        "\n",
        "from torch.optim.lr_scheduler import OneCycleLR\n",
        "EPOCHS = config.NUM_EPOCHS // 5\n",
        "scheduler = OneCycleLR(\n",
        "        optimizer,\n",
        "        max_lr=1E-3,\n",
        "        steps_per_epoch=len(train_loader),\n",
        "        epochs=EPOCHS,\n",
        "        pct_start=5/EPOCHS,\n",
        "        div_factor=100,\n",
        "        three_phase=False,\n",
        "        final_div_factor=100,\n",
        "        anneal_strategy='linear'\n",
        "    )\n",
        "\n",
        "for epoch in range(EPOCHS):\n",
        "    plot_couple_examples(model, test_loader, 0.6, 0.5, scaled_anchors)\n",
        "    train_fn(train_loader, model, optimizer, loss_fn, scaler, scaled_anchors, scheduler)\n",
        "\n",
        "    if config.SAVE_MODEL:\n",
        "       save_checkpoint(model, optimizer, filename=f\"checkpoint.pth.tar\")\n",
        "\n",
        "    print(f\"Currently epoch {epoch}\")\n",
        "    print(\"On Train Eval loader:\")\n",
        "    print(\"On Train loader:\")\n",
        "    check_class_accuracy(model, train_loader, threshold=config.CONF_THRESHOLD)\n",
        "\n",
        "    if epoch > 0 and epoch % 3 == 0:\n",
        "        check_class_accuracy(model, test_loader, threshold=config.CONF_THRESHOLD)\n",
        "        pred_boxes, true_boxes = get_evaluation_bboxes(\n",
        "            test_loader,\n",
        "            model,\n",
        "            iou_threshold=config.NMS_IOU_THRESH,\n",
        "            anchors=config.ANCHORS,\n",
        "            threshold=config.CONF_THRESHOLD,\n",
        "        )\n",
        "        mapval = mean_average_precision(\n",
        "            pred_boxes,\n",
        "            true_boxes,\n",
        "            iou_threshold=config.MAP_IOU_THRESH,\n",
        "            box_format=\"midpoint\",\n",
        "            num_classes=config.NUM_CLASSES,\n",
        "        )\n",
        "        print(f\"MAP: {mapval.item()}\")\n",
        "        model.train()"
      ]
    },
    {
      "cell_type": "code",
      "execution_count": null,
      "metadata": {
        "id": "ps8GwdNE75H8"
      },
      "outputs": [],
      "source": []
    }
  ],
  "metadata": {
    "kernelspec": {
      "display_name": "Python 3",
      "name": "python3"
    },
    "language_info": {
      "codemirror_mode": {
        "name": "ipython",
        "version": 3
      },
      "file_extension": ".py",
      "mimetype": "text/x-python",
      "name": "python",
      "nbconvert_exporter": "python",
      "pygments_lexer": "ipython3",
      "version": "3.9.7"
    },
    "orig_nbformat": 4,
    "colab": {
      "provenance": [],
      "include_colab_link": true
    }
  },
  "nbformat": 4,
  "nbformat_minor": 0
}