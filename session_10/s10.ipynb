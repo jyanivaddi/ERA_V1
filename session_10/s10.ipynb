{
  "cells": [
    {
      "cell_type": "code",
      "execution_count": null,
      "metadata": {
        "colab": {
          "base_uri": "https://localhost:8080/"
        },
        "id": "a8J1MOmbqmgC",
        "outputId": "ca9801c2-ebaf-4c5f-b987-9634f9aaf913"
      },
      "outputs": [],
      "source": [
        "!git clone \"https://github.com/jyanivaddi/ERA_V1.git\"\n",
        "!git pull\n",
        "!pip install torchinfo\n",
        "!pip install prettytable\n",
        "!pip install torch_lr_finder"
      ]
    },
    {
      "attachments": {},
      "cell_type": "markdown",
      "metadata": {
        "id": "lW3WHIzUqmgF"
      },
      "source": [
        "Add all the imports"
      ]
    },
    {
      "cell_type": "code",
      "execution_count": 1,
      "metadata": {
        "colab": {
          "base_uri": "https://localhost:8080/"
        },
        "id": "zQ5ZSVQJqmgI",
        "outputId": "9b83a65e-7708-435c-e4db-a5287a3d21a6"
      },
      "outputs": [
        {
          "name": "stderr",
          "output_type": "stream",
          "text": [
            "/home/jyani/.local/lib/python3.10/site-packages/torch_lr_finder/lr_finder.py:5: TqdmExperimentalWarning: Using `tqdm.autonotebook.tqdm` in notebook mode. Use `tqdm.tqdm` instead to force console mode (e.g. in jupyter console)\n",
            "  from tqdm.autonotebook import tqdm\n"
          ]
        }
      ],
      "source": [
        "from __future__ import print_function\n",
        "import sys\n",
        "sys.path.append(\"ERA_V1/session_10\")\n",
        "import torch\n",
        "import torch.nn as nn\n",
        "import torch.nn.functional as F\n",
        "import torch.optim as optim\n",
        "from torchvision import transforms\n",
        "import albumentations as A\n",
        "import albumentations.augmentations as AA\n",
        "from albumentations.pytorch import ToTensorV2\n",
        "from utils import preview_images, plot_statistics, show_incorrect_predictions, get_incorrect_predictions, print_train_log\n",
        "from custom_resnet.custom_resnet import CustomResnet, model_summary\n",
        "from custom_resnet.data_loader import load_cifar10_data\n",
        "from custom_resnet.training import training_loop\n",
        "from custom_resnet.inference import model_test\n",
        "from custom_resnet.optimizer import Optimization, find_best_lr\n"
      ]
    },
    {
      "attachments": {},
      "cell_type": "markdown",
      "metadata": {
        "id": "n4AHY0CsqmgL"
      },
      "source": [
        "Allocate GPU"
      ]
    },
    {
      "cell_type": "code",
      "execution_count": 2,
      "metadata": {
        "colab": {
          "base_uri": "https://localhost:8080/"
        },
        "id": "3xmgYQudqmgM",
        "outputId": "bb4655b1-409c-4c0f-9db8-7803a5e5d05d"
      },
      "outputs": [
        {
          "name": "stdout",
          "output_type": "stream",
          "text": [
            "=====================================================================================================================================================================\n",
            "Layer (type:depth-idx)                   Kernel Shape              Input Shape               Output Shape              Param #                   Mult-Adds\n",
            "=====================================================================================================================================================================\n",
            "CustomResnet                             --                        [1, 3, 32, 32]            [1, 10]                   --                        --\n",
            "├─Sequential: 1-1                        --                        [1, 3, 32, 32]            [1, 64, 32, 32]           --                        --\n",
            "│    └─Conv2d: 2-1                       [3, 3]                    [1, 3, 32, 32]            [1, 64, 32, 32]           1,728                     1,769,472\n",
            "│    └─BatchNorm2d: 2-2                  --                        [1, 64, 32, 32]           [1, 64, 32, 32]           128                       128\n",
            "│    └─ReLU: 2-3                         --                        [1, 64, 32, 32]           [1, 64, 32, 32]           --                        --\n",
            "├─Layer: 1-2                             --                        --                        --                        --                        --\n",
            "│    └─Sequential: 2-4                   --                        [1, 64, 32, 32]           [1, 128, 16, 16]          --                        --\n",
            "│    │    └─Conv2d: 3-1                  [3, 3]                    [1, 64, 32, 32]           [1, 128, 32, 32]          73,728                    75,497,472\n",
            "│    │    └─MaxPool2d: 3-2               2                         [1, 128, 32, 32]          [1, 128, 16, 16]          --                        --\n",
            "│    │    └─BatchNorm2d: 3-3             --                        [1, 128, 16, 16]          [1, 128, 16, 16]          256                       256\n",
            "│    │    └─ReLU: 3-4                    --                        [1, 128, 16, 16]          [1, 128, 16, 16]          --                        --\n",
            "│    └─ResidualBlock: 2-5                --                        --                        --                        --                        --\n",
            "│    │    └─Sequential: 3-5              --                        [1, 128, 16, 16]          [1, 128, 16, 16]          147,712                   37,748,992\n",
            "│    │    └─Sequential: 3-6              --                        [1, 128, 16, 16]          [1, 128, 16, 16]          147,712                   37,748,992\n",
            "├─Sequential: 1-3                        --                        [1, 128, 16, 16]          [1, 256, 8, 8]            --                        --\n",
            "│    └─Conv2d: 2-6                       [3, 3]                    [1, 128, 16, 16]          [1, 256, 16, 16]          294,912                   75,497,472\n",
            "│    └─MaxPool2d: 2-7                    2                         [1, 256, 16, 16]          [1, 256, 8, 8]            --                        --\n",
            "│    └─BatchNorm2d: 2-8                  --                        [1, 256, 8, 8]            [1, 256, 8, 8]            512                       512\n",
            "│    └─ReLU: 2-9                         --                        [1, 256, 8, 8]            [1, 256, 8, 8]            --                        --\n",
            "├─Layer: 1-4                             --                        --                        --                        --                        --\n",
            "│    └─Sequential: 2-10                  --                        [1, 256, 8, 8]            [1, 512, 4, 4]            --                        --\n",
            "│    │    └─Conv2d: 3-7                  [3, 3]                    [1, 256, 8, 8]            [1, 512, 8, 8]            1,179,648                 75,497,472\n",
            "│    │    └─MaxPool2d: 3-8               2                         [1, 512, 8, 8]            [1, 512, 4, 4]            --                        --\n",
            "│    │    └─BatchNorm2d: 3-9             --                        [1, 512, 4, 4]            [1, 512, 4, 4]            1,024                     1,024\n",
            "│    │    └─ReLU: 3-10                   --                        [1, 512, 4, 4]            [1, 512, 4, 4]            --                        --\n",
            "│    └─ResidualBlock: 2-11               --                        --                        --                        --                        --\n",
            "│    │    └─Sequential: 3-11             --                        [1, 512, 4, 4]            [1, 512, 4, 4]            2,360,320                 37,749,760\n",
            "│    │    └─Sequential: 3-12             --                        [1, 512, 4, 4]            [1, 512, 4, 4]            2,360,320                 37,749,760\n",
            "├─MaxPool2d: 1-5                         4                         [1, 512, 4, 4]            [1, 512, 1, 1]            --                        --\n",
            "├─Linear: 1-6                            --                        [1]                       [10]                      5,120                     51,200\n",
            "=====================================================================================================================================================================\n",
            "Total params: 6,573,120\n",
            "Trainable params: 6,573,120\n",
            "Non-trainable params: 0\n",
            "Total mult-adds (M): 379.31\n",
            "=====================================================================================================================================================================\n",
            "Input size (MB): 0.01\n",
            "Forward/backward pass size (MB): 4.65\n",
            "Params size (MB): 26.29\n",
            "Estimated Total Size (MB): 30.96\n",
            "=====================================================================================================================================================================\n"
          ]
        },
        {
          "name": "stderr",
          "output_type": "stream",
          "text": [
            "/home/jyani/ERA_V1/session_10/custom_resnet/custom_resnet.py:157: UserWarning: Implicit dimension choice for log_softmax has been deprecated. Change the call to include dim=X as an argument.\n",
            "  return F.log_softmax(x)\n"
          ]
        }
      ],
      "source": [
        "use_cuda = torch.cuda.is_available()\n",
        "device = torch.device(\"cuda\" if use_cuda else \"cpu\")\n",
        "resnet_model = CustomResnet(base_channels=3,num_classes=10).to(device)\n",
        "model_summary(resnet_model, input_size=(3,32,32))\n",
        "\n"
      ]
    },
    {
      "attachments": {},
      "cell_type": "markdown",
      "metadata": {
        "id": "eF0JlvTsqmgP"
      },
      "source": [
        "Define Transforms"
      ]
    },
    {
      "cell_type": "code",
      "execution_count": 3,
      "metadata": {
        "id": "pI6EVt-jmGp6"
      },
      "outputs": [],
      "source": [
        "train_transforms = A.Compose(\n",
        "    [\n",
        "        #A.augmentations.crops.transforms.RandomCrop(4,4),\n",
        "        A.HorizontalFlip(p=0.5),\n",
        "        AA.dropout.coarse_dropout.CoarseDropout(max_holes = 1, max_height=8,\n",
        "                                                max_width=8, min_holes = 1,\n",
        "                                                min_height=8, min_width=8,\n",
        "                                                fill_value=(0.491, 0.482, 0.447),\n",
        "                                                mask_fill_value = None),\n",
        "\n",
        "        A.Normalize(mean=(0.491,0.482,0.447),std=(0.247,0.244,0.262)),\n",
        "        ToTensorV2(),\n",
        "    ]\n",
        ")\n",
        "test_transforms = A.Compose([\n",
        "    A.Normalize(mean=(0.491,0.482,0.447),std=(0.247,0.244,0.262)),\n",
        "    ToTensorV2(),\n",
        "])"
      ]
    },
    {
      "attachments": {},
      "cell_type": "markdown",
      "metadata": {
        "id": "D6f-Ko64qmgU"
      },
      "source": [
        "Define train and test loaders"
      ]
    },
    {
      "cell_type": "code",
      "execution_count": 4,
      "metadata": {
        "colab": {
          "base_uri": "https://localhost:8080/"
        },
        "id": "Z8mQv0iUqmgV",
        "outputId": "628f2f72-f173-4cbf-d68e-2eae1b3a2c13"
      },
      "outputs": [
        {
          "name": "stdout",
          "output_type": "stream",
          "text": [
            "Files already downloaded and verified\n",
            "Files already downloaded and verified\n"
          ]
        }
      ],
      "source": [
        "torch.manual_seed(1)\n",
        "batch_size = 512\n",
        "kwargs = {'num_workers': 2, 'pin_memory': True} if use_cuda else {}\n",
        "train_loader, test_loader, class_names = load_cifar10_data(train_transforms, test_transforms, batch_size, **kwargs)"
      ]
    },
    {
      "attachments": {},
      "cell_type": "markdown",
      "metadata": {
        "id": "RQB2RLRxtSlv"
      },
      "source": [
        "Show sample Images from the dataset"
      ]
    },
    {
      "cell_type": "code",
      "execution_count": 6,
      "metadata": {
        "colab": {
          "base_uri": "https://localhost:8080/",
          "height": 712
        },
        "id": "DjjB363XqmgW",
        "outputId": "52029c06-8ab4-43cf-ef3e-ad952b282ad3"
      },
      "outputs": [
        {
          "ename": "TypeError",
          "evalue": "max() received an invalid combination of arguments - got (out=NoneType, axis=NoneType, ), but expected one of:\n * ()\n * (Tensor other)\n * (int dim, bool keepdim)\n      didn't match because some of the keywords were incorrect: out, axis\n * (name dim, bool keepdim)\n      didn't match because some of the keywords were incorrect: out, axis\n",
          "output_type": "error",
          "traceback": [
            "\u001b[0;31m---------------------------------------------------------------------------\u001b[0m",
            "\u001b[0;31mTypeError\u001b[0m                                 Traceback (most recent call last)",
            "Cell \u001b[0;32mIn[6], line 1\u001b[0m\n\u001b[0;32m----> 1\u001b[0m preview_images(train_loader,class_names, num_rows \u001b[39m=\u001b[39;49m \u001b[39m5\u001b[39;49m, num_cols \u001b[39m=\u001b[39;49m \u001b[39m5\u001b[39;49m)\n",
            "File \u001b[0;32m~/ERA_V1/session_10/utils.py:48\u001b[0m, in \u001b[0;36mpreview_images\u001b[0;34m(train_loader, class_names, num_rows, num_cols)\u001b[0m\n\u001b[1;32m     46\u001b[0m normalized_tensor_img \u001b[39m=\u001b[39m inv_transforms(batch_data[cnt]\u001b[39m.\u001b[39msqueeze())\n\u001b[1;32m     47\u001b[0m this_img \u001b[39m=\u001b[39m np\u001b[39m.\u001b[39masarray(normalized_tensor_img)\n\u001b[0;32m---> 48\u001b[0m this_img \u001b[39m=\u001b[39m (this_img\u001b[39m*\u001b[39m\u001b[39m255.\u001b[39m\u001b[39m/\u001b[39mnp\u001b[39m.\u001b[39;49mmax(normalized_tensor_img))\u001b[39m.\u001b[39mastype(\u001b[39m'\u001b[39m\u001b[39muint8\u001b[39m\u001b[39m'\u001b[39m)\n\u001b[1;32m     49\u001b[0m plt\u001b[39m.\u001b[39mimshow(this_img\u001b[39m.\u001b[39mtranspose((\u001b[39m1\u001b[39m,\u001b[39m2\u001b[39m,\u001b[39m0\u001b[39m)))\n\u001b[1;32m     50\u001b[0m plt\u001b[39m.\u001b[39mtitle(class_names[\u001b[39mstr\u001b[39m(batch_label[cnt]\u001b[39m.\u001b[39mitem())])\n",
            "File \u001b[0;32m<__array_function__ internals>:200\u001b[0m, in \u001b[0;36mamax\u001b[0;34m(*args, **kwargs)\u001b[0m\n",
            "File \u001b[0;32m~/ERA_V1/venv/lib/python3.10/site-packages/numpy/core/fromnumeric.py:2820\u001b[0m, in \u001b[0;36mamax\u001b[0;34m(a, axis, out, keepdims, initial, where)\u001b[0m\n\u001b[1;32m   2703\u001b[0m \u001b[39m@array_function_dispatch\u001b[39m(_amax_dispatcher)\n\u001b[1;32m   2704\u001b[0m \u001b[39mdef\u001b[39;00m \u001b[39mamax\u001b[39m(a, axis\u001b[39m=\u001b[39m\u001b[39mNone\u001b[39;00m, out\u001b[39m=\u001b[39m\u001b[39mNone\u001b[39;00m, keepdims\u001b[39m=\u001b[39mnp\u001b[39m.\u001b[39m_NoValue, initial\u001b[39m=\u001b[39mnp\u001b[39m.\u001b[39m_NoValue,\n\u001b[1;32m   2705\u001b[0m          where\u001b[39m=\u001b[39mnp\u001b[39m.\u001b[39m_NoValue):\n\u001b[1;32m   2706\u001b[0m \u001b[39m    \u001b[39m\u001b[39m\"\"\"\u001b[39;00m\n\u001b[1;32m   2707\u001b[0m \u001b[39m    Return the maximum of an array or maximum along an axis.\u001b[39;00m\n\u001b[1;32m   2708\u001b[0m \n\u001b[0;32m   (...)\u001b[0m\n\u001b[1;32m   2818\u001b[0m \u001b[39m    5\u001b[39;00m\n\u001b[1;32m   2819\u001b[0m \u001b[39m    \"\"\"\u001b[39;00m\n\u001b[0;32m-> 2820\u001b[0m     \u001b[39mreturn\u001b[39;00m _wrapreduction(a, np\u001b[39m.\u001b[39;49mmaximum, \u001b[39m'\u001b[39;49m\u001b[39mmax\u001b[39;49m\u001b[39m'\u001b[39;49m, axis, \u001b[39mNone\u001b[39;49;00m, out,\n\u001b[1;32m   2821\u001b[0m                           keepdims\u001b[39m=\u001b[39;49mkeepdims, initial\u001b[39m=\u001b[39;49minitial, where\u001b[39m=\u001b[39;49mwhere)\n",
            "File \u001b[0;32m~/ERA_V1/venv/lib/python3.10/site-packages/numpy/core/fromnumeric.py:84\u001b[0m, in \u001b[0;36m_wrapreduction\u001b[0;34m(obj, ufunc, method, axis, dtype, out, **kwargs)\u001b[0m\n\u001b[1;32m     82\u001b[0m             \u001b[39mreturn\u001b[39;00m reduction(axis\u001b[39m=\u001b[39maxis, dtype\u001b[39m=\u001b[39mdtype, out\u001b[39m=\u001b[39mout, \u001b[39m*\u001b[39m\u001b[39m*\u001b[39mpasskwargs)\n\u001b[1;32m     83\u001b[0m         \u001b[39melse\u001b[39;00m:\n\u001b[0;32m---> 84\u001b[0m             \u001b[39mreturn\u001b[39;00m reduction(axis\u001b[39m=\u001b[39;49maxis, out\u001b[39m=\u001b[39;49mout, \u001b[39m*\u001b[39;49m\u001b[39m*\u001b[39;49mpasskwargs)\n\u001b[1;32m     86\u001b[0m \u001b[39mreturn\u001b[39;00m ufunc\u001b[39m.\u001b[39mreduce(obj, axis, dtype, out, \u001b[39m*\u001b[39m\u001b[39m*\u001b[39mpasskwargs)\n",
            "\u001b[0;31mTypeError\u001b[0m: max() received an invalid combination of arguments - got (out=NoneType, axis=NoneType, ), but expected one of:\n * ()\n * (Tensor other)\n * (int dim, bool keepdim)\n      didn't match because some of the keywords were incorrect: out, axis\n * (name dim, bool keepdim)\n      didn't match because some of the keywords were incorrect: out, axis\n"
          ]
        },
        {
          "data": {
            "image/png": "[encoded data removed]",
            "text/plain": [
              "<Figure size 640x480 with 1 Axes>"
            ]
          },
          "metadata": {},
          "output_type": "display_data"
        }
      ],
      "source": [
        "preview_images(train_loader,class_names, num_rows = 5, num_cols = 5)"
      ]
    },
    {
      "attachments": {},
      "cell_type": "markdown",
      "metadata": {
        "id": "FCSVRbYZmmOG"
      },
      "source": [
        "Train model using Batch Normalization"
      ]
    },
    {
      "cell_type": "code",
      "execution_count": null,
      "metadata": {
        "colab": {
          "base_uri": "https://localhost:8080/",
          "height": 1000,
          "referenced_widgets": [
            "532b6f2e7d7a4b4785f05ad6d3874b4d",
            "7dcaf4c4371c4de2b72b94f51b3c090b",
            "f70a35ae2c244fd7ae3367889311dd0c",
            "69d45e99751f4871a911ed61eaddd63e",
            "b9b50157346645c5bd83152885ce5134",
            "08bfea90230d4b408b281fb6cd16b183",
            "619a516d10704da0b6b5b9cb423bca19",
            "efbf4847df1646dcb87c2891e9cd05ff",
            "1dfd6d45b30c4c6eaff60e42d2a724fd",
            "ae5fefc2b7ad4e6faa569788ffef7884",
            "a0289384e92849ada7d36e16a4438c15"
          ]
        },
        "id": "ysHqVyhGZJ27",
        "outputId": "9d56538b-cea2-461d-d0d6-7289e2db354c"
      },
      "outputs": [],
      "source": [
        "drop_out = 0.05\n",
        "num_epochs=24\n",
        "resnet_model = CustomResnet(base_channels=3, num_classes=10, drop_out_probability = drop_out).to(device)\n",
        "criterion = nn.CrossEntropyLoss()\n",
        "optim_obj = Optimization(resnet_model, device, train_loader, criterion)\n",
        "#find_best_lr(resnet_model, train_loader, optim_obj.optimizer, criterion, device)\n"
      ]
    },
    {
      "cell_type": "code",
      "execution_count": null,
      "metadata": {
        "colab": {
          "base_uri": "https://localhost:8080/",
          "height": 452
        },
        "id": "I8RlOADSBX4y",
        "outputId": "6c41ec9f-839f-4737-f167-cbdb72a09143"
      },
      "outputs": [],
      "source": [
        "optim_obj.define_scheduler(max_lr=5.38E-2)\n",
        "train_losses = []\n",
        "test_losses = []\n",
        "train_acc = []\n",
        "test_acc = []\n",
        "\n",
        "for epoch in range(1,num_epochs+1):\n",
        "    print(f\"epoch: {epoch}\")\n",
        "    this_train_loss = training_loop(resnet_model, device, train_loader, optim_obj.optimizer, criterion, train_acc, train_losses)\n",
        "    this_loss = model_test(resnet_model, device, test_loader, criterion, test_acc, test_losses)\n",
        "target_test_acc = 93.\n"
      ]
    },
    {
      "attachments": {},
      "cell_type": "markdown",
      "metadata": {
        "id": "MWzELTZYazCZ"
      },
      "source": [
        "Plot results for Batch Norm experiment"
      ]
    },
    {
      "cell_type": "code",
      "execution_count": null,
      "metadata": {
        "id": "OEU2V5lxayQJ"
      },
      "outputs": [],
      "source": [
        "plot_statistics(train_losses, train_acc, test_losses, test_acc, target_test_acc)\n",
        "incorrect_predictions_bn = get_incorrect_predictions(resnet_model, test_loader, device)\n",
        "show_incorrect_predictions(incorrect_predictions_bn, class_names, num_rows = 2, num_cols = 5)"
      ]
    },
    {
      "attachments": {},
      "cell_type": "markdown",
      "metadata": {
        "id": "b4Uz2jryV3u1"
      },
      "source": [
        "Print Training Log"
      ]
    },
    {
      "cell_type": "code",
      "execution_count": null,
      "metadata": {
        "id": "Ew5n7bbgW1OK"
      },
      "outputs": [],
      "source": [
        "print_train_log(train_acc, test_acc, train_losses, test_losses)"
      ]
    }
  ],
  "metadata": {
    "accelerator": "GPU",
    "colab": {
      "gpuType": "T4",
      "provenance": []
    },
    "kernelspec": {
      "display_name": "Python 3",
      "name": "python3"
    },
    "language_info": {
      "codemirror_mode": {
        "name": "ipython",
        "version": 3
      },
      "file_extension": ".py",
      "mimetype": "text/x-python",
      "name": "python",
      "nbconvert_exporter": "python",
      "pygments_lexer": "ipython3",
      "version": "3.10.6"
    },
    "orig_nbformat": 4,
    "widgets": {
      "application/vnd.jupyter.widget-state+json": {
        "08bfea90230d4b408b281fb6cd16b183": {
          "model_module": "@jupyter-widgets/base",
          "model_module_version": "1.2.0",
          "model_name": "LayoutModel",
          "state": {
            "_model_module": "@jupyter-widgets/base",
            "_model_module_version": "1.2.0",
            "_model_name": "LayoutModel",
            "_view_count": null,
            "_view_module": "@jupyter-widgets/base",
            "_view_module_version": "1.2.0",
            "_view_name": "LayoutView",
            "align_content": null,
            "align_items": null,
            "align_self": null,
            "border": null,
            "bottom": null,
            "display": null,
            "flex": null,
            "flex_flow": null,
            "grid_area": null,
            "grid_auto_columns": null,
            "grid_auto_flow": null,
            "grid_auto_rows": null,
            "grid_column": null,
            "grid_gap": null,
            "grid_row": null,
            "grid_template_areas": null,
            "grid_template_columns": null,
            "grid_template_rows": null,
            "height": null,
            "justify_content": null,
            "justify_items": null,
            "left": null,
            "margin": null,
            "max_height": null,
            "max_width": null,
            "min_height": null,
            "min_width": null,
            "object_fit": null,
            "object_position": null,
            "order": null,
            "overflow": null,
            "overflow_x": null,
            "overflow_y": null,
            "padding": null,
            "right": null,
            "top": null,
            "visibility": null,
            "width": null
          }
        },
        "1dfd6d45b30c4c6eaff60e42d2a724fd": {
          "model_module": "@jupyter-widgets/controls",
          "model_module_version": "1.5.0",
          "model_name": "ProgressStyleModel",
          "state": {
            "_model_module": "@jupyter-widgets/controls",
            "_model_module_version": "1.5.0",
            "_model_name": "ProgressStyleModel",
            "_view_count": null,
            "_view_module": "@jupyter-widgets/base",
            "_view_module_version": "1.2.0",
            "_view_name": "StyleView",
            "bar_color": null,
            "description_width": ""
          }
        },
        "532b6f2e7d7a4b4785f05ad6d3874b4d": {
          "model_module": "@jupyter-widgets/controls",
          "model_module_version": "1.5.0",
          "model_name": "HBoxModel",
          "state": {
            "_dom_classes": [],
            "_model_module": "@jupyter-widgets/controls",
            "_model_module_version": "1.5.0",
            "_model_name": "HBoxModel",
            "_view_count": null,
            "_view_module": "@jupyter-widgets/controls",
            "_view_module_version": "1.5.0",
            "_view_name": "HBoxView",
            "box_style": "",
            "children": [
              "IPY_MODEL_7dcaf4c4371c4de2b72b94f51b3c090b",
              "IPY_MODEL_f70a35ae2c244fd7ae3367889311dd0c",
              "IPY_MODEL_69d45e99751f4871a911ed61eaddd63e"
            ],
            "layout": "IPY_MODEL_b9b50157346645c5bd83152885ce5134"
          }
        },
        "619a516d10704da0b6b5b9cb423bca19": {
          "model_module": "@jupyter-widgets/controls",
          "model_module_version": "1.5.0",
          "model_name": "DescriptionStyleModel",
          "state": {
            "_model_module": "@jupyter-widgets/controls",
            "_model_module_version": "1.5.0",
            "_model_name": "DescriptionStyleModel",
            "_view_count": null,
            "_view_module": "@jupyter-widgets/base",
            "_view_module_version": "1.2.0",
            "_view_name": "StyleView",
            "description_width": ""
          }
        },
        "69d45e99751f4871a911ed61eaddd63e": {
          "model_module": "@jupyter-widgets/controls",
          "model_module_version": "1.5.0",
          "model_name": "HTMLModel",
          "state": {
            "_dom_classes": [],
            "_model_module": "@jupyter-widgets/controls",
            "_model_module_version": "1.5.0",
            "_model_name": "HTMLModel",
            "_view_count": null,
            "_view_module": "@jupyter-widgets/controls",
            "_view_module_version": "1.5.0",
            "_view_name": "HTMLView",
            "description": "",
            "description_tooltip": null,
            "layout": "IPY_MODEL_ae5fefc2b7ad4e6faa569788ffef7884",
            "placeholder": "​",
            "style": "IPY_MODEL_a0289384e92849ada7d36e16a4438c15",
            "value": " 127/200 [00:04&lt;00:02, 29.22it/s]"
          }
        },
        "7dcaf4c4371c4de2b72b94f51b3c090b": {
          "model_module": "@jupyter-widgets/controls",
          "model_module_version": "1.5.0",
          "model_name": "HTMLModel",
          "state": {
            "_dom_classes": [],
            "_model_module": "@jupyter-widgets/controls",
            "_model_module_version": "1.5.0",
            "_model_name": "HTMLModel",
            "_view_count": null,
            "_view_module": "@jupyter-widgets/controls",
            "_view_module_version": "1.5.0",
            "_view_name": "HTMLView",
            "description": "",
            "description_tooltip": null,
            "layout": "IPY_MODEL_08bfea90230d4b408b281fb6cd16b183",
            "placeholder": "​",
            "style": "IPY_MODEL_619a516d10704da0b6b5b9cb423bca19",
            "value": " 64%"
          }
        },
        "a0289384e92849ada7d36e16a4438c15": {
          "model_module": "@jupyter-widgets/controls",
          "model_module_version": "1.5.0",
          "model_name": "DescriptionStyleModel",
          "state": {
            "_model_module": "@jupyter-widgets/controls",
            "_model_module_version": "1.5.0",
            "_model_name": "DescriptionStyleModel",
            "_view_count": null,
            "_view_module": "@jupyter-widgets/base",
            "_view_module_version": "1.2.0",
            "_view_name": "StyleView",
            "description_width": ""
          }
        },
        "ae5fefc2b7ad4e6faa569788ffef7884": {
          "model_module": "@jupyter-widgets/base",
          "model_module_version": "1.2.0",
          "model_name": "LayoutModel",
          "state": {
            "_model_module": "@jupyter-widgets/base",
            "_model_module_version": "1.2.0",
            "_model_name": "LayoutModel",
            "_view_count": null,
            "_view_module": "@jupyter-widgets/base",
            "_view_module_version": "1.2.0",
            "_view_name": "LayoutView",
            "align_content": null,
            "align_items": null,
            "align_self": null,
            "border": null,
            "bottom": null,
            "display": null,
            "flex": null,
            "flex_flow": null,
            "grid_area": null,
            "grid_auto_columns": null,
            "grid_auto_flow": null,
            "grid_auto_rows": null,
            "grid_column": null,
            "grid_gap": null,
            "grid_row": null,
            "grid_template_areas": null,
            "grid_template_columns": null,
            "grid_template_rows": null,
            "height": null,
            "justify_content": null,
            "justify_items": null,
            "left": null,
            "margin": null,
            "max_height": null,
            "max_width": null,
            "min_height": null,
            "min_width": null,
            "object_fit": null,
            "object_position": null,
            "order": null,
            "overflow": null,
            "overflow_x": null,
            "overflow_y": null,
            "padding": null,
            "right": null,
            "top": null,
            "visibility": null,
            "width": null
          }
        },
        "b9b50157346645c5bd83152885ce5134": {
          "model_module": "@jupyter-widgets/base",
          "model_module_version": "1.2.0",
          "model_name": "LayoutModel",
          "state": {
            "_model_module": "@jupyter-widgets/base",
            "_model_module_version": "1.2.0",
            "_model_name": "LayoutModel",
            "_view_count": null,
            "_view_module": "@jupyter-widgets/base",
            "_view_module_version": "1.2.0",
            "_view_name": "LayoutView",
            "align_content": null,
            "align_items": null,
            "align_self": null,
            "border": null,
            "bottom": null,
            "display": null,
            "flex": null,
            "flex_flow": null,
            "grid_area": null,
            "grid_auto_columns": null,
            "grid_auto_flow": null,
            "grid_auto_rows": null,
            "grid_column": null,
            "grid_gap": null,
            "grid_row": null,
            "grid_template_areas": null,
            "grid_template_columns": null,
            "grid_template_rows": null,
            "height": null,
            "justify_content": null,
            "justify_items": null,
            "left": null,
            "margin": null,
            "max_height": null,
            "max_width": null,
            "min_height": null,
            "min_width": null,
            "object_fit": null,
            "object_position": null,
            "order": null,
            "overflow": null,
            "overflow_x": null,
            "overflow_y": null,
            "padding": null,
            "right": null,
            "top": null,
            "visibility": null,
            "width": null
          }
        },
        "efbf4847df1646dcb87c2891e9cd05ff": {
          "model_module": "@jupyter-widgets/base",
          "model_module_version": "1.2.0",
          "model_name": "LayoutModel",
          "state": {
            "_model_module": "@jupyter-widgets/base",
            "_model_module_version": "1.2.0",
            "_model_name": "LayoutModel",
            "_view_count": null,
            "_view_module": "@jupyter-widgets/base",
            "_view_module_version": "1.2.0",
            "_view_name": "LayoutView",
            "align_content": null,
            "align_items": null,
            "align_self": null,
            "border": null,
            "bottom": null,
            "display": null,
            "flex": null,
            "flex_flow": null,
            "grid_area": null,
            "grid_auto_columns": null,
            "grid_auto_flow": null,
            "grid_auto_rows": null,
            "grid_column": null,
            "grid_gap": null,
            "grid_row": null,
            "grid_template_areas": null,
            "grid_template_columns": null,
            "grid_template_rows": null,
            "height": null,
            "justify_content": null,
            "justify_items": null,
            "left": null,
            "margin": null,
            "max_height": null,
            "max_width": null,
            "min_height": null,
            "min_width": null,
            "object_fit": null,
            "object_position": null,
            "order": null,
            "overflow": null,
            "overflow_x": null,
            "overflow_y": null,
            "padding": null,
            "right": null,
            "top": null,
            "visibility": null,
            "width": null
          }
        },
        "f70a35ae2c244fd7ae3367889311dd0c": {
          "model_module": "@jupyter-widgets/controls",
          "model_module_version": "1.5.0",
          "model_name": "FloatProgressModel",
          "state": {
            "_dom_classes": [],
            "_model_module": "@jupyter-widgets/controls",
            "_model_module_version": "1.5.0",
            "_model_name": "FloatProgressModel",
            "_view_count": null,
            "_view_module": "@jupyter-widgets/controls",
            "_view_module_version": "1.5.0",
            "_view_name": "ProgressView",
            "bar_style": "danger",
            "description": "",
            "description_tooltip": null,
            "layout": "IPY_MODEL_efbf4847df1646dcb87c2891e9cd05ff",
            "max": 200,
            "min": 0,
            "orientation": "horizontal",
            "style": "IPY_MODEL_1dfd6d45b30c4c6eaff60e42d2a724fd",
            "value": 127
          }
        }
      }
    }
  },
  "nbformat": 4,
  "nbformat_minor": 0
}
